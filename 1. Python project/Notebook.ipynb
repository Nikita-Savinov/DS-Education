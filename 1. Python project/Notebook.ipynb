{
 "cells": [
  {
   "cell_type": "markdown",
   "metadata": {
    "deletable": false,
    "editable": false,
    "id": "E0vqbgi9ay0H"
   },
   "source": [
    "# Яндекс Музыка"
   ]
  },
  {
   "cell_type": "markdown",
   "metadata": {
    "deletable": false,
    "editable": false,
    "id": "VUC88oWjTJw2"
   },
   "source": [
    "Сравнение Москвы и Петербурга окружено мифами. Например:\n",
    " * Москва — мегаполис, подчинённый жёсткому ритму рабочей недели;\n",
    " * Петербург — культурная столица, со своими вкусами.\n",
    "\n",
    "На данных Яндекс Музыки вы сравните поведение пользователей двух столиц.\n",
    "\n",
    "**Цель исследования** — проверьте три гипотезы:\n",
    "1. Активность пользователей зависит от дня недели. Причём в Москве и Петербурге это проявляется по-разному.\n",
    "2. В понедельник утром в Москве преобладают одни жанры, а в Петербурге — другие. Так же и вечером пятницы преобладают разные жанры — в зависимости от города.\n",
    "3. Москва и Петербург предпочитают разные жанры музыки. В Москве чаще слушают поп-музыку, в Петербурге — русский рэп.\n",
    "\n",
    "**Ход исследования**\n",
    "\n",
    "Данные о поведении пользователей вы получите из файла `yandex_music_project.csv`. О качестве данных ничего не известно. Поэтому перед проверкой гипотез понадобится обзор данных.\n",
    "\n",
    "Вы проверите данные на ошибки и оцените их влияние на исследование. Затем, на этапе предобработки вы поищете возможность исправить самые критичные ошибки данных.\n",
    "\n",
    "Таким образом, исследование пройдёт в три этапа:\n",
    " 1. Обзор данных.\n",
    " 2. Предобработка данных.\n",
    " 3. Проверка гипотез.\n",
    "\n"
   ]
  },
  {
   "cell_type": "markdown",
   "metadata": {
    "deletable": false,
    "editable": false,
    "id": "Ml1hmfXC_Zcs"
   },
   "source": [
    "## Обзор данных\n",
    "\n",
    "Составьте первое представление о данных Яндекс Музыки.\n",
    "\n",
    "\n"
   ]
  },
  {
   "cell_type": "markdown",
   "metadata": {
    "deletable": false,
    "editable": false,
    "id": "57eAOGIz_Zcs",
    "tags": [
     "start_task"
    ]
   },
   "source": [
    "**Задание 1**"
   ]
  },
  {
   "cell_type": "code",
   "execution_count": 1,
   "metadata": {
    "deletable": false,
    "id": "AXN7PHPN_Zcs"
   },
   "outputs": [],
   "source": [
    "import pandas as pd"
   ]
  },
  {
   "cell_type": "markdown",
   "metadata": {
    "deletable": false,
    "editable": false,
    "id": "SG23P8tt_Zcs",
    "tags": [
     "start_task"
    ]
   },
   "source": [
    "**Задание 2**"
   ]
  },
  {
   "cell_type": "code",
   "execution_count": 2,
   "metadata": {
    "deletable": false,
    "id": "fFVu7vqh_Zct"
   },
   "outputs": [],
   "source": [
    "df = pd.read_csv (r\"C:\\Users\\nssavinov\\Desktop\\Пректы практикум\\1 Базовый пайтон\\yandex_music_project.csv\") # чтение файла с данными и сохранение в df"
   ]
  },
  {
   "cell_type": "markdown",
   "metadata": {
    "deletable": false,
    "editable": false,
    "id": "rDoOMd3uTqnZ",
    "tags": [
     "start_task"
    ]
   },
   "source": [
    "**Задание 3**"
   ]
  },
  {
   "cell_type": "code",
   "execution_count": 3,
   "metadata": {
    "deletable": false,
    "id": "oWTVX3gW_Zct"
   },
   "outputs": [
    {
     "data": {
      "text/html": [
       "<div>\n",
       "<style scoped>\n",
       "    .dataframe tbody tr th:only-of-type {\n",
       "        vertical-align: middle;\n",
       "    }\n",
       "\n",
       "    .dataframe tbody tr th {\n",
       "        vertical-align: top;\n",
       "    }\n",
       "\n",
       "    .dataframe thead th {\n",
       "        text-align: right;\n",
       "    }\n",
       "</style>\n",
       "<table border=\"1\" class=\"dataframe\">\n",
       "  <thead>\n",
       "    <tr style=\"text-align: right;\">\n",
       "      <th></th>\n",
       "      <th>userID</th>\n",
       "      <th>Track</th>\n",
       "      <th>artist</th>\n",
       "      <th>genre</th>\n",
       "      <th>City</th>\n",
       "      <th>time</th>\n",
       "      <th>Day</th>\n",
       "    </tr>\n",
       "  </thead>\n",
       "  <tbody>\n",
       "    <tr>\n",
       "      <th>0</th>\n",
       "      <td>FFB692EC</td>\n",
       "      <td>Kamigata To Boots</td>\n",
       "      <td>The Mass Missile</td>\n",
       "      <td>rock</td>\n",
       "      <td>Saint-Petersburg</td>\n",
       "      <td>20:28:33</td>\n",
       "      <td>Wednesday</td>\n",
       "    </tr>\n",
       "    <tr>\n",
       "      <th>1</th>\n",
       "      <td>55204538</td>\n",
       "      <td>Delayed Because of Accident</td>\n",
       "      <td>Andreas Rönnberg</td>\n",
       "      <td>rock</td>\n",
       "      <td>Moscow</td>\n",
       "      <td>14:07:09</td>\n",
       "      <td>Friday</td>\n",
       "    </tr>\n",
       "    <tr>\n",
       "      <th>2</th>\n",
       "      <td>20EC38</td>\n",
       "      <td>Funiculì funiculà</td>\n",
       "      <td>Mario Lanza</td>\n",
       "      <td>pop</td>\n",
       "      <td>Saint-Petersburg</td>\n",
       "      <td>20:58:07</td>\n",
       "      <td>Wednesday</td>\n",
       "    </tr>\n",
       "    <tr>\n",
       "      <th>3</th>\n",
       "      <td>A3DD03C9</td>\n",
       "      <td>Dragons in the Sunset</td>\n",
       "      <td>Fire + Ice</td>\n",
       "      <td>folk</td>\n",
       "      <td>Saint-Petersburg</td>\n",
       "      <td>08:37:09</td>\n",
       "      <td>Monday</td>\n",
       "    </tr>\n",
       "    <tr>\n",
       "      <th>4</th>\n",
       "      <td>E2DC1FAE</td>\n",
       "      <td>Soul People</td>\n",
       "      <td>Space Echo</td>\n",
       "      <td>dance</td>\n",
       "      <td>Moscow</td>\n",
       "      <td>08:34:34</td>\n",
       "      <td>Monday</td>\n",
       "    </tr>\n",
       "    <tr>\n",
       "      <th>5</th>\n",
       "      <td>842029A1</td>\n",
       "      <td>Преданная</td>\n",
       "      <td>IMPERVTOR</td>\n",
       "      <td>rusrap</td>\n",
       "      <td>Saint-Petersburg</td>\n",
       "      <td>13:09:41</td>\n",
       "      <td>Friday</td>\n",
       "    </tr>\n",
       "    <tr>\n",
       "      <th>6</th>\n",
       "      <td>4CB90AA5</td>\n",
       "      <td>True</td>\n",
       "      <td>Roman Messer</td>\n",
       "      <td>dance</td>\n",
       "      <td>Moscow</td>\n",
       "      <td>13:00:07</td>\n",
       "      <td>Wednesday</td>\n",
       "    </tr>\n",
       "    <tr>\n",
       "      <th>7</th>\n",
       "      <td>F03E1C1F</td>\n",
       "      <td>Feeling This Way</td>\n",
       "      <td>Polina Griffith</td>\n",
       "      <td>dance</td>\n",
       "      <td>Moscow</td>\n",
       "      <td>20:47:49</td>\n",
       "      <td>Wednesday</td>\n",
       "    </tr>\n",
       "    <tr>\n",
       "      <th>8</th>\n",
       "      <td>8FA1D3BE</td>\n",
       "      <td>И вновь продолжается бой</td>\n",
       "      <td>NaN</td>\n",
       "      <td>ruspop</td>\n",
       "      <td>Moscow</td>\n",
       "      <td>09:17:40</td>\n",
       "      <td>Friday</td>\n",
       "    </tr>\n",
       "    <tr>\n",
       "      <th>9</th>\n",
       "      <td>E772D5C0</td>\n",
       "      <td>Pessimist</td>\n",
       "      <td>NaN</td>\n",
       "      <td>dance</td>\n",
       "      <td>Saint-Petersburg</td>\n",
       "      <td>21:20:49</td>\n",
       "      <td>Wednesday</td>\n",
       "    </tr>\n",
       "  </tbody>\n",
       "</table>\n",
       "</div>"
      ],
      "text/plain": [
       "     userID                        Track            artist   genre  \\\n",
       "0  FFB692EC            Kamigata To Boots  The Mass Missile    rock   \n",
       "1  55204538  Delayed Because of Accident  Andreas Rönnberg    rock   \n",
       "2    20EC38            Funiculì funiculà       Mario Lanza     pop   \n",
       "3  A3DD03C9        Dragons in the Sunset        Fire + Ice    folk   \n",
       "4  E2DC1FAE                  Soul People        Space Echo   dance   \n",
       "5  842029A1                    Преданная         IMPERVTOR  rusrap   \n",
       "6  4CB90AA5                         True      Roman Messer   dance   \n",
       "7  F03E1C1F             Feeling This Way   Polina Griffith   dance   \n",
       "8  8FA1D3BE     И вновь продолжается бой               NaN  ruspop   \n",
       "9  E772D5C0                    Pessimist               NaN   dance   \n",
       "\n",
       "             City        time        Day  \n",
       "0  Saint-Petersburg  20:28:33  Wednesday  \n",
       "1            Moscow  14:07:09     Friday  \n",
       "2  Saint-Petersburg  20:58:07  Wednesday  \n",
       "3  Saint-Petersburg  08:37:09     Monday  \n",
       "4            Moscow  08:34:34     Monday  \n",
       "5  Saint-Petersburg  13:09:41     Friday  \n",
       "6            Moscow  13:00:07  Wednesday  \n",
       "7            Moscow  20:47:49  Wednesday  \n",
       "8            Moscow  09:17:40     Friday  \n",
       "9  Saint-Petersburg  21:20:49  Wednesday  "
      ]
     },
     "execution_count": 3,
     "metadata": {},
     "output_type": "execute_result"
    }
   ],
   "source": [
    "df.head(10) # получение первых 10 строк таблицы df"
   ]
  },
  {
   "cell_type": "markdown",
   "metadata": {
    "deletable": false,
    "editable": false,
    "id": "EO73Kwic_Zct",
    "tags": [
     "start_task"
    ]
   },
   "source": [
    "**Задание 4**"
   ]
  },
  {
   "cell_type": "code",
   "execution_count": 4,
   "metadata": {
    "deletable": false,
    "id": "DSf2kIb-_Zct"
   },
   "outputs": [
    {
     "name": "stdout",
     "output_type": "stream",
     "text": [
      "<class 'pandas.core.frame.DataFrame'>\n",
      "RangeIndex: 65079 entries, 0 to 65078\n",
      "Data columns (total 7 columns):\n",
      " #   Column    Non-Null Count  Dtype \n",
      "---  ------    --------------  ----- \n",
      " 0     userID  65079 non-null  object\n",
      " 1   Track     63848 non-null  object\n",
      " 2   artist    57876 non-null  object\n",
      " 3   genre     63881 non-null  object\n",
      " 4     City    65079 non-null  object\n",
      " 5   time      65079 non-null  object\n",
      " 6   Day       65079 non-null  object\n",
      "dtypes: object(7)\n",
      "memory usage: 3.5+ MB\n"
     ]
    }
   ],
   "source": [
    "df.info() # получение общей информации о данных в таблице df"
   ]
  },
  {
   "cell_type": "markdown",
   "metadata": {
    "deletable": false,
    "editable": false,
    "id": "TaQ2Iwbr_Zct"
   },
   "source": [
    "Количество значений в столбцах различается. Значит, в данных есть пропущенные значения."
   ]
  },
  {
   "cell_type": "markdown",
   "metadata": {
    "deletable": false,
    "editable": false,
    "id": "4P0UCWzswgEm",
    "tags": [
     "start_task"
    ]
   },
   "source": [
    "**Задание 5**"
   ]
  },
  {
   "cell_type": "code",
   "execution_count": 5,
   "metadata": {
    "id": "c137-ZstwgEm"
   },
   "outputs": [],
   "source": [
    "# Напишите ваш ответ здесь комментарием. Не удаляйте символ #. Не меняйте тип этой ячейки на Markdown. Комментарий: всего стро: 65079, в других количество меньше, более того основополагающим значинием является жанр. "
   ]
  },
  {
   "cell_type": "markdown",
   "metadata": {
    "deletable": false,
    "editable": false,
    "id": "MCB6-dXG_Zct"
   },
   "source": [
    "**Выводы**\n",
    "\n",
    "В каждой строке таблицы — данные о прослушанном треке. Часть колонок описывает саму композицию: название, исполнителя и жанр. Остальные данные рассказывают о пользователе: из какого он города, когда он слушал музыку.\n",
    "\n",
    "Предварительно можно утверждать, что данных достаточно для проверки гипотез. Но встречаются пропуски в данных, а в названиях колонок — расхождения с хорошим стилем.\n",
    "\n",
    "Чтобы двигаться дальше, нужно устранить проблемы в данных."
   ]
  },
  {
   "cell_type": "markdown",
   "metadata": {
    "deletable": false,
    "editable": false,
    "id": "SjYF6Ub9_Zct"
   },
   "source": [
    "## Предобработка данных"
   ]
  },
  {
   "cell_type": "markdown",
   "metadata": {
    "deletable": false,
    "editable": false,
    "id": "dIaKXr29_Zct",
    "tags": [
     "start_task"
    ]
   },
   "source": [
    "### Переименование столбцов\n",
    "\n",
    "**Задание 6**"
   ]
  },
  {
   "cell_type": "code",
   "execution_count": 6,
   "metadata": {
    "deletable": false,
    "id": "oKOTdF_Q_Zct"
   },
   "outputs": [
    {
     "data": {
      "text/plain": [
       "Index(['  userID', 'Track', 'artist', 'genre', '  City  ', 'time', 'Day'], dtype='object')"
      ]
     },
     "execution_count": 6,
     "metadata": {},
     "output_type": "execute_result"
    }
   ],
   "source": [
    "df.columns# перечень названий столбцов таблицы df"
   ]
  },
  {
   "cell_type": "markdown",
   "metadata": {
    "deletable": false,
    "editable": false,
    "id": "zj5534cv_Zct",
    "tags": [
     "start_task"
    ]
   },
   "source": [
    "**Задание 7**"
   ]
  },
  {
   "cell_type": "code",
   "execution_count": 7,
   "metadata": {
    "deletable": false,
    "id": "ISlFqs5y_Zct"
   },
   "outputs": [],
   "source": [
    "df = df.rename (columns = {'  userID': 'user_id', 'Track' : 'track', '  City  ' : 'city', 'Day' : 'day'}) # переименование столбцов"
   ]
  },
  {
   "cell_type": "markdown",
   "metadata": {
    "deletable": false,
    "editable": false,
    "id": "1dqbh00J_Zct",
    "tags": [
     "start_task"
    ]
   },
   "source": [
    "**Задание 8**"
   ]
  },
  {
   "cell_type": "code",
   "execution_count": 8,
   "metadata": {
    "deletable": false,
    "id": "d4NOAmTW_Zct"
   },
   "outputs": [
    {
     "data": {
      "text/plain": [
       "Index(['user_id', 'track', 'artist', 'genre', 'city', 'time', 'day'], dtype='object')"
      ]
     },
     "execution_count": 8,
     "metadata": {},
     "output_type": "execute_result"
    }
   ],
   "source": [
    "df.columns # проверка результатов - перечень названий столбцов"
   ]
  },
  {
   "cell_type": "markdown",
   "metadata": {
    "deletable": false,
    "editable": false,
    "id": "5ISfbcfY_Zct",
    "tags": [
     "start_task"
    ]
   },
   "source": [
    "### Обработка пропущенных значений\n",
    "\n",
    "**Задание 9**"
   ]
  },
  {
   "cell_type": "code",
   "execution_count": 9,
   "metadata": {
    "deletable": false,
    "id": "RskX29qr_Zct"
   },
   "outputs": [
    {
     "data": {
      "text/plain": [
       "user_id       0\n",
       "track      1231\n",
       "artist     7203\n",
       "genre      1198\n",
       "city          0\n",
       "time          0\n",
       "day           0\n",
       "dtype: int64"
      ]
     },
     "execution_count": 9,
     "metadata": {},
     "output_type": "execute_result"
    }
   ],
   "source": [
    "df.isna().sum() # подсчёт пропусков"
   ]
  },
  {
   "cell_type": "markdown",
   "metadata": {
    "deletable": false,
    "editable": false,
    "id": "fSv2laPA_Zct",
    "tags": [
     "start_task"
    ]
   },
   "source": [
    "**Задание 10**"
   ]
  },
  {
   "cell_type": "code",
   "execution_count": 10,
   "metadata": {
    "deletable": false,
    "id": "KplB5qWs_Zct"
   },
   "outputs": [],
   "source": [
    "df = df.fillna('unknown')# замена пропущенных значений на 'unknown'"
   ]
  },
  {
   "cell_type": "markdown",
   "metadata": {
    "deletable": false,
    "editable": false,
    "id": "Ilsm-MZo_Zct",
    "tags": [
     "start_task"
    ]
   },
   "source": [
    "**Задание 11**"
   ]
  },
  {
   "cell_type": "code",
   "execution_count": 11,
   "metadata": {
    "deletable": false,
    "id": "Tq4nYRX4_Zct"
   },
   "outputs": [
    {
     "data": {
      "text/plain": [
       "user_id    0\n",
       "track      0\n",
       "artist     0\n",
       "genre      0\n",
       "city       0\n",
       "time       0\n",
       "day        0\n",
       "dtype: int64"
      ]
     },
     "execution_count": 11,
     "metadata": {},
     "output_type": "execute_result"
    }
   ],
   "source": [
    "df.isna().sum()# проверка на отсутствие пропусков"
   ]
  },
  {
   "cell_type": "markdown",
   "metadata": {
    "deletable": false,
    "editable": false,
    "id": "BWKRtBJ3_Zct",
    "tags": [
     "start_task"
    ]
   },
   "source": [
    "### Обработка дубликатов\n",
    "\n",
    "**Задание 12**"
   ]
  },
  {
   "cell_type": "code",
   "execution_count": 12,
   "metadata": {
    "deletable": false,
    "id": "36eES_S0_Zct"
   },
   "outputs": [
    {
     "data": {
      "text/plain": [
       "3826"
      ]
     },
     "execution_count": 12,
     "metadata": {},
     "output_type": "execute_result"
    }
   ],
   "source": [
    "df.duplicated().sum()# подсчёт явных дубликатов"
   ]
  },
  {
   "cell_type": "markdown",
   "metadata": {
    "deletable": false,
    "editable": false,
    "id": "Ot25h6XR_Zct",
    "tags": [
     "start_task"
    ]
   },
   "source": [
    "**Задание 13**"
   ]
  },
  {
   "cell_type": "code",
   "execution_count": 13,
   "metadata": {
    "deletable": false,
    "id": "exFHq6tt_Zct"
   },
   "outputs": [],
   "source": [
    "df = df.drop_duplicates().reset_index(drop=True) # удаление явных дубликатов, создание новых индексов и удаление старых"
   ]
  },
  {
   "cell_type": "markdown",
   "metadata": {
    "deletable": false,
    "editable": false,
    "id": "Im2YwBEG_Zct",
    "tags": [
     "start_task"
    ]
   },
   "source": [
    "**Задание 14**"
   ]
  },
  {
   "cell_type": "code",
   "execution_count": 14,
   "metadata": {
    "deletable": false,
    "id": "-8PuNWQ0_Zct",
    "scrolled": true
   },
   "outputs": [
    {
     "data": {
      "text/plain": [
       "0"
      ]
     },
     "execution_count": 14,
     "metadata": {},
     "output_type": "execute_result"
    }
   ],
   "source": [
    "df.duplicated().sum()# проверка на отсутствие явных дубликатов"
   ]
  },
  {
   "cell_type": "markdown",
   "metadata": {
    "deletable": false,
    "editable": false,
    "id": "eSjWwsOh_Zct",
    "tags": [
     "start_task"
    ]
   },
   "source": [
    "**Задание 15**"
   ]
  },
  {
   "cell_type": "code",
   "execution_count": 15,
   "metadata": {
    "deletable": false,
    "id": "JIUcqzZN_Zct"
   },
   "outputs": [
    {
     "data": {
      "text/plain": [
       "['acid',\n",
       " 'acoustic',\n",
       " 'action',\n",
       " 'adult',\n",
       " 'africa',\n",
       " 'afrikaans',\n",
       " 'alternative',\n",
       " 'alternativepunk',\n",
       " 'ambient',\n",
       " 'americana',\n",
       " 'animated',\n",
       " 'anime',\n",
       " 'arabesk',\n",
       " 'arabic',\n",
       " 'arena',\n",
       " 'argentinetango',\n",
       " 'art',\n",
       " 'audiobook',\n",
       " 'author',\n",
       " 'avantgarde',\n",
       " 'axé',\n",
       " 'baile',\n",
       " 'balkan',\n",
       " 'beats',\n",
       " 'bigroom',\n",
       " 'black',\n",
       " 'bluegrass',\n",
       " 'blues',\n",
       " 'bollywood',\n",
       " 'bossa',\n",
       " 'brazilian',\n",
       " 'breakbeat',\n",
       " 'breaks',\n",
       " 'broadway',\n",
       " 'cantautori',\n",
       " 'cantopop',\n",
       " 'canzone',\n",
       " 'caribbean',\n",
       " 'caucasian',\n",
       " 'celtic',\n",
       " 'chamber',\n",
       " 'chanson',\n",
       " 'children',\n",
       " 'chill',\n",
       " 'chinese',\n",
       " 'choral',\n",
       " 'christian',\n",
       " 'christmas',\n",
       " 'classical',\n",
       " 'classicmetal',\n",
       " 'club',\n",
       " 'colombian',\n",
       " 'comedy',\n",
       " 'conjazz',\n",
       " 'contemporary',\n",
       " 'country',\n",
       " 'cuban',\n",
       " 'dance',\n",
       " 'dancehall',\n",
       " 'dancepop',\n",
       " 'dark',\n",
       " 'death',\n",
       " 'deep',\n",
       " 'deutschrock',\n",
       " 'deutschspr',\n",
       " 'dirty',\n",
       " 'disco',\n",
       " 'dnb',\n",
       " 'documentary',\n",
       " 'downbeat',\n",
       " 'downtempo',\n",
       " 'drum',\n",
       " 'dub',\n",
       " 'dubstep',\n",
       " 'eastern',\n",
       " 'easy',\n",
       " 'electronic',\n",
       " 'electropop',\n",
       " 'emo',\n",
       " 'entehno',\n",
       " 'epicmetal',\n",
       " 'estrada',\n",
       " 'ethnic',\n",
       " 'eurofolk',\n",
       " 'european',\n",
       " 'experimental',\n",
       " 'extrememetal',\n",
       " 'fado',\n",
       " 'fairytail',\n",
       " 'film',\n",
       " 'fitness',\n",
       " 'flamenco',\n",
       " 'folk',\n",
       " 'folklore',\n",
       " 'folkmetal',\n",
       " 'folkrock',\n",
       " 'folktronica',\n",
       " 'forró',\n",
       " 'frankreich',\n",
       " 'französisch',\n",
       " 'french',\n",
       " 'funk',\n",
       " 'future',\n",
       " 'gangsta',\n",
       " 'garage',\n",
       " 'german',\n",
       " 'ghazal',\n",
       " 'gitarre',\n",
       " 'glitch',\n",
       " 'gospel',\n",
       " 'gothic',\n",
       " 'grime',\n",
       " 'grunge',\n",
       " 'gypsy',\n",
       " 'handsup',\n",
       " \"hard'n'heavy\",\n",
       " 'hardcore',\n",
       " 'hardstyle',\n",
       " 'hardtechno',\n",
       " 'hip',\n",
       " 'hip-hop',\n",
       " 'hiphop',\n",
       " 'historisch',\n",
       " 'holiday',\n",
       " 'hop',\n",
       " 'horror',\n",
       " 'house',\n",
       " 'hymn',\n",
       " 'idm',\n",
       " 'independent',\n",
       " 'indian',\n",
       " 'indie',\n",
       " 'indipop',\n",
       " 'industrial',\n",
       " 'inspirational',\n",
       " 'instrumental',\n",
       " 'international',\n",
       " 'irish',\n",
       " 'jam',\n",
       " 'japanese',\n",
       " 'jazz',\n",
       " 'jewish',\n",
       " 'jpop',\n",
       " 'jungle',\n",
       " 'k-pop',\n",
       " 'karadeniz',\n",
       " 'karaoke',\n",
       " 'kayokyoku',\n",
       " 'korean',\n",
       " 'laiko',\n",
       " 'latin',\n",
       " 'latino',\n",
       " 'leftfield',\n",
       " 'local',\n",
       " 'lounge',\n",
       " 'loungeelectronic',\n",
       " 'lovers',\n",
       " 'malaysian',\n",
       " 'mandopop',\n",
       " 'marschmusik',\n",
       " 'meditative',\n",
       " 'mediterranean',\n",
       " 'melodic',\n",
       " 'metal',\n",
       " 'metalcore',\n",
       " 'mexican',\n",
       " 'middle',\n",
       " 'minimal',\n",
       " 'miscellaneous',\n",
       " 'modern',\n",
       " 'mood',\n",
       " 'mpb',\n",
       " 'muslim',\n",
       " 'native',\n",
       " 'neoklassik',\n",
       " 'neue',\n",
       " 'new',\n",
       " 'newage',\n",
       " 'newwave',\n",
       " 'nu',\n",
       " 'nujazz',\n",
       " 'numetal',\n",
       " 'oceania',\n",
       " 'old',\n",
       " 'opera',\n",
       " 'orchestral',\n",
       " 'other',\n",
       " 'piano',\n",
       " 'podcasts',\n",
       " 'pop',\n",
       " 'popdance',\n",
       " 'popelectronic',\n",
       " 'popeurodance',\n",
       " 'poprussian',\n",
       " 'post',\n",
       " 'posthardcore',\n",
       " 'postrock',\n",
       " 'power',\n",
       " 'progmetal',\n",
       " 'progressive',\n",
       " 'psychedelic',\n",
       " 'punjabi',\n",
       " 'punk',\n",
       " 'quebecois',\n",
       " 'ragga',\n",
       " 'ram',\n",
       " 'rancheras',\n",
       " 'rap',\n",
       " 'rave',\n",
       " 'reggae',\n",
       " 'reggaeton',\n",
       " 'regional',\n",
       " 'relax',\n",
       " 'religious',\n",
       " 'retro',\n",
       " 'rhythm',\n",
       " 'rnb',\n",
       " 'rnr',\n",
       " 'rock',\n",
       " 'rockabilly',\n",
       " 'rockalternative',\n",
       " 'rockindie',\n",
       " 'rockother',\n",
       " 'romance',\n",
       " 'roots',\n",
       " 'ruspop',\n",
       " 'rusrap',\n",
       " 'rusrock',\n",
       " 'russian',\n",
       " 'salsa',\n",
       " 'samba',\n",
       " 'scenic',\n",
       " 'schlager',\n",
       " 'self',\n",
       " 'sertanejo',\n",
       " 'shanson',\n",
       " 'shoegazing',\n",
       " 'showtunes',\n",
       " 'singer',\n",
       " 'ska',\n",
       " 'skarock',\n",
       " 'slow',\n",
       " 'smooth',\n",
       " 'soft',\n",
       " 'soul',\n",
       " 'soulful',\n",
       " 'sound',\n",
       " 'soundtrack',\n",
       " 'southern',\n",
       " 'specialty',\n",
       " 'speech',\n",
       " 'spiritual',\n",
       " 'sport',\n",
       " 'stonerrock',\n",
       " 'surf',\n",
       " 'swing',\n",
       " 'synthpop',\n",
       " 'synthrock',\n",
       " 'sängerportrait',\n",
       " 'tango',\n",
       " 'tanzorchester',\n",
       " 'taraftar',\n",
       " 'tatar',\n",
       " 'tech',\n",
       " 'techno',\n",
       " 'teen',\n",
       " 'thrash',\n",
       " 'top',\n",
       " 'traditional',\n",
       " 'tradjazz',\n",
       " 'trance',\n",
       " 'tribal',\n",
       " 'trip',\n",
       " 'triphop',\n",
       " 'tropical',\n",
       " 'türk',\n",
       " 'türkçe',\n",
       " 'ukrrock',\n",
       " 'unknown',\n",
       " 'urban',\n",
       " 'uzbek',\n",
       " 'variété',\n",
       " 'vi',\n",
       " 'videogame',\n",
       " 'vocal',\n",
       " 'western',\n",
       " 'world',\n",
       " 'worldbeat',\n",
       " 'ïîï',\n",
       " 'электроника']"
      ]
     },
     "execution_count": 15,
     "metadata": {},
     "output_type": "execute_result"
    }
   ],
   "source": [
    "sorted(df['genre'].unique()) # просмотр уникальных отсортированных названий жанров"
   ]
  },
  {
   "cell_type": "markdown",
   "metadata": {
    "deletable": false,
    "editable": false,
    "id": "qej-Qmuo_Zct",
    "tags": [
     "start_task"
    ]
   },
   "source": [
    "**Задание 16**"
   ]
  },
  {
   "cell_type": "code",
   "execution_count": 16,
   "metadata": {
    "deletable": false,
    "id": "ErNDkmns_Zct"
   },
   "outputs": [],
   "source": [
    "wrong = ['hip' , 'hop', 'hip-hop']\n",
    "df['genre'] = df['genre'].replace (wrong, 'hiphop') # устранение неявных дубликатов"
   ]
  },
  {
   "cell_type": "markdown",
   "metadata": {
    "deletable": false,
    "editable": false,
    "id": "zQKF16_RG15m",
    "tags": [
     "start_task"
    ]
   },
   "source": [
    "**Задание 17**"
   ]
  },
  {
   "cell_type": "code",
   "execution_count": 17,
   "metadata": {
    "deletable": false,
    "id": "wvixALnFG15m"
   },
   "outputs": [
    {
     "data": {
      "text/plain": [
       "['acid',\n",
       " 'acoustic',\n",
       " 'action',\n",
       " 'adult',\n",
       " 'africa',\n",
       " 'afrikaans',\n",
       " 'alternative',\n",
       " 'alternativepunk',\n",
       " 'ambient',\n",
       " 'americana',\n",
       " 'animated',\n",
       " 'anime',\n",
       " 'arabesk',\n",
       " 'arabic',\n",
       " 'arena',\n",
       " 'argentinetango',\n",
       " 'art',\n",
       " 'audiobook',\n",
       " 'author',\n",
       " 'avantgarde',\n",
       " 'axé',\n",
       " 'baile',\n",
       " 'balkan',\n",
       " 'beats',\n",
       " 'bigroom',\n",
       " 'black',\n",
       " 'bluegrass',\n",
       " 'blues',\n",
       " 'bollywood',\n",
       " 'bossa',\n",
       " 'brazilian',\n",
       " 'breakbeat',\n",
       " 'breaks',\n",
       " 'broadway',\n",
       " 'cantautori',\n",
       " 'cantopop',\n",
       " 'canzone',\n",
       " 'caribbean',\n",
       " 'caucasian',\n",
       " 'celtic',\n",
       " 'chamber',\n",
       " 'chanson',\n",
       " 'children',\n",
       " 'chill',\n",
       " 'chinese',\n",
       " 'choral',\n",
       " 'christian',\n",
       " 'christmas',\n",
       " 'classical',\n",
       " 'classicmetal',\n",
       " 'club',\n",
       " 'colombian',\n",
       " 'comedy',\n",
       " 'conjazz',\n",
       " 'contemporary',\n",
       " 'country',\n",
       " 'cuban',\n",
       " 'dance',\n",
       " 'dancehall',\n",
       " 'dancepop',\n",
       " 'dark',\n",
       " 'death',\n",
       " 'deep',\n",
       " 'deutschrock',\n",
       " 'deutschspr',\n",
       " 'dirty',\n",
       " 'disco',\n",
       " 'dnb',\n",
       " 'documentary',\n",
       " 'downbeat',\n",
       " 'downtempo',\n",
       " 'drum',\n",
       " 'dub',\n",
       " 'dubstep',\n",
       " 'eastern',\n",
       " 'easy',\n",
       " 'electronic',\n",
       " 'electropop',\n",
       " 'emo',\n",
       " 'entehno',\n",
       " 'epicmetal',\n",
       " 'estrada',\n",
       " 'ethnic',\n",
       " 'eurofolk',\n",
       " 'european',\n",
       " 'experimental',\n",
       " 'extrememetal',\n",
       " 'fado',\n",
       " 'fairytail',\n",
       " 'film',\n",
       " 'fitness',\n",
       " 'flamenco',\n",
       " 'folk',\n",
       " 'folklore',\n",
       " 'folkmetal',\n",
       " 'folkrock',\n",
       " 'folktronica',\n",
       " 'forró',\n",
       " 'frankreich',\n",
       " 'französisch',\n",
       " 'french',\n",
       " 'funk',\n",
       " 'future',\n",
       " 'gangsta',\n",
       " 'garage',\n",
       " 'german',\n",
       " 'ghazal',\n",
       " 'gitarre',\n",
       " 'glitch',\n",
       " 'gospel',\n",
       " 'gothic',\n",
       " 'grime',\n",
       " 'grunge',\n",
       " 'gypsy',\n",
       " 'handsup',\n",
       " \"hard'n'heavy\",\n",
       " 'hardcore',\n",
       " 'hardstyle',\n",
       " 'hardtechno',\n",
       " 'hiphop',\n",
       " 'historisch',\n",
       " 'holiday',\n",
       " 'horror',\n",
       " 'house',\n",
       " 'hymn',\n",
       " 'idm',\n",
       " 'independent',\n",
       " 'indian',\n",
       " 'indie',\n",
       " 'indipop',\n",
       " 'industrial',\n",
       " 'inspirational',\n",
       " 'instrumental',\n",
       " 'international',\n",
       " 'irish',\n",
       " 'jam',\n",
       " 'japanese',\n",
       " 'jazz',\n",
       " 'jewish',\n",
       " 'jpop',\n",
       " 'jungle',\n",
       " 'k-pop',\n",
       " 'karadeniz',\n",
       " 'karaoke',\n",
       " 'kayokyoku',\n",
       " 'korean',\n",
       " 'laiko',\n",
       " 'latin',\n",
       " 'latino',\n",
       " 'leftfield',\n",
       " 'local',\n",
       " 'lounge',\n",
       " 'loungeelectronic',\n",
       " 'lovers',\n",
       " 'malaysian',\n",
       " 'mandopop',\n",
       " 'marschmusik',\n",
       " 'meditative',\n",
       " 'mediterranean',\n",
       " 'melodic',\n",
       " 'metal',\n",
       " 'metalcore',\n",
       " 'mexican',\n",
       " 'middle',\n",
       " 'minimal',\n",
       " 'miscellaneous',\n",
       " 'modern',\n",
       " 'mood',\n",
       " 'mpb',\n",
       " 'muslim',\n",
       " 'native',\n",
       " 'neoklassik',\n",
       " 'neue',\n",
       " 'new',\n",
       " 'newage',\n",
       " 'newwave',\n",
       " 'nu',\n",
       " 'nujazz',\n",
       " 'numetal',\n",
       " 'oceania',\n",
       " 'old',\n",
       " 'opera',\n",
       " 'orchestral',\n",
       " 'other',\n",
       " 'piano',\n",
       " 'podcasts',\n",
       " 'pop',\n",
       " 'popdance',\n",
       " 'popelectronic',\n",
       " 'popeurodance',\n",
       " 'poprussian',\n",
       " 'post',\n",
       " 'posthardcore',\n",
       " 'postrock',\n",
       " 'power',\n",
       " 'progmetal',\n",
       " 'progressive',\n",
       " 'psychedelic',\n",
       " 'punjabi',\n",
       " 'punk',\n",
       " 'quebecois',\n",
       " 'ragga',\n",
       " 'ram',\n",
       " 'rancheras',\n",
       " 'rap',\n",
       " 'rave',\n",
       " 'reggae',\n",
       " 'reggaeton',\n",
       " 'regional',\n",
       " 'relax',\n",
       " 'religious',\n",
       " 'retro',\n",
       " 'rhythm',\n",
       " 'rnb',\n",
       " 'rnr',\n",
       " 'rock',\n",
       " 'rockabilly',\n",
       " 'rockalternative',\n",
       " 'rockindie',\n",
       " 'rockother',\n",
       " 'romance',\n",
       " 'roots',\n",
       " 'ruspop',\n",
       " 'rusrap',\n",
       " 'rusrock',\n",
       " 'russian',\n",
       " 'salsa',\n",
       " 'samba',\n",
       " 'scenic',\n",
       " 'schlager',\n",
       " 'self',\n",
       " 'sertanejo',\n",
       " 'shanson',\n",
       " 'shoegazing',\n",
       " 'showtunes',\n",
       " 'singer',\n",
       " 'ska',\n",
       " 'skarock',\n",
       " 'slow',\n",
       " 'smooth',\n",
       " 'soft',\n",
       " 'soul',\n",
       " 'soulful',\n",
       " 'sound',\n",
       " 'soundtrack',\n",
       " 'southern',\n",
       " 'specialty',\n",
       " 'speech',\n",
       " 'spiritual',\n",
       " 'sport',\n",
       " 'stonerrock',\n",
       " 'surf',\n",
       " 'swing',\n",
       " 'synthpop',\n",
       " 'synthrock',\n",
       " 'sängerportrait',\n",
       " 'tango',\n",
       " 'tanzorchester',\n",
       " 'taraftar',\n",
       " 'tatar',\n",
       " 'tech',\n",
       " 'techno',\n",
       " 'teen',\n",
       " 'thrash',\n",
       " 'top',\n",
       " 'traditional',\n",
       " 'tradjazz',\n",
       " 'trance',\n",
       " 'tribal',\n",
       " 'trip',\n",
       " 'triphop',\n",
       " 'tropical',\n",
       " 'türk',\n",
       " 'türkçe',\n",
       " 'ukrrock',\n",
       " 'unknown',\n",
       " 'urban',\n",
       " 'uzbek',\n",
       " 'variété',\n",
       " 'vi',\n",
       " 'videogame',\n",
       " 'vocal',\n",
       " 'western',\n",
       " 'world',\n",
       " 'worldbeat',\n",
       " 'ïîï',\n",
       " 'электроника']"
      ]
     },
     "execution_count": 17,
     "metadata": {},
     "output_type": "execute_result"
    }
   ],
   "source": [
    "sorted(df['genre'].unique())# проверка на отсутствие неявных дубликатов"
   ]
  },
  {
   "cell_type": "markdown",
   "metadata": {
    "deletable": false,
    "editable": false,
    "id": "jz6a9-7HQUDd"
   },
   "source": [
    "**Выводы**\n",
    "\n",
    "Предобработка обнаружила три проблемы в данных:\n",
    "\n",
    "- нарушения в стиле заголовков,\n",
    "- пропущенные значения,\n",
    "- дубликаты — явные и неявные.\n",
    "\n",
    "Вы исправили заголовки, чтобы упростить работу с таблицей. Без дубликатов исследование станет более точным.\n",
    "\n",
    "Пропущенные значения вы заменили на `'unknown'`. Ещё предстоит увидеть, не повредят ли исследованию пропуски в колонке `genre`.\n",
    "\n",
    "Теперь можно перейти к проверке гипотез."
   ]
  },
  {
   "cell_type": "markdown",
   "metadata": {
    "deletable": false,
    "editable": false,
    "id": "WttZHXH0SqKk"
   },
   "source": [
    "## Проверка гипотез"
   ]
  },
  {
   "cell_type": "markdown",
   "metadata": {
    "deletable": false,
    "editable": false,
    "id": "Im936VVi_Zcu"
   },
   "source": [
    "### Сравнение поведения пользователей двух столиц"
   ]
  },
  {
   "cell_type": "markdown",
   "metadata": {
    "deletable": false,
    "editable": false,
    "id": "nwt_MuaL_Zcu"
   },
   "source": [
    "Первая гипотеза утверждает, что пользователи по-разному слушают музыку в Москве и Санкт-Петербурге. Проверим это предположение по данным о трёх днях недели — понедельнике, среде и пятнице. Для этого:\n",
    "\n",
    "* Разделим пользователей Москвы и Санкт-Петербурга.\n",
    "* Сравним, сколько треков послушала каждая группа пользователей в понедельник, среду и пятницу.\n"
   ]
  },
  {
   "cell_type": "markdown",
   "metadata": {
    "deletable": false,
    "id": "8Dw_YMmT_Zcu",
    "tags": [
     "start_task"
    ]
   },
   "source": [
    "**Задание 18**\n",
    "\n"
   ]
  },
  {
   "cell_type": "code",
   "execution_count": 18,
   "metadata": {
    "deletable": false,
    "id": "0_Qs96oh_Zcu"
   },
   "outputs": [
    {
     "data": {
      "text/plain": [
       "city\n",
       "Moscow              42741\n",
       "Saint-Petersburg    18512\n",
       "Name: genre, dtype: int64"
      ]
     },
     "execution_count": 18,
     "metadata": {},
     "output_type": "execute_result"
    }
   ],
   "source": [
    "df.groupby('city')['genre'].count() # подсчёт прослушиваний в каждом городе"
   ]
  },
  {
   "cell_type": "markdown",
   "metadata": {
    "id": "dzli3w8o_Zcu",
    "tags": [
     "start_task"
    ]
   },
   "source": [
    "**Задание 19**\n"
   ]
  },
  {
   "cell_type": "code",
   "execution_count": 19,
   "metadata": {
    "deletable": false,
    "id": "uZMKjiJz_Zcu"
   },
   "outputs": [
    {
     "data": {
      "text/plain": [
       "day\n",
       "Friday       21840\n",
       "Monday       21354\n",
       "Wednesday    18059\n",
       "Name: genre, dtype: int64"
      ]
     },
     "execution_count": 19,
     "metadata": {},
     "output_type": "execute_result"
    }
   ],
   "source": [
    "df.groupby('day')['genre'].count() # подсчёт прослушиваний в каждый из трёх дней"
   ]
  },
  {
   "cell_type": "markdown",
   "metadata": {
    "deletable": false,
    "editable": false,
    "id": "POzs8bGa_Zcu",
    "tags": [
     "start_task"
    ]
   },
   "source": [
    "**Задание 20**"
   ]
  },
  {
   "cell_type": "code",
   "execution_count": 20,
   "metadata": {
    "deletable": false,
    "id": "Nz3GdQB1_Zcu"
   },
   "outputs": [],
   "source": [
    "def number_tracks(day, city):\n",
    "    track_list = df[ df['day'] == day]                    # выберите только строки df со значением переменной day в столбце day\n",
    "    track_list = track_list[ track_list['city'] == city]  # выберите только строки track_list со значением переменной city в столбце city\n",
    "    track_list_count = track_list['user_id'].count()      # вызовите метод подсчета строк для track_list и выберите столбец user_id\n",
    "    return track_list_count                               # верните значение track_list_count из функции"
   ]
  },
  {
   "cell_type": "markdown",
   "metadata": {
    "deletable": false,
    "editable": false,
    "id": "ytf7xFrFJQ2r",
    "tags": [
     "start_task"
    ]
   },
   "source": [
    "**Задание 21**"
   ]
  },
  {
   "cell_type": "code",
   "execution_count": 21,
   "metadata": {
    "deletable": false,
    "id": "rJcRATNQ_Zcu",
    "scrolled": true
   },
   "outputs": [
    {
     "data": {
      "text/plain": [
       "15740"
      ]
     },
     "execution_count": 21,
     "metadata": {},
     "output_type": "execute_result"
    }
   ],
   "source": [
    "number_tracks ('Monday','Moscow')# количество прослушиваний в Москве по понедельникам"
   ]
  },
  {
   "cell_type": "code",
   "execution_count": 22,
   "metadata": {
    "deletable": false,
    "id": "hq_ncZ5T_Zcu"
   },
   "outputs": [
    {
     "data": {
      "text/plain": [
       "5614"
      ]
     },
     "execution_count": 22,
     "metadata": {},
     "output_type": "execute_result"
    }
   ],
   "source": [
    "number_tracks ('Monday', 'Saint-Petersburg')# количество прослушиваний в Санкт-Петербурге по понедельникам"
   ]
  },
  {
   "cell_type": "code",
   "execution_count": 23,
   "metadata": {
    "deletable": false,
    "id": "_NTy2VPU_Zcu"
   },
   "outputs": [
    {
     "data": {
      "text/plain": [
       "11056"
      ]
     },
     "execution_count": 23,
     "metadata": {},
     "output_type": "execute_result"
    }
   ],
   "source": [
    "number_tracks ('Wednesday', 'Moscow') # количество прослушиваний в Москве по средам"
   ]
  },
  {
   "cell_type": "code",
   "execution_count": 24,
   "metadata": {
    "deletable": false,
    "id": "j2y3TAwo_Zcu"
   },
   "outputs": [
    {
     "data": {
      "text/plain": [
       "7003"
      ]
     },
     "execution_count": 24,
     "metadata": {},
     "output_type": "execute_result"
    }
   ],
   "source": [
    "number_tracks ('Wednesday', 'Saint-Petersburg') # количество прослушиваний в Санкт-Петербурге по средам"
   ]
  },
  {
   "cell_type": "code",
   "execution_count": 25,
   "metadata": {
    "deletable": false,
    "id": "vYDw5u_K_Zcu"
   },
   "outputs": [
    {
     "data": {
      "text/plain": [
       "15945"
      ]
     },
     "execution_count": 25,
     "metadata": {},
     "output_type": "execute_result"
    }
   ],
   "source": [
    "number_tracks ('Friday', 'Moscow') # количество прослушиваний в Москве по пятницам"
   ]
  },
  {
   "cell_type": "code",
   "execution_count": 26,
   "metadata": {
    "deletable": false,
    "id": "8_yzFtW3_Zcu"
   },
   "outputs": [
    {
     "data": {
      "text/plain": [
       "5895"
      ]
     },
     "execution_count": 26,
     "metadata": {},
     "output_type": "execute_result"
    }
   ],
   "source": [
    "number_tracks ('Friday', 'Saint-Petersburg') # количество прослушиваний в Санкт-Петербурге по пятницам"
   ]
  },
  {
   "cell_type": "markdown",
   "metadata": {
    "deletable": false,
    "editable": false,
    "id": "7QXffbO-_Zcu",
    "tags": [
     "start_task"
    ]
   },
   "source": [
    "**Задание 22**"
   ]
  },
  {
   "cell_type": "code",
   "execution_count": 27,
   "metadata": {
    "deletable": false,
    "id": "APAcLpOr_Zcu"
   },
   "outputs": [
    {
     "data": {
      "text/html": [
       "<div>\n",
       "<style scoped>\n",
       "    .dataframe tbody tr th:only-of-type {\n",
       "        vertical-align: middle;\n",
       "    }\n",
       "\n",
       "    .dataframe tbody tr th {\n",
       "        vertical-align: top;\n",
       "    }\n",
       "\n",
       "    .dataframe thead th {\n",
       "        text-align: right;\n",
       "    }\n",
       "</style>\n",
       "<table border=\"1\" class=\"dataframe\">\n",
       "  <thead>\n",
       "    <tr style=\"text-align: right;\">\n",
       "      <th></th>\n",
       "      <th>city</th>\n",
       "      <th>monday</th>\n",
       "      <th>wednesday</th>\n",
       "      <th>friday</th>\n",
       "    </tr>\n",
       "  </thead>\n",
       "  <tbody>\n",
       "    <tr>\n",
       "      <th>0</th>\n",
       "      <td>Moscow</td>\n",
       "      <td>15740</td>\n",
       "      <td>11056</td>\n",
       "      <td>15945</td>\n",
       "    </tr>\n",
       "    <tr>\n",
       "      <th>1</th>\n",
       "      <td>Saint-Petersburg</td>\n",
       "      <td>5614</td>\n",
       "      <td>7003</td>\n",
       "      <td>5895</td>\n",
       "    </tr>\n",
       "  </tbody>\n",
       "</table>\n",
       "</div>"
      ],
      "text/plain": [
       "               city  monday  wednesday  friday\n",
       "0            Moscow   15740      11056   15945\n",
       "1  Saint-Petersburg    5614       7003    5895"
      ]
     },
     "metadata": {},
     "output_type": "display_data"
    }
   ],
   "source": [
    "info = ['city', 'monday', 'wednesday', 'friday'] # создание таблицы с результатами\n",
    "dat = [['Moscow', number_tracks ('Monday','Moscow'), number_tracks ('Wednesday', 'Moscow'), number_tracks ('Friday', 'Moscow')], ['Saint-Petersburg', number_tracks ('Monday', 'Saint-Petersburg'), number_tracks ('Wednesday', 'Saint-Petersburg'), number_tracks ('Friday', 'Saint-Petersburg')]]\n",
    "itog = pd.DataFrame (data = dat, columns = info)\n",
    "display (itog)# вывод таблицы на экран"
   ]
  },
  {
   "cell_type": "markdown",
   "metadata": {
    "deletable": false,
    "editable": false,
    "id": "-EgPIHYu_Zcu"
   },
   "source": [
    "**Выводы**\n",
    "\n",
    "Данные показывают разницу поведения пользователей:\n",
    "\n",
    "- В Москве пик прослушиваний приходится на понедельник и пятницу, а в среду заметен спад.\n",
    "- В Петербурге, наоборот, больше слушают музыку по средам. Активность в понедельник и пятницу здесь почти в равной мере уступает среде.\n",
    "\n",
    "Значит, данные говорят в пользу первой гипотезы."
   ]
  },
  {
   "cell_type": "markdown",
   "metadata": {
    "deletable": false,
    "editable": false,
    "id": "atZAxtq4_Zcu"
   },
   "source": [
    "### Музыка в начале и в конце недели"
   ]
  },
  {
   "cell_type": "markdown",
   "metadata": {
    "deletable": false,
    "editable": false,
    "id": "eXrQqXFH_Zcu"
   },
   "source": [
    "Согласно второй гипотезе, утром в понедельник в Москве преобладают одни жанры, а в Петербурге — другие. Так же и вечером пятницы преобладают разные жанры — в зависимости от города."
   ]
  },
  {
   "cell_type": "markdown",
   "metadata": {
    "deletable": false,
    "editable": false,
    "id": "S8UcW6Hw_Zcu",
    "tags": [
     "start_task"
    ]
   },
   "source": [
    "**Задание 23**"
   ]
  },
  {
   "cell_type": "code",
   "execution_count": 28,
   "metadata": {
    "deletable": false,
    "id": "qeaFfM_P_Zcu"
   },
   "outputs": [],
   "source": [
    "moscow_general = df [ df['city'] == 'Moscow']  # получение таблицы moscow_general из тех строк таблицы df, для которых значение в столбце 'city' равно 'Moscow'"
   ]
  },
  {
   "cell_type": "code",
   "execution_count": 29,
   "metadata": {
    "deletable": false,
    "id": "ORaVRKto_Zcu"
   },
   "outputs": [],
   "source": [
    "spb_general = df [ df['city'] == 'Saint-Petersburg'] # получение таблицы spb_general из тех строк таблицы df, для которых значение в столбце 'city' равно 'Saint-Petersburg'"
   ]
  },
  {
   "cell_type": "markdown",
   "metadata": {
    "deletable": false,
    "editable": false,
    "id": "MEJV-CX2_Zcu",
    "tags": [
     "start_task"
    ]
   },
   "source": [
    "**Задание 24**"
   ]
  },
  {
   "cell_type": "code",
   "execution_count": 30,
   "metadata": {
    "deletable": false,
    "id": "laJT9BYl_Zcu"
   },
   "outputs": [],
   "source": [
    "def genre_weekday(df, day, time1, time2):\n",
    "    # последовательная фильтрация\n",
    "    # оставляем в genre_df только те строки df, у которых день равен day\n",
    "    genre_df = df [ df ['day'] == day]# ваш код здесь\n",
    "    # оставляем в genre_df только те строки genre_df, у которых время меньше time2\n",
    "    genre_df = genre_df [ genre_df ['time'] < time2]# ваш код здесь\n",
    "    # оставляем в genre_df только те строки genre_df, у которых время больше time1\n",
    "    genre_df = genre_df [ genre_df ['time'] > time1]# ваш код здесь\n",
    "    # сгруппируем отфильтрованный датафрейм по столбцу с названиями жанров, возьмём столбец genre и посчитаем кол-во строк для каждого жанра методом count()\n",
    "    genre_df_grouped = genre_df.groupby('genre')['genre'].count()# ваш код здесь\n",
    "    # отсортируем результат по убыванию (чтобы в начале Series оказались самые популярные жанры)\n",
    "    genre_df_sorted = genre_df_grouped.sort_values (ascending = False)# ваш код здесь\n",
    "    # вернём Series с 10 самыми популярными жанрами в указанный отрезок времени заданного дня\n",
    "    return genre_df_sorted[:10]"
   ]
  },
  {
   "cell_type": "markdown",
   "metadata": {
    "deletable": false,
    "editable": false,
    "id": "la2s2_PF_Zcu",
    "tags": [
     "start_task"
    ]
   },
   "source": [
    "**Задание 25**"
   ]
  },
  {
   "cell_type": "code",
   "execution_count": 31,
   "metadata": {
    "deletable": false,
    "id": "yz7itPUQ_Zcu"
   },
   "outputs": [
    {
     "data": {
      "text/plain": [
       "genre\n",
       "pop            781\n",
       "dance          549\n",
       "electronic     480\n",
       "rock           474\n",
       "hiphop         286\n",
       "ruspop         186\n",
       "world          181\n",
       "rusrap         175\n",
       "alternative    164\n",
       "unknown        161\n",
       "Name: genre, dtype: int64"
      ]
     },
     "execution_count": 31,
     "metadata": {},
     "output_type": "execute_result"
    }
   ],
   "source": [
    "genre_weekday(moscow_general, 'Monday', '07:00', '11:00') # вызов функции для утра понедельника в Москве (вместо df — таблица moscow_general)"
   ]
  },
  {
   "cell_type": "code",
   "execution_count": 32,
   "metadata": {
    "deletable": false,
    "id": "kwUcHPdy_Zcu"
   },
   "outputs": [
    {
     "data": {
      "text/plain": [
       "genre\n",
       "pop            218\n",
       "dance          182\n",
       "rock           162\n",
       "electronic     147\n",
       "hiphop          80\n",
       "ruspop          64\n",
       "alternative     58\n",
       "rusrap          55\n",
       "jazz            44\n",
       "classical       40\n",
       "Name: genre, dtype: int64"
      ]
     },
     "execution_count": 32,
     "metadata": {},
     "output_type": "execute_result"
    }
   ],
   "source": [
    "genre_weekday (spb_general, 'Monday', '07:00', '11:00')# вызов функции для утра понедельника в Петербурге (вместо df — таблица spb_general)"
   ]
  },
  {
   "cell_type": "code",
   "execution_count": 33,
   "metadata": {
    "deletable": false,
    "id": "EzXVRE1o_Zcu"
   },
   "outputs": [
    {
     "data": {
      "text/plain": [
       "genre\n",
       "pop            713\n",
       "rock           517\n",
       "dance          495\n",
       "electronic     482\n",
       "hiphop         273\n",
       "world          208\n",
       "ruspop         170\n",
       "alternative    163\n",
       "classical      163\n",
       "rusrap         142\n",
       "Name: genre, dtype: int64"
      ]
     },
     "execution_count": 33,
     "metadata": {},
     "output_type": "execute_result"
    }
   ],
   "source": [
    "genre_weekday (moscow_general, 'Friday', '17:00', '23:00')  # вызов функции для вечера пятницы в Москве"
   ]
  },
  {
   "cell_type": "code",
   "execution_count": 34,
   "metadata": {
    "deletable": false,
    "id": "JZaEKu5v_Zcu"
   },
   "outputs": [
    {
     "data": {
      "text/plain": [
       "genre\n",
       "pop            256\n",
       "electronic     216\n",
       "rock           216\n",
       "dance          210\n",
       "hiphop          97\n",
       "alternative     63\n",
       "jazz            61\n",
       "classical       60\n",
       "rusrap          59\n",
       "world           54\n",
       "Name: genre, dtype: int64"
      ]
     },
     "execution_count": 34,
     "metadata": {},
     "output_type": "execute_result"
    }
   ],
   "source": [
    "genre_weekday (spb_general, 'Friday', '17:00', '23:00')# вызов функции для вечера пятницы в Петербурге"
   ]
  },
  {
   "cell_type": "markdown",
   "metadata": {
    "deletable": false,
    "editable": false,
    "id": "wrCe4MNX_Zcu"
   },
   "source": [
    "**Выводы**\n",
    "\n",
    "Если сравнить топ-10 жанров в понедельник утром, можно сделать такие выводы:\n",
    "\n",
    "1. В Москве и Петербурге слушают похожую музыку. Единственное различие — в московский рейтинг вошёл жанр “world”, а в петербургский — джаз и классика.\n",
    "\n",
    "2. В Москве пропущенных значений оказалось так много, что значение `'unknown'` заняло десятое место среди самых популярных жанров. Значит, пропущенные значения занимают существенную долю в данных и угрожают достоверности исследования.\n",
    "\n",
    "Вечер пятницы не меняет эту картину. Некоторые жанры поднимаются немного выше, другие спускаются, но в целом топ-10 остаётся тем же самым.\n",
    "\n",
    "Таким образом, вторая гипотеза подтвердилась лишь частично:\n",
    "* Пользователи слушают похожую музыку в начале недели и в конце.\n",
    "* Разница между Москвой и Петербургом не слишком выражена. В Москве чаще слушают русскую популярную музыку, в Петербурге — джаз.\n",
    "\n",
    "Однако пропуски в данных ставят под сомнение этот результат. В Москве их так много, что рейтинг топ-10 мог бы выглядеть иначе, если бы не утерянные  данные о жанрах."
   ]
  },
  {
   "cell_type": "markdown",
   "metadata": {
    "deletable": false,
    "editable": false,
    "id": "JolODAqr_Zcu"
   },
   "source": [
    "### Жанровые предпочтения в Москве и Петербурге\n",
    "\n",
    "Гипотеза: Петербург — столица рэпа, музыку этого жанра там слушают чаще, чем в Москве.  А Москва — город контрастов, в котором, тем не менее, преобладает поп-музыка."
   ]
  },
  {
   "cell_type": "markdown",
   "metadata": {
    "deletable": false,
    "editable": false,
    "id": "DlegSvaT_Zcu",
    "tags": [
     "start_task"
    ]
   },
   "source": [
    "**Задание 26**"
   ]
  },
  {
   "cell_type": "code",
   "execution_count": 35,
   "metadata": {
    "deletable": false,
    "id": "r19lIPke_Zcu"
   },
   "outputs": [],
   "source": [
    "moscow_genres = moscow_general.groupby('genre')['genre'].count()\n",
    "moscow_genres = moscow_genres.sort_values (ascending = False)\n",
    "# одной строкой: группировка таблицы moscow_general по столбцу 'genre', выбор столбца `genre`, подсчёт числа значений 'genre' методом count(), сохранение в moscow_genres\n",
    "# сортировка получившегося Series в порядке убывания и сохранение обратно в moscow_genres"
   ]
  },
  {
   "cell_type": "markdown",
   "metadata": {
    "deletable": false,
    "editable": false,
    "id": "6kMuomxTiIr8",
    "tags": [
     "start_task"
    ]
   },
   "source": [
    "**Задание 27**"
   ]
  },
  {
   "cell_type": "code",
   "execution_count": 36,
   "metadata": {
    "deletable": false,
    "id": "WhCSooF8_Zcv"
   },
   "outputs": [
    {
     "data": {
      "text/plain": [
       "genre\n",
       "pop            5892\n",
       "dance          4435\n",
       "rock           3965\n",
       "electronic     3786\n",
       "hiphop         2096\n",
       "classical      1616\n",
       "world          1432\n",
       "alternative    1379\n",
       "ruspop         1372\n",
       "rusrap         1161\n",
       "Name: genre, dtype: int64"
      ]
     },
     "execution_count": 36,
     "metadata": {},
     "output_type": "execute_result"
    }
   ],
   "source": [
    "moscow_genres.head(10) # просмотр первых 10 строк moscow_genres"
   ]
  },
  {
   "cell_type": "markdown",
   "metadata": {
    "deletable": false,
    "editable": false,
    "id": "cnPG2vnN_Zcv",
    "tags": [
     "start_task"
    ]
   },
   "source": [
    "**Задание 28**"
   ]
  },
  {
   "cell_type": "code",
   "execution_count": 37,
   "metadata": {
    "deletable": false,
    "id": "gluLIpE7_Zcv"
   },
   "outputs": [],
   "source": [
    "spb_genres = spb_general.groupby('genre')['genre'].count()\n",
    "spb_genres = spb_genres.sort_values (ascending = False)\n",
    "# одной строкой: группировка таблицы spb_general по столбцу 'genre', выбор столбца `genre`, подсчёт числа значений 'genre' методом count(), сохранение в spb_genres\n",
    "# сортировка получившегося Series в порядке убывания и сохранение обратно в spb_genres"
   ]
  },
  {
   "cell_type": "markdown",
   "metadata": {
    "deletable": false,
    "editable": false,
    "id": "5Doha_ODgyQ8",
    "tags": [
     "start_task"
    ]
   },
   "source": [
    "**Задание 29**"
   ]
  },
  {
   "cell_type": "code",
   "execution_count": 38,
   "metadata": {
    "deletable": false,
    "id": "uaGJHjVU_Zcv"
   },
   "outputs": [
    {
     "data": {
      "text/plain": [
       "genre\n",
       "pop            2431\n",
       "dance          1932\n",
       "rock           1879\n",
       "electronic     1736\n",
       "hiphop          960\n",
       "alternative     649\n",
       "classical       646\n",
       "rusrap          564\n",
       "ruspop          538\n",
       "world           515\n",
       "Name: genre, dtype: int64"
      ]
     },
     "execution_count": 38,
     "metadata": {},
     "output_type": "execute_result"
    }
   ],
   "source": [
    "spb_genres.head(10)# просмотр первых 10 строк spb_genres"
   ]
  },
  {
   "cell_type": "markdown",
   "metadata": {
    "deletable": false,
    "editable": false,
    "id": "RY51YJYu_Zcv"
   },
   "source": [
    "**Выводы**"
   ]
  },
  {
   "cell_type": "markdown",
   "metadata": {
    "deletable": false,
    "editable": false,
    "id": "nVhnJEm__Zcv"
   },
   "source": [
    "Гипотеза частично подтвердилась:\n",
    "* Поп-музыка — самый популярный жанр в Москве, как и предполагала гипотеза. Более того, в топ-10 жанров встречается близкий жанр — русская популярная музыка.\n",
    "* Вопреки ожиданиям, рэп одинаково популярен в Москве и Петербурге.\n"
   ]
  },
  {
   "cell_type": "markdown",
   "metadata": {
    "deletable": false,
    "editable": false,
    "id": "ykKQ0N65_Zcv"
   },
   "source": [
    "## Итоги исследования"
   ]
  },
  {
   "cell_type": "markdown",
   "metadata": {
    "deletable": false,
    "editable": false,
    "id": "tjUwbHb3_Zcv"
   },
   "source": [
    "Вы проверили три гипотезы и установили:\n",
    "\n",
    "1. День недели по-разному влияет на активность пользователей в Москве и Петербурге.\n",
    "\n",
    "Первая гипотеза полностью подтвердилась.\n",
    "\n",
    "2. Музыкальные предпочтения не сильно меняются в течение недели — будь то Москва или Петербург. Небольшие различия заметны в начале недели, по понедельникам:\n",
    "* в Москве слушают музыку жанра “world”,\n",
    "* в Петербурге — джаз и классику.\n",
    "\n",
    "Таким образом, вторая гипотеза подтвердилась лишь отчасти. Этот результат мог оказаться иным, если бы не пропуски в данных.\n",
    "\n",
    "3. Во вкусах пользователей Москвы и Петербурга больше общего, чем различий. Вопреки ожиданиям, предпочтения жанров в Петербурге напоминают московские.\n",
    "\n",
    "Третья гипотеза не подтвердилась. Если различия в предпочтениях и существуют, на основной массе пользователей они незаметны.\n",
    "\n",
    "**На практике исследования содержат проверки статистических гипотез.**\n",
    "Из части данных одного сервиса невозможно сделать какие-то выводы о всех пользователях сервиса без методов статистики.\n",
    "Проверки статистических гипотез покажут, насколько они достоверны, исходя из имеющихся данных.\n",
    "С методами проверок гипотез вы ещё познакомитесь в следующих темах."
   ]
  }
 ],
 "metadata": {
  "ExecuteTimeLog": [
   {
    "duration": 2,
    "start_time": "2024-03-25T05:57:13.795Z"
   },
   {
    "duration": 181,
    "start_time": "2024-03-25T05:57:15.705Z"
   },
   {
    "duration": 12,
    "start_time": "2024-03-25T05:57:17.527Z"
   },
   {
    "duration": 32,
    "start_time": "2024-03-25T05:57:29.753Z"
   },
   {
    "duration": 2,
    "start_time": "2024-03-25T05:57:45.204Z"
   },
   {
    "duration": 67,
    "start_time": "2024-03-25T06:13:52.437Z"
   },
   {
    "duration": 4,
    "start_time": "2024-03-25T06:21:07.120Z"
   },
   {
    "duration": 21,
    "start_time": "2024-03-25T06:23:57.893Z"
   },
   {
    "duration": 4,
    "start_time": "2024-03-25T06:24:15.466Z"
   },
   {
    "duration": 394,
    "start_time": "2024-03-25T06:24:50.000Z"
   },
   {
    "duration": 174,
    "start_time": "2024-03-25T06:24:50.396Z"
   },
   {
    "duration": 17,
    "start_time": "2024-03-25T06:24:50.572Z"
   },
   {
    "duration": 32,
    "start_time": "2024-03-25T06:24:50.591Z"
   },
   {
    "duration": 2,
    "start_time": "2024-03-25T06:24:50.625Z"
   },
   {
    "duration": 6,
    "start_time": "2024-03-25T06:24:50.629Z"
   },
   {
    "duration": 45,
    "start_time": "2024-03-25T06:24:50.636Z"
   },
   {
    "duration": 36,
    "start_time": "2024-03-25T06:24:50.682Z"
   },
   {
    "duration": 19,
    "start_time": "2024-03-25T06:24:50.720Z"
   },
   {
    "duration": 11,
    "start_time": "2024-03-25T06:24:50.742Z"
   },
   {
    "duration": 5,
    "start_time": "2024-03-25T06:24:50.755Z"
   },
   {
    "duration": 28,
    "start_time": "2024-03-25T06:24:50.761Z"
   },
   {
    "duration": 24,
    "start_time": "2024-03-25T06:24:50.791Z"
   },
   {
    "duration": 12,
    "start_time": "2024-03-25T06:24:50.817Z"
   },
   {
    "duration": 31,
    "start_time": "2024-03-25T06:24:50.831Z"
   },
   {
    "duration": 13,
    "start_time": "2024-03-25T06:24:50.864Z"
   },
   {
    "duration": 17,
    "start_time": "2024-03-25T06:24:50.879Z"
   },
   {
    "duration": 11,
    "start_time": "2024-03-25T06:24:50.898Z"
   },
   {
    "duration": 11,
    "start_time": "2024-03-25T06:24:50.910Z"
   },
   {
    "duration": 95,
    "start_time": "2024-03-25T06:24:50.922Z"
   },
   {
    "duration": 0,
    "start_time": "2024-03-25T06:24:51.018Z"
   },
   {
    "duration": 0,
    "start_time": "2024-03-25T06:24:51.019Z"
   },
   {
    "duration": 0,
    "start_time": "2024-03-25T06:24:51.020Z"
   },
   {
    "duration": 0,
    "start_time": "2024-03-25T06:24:51.021Z"
   },
   {
    "duration": 0,
    "start_time": "2024-03-25T06:24:51.022Z"
   },
   {
    "duration": 0,
    "start_time": "2024-03-25T06:24:51.023Z"
   },
   {
    "duration": 0,
    "start_time": "2024-03-25T06:24:51.024Z"
   },
   {
    "duration": 0,
    "start_time": "2024-03-25T06:24:51.025Z"
   },
   {
    "duration": 0,
    "start_time": "2024-03-25T06:24:51.026Z"
   },
   {
    "duration": 0,
    "start_time": "2024-03-25T06:24:51.027Z"
   },
   {
    "duration": 0,
    "start_time": "2024-03-25T06:24:51.028Z"
   },
   {
    "duration": 0,
    "start_time": "2024-03-25T06:24:51.029Z"
   },
   {
    "duration": 0,
    "start_time": "2024-03-25T06:24:51.030Z"
   },
   {
    "duration": 0,
    "start_time": "2024-03-25T06:24:51.031Z"
   },
   {
    "duration": 0,
    "start_time": "2024-03-25T06:24:51.032Z"
   },
   {
    "duration": 0,
    "start_time": "2024-03-25T06:24:51.033Z"
   },
   {
    "duration": 0,
    "start_time": "2024-03-25T06:24:51.033Z"
   },
   {
    "duration": 0,
    "start_time": "2024-03-25T06:24:51.034Z"
   },
   {
    "duration": 12,
    "start_time": "2024-03-25T06:37:28.078Z"
   },
   {
    "duration": 4,
    "start_time": "2024-03-25T06:37:33.109Z"
   },
   {
    "duration": 32,
    "start_time": "2024-03-25T07:02:40.472Z"
   },
   {
    "duration": 34,
    "start_time": "2024-03-25T07:05:42.237Z"
   },
   {
    "duration": 27,
    "start_time": "2024-03-25T07:07:26.619Z"
   },
   {
    "duration": 39,
    "start_time": "2024-03-25T07:13:02.946Z"
   },
   {
    "duration": 28,
    "start_time": "2024-03-25T07:13:06.710Z"
   },
   {
    "duration": 70,
    "start_time": "2024-03-25T07:14:19.071Z"
   },
   {
    "duration": 66,
    "start_time": "2024-03-25T07:14:28.348Z"
   },
   {
    "duration": 64,
    "start_time": "2024-03-25T07:14:35.543Z"
   },
   {
    "duration": 103,
    "start_time": "2024-03-25T07:17:04.323Z"
   },
   {
    "duration": 96,
    "start_time": "2024-03-25T07:17:09.265Z"
   },
   {
    "duration": 58,
    "start_time": "2024-03-25T07:17:21.388Z"
   },
   {
    "duration": 100,
    "start_time": "2024-03-25T07:18:13.661Z"
   },
   {
    "duration": 8,
    "start_time": "2024-03-25T07:18:18.883Z"
   },
   {
    "duration": 73,
    "start_time": "2024-03-25T07:20:13.169Z"
   },
   {
    "duration": 57,
    "start_time": "2024-03-25T07:20:20.701Z"
   },
   {
    "duration": 8,
    "start_time": "2024-03-25T07:20:24.330Z"
   },
   {
    "duration": 10,
    "start_time": "2024-03-25T07:22:03.309Z"
   },
   {
    "duration": 9,
    "start_time": "2024-03-25T07:23:37.045Z"
   },
   {
    "duration": 5,
    "start_time": "2024-03-25T07:24:27.334Z"
   },
   {
    "duration": 10,
    "start_time": "2024-03-25T07:25:03.755Z"
   },
   {
    "duration": 11,
    "start_time": "2024-03-25T07:26:04.665Z"
   },
   {
    "duration": 2,
    "start_time": "2024-03-25T07:26:12.914Z"
   },
   {
    "duration": 12,
    "start_time": "2024-03-25T07:29:16.356Z"
   },
   {
    "duration": 12,
    "start_time": "2024-03-25T07:29:58.537Z"
   },
   {
    "duration": 11,
    "start_time": "2024-03-25T07:32:32.760Z"
   },
   {
    "duration": 15,
    "start_time": "2024-03-25T07:35:08.156Z"
   },
   {
    "duration": 31,
    "start_time": "2024-03-25T07:35:39.149Z"
   },
   {
    "duration": 37,
    "start_time": "2024-03-25T07:35:52.005Z"
   },
   {
    "duration": 33,
    "start_time": "2024-03-25T07:36:08.248Z"
   },
   {
    "duration": 32,
    "start_time": "2024-03-25T07:36:39.712Z"
   },
   {
    "duration": 31,
    "start_time": "2024-03-25T07:36:50.130Z"
   },
   {
    "duration": 42,
    "start_time": "2024-03-25T07:38:45.244Z"
   },
   {
    "duration": 3,
    "start_time": "2024-03-25T07:39:53.660Z"
   },
   {
    "duration": 78,
    "start_time": "2024-03-25T07:41:12.967Z"
   },
   {
    "duration": 3,
    "start_time": "2024-03-25T07:41:42.114Z"
   },
   {
    "duration": 1618,
    "start_time": "2024-03-25T07:41:43.831Z"
   },
   {
    "duration": 373,
    "start_time": "2024-03-25T07:43:18.729Z"
   },
   {
    "duration": 186,
    "start_time": "2024-03-25T07:43:19.104Z"
   },
   {
    "duration": 18,
    "start_time": "2024-03-25T07:43:19.292Z"
   },
   {
    "duration": 32,
    "start_time": "2024-03-25T07:43:19.311Z"
   },
   {
    "duration": 3,
    "start_time": "2024-03-25T07:43:19.344Z"
   },
   {
    "duration": 14,
    "start_time": "2024-03-25T07:43:19.348Z"
   },
   {
    "duration": 27,
    "start_time": "2024-03-25T07:43:19.363Z"
   },
   {
    "duration": 19,
    "start_time": "2024-03-25T07:43:19.392Z"
   },
   {
    "duration": 43,
    "start_time": "2024-03-25T07:43:19.412Z"
   },
   {
    "duration": 40,
    "start_time": "2024-03-25T07:43:19.457Z"
   },
   {
    "duration": 30,
    "start_time": "2024-03-25T07:43:19.498Z"
   },
   {
    "duration": 74,
    "start_time": "2024-03-25T07:43:19.529Z"
   },
   {
    "duration": 102,
    "start_time": "2024-03-25T07:43:19.605Z"
   },
   {
    "duration": 58,
    "start_time": "2024-03-25T07:43:19.709Z"
   },
   {
    "duration": 20,
    "start_time": "2024-03-25T07:43:19.769Z"
   },
   {
    "duration": 5,
    "start_time": "2024-03-25T07:43:19.790Z"
   },
   {
    "duration": 16,
    "start_time": "2024-03-25T07:43:19.797Z"
   },
   {
    "duration": 12,
    "start_time": "2024-03-25T07:43:19.814Z"
   },
   {
    "duration": 60,
    "start_time": "2024-03-25T07:43:19.828Z"
   },
   {
    "duration": 3,
    "start_time": "2024-03-25T07:43:19.890Z"
   },
   {
    "duration": 1516,
    "start_time": "2024-03-25T07:43:19.894Z"
   },
   {
    "duration": 0,
    "start_time": "2024-03-25T07:43:21.412Z"
   },
   {
    "duration": 0,
    "start_time": "2024-03-25T07:43:21.413Z"
   },
   {
    "duration": 0,
    "start_time": "2024-03-25T07:43:21.414Z"
   },
   {
    "duration": 0,
    "start_time": "2024-03-25T07:43:21.415Z"
   },
   {
    "duration": 0,
    "start_time": "2024-03-25T07:43:21.416Z"
   },
   {
    "duration": 0,
    "start_time": "2024-03-25T07:43:21.417Z"
   },
   {
    "duration": 0,
    "start_time": "2024-03-25T07:43:21.418Z"
   },
   {
    "duration": 0,
    "start_time": "2024-03-25T07:43:21.419Z"
   },
   {
    "duration": 0,
    "start_time": "2024-03-25T07:43:21.420Z"
   },
   {
    "duration": 0,
    "start_time": "2024-03-25T07:43:21.421Z"
   },
   {
    "duration": 0,
    "start_time": "2024-03-25T07:43:21.422Z"
   },
   {
    "duration": 0,
    "start_time": "2024-03-25T07:43:21.423Z"
   },
   {
    "duration": 0,
    "start_time": "2024-03-25T07:43:21.424Z"
   },
   {
    "duration": 0,
    "start_time": "2024-03-25T07:43:21.425Z"
   },
   {
    "duration": 0,
    "start_time": "2024-03-25T07:43:21.426Z"
   },
   {
    "duration": 0,
    "start_time": "2024-03-25T07:43:21.427Z"
   },
   {
    "duration": 0,
    "start_time": "2024-03-25T07:43:21.428Z"
   },
   {
    "duration": 3,
    "start_time": "2024-03-25T07:43:53.778Z"
   },
   {
    "duration": 7,
    "start_time": "2024-03-25T07:44:00.108Z"
   },
   {
    "duration": 1370,
    "start_time": "2024-03-25T07:45:13.370Z"
   },
   {
    "duration": 7,
    "start_time": "2024-03-25T07:48:15.670Z"
   },
   {
    "duration": 12,
    "start_time": "2024-03-25T07:48:53.302Z"
   },
   {
    "duration": 22,
    "start_time": "2024-03-25T07:49:08.116Z"
   },
   {
    "duration": 35,
    "start_time": "2024-03-25T07:49:31.403Z"
   },
   {
    "duration": 1483,
    "start_time": "2024-03-25T07:50:42.845Z"
   },
   {
    "duration": 435,
    "start_time": "2024-03-25T07:51:52.357Z"
   },
   {
    "duration": 181,
    "start_time": "2024-03-25T07:51:52.794Z"
   },
   {
    "duration": 18,
    "start_time": "2024-03-25T07:51:52.976Z"
   },
   {
    "duration": 30,
    "start_time": "2024-03-25T07:51:52.996Z"
   },
   {
    "duration": 2,
    "start_time": "2024-03-25T07:51:53.028Z"
   },
   {
    "duration": 11,
    "start_time": "2024-03-25T07:51:53.031Z"
   },
   {
    "duration": 11,
    "start_time": "2024-03-25T07:51:53.044Z"
   },
   {
    "duration": 6,
    "start_time": "2024-03-25T07:51:53.057Z"
   },
   {
    "duration": 54,
    "start_time": "2024-03-25T07:51:53.064Z"
   },
   {
    "duration": 42,
    "start_time": "2024-03-25T07:51:53.121Z"
   },
   {
    "duration": 33,
    "start_time": "2024-03-25T07:51:53.165Z"
   },
   {
    "duration": 82,
    "start_time": "2024-03-25T07:51:53.199Z"
   },
   {
    "duration": 99,
    "start_time": "2024-03-25T07:51:53.288Z"
   },
   {
    "duration": 58,
    "start_time": "2024-03-25T07:51:53.389Z"
   },
   {
    "duration": 8,
    "start_time": "2024-03-25T07:51:53.448Z"
   },
   {
    "duration": 31,
    "start_time": "2024-03-25T07:51:53.458Z"
   },
   {
    "duration": 10,
    "start_time": "2024-03-25T07:51:53.491Z"
   },
   {
    "duration": 14,
    "start_time": "2024-03-25T07:51:53.502Z"
   },
   {
    "duration": 32,
    "start_time": "2024-03-25T07:51:53.517Z"
   },
   {
    "duration": 4,
    "start_time": "2024-03-25T07:51:53.550Z"
   },
   {
    "duration": 18,
    "start_time": "2024-03-25T07:51:53.588Z"
   },
   {
    "duration": 2,
    "start_time": "2024-03-25T07:51:53.607Z"
   },
   {
    "duration": 21,
    "start_time": "2024-03-25T07:51:53.610Z"
   },
   {
    "duration": 7,
    "start_time": "2024-03-25T07:51:53.633Z"
   },
   {
    "duration": 8,
    "start_time": "2024-03-25T07:51:53.641Z"
   },
   {
    "duration": 20,
    "start_time": "2024-03-25T07:51:53.650Z"
   },
   {
    "duration": 4,
    "start_time": "2024-03-25T07:51:53.672Z"
   },
   {
    "duration": 6,
    "start_time": "2024-03-25T07:51:53.679Z"
   },
   {
    "duration": 8,
    "start_time": "2024-03-25T07:51:53.687Z"
   },
   {
    "duration": 92,
    "start_time": "2024-03-25T07:51:53.696Z"
   },
   {
    "duration": 0,
    "start_time": "2024-03-25T07:51:53.790Z"
   },
   {
    "duration": 0,
    "start_time": "2024-03-25T07:51:53.791Z"
   },
   {
    "duration": 0,
    "start_time": "2024-03-25T07:51:53.793Z"
   },
   {
    "duration": 0,
    "start_time": "2024-03-25T07:51:53.793Z"
   },
   {
    "duration": 0,
    "start_time": "2024-03-25T07:51:53.794Z"
   },
   {
    "duration": 0,
    "start_time": "2024-03-25T07:51:53.795Z"
   },
   {
    "duration": 0,
    "start_time": "2024-03-25T07:51:53.797Z"
   },
   {
    "duration": 0,
    "start_time": "2024-03-25T07:51:53.798Z"
   },
   {
    "duration": 16,
    "start_time": "2024-03-25T07:52:04.760Z"
   },
   {
    "duration": 15,
    "start_time": "2024-03-25T07:52:25.844Z"
   },
   {
    "duration": 429,
    "start_time": "2024-03-25T07:53:49.887Z"
   },
   {
    "duration": 183,
    "start_time": "2024-03-25T07:53:50.318Z"
   },
   {
    "duration": 18,
    "start_time": "2024-03-25T07:53:50.503Z"
   },
   {
    "duration": 37,
    "start_time": "2024-03-25T07:53:50.523Z"
   },
   {
    "duration": 3,
    "start_time": "2024-03-25T07:53:50.562Z"
   },
   {
    "duration": 22,
    "start_time": "2024-03-25T07:53:50.566Z"
   },
   {
    "duration": 22,
    "start_time": "2024-03-25T07:53:50.590Z"
   },
   {
    "duration": 37,
    "start_time": "2024-03-25T07:53:50.614Z"
   },
   {
    "duration": 53,
    "start_time": "2024-03-25T07:53:50.653Z"
   },
   {
    "duration": 37,
    "start_time": "2024-03-25T07:53:50.709Z"
   },
   {
    "duration": 52,
    "start_time": "2024-03-25T07:53:50.748Z"
   },
   {
    "duration": 75,
    "start_time": "2024-03-25T07:53:50.802Z"
   },
   {
    "duration": 110,
    "start_time": "2024-03-25T07:53:50.879Z"
   },
   {
    "duration": 57,
    "start_time": "2024-03-25T07:53:50.991Z"
   },
   {
    "duration": 7,
    "start_time": "2024-03-25T07:53:51.050Z"
   },
   {
    "duration": 5,
    "start_time": "2024-03-25T07:53:51.059Z"
   },
   {
    "duration": 30,
    "start_time": "2024-03-25T07:53:51.065Z"
   },
   {
    "duration": 17,
    "start_time": "2024-03-25T07:53:51.097Z"
   },
   {
    "duration": 31,
    "start_time": "2024-03-25T07:53:51.116Z"
   },
   {
    "duration": 4,
    "start_time": "2024-03-25T07:53:51.148Z"
   },
   {
    "duration": 45,
    "start_time": "2024-03-25T07:53:51.153Z"
   },
   {
    "duration": 17,
    "start_time": "2024-03-25T07:53:51.199Z"
   },
   {
    "duration": 21,
    "start_time": "2024-03-25T07:53:51.217Z"
   },
   {
    "duration": 24,
    "start_time": "2024-03-25T07:53:51.240Z"
   },
   {
    "duration": 36,
    "start_time": "2024-03-25T07:53:51.266Z"
   },
   {
    "duration": 17,
    "start_time": "2024-03-25T07:53:51.304Z"
   },
   {
    "duration": 2,
    "start_time": "2024-03-25T07:53:51.323Z"
   },
   {
    "duration": 3,
    "start_time": "2024-03-25T07:53:51.329Z"
   },
   {
    "duration": 10,
    "start_time": "2024-03-25T07:53:51.333Z"
   },
   {
    "duration": 131,
    "start_time": "2024-03-25T07:53:51.345Z"
   },
   {
    "duration": 0,
    "start_time": "2024-03-25T07:53:51.478Z"
   },
   {
    "duration": 0,
    "start_time": "2024-03-25T07:53:51.480Z"
   },
   {
    "duration": 0,
    "start_time": "2024-03-25T07:53:51.481Z"
   },
   {
    "duration": 0,
    "start_time": "2024-03-25T07:53:51.483Z"
   },
   {
    "duration": 0,
    "start_time": "2024-03-25T07:53:51.484Z"
   },
   {
    "duration": 0,
    "start_time": "2024-03-25T07:53:51.486Z"
   },
   {
    "duration": 0,
    "start_time": "2024-03-25T07:53:51.487Z"
   },
   {
    "duration": 0,
    "start_time": "2024-03-25T07:53:51.489Z"
   },
   {
    "duration": 437,
    "start_time": "2024-03-25T08:17:47.673Z"
   },
   {
    "duration": 192,
    "start_time": "2024-03-25T08:17:48.112Z"
   },
   {
    "duration": 17,
    "start_time": "2024-03-25T08:17:48.308Z"
   },
   {
    "duration": 41,
    "start_time": "2024-03-25T08:17:48.327Z"
   },
   {
    "duration": 7,
    "start_time": "2024-03-25T08:17:48.370Z"
   },
   {
    "duration": 10,
    "start_time": "2024-03-25T08:17:48.379Z"
   },
   {
    "duration": 15,
    "start_time": "2024-03-25T08:17:48.391Z"
   },
   {
    "duration": 12,
    "start_time": "2024-03-25T08:17:48.407Z"
   },
   {
    "duration": 36,
    "start_time": "2024-03-25T08:17:48.421Z"
   },
   {
    "duration": 48,
    "start_time": "2024-03-25T08:17:48.458Z"
   },
   {
    "duration": 31,
    "start_time": "2024-03-25T08:17:48.507Z"
   },
   {
    "duration": 79,
    "start_time": "2024-03-25T08:17:48.539Z"
   },
   {
    "duration": 101,
    "start_time": "2024-03-25T08:17:48.622Z"
   },
   {
    "duration": 65,
    "start_time": "2024-03-25T08:17:48.725Z"
   },
   {
    "duration": 8,
    "start_time": "2024-03-25T08:17:48.791Z"
   },
   {
    "duration": 5,
    "start_time": "2024-03-25T08:17:48.801Z"
   },
   {
    "duration": 11,
    "start_time": "2024-03-25T08:17:48.807Z"
   },
   {
    "duration": 12,
    "start_time": "2024-03-25T08:17:48.820Z"
   },
   {
    "duration": 60,
    "start_time": "2024-03-25T08:17:48.834Z"
   },
   {
    "duration": 4,
    "start_time": "2024-03-25T08:17:48.895Z"
   },
   {
    "duration": 25,
    "start_time": "2024-03-25T08:17:48.900Z"
   },
   {
    "duration": 15,
    "start_time": "2024-03-25T08:17:48.926Z"
   },
   {
    "duration": 15,
    "start_time": "2024-03-25T08:17:48.943Z"
   },
   {
    "duration": 32,
    "start_time": "2024-03-25T08:17:48.960Z"
   },
   {
    "duration": 16,
    "start_time": "2024-03-25T08:17:48.994Z"
   },
   {
    "duration": 13,
    "start_time": "2024-03-25T08:17:49.012Z"
   },
   {
    "duration": 15,
    "start_time": "2024-03-25T08:17:49.026Z"
   },
   {
    "duration": 35,
    "start_time": "2024-03-25T08:17:49.043Z"
   },
   {
    "duration": 6,
    "start_time": "2024-03-25T08:17:49.079Z"
   },
   {
    "duration": 84,
    "start_time": "2024-03-25T08:17:49.087Z"
   },
   {
    "duration": 0,
    "start_time": "2024-03-25T08:17:49.172Z"
   },
   {
    "duration": 0,
    "start_time": "2024-03-25T08:17:49.173Z"
   },
   {
    "duration": 0,
    "start_time": "2024-03-25T08:17:49.174Z"
   },
   {
    "duration": 0,
    "start_time": "2024-03-25T08:17:49.175Z"
   },
   {
    "duration": 0,
    "start_time": "2024-03-25T08:17:49.176Z"
   },
   {
    "duration": 0,
    "start_time": "2024-03-25T08:17:49.177Z"
   },
   {
    "duration": 0,
    "start_time": "2024-03-25T08:17:49.178Z"
   },
   {
    "duration": 0,
    "start_time": "2024-03-25T08:17:49.180Z"
   },
   {
    "duration": 484,
    "start_time": "2024-03-25T12:17:04.245Z"
   },
   {
    "duration": 287,
    "start_time": "2024-03-25T12:17:04.731Z"
   },
   {
    "duration": 19,
    "start_time": "2024-03-25T12:17:05.020Z"
   },
   {
    "duration": 40,
    "start_time": "2024-03-25T12:17:05.041Z"
   },
   {
    "duration": 20,
    "start_time": "2024-03-25T12:17:05.083Z"
   },
   {
    "duration": 13,
    "start_time": "2024-03-25T12:17:05.105Z"
   },
   {
    "duration": 15,
    "start_time": "2024-03-25T12:17:05.120Z"
   },
   {
    "duration": 21,
    "start_time": "2024-03-25T12:17:05.137Z"
   },
   {
    "duration": 35,
    "start_time": "2024-03-25T12:17:05.160Z"
   },
   {
    "duration": 39,
    "start_time": "2024-03-25T12:17:05.197Z"
   },
   {
    "duration": 50,
    "start_time": "2024-03-25T12:17:05.237Z"
   },
   {
    "duration": 87,
    "start_time": "2024-03-25T12:17:05.288Z"
   },
   {
    "duration": 104,
    "start_time": "2024-03-25T12:17:05.377Z"
   },
   {
    "duration": 59,
    "start_time": "2024-03-25T12:17:05.483Z"
   },
   {
    "duration": 8,
    "start_time": "2024-03-25T12:17:05.543Z"
   },
   {
    "duration": 28,
    "start_time": "2024-03-25T12:17:05.553Z"
   },
   {
    "duration": 22,
    "start_time": "2024-03-25T12:17:05.583Z"
   },
   {
    "duration": 30,
    "start_time": "2024-03-25T12:17:05.606Z"
   },
   {
    "duration": 38,
    "start_time": "2024-03-25T12:17:05.638Z"
   },
   {
    "duration": 3,
    "start_time": "2024-03-25T12:17:05.678Z"
   },
   {
    "duration": 24,
    "start_time": "2024-03-25T12:17:05.682Z"
   },
   {
    "duration": 37,
    "start_time": "2024-03-25T12:17:05.707Z"
   },
   {
    "duration": 33,
    "start_time": "2024-03-25T12:17:05.746Z"
   },
   {
    "duration": 16,
    "start_time": "2024-03-25T12:17:05.780Z"
   },
   {
    "duration": 16,
    "start_time": "2024-03-25T12:17:05.798Z"
   },
   {
    "duration": 24,
    "start_time": "2024-03-25T12:17:05.815Z"
   },
   {
    "duration": 28,
    "start_time": "2024-03-25T12:17:05.841Z"
   },
   {
    "duration": 30,
    "start_time": "2024-03-25T12:17:05.873Z"
   },
   {
    "duration": 94,
    "start_time": "2024-03-25T12:17:05.905Z"
   },
   {
    "duration": 0,
    "start_time": "2024-03-25T12:17:06.001Z"
   },
   {
    "duration": 0,
    "start_time": "2024-03-25T12:17:06.003Z"
   },
   {
    "duration": 0,
    "start_time": "2024-03-25T12:17:06.004Z"
   },
   {
    "duration": 0,
    "start_time": "2024-03-25T12:17:06.006Z"
   },
   {
    "duration": 0,
    "start_time": "2024-03-25T12:17:06.007Z"
   },
   {
    "duration": 0,
    "start_time": "2024-03-25T12:17:06.009Z"
   },
   {
    "duration": 0,
    "start_time": "2024-03-25T12:17:06.010Z"
   },
   {
    "duration": 0,
    "start_time": "2024-03-25T12:17:06.011Z"
   },
   {
    "duration": 0,
    "start_time": "2024-03-25T12:17:06.013Z"
   },
   {
    "duration": 10,
    "start_time": "2024-03-25T12:17:17.388Z"
   },
   {
    "duration": 13,
    "start_time": "2024-03-25T12:18:06.789Z"
   },
   {
    "duration": 67,
    "start_time": "2024-03-25T12:18:33.185Z"
   },
   {
    "duration": 7,
    "start_time": "2024-03-25T12:18:39.841Z"
   },
   {
    "duration": 4,
    "start_time": "2024-03-25T12:18:47.854Z"
   },
   {
    "duration": 7,
    "start_time": "2024-03-25T12:18:55.356Z"
   },
   {
    "duration": 7,
    "start_time": "2024-03-25T12:19:11.150Z"
   },
   {
    "duration": 7,
    "start_time": "2024-03-25T12:20:43.245Z"
   },
   {
    "duration": 456,
    "start_time": "2024-03-25T12:21:04.058Z"
   },
   {
    "duration": 203,
    "start_time": "2024-03-25T12:21:04.517Z"
   },
   {
    "duration": 18,
    "start_time": "2024-03-25T12:21:04.722Z"
   },
   {
    "duration": 56,
    "start_time": "2024-03-25T12:21:04.742Z"
   },
   {
    "duration": 11,
    "start_time": "2024-03-25T12:21:04.800Z"
   },
   {
    "duration": 24,
    "start_time": "2024-03-25T12:21:04.813Z"
   },
   {
    "duration": 73,
    "start_time": "2024-03-25T12:21:04.839Z"
   },
   {
    "duration": 18,
    "start_time": "2024-03-25T12:21:04.914Z"
   },
   {
    "duration": 34,
    "start_time": "2024-03-25T12:21:04.934Z"
   },
   {
    "duration": 43,
    "start_time": "2024-03-25T12:21:04.972Z"
   },
   {
    "duration": 51,
    "start_time": "2024-03-25T12:21:05.017Z"
   },
   {
    "duration": 74,
    "start_time": "2024-03-25T12:21:05.070Z"
   },
   {
    "duration": 112,
    "start_time": "2024-03-25T12:21:05.146Z"
   },
   {
    "duration": 73,
    "start_time": "2024-03-25T12:21:05.260Z"
   },
   {
    "duration": 10,
    "start_time": "2024-03-25T12:21:05.334Z"
   },
   {
    "duration": 17,
    "start_time": "2024-03-25T12:21:05.346Z"
   },
   {
    "duration": 32,
    "start_time": "2024-03-25T12:21:05.365Z"
   },
   {
    "duration": 17,
    "start_time": "2024-03-25T12:21:05.399Z"
   },
   {
    "duration": 41,
    "start_time": "2024-03-25T12:21:05.418Z"
   },
   {
    "duration": 4,
    "start_time": "2024-03-25T12:21:05.460Z"
   },
   {
    "duration": 29,
    "start_time": "2024-03-25T12:21:05.467Z"
   },
   {
    "duration": 23,
    "start_time": "2024-03-25T12:21:05.498Z"
   },
   {
    "duration": 23,
    "start_time": "2024-03-25T12:21:05.523Z"
   },
   {
    "duration": 33,
    "start_time": "2024-03-25T12:21:05.548Z"
   },
   {
    "duration": 32,
    "start_time": "2024-03-25T12:21:05.583Z"
   },
   {
    "duration": 19,
    "start_time": "2024-03-25T12:21:05.617Z"
   },
   {
    "duration": 31,
    "start_time": "2024-03-25T12:21:05.638Z"
   },
   {
    "duration": 61,
    "start_time": "2024-03-25T12:21:05.673Z"
   },
   {
    "duration": 14,
    "start_time": "2024-03-25T12:21:05.736Z"
   },
   {
    "duration": 87,
    "start_time": "2024-03-25T12:21:05.752Z"
   },
   {
    "duration": 0,
    "start_time": "2024-03-25T12:21:05.841Z"
   },
   {
    "duration": 0,
    "start_time": "2024-03-25T12:21:05.842Z"
   },
   {
    "duration": 0,
    "start_time": "2024-03-25T12:21:05.843Z"
   },
   {
    "duration": 0,
    "start_time": "2024-03-25T12:21:05.844Z"
   },
   {
    "duration": 0,
    "start_time": "2024-03-25T12:21:05.845Z"
   },
   {
    "duration": 0,
    "start_time": "2024-03-25T12:21:05.846Z"
   },
   {
    "duration": 1,
    "start_time": "2024-03-25T12:21:05.847Z"
   },
   {
    "duration": 0,
    "start_time": "2024-03-25T12:21:05.849Z"
   },
   {
    "duration": 22,
    "start_time": "2024-03-25T12:21:12.680Z"
   },
   {
    "duration": 452,
    "start_time": "2024-03-25T12:21:56.596Z"
   },
   {
    "duration": 363,
    "start_time": "2024-03-25T12:22:44.244Z"
   },
   {
    "duration": 12,
    "start_time": "2024-03-25T12:22:48.879Z"
   },
   {
    "duration": 19,
    "start_time": "2024-03-25T12:22:55.967Z"
   },
   {
    "duration": 22,
    "start_time": "2024-03-25T12:24:41.565Z"
   },
   {
    "duration": 10,
    "start_time": "2024-03-25T12:27:33.898Z"
   },
   {
    "duration": 1437,
    "start_time": "2024-03-25T12:27:38.995Z"
   },
   {
    "duration": 1413,
    "start_time": "2024-03-25T12:28:03.376Z"
   },
   {
    "duration": 482,
    "start_time": "2024-03-25T12:28:39.596Z"
   },
   {
    "duration": 205,
    "start_time": "2024-03-25T12:28:40.086Z"
   },
   {
    "duration": 23,
    "start_time": "2024-03-25T12:28:40.297Z"
   },
   {
    "duration": 50,
    "start_time": "2024-03-25T12:28:40.321Z"
   },
   {
    "duration": 2,
    "start_time": "2024-03-25T12:28:40.373Z"
   },
   {
    "duration": 20,
    "start_time": "2024-03-25T12:28:40.377Z"
   },
   {
    "duration": 20,
    "start_time": "2024-03-25T12:28:40.398Z"
   },
   {
    "duration": 19,
    "start_time": "2024-03-25T12:28:40.419Z"
   },
   {
    "duration": 30,
    "start_time": "2024-03-25T12:28:40.440Z"
   },
   {
    "duration": 45,
    "start_time": "2024-03-25T12:28:40.472Z"
   },
   {
    "duration": 46,
    "start_time": "2024-03-25T12:28:40.519Z"
   },
   {
    "duration": 83,
    "start_time": "2024-03-25T12:28:40.567Z"
   },
   {
    "duration": 109,
    "start_time": "2024-03-25T12:28:40.651Z"
   },
   {
    "duration": 71,
    "start_time": "2024-03-25T12:28:40.763Z"
   },
   {
    "duration": 9,
    "start_time": "2024-03-25T12:28:40.836Z"
   },
   {
    "duration": 16,
    "start_time": "2024-03-25T12:28:40.846Z"
   },
   {
    "duration": 28,
    "start_time": "2024-03-25T12:28:40.865Z"
   },
   {
    "duration": 29,
    "start_time": "2024-03-25T12:28:40.895Z"
   },
   {
    "duration": 32,
    "start_time": "2024-03-25T12:28:40.926Z"
   },
   {
    "duration": 4,
    "start_time": "2024-03-25T12:28:40.960Z"
   },
   {
    "duration": 37,
    "start_time": "2024-03-25T12:28:40.966Z"
   },
   {
    "duration": 18,
    "start_time": "2024-03-25T12:28:41.004Z"
   },
   {
    "duration": 27,
    "start_time": "2024-03-25T12:28:41.024Z"
   },
   {
    "duration": 49,
    "start_time": "2024-03-25T12:28:41.053Z"
   },
   {
    "duration": 18,
    "start_time": "2024-03-25T12:28:41.104Z"
   },
   {
    "duration": 17,
    "start_time": "2024-03-25T12:28:41.124Z"
   },
   {
    "duration": 11,
    "start_time": "2024-03-25T12:28:41.143Z"
   },
   {
    "duration": 33,
    "start_time": "2024-03-25T12:28:41.156Z"
   },
   {
    "duration": 9,
    "start_time": "2024-03-25T12:28:41.198Z"
   },
   {
    "duration": 89,
    "start_time": "2024-03-25T12:28:41.208Z"
   },
   {
    "duration": 0,
    "start_time": "2024-03-25T12:28:41.299Z"
   },
   {
    "duration": 1,
    "start_time": "2024-03-25T12:28:41.299Z"
   },
   {
    "duration": 0,
    "start_time": "2024-03-25T12:28:41.300Z"
   },
   {
    "duration": 0,
    "start_time": "2024-03-25T12:28:41.301Z"
   },
   {
    "duration": 0,
    "start_time": "2024-03-25T12:28:41.302Z"
   },
   {
    "duration": 0,
    "start_time": "2024-03-25T12:28:41.303Z"
   },
   {
    "duration": 0,
    "start_time": "2024-03-25T12:28:41.304Z"
   },
   {
    "duration": 0,
    "start_time": "2024-03-25T12:28:41.305Z"
   },
   {
    "duration": 22,
    "start_time": "2024-03-25T12:28:47.813Z"
   },
   {
    "duration": 1610,
    "start_time": "2024-03-25T12:30:01.742Z"
   },
   {
    "duration": 1441,
    "start_time": "2024-03-25T12:30:10.840Z"
   },
   {
    "duration": 401,
    "start_time": "2024-03-25T12:34:07.902Z"
   },
   {
    "duration": 194,
    "start_time": "2024-03-25T12:34:08.305Z"
   },
   {
    "duration": 18,
    "start_time": "2024-03-25T12:34:08.501Z"
   },
   {
    "duration": 48,
    "start_time": "2024-03-25T12:34:08.521Z"
   },
   {
    "duration": 5,
    "start_time": "2024-03-25T12:34:08.571Z"
   },
   {
    "duration": 17,
    "start_time": "2024-03-25T12:34:08.581Z"
   },
   {
    "duration": 16,
    "start_time": "2024-03-25T12:34:08.599Z"
   },
   {
    "duration": 11,
    "start_time": "2024-03-25T12:34:08.616Z"
   },
   {
    "duration": 59,
    "start_time": "2024-03-25T12:34:08.629Z"
   },
   {
    "duration": 37,
    "start_time": "2024-03-25T12:34:08.702Z"
   },
   {
    "duration": 29,
    "start_time": "2024-03-25T12:34:08.740Z"
   },
   {
    "duration": 77,
    "start_time": "2024-03-25T12:34:08.781Z"
   },
   {
    "duration": 118,
    "start_time": "2024-03-25T12:34:08.859Z"
   },
   {
    "duration": 65,
    "start_time": "2024-03-25T12:34:08.979Z"
   },
   {
    "duration": 8,
    "start_time": "2024-03-25T12:34:09.046Z"
   },
   {
    "duration": 27,
    "start_time": "2024-03-25T12:34:09.055Z"
   },
   {
    "duration": 33,
    "start_time": "2024-03-25T12:34:09.089Z"
   },
   {
    "duration": 11,
    "start_time": "2024-03-25T12:34:09.124Z"
   },
   {
    "duration": 33,
    "start_time": "2024-03-25T12:34:09.137Z"
   },
   {
    "duration": 4,
    "start_time": "2024-03-25T12:34:09.172Z"
   },
   {
    "duration": 49,
    "start_time": "2024-03-25T12:34:09.177Z"
   },
   {
    "duration": 15,
    "start_time": "2024-03-25T12:34:09.227Z"
   },
   {
    "duration": 22,
    "start_time": "2024-03-25T12:34:09.243Z"
   },
   {
    "duration": 37,
    "start_time": "2024-03-25T12:34:09.267Z"
   },
   {
    "duration": 33,
    "start_time": "2024-03-25T12:34:09.306Z"
   },
   {
    "duration": 15,
    "start_time": "2024-03-25T12:34:09.341Z"
   },
   {
    "duration": 9,
    "start_time": "2024-03-25T12:34:09.357Z"
   },
   {
    "duration": 24,
    "start_time": "2024-03-25T12:34:09.369Z"
   },
   {
    "duration": 10,
    "start_time": "2024-03-25T12:34:09.395Z"
   },
   {
    "duration": 90,
    "start_time": "2024-03-25T12:34:09.407Z"
   },
   {
    "duration": 0,
    "start_time": "2024-03-25T12:34:09.498Z"
   },
   {
    "duration": 0,
    "start_time": "2024-03-25T12:34:09.500Z"
   },
   {
    "duration": 0,
    "start_time": "2024-03-25T12:34:09.502Z"
   },
   {
    "duration": 0,
    "start_time": "2024-03-25T12:34:09.503Z"
   },
   {
    "duration": 0,
    "start_time": "2024-03-25T12:34:09.505Z"
   },
   {
    "duration": 0,
    "start_time": "2024-03-25T12:34:09.506Z"
   },
   {
    "duration": 0,
    "start_time": "2024-03-25T12:34:09.508Z"
   },
   {
    "duration": 0,
    "start_time": "2024-03-25T12:34:09.509Z"
   },
   {
    "duration": 1494,
    "start_time": "2024-03-25T12:34:13.624Z"
   },
   {
    "duration": 443,
    "start_time": "2024-03-25T12:34:44.771Z"
   },
   {
    "duration": 203,
    "start_time": "2024-03-25T12:34:45.216Z"
   },
   {
    "duration": 18,
    "start_time": "2024-03-25T12:34:45.421Z"
   },
   {
    "duration": 65,
    "start_time": "2024-03-25T12:34:45.441Z"
   },
   {
    "duration": 24,
    "start_time": "2024-03-25T12:34:45.508Z"
   },
   {
    "duration": 66,
    "start_time": "2024-03-25T12:34:45.534Z"
   },
   {
    "duration": 13,
    "start_time": "2024-03-25T12:34:45.602Z"
   },
   {
    "duration": 46,
    "start_time": "2024-03-25T12:34:45.616Z"
   },
   {
    "duration": 62,
    "start_time": "2024-03-25T12:34:45.663Z"
   },
   {
    "duration": 68,
    "start_time": "2024-03-25T12:34:45.728Z"
   },
   {
    "duration": 53,
    "start_time": "2024-03-25T12:34:45.798Z"
   },
   {
    "duration": 75,
    "start_time": "2024-03-25T12:34:45.853Z"
   },
   {
    "duration": 107,
    "start_time": "2024-03-25T12:34:45.930Z"
   },
   {
    "duration": 72,
    "start_time": "2024-03-25T12:34:46.039Z"
   },
   {
    "duration": 17,
    "start_time": "2024-03-25T12:34:46.113Z"
   },
   {
    "duration": 18,
    "start_time": "2024-03-25T12:34:46.131Z"
   },
   {
    "duration": 47,
    "start_time": "2024-03-25T12:34:46.150Z"
   },
   {
    "duration": 23,
    "start_time": "2024-03-25T12:34:46.199Z"
   },
   {
    "duration": 40,
    "start_time": "2024-03-25T12:34:46.224Z"
   },
   {
    "duration": 3,
    "start_time": "2024-03-25T12:34:46.266Z"
   },
   {
    "duration": 58,
    "start_time": "2024-03-25T12:34:46.271Z"
   },
   {
    "duration": 26,
    "start_time": "2024-03-25T12:34:46.331Z"
   },
   {
    "duration": 14,
    "start_time": "2024-03-25T12:34:46.358Z"
   },
   {
    "duration": 68,
    "start_time": "2024-03-25T12:34:46.374Z"
   },
   {
    "duration": 92,
    "start_time": "2024-03-25T12:34:46.443Z"
   },
   {
    "duration": 70,
    "start_time": "2024-03-25T12:34:46.537Z"
   },
   {
    "duration": 21,
    "start_time": "2024-03-25T12:34:46.609Z"
   },
   {
    "duration": 19,
    "start_time": "2024-03-25T12:34:46.634Z"
   },
   {
    "duration": 22,
    "start_time": "2024-03-25T12:34:46.654Z"
   },
   {
    "duration": 97,
    "start_time": "2024-03-25T12:34:46.678Z"
   },
   {
    "duration": 0,
    "start_time": "2024-03-25T12:34:46.777Z"
   },
   {
    "duration": 1,
    "start_time": "2024-03-25T12:34:46.778Z"
   },
   {
    "duration": 0,
    "start_time": "2024-03-25T12:34:46.780Z"
   },
   {
    "duration": 0,
    "start_time": "2024-03-25T12:34:46.781Z"
   },
   {
    "duration": 0,
    "start_time": "2024-03-25T12:34:46.783Z"
   },
   {
    "duration": 0,
    "start_time": "2024-03-25T12:34:46.785Z"
   },
   {
    "duration": 0,
    "start_time": "2024-03-25T12:34:46.786Z"
   },
   {
    "duration": 0,
    "start_time": "2024-03-25T12:34:46.789Z"
   },
   {
    "duration": 1620,
    "start_time": "2024-03-25T12:34:49.032Z"
   },
   {
    "duration": 403,
    "start_time": "2024-03-25T12:35:06.201Z"
   },
   {
    "duration": 201,
    "start_time": "2024-03-25T12:35:06.605Z"
   },
   {
    "duration": 19,
    "start_time": "2024-03-25T12:35:06.807Z"
   },
   {
    "duration": 46,
    "start_time": "2024-03-25T12:35:06.829Z"
   },
   {
    "duration": 31,
    "start_time": "2024-03-25T12:35:06.877Z"
   },
   {
    "duration": 13,
    "start_time": "2024-03-25T12:35:06.910Z"
   },
   {
    "duration": 35,
    "start_time": "2024-03-25T12:35:06.924Z"
   },
   {
    "duration": 31,
    "start_time": "2024-03-25T12:35:06.961Z"
   },
   {
    "duration": 59,
    "start_time": "2024-03-25T12:35:06.994Z"
   },
   {
    "duration": 69,
    "start_time": "2024-03-25T12:35:07.056Z"
   },
   {
    "duration": 48,
    "start_time": "2024-03-25T12:35:07.126Z"
   },
   {
    "duration": 87,
    "start_time": "2024-03-25T12:35:07.175Z"
   },
   {
    "duration": 99,
    "start_time": "2024-03-25T12:35:07.264Z"
   },
   {
    "duration": 67,
    "start_time": "2024-03-25T12:35:07.364Z"
   },
   {
    "duration": 8,
    "start_time": "2024-03-25T12:35:07.433Z"
   },
   {
    "duration": 14,
    "start_time": "2024-03-25T12:35:07.443Z"
   },
   {
    "duration": 34,
    "start_time": "2024-03-25T12:35:07.459Z"
   },
   {
    "duration": 31,
    "start_time": "2024-03-25T12:35:07.494Z"
   },
   {
    "duration": 36,
    "start_time": "2024-03-25T12:35:07.527Z"
   },
   {
    "duration": 3,
    "start_time": "2024-03-25T12:35:07.565Z"
   },
   {
    "duration": 54,
    "start_time": "2024-03-25T12:35:07.570Z"
   },
   {
    "duration": 28,
    "start_time": "2024-03-25T12:35:07.626Z"
   },
   {
    "duration": 32,
    "start_time": "2024-03-25T12:35:07.656Z"
   },
   {
    "duration": 40,
    "start_time": "2024-03-25T12:35:07.690Z"
   },
   {
    "duration": 50,
    "start_time": "2024-03-25T12:35:07.732Z"
   },
   {
    "duration": 29,
    "start_time": "2024-03-25T12:35:07.784Z"
   },
   {
    "duration": 32,
    "start_time": "2024-03-25T12:35:07.815Z"
   },
   {
    "duration": 35,
    "start_time": "2024-03-25T12:35:07.851Z"
   },
   {
    "duration": 14,
    "start_time": "2024-03-25T12:35:07.890Z"
   },
   {
    "duration": 92,
    "start_time": "2024-03-25T12:35:07.906Z"
   },
   {
    "duration": 0,
    "start_time": "2024-03-25T12:35:07.999Z"
   },
   {
    "duration": 0,
    "start_time": "2024-03-25T12:35:08.000Z"
   },
   {
    "duration": 0,
    "start_time": "2024-03-25T12:35:08.001Z"
   },
   {
    "duration": 0,
    "start_time": "2024-03-25T12:35:08.003Z"
   },
   {
    "duration": 0,
    "start_time": "2024-03-25T12:35:08.004Z"
   },
   {
    "duration": 0,
    "start_time": "2024-03-25T12:35:08.005Z"
   },
   {
    "duration": 0,
    "start_time": "2024-03-25T12:35:08.006Z"
   },
   {
    "duration": 0,
    "start_time": "2024-03-25T12:35:08.007Z"
   },
   {
    "duration": 20,
    "start_time": "2024-03-25T12:35:10.498Z"
   },
   {
    "duration": 2036,
    "start_time": "2024-03-25T12:35:18.380Z"
   },
   {
    "duration": 410,
    "start_time": "2024-03-25T12:35:23.692Z"
   },
   {
    "duration": 182,
    "start_time": "2024-03-25T12:35:24.103Z"
   },
   {
    "duration": 16,
    "start_time": "2024-03-25T12:35:24.296Z"
   },
   {
    "duration": 44,
    "start_time": "2024-03-25T12:35:24.313Z"
   },
   {
    "duration": 2,
    "start_time": "2024-03-25T12:35:24.359Z"
   },
   {
    "duration": 5,
    "start_time": "2024-03-25T12:35:24.363Z"
   },
   {
    "duration": 17,
    "start_time": "2024-03-25T12:35:24.369Z"
   },
   {
    "duration": 11,
    "start_time": "2024-03-25T12:35:24.389Z"
   },
   {
    "duration": 36,
    "start_time": "2024-03-25T12:35:24.401Z"
   },
   {
    "duration": 34,
    "start_time": "2024-03-25T12:35:24.440Z"
   },
   {
    "duration": 71,
    "start_time": "2024-03-25T12:35:24.475Z"
   },
   {
    "duration": 79,
    "start_time": "2024-03-25T12:35:24.548Z"
   },
   {
    "duration": 106,
    "start_time": "2024-03-25T12:35:24.628Z"
   },
   {
    "duration": 75,
    "start_time": "2024-03-25T12:35:24.736Z"
   },
   {
    "duration": 8,
    "start_time": "2024-03-25T12:35:24.812Z"
   },
   {
    "duration": 25,
    "start_time": "2024-03-25T12:35:24.822Z"
   },
   {
    "duration": 19,
    "start_time": "2024-03-25T12:35:24.848Z"
   },
   {
    "duration": 28,
    "start_time": "2024-03-25T12:35:24.869Z"
   },
   {
    "duration": 30,
    "start_time": "2024-03-25T12:35:24.899Z"
   },
   {
    "duration": 4,
    "start_time": "2024-03-25T12:35:24.931Z"
   },
   {
    "duration": 30,
    "start_time": "2024-03-25T12:35:24.937Z"
   },
   {
    "duration": 16,
    "start_time": "2024-03-25T12:35:24.968Z"
   },
   {
    "duration": 25,
    "start_time": "2024-03-25T12:35:24.986Z"
   },
   {
    "duration": 34,
    "start_time": "2024-03-25T12:35:25.013Z"
   },
   {
    "duration": 44,
    "start_time": "2024-03-25T12:35:25.048Z"
   },
   {
    "duration": 17,
    "start_time": "2024-03-25T12:35:25.094Z"
   },
   {
    "duration": 19,
    "start_time": "2024-03-25T12:35:25.113Z"
   },
   {
    "duration": 24,
    "start_time": "2024-03-25T12:35:25.135Z"
   },
   {
    "duration": 10,
    "start_time": "2024-03-25T12:35:25.161Z"
   },
   {
    "duration": 88,
    "start_time": "2024-03-25T12:35:25.173Z"
   },
   {
    "duration": 0,
    "start_time": "2024-03-25T12:35:25.263Z"
   },
   {
    "duration": 0,
    "start_time": "2024-03-25T12:35:25.264Z"
   },
   {
    "duration": 0,
    "start_time": "2024-03-25T12:35:25.266Z"
   },
   {
    "duration": 0,
    "start_time": "2024-03-25T12:35:25.267Z"
   },
   {
    "duration": 0,
    "start_time": "2024-03-25T12:35:25.269Z"
   },
   {
    "duration": 0,
    "start_time": "2024-03-25T12:35:25.270Z"
   },
   {
    "duration": 0,
    "start_time": "2024-03-25T12:35:25.271Z"
   },
   {
    "duration": 0,
    "start_time": "2024-03-25T12:35:25.272Z"
   },
   {
    "duration": 23,
    "start_time": "2024-03-25T12:35:27.920Z"
   },
   {
    "duration": 426,
    "start_time": "2024-03-25T12:36:25.447Z"
   },
   {
    "duration": 216,
    "start_time": "2024-03-25T12:36:25.875Z"
   },
   {
    "duration": 28,
    "start_time": "2024-03-25T12:36:26.094Z"
   },
   {
    "duration": 74,
    "start_time": "2024-03-25T12:36:26.125Z"
   },
   {
    "duration": 3,
    "start_time": "2024-03-25T12:36:26.200Z"
   },
   {
    "duration": 14,
    "start_time": "2024-03-25T12:36:26.205Z"
   },
   {
    "duration": 16,
    "start_time": "2024-03-25T12:36:26.221Z"
   },
   {
    "duration": 7,
    "start_time": "2024-03-25T12:36:26.238Z"
   },
   {
    "duration": 60,
    "start_time": "2024-03-25T12:36:26.247Z"
   },
   {
    "duration": 44,
    "start_time": "2024-03-25T12:36:26.310Z"
   },
   {
    "duration": 54,
    "start_time": "2024-03-25T12:36:26.356Z"
   },
   {
    "duration": 90,
    "start_time": "2024-03-25T12:36:26.412Z"
   },
   {
    "duration": 106,
    "start_time": "2024-03-25T12:36:26.504Z"
   },
   {
    "duration": 79,
    "start_time": "2024-03-25T12:36:26.612Z"
   },
   {
    "duration": 8,
    "start_time": "2024-03-25T12:36:26.697Z"
   },
   {
    "duration": 13,
    "start_time": "2024-03-25T12:36:26.707Z"
   },
   {
    "duration": 16,
    "start_time": "2024-03-25T12:36:26.723Z"
   },
   {
    "duration": 20,
    "start_time": "2024-03-25T12:36:26.742Z"
   },
   {
    "duration": 51,
    "start_time": "2024-03-25T12:36:26.764Z"
   },
   {
    "duration": 3,
    "start_time": "2024-03-25T12:36:26.817Z"
   },
   {
    "duration": 19,
    "start_time": "2024-03-25T12:36:26.822Z"
   },
   {
    "duration": 14,
    "start_time": "2024-03-25T12:36:26.843Z"
   },
   {
    "duration": 42,
    "start_time": "2024-03-25T12:36:26.859Z"
   },
   {
    "duration": 13,
    "start_time": "2024-03-25T12:36:26.903Z"
   },
   {
    "duration": 17,
    "start_time": "2024-03-25T12:36:26.918Z"
   },
   {
    "duration": 50,
    "start_time": "2024-03-25T12:36:26.937Z"
   },
   {
    "duration": 15,
    "start_time": "2024-03-25T12:36:26.993Z"
   },
   {
    "duration": 13,
    "start_time": "2024-03-25T12:36:27.011Z"
   },
   {
    "duration": 13,
    "start_time": "2024-03-25T12:36:27.026Z"
   },
   {
    "duration": 7,
    "start_time": "2024-03-25T12:36:27.041Z"
   },
   {
    "duration": 5,
    "start_time": "2024-03-25T12:36:27.050Z"
   },
   {
    "duration": 25,
    "start_time": "2024-03-25T12:36:27.057Z"
   },
   {
    "duration": 7,
    "start_time": "2024-03-25T12:36:27.093Z"
   },
   {
    "duration": 2,
    "start_time": "2024-03-25T12:36:27.102Z"
   },
   {
    "duration": 6,
    "start_time": "2024-03-25T12:36:27.106Z"
   },
   {
    "duration": 6,
    "start_time": "2024-03-25T12:36:27.113Z"
   },
   {
    "duration": 11,
    "start_time": "2024-03-25T12:36:27.121Z"
   },
   {
    "duration": 6,
    "start_time": "2024-03-25T12:36:27.134Z"
   },
   {
    "duration": 22,
    "start_time": "2024-03-25T12:41:20.534Z"
   },
   {
    "duration": 14,
    "start_time": "2024-03-25T12:41:46.687Z"
   },
   {
    "duration": 18,
    "start_time": "2024-03-25T12:42:33.237Z"
   },
   {
    "duration": 15,
    "start_time": "2024-03-25T12:42:35.494Z"
   },
   {
    "duration": 383,
    "start_time": "2024-03-25T12:44:58.116Z"
   },
   {
    "duration": 189,
    "start_time": "2024-03-25T12:44:58.501Z"
   },
   {
    "duration": 18,
    "start_time": "2024-03-25T12:44:58.697Z"
   },
   {
    "duration": 82,
    "start_time": "2024-03-25T12:44:58.716Z"
   },
   {
    "duration": 4,
    "start_time": "2024-03-25T12:44:58.800Z"
   },
   {
    "duration": 17,
    "start_time": "2024-03-25T12:44:58.805Z"
   },
   {
    "duration": 19,
    "start_time": "2024-03-25T12:44:58.824Z"
   },
   {
    "duration": 5,
    "start_time": "2024-03-25T12:44:58.845Z"
   },
   {
    "duration": 44,
    "start_time": "2024-03-25T12:44:58.852Z"
   },
   {
    "duration": 36,
    "start_time": "2024-03-25T12:44:58.899Z"
   },
   {
    "duration": 29,
    "start_time": "2024-03-25T12:44:58.937Z"
   },
   {
    "duration": 88,
    "start_time": "2024-03-25T12:44:58.967Z"
   },
   {
    "duration": 115,
    "start_time": "2024-03-25T12:44:59.057Z"
   },
   {
    "duration": 66,
    "start_time": "2024-03-25T12:44:59.174Z"
   },
   {
    "duration": 9,
    "start_time": "2024-03-25T12:44:59.242Z"
   },
   {
    "duration": 11,
    "start_time": "2024-03-25T12:44:59.253Z"
   },
   {
    "duration": 13,
    "start_time": "2024-03-25T12:44:59.282Z"
   },
   {
    "duration": 13,
    "start_time": "2024-03-25T12:44:59.297Z"
   },
   {
    "duration": 30,
    "start_time": "2024-03-25T12:44:59.311Z"
   },
   {
    "duration": 4,
    "start_time": "2024-03-25T12:44:59.343Z"
   },
   {
    "duration": 55,
    "start_time": "2024-03-25T12:44:59.348Z"
   },
   {
    "duration": 23,
    "start_time": "2024-03-25T12:44:59.405Z"
   },
   {
    "duration": 15,
    "start_time": "2024-03-25T12:44:59.430Z"
   },
   {
    "duration": 14,
    "start_time": "2024-03-25T12:44:59.447Z"
   },
   {
    "duration": 34,
    "start_time": "2024-03-25T12:44:59.463Z"
   },
   {
    "duration": 14,
    "start_time": "2024-03-25T12:44:59.499Z"
   },
   {
    "duration": 10,
    "start_time": "2024-03-25T12:44:59.515Z"
   },
   {
    "duration": 31,
    "start_time": "2024-03-25T12:44:59.528Z"
   },
   {
    "duration": 11,
    "start_time": "2024-03-25T12:44:59.561Z"
   },
   {
    "duration": 18,
    "start_time": "2024-03-25T12:44:59.574Z"
   },
   {
    "duration": 40,
    "start_time": "2024-03-25T12:44:59.598Z"
   },
   {
    "duration": 13,
    "start_time": "2024-03-25T12:44:59.640Z"
   },
   {
    "duration": 18,
    "start_time": "2024-03-25T12:44:59.655Z"
   },
   {
    "duration": 14,
    "start_time": "2024-03-25T12:44:59.675Z"
   },
   {
    "duration": 3,
    "start_time": "2024-03-25T12:44:59.693Z"
   },
   {
    "duration": 9,
    "start_time": "2024-03-25T12:44:59.698Z"
   },
   {
    "duration": 5,
    "start_time": "2024-03-25T12:44:59.708Z"
   },
   {
    "duration": 10,
    "start_time": "2024-03-25T12:44:59.715Z"
   },
   {
    "duration": 92,
    "start_time": "2024-03-25T12:52:14.350Z"
   },
   {
    "duration": 73,
    "start_time": "2024-03-25T12:52:24.368Z"
   },
   {
    "duration": 23,
    "start_time": "2024-03-25T12:52:38.081Z"
   },
   {
    "duration": 15,
    "start_time": "2024-03-25T12:58:42.526Z"
   },
   {
    "duration": 13,
    "start_time": "2024-03-25T12:58:58.997Z"
   },
   {
    "duration": 9,
    "start_time": "2024-03-25T12:59:15.903Z"
   },
   {
    "duration": 20,
    "start_time": "2024-03-25T12:59:24.386Z"
   },
   {
    "duration": 5,
    "start_time": "2024-03-25T12:59:45.062Z"
   },
   {
    "duration": 8,
    "start_time": "2024-03-25T13:00:21.671Z"
   },
   {
    "duration": 5,
    "start_time": "2024-03-25T13:00:33.523Z"
   },
   {
    "duration": 10,
    "start_time": "2024-03-25T13:08:01.518Z"
   },
   {
    "duration": 426,
    "start_time": "2024-03-25T13:12:01.674Z"
   },
   {
    "duration": 216,
    "start_time": "2024-03-25T13:12:02.102Z"
   },
   {
    "duration": 18,
    "start_time": "2024-03-25T13:12:02.319Z"
   },
   {
    "duration": 85,
    "start_time": "2024-03-25T13:12:02.338Z"
   },
   {
    "duration": 35,
    "start_time": "2024-03-25T13:12:02.425Z"
   },
   {
    "duration": 108,
    "start_time": "2024-03-25T13:12:02.462Z"
   },
   {
    "duration": 86,
    "start_time": "2024-03-25T13:12:02.571Z"
   },
   {
    "duration": 63,
    "start_time": "2024-03-25T13:12:02.659Z"
   },
   {
    "duration": 130,
    "start_time": "2024-03-25T13:12:02.724Z"
   },
   {
    "duration": 119,
    "start_time": "2024-03-25T13:12:02.857Z"
   },
   {
    "duration": 75,
    "start_time": "2024-03-25T13:12:02.978Z"
   },
   {
    "duration": 208,
    "start_time": "2024-03-25T13:12:03.054Z"
   },
   {
    "duration": 130,
    "start_time": "2024-03-25T13:12:03.263Z"
   },
   {
    "duration": 56,
    "start_time": "2024-03-25T13:12:03.394Z"
   },
   {
    "duration": 10,
    "start_time": "2024-03-25T13:12:03.452Z"
   },
   {
    "duration": 74,
    "start_time": "2024-03-25T13:12:03.463Z"
   },
   {
    "duration": 40,
    "start_time": "2024-03-25T13:12:03.539Z"
   },
   {
    "duration": 31,
    "start_time": "2024-03-25T13:12:03.582Z"
   },
   {
    "duration": 51,
    "start_time": "2024-03-25T13:12:03.615Z"
   },
   {
    "duration": 3,
    "start_time": "2024-03-25T13:12:03.668Z"
   },
   {
    "duration": 33,
    "start_time": "2024-03-25T13:12:03.673Z"
   },
   {
    "duration": 38,
    "start_time": "2024-03-25T13:12:03.707Z"
   },
   {
    "duration": 23,
    "start_time": "2024-03-25T13:12:03.747Z"
   },
   {
    "duration": 29,
    "start_time": "2024-03-25T13:12:03.772Z"
   },
   {
    "duration": 15,
    "start_time": "2024-03-25T13:12:03.803Z"
   },
   {
    "duration": 14,
    "start_time": "2024-03-25T13:12:03.820Z"
   },
   {
    "duration": 12,
    "start_time": "2024-03-25T13:12:03.835Z"
   },
   {
    "duration": 38,
    "start_time": "2024-03-25T13:12:03.850Z"
   },
   {
    "duration": 14,
    "start_time": "2024-03-25T13:12:03.890Z"
   },
   {
    "duration": 9,
    "start_time": "2024-03-25T13:12:03.905Z"
   },
   {
    "duration": 32,
    "start_time": "2024-03-25T13:12:03.915Z"
   },
   {
    "duration": 11,
    "start_time": "2024-03-25T13:12:03.948Z"
   },
   {
    "duration": 39,
    "start_time": "2024-03-25T13:12:03.961Z"
   },
   {
    "duration": 22,
    "start_time": "2024-03-25T13:12:04.001Z"
   },
   {
    "duration": 10,
    "start_time": "2024-03-25T13:12:04.026Z"
   },
   {
    "duration": 5,
    "start_time": "2024-03-25T13:12:04.038Z"
   },
   {
    "duration": 10,
    "start_time": "2024-03-25T13:12:04.045Z"
   },
   {
    "duration": 4,
    "start_time": "2024-03-25T13:12:04.057Z"
   },
   {
    "duration": 12,
    "start_time": "2024-03-25T13:14:45.464Z"
   },
   {
    "duration": 18,
    "start_time": "2024-03-25T13:17:01.719Z"
   },
   {
    "duration": 432,
    "start_time": "2024-03-25T13:20:04.757Z"
   },
   {
    "duration": 197,
    "start_time": "2024-03-25T13:20:05.197Z"
   },
   {
    "duration": 18,
    "start_time": "2024-03-25T13:20:05.398Z"
   },
   {
    "duration": 32,
    "start_time": "2024-03-25T13:20:05.419Z"
   },
   {
    "duration": 16,
    "start_time": "2024-03-25T13:20:05.453Z"
   },
   {
    "duration": 28,
    "start_time": "2024-03-25T13:20:05.470Z"
   },
   {
    "duration": 21,
    "start_time": "2024-03-25T13:20:05.500Z"
   },
   {
    "duration": 20,
    "start_time": "2024-03-25T13:20:05.522Z"
   },
   {
    "duration": 60,
    "start_time": "2024-03-25T13:20:05.544Z"
   },
   {
    "duration": 48,
    "start_time": "2024-03-25T13:20:05.606Z"
   },
   {
    "duration": 57,
    "start_time": "2024-03-25T13:20:05.655Z"
   },
   {
    "duration": 77,
    "start_time": "2024-03-25T13:20:05.713Z"
   },
   {
    "duration": 100,
    "start_time": "2024-03-25T13:20:05.797Z"
   },
   {
    "duration": 59,
    "start_time": "2024-03-25T13:20:05.899Z"
   },
   {
    "duration": 35,
    "start_time": "2024-03-25T13:20:05.960Z"
   },
   {
    "duration": 18,
    "start_time": "2024-03-25T13:20:05.998Z"
   },
   {
    "duration": 15,
    "start_time": "2024-03-25T13:20:06.017Z"
   },
   {
    "duration": 27,
    "start_time": "2024-03-25T13:20:06.034Z"
   },
   {
    "duration": 37,
    "start_time": "2024-03-25T13:20:06.063Z"
   },
   {
    "duration": 35,
    "start_time": "2024-03-25T13:20:06.102Z"
   },
   {
    "duration": 31,
    "start_time": "2024-03-25T13:20:06.138Z"
   },
   {
    "duration": 33,
    "start_time": "2024-03-25T13:20:06.171Z"
   },
   {
    "duration": 29,
    "start_time": "2024-03-25T13:20:06.206Z"
   },
   {
    "duration": 19,
    "start_time": "2024-03-25T13:20:06.236Z"
   },
   {
    "duration": 26,
    "start_time": "2024-03-25T13:20:06.257Z"
   },
   {
    "duration": 20,
    "start_time": "2024-03-25T13:20:06.285Z"
   },
   {
    "duration": 82,
    "start_time": "2024-03-25T13:20:06.306Z"
   },
   {
    "duration": 0,
    "start_time": "2024-03-25T13:20:06.389Z"
   },
   {
    "duration": 0,
    "start_time": "2024-03-25T13:20:06.392Z"
   },
   {
    "duration": 0,
    "start_time": "2024-03-25T13:20:06.395Z"
   },
   {
    "duration": 0,
    "start_time": "2024-03-25T13:20:06.397Z"
   },
   {
    "duration": 0,
    "start_time": "2024-03-25T13:20:06.398Z"
   },
   {
    "duration": 0,
    "start_time": "2024-03-25T13:20:06.400Z"
   },
   {
    "duration": 0,
    "start_time": "2024-03-25T13:20:06.401Z"
   },
   {
    "duration": 0,
    "start_time": "2024-03-25T13:20:06.402Z"
   },
   {
    "duration": 0,
    "start_time": "2024-03-25T13:20:06.403Z"
   },
   {
    "duration": 0,
    "start_time": "2024-03-25T13:20:06.404Z"
   },
   {
    "duration": 0,
    "start_time": "2024-03-25T13:20:06.405Z"
   },
   {
    "duration": 24,
    "start_time": "2024-03-25T13:21:25.593Z"
   },
   {
    "duration": 16,
    "start_time": "2024-03-25T13:21:36.721Z"
   },
   {
    "duration": 26,
    "start_time": "2024-03-25T13:36:49.220Z"
   },
   {
    "duration": 76,
    "start_time": "2024-03-25T13:42:36.650Z"
   },
   {
    "duration": 75,
    "start_time": "2024-03-25T13:42:40.765Z"
   },
   {
    "duration": 26,
    "start_time": "2024-03-25T13:52:23.575Z"
   },
   {
    "duration": 75,
    "start_time": "2024-03-25T13:56:07.211Z"
   },
   {
    "duration": 83,
    "start_time": "2024-03-25T13:56:32.651Z"
   },
   {
    "duration": 8,
    "start_time": "2024-03-25T13:57:52.624Z"
   },
   {
    "duration": 6,
    "start_time": "2024-03-25T13:58:36.133Z"
   },
   {
    "duration": 7,
    "start_time": "2024-03-25T13:59:03.156Z"
   },
   {
    "duration": 430,
    "start_time": "2024-03-25T13:59:14.784Z"
   },
   {
    "duration": 227,
    "start_time": "2024-03-25T13:59:15.215Z"
   },
   {
    "duration": 38,
    "start_time": "2024-03-25T13:59:15.444Z"
   },
   {
    "duration": 46,
    "start_time": "2024-03-25T13:59:15.485Z"
   },
   {
    "duration": 9,
    "start_time": "2024-03-25T13:59:15.533Z"
   },
   {
    "duration": 38,
    "start_time": "2024-03-25T13:59:15.544Z"
   },
   {
    "duration": 34,
    "start_time": "2024-03-25T13:59:15.585Z"
   },
   {
    "duration": 27,
    "start_time": "2024-03-25T13:59:15.621Z"
   },
   {
    "duration": 45,
    "start_time": "2024-03-25T13:59:15.650Z"
   },
   {
    "duration": 39,
    "start_time": "2024-03-25T13:59:15.697Z"
   },
   {
    "duration": 30,
    "start_time": "2024-03-25T13:59:15.738Z"
   },
   {
    "duration": 73,
    "start_time": "2024-03-25T13:59:15.781Z"
   },
   {
    "duration": 126,
    "start_time": "2024-03-25T13:59:15.856Z"
   },
   {
    "duration": 69,
    "start_time": "2024-03-25T13:59:15.984Z"
   },
   {
    "duration": 14,
    "start_time": "2024-03-25T13:59:16.055Z"
   },
   {
    "duration": 23,
    "start_time": "2024-03-25T13:59:16.070Z"
   },
   {
    "duration": 30,
    "start_time": "2024-03-25T13:59:16.095Z"
   },
   {
    "duration": 14,
    "start_time": "2024-03-25T13:59:16.127Z"
   },
   {
    "duration": 13,
    "start_time": "2024-03-25T13:59:16.143Z"
   },
   {
    "duration": 23,
    "start_time": "2024-03-25T13:59:16.158Z"
   },
   {
    "duration": 19,
    "start_time": "2024-03-25T13:59:16.183Z"
   },
   {
    "duration": 36,
    "start_time": "2024-03-25T13:59:16.204Z"
   },
   {
    "duration": 19,
    "start_time": "2024-03-25T13:59:16.242Z"
   },
   {
    "duration": 23,
    "start_time": "2024-03-25T13:59:16.262Z"
   },
   {
    "duration": 18,
    "start_time": "2024-03-25T13:59:16.287Z"
   },
   {
    "duration": 15,
    "start_time": "2024-03-25T13:59:16.306Z"
   },
   {
    "duration": 100,
    "start_time": "2024-03-25T13:59:16.323Z"
   },
   {
    "duration": 11,
    "start_time": "2024-03-25T13:59:16.426Z"
   },
   {
    "duration": 16,
    "start_time": "2024-03-25T13:59:16.439Z"
   },
   {
    "duration": 5,
    "start_time": "2024-03-25T13:59:16.457Z"
   },
   {
    "duration": 36,
    "start_time": "2024-03-25T13:59:16.463Z"
   },
   {
    "duration": 10,
    "start_time": "2024-03-25T13:59:16.501Z"
   },
   {
    "duration": 20,
    "start_time": "2024-03-25T13:59:16.513Z"
   },
   {
    "duration": 15,
    "start_time": "2024-03-25T13:59:16.534Z"
   },
   {
    "duration": 33,
    "start_time": "2024-03-25T13:59:16.551Z"
   },
   {
    "duration": 5,
    "start_time": "2024-03-25T13:59:16.585Z"
   },
   {
    "duration": 25,
    "start_time": "2024-03-25T13:59:16.591Z"
   },
   {
    "duration": 32,
    "start_time": "2024-03-25T13:59:16.618Z"
   }
  ],
  "celltoolbar": "Отсутствует",
  "colab": {
   "collapsed_sections": [
    "E0vqbgi9ay0H",
    "VUC88oWjTJw2"
   ],
   "provenance": []
  },
  "kernelspec": {
   "display_name": "Python 3 (ipykernel)",
   "language": "python",
   "name": "python3"
  },
  "language_info": {
   "codemirror_mode": {
    "name": "ipython",
    "version": 3
   },
   "file_extension": ".py",
   "mimetype": "text/x-python",
   "name": "python",
   "nbconvert_exporter": "python",
   "pygments_lexer": "ipython3",
   "version": "3.11.7"
  },
  "toc": {
   "base_numbering": 1,
   "nav_menu": {
    "height": "215px",
    "width": "403px"
   },
   "number_sections": true,
   "sideBar": true,
   "skip_h1_title": true,
   "title_cell": "Table of Contents",
   "title_sidebar": "Contents",
   "toc_cell": false,
   "toc_position": {
    "height": "calc(100% - 180px)",
    "left": "10px",
    "top": "150px",
    "width": "285.825px"
   },
   "toc_section_display": true,
   "toc_window_display": false
  }
 },
 "nbformat": 4,
 "nbformat_minor": 4
}
