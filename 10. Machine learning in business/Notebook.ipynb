{
 "cells": [
  {
   "cell_type": "markdown",
   "metadata": {},
   "source": [
    "# Выбор локации для скважины"
   ]
  },
  {
   "cell_type": "markdown",
   "metadata": {},
   "source": [
    "Допустим, вы работаете в добывающей компании «ГлавРосГосНефть». Нужно решить, где бурить новую скважину.\n",
    "\n",
    "Вам предоставлены пробы нефти в трёх регионах: в каждом 10 000 месторождений, где измерили качество нефти и объём её запасов. Постройте модель машинного обучения, которая поможет определить регион, где добыча принесёт наибольшую прибыль. Проанализируйте возможную прибыль и риски техникой *Bootstrap.*\n",
    "\n",
    "Шаги для выбора локации:\n",
    "\n",
    "- В избранном регионе ищут месторождения, для каждого определяют значения признаков;\n",
    "- Строят модель и оценивают объём запасов;\n",
    "- Выбирают месторождения с самым высокими оценками значений. Количество месторождений зависит от бюджета компании и стоимости разработки одной скважины;\n",
    "- Прибыль равна суммарной прибыли отобранных месторождений."
   ]
  },
  {
   "cell_type": "markdown",
   "metadata": {},
   "source": [
    "*Импорт необходимых библиотек* "
   ]
  },
  {
   "cell_type": "code",
   "execution_count": 4,
   "metadata": {},
   "outputs": [],
   "source": [
    "import pandas as pd \n",
    "import matplotlib.pyplot as plt\n",
    "from sklearn.model_selection import train_test_split\n",
    "from sklearn.pipeline import Pipeline\n",
    "from sklearn.compose import ColumnTransformer\n",
    "from sklearn.preprocessing import StandardScaler\n",
    "from sklearn.linear_model import LinearRegression\n",
    "from sklearn.metrics import mean_squared_error\n",
    "import numpy as np\n",
    "import seaborn as sns"
   ]
  },
  {
   "cell_type": "markdown",
   "metadata": {},
   "source": [
    "## Загрузка и подготовка данных"
   ]
  },
  {
   "cell_type": "markdown",
   "metadata": {},
   "source": [
    "<font color = 'blue'> Выполним подготовку данных по следующим действиям: </font>\n",
    "\n",
    "1. Загрузить данные, выгрузить общую информацию о датасетах, проведем небольшой исследовательский анализ\n",
    "2. Проверить на дубликаты, если имеются, то избавиться от них \n",
    "3. Масштабировать и закодировать данные с использованием пайплайна"
   ]
  },
  {
   "cell_type": "code",
   "execution_count": 7,
   "metadata": {},
   "outputs": [],
   "source": [
    "geo_data_1 = pd.read_csv(r\"C:\\Users\\nssavinov\\Desktop\\Пректы практикум\\9. Машинное обучение в бизнесе\\geo_data_0.csv\")\n",
    "geo_data_2 = pd.read_csv(r\"C:\\Users\\nssavinov\\Desktop\\Пректы практикум\\9. Машинное обучение в бизнесе\\geo_data_1.csv\")\n",
    "geo_data_3 = pd.read_csv(r\"C:\\Users\\nssavinov\\Desktop\\Пректы практикум\\9. Машинное обучение в бизнесе\\geo_data_2.csv\")"
   ]
  },
  {
   "cell_type": "code",
   "execution_count": 8,
   "metadata": {},
   "outputs": [],
   "source": [
    "datas = [geo_data_1, geo_data_2, geo_data_3]"
   ]
  },
  {
   "cell_type": "code",
   "execution_count": 9,
   "metadata": {
    "scrolled": true
   },
   "outputs": [
    {
     "name": "stdout",
     "output_type": "stream",
     "text": [
      "<class 'pandas.core.frame.DataFrame'>\n",
      "RangeIndex: 100000 entries, 0 to 99999\n",
      "Data columns (total 5 columns):\n",
      " #   Column   Non-Null Count   Dtype  \n",
      "---  ------   --------------   -----  \n",
      " 0   id       100000 non-null  object \n",
      " 1   f0       100000 non-null  float64\n",
      " 2   f1       100000 non-null  float64\n",
      " 3   f2       100000 non-null  float64\n",
      " 4   product  100000 non-null  float64\n",
      "dtypes: float64(4), object(1)\n",
      "memory usage: 3.8+ MB\n",
      "<class 'pandas.core.frame.DataFrame'>\n",
      "RangeIndex: 100000 entries, 0 to 99999\n",
      "Data columns (total 5 columns):\n",
      " #   Column   Non-Null Count   Dtype  \n",
      "---  ------   --------------   -----  \n",
      " 0   id       100000 non-null  object \n",
      " 1   f0       100000 non-null  float64\n",
      " 2   f1       100000 non-null  float64\n",
      " 3   f2       100000 non-null  float64\n",
      " 4   product  100000 non-null  float64\n",
      "dtypes: float64(4), object(1)\n",
      "memory usage: 3.8+ MB\n",
      "<class 'pandas.core.frame.DataFrame'>\n",
      "RangeIndex: 100000 entries, 0 to 99999\n",
      "Data columns (total 5 columns):\n",
      " #   Column   Non-Null Count   Dtype  \n",
      "---  ------   --------------   -----  \n",
      " 0   id       100000 non-null  object \n",
      " 1   f0       100000 non-null  float64\n",
      " 2   f1       100000 non-null  float64\n",
      " 3   f2       100000 non-null  float64\n",
      " 4   product  100000 non-null  float64\n",
      "dtypes: float64(4), object(1)\n",
      "memory usage: 3.8+ MB\n"
     ]
    },
    {
     "data": {
      "text/plain": [
       "[None, None, None]"
      ]
     },
     "metadata": {},
     "output_type": "display_data"
    },
    {
     "data": {
      "text/plain": [
       "[          id        f0        f1        f2    product\n",
       " 86839  hdGKg  1.940923  0.430479  2.666361  111.33898,\n",
       "           id         f0        f1        f2    product\n",
       " 62804  06JGg  10.479366  5.364413  1.998345  53.906522,\n",
       "           id        f0        f1        f2     product\n",
       " 73278  baDij -0.981757  3.942166  3.160204  142.761692]"
      ]
     },
     "metadata": {},
     "output_type": "display_data"
    }
   ],
   "source": [
    "display([i.info() for i in datas])\n",
    "display([i.sample(1) for i in datas])"
   ]
  },
  {
   "cell_type": "markdown",
   "metadata": {},
   "source": [
    "**1.** Пропусков в таблице не имеется, все типы данных соответсвуют переменным. При подготовке данных необходимо будет только использовать масштабирование. \n",
    "\n",
    "Далее, исследовательский анализ, избавимся от айдишников в датасете и проверим на дубликаты "
   ]
  },
  {
   "cell_type": "code",
   "execution_count": 11,
   "metadata": {
    "scrolled": true
   },
   "outputs": [
    {
     "data": {
      "image/png": "[encoded data removed]",
      "text/plain": [
       "<Figure size 800x20 with 1 Axes>"
      ]
     },
     "metadata": {},
     "output_type": "display_data"
    },
    {
     "data": {
      "image/png": "[encoded data removed]",
      "text/plain": [
       "<Figure size 640x480 with 1 Axes>"
      ]
     },
     "metadata": {},
     "output_type": "display_data"
    },
    {
     "data": {
      "image/png": "[encoded data removed]",
      "text/plain": [
       "<Figure size 640x480 with 1 Axes>"
      ]
     },
     "metadata": {},
     "output_type": "display_data"
    },
    {
     "data": {
      "image/png": "[encoded data removed]",
      "text/plain": [
       "<Figure size 640x480 with 1 Axes>"
      ]
     },
     "metadata": {},
     "output_type": "display_data"
    },
    {
     "data": {
      "image/png": "[encoded data removed]",
      "text/plain": [
       "<Figure size 640x480 with 1 Axes>"
      ]
     },
     "metadata": {},
     "output_type": "display_data"
    },
    {
     "data": {
      "image/png": "[encoded data removed]",
      "text/plain": [
       "<Figure size 640x480 with 1 Axes>"
      ]
     },
     "metadata": {},
     "output_type": "display_data"
    },
    {
     "data": {
      "image/png": "[encoded data removed]",
      "text/plain": [
       "<Figure size 640x480 with 1 Axes>"
      ]
     },
     "metadata": {},
     "output_type": "display_data"
    },
    {
     "data": {
      "image/png": "[encoded data removed]",
      "text/plain": [
       "<Figure size 640x480 with 1 Axes>"
      ]
     },
     "metadata": {},
     "output_type": "display_data"
    },
    {
     "data": {
      "image/png": "[encoded data removed]",
      "text/plain": [
       "<Figure size 640x480 with 1 Axes>"
      ]
     },
     "metadata": {},
     "output_type": "display_data"
    },
    {
     "data": {
      "image/png": "[encoded data removed]",
      "text/plain": [
       "<Figure size 800x20 with 1 Axes>"
      ]
     },
     "metadata": {},
     "output_type": "display_data"
    },
    {
     "data": {
      "image/png": "[encoded data removed]",
      "text/plain": [
       "<Figure size 640x480 with 1 Axes>"
      ]
     },
     "metadata": {},
     "output_type": "display_data"
    },
    {
     "data": {
      "image/png": "[encoded data removed]",
      "text/plain": [
       "<Figure size 640x480 with 1 Axes>"
      ]
     },
     "metadata": {},
     "output_type": "display_data"
    },
    {
     "data": {
      "image/png": "[encoded data removed]",
      "text/plain": [
       "<Figure size 640x480 with 1 Axes>"
      ]
     },
     "metadata": {},
     "output_type": "display_data"
    },
    {
     "data": {
      "image/png": "[encoded data removed]",
      "text/plain": [
       "<Figure size 640x480 with 1 Axes>"
      ]
     },
     "metadata": {},
     "output_type": "display_data"
    },
    {
     "data": {
      "image/png": "[encoded data removed]",
      "text/plain": [
       "<Figure size 640x480 with 1 Axes>"
      ]
     },
     "metadata": {},
     "output_type": "display_data"
    },
    {
     "data": {
      "image/png": "[encoded data removed]",
      "text/plain": [
       "<Figure size 640x480 with 1 Axes>"
      ]
     },
     "metadata": {},
     "output_type": "display_data"
    },
    {
     "data": {
      "image/png": "[encoded data removed]",
      "text/plain": [
       "<Figure size 640x480 with 1 Axes>"
      ]
     },
     "metadata": {},
     "output_type": "display_data"
    },
    {
     "data": {
      "image/png": "[encoded data removed]",
      "text/plain": [
       "<Figure size 640x480 with 1 Axes>"
      ]
     },
     "metadata": {},
     "output_type": "display_data"
    },
    {
     "data": {
      "image/png": "[encoded data removed]",
      "text/plain": [
       "<Figure size 800x20 with 1 Axes>"
      ]
     },
     "metadata": {},
     "output_type": "display_data"
    },
    {
     "data": {
      "image/png": "[encoded data removed]",
      "text/plain": [
       "<Figure size 640x480 with 1 Axes>"
      ]
     },
     "metadata": {},
     "output_type": "display_data"
    },
    {
     "data": {
      "image/png": "[encoded data removed]",
      "text/plain": [
       "<Figure size 640x480 with 1 Axes>"
      ]
     },
     "metadata": {},
     "output_type": "display_data"
    },
    {
     "data": {
      "image/png": "[encoded data removed]",
      "text/plain": [
       "<Figure size 640x480 with 1 Axes>"
      ]
     },
     "metadata": {},
     "output_type": "display_data"
    },
    {
     "data": {
      "image/png": "[encoded data removed]",
      "text/plain": [
       "<Figure size 640x480 with 1 Axes>"
      ]
     },
     "metadata": {},
     "output_type": "display_data"
    },
    {
     "data": {
      "image/png": "[encoded data removed]",
      "text/plain": [
       "<Figure size 640x480 with 1 Axes>"
      ]
     },
     "metadata": {},
     "output_type": "display_data"
    },
    {
     "data": {
      "image/png": "[encoded data removed]",
      "text/plain": [
       "<Figure size 640x480 with 1 Axes>"
      ]
     },
     "metadata": {},
     "output_type": "display_data"
    },
    {
     "data": {
      "image/png": "[encoded data removed]",
      "text/plain": [
       "<Figure size 640x480 with 1 Axes>"
      ]
     },
     "metadata": {},
     "output_type": "display_data"
    },
    {
     "data": {
      "image/png": "[encoded data removed]",
      "text/plain": [
       "<Figure size 640x480 with 1 Axes>"
      ]
     },
     "metadata": {},
     "output_type": "display_data"
    }
   ],
   "source": [
    "def analize(df, signs):\n",
    "    plt.figure(figsize=(8, 0.2))\n",
    "    plt.text(0.5, 0.5,f'Результат анализа таблицы {df.name}', fontsize=20)  \n",
    "    plt.axis('off')\n",
    "    plt.show()\n",
    "    for sign in signs:\n",
    "                \n",
    "        df[sign].hist()\n",
    "        plt.title(sign)\n",
    "        plt.show()\n",
    "        \n",
    "        plt.boxplot(df[sign], vert = False)\n",
    "        plt.show()\n",
    "        \n",
    "\n",
    "geo_data_1.name = 'geo_data_1'\n",
    "analize (geo_data_1, ['f0', 'f1', 'f2', 'product'])\n",
    "geo_data_2.name = 'geo_data_2'\n",
    "analize (geo_data_2, ['f0', 'f1', 'f2', 'product'])\n",
    "geo_data_3.name = 'geo_data_3'\n",
    "analize (geo_data_3, ['f0', 'f1', 'f2', 'product'])"
   ]
  },
  {
   "cell_type": "markdown",
   "metadata": {},
   "source": [
    "**Результат исследовательского анализа:**\n",
    "\n",
    "необходимо произвести масштабирование данных перед обучением и исмользованием МО "
   ]
  },
  {
   "cell_type": "code",
   "execution_count": 13,
   "metadata": {},
   "outputs": [],
   "source": [
    "def clean_check(info):\n",
    "    info = info.drop(columns = 'id', axis = 1)\n",
    "    print(info.duplicated().sum())\n",
    "    return info"
   ]
  },
  {
   "cell_type": "code",
   "execution_count": 14,
   "metadata": {
    "scrolled": true
   },
   "outputs": [
    {
     "name": "stdout",
     "output_type": "stream",
     "text": [
      "0\n",
      "0\n",
      "0\n"
     ]
    }
   ],
   "source": [
    "geo_data_1 = clean_check(geo_data_1)\n",
    "geo_data_2 = clean_check(geo_data_2)\n",
    "geo_data_3 = clean_check(geo_data_3)"
   ]
  },
  {
   "cell_type": "markdown",
   "metadata": {},
   "source": [
    "Дубликатов **не обнаруженно**. \n",
    "\n",
    "Далее сделаем трейновые и тестовые выборки, масштабируем их"
   ]
  },
  {
   "cell_type": "code",
   "execution_count": 16,
   "metadata": {},
   "outputs": [],
   "source": [
    "X_1 = geo_data_1.drop(columns = 'product', axis = 1)\n",
    "y_1 = geo_data_1['product']\n",
    "\n",
    "X_2 = geo_data_2.drop(columns = 'product', axis = 1)\n",
    "y_2 = geo_data_2['product']\n",
    "\n",
    "X_3 = geo_data_3.drop(columns = 'product', axis = 1)\n",
    "y_3 = geo_data_3['product']"
   ]
  },
  {
   "cell_type": "code",
   "execution_count": 17,
   "metadata": {},
   "outputs": [],
   "source": [
    "test_size = 0.25\n",
    "RANDOM_STATE = 44\n",
    "\n",
    "X_1_train, X_1_test, y_1_train, y_1_test = train_test_split(X_1, y_1, test_size = test_size, random_state = RANDOM_STATE)\n",
    "X_2_train, X_2_test, y_2_train, y_2_test = train_test_split(X_2, y_2, test_size = test_size, random_state = RANDOM_STATE)\n",
    "X_3_train, X_3_test, y_3_train, y_3_test = train_test_split(X_3, y_3, test_size = test_size, random_state = RANDOM_STATE)"
   ]
  },
  {
   "cell_type": "code",
   "execution_count": 18,
   "metadata": {},
   "outputs": [],
   "source": [
    "num_columns = X_1_train.select_dtypes(include = 'number').columns\n",
    "\n",
    "data_preprocessor = ColumnTransformer(transformers = \n",
    "                                      [\n",
    "                                          ('num', StandardScaler(), num_columns)\n",
    "                                      ],\n",
    "                                     remainder = 'passthrough')\n",
    "\n",
    "def transformer(X_train, X_test):\n",
    "    x_transformed_train = data_preprocessor.fit_transform(X_train)\n",
    "    x_transformed_test = data_preprocessor.transform(X_test)\n",
    "    \n",
    "    return(pd.DataFrame(x_transformed_train, columns = num_columns),\n",
    "           pd.DataFrame(x_transformed_test, columns = num_columns))\n",
    "    \n",
    "X_1_train, X_1_test =  transformer(X_1_train, X_1_test)\n",
    "X_2_train, X_2_test =  transformer(X_2_train, X_2_test)\n",
    "X_3_train, X_3_test =  transformer(X_3_train, X_3_test)"
   ]
  },
  {
   "cell_type": "markdown",
   "metadata": {},
   "source": [
    "<font color = 'blue' size = 5>Результатом выполнением текущего пункта является: </font>\n",
    "\n",
    "1. Загружены данные, выгружена общая информацая о датасетах, проведем небольшой исследовательский анализ, убедились что данные необходимо масштабировать\n",
    "2. После удалиения айдишников, поняли, что дубликатов в системе не имеется\n",
    "3. Масштабировать данные с использованием пайплайна\n",
    "\n",
    "<font color = 'green' size = 4><b>Можно приступать к следующему пункту, а именно, производить обучение модели и проверку ее качества"
   ]
  },
  {
   "cell_type": "markdown",
   "metadata": {},
   "source": [
    "## Обучение и проверка модели"
   ]
  },
  {
   "cell_type": "markdown",
   "metadata": {},
   "source": [
    " По заданию требуется следующее: \n",
    " \n",
    " 1. Разбейте данные на обучающую и валидационную выборки в соотношении 75:25. - *сделано в предыдущем пункте*\n",
    " 2. Обучите модель и сделайте предсказания на валидационной выборке.\n",
    " 3. Сохраните предсказания и правильные ответы на валидационной выборке.\n",
    " 4. Напечатайте на экране средний запас предсказанного сырья и RMSE модели.\n",
    " 5. Проанализируйте результаты.\n",
    " \n",
    "Условие задачи в данном пункте: \n",
    " \n",
    "Для обучения модели подходит только линейная регрессия (остальные — недостаточно предсказуемые)."
   ]
  },
  {
   "cell_type": "code",
   "execution_count": 22,
   "metadata": {},
   "outputs": [],
   "source": [
    "model = LinearRegression()\n",
    "\n",
    "def model_calculation(x_train, x_test, y_train, y_test):\n",
    "    model.fit(x_train, y_train)\n",
    "    y_pred = model.predict(x_test)\n",
    "    metrica = np.sqrt(mean_squared_error(y_test, y_pred))\n",
    "    return(y_pred, metrica)\n",
    "\n",
    "y_1_test_predict, RMSE_1= model_calculation(X_1_train, X_1_test, y_1_train, y_1_test)\n",
    "y_2_test_predict, RMSE_2= model_calculation(X_2_train, X_2_test, y_2_train, y_2_test)\n",
    "y_3_test_predict, RMSE_3= model_calculation(X_3_train, X_3_test, y_3_train, y_3_test)"
   ]
  },
  {
   "cell_type": "code",
   "execution_count": 23,
   "metadata": {},
   "outputs": [],
   "source": [
    "def result_trasformstion(y_test, y_pred):\n",
    "    y_test = pd.DataFrame(y_test).reset_index()\n",
    "    y = pd.concat([y_test, pd.Series(y_pred)], axis = 1)\n",
    "    y = y.rename(columns={0: 'predict'})\n",
    "    return(y)"
   ]
  },
  {
   "cell_type": "code",
   "execution_count": 24,
   "metadata": {},
   "outputs": [
    {
     "data": {
      "text/html": [
       "<div>\n",
       "<style scoped>\n",
       "    .dataframe tbody tr th:only-of-type {\n",
       "        vertical-align: middle;\n",
       "    }\n",
       "\n",
       "    .dataframe tbody tr th {\n",
       "        vertical-align: top;\n",
       "    }\n",
       "\n",
       "    .dataframe thead th {\n",
       "        text-align: right;\n",
       "    }\n",
       "</style>\n",
       "<table border=\"1\" class=\"dataframe\">\n",
       "  <thead>\n",
       "    <tr style=\"text-align: right;\">\n",
       "      <th></th>\n",
       "      <th>index</th>\n",
       "      <th>product</th>\n",
       "      <th>predict</th>\n",
       "    </tr>\n",
       "  </thead>\n",
       "  <tbody>\n",
       "    <tr>\n",
       "      <th>0</th>\n",
       "      <td>39574</td>\n",
       "      <td>30.927826</td>\n",
       "      <td>96.177671</td>\n",
       "    </tr>\n",
       "    <tr>\n",
       "      <th>1</th>\n",
       "      <td>537</td>\n",
       "      <td>166.244516</td>\n",
       "      <td>87.006538</td>\n",
       "    </tr>\n",
       "    <tr>\n",
       "      <th>2</th>\n",
       "      <td>99246</td>\n",
       "      <td>93.182240</td>\n",
       "      <td>97.913842</td>\n",
       "    </tr>\n",
       "    <tr>\n",
       "      <th>3</th>\n",
       "      <td>39498</td>\n",
       "      <td>84.403121</td>\n",
       "      <td>56.762101</td>\n",
       "    </tr>\n",
       "    <tr>\n",
       "      <th>4</th>\n",
       "      <td>24797</td>\n",
       "      <td>104.505753</td>\n",
       "      <td>88.361431</td>\n",
       "    </tr>\n",
       "    <tr>\n",
       "      <th>...</th>\n",
       "      <td>...</td>\n",
       "      <td>...</td>\n",
       "      <td>...</td>\n",
       "    </tr>\n",
       "    <tr>\n",
       "      <th>24995</th>\n",
       "      <td>75642</td>\n",
       "      <td>124.321332</td>\n",
       "      <td>98.864000</td>\n",
       "    </tr>\n",
       "    <tr>\n",
       "      <th>24996</th>\n",
       "      <td>50108</td>\n",
       "      <td>122.328358</td>\n",
       "      <td>50.574154</td>\n",
       "    </tr>\n",
       "    <tr>\n",
       "      <th>24997</th>\n",
       "      <td>68698</td>\n",
       "      <td>135.448024</td>\n",
       "      <td>106.977212</td>\n",
       "    </tr>\n",
       "    <tr>\n",
       "      <th>24998</th>\n",
       "      <td>22229</td>\n",
       "      <td>151.468462</td>\n",
       "      <td>95.502595</td>\n",
       "    </tr>\n",
       "    <tr>\n",
       "      <th>24999</th>\n",
       "      <td>43884</td>\n",
       "      <td>56.992382</td>\n",
       "      <td>95.958876</td>\n",
       "    </tr>\n",
       "  </tbody>\n",
       "</table>\n",
       "<p>25000 rows × 3 columns</p>\n",
       "</div>"
      ],
      "text/plain": [
       "       index     product     predict\n",
       "0      39574   30.927826   96.177671\n",
       "1        537  166.244516   87.006538\n",
       "2      99246   93.182240   97.913842\n",
       "3      39498   84.403121   56.762101\n",
       "4      24797  104.505753   88.361431\n",
       "...      ...         ...         ...\n",
       "24995  75642  124.321332   98.864000\n",
       "24996  50108  122.328358   50.574154\n",
       "24997  68698  135.448024  106.977212\n",
       "24998  22229  151.468462   95.502595\n",
       "24999  43884   56.992382   95.958876\n",
       "\n",
       "[25000 rows x 3 columns]"
      ]
     },
     "execution_count": 24,
     "metadata": {},
     "output_type": "execute_result"
    }
   ],
   "source": [
    "y_1 = result_trasformstion(y_1_test, y_1_test_predict)\n",
    "y_2 = result_trasformstion(y_2_test, y_2_test_predict)\n",
    "y_3 = result_trasformstion(y_3_test, y_3_test_predict)\n",
    "y_3"
   ]
  },
  {
   "cell_type": "code",
   "execution_count": 25,
   "metadata": {},
   "outputs": [
    {
     "name": "stdout",
     "output_type": "stream",
     "text": [
      "Метрика первого датасета - 37.77\n",
      "\n",
      "Метрика второго датасета - 0.89\n",
      "\n",
      "Метрика третьего датасета - 40.11\n"
     ]
    }
   ],
   "source": [
    "print(f'Метрика первого датасета - {RMSE_1:.2f}')\n",
    "print()\n",
    "print(f'Метрика второго датасета - {RMSE_2:.2f}')\n",
    "print()\n",
    "print(f'Метрика третьего датасета - {RMSE_3:.2f}')"
   ]
  },
  {
   "cell_type": "markdown",
   "metadata": {},
   "source": [
    "Вывод результатов после объединения таблиц."
   ]
  },
  {
   "cell_type": "code",
   "execution_count": 27,
   "metadata": {},
   "outputs": [],
   "source": [
    "def count_debit(y, n):\n",
    "    plt.figure (figsize = (1,0.01))\n",
    "    plt.text(0.5, 0.5, f'Изучение результатов предсказания по датасету № {n}', fontsize = 20)\n",
    "    plt.axis('off') \n",
    "    plt.show()\n",
    "\n",
    "    display(y.sample(5))\n",
    "    \n",
    "    plt.figure(figsize = (10,6))\n",
    "\n",
    "    sns.histplot(data=y, x = 'product', color = 'green')\n",
    "    sns.histplot(data=y, x = 'predict', color = 'red')\n",
    "\n",
    "    plt.legend(title = 'Продуктивность', labels = ['Действительная', 'Предсказанная'])\n",
    "    plt.xlabel ('Продуктивность скважины')\n",
    "    plt.ylabel ('Количество')\n",
    "    plt.show() "
   ]
  },
  {
   "cell_type": "code",
   "execution_count": 28,
   "metadata": {},
   "outputs": [
    {
     "data": {
      "image/png": "[encoded data removed]",
      "text/plain": [
       "<Figure size 100x1 with 1 Axes>"
      ]
     },
     "metadata": {},
     "output_type": "display_data"
    },
    {
     "data": {
      "text/html": [
       "<div>\n",
       "<style scoped>\n",
       "    .dataframe tbody tr th:only-of-type {\n",
       "        vertical-align: middle;\n",
       "    }\n",
       "\n",
       "    .dataframe tbody tr th {\n",
       "        vertical-align: top;\n",
       "    }\n",
       "\n",
       "    .dataframe thead th {\n",
       "        text-align: right;\n",
       "    }\n",
       "</style>\n",
       "<table border=\"1\" class=\"dataframe\">\n",
       "  <thead>\n",
       "    <tr style=\"text-align: right;\">\n",
       "      <th></th>\n",
       "      <th>index</th>\n",
       "      <th>product</th>\n",
       "      <th>predict</th>\n",
       "    </tr>\n",
       "  </thead>\n",
       "  <tbody>\n",
       "    <tr>\n",
       "      <th>9393</th>\n",
       "      <td>89400</td>\n",
       "      <td>54.049823</td>\n",
       "      <td>54.904831</td>\n",
       "    </tr>\n",
       "    <tr>\n",
       "      <th>20327</th>\n",
       "      <td>47220</td>\n",
       "      <td>87.186826</td>\n",
       "      <td>90.870153</td>\n",
       "    </tr>\n",
       "    <tr>\n",
       "      <th>3367</th>\n",
       "      <td>56866</td>\n",
       "      <td>31.290099</td>\n",
       "      <td>76.849362</td>\n",
       "    </tr>\n",
       "    <tr>\n",
       "      <th>13097</th>\n",
       "      <td>69292</td>\n",
       "      <td>140.518095</td>\n",
       "      <td>122.437327</td>\n",
       "    </tr>\n",
       "    <tr>\n",
       "      <th>23515</th>\n",
       "      <td>27147</td>\n",
       "      <td>55.124234</td>\n",
       "      <td>53.851412</td>\n",
       "    </tr>\n",
       "  </tbody>\n",
       "</table>\n",
       "</div>"
      ],
      "text/plain": [
       "       index     product     predict\n",
       "9393   89400   54.049823   54.904831\n",
       "20327  47220   87.186826   90.870153\n",
       "3367   56866   31.290099   76.849362\n",
       "13097  69292  140.518095  122.437327\n",
       "23515  27147   55.124234   53.851412"
      ]
     },
     "metadata": {},
     "output_type": "display_data"
    },
    {
     "data": {
      "image/png": "[encoded data removed]",
      "text/plain": [
       "<Figure size 1000x600 with 1 Axes>"
      ]
     },
     "metadata": {},
     "output_type": "display_data"
    }
   ],
   "source": [
    "count_debit(y_1, 1)"
   ]
  },
  {
   "cell_type": "code",
   "execution_count": 29,
   "metadata": {},
   "outputs": [
    {
     "data": {
      "image/png": "[encoded data removed]",
      "text/plain": [
       "<Figure size 100x1 with 1 Axes>"
      ]
     },
     "metadata": {},
     "output_type": "display_data"
    },
    {
     "data": {
      "text/html": [
       "<div>\n",
       "<style scoped>\n",
       "    .dataframe tbody tr th:only-of-type {\n",
       "        vertical-align: middle;\n",
       "    }\n",
       "\n",
       "    .dataframe tbody tr th {\n",
       "        vertical-align: top;\n",
       "    }\n",
       "\n",
       "    .dataframe thead th {\n",
       "        text-align: right;\n",
       "    }\n",
       "</style>\n",
       "<table border=\"1\" class=\"dataframe\">\n",
       "  <thead>\n",
       "    <tr style=\"text-align: right;\">\n",
       "      <th></th>\n",
       "      <th>index</th>\n",
       "      <th>product</th>\n",
       "      <th>predict</th>\n",
       "    </tr>\n",
       "  </thead>\n",
       "  <tbody>\n",
       "    <tr>\n",
       "      <th>15459</th>\n",
       "      <td>70127</td>\n",
       "      <td>134.766305</td>\n",
       "      <td>135.221330</td>\n",
       "    </tr>\n",
       "    <tr>\n",
       "      <th>20084</th>\n",
       "      <td>65190</td>\n",
       "      <td>137.945408</td>\n",
       "      <td>137.861116</td>\n",
       "    </tr>\n",
       "    <tr>\n",
       "      <th>16675</th>\n",
       "      <td>28865</td>\n",
       "      <td>57.085625</td>\n",
       "      <td>56.607016</td>\n",
       "    </tr>\n",
       "    <tr>\n",
       "      <th>8529</th>\n",
       "      <td>45104</td>\n",
       "      <td>30.132364</td>\n",
       "      <td>30.331196</td>\n",
       "    </tr>\n",
       "    <tr>\n",
       "      <th>6308</th>\n",
       "      <td>33910</td>\n",
       "      <td>84.038886</td>\n",
       "      <td>84.303767</td>\n",
       "    </tr>\n",
       "  </tbody>\n",
       "</table>\n",
       "</div>"
      ],
      "text/plain": [
       "       index     product     predict\n",
       "15459  70127  134.766305  135.221330\n",
       "20084  65190  137.945408  137.861116\n",
       "16675  28865   57.085625   56.607016\n",
       "8529   45104   30.132364   30.331196\n",
       "6308   33910   84.038886   84.303767"
      ]
     },
     "metadata": {},
     "output_type": "display_data"
    },
    {
     "data": {
      "image/png": "[encoded data removed]",
      "text/plain": [
       "<Figure size 1000x600 with 1 Axes>"
      ]
     },
     "metadata": {},
     "output_type": "display_data"
    }
   ],
   "source": [
    "count_debit(y_2, 2)"
   ]
  },
  {
   "cell_type": "code",
   "execution_count": 30,
   "metadata": {},
   "outputs": [
    {
     "data": {
      "image/png": "[encoded data removed]",
      "text/plain": [
       "<Figure size 100x1 with 1 Axes>"
      ]
     },
     "metadata": {},
     "output_type": "display_data"
    },
    {
     "data": {
      "text/html": [
       "<div>\n",
       "<style scoped>\n",
       "    .dataframe tbody tr th:only-of-type {\n",
       "        vertical-align: middle;\n",
       "    }\n",
       "\n",
       "    .dataframe tbody tr th {\n",
       "        vertical-align: top;\n",
       "    }\n",
       "\n",
       "    .dataframe thead th {\n",
       "        text-align: right;\n",
       "    }\n",
       "</style>\n",
       "<table border=\"1\" class=\"dataframe\">\n",
       "  <thead>\n",
       "    <tr style=\"text-align: right;\">\n",
       "      <th></th>\n",
       "      <th>index</th>\n",
       "      <th>product</th>\n",
       "      <th>predict</th>\n",
       "    </tr>\n",
       "  </thead>\n",
       "  <tbody>\n",
       "    <tr>\n",
       "      <th>7281</th>\n",
       "      <td>22547</td>\n",
       "      <td>110.040130</td>\n",
       "      <td>106.098734</td>\n",
       "    </tr>\n",
       "    <tr>\n",
       "      <th>18316</th>\n",
       "      <td>71387</td>\n",
       "      <td>101.849218</td>\n",
       "      <td>104.968371</td>\n",
       "    </tr>\n",
       "    <tr>\n",
       "      <th>17176</th>\n",
       "      <td>38661</td>\n",
       "      <td>74.618919</td>\n",
       "      <td>90.733212</td>\n",
       "    </tr>\n",
       "    <tr>\n",
       "      <th>21121</th>\n",
       "      <td>55488</td>\n",
       "      <td>48.110042</td>\n",
       "      <td>74.115190</td>\n",
       "    </tr>\n",
       "    <tr>\n",
       "      <th>2894</th>\n",
       "      <td>76288</td>\n",
       "      <td>107.281261</td>\n",
       "      <td>108.355235</td>\n",
       "    </tr>\n",
       "  </tbody>\n",
       "</table>\n",
       "</div>"
      ],
      "text/plain": [
       "       index     product     predict\n",
       "7281   22547  110.040130  106.098734\n",
       "18316  71387  101.849218  104.968371\n",
       "17176  38661   74.618919   90.733212\n",
       "21121  55488   48.110042   74.115190\n",
       "2894   76288  107.281261  108.355235"
      ]
     },
     "metadata": {},
     "output_type": "display_data"
    },
    {
     "data": {
      "image/png": "[encoded data removed]",
      "text/plain": [
       "<Figure size 1000x600 with 1 Axes>"
      ]
     },
     "metadata": {},
     "output_type": "display_data"
    }
   ],
   "source": [
    "count_debit(y_3, 3)"
   ]
  },
  {
   "cell_type": "markdown",
   "metadata": {},
   "source": [
    "<font color = 'blue' size = '5'><b> Результаты проведения данного пункта</b></font>\n",
    "\n",
    "По результатам проведения данного пункта было выполнено следующее: \n",
    "1. 3 датасета было разбито на трейновые и тестовые выборки на основании которых проводилось обучение модели и ее проверка в последующем\n",
    "2. Проведено обучение 3х моделей, расчитаны метрики на всех 3х моделях, по метрикам было показано, что лучше всего модель функционирует в 2м датасете\n",
    "3. Результаты объединены в одном датафрейме и видно, что отличие действительно не сильное \n",
    "4. Построены гистограммы распределения из которых можно сделать вывод, 2 распределение +- одинаковое, по 1 и 3 видно что погрешность имеется. "
   ]
  },
  {
   "cell_type": "markdown",
   "metadata": {},
   "source": [
    "## Подготовка к расчёту прибыли"
   ]
  },
  {
   "cell_type": "markdown",
   "metadata": {},
   "source": [
    "Подготовьтесь к расчёту прибыли:\n",
    " 1. Все ключевые значения для расчётов сохраните в отдельных переменных.\n",
    " 2. Рассчитайте достаточный объём сырья для безубыточной разработки новой скважины. Сравните полученный объём сырья со средним запасом в каждом регионе. \n",
    " 3. Напишите выводы по этапу подготовки расчёта прибыли.\n",
    " \n",
    "- Бюджет на разработку скважин в регионе — 10 млрд рублей.\n",
    "- При нынешних ценах один баррель сырья приносит 450 рублей дохода. Доход с каждой единицы продукта составляет 450 тыс. рублей, поскольку объём указан в тысячах баррелей.\n",
    "- Количество скважин которое будет выбираться = 200 штук! "
   ]
  },
  {
   "cell_type": "code",
   "execution_count": 34,
   "metadata": {},
   "outputs": [],
   "source": [
    "budget = 10_000_000_000\n",
    "price_per_barrel = 450_000\n",
    "well_numbers = 200"
   ]
  },
  {
   "cell_type": "code",
   "execution_count": 35,
   "metadata": {},
   "outputs": [
    {
     "name": "stdout",
     "output_type": "stream",
     "text": [
      "Среднюю продуктичность средней скважины для того чтобы наши средства окупились должна равняться = 111.11\n"
     ]
    }
   ],
   "source": [
    "#Посчитаем среднюю продуктичность средней скваижны для того чтобы наши средства окупились \n",
    "\n",
    "average_well_production = round(budget / price_per_barrel / well_numbers, 2)\n",
    "\n",
    "print(f'Среднюю продуктичность средней скважины для того чтобы наши средства окупились должна равняться = {average_well_production}')"
   ]
  },
  {
   "cell_type": "code",
   "execution_count": 36,
   "metadata": {},
   "outputs": [
    {
     "name": "stdout",
     "output_type": "stream",
     "text": [
      "Ситуация в Регион 1\n",
      "Средняя минимальная добыча для достижения безубыточности предприятия БОЛЬШЕ, чем средняя добыча на данном участке\n",
      "111.11 > 92.47\n",
      "\n",
      "Ситуация в Регион 2\n",
      "Средняя минимальная добыча для достижения безубыточности предприятия БОЛЬШЕ, чем средняя добыча на данном участке\n",
      "111.11 > 68.52\n",
      "\n",
      "Ситуация в Регион 3\n",
      "Средняя минимальная добыча для достижения безубыточности предприятия БОЛЬШЕ, чем средняя добыча на данном участке\n",
      "111.11 > 94.87\n",
      "\n"
     ]
    }
   ],
   "source": [
    "y_1.name = 'Регион 1'\n",
    "y_2.name = 'Регион 2'\n",
    "y_3.name = 'Регион 3'\n",
    "\n",
    "for y in [y_1, y_2, y_3]:\n",
    "    print(f'Ситуация в {y.name}')\n",
    "    if y['product'].mean() < average_well_production:\n",
    "        print('Средняя минимальная добыча для достижения безубыточности предприятия БОЛЬШЕ, чем средняя добыча на данном участке')\n",
    "        print(f\"{average_well_production} > {(y['product'].mean()).round(2)}\")\n",
    "    else: \n",
    "        print('Средняя минимальная добыча для достижения безубыточности предприятия МЕНЬШЕ, чем средняя добыча на данном участке')\n",
    "        print(f\"{average_well_production} < {(y['product'].mean()).round(2)}\")\n",
    "    print()"
   ]
  },
  {
   "cell_type": "markdown",
   "metadata": {},
   "source": [
    "<font color = 'blue' size = 5><b> Результаты выполнения данного пункта:</b></font>\n",
    "\n",
    "1. Была расчитана средняя продуктивность скважины для достижения безубыточности предприятия = 111.11 т.б.\n",
    "2. Так же проведено сравнение для всех 3х регионов со средней продуктивностью и было выявленно, что ни один из регионов не подходит для достижения безубыточности (если конечно, оценивать только по средним запасам на скважину), наиболее близкие результаты по добыче получились на 3й выборке. 2й регион дает наибольшую разницу между средними! "
   ]
  },
  {
   "cell_type": "markdown",
   "metadata": {},
   "source": [
    "## Напишите функцию для расчёта прибыли "
   ]
  },
  {
   "cell_type": "markdown",
   "metadata": {},
   "source": [
    "Напишите функцию для расчёта прибыли по выбранным скважинам и предсказаниям модели:\n",
    "1. Выберите скважины с максимальными значениями предсказаний. \n",
    "2. Просуммируйте целевое значение объёма сырья, соответствующее этим предсказаниям.\n",
    "3. Рассчитайте прибыль для полученного объёма сырья."
   ]
  },
  {
   "cell_type": "code",
   "execution_count": 40,
   "metadata": {},
   "outputs": [],
   "source": [
    "def top_well_profit_count(y):\n",
    "    top_well_predict = y.sort_values(by = 'predict', ascending = False).head(200)\n",
    "    top_profit_summa = top_well_predict['product'].sum() * price_per_barrel - budget\n",
    "    return (top_profit_summa)"
   ]
  },
  {
   "cell_type": "code",
   "execution_count": 41,
   "metadata": {},
   "outputs": [],
   "source": [
    "profit_1 = top_well_profit_count(y_1)\n",
    "profit_2 = top_well_profit_count(y_2)\n",
    "profit_3 = top_well_profit_count(y_3)"
   ]
  },
  {
   "cell_type": "code",
   "execution_count": 42,
   "metadata": {},
   "outputs": [
    {
     "name": "stdout",
     "output_type": "stream",
     "text": [
      "Прибыль для Регион 1 = 3.26 млрд.\n",
      " \n",
      "Прибыль для Регион 2 = 2.42 млрд.\n",
      " \n",
      "Прибыль для Регион 3 = 2.32 млрд.\n",
      " \n"
     ]
    },
    {
     "data": {
      "text/plain": [
       "[None, None, None]"
      ]
     },
     "execution_count": 42,
     "metadata": {},
     "output_type": "execute_result"
    }
   ],
   "source": [
    "[print(f'Прибыль для {y.name} = {round(profit/10e8, 2)} млрд.', end= '\\n \\n') for profit, y in [[profit_1, y_1], \n",
    "                                                                                                [profit_2, y_2], \n",
    "                                                                                                [profit_3, y_3]]]"
   ]
  },
  {
   "cell_type": "markdown",
   "metadata": {},
   "source": [
    "<font color = 'blue' size = 5><b> Результаты выполнения данного пункта:</b></font>\n",
    "\n",
    "1. наиболее прибыльными по выбору лучших скважин является 1я выборка"
   ]
  },
  {
   "cell_type": "markdown",
   "metadata": {},
   "source": [
    "## Расчёт прибыли и рисков "
   ]
  },
  {
   "cell_type": "markdown",
   "metadata": {},
   "source": [
    "Посчитайте риски и прибыль для каждого региона:\n",
    "1. Примените технику Bootstrap с 1000 выборок, чтобы найти распределение прибыли.\n",
    "2. Найдите среднюю прибыль, 95%-й доверительный интервал и риск убытков. Убыток — это отрицательная прибыль.\n",
    "3. Напишите выводы: предложите регион для разработки скважин и обоснуйте выбор."
   ]
  },
  {
   "cell_type": "markdown",
   "metadata": {},
   "source": [
    "**Расчет прибыли**"
   ]
  },
  {
   "cell_type": "code",
   "execution_count": 47,
   "metadata": {},
   "outputs": [],
   "source": [
    "RANDOM_STATE = np.random.RandomState(12345)\n",
    "\n",
    "values_1 = []\n",
    "values_2 = []\n",
    "values_3 = []\n",
    "\n",
    "for y, values in [[y_1, values_1], [y_2, values_2], [y_3, values_3]]:\n",
    "    for i in range(1000):\n",
    "        subsample = y.sample(500, replace = True, random_state = RANDOM_STATE)\n",
    "        summa = top_well_profit_count(subsample)\n",
    "        values.append(summa)"
   ]
  },
  {
   "cell_type": "code",
   "execution_count": 48,
   "metadata": {},
   "outputs": [
    {
     "name": "stdout",
     "output_type": "stream",
     "text": [
      "Расчет 95%-й доверительного интервала\n",
      "\n",
      "-----------------------------------\n",
      "Нижняя граница доверительного интервала Регион 1 = -170114537.2\n",
      "Нижняя граница доверительного интервала Регион 1 = 914091664.5\n",
      "Средняя прибыль - 370585971.18\n",
      "-----------------------------------\n",
      "\n",
      "-----------------------------------\n",
      "Нижняя граница доверительного интервала Регион 2 = 18133711.5\n",
      "Нижняя граница доверительного интервала Регион 2 = 820230104.9\n",
      "Средняя прибыль - 439489811.6\n",
      "-----------------------------------\n",
      "\n",
      "-----------------------------------\n",
      "Нижняя граница доверительного интервала Регион 3 = -228030899.0\n",
      "Нижняя граница доверительного интервала Регион 3 = 818227042.7\n",
      "Средняя прибыль - 302584589.54\n",
      "-----------------------------------\n",
      "\n"
     ]
    }
   ],
   "source": [
    "print('Расчет 95%-й доверительного интервала')\n",
    "print()\n",
    "for value, y in [[values_1, y_1], [values_2, y_2], [values_3, y_3]]:\n",
    "    value = pd.Series(value)\n",
    "    print('-----------------------------------')\n",
    "    print(f'Нижняя граница доверительного интервала {y.name} = {round(value.quantile(0.025), 1)}')\n",
    "    print(f'Нижняя граница доверительного интервала {y.name} = {round(value.quantile(0.975), 1)}')\n",
    "    print(f'Средняя прибыль - {round(value.mean(), 2)}')\n",
    "    print('-----------------------------------')\n",
    "    print()"
   ]
  },
  {
   "cell_type": "markdown",
   "metadata": {},
   "source": [
    "**Расчет рисков**"
   ]
  },
  {
   "cell_type": "code",
   "execution_count": 50,
   "metadata": {},
   "outputs": [
    {
     "name": "stdout",
     "output_type": "stream",
     "text": [
      "-----------------------------------\n",
      "Риск получить отрицательную прибыль Регион 1 = 8.30%\n",
      "-----------------------------------\n",
      "-----------------------------------\n",
      "Риск получить отрицательную прибыль Регион 2 = 1.90%\n",
      "-----------------------------------\n",
      "-----------------------------------\n",
      "Риск получить отрицательную прибыль Регион 3 = 12.90%\n",
      "-----------------------------------\n"
     ]
    }
   ],
   "source": [
    "for value, y in [[values_1, y_1], [values_2, y_2], [values_3, y_3]]:\n",
    "    value = pd.Series(value)\n",
    "    negative_result = (value[value < 0].count()) / len(value)\n",
    "    print('-----------------------------------')\n",
    "    print(f'Риск получить отрицательную прибыль {y.name} = {negative_result* 100:.2f}%')\n",
    "    print('-----------------------------------')"
   ]
  },
  {
   "cell_type": "code",
   "execution_count": 51,
   "metadata": {},
   "outputs": [
    {
     "data": {
      "image/png": "[encoded data removed]",
      "text/plain": [
       "<Figure size 800x20 with 1 Axes>"
      ]
     },
     "metadata": {},
     "output_type": "display_data"
    },
    {
     "data": {
      "image/png": "[encoded data removed]",
      "text/plain": [
       "<Figure size 1200x600 with 1 Axes>"
      ]
     },
     "metadata": {},
     "output_type": "display_data"
    },
    {
     "data": {
      "image/png": "[encoded data removed]",
      "text/plain": [
       "<Figure size 800x20 with 1 Axes>"
      ]
     },
     "metadata": {},
     "output_type": "display_data"
    },
    {
     "data": {
      "image/png": "[encoded data removed]",
      "text/plain": [
       "<Figure size 1200x600 with 1 Axes>"
      ]
     },
     "metadata": {},
     "output_type": "display_data"
    },
    {
     "data": {
      "image/png": "[encoded data removed]",
      "text/plain": [
       "<Figure size 800x20 with 1 Axes>"
      ]
     },
     "metadata": {},
     "output_type": "display_data"
    },
    {
     "data": {
      "image/png": "[encoded data removed]",
      "text/plain": [
       "<Figure size 1200x600 with 1 Axes>"
      ]
     },
     "metadata": {},
     "output_type": "display_data"
    }
   ],
   "source": [
    "for value, y in [[values_1, y_1], [values_2, y_2], [values_3, y_3]]:\n",
    "    plt.figure(figsize=(8, 0.2))\n",
    "    plt.text(0.5, 0.5,f'Прибыльность {y.name}', fontsize=20)  \n",
    "    plt.axis('off')\n",
    "    plt.show()\n",
    "    \n",
    "    plt.figure(figsize=(12, 6))\n",
    "    value = pd.Series(value)\n",
    "    sns.histplot(value[value > 0], color = 'green')\n",
    "    sns.histplot(value[value < 0], color = 'red')\n",
    "    plt.legend(title = 'Прибыльность', labels = ['Положительная', 'Отрицательная'])\n",
    "    plt.xlabel('Прибыль')\n",
    "    plt.ylabel('Количество')\n",
    "    plt.axvline(x = 0, color = 'red', lw=3)\n",
    "    plt.show()"
   ]
  },
  {
   "cell_type": "markdown",
   "metadata": {},
   "source": [
    "<font color = 'blue' size = 5><b> Результаты выполнения данного пункта:</b></font>\n",
    "\n",
    "1. Была применена техника bootstrap где 1000 раз с всего датасета были выбраны рандомно по 500 скважин\n",
    "2. На каждом пуле скважин был оценен профит от по созданной формуле о выручке на 200 лучших предсказанных скважинах \n",
    "3. Получены на 3х датасетах 95% доверительный интервал\n",
    "4. Получен выручка в 2.5% квантиле, а также возможные убытки\n",
    "5. Посчитаны риски, меньше всего рисков на 2м датасете. 1.9%"
   ]
  },
  {
   "cell_type": "markdown",
   "metadata": {},
   "source": [
    "<font color = 'green' size = 5><b> Заключение проекта:</b></font>\n",
    "\n",
    "В результате выполнения данного проекта: \n",
    "1. Загружены данные, выгружена общая информацая о датасетах, проведем небольшой исследовательский анализ, убедились что данные необходимо масштабировать. После удалиения айдишников, поняли, что дубликатов в системе не имеется. Масштабировать данные с использованием пайплайна\n",
    "2. 3 датасета было разбито на трейновые и тестовые выборки на основании которых проводилось обучение модели и ее проверка в последующем. Проведено обучение 3х моделей, расчитаны метрики на всех 3х моделях, по метрикам было показано, что лучше всего модель функционирует в 2м датасете. Результаты объединены в одном датафрейме и видно, что отличие действительно не сильное. Построены гистограммы распределения из которых можно сделать вывод, 2 распределение +- одинаковое, по 1 и 3 видно что погрешность имеется. \n",
    "3. Была расчитана средняя продуктивность скважины для достижения безубыточности предприятия = 111.11 тыс.б.. Так же проведено сравнение для всех 3х регионов со средней продуктивностью и было выявленно, что ни один из регионов не подходит для достижения безубыточности (если конечно, оценивать только по средним запасам на скважину), наиболее близкие результаты по добыче получились на 3й выборке. 2й регион дает наибольшую разницу между средними!\n",
    "4. При сравнении всего датасета наиболее прибыльными по выбору лучших скважин является 1я выборка\n",
    "5. Была применена техника bootstrap где 1000 раз с всего датасета были выбраны рандомно по 500 скважин. На каждом пуле скважин был оценен профит от по созданной формуле о выручке на 200 лучших предсказанных скважинах. Получены на 3х датасетах 95% доверительный интервал. Получен выручка в 2.5% квантиле, а также возможные убытки. Посчитаны риски, меньше всего рисков на 2м датасете. 1.9%\n",
    "\n",
    "<font color = 'green' size = 4> Рекомендации:</font>\n",
    "\n",
    "Принимаем к разрабоке 2й участок, т.к. риски минимальны - меньше 2х процентов получить отрицательную прибыль в результате работы, средняя выручка бустрапированая максимальная, модель лучше всего справляется на этих данных"
   ]
  }
 ],
 "metadata": {
  "ExecuteTimeLog": [
   {
    "duration": 403,
    "start_time": "2024-07-24T12:27:40.781Z"
   },
   {
    "duration": 502,
    "start_time": "2024-07-24T12:28:04.926Z"
   },
   {
    "duration": 591,
    "start_time": "2024-07-24T12:29:08.548Z"
   },
   {
    "duration": 20,
    "start_time": "2024-07-24T12:29:21.247Z"
   },
   {
    "duration": 14,
    "start_time": "2024-07-24T12:29:28.620Z"
   },
   {
    "duration": 12,
    "start_time": "2024-07-24T12:29:38.821Z"
   },
   {
    "duration": 12,
    "start_time": "2024-07-24T12:29:54.804Z"
   },
   {
    "duration": 53,
    "start_time": "2024-07-25T06:02:13.814Z"
   },
   {
    "duration": 7,
    "start_time": "2024-07-25T06:02:15.812Z"
   },
   {
    "duration": 5,
    "start_time": "2024-07-25T06:02:16.005Z"
   },
   {
    "duration": 413,
    "start_time": "2024-07-25T06:02:18.174Z"
   },
   {
    "duration": 998,
    "start_time": "2024-07-25T06:02:19.221Z"
   },
   {
    "duration": 3,
    "start_time": "2024-07-25T06:02:20.221Z"
   },
   {
    "duration": 51,
    "start_time": "2024-07-25T06:02:20.225Z"
   },
   {
    "duration": 60,
    "start_time": "2024-07-25T06:02:50.430Z"
   },
   {
    "duration": 46,
    "start_time": "2024-07-25T06:02:55.157Z"
   },
   {
    "duration": 40,
    "start_time": "2024-07-25T06:03:58.758Z"
   },
   {
    "duration": 56,
    "start_time": "2024-07-25T06:04:08.822Z"
   },
   {
    "duration": 449,
    "start_time": "2024-07-25T06:05:17.798Z"
   },
   {
    "duration": 9,
    "start_time": "2024-07-25T06:05:18.251Z"
   },
   {
    "duration": 54,
    "start_time": "2024-07-25T06:05:18.350Z"
   },
   {
    "duration": 840,
    "start_time": "2024-07-25T06:23:16.108Z"
   },
   {
    "duration": 437,
    "start_time": "2024-07-25T06:23:16.950Z"
   },
   {
    "duration": 3,
    "start_time": "2024-07-25T06:23:17.389Z"
   },
   {
    "duration": 75,
    "start_time": "2024-07-25T06:23:17.394Z"
   },
   {
    "duration": 3,
    "start_time": "2024-07-25T06:23:17.471Z"
   },
   {
    "duration": 4,
    "start_time": "2024-07-25T06:24:16.573Z"
   },
   {
    "duration": 75,
    "start_time": "2024-07-25T06:24:24.603Z"
   },
   {
    "duration": 7,
    "start_time": "2024-07-25T06:37:00.215Z"
   },
   {
    "duration": 15,
    "start_time": "2024-07-25T06:37:15.335Z"
   },
   {
    "duration": 681,
    "start_time": "2024-07-25T06:38:05.199Z"
   },
   {
    "duration": 4,
    "start_time": "2024-07-25T06:38:29.977Z"
   },
   {
    "duration": 590,
    "start_time": "2024-07-25T06:38:30.151Z"
   },
   {
    "duration": 4,
    "start_time": "2024-07-25T06:40:53.066Z"
   },
   {
    "duration": 11,
    "start_time": "2024-07-25T06:40:53.570Z"
   },
   {
    "duration": 10,
    "start_time": "2024-07-25T06:41:13.283Z"
   },
   {
    "duration": 695,
    "start_time": "2024-07-25T06:41:17.619Z"
   },
   {
    "duration": 452,
    "start_time": "2024-07-25T06:41:18.316Z"
   },
   {
    "duration": 3,
    "start_time": "2024-07-25T06:41:18.769Z"
   },
   {
    "duration": 61,
    "start_time": "2024-07-25T06:41:18.774Z"
   },
   {
    "duration": 3,
    "start_time": "2024-07-25T06:41:18.837Z"
   },
   {
    "duration": 76,
    "start_time": "2024-07-25T06:41:18.856Z"
   },
   {
    "duration": 0,
    "start_time": "2024-07-25T06:41:18.933Z"
   },
   {
    "duration": 3,
    "start_time": "2024-07-25T06:41:46.162Z"
   },
   {
    "duration": 11,
    "start_time": "2024-07-25T06:41:46.378Z"
   },
   {
    "duration": 4,
    "start_time": "2024-07-25T06:44:34.973Z"
   },
   {
    "duration": 12,
    "start_time": "2024-07-25T06:44:35.118Z"
   },
   {
    "duration": 3,
    "start_time": "2024-07-25T06:44:47.117Z"
   },
   {
    "duration": 732,
    "start_time": "2024-07-25T06:44:47.293Z"
   },
   {
    "duration": 3,
    "start_time": "2024-07-25T06:44:59.982Z"
   },
   {
    "duration": 995,
    "start_time": "2024-07-25T06:45:00.511Z"
   },
   {
    "duration": 59,
    "start_time": "2024-07-25T06:46:11.526Z"
   },
   {
    "duration": 3053,
    "start_time": "2024-07-25T06:46:16.838Z"
   },
   {
    "duration": 95,
    "start_time": "2024-07-25T06:47:11.623Z"
   },
   {
    "duration": 62,
    "start_time": "2024-07-25T06:47:14.726Z"
   },
   {
    "duration": 16,
    "start_time": "2024-07-25T06:54:17.680Z"
   },
   {
    "duration": 13,
    "start_time": "2024-07-25T06:54:23.380Z"
   },
   {
    "duration": 641,
    "start_time": "2024-07-25T06:55:00.301Z"
   },
   {
    "duration": 468,
    "start_time": "2024-07-25T06:55:00.944Z"
   },
   {
    "duration": 3,
    "start_time": "2024-07-25T06:55:01.413Z"
   },
   {
    "duration": 82,
    "start_time": "2024-07-25T06:55:01.418Z"
   },
   {
    "duration": 13,
    "start_time": "2024-07-25T06:55:01.502Z"
   },
   {
    "duration": 37,
    "start_time": "2024-07-25T06:55:01.517Z"
   },
   {
    "duration": 13,
    "start_time": "2024-07-25T06:55:20.501Z"
   },
   {
    "duration": 72,
    "start_time": "2024-07-25T06:56:38.182Z"
   },
   {
    "duration": 3,
    "start_time": "2024-07-25T06:56:40.709Z"
   },
   {
    "duration": 38,
    "start_time": "2024-07-25T06:56:40.917Z"
   },
   {
    "duration": 3,
    "start_time": "2024-07-25T06:56:50.765Z"
   },
   {
    "duration": 47,
    "start_time": "2024-07-25T06:56:50.958Z"
   },
   {
    "duration": 60,
    "start_time": "2024-07-25T06:56:58.612Z"
   },
   {
    "duration": 13,
    "start_time": "2024-07-25T06:57:00.910Z"
   },
   {
    "duration": 3,
    "start_time": "2024-07-25T06:57:49.224Z"
   },
   {
    "duration": 46,
    "start_time": "2024-07-25T06:57:49.422Z"
   },
   {
    "duration": 13,
    "start_time": "2024-07-25T06:57:56.015Z"
   },
   {
    "duration": 15,
    "start_time": "2024-07-25T06:58:58.576Z"
   },
   {
    "duration": 8,
    "start_time": "2024-07-25T06:59:03.192Z"
   },
   {
    "duration": 12,
    "start_time": "2024-07-25T06:59:31.472Z"
   },
   {
    "duration": 11,
    "start_time": "2024-07-25T07:00:25.977Z"
   },
   {
    "duration": 691,
    "start_time": "2024-07-25T07:00:40.226Z"
   },
   {
    "duration": 450,
    "start_time": "2024-07-25T07:00:40.919Z"
   },
   {
    "duration": 4,
    "start_time": "2024-07-25T07:00:41.373Z"
   },
   {
    "duration": 80,
    "start_time": "2024-07-25T07:00:41.380Z"
   },
   {
    "duration": 4,
    "start_time": "2024-07-25T07:00:41.462Z"
   },
   {
    "duration": 87,
    "start_time": "2024-07-25T07:00:41.468Z"
   },
   {
    "duration": 14,
    "start_time": "2024-07-25T07:00:41.557Z"
   },
   {
    "duration": 34,
    "start_time": "2024-07-25T07:00:41.573Z"
   },
   {
    "duration": 658,
    "start_time": "2024-07-25T07:01:44.779Z"
   },
   {
    "duration": 437,
    "start_time": "2024-07-25T07:01:45.439Z"
   },
   {
    "duration": 3,
    "start_time": "2024-07-25T07:01:45.878Z"
   },
   {
    "duration": 82,
    "start_time": "2024-07-25T07:01:45.883Z"
   },
   {
    "duration": 4,
    "start_time": "2024-07-25T07:01:45.968Z"
   },
   {
    "duration": 73,
    "start_time": "2024-07-25T07:01:45.973Z"
   },
   {
    "duration": 16,
    "start_time": "2024-07-25T07:01:46.048Z"
   },
   {
    "duration": 89,
    "start_time": "2024-07-25T07:01:46.066Z"
   },
   {
    "duration": 3,
    "start_time": "2024-07-25T07:02:11.338Z"
   },
   {
    "duration": 8,
    "start_time": "2024-07-25T07:02:48.962Z"
   },
   {
    "duration": 98,
    "start_time": "2024-07-25T07:02:58.890Z"
   },
   {
    "duration": 13,
    "start_time": "2024-07-25T07:04:56.852Z"
   },
   {
    "duration": 12,
    "start_time": "2024-07-25T07:05:00.917Z"
   },
   {
    "duration": 12,
    "start_time": "2024-07-25T07:05:04.300Z"
   },
   {
    "duration": 17,
    "start_time": "2024-07-25T07:05:07.112Z"
   },
   {
    "duration": 14,
    "start_time": "2024-07-25T07:05:52.756Z"
   },
   {
    "duration": 668,
    "start_time": "2024-07-25T07:05:58.448Z"
   },
   {
    "duration": 448,
    "start_time": "2024-07-25T07:05:59.118Z"
   },
   {
    "duration": 3,
    "start_time": "2024-07-25T07:05:59.570Z"
   },
   {
    "duration": 93,
    "start_time": "2024-07-25T07:05:59.575Z"
   },
   {
    "duration": 3,
    "start_time": "2024-07-25T07:05:59.670Z"
   },
   {
    "duration": 122,
    "start_time": "2024-07-25T07:05:59.674Z"
   },
   {
    "duration": 12,
    "start_time": "2024-07-25T07:06:04.628Z"
   },
   {
    "duration": 11,
    "start_time": "2024-07-25T07:11:01.817Z"
   },
   {
    "duration": 43,
    "start_time": "2024-07-25T07:11:21.729Z"
   },
   {
    "duration": 16,
    "start_time": "2024-07-25T07:17:54.278Z"
   },
   {
    "duration": 10,
    "start_time": "2024-07-25T07:17:57.309Z"
   },
   {
    "duration": 5,
    "start_time": "2024-07-25T07:18:02.405Z"
   },
   {
    "duration": 9,
    "start_time": "2024-07-25T07:18:07.197Z"
   },
   {
    "duration": 10,
    "start_time": "2024-07-25T07:18:10.614Z"
   },
   {
    "duration": 832,
    "start_time": "2024-07-25T07:19:56.304Z"
   },
   {
    "duration": 20,
    "start_time": "2024-07-25T07:21:24.274Z"
   },
   {
    "duration": 1358,
    "start_time": "2024-07-25T07:21:29.209Z"
   },
   {
    "duration": 450,
    "start_time": "2024-07-25T07:21:30.569Z"
   },
   {
    "duration": 3,
    "start_time": "2024-07-25T07:21:31.021Z"
   },
   {
    "duration": 125,
    "start_time": "2024-07-25T07:21:31.026Z"
   },
   {
    "duration": 4,
    "start_time": "2024-07-25T07:21:31.153Z"
   },
   {
    "duration": 197,
    "start_time": "2024-07-25T07:21:31.159Z"
   },
   {
    "duration": 11,
    "start_time": "2024-07-25T07:21:31.358Z"
   },
   {
    "duration": 15,
    "start_time": "2024-07-25T07:32:54.945Z"
   },
   {
    "duration": 35,
    "start_time": "2024-07-25T07:34:09.409Z"
   },
   {
    "duration": 5,
    "start_time": "2024-07-25T07:46:16.266Z"
   },
   {
    "duration": 7,
    "start_time": "2024-07-25T07:47:00.835Z"
   },
   {
    "duration": 5,
    "start_time": "2024-07-25T07:48:39.932Z"
   },
   {
    "duration": 16,
    "start_time": "2024-07-25T07:49:30.437Z"
   },
   {
    "duration": 6,
    "start_time": "2024-07-25T07:49:37.116Z"
   },
   {
    "duration": 3,
    "start_time": "2024-07-25T07:51:58.447Z"
   },
   {
    "duration": 6,
    "start_time": "2024-07-25T07:52:21.222Z"
   },
   {
    "duration": 7,
    "start_time": "2024-07-25T08:01:33.997Z"
   },
   {
    "duration": 19,
    "start_time": "2024-07-25T08:01:53.541Z"
   },
   {
    "duration": 11,
    "start_time": "2024-07-25T08:02:01.031Z"
   },
   {
    "duration": 1415,
    "start_time": "2024-07-25T08:02:21.178Z"
   },
   {
    "duration": 445,
    "start_time": "2024-07-25T08:02:22.595Z"
   },
   {
    "duration": 3,
    "start_time": "2024-07-25T08:02:23.042Z"
   },
   {
    "duration": 82,
    "start_time": "2024-07-25T08:02:23.046Z"
   },
   {
    "duration": 3,
    "start_time": "2024-07-25T08:02:23.131Z"
   },
   {
    "duration": 143,
    "start_time": "2024-07-25T08:02:23.136Z"
   },
   {
    "duration": 13,
    "start_time": "2024-07-25T08:02:23.281Z"
   },
   {
    "duration": 69,
    "start_time": "2024-07-25T08:02:23.295Z"
   },
   {
    "duration": 15,
    "start_time": "2024-07-25T08:02:23.366Z"
   },
   {
    "duration": 37,
    "start_time": "2024-07-25T08:02:23.383Z"
   },
   {
    "duration": 41,
    "start_time": "2024-07-25T08:02:23.422Z"
   },
   {
    "duration": 126,
    "start_time": "2024-07-25T08:03:33.238Z"
   },
   {
    "duration": 20,
    "start_time": "2024-07-25T08:04:20.866Z"
   },
   {
    "duration": 15,
    "start_time": "2024-07-25T08:04:21.981Z"
   },
   {
    "duration": 206,
    "start_time": "2024-07-25T08:07:43.939Z"
   },
   {
    "duration": 167,
    "start_time": "2024-07-25T08:08:28.563Z"
   },
   {
    "duration": 175,
    "start_time": "2024-07-25T08:08:33.849Z"
   },
   {
    "duration": 691,
    "start_time": "2024-07-25T08:08:39.778Z"
   },
   {
    "duration": 611,
    "start_time": "2024-07-25T08:08:51.465Z"
   },
   {
    "duration": 1011,
    "start_time": "2024-07-25T08:09:02.850Z"
   },
   {
    "duration": 1063,
    "start_time": "2024-07-25T08:09:47.018Z"
   },
   {
    "duration": 11,
    "start_time": "2024-07-25T08:09:53.979Z"
   },
   {
    "duration": 11,
    "start_time": "2024-07-25T08:10:47.988Z"
   },
   {
    "duration": 949,
    "start_time": "2024-07-25T08:10:55.483Z"
   },
   {
    "duration": 1135,
    "start_time": "2024-07-25T08:11:10.004Z"
   },
   {
    "duration": 1301,
    "start_time": "2024-07-25T08:12:00.988Z"
   },
   {
    "duration": 1143,
    "start_time": "2024-07-25T08:12:08.260Z"
   },
   {
    "duration": 1322,
    "start_time": "2024-07-25T08:12:16.892Z"
   },
   {
    "duration": 1282,
    "start_time": "2024-07-25T08:12:35.021Z"
   },
   {
    "duration": 1152,
    "start_time": "2024-07-25T08:12:42.837Z"
   },
   {
    "duration": 1296,
    "start_time": "2024-07-25T08:12:47.893Z"
   },
   {
    "duration": 1088,
    "start_time": "2024-07-25T08:12:54.312Z"
   },
   {
    "duration": 1241,
    "start_time": "2024-07-25T08:12:58.340Z"
   },
   {
    "duration": 1083,
    "start_time": "2024-07-25T08:13:01.901Z"
   },
   {
    "duration": 1723,
    "start_time": "2024-07-25T08:13:07.133Z"
   },
   {
    "duration": 1123,
    "start_time": "2024-07-25T08:13:12.287Z"
   },
   {
    "duration": 1322,
    "start_time": "2024-07-25T08:13:16.885Z"
   },
   {
    "duration": 1824,
    "start_time": "2024-07-25T08:13:34.725Z"
   },
   {
    "duration": 19,
    "start_time": "2024-07-25T08:13:41.766Z"
   },
   {
    "duration": 20,
    "start_time": "2024-07-25T08:13:44.374Z"
   },
   {
    "duration": 1715,
    "start_time": "2024-07-25T08:13:46.966Z"
   },
   {
    "duration": 18,
    "start_time": "2024-07-25T08:13:57.078Z"
   },
   {
    "duration": 18,
    "start_time": "2024-07-25T08:14:24.839Z"
   },
   {
    "duration": 1299,
    "start_time": "2024-07-25T08:15:30.712Z"
   },
   {
    "duration": 1115,
    "start_time": "2024-07-25T08:15:58.311Z"
   },
   {
    "duration": 1233,
    "start_time": "2024-07-25T08:16:05.408Z"
   },
   {
    "duration": 1014,
    "start_time": "2024-07-25T08:17:57.184Z"
   },
   {
    "duration": 3265,
    "start_time": "2024-07-25T08:18:35.108Z"
   },
   {
    "duration": 17,
    "start_time": "2024-07-25T08:21:01.699Z"
   },
   {
    "duration": 11,
    "start_time": "2024-07-25T08:21:08.550Z"
   },
   {
    "duration": 5,
    "start_time": "2024-07-25T08:21:13.043Z"
   },
   {
    "duration": 15,
    "start_time": "2024-07-25T08:21:22.604Z"
   },
   {
    "duration": 707,
    "start_time": "2024-07-25T08:21:51.620Z"
   },
   {
    "duration": 44,
    "start_time": "2024-07-25T08:22:36.245Z"
   },
   {
    "duration": 720,
    "start_time": "2024-07-25T08:22:43.357Z"
   },
   {
    "duration": 815,
    "start_time": "2024-07-25T08:22:58.269Z"
   },
   {
    "duration": 1426,
    "start_time": "2024-07-25T08:23:15.357Z"
   },
   {
    "duration": 470,
    "start_time": "2024-07-25T08:23:16.785Z"
   },
   {
    "duration": 3,
    "start_time": "2024-07-25T08:23:17.256Z"
   },
   {
    "duration": 78,
    "start_time": "2024-07-25T08:23:17.261Z"
   },
   {
    "duration": 3270,
    "start_time": "2024-07-25T08:23:17.342Z"
   },
   {
    "duration": 4,
    "start_time": "2024-07-25T08:23:20.613Z"
   },
   {
    "duration": 157,
    "start_time": "2024-07-25T08:23:20.618Z"
   },
   {
    "duration": 12,
    "start_time": "2024-07-25T08:23:20.777Z"
   },
   {
    "duration": 71,
    "start_time": "2024-07-25T08:23:20.790Z"
   },
   {
    "duration": 48,
    "start_time": "2024-07-25T08:23:20.863Z"
   },
   {
    "duration": 24,
    "start_time": "2024-07-25T08:51:30.098Z"
   },
   {
    "duration": 4,
    "start_time": "2024-07-25T10:19:57.227Z"
   },
   {
    "duration": 3,
    "start_time": "2024-07-25T10:22:08.629Z"
   },
   {
    "duration": 4,
    "start_time": "2024-07-25T10:26:25.468Z"
   },
   {
    "duration": 45,
    "start_time": "2024-07-25T10:27:56.121Z"
   },
   {
    "duration": 9,
    "start_time": "2024-07-25T10:27:59.209Z"
   },
   {
    "duration": 4,
    "start_time": "2024-07-25T10:28:23.069Z"
   },
   {
    "duration": 330,
    "start_time": "2024-07-25T10:29:01.442Z"
   },
   {
    "duration": 38,
    "start_time": "2024-07-25T10:29:31.227Z"
   },
   {
    "duration": 1443,
    "start_time": "2024-07-25T10:29:43.792Z"
   },
   {
    "duration": 456,
    "start_time": "2024-07-25T10:29:45.237Z"
   },
   {
    "duration": 2,
    "start_time": "2024-07-25T10:29:45.695Z"
   },
   {
    "duration": 76,
    "start_time": "2024-07-25T10:29:45.699Z"
   },
   {
    "duration": 3403,
    "start_time": "2024-07-25T10:29:45.776Z"
   },
   {
    "duration": 3,
    "start_time": "2024-07-25T10:29:49.181Z"
   },
   {
    "duration": 129,
    "start_time": "2024-07-25T10:29:49.185Z"
   },
   {
    "duration": 11,
    "start_time": "2024-07-25T10:29:49.316Z"
   },
   {
    "duration": 50,
    "start_time": "2024-07-25T10:29:49.328Z"
   },
   {
    "duration": 44,
    "start_time": "2024-07-25T10:29:49.381Z"
   },
   {
    "duration": 43,
    "start_time": "2024-07-25T10:29:49.427Z"
   },
   {
    "duration": 93,
    "start_time": "2024-07-25T10:29:49.473Z"
   },
   {
    "duration": 4,
    "start_time": "2024-07-25T10:29:57.683Z"
   },
   {
    "duration": 5,
    "start_time": "2024-07-25T10:30:23.939Z"
   },
   {
    "duration": 5,
    "start_time": "2024-07-25T10:30:25.378Z"
   },
   {
    "duration": 5,
    "start_time": "2024-07-25T10:30:38.196Z"
   },
   {
    "duration": 11,
    "start_time": "2024-07-25T10:31:56.360Z"
   },
   {
    "duration": 9,
    "start_time": "2024-07-25T10:32:02.484Z"
   },
   {
    "duration": 4,
    "start_time": "2024-07-25T10:32:34.717Z"
   },
   {
    "duration": 6,
    "start_time": "2024-07-25T10:32:37.923Z"
   },
   {
    "duration": 12,
    "start_time": "2024-07-25T10:32:44.229Z"
   },
   {
    "duration": 10,
    "start_time": "2024-07-25T10:32:44.581Z"
   },
   {
    "duration": 11,
    "start_time": "2024-07-25T10:33:08.749Z"
   },
   {
    "duration": 6,
    "start_time": "2024-07-25T10:33:18.421Z"
   },
   {
    "duration": 10,
    "start_time": "2024-07-25T10:33:20.958Z"
   },
   {
    "duration": 9,
    "start_time": "2024-07-25T10:33:53.294Z"
   },
   {
    "duration": 12,
    "start_time": "2024-07-25T10:34:03.230Z"
   },
   {
    "duration": 67,
    "start_time": "2024-07-25T10:36:35.281Z"
   },
   {
    "duration": 12,
    "start_time": "2024-07-25T10:36:48.969Z"
   },
   {
    "duration": 9,
    "start_time": "2024-07-25T10:36:50.024Z"
   },
   {
    "duration": 5,
    "start_time": "2024-07-25T10:39:05.464Z"
   },
   {
    "duration": 11,
    "start_time": "2024-07-25T10:39:08.817Z"
   },
   {
    "duration": 151,
    "start_time": "2024-07-25T10:42:51.725Z"
   },
   {
    "duration": 1405,
    "start_time": "2024-07-25T10:42:56.308Z"
   },
   {
    "duration": 444,
    "start_time": "2024-07-25T10:42:57.715Z"
   },
   {
    "duration": 3,
    "start_time": "2024-07-25T10:42:58.164Z"
   },
   {
    "duration": 71,
    "start_time": "2024-07-25T10:42:58.169Z"
   },
   {
    "duration": 3307,
    "start_time": "2024-07-25T10:42:58.242Z"
   },
   {
    "duration": 12,
    "start_time": "2024-07-25T10:43:01.560Z"
   },
   {
    "duration": 196,
    "start_time": "2024-07-25T10:43:01.573Z"
   },
   {
    "duration": 13,
    "start_time": "2024-07-25T10:43:01.772Z"
   },
   {
    "duration": 102,
    "start_time": "2024-07-25T10:43:01.787Z"
   },
   {
    "duration": 180,
    "start_time": "2024-07-25T10:43:01.890Z"
   },
   {
    "duration": 238,
    "start_time": "2024-07-25T10:43:02.072Z"
   },
   {
    "duration": 102,
    "start_time": "2024-07-25T10:43:02.361Z"
   },
   {
    "duration": 59,
    "start_time": "2024-07-25T10:43:02.465Z"
   },
   {
    "duration": 98,
    "start_time": "2024-07-25T10:43:02.526Z"
   },
   {
    "duration": 61,
    "start_time": "2024-07-25T10:43:02.626Z"
   },
   {
    "duration": 5,
    "start_time": "2024-07-25T10:43:21.325Z"
   },
   {
    "duration": 12,
    "start_time": "2024-07-25T10:43:21.541Z"
   },
   {
    "duration": 267,
    "start_time": "2024-07-25T10:51:04.795Z"
   },
   {
    "duration": 1425,
    "start_time": "2024-07-25T10:51:22.469Z"
   },
   {
    "duration": 424,
    "start_time": "2024-07-25T10:51:23.896Z"
   },
   {
    "duration": 2,
    "start_time": "2024-07-25T10:51:24.322Z"
   },
   {
    "duration": 67,
    "start_time": "2024-07-25T10:51:24.326Z"
   },
   {
    "duration": 3254,
    "start_time": "2024-07-25T10:51:24.396Z"
   },
   {
    "duration": 4,
    "start_time": "2024-07-25T10:51:27.652Z"
   },
   {
    "duration": 120,
    "start_time": "2024-07-25T10:51:27.658Z"
   },
   {
    "duration": 12,
    "start_time": "2024-07-25T10:51:27.780Z"
   },
   {
    "duration": 52,
    "start_time": "2024-07-25T10:51:27.793Z"
   },
   {
    "duration": 45,
    "start_time": "2024-07-25T10:51:27.847Z"
   },
   {
    "duration": 265,
    "start_time": "2024-07-25T10:51:27.893Z"
   },
   {
    "duration": 95,
    "start_time": "2024-07-25T10:51:28.161Z"
   },
   {
    "duration": 101,
    "start_time": "2024-07-25T10:51:28.258Z"
   },
   {
    "duration": 24,
    "start_time": "2024-07-25T10:51:28.362Z"
   },
   {
    "duration": 18,
    "start_time": "2024-07-25T10:51:28.387Z"
   },
   {
    "duration": 74,
    "start_time": "2024-07-25T10:52:46.574Z"
   },
   {
    "duration": 66,
    "start_time": "2024-07-25T10:52:53.861Z"
   },
   {
    "duration": 12,
    "start_time": "2024-07-25T10:53:33.087Z"
   },
   {
    "duration": 4,
    "start_time": "2024-07-25T10:53:48.301Z"
   },
   {
    "duration": 12,
    "start_time": "2024-07-25T10:53:51.182Z"
   },
   {
    "duration": 5,
    "start_time": "2024-07-25T10:54:07.566Z"
   },
   {
    "duration": 11,
    "start_time": "2024-07-25T10:54:07.797Z"
   },
   {
    "duration": 8,
    "start_time": "2024-07-25T10:54:16.878Z"
   },
   {
    "duration": 10,
    "start_time": "2024-07-25T10:54:31.886Z"
   },
   {
    "duration": 4,
    "start_time": "2024-07-25T10:54:49.998Z"
   },
   {
    "duration": 3,
    "start_time": "2024-07-25T10:54:53.633Z"
   },
   {
    "duration": 3,
    "start_time": "2024-07-25T10:54:56.103Z"
   },
   {
    "duration": 4,
    "start_time": "2024-07-25T10:54:58.638Z"
   },
   {
    "duration": 1361,
    "start_time": "2024-07-25T10:57:57.210Z"
   },
   {
    "duration": 423,
    "start_time": "2024-07-25T10:57:58.573Z"
   },
   {
    "duration": 3,
    "start_time": "2024-07-25T10:57:58.997Z"
   },
   {
    "duration": 71,
    "start_time": "2024-07-25T10:57:59.002Z"
   },
   {
    "duration": 3170,
    "start_time": "2024-07-25T10:57:59.075Z"
   },
   {
    "duration": 8,
    "start_time": "2024-07-25T10:58:02.247Z"
   },
   {
    "duration": 199,
    "start_time": "2024-07-25T10:58:02.256Z"
   },
   {
    "duration": 12,
    "start_time": "2024-07-25T10:58:02.457Z"
   },
   {
    "duration": 78,
    "start_time": "2024-07-25T10:58:02.471Z"
   },
   {
    "duration": 100,
    "start_time": "2024-07-25T10:58:02.551Z"
   },
   {
    "duration": 205,
    "start_time": "2024-07-25T10:58:02.653Z"
   },
   {
    "duration": 96,
    "start_time": "2024-07-25T10:58:02.861Z"
   },
   {
    "duration": 89,
    "start_time": "2024-07-25T10:58:02.967Z"
   },
   {
    "duration": 15,
    "start_time": "2024-07-25T10:58:03.057Z"
   },
   {
    "duration": 17,
    "start_time": "2024-07-25T10:58:03.074Z"
   },
   {
    "duration": 21,
    "start_time": "2024-07-25T10:58:03.092Z"
   },
   {
    "duration": 19,
    "start_time": "2024-07-25T10:58:03.115Z"
   },
   {
    "duration": 1482,
    "start_time": "2024-07-25T11:00:19.274Z"
   },
   {
    "duration": 439,
    "start_time": "2024-07-25T11:00:20.758Z"
   },
   {
    "duration": 3,
    "start_time": "2024-07-25T11:00:21.199Z"
   },
   {
    "duration": 81,
    "start_time": "2024-07-25T11:00:21.204Z"
   },
   {
    "duration": 3084,
    "start_time": "2024-07-25T11:00:21.287Z"
   },
   {
    "duration": 4,
    "start_time": "2024-07-25T11:00:24.373Z"
   },
   {
    "duration": 135,
    "start_time": "2024-07-25T11:00:24.378Z"
   },
   {
    "duration": 12,
    "start_time": "2024-07-25T11:00:24.514Z"
   },
   {
    "duration": 52,
    "start_time": "2024-07-25T11:00:24.528Z"
   },
   {
    "duration": 46,
    "start_time": "2024-07-25T11:00:24.582Z"
   },
   {
    "duration": 228,
    "start_time": "2024-07-25T11:00:24.630Z"
   },
   {
    "duration": 5,
    "start_time": "2024-07-25T11:00:24.860Z"
   },
   {
    "duration": 113,
    "start_time": "2024-07-25T11:00:24.957Z"
   },
   {
    "duration": 17,
    "start_time": "2024-07-25T11:00:25.072Z"
   },
   {
    "duration": 7,
    "start_time": "2024-07-25T11:00:25.091Z"
   },
   {
    "duration": 40,
    "start_time": "2024-07-25T11:00:25.099Z"
   },
   {
    "duration": 68,
    "start_time": "2024-07-25T11:00:25.141Z"
   },
   {
    "duration": 4,
    "start_time": "2024-07-25T11:31:08.307Z"
   },
   {
    "duration": 305,
    "start_time": "2024-07-25T11:31:23.851Z"
   },
   {
    "duration": 1443,
    "start_time": "2024-07-25T11:31:29.288Z"
   },
   {
    "duration": 463,
    "start_time": "2024-07-25T11:31:30.733Z"
   },
   {
    "duration": 4,
    "start_time": "2024-07-25T11:31:31.198Z"
   },
   {
    "duration": 120,
    "start_time": "2024-07-25T11:31:31.204Z"
   },
   {
    "duration": 3141,
    "start_time": "2024-07-25T11:31:31.326Z"
   },
   {
    "duration": 3,
    "start_time": "2024-07-25T11:31:34.469Z"
   },
   {
    "duration": 114,
    "start_time": "2024-07-25T11:31:34.474Z"
   },
   {
    "duration": 11,
    "start_time": "2024-07-25T11:31:34.590Z"
   },
   {
    "duration": 63,
    "start_time": "2024-07-25T11:31:34.603Z"
   },
   {
    "duration": 45,
    "start_time": "2024-07-25T11:31:34.667Z"
   },
   {
    "duration": 243,
    "start_time": "2024-07-25T11:31:34.714Z"
   },
   {
    "duration": 4,
    "start_time": "2024-07-25T11:31:34.960Z"
   },
   {
    "duration": 101,
    "start_time": "2024-07-25T11:31:35.056Z"
   },
   {
    "duration": 24,
    "start_time": "2024-07-25T11:31:35.160Z"
   },
   {
    "duration": 33,
    "start_time": "2024-07-25T11:31:35.185Z"
   },
   {
    "duration": 17,
    "start_time": "2024-07-25T11:31:35.220Z"
   },
   {
    "duration": 14,
    "start_time": "2024-07-25T11:31:35.239Z"
   },
   {
    "duration": 4,
    "start_time": "2024-07-25T11:44:34.732Z"
   },
   {
    "duration": 9,
    "start_time": "2024-07-25T12:06:29.925Z"
   },
   {
    "duration": 4,
    "start_time": "2024-07-25T12:06:32.196Z"
   },
   {
    "duration": 7,
    "start_time": "2024-07-25T12:06:32.404Z"
   },
   {
    "duration": 13,
    "start_time": "2024-07-25T12:06:38.396Z"
   },
   {
    "duration": 5,
    "start_time": "2024-07-25T12:07:13.454Z"
   },
   {
    "duration": 1469,
    "start_time": "2024-07-25T12:07:23.547Z"
   },
   {
    "duration": 478,
    "start_time": "2024-07-25T12:07:25.019Z"
   },
   {
    "duration": 3,
    "start_time": "2024-07-25T12:07:25.499Z"
   },
   {
    "duration": 73,
    "start_time": "2024-07-25T12:07:25.504Z"
   },
   {
    "duration": 3211,
    "start_time": "2024-07-25T12:07:25.580Z"
   },
   {
    "duration": 3,
    "start_time": "2024-07-25T12:07:28.792Z"
   },
   {
    "duration": 133,
    "start_time": "2024-07-25T12:07:28.797Z"
   },
   {
    "duration": 12,
    "start_time": "2024-07-25T12:07:28.931Z"
   },
   {
    "duration": 48,
    "start_time": "2024-07-25T12:07:28.944Z"
   },
   {
    "duration": 49,
    "start_time": "2024-07-25T12:07:28.993Z"
   },
   {
    "duration": 313,
    "start_time": "2024-07-25T12:07:29.043Z"
   },
   {
    "duration": 5,
    "start_time": "2024-07-25T12:07:29.358Z"
   },
   {
    "duration": 99,
    "start_time": "2024-07-25T12:07:29.365Z"
   },
   {
    "duration": 3,
    "start_time": "2024-07-25T12:07:29.467Z"
   },
   {
    "duration": 12,
    "start_time": "2024-07-25T12:07:29.473Z"
   },
   {
    "duration": 10,
    "start_time": "2024-07-25T12:07:29.488Z"
   },
   {
    "duration": 27,
    "start_time": "2024-07-25T12:07:29.500Z"
   },
   {
    "duration": 115,
    "start_time": "2024-07-25T12:12:04.193Z"
   },
   {
    "duration": 65,
    "start_time": "2024-07-25T12:12:29.937Z"
   },
   {
    "duration": 9,
    "start_time": "2024-07-25T12:12:41.545Z"
   },
   {
    "duration": 1414,
    "start_time": "2024-07-25T12:14:11.872Z"
   },
   {
    "duration": 437,
    "start_time": "2024-07-25T12:14:13.289Z"
   },
   {
    "duration": 3,
    "start_time": "2024-07-25T12:14:13.727Z"
   },
   {
    "duration": 68,
    "start_time": "2024-07-25T12:14:13.731Z"
   },
   {
    "duration": 3204,
    "start_time": "2024-07-25T12:14:13.801Z"
   },
   {
    "duration": 3,
    "start_time": "2024-07-25T12:14:17.007Z"
   },
   {
    "duration": 136,
    "start_time": "2024-07-25T12:14:17.012Z"
   },
   {
    "duration": 12,
    "start_time": "2024-07-25T12:14:17.155Z"
   },
   {
    "duration": 39,
    "start_time": "2024-07-25T12:14:17.168Z"
   },
   {
    "duration": 73,
    "start_time": "2024-07-25T12:14:17.209Z"
   },
   {
    "duration": 274,
    "start_time": "2024-07-25T12:14:17.284Z"
   },
   {
    "duration": 5,
    "start_time": "2024-07-25T12:14:17.560Z"
   },
   {
    "duration": 193,
    "start_time": "2024-07-25T12:14:17.567Z"
   },
   {
    "duration": 5,
    "start_time": "2024-07-25T12:14:17.762Z"
   },
   {
    "duration": 19,
    "start_time": "2024-07-25T12:14:17.769Z"
   },
   {
    "duration": 7,
    "start_time": "2024-07-25T12:14:17.790Z"
   },
   {
    "duration": 17,
    "start_time": "2024-07-25T12:14:17.799Z"
   },
   {
    "duration": 120,
    "start_time": "2024-07-25T12:19:30.285Z"
   },
   {
    "duration": 59,
    "start_time": "2024-07-25T12:19:43.917Z"
   },
   {
    "duration": 767,
    "start_time": "2024-07-25T12:19:49.974Z"
   },
   {
    "duration": 718,
    "start_time": "2024-07-25T12:20:10.453Z"
   },
   {
    "duration": 202,
    "start_time": "2024-07-25T12:20:45.070Z"
   },
   {
    "duration": 358,
    "start_time": "2024-07-25T12:21:00.494Z"
   },
   {
    "duration": 244,
    "start_time": "2024-07-25T12:21:16.103Z"
   },
   {
    "duration": 455,
    "start_time": "2024-07-25T12:21:23.135Z"
   },
   {
    "duration": 338,
    "start_time": "2024-07-25T12:21:43.232Z"
   },
   {
    "duration": 377,
    "start_time": "2024-07-25T12:21:50.448Z"
   },
   {
    "duration": 349,
    "start_time": "2024-07-25T12:22:02.095Z"
   },
   {
    "duration": 412,
    "start_time": "2024-07-25T12:22:21.143Z"
   },
   {
    "duration": 489,
    "start_time": "2024-07-25T12:22:29.439Z"
   },
   {
    "duration": 356,
    "start_time": "2024-07-25T12:22:32.999Z"
   },
   {
    "duration": 377,
    "start_time": "2024-07-25T12:23:05.096Z"
   },
   {
    "duration": 371,
    "start_time": "2024-07-25T12:23:11.377Z"
   },
   {
    "duration": 352,
    "start_time": "2024-07-25T12:23:18.729Z"
   },
   {
    "duration": 416,
    "start_time": "2024-07-25T12:24:35.843Z"
   },
   {
    "duration": 579,
    "start_time": "2024-07-25T12:25:07.476Z"
   },
   {
    "duration": 452,
    "start_time": "2024-07-25T12:25:55.050Z"
   },
   {
    "duration": 421,
    "start_time": "2024-07-25T12:26:13.996Z"
   },
   {
    "duration": 411,
    "start_time": "2024-07-25T12:26:42.659Z"
   },
   {
    "duration": 417,
    "start_time": "2024-07-25T12:27:01.284Z"
   },
   {
    "duration": 4,
    "start_time": "2024-07-25T12:27:28.492Z"
   },
   {
    "duration": 4,
    "start_time": "2024-07-25T12:27:49.235Z"
   },
   {
    "duration": 446,
    "start_time": "2024-07-25T12:29:17.485Z"
   },
   {
    "duration": 5,
    "start_time": "2024-07-25T12:29:31.133Z"
   },
   {
    "duration": 666,
    "start_time": "2024-07-25T12:29:31.325Z"
   },
   {
    "duration": 12,
    "start_time": "2024-07-25T12:30:39.685Z"
   },
   {
    "duration": 517,
    "start_time": "2024-07-25T12:31:02.261Z"
   },
   {
    "duration": 5,
    "start_time": "2024-07-25T12:31:48.638Z"
   },
   {
    "duration": 509,
    "start_time": "2024-07-25T12:31:48.838Z"
   },
   {
    "duration": 5,
    "start_time": "2024-07-25T12:31:58.558Z"
   },
   {
    "duration": 513,
    "start_time": "2024-07-25T12:32:00.183Z"
   },
   {
    "duration": 4,
    "start_time": "2024-07-25T12:32:38.840Z"
   },
   {
    "duration": 500,
    "start_time": "2024-07-25T12:32:39.033Z"
   },
   {
    "duration": 5,
    "start_time": "2024-07-25T12:32:47.216Z"
   },
   {
    "duration": 500,
    "start_time": "2024-07-25T12:32:47.391Z"
   },
   {
    "duration": 10,
    "start_time": "2024-07-25T12:33:17.299Z"
   },
   {
    "duration": 5,
    "start_time": "2024-07-25T12:33:22.441Z"
   },
   {
    "duration": 755,
    "start_time": "2024-07-25T12:33:22.631Z"
   },
   {
    "duration": 4,
    "start_time": "2024-07-25T12:33:59.289Z"
   },
   {
    "duration": 478,
    "start_time": "2024-07-25T12:34:00.072Z"
   },
   {
    "duration": 5,
    "start_time": "2024-07-25T12:34:05.233Z"
   },
   {
    "duration": 450,
    "start_time": "2024-07-25T12:34:05.633Z"
   },
   {
    "duration": 4,
    "start_time": "2024-07-25T12:34:14.009Z"
   },
   {
    "duration": 481,
    "start_time": "2024-07-25T12:34:14.248Z"
   },
   {
    "duration": 373,
    "start_time": "2024-07-25T12:34:33.385Z"
   },
   {
    "duration": 453,
    "start_time": "2024-07-25T12:34:38.481Z"
   },
   {
    "duration": 5,
    "start_time": "2024-07-25T12:45:12.377Z"
   },
   {
    "duration": 4,
    "start_time": "2024-07-25T12:45:33.865Z"
   },
   {
    "duration": 4,
    "start_time": "2024-07-25T12:45:42.721Z"
   },
   {
    "duration": 4,
    "start_time": "2024-07-25T12:46:12.938Z"
   },
   {
    "duration": 5,
    "start_time": "2024-07-25T12:46:55.299Z"
   },
   {
    "duration": 6,
    "start_time": "2024-07-25T12:47:01.354Z"
   },
   {
    "duration": 3,
    "start_time": "2024-07-25T13:08:22.923Z"
   },
   {
    "duration": 4,
    "start_time": "2024-07-25T13:08:25.218Z"
   },
   {
    "duration": 4,
    "start_time": "2024-07-25T13:09:20.539Z"
   },
   {
    "duration": 14,
    "start_time": "2024-07-25T13:19:24.562Z"
   },
   {
    "duration": 5,
    "start_time": "2024-07-25T13:19:38.746Z"
   },
   {
    "duration": 5,
    "start_time": "2024-07-25T13:19:45.607Z"
   },
   {
    "duration": 5,
    "start_time": "2024-07-25T13:19:50.754Z"
   },
   {
    "duration": 45,
    "start_time": "2024-07-26T05:32:20.290Z"
   },
   {
    "duration": 3,
    "start_time": "2024-07-26T05:32:26.240Z"
   },
   {
    "duration": 2,
    "start_time": "2024-07-26T05:32:26.432Z"
   },
   {
    "duration": 7,
    "start_time": "2024-07-26T05:32:30.457Z"
   },
   {
    "duration": 4,
    "start_time": "2024-07-26T05:32:48.528Z"
   },
   {
    "duration": 86,
    "start_time": "2024-07-26T05:33:35.961Z"
   },
   {
    "duration": 3,
    "start_time": "2024-07-26T05:33:39.589Z"
   },
   {
    "duration": 3,
    "start_time": "2024-07-26T05:33:56.050Z"
   },
   {
    "duration": 1468,
    "start_time": "2024-07-26T05:34:44.232Z"
   },
   {
    "duration": 1702,
    "start_time": "2024-07-26T05:34:45.702Z"
   },
   {
    "duration": 2,
    "start_time": "2024-07-26T05:34:47.406Z"
   },
   {
    "duration": 58,
    "start_time": "2024-07-26T05:34:47.410Z"
   },
   {
    "duration": 2606,
    "start_time": "2024-07-26T05:34:47.469Z"
   },
   {
    "duration": 3,
    "start_time": "2024-07-26T05:34:50.081Z"
   },
   {
    "duration": 97,
    "start_time": "2024-07-26T05:34:50.085Z"
   },
   {
    "duration": 9,
    "start_time": "2024-07-26T05:34:50.184Z"
   },
   {
    "duration": 48,
    "start_time": "2024-07-26T05:34:50.195Z"
   },
   {
    "duration": 43,
    "start_time": "2024-07-26T05:34:50.246Z"
   },
   {
    "duration": 292,
    "start_time": "2024-07-26T05:34:50.291Z"
   },
   {
    "duration": 4,
    "start_time": "2024-07-26T05:34:50.586Z"
   },
   {
    "duration": 196,
    "start_time": "2024-07-26T05:34:50.591Z"
   },
   {
    "duration": 4,
    "start_time": "2024-07-26T05:34:50.788Z"
   },
   {
    "duration": 22,
    "start_time": "2024-07-26T05:34:50.793Z"
   },
   {
    "duration": 395,
    "start_time": "2024-07-26T05:34:50.816Z"
   },
   {
    "duration": 376,
    "start_time": "2024-07-26T05:34:51.213Z"
   },
   {
    "duration": 392,
    "start_time": "2024-07-26T05:34:51.590Z"
   },
   {
    "duration": 2,
    "start_time": "2024-07-26T05:34:51.984Z"
   },
   {
    "duration": 49,
    "start_time": "2024-07-26T05:34:51.988Z"
   },
   {
    "duration": 10,
    "start_time": "2024-07-26T05:38:04.373Z"
   },
   {
    "duration": 5,
    "start_time": "2024-07-26T05:38:19.270Z"
   },
   {
    "duration": 77,
    "start_time": "2024-07-26T05:48:50.444Z"
   },
   {
    "duration": 5,
    "start_time": "2024-07-26T05:48:56.933Z"
   },
   {
    "duration": 100,
    "start_time": "2024-07-26T05:49:11.406Z"
   },
   {
    "duration": 6,
    "start_time": "2024-07-26T05:49:16.325Z"
   },
   {
    "duration": 128,
    "start_time": "2024-07-26T05:50:39.295Z"
   },
   {
    "duration": 6,
    "start_time": "2024-07-26T05:50:58.759Z"
   },
   {
    "duration": 6,
    "start_time": "2024-07-26T05:51:22.200Z"
   },
   {
    "duration": 7,
    "start_time": "2024-07-26T05:51:33.783Z"
   },
   {
    "duration": 7,
    "start_time": "2024-07-26T05:52:35.592Z"
   },
   {
    "duration": 1334,
    "start_time": "2024-07-26T05:52:49.589Z"
   },
   {
    "duration": 379,
    "start_time": "2024-07-26T05:52:50.925Z"
   },
   {
    "duration": 2,
    "start_time": "2024-07-26T05:52:51.308Z"
   },
   {
    "duration": 52,
    "start_time": "2024-07-26T05:52:51.312Z"
   },
   {
    "duration": 2671,
    "start_time": "2024-07-26T05:52:51.365Z"
   },
   {
    "duration": 3,
    "start_time": "2024-07-26T05:52:54.037Z"
   },
   {
    "duration": 98,
    "start_time": "2024-07-26T05:52:54.041Z"
   },
   {
    "duration": 9,
    "start_time": "2024-07-26T05:52:54.140Z"
   },
   {
    "duration": 43,
    "start_time": "2024-07-26T05:52:54.151Z"
   },
   {
    "duration": 41,
    "start_time": "2024-07-26T05:52:54.195Z"
   },
   {
    "duration": 152,
    "start_time": "2024-07-26T05:52:54.238Z"
   },
   {
    "duration": 92,
    "start_time": "2024-07-26T05:52:54.391Z"
   },
   {
    "duration": 98,
    "start_time": "2024-07-26T05:52:54.487Z"
   },
   {
    "duration": 9,
    "start_time": "2024-07-26T05:52:54.587Z"
   },
   {
    "duration": 21,
    "start_time": "2024-07-26T05:52:54.598Z"
   },
   {
    "duration": 408,
    "start_time": "2024-07-26T05:52:54.620Z"
   },
   {
    "duration": 371,
    "start_time": "2024-07-26T05:52:55.029Z"
   },
   {
    "duration": 397,
    "start_time": "2024-07-26T05:52:55.401Z"
   },
   {
    "duration": 2,
    "start_time": "2024-07-26T05:52:55.799Z"
   },
   {
    "duration": 4,
    "start_time": "2024-07-26T05:52:55.803Z"
   },
   {
    "duration": 10,
    "start_time": "2024-07-26T05:52:55.808Z"
   },
   {
    "duration": 1330,
    "start_time": "2024-07-26T07:04:22.077Z"
   },
   {
    "duration": 375,
    "start_time": "2024-07-26T07:04:23.409Z"
   },
   {
    "duration": 2,
    "start_time": "2024-07-26T07:04:23.786Z"
   },
   {
    "duration": 55,
    "start_time": "2024-07-26T07:04:23.789Z"
   },
   {
    "duration": 2573,
    "start_time": "2024-07-26T07:04:23.846Z"
   },
   {
    "duration": 3,
    "start_time": "2024-07-26T07:04:26.420Z"
   },
   {
    "duration": 90,
    "start_time": "2024-07-26T07:04:26.424Z"
   },
   {
    "duration": 9,
    "start_time": "2024-07-26T07:04:26.515Z"
   },
   {
    "duration": 36,
    "start_time": "2024-07-26T07:04:26.526Z"
   },
   {
    "duration": 41,
    "start_time": "2024-07-26T07:04:26.564Z"
   },
   {
    "duration": 182,
    "start_time": "2024-07-26T07:04:26.606Z"
   },
   {
    "duration": 93,
    "start_time": "2024-07-26T07:04:26.790Z"
   },
   {
    "duration": 99,
    "start_time": "2024-07-26T07:04:26.885Z"
   },
   {
    "duration": 4,
    "start_time": "2024-07-26T07:04:26.986Z"
   },
   {
    "duration": 7,
    "start_time": "2024-07-26T07:04:26.991Z"
   },
   {
    "duration": 408,
    "start_time": "2024-07-26T07:04:27.000Z"
   },
   {
    "duration": 386,
    "start_time": "2024-07-26T07:04:27.409Z"
   },
   {
    "duration": 391,
    "start_time": "2024-07-26T07:04:27.796Z"
   },
   {
    "duration": 2,
    "start_time": "2024-07-26T07:04:28.189Z"
   },
   {
    "duration": 21,
    "start_time": "2024-07-26T07:04:28.192Z"
   },
   {
    "duration": 26,
    "start_time": "2024-07-26T07:04:28.214Z"
   },
   {
    "duration": 10,
    "start_time": "2024-07-26T07:43:50.411Z"
   },
   {
    "duration": 7,
    "start_time": "2024-07-26T07:44:14.659Z"
   },
   {
    "duration": 12,
    "start_time": "2024-07-26T07:44:44.062Z"
   },
   {
    "duration": 7,
    "start_time": "2024-07-26T07:45:48.413Z"
   },
   {
    "duration": 13,
    "start_time": "2024-07-26T07:45:51.765Z"
   },
   {
    "duration": 9,
    "start_time": "2024-07-26T07:46:02.772Z"
   },
   {
    "duration": 8,
    "start_time": "2024-07-26T07:46:08.229Z"
   },
   {
    "duration": 8,
    "start_time": "2024-07-26T07:46:24.941Z"
   },
   {
    "duration": 8,
    "start_time": "2024-07-26T07:46:36.725Z"
   },
   {
    "duration": 8,
    "start_time": "2024-07-26T07:46:40.181Z"
   },
   {
    "duration": 3,
    "start_time": "2024-07-26T07:53:25.899Z"
   },
   {
    "duration": 12,
    "start_time": "2024-07-26T07:54:09.395Z"
   },
   {
    "duration": 3,
    "start_time": "2024-07-26T07:54:19.891Z"
   },
   {
    "duration": 3,
    "start_time": "2024-07-26T07:54:20.123Z"
   },
   {
    "duration": 4,
    "start_time": "2024-07-26T07:54:20.434Z"
   },
   {
    "duration": 3,
    "start_time": "2024-07-26T08:03:47.249Z"
   },
   {
    "duration": 3,
    "start_time": "2024-07-26T08:04:09.986Z"
   },
   {
    "duration": 3,
    "start_time": "2024-07-26T08:04:24.457Z"
   },
   {
    "duration": 3,
    "start_time": "2024-07-26T08:04:44.819Z"
   },
   {
    "duration": 3,
    "start_time": "2024-07-26T08:04:59.235Z"
   },
   {
    "duration": 3,
    "start_time": "2024-07-26T08:05:07.892Z"
   },
   {
    "duration": 3,
    "start_time": "2024-07-26T08:05:18.260Z"
   },
   {
    "duration": 3,
    "start_time": "2024-07-26T08:05:46.820Z"
   },
   {
    "duration": 100,
    "start_time": "2024-07-26T08:06:54.533Z"
   },
   {
    "duration": 4,
    "start_time": "2024-07-26T08:07:00.624Z"
   },
   {
    "duration": 5,
    "start_time": "2024-07-26T08:07:18.349Z"
   },
   {
    "duration": 6,
    "start_time": "2024-07-26T08:07:23.411Z"
   },
   {
    "duration": 5,
    "start_time": "2024-07-26T08:07:27.365Z"
   },
   {
    "duration": 5,
    "start_time": "2024-07-26T08:07:30.853Z"
   },
   {
    "duration": 5,
    "start_time": "2024-07-26T08:09:31.807Z"
   },
   {
    "duration": 6,
    "start_time": "2024-07-26T08:09:41.872Z"
   },
   {
    "duration": 5,
    "start_time": "2024-07-26T08:11:03.015Z"
   },
   {
    "duration": 5,
    "start_time": "2024-07-26T08:11:50.857Z"
   },
   {
    "duration": 1270,
    "start_time": "2024-07-26T11:37:09.036Z"
   },
   {
    "duration": 389,
    "start_time": "2024-07-26T11:37:10.308Z"
   },
   {
    "duration": 3,
    "start_time": "2024-07-26T11:37:10.699Z"
   },
   {
    "duration": 54,
    "start_time": "2024-07-26T11:37:10.704Z"
   },
   {
    "duration": 2743,
    "start_time": "2024-07-26T11:37:10.759Z"
   },
   {
    "duration": 3,
    "start_time": "2024-07-26T11:37:13.504Z"
   },
   {
    "duration": 95,
    "start_time": "2024-07-26T11:37:13.508Z"
   },
   {
    "duration": 10,
    "start_time": "2024-07-26T11:37:13.604Z"
   },
   {
    "duration": 32,
    "start_time": "2024-07-26T11:37:13.615Z"
   },
   {
    "duration": 53,
    "start_time": "2024-07-26T11:37:13.649Z"
   },
   {
    "duration": 279,
    "start_time": "2024-07-26T11:37:13.704Z"
   },
   {
    "duration": 5,
    "start_time": "2024-07-26T11:37:13.985Z"
   },
   {
    "duration": 104,
    "start_time": "2024-07-26T11:37:13.991Z"
   },
   {
    "duration": 84,
    "start_time": "2024-07-26T11:37:14.099Z"
   },
   {
    "duration": 10,
    "start_time": "2024-07-26T11:37:14.184Z"
   },
   {
    "duration": 394,
    "start_time": "2024-07-26T11:37:14.196Z"
   },
   {
    "duration": 391,
    "start_time": "2024-07-26T11:37:14.592Z"
   },
   {
    "duration": 381,
    "start_time": "2024-07-26T11:37:14.984Z"
   },
   {
    "duration": 3,
    "start_time": "2024-07-26T11:37:15.366Z"
   },
   {
    "duration": 15,
    "start_time": "2024-07-26T11:37:15.382Z"
   },
   {
    "duration": 13,
    "start_time": "2024-07-26T11:37:15.398Z"
   },
   {
    "duration": 3,
    "start_time": "2024-07-26T11:37:15.413Z"
   },
   {
    "duration": 22,
    "start_time": "2024-07-26T11:37:15.418Z"
   },
   {
    "duration": 22,
    "start_time": "2024-07-26T11:37:15.441Z"
   },
   {
    "duration": 58,
    "start_time": "2024-07-26T11:37:15.465Z"
   },
   {
    "duration": 3,
    "start_time": "2024-07-26T11:40:17.174Z"
   },
   {
    "duration": 775,
    "start_time": "2024-07-26T11:59:12.059Z"
   },
   {
    "duration": 10,
    "start_time": "2024-07-26T11:59:15.315Z"
   },
   {
    "duration": 767,
    "start_time": "2024-07-26T12:02:11.820Z"
   },
   {
    "duration": 9,
    "start_time": "2024-07-26T12:02:12.589Z"
   },
   {
    "duration": 858,
    "start_time": "2024-07-26T12:02:31.977Z"
   },
   {
    "duration": 8,
    "start_time": "2024-07-26T12:02:32.837Z"
   },
   {
    "duration": 765,
    "start_time": "2024-07-26T12:02:34.669Z"
   },
   {
    "duration": 8,
    "start_time": "2024-07-26T12:02:35.436Z"
   },
   {
    "duration": 686,
    "start_time": "2024-07-26T12:03:33.934Z"
   },
   {
    "duration": 9,
    "start_time": "2024-07-26T12:03:35.734Z"
   },
   {
    "duration": 17,
    "start_time": "2024-07-26T12:03:44.272Z"
   },
   {
    "duration": 54,
    "start_time": "2024-07-26T12:08:26.704Z"
   },
   {
    "duration": 2092,
    "start_time": "2024-07-26T12:08:32.593Z"
   },
   {
    "duration": 13,
    "start_time": "2024-07-26T12:08:34.687Z"
   },
   {
    "duration": 99,
    "start_time": "2024-07-26T12:08:45.649Z"
   },
   {
    "duration": 13,
    "start_time": "2024-07-26T12:08:51.936Z"
   },
   {
    "duration": 142,
    "start_time": "2024-07-26T12:09:08.809Z"
   },
   {
    "duration": 224,
    "start_time": "2024-07-26T12:09:20.489Z"
   },
   {
    "duration": 157,
    "start_time": "2024-07-26T12:09:31.713Z"
   },
   {
    "duration": 144,
    "start_time": "2024-07-26T12:09:38.041Z"
   },
   {
    "duration": 9,
    "start_time": "2024-07-26T12:10:54.658Z"
   },
   {
    "duration": 15,
    "start_time": "2024-07-26T12:10:56.993Z"
   },
   {
    "duration": 8,
    "start_time": "2024-07-26T12:10:57.218Z"
   },
   {
    "duration": 1298,
    "start_time": "2024-07-26T12:11:24.816Z"
   },
   {
    "duration": 383,
    "start_time": "2024-07-26T12:11:26.115Z"
   },
   {
    "duration": 2,
    "start_time": "2024-07-26T12:11:26.500Z"
   },
   {
    "duration": 58,
    "start_time": "2024-07-26T12:11:26.503Z"
   },
   {
    "duration": 2666,
    "start_time": "2024-07-26T12:11:26.564Z"
   },
   {
    "duration": 3,
    "start_time": "2024-07-26T12:11:29.231Z"
   },
   {
    "duration": 95,
    "start_time": "2024-07-26T12:11:29.235Z"
   },
   {
    "duration": 9,
    "start_time": "2024-07-26T12:11:29.331Z"
   },
   {
    "duration": 41,
    "start_time": "2024-07-26T12:11:29.341Z"
   },
   {
    "duration": 38,
    "start_time": "2024-07-26T12:11:29.383Z"
   },
   {
    "duration": 162,
    "start_time": "2024-07-26T12:11:29.422Z"
   },
   {
    "duration": 4,
    "start_time": "2024-07-26T12:11:29.586Z"
   },
   {
    "duration": 108,
    "start_time": "2024-07-26T12:11:29.682Z"
   },
   {
    "duration": 28,
    "start_time": "2024-07-26T12:11:29.793Z"
   },
   {
    "duration": 5,
    "start_time": "2024-07-26T12:11:29.822Z"
   },
   {
    "duration": 404,
    "start_time": "2024-07-26T12:11:29.828Z"
   },
   {
    "duration": 399,
    "start_time": "2024-07-26T12:11:30.234Z"
   },
   {
    "duration": 395,
    "start_time": "2024-07-26T12:11:30.634Z"
   },
   {
    "duration": 2,
    "start_time": "2024-07-26T12:11:31.031Z"
   },
   {
    "duration": 63,
    "start_time": "2024-07-26T12:11:31.035Z"
   },
   {
    "duration": 47,
    "start_time": "2024-07-26T12:11:31.099Z"
   },
   {
    "duration": 47,
    "start_time": "2024-07-26T12:11:31.147Z"
   },
   {
    "duration": 78,
    "start_time": "2024-07-26T12:11:31.195Z"
   },
   {
    "duration": 65,
    "start_time": "2024-07-26T12:11:31.275Z"
   },
   {
    "duration": 267,
    "start_time": "2024-07-26T12:11:31.342Z"
   },
   {
    "duration": 0,
    "start_time": "2024-07-26T12:11:31.611Z"
   },
   {
    "duration": 2129,
    "start_time": "2024-07-26T12:11:36.771Z"
   },
   {
    "duration": 7,
    "start_time": "2024-07-26T12:11:39.425Z"
   },
   {
    "duration": 3,
    "start_time": "2024-07-26T12:14:26.468Z"
   },
   {
    "duration": 15,
    "start_time": "2024-07-26T12:14:41.678Z"
   },
   {
    "duration": 2152,
    "start_time": "2024-07-26T12:14:49.221Z"
   },
   {
    "duration": 7,
    "start_time": "2024-07-26T12:14:51.375Z"
   },
   {
    "duration": 4,
    "start_time": "2024-07-26T12:17:04.679Z"
   },
   {
    "duration": 6,
    "start_time": "2024-07-26T12:17:07.470Z"
   },
   {
    "duration": 4,
    "start_time": "2024-07-26T12:17:11.695Z"
   },
   {
    "duration": 3,
    "start_time": "2024-07-26T12:19:17.167Z"
   },
   {
    "duration": 15,
    "start_time": "2024-07-26T12:19:35.761Z"
   },
   {
    "duration": 1351,
    "start_time": "2024-07-26T12:19:39.572Z"
   },
   {
    "duration": 383,
    "start_time": "2024-07-26T12:19:40.924Z"
   },
   {
    "duration": 3,
    "start_time": "2024-07-26T12:19:41.308Z"
   },
   {
    "duration": 60,
    "start_time": "2024-07-26T12:19:41.313Z"
   },
   {
    "duration": 2684,
    "start_time": "2024-07-26T12:19:41.374Z"
   },
   {
    "duration": 2,
    "start_time": "2024-07-26T12:19:44.060Z"
   },
   {
    "duration": 99,
    "start_time": "2024-07-26T12:19:44.064Z"
   },
   {
    "duration": 10,
    "start_time": "2024-07-26T12:19:44.165Z"
   },
   {
    "duration": 34,
    "start_time": "2024-07-26T12:19:44.176Z"
   },
   {
    "duration": 39,
    "start_time": "2024-07-26T12:19:44.213Z"
   },
   {
    "duration": 234,
    "start_time": "2024-07-26T12:19:44.253Z"
   },
   {
    "duration": 94,
    "start_time": "2024-07-26T12:19:44.489Z"
   },
   {
    "duration": 105,
    "start_time": "2024-07-26T12:19:44.585Z"
   },
   {
    "duration": 9,
    "start_time": "2024-07-26T12:19:44.691Z"
   },
   {
    "duration": 14,
    "start_time": "2024-07-26T12:19:44.701Z"
   },
   {
    "duration": 401,
    "start_time": "2024-07-26T12:19:44.717Z"
   },
   {
    "duration": 387,
    "start_time": "2024-07-26T12:19:45.120Z"
   },
   {
    "duration": 381,
    "start_time": "2024-07-26T12:19:45.509Z"
   },
   {
    "duration": 2,
    "start_time": "2024-07-26T12:19:45.892Z"
   },
   {
    "duration": 11,
    "start_time": "2024-07-26T12:19:45.896Z"
   },
   {
    "duration": 10,
    "start_time": "2024-07-26T12:19:45.908Z"
   },
   {
    "duration": 6,
    "start_time": "2024-07-26T12:19:45.919Z"
   },
   {
    "duration": 16,
    "start_time": "2024-07-26T12:19:45.927Z"
   },
   {
    "duration": 5,
    "start_time": "2024-07-26T12:19:45.945Z"
   },
   {
    "duration": 122,
    "start_time": "2024-07-26T12:19:45.951Z"
   },
   {
    "duration": 0,
    "start_time": "2024-07-26T12:19:46.074Z"
   },
   {
    "duration": 2099,
    "start_time": "2024-07-26T12:19:50.592Z"
   },
   {
    "duration": 4,
    "start_time": "2024-07-26T12:19:57.793Z"
   },
   {
    "duration": 9,
    "start_time": "2024-07-26T12:23:45.484Z"
   },
   {
    "duration": 5,
    "start_time": "2024-07-26T12:24:01.555Z"
   },
   {
    "duration": 6,
    "start_time": "2024-07-26T12:24:57.438Z"
   },
   {
    "duration": 8,
    "start_time": "2024-07-26T12:26:52.356Z"
   },
   {
    "duration": 7,
    "start_time": "2024-07-26T12:27:00.757Z"
   },
   {
    "duration": 8,
    "start_time": "2024-07-26T12:27:22.830Z"
   },
   {
    "duration": 9,
    "start_time": "2024-07-26T12:27:29.278Z"
   },
   {
    "duration": 12,
    "start_time": "2024-07-26T12:30:38.009Z"
   },
   {
    "duration": 11,
    "start_time": "2024-07-26T12:31:31.488Z"
   },
   {
    "duration": 11,
    "start_time": "2024-07-26T12:32:00.114Z"
   },
   {
    "duration": 1288,
    "start_time": "2024-07-26T12:38:14.004Z"
   },
   {
    "duration": 378,
    "start_time": "2024-07-26T12:38:15.294Z"
   },
   {
    "duration": 3,
    "start_time": "2024-07-26T12:38:15.674Z"
   },
   {
    "duration": 54,
    "start_time": "2024-07-26T12:38:15.678Z"
   },
   {
    "duration": 2714,
    "start_time": "2024-07-26T12:38:15.733Z"
   },
   {
    "duration": 2,
    "start_time": "2024-07-26T12:38:18.448Z"
   },
   {
    "duration": 89,
    "start_time": "2024-07-26T12:38:18.452Z"
   },
   {
    "duration": 9,
    "start_time": "2024-07-26T12:38:18.542Z"
   },
   {
    "duration": 43,
    "start_time": "2024-07-26T12:38:18.553Z"
   },
   {
    "duration": 39,
    "start_time": "2024-07-26T12:38:18.598Z"
   },
   {
    "duration": 148,
    "start_time": "2024-07-26T12:38:18.639Z"
   },
   {
    "duration": 93,
    "start_time": "2024-07-26T12:38:18.789Z"
   },
   {
    "duration": 97,
    "start_time": "2024-07-26T12:38:18.885Z"
   },
   {
    "duration": 4,
    "start_time": "2024-07-26T12:38:18.984Z"
   },
   {
    "duration": 4,
    "start_time": "2024-07-26T12:38:18.989Z"
   },
   {
    "duration": 398,
    "start_time": "2024-07-26T12:38:18.994Z"
   },
   {
    "duration": 376,
    "start_time": "2024-07-26T12:38:19.394Z"
   },
   {
    "duration": 400,
    "start_time": "2024-07-26T12:38:19.772Z"
   },
   {
    "duration": 8,
    "start_time": "2024-07-26T12:38:20.174Z"
   },
   {
    "duration": 8,
    "start_time": "2024-07-26T12:38:20.183Z"
   },
   {
    "duration": 21,
    "start_time": "2024-07-26T12:38:20.192Z"
   },
   {
    "duration": 11,
    "start_time": "2024-07-26T12:38:20.215Z"
   },
   {
    "duration": 25,
    "start_time": "2024-07-26T12:38:20.228Z"
   },
   {
    "duration": 7,
    "start_time": "2024-07-26T12:38:20.255Z"
   },
   {
    "duration": 2082,
    "start_time": "2024-07-26T12:38:20.264Z"
   },
   {
    "duration": 12,
    "start_time": "2024-07-26T12:38:22.347Z"
   },
   {
    "duration": 1415,
    "start_time": "2024-07-26T12:38:41.397Z"
   },
   {
    "duration": 386,
    "start_time": "2024-07-26T12:38:42.814Z"
   },
   {
    "duration": 2,
    "start_time": "2024-07-26T12:38:43.201Z"
   },
   {
    "duration": 77,
    "start_time": "2024-07-26T12:38:43.205Z"
   },
   {
    "duration": 2701,
    "start_time": "2024-07-26T12:38:43.284Z"
   },
   {
    "duration": 3,
    "start_time": "2024-07-26T12:38:45.987Z"
   },
   {
    "duration": 93,
    "start_time": "2024-07-26T12:38:45.991Z"
   },
   {
    "duration": 9,
    "start_time": "2024-07-26T12:38:46.086Z"
   },
   {
    "duration": 39,
    "start_time": "2024-07-26T12:38:46.097Z"
   },
   {
    "duration": 47,
    "start_time": "2024-07-26T12:38:46.137Z"
   },
   {
    "duration": 203,
    "start_time": "2024-07-26T12:38:46.185Z"
   },
   {
    "duration": 92,
    "start_time": "2024-07-26T12:38:46.390Z"
   },
   {
    "duration": 101,
    "start_time": "2024-07-26T12:38:46.485Z"
   },
   {
    "duration": 3,
    "start_time": "2024-07-26T12:38:46.589Z"
   },
   {
    "duration": 9,
    "start_time": "2024-07-26T12:38:46.594Z"
   },
   {
    "duration": 433,
    "start_time": "2024-07-26T12:38:46.604Z"
   },
   {
    "duration": 407,
    "start_time": "2024-07-26T12:38:47.039Z"
   },
   {
    "duration": 400,
    "start_time": "2024-07-26T12:38:47.448Z"
   },
   {
    "duration": 3,
    "start_time": "2024-07-26T12:38:47.850Z"
   },
   {
    "duration": 8,
    "start_time": "2024-07-26T12:38:47.854Z"
   },
   {
    "duration": 22,
    "start_time": "2024-07-26T12:38:47.863Z"
   },
   {
    "duration": 18,
    "start_time": "2024-07-26T12:38:47.886Z"
   },
   {
    "duration": 17,
    "start_time": "2024-07-26T12:38:47.905Z"
   },
   {
    "duration": 6,
    "start_time": "2024-07-26T12:38:47.923Z"
   },
   {
    "duration": 2154,
    "start_time": "2024-07-26T12:38:47.930Z"
   },
   {
    "duration": 12,
    "start_time": "2024-07-26T12:38:50.086Z"
   },
   {
    "duration": 12,
    "start_time": "2024-07-26T12:59:41.151Z"
   },
   {
    "duration": 76,
    "start_time": "2024-07-26T13:04:08.835Z"
   },
   {
    "duration": 104,
    "start_time": "2024-07-26T13:09:36.560Z"
   },
   {
    "duration": 13,
    "start_time": "2024-07-26T13:09:57.806Z"
   },
   {
    "duration": 13,
    "start_time": "2024-07-26T13:10:08.319Z"
   },
   {
    "duration": 1312,
    "start_time": "2024-07-26T13:12:37.011Z"
   },
   {
    "duration": 390,
    "start_time": "2024-07-26T13:12:38.325Z"
   },
   {
    "duration": 3,
    "start_time": "2024-07-26T13:12:38.717Z"
   },
   {
    "duration": 61,
    "start_time": "2024-07-26T13:12:38.721Z"
   },
   {
    "duration": 2821,
    "start_time": "2024-07-26T13:12:38.785Z"
   },
   {
    "duration": 3,
    "start_time": "2024-07-26T13:12:41.607Z"
   },
   {
    "duration": 100,
    "start_time": "2024-07-26T13:12:41.611Z"
   },
   {
    "duration": 10,
    "start_time": "2024-07-26T13:12:41.713Z"
   },
   {
    "duration": 33,
    "start_time": "2024-07-26T13:12:41.725Z"
   },
   {
    "duration": 53,
    "start_time": "2024-07-26T13:12:41.760Z"
   },
   {
    "duration": 174,
    "start_time": "2024-07-26T13:12:41.814Z"
   },
   {
    "duration": 95,
    "start_time": "2024-07-26T13:12:41.991Z"
   },
   {
    "duration": 113,
    "start_time": "2024-07-26T13:12:42.088Z"
   },
   {
    "duration": 4,
    "start_time": "2024-07-26T13:12:42.204Z"
   },
   {
    "duration": 8,
    "start_time": "2024-07-26T13:12:42.209Z"
   },
   {
    "duration": 420,
    "start_time": "2024-07-26T13:12:42.218Z"
   },
   {
    "duration": 412,
    "start_time": "2024-07-26T13:12:42.640Z"
   },
   {
    "duration": 435,
    "start_time": "2024-07-26T13:12:43.053Z"
   },
   {
    "duration": 3,
    "start_time": "2024-07-26T13:12:43.489Z"
   },
   {
    "duration": 6,
    "start_time": "2024-07-26T13:12:43.493Z"
   },
   {
    "duration": 6,
    "start_time": "2024-07-26T13:12:43.500Z"
   },
   {
    "duration": 2,
    "start_time": "2024-07-26T13:12:43.508Z"
   },
   {
    "duration": 14,
    "start_time": "2024-07-26T13:12:43.511Z"
   },
   {
    "duration": 6,
    "start_time": "2024-07-26T13:12:43.527Z"
   },
   {
    "duration": 2187,
    "start_time": "2024-07-26T13:12:43.534Z"
   },
   {
    "duration": 14,
    "start_time": "2024-07-26T13:12:45.723Z"
   },
   {
    "duration": 1432,
    "start_time": "2024-07-26T16:40:56.094Z"
   },
   {
    "duration": 910,
    "start_time": "2024-07-26T16:40:57.528Z"
   },
   {
    "duration": 2,
    "start_time": "2024-07-26T16:40:58.440Z"
   },
   {
    "duration": 62,
    "start_time": "2024-07-26T16:40:58.444Z"
   },
   {
    "duration": 3185,
    "start_time": "2024-07-26T16:40:58.509Z"
   },
   {
    "duration": 4,
    "start_time": "2024-07-26T16:41:01.695Z"
   },
   {
    "duration": 243,
    "start_time": "2024-07-26T16:41:01.700Z"
   },
   {
    "duration": 133,
    "start_time": "2024-07-26T16:41:01.945Z"
   },
   {
    "duration": 258,
    "start_time": "2024-07-26T16:41:02.080Z"
   },
   {
    "duration": 65,
    "start_time": "2024-07-26T16:41:02.340Z"
   },
   {
    "duration": 145,
    "start_time": "2024-07-26T16:41:02.407Z"
   },
   {
    "duration": 193,
    "start_time": "2024-07-26T16:41:02.554Z"
   },
   {
    "duration": 41,
    "start_time": "2024-07-26T16:41:02.749Z"
   },
   {
    "duration": 18,
    "start_time": "2024-07-26T16:41:02.793Z"
   },
   {
    "duration": 52,
    "start_time": "2024-07-26T16:41:02.812Z"
   },
   {
    "duration": 453,
    "start_time": "2024-07-26T16:41:02.865Z"
   },
   {
    "duration": 428,
    "start_time": "2024-07-26T16:41:03.319Z"
   },
   {
    "duration": 444,
    "start_time": "2024-07-26T16:41:03.748Z"
   },
   {
    "duration": 2,
    "start_time": "2024-07-26T16:41:04.194Z"
   },
   {
    "duration": 7,
    "start_time": "2024-07-26T16:41:04.198Z"
   },
   {
    "duration": 8,
    "start_time": "2024-07-26T16:41:04.207Z"
   },
   {
    "duration": 3,
    "start_time": "2024-07-26T16:41:04.216Z"
   },
   {
    "duration": 34,
    "start_time": "2024-07-26T16:41:04.221Z"
   },
   {
    "duration": 6,
    "start_time": "2024-07-26T16:41:04.256Z"
   },
   {
    "duration": 2452,
    "start_time": "2024-07-26T16:41:04.263Z"
   },
   {
    "duration": 14,
    "start_time": "2024-07-26T16:41:06.717Z"
   },
   {
    "duration": 4,
    "start_time": "2024-07-26T16:49:27.477Z"
   },
   {
    "duration": 14,
    "start_time": "2024-07-26T16:49:29.137Z"
   },
   {
    "duration": 6,
    "start_time": "2024-07-26T16:49:29.823Z"
   },
   {
    "duration": 4,
    "start_time": "2024-07-26T16:50:15.253Z"
   },
   {
    "duration": 15,
    "start_time": "2024-07-26T16:50:16.431Z"
   },
   {
    "duration": 5,
    "start_time": "2024-07-26T16:50:16.993Z"
   },
   {
    "duration": 1501,
    "start_time": "2024-07-26T16:51:21.841Z"
   },
   {
    "duration": 418,
    "start_time": "2024-07-26T16:51:23.344Z"
   },
   {
    "duration": 3,
    "start_time": "2024-07-26T16:51:23.763Z"
   },
   {
    "duration": 76,
    "start_time": "2024-07-26T16:51:23.767Z"
   },
   {
    "duration": 3201,
    "start_time": "2024-07-26T16:51:23.846Z"
   },
   {
    "duration": 3,
    "start_time": "2024-07-26T16:51:27.049Z"
   },
   {
    "duration": 108,
    "start_time": "2024-07-26T16:51:27.053Z"
   },
   {
    "duration": 11,
    "start_time": "2024-07-26T16:51:27.162Z"
   },
   {
    "duration": 36,
    "start_time": "2024-07-26T16:51:27.175Z"
   },
   {
    "duration": 53,
    "start_time": "2024-07-26T16:51:27.212Z"
   },
   {
    "duration": 279,
    "start_time": "2024-07-26T16:51:27.267Z"
   },
   {
    "duration": 92,
    "start_time": "2024-07-26T16:51:27.554Z"
   },
   {
    "duration": 17,
    "start_time": "2024-07-26T16:51:27.648Z"
   },
   {
    "duration": 4,
    "start_time": "2024-07-26T16:51:27.668Z"
   },
   {
    "duration": 7,
    "start_time": "2024-07-26T16:51:27.673Z"
   },
   {
    "duration": 471,
    "start_time": "2024-07-26T16:51:27.681Z"
   },
   {
    "duration": 496,
    "start_time": "2024-07-26T16:51:28.154Z"
   },
   {
    "duration": 460,
    "start_time": "2024-07-26T16:51:28.653Z"
   },
   {
    "duration": 3,
    "start_time": "2024-07-26T16:51:29.114Z"
   },
   {
    "duration": 5,
    "start_time": "2024-07-26T16:51:29.118Z"
   },
   {
    "duration": 22,
    "start_time": "2024-07-26T16:51:29.125Z"
   },
   {
    "duration": 9,
    "start_time": "2024-07-26T16:51:29.148Z"
   },
   {
    "duration": 15,
    "start_time": "2024-07-26T16:51:29.158Z"
   },
   {
    "duration": 5,
    "start_time": "2024-07-26T16:51:29.175Z"
   },
   {
    "duration": 2446,
    "start_time": "2024-07-26T16:51:29.182Z"
   },
   {
    "duration": 20,
    "start_time": "2024-07-26T16:51:31.630Z"
   },
   {
    "duration": 1714,
    "start_time": "2024-07-27T06:37:42.125Z"
   },
   {
    "duration": 1861,
    "start_time": "2024-07-27T06:37:43.841Z"
   },
   {
    "duration": 8,
    "start_time": "2024-07-27T06:37:45.704Z"
   },
   {
    "duration": 63,
    "start_time": "2024-07-27T06:37:45.721Z"
   },
   {
    "duration": 3269,
    "start_time": "2024-07-27T06:37:45.786Z"
   },
   {
    "duration": 3,
    "start_time": "2024-07-27T06:37:49.056Z"
   },
   {
    "duration": 112,
    "start_time": "2024-07-27T06:37:49.060Z"
   },
   {
    "duration": 12,
    "start_time": "2024-07-27T06:37:49.173Z"
   },
   {
    "duration": 50,
    "start_time": "2024-07-27T06:37:49.186Z"
   },
   {
    "duration": 47,
    "start_time": "2024-07-27T06:37:49.239Z"
   },
   {
    "duration": 223,
    "start_time": "2024-07-27T06:37:49.287Z"
   },
   {
    "duration": 5,
    "start_time": "2024-07-27T06:37:49.512Z"
   },
   {
    "duration": 92,
    "start_time": "2024-07-27T06:37:49.519Z"
   },
   {
    "duration": 4,
    "start_time": "2024-07-27T06:37:49.613Z"
   },
   {
    "duration": 10,
    "start_time": "2024-07-27T06:37:49.621Z"
   },
   {
    "duration": 517,
    "start_time": "2024-07-27T06:37:49.633Z"
   },
   {
    "duration": 480,
    "start_time": "2024-07-27T06:37:50.152Z"
   },
   {
    "duration": 479,
    "start_time": "2024-07-27T06:37:50.634Z"
   },
   {
    "duration": 4,
    "start_time": "2024-07-27T06:37:51.119Z"
   },
   {
    "duration": 18,
    "start_time": "2024-07-27T06:37:51.125Z"
   },
   {
    "duration": 9,
    "start_time": "2024-07-27T06:37:51.145Z"
   },
   {
    "duration": 4,
    "start_time": "2024-07-27T06:37:51.156Z"
   },
   {
    "duration": 16,
    "start_time": "2024-07-27T06:37:51.162Z"
   },
   {
    "duration": 6,
    "start_time": "2024-07-27T06:37:51.180Z"
   },
   {
    "duration": 2664,
    "start_time": "2024-07-27T06:37:51.207Z"
   },
   {
    "duration": 15,
    "start_time": "2024-07-27T06:37:53.872Z"
   },
   {
    "duration": 13,
    "start_time": "2024-07-27T06:38:46.032Z"
   },
   {
    "duration": 14,
    "start_time": "2024-07-27T06:38:55.462Z"
   },
   {
    "duration": 7,
    "start_time": "2024-07-27T06:41:27.859Z"
   },
   {
    "duration": 22,
    "start_time": "2024-07-27T06:41:43.604Z"
   },
   {
    "duration": 118,
    "start_time": "2024-07-27T06:41:51.882Z"
   },
   {
    "duration": 15,
    "start_time": "2024-07-27T06:42:02.386Z"
   },
   {
    "duration": 13,
    "start_time": "2024-07-27T06:42:10.808Z"
   },
   {
    "duration": 7,
    "start_time": "2024-07-27T06:42:31.847Z"
   },
   {
    "duration": 12,
    "start_time": "2024-07-27T06:42:44.148Z"
   },
   {
    "duration": 5,
    "start_time": "2024-07-27T06:42:47.243Z"
   },
   {
    "duration": 56,
    "start_time": "2024-07-27T06:44:12.658Z"
   },
   {
    "duration": 5,
    "start_time": "2024-07-27T06:44:43.589Z"
   },
   {
    "duration": 7,
    "start_time": "2024-07-27T06:45:45.822Z"
   },
   {
    "duration": 8,
    "start_time": "2024-07-27T06:48:29.991Z"
   },
   {
    "duration": 10,
    "start_time": "2024-07-27T06:50:19.758Z"
   },
   {
    "duration": 180,
    "start_time": "2024-07-27T06:50:25.843Z"
   },
   {
    "duration": 144,
    "start_time": "2024-07-27T06:54:53.061Z"
   },
   {
    "duration": 165,
    "start_time": "2024-07-27T06:55:07.957Z"
   },
   {
    "duration": 160,
    "start_time": "2024-07-27T06:55:19.491Z"
   },
   {
    "duration": 233,
    "start_time": "2024-07-27T06:55:27.221Z"
   },
   {
    "duration": 297,
    "start_time": "2024-07-27T06:55:31.731Z"
   },
   {
    "duration": 232,
    "start_time": "2024-07-27T06:57:44.735Z"
   },
   {
    "duration": 228,
    "start_time": "2024-07-27T06:58:13.936Z"
   },
   {
    "duration": 242,
    "start_time": "2024-07-27T06:58:21.423Z"
   },
   {
    "duration": 246,
    "start_time": "2024-07-27T06:58:55.490Z"
   },
   {
    "duration": 250,
    "start_time": "2024-07-27T06:59:01.580Z"
   },
   {
    "duration": 367,
    "start_time": "2024-07-27T06:59:12.797Z"
   },
   {
    "duration": 367,
    "start_time": "2024-07-27T06:59:54.915Z"
   },
   {
    "duration": 366,
    "start_time": "2024-07-27T07:01:23.866Z"
   },
   {
    "duration": 364,
    "start_time": "2024-07-27T07:01:27.505Z"
   },
   {
    "duration": 345,
    "start_time": "2024-07-27T07:01:31.603Z"
   },
   {
    "duration": 473,
    "start_time": "2024-07-27T07:01:36.407Z"
   },
   {
    "duration": 373,
    "start_time": "2024-07-27T07:01:46.567Z"
   },
   {
    "duration": 365,
    "start_time": "2024-07-27T07:02:35.899Z"
   },
   {
    "duration": 389,
    "start_time": "2024-07-27T07:02:42.247Z"
   },
   {
    "duration": 355,
    "start_time": "2024-07-27T07:02:49.325Z"
   },
   {
    "duration": 1175,
    "start_time": "2024-07-27T07:03:07.561Z"
   },
   {
    "duration": 1163,
    "start_time": "2024-07-27T07:03:50.972Z"
   },
   {
    "duration": 15,
    "start_time": "2024-07-27T07:04:24.857Z"
   },
   {
    "duration": 14,
    "start_time": "2024-07-27T07:04:44.419Z"
   },
   {
    "duration": 14,
    "start_time": "2024-07-27T07:05:37.575Z"
   },
   {
    "duration": 1533,
    "start_time": "2024-07-27T07:05:46.496Z"
   },
   {
    "duration": 913,
    "start_time": "2024-07-27T07:05:48.031Z"
   },
   {
    "duration": 2,
    "start_time": "2024-07-27T07:05:48.946Z"
   },
   {
    "duration": 176,
    "start_time": "2024-07-27T07:05:48.950Z"
   },
   {
    "duration": 3627,
    "start_time": "2024-07-27T07:05:49.128Z"
   },
   {
    "duration": 2,
    "start_time": "2024-07-27T07:05:52.757Z"
   },
   {
    "duration": 117,
    "start_time": "2024-07-27T07:05:52.761Z"
   },
   {
    "duration": 12,
    "start_time": "2024-07-27T07:05:52.880Z"
   },
   {
    "duration": 67,
    "start_time": "2024-07-27T07:05:52.894Z"
   },
   {
    "duration": 46,
    "start_time": "2024-07-27T07:05:52.964Z"
   },
   {
    "duration": 190,
    "start_time": "2024-07-27T07:05:53.020Z"
   },
   {
    "duration": 9,
    "start_time": "2024-07-27T07:05:53.213Z"
   },
   {
    "duration": 94,
    "start_time": "2024-07-27T07:05:53.229Z"
   },
   {
    "duration": 4,
    "start_time": "2024-07-27T07:05:53.325Z"
   },
   {
    "duration": 5,
    "start_time": "2024-07-27T07:05:53.330Z"
   },
   {
    "duration": 491,
    "start_time": "2024-07-27T07:05:53.337Z"
   },
   {
    "duration": 461,
    "start_time": "2024-07-27T07:05:53.830Z"
   },
   {
    "duration": 484,
    "start_time": "2024-07-27T07:05:54.293Z"
   },
   {
    "duration": 3,
    "start_time": "2024-07-27T07:05:54.779Z"
   },
   {
    "duration": 13,
    "start_time": "2024-07-27T07:05:54.784Z"
   },
   {
    "duration": 30,
    "start_time": "2024-07-27T07:05:54.799Z"
   },
   {
    "duration": 25,
    "start_time": "2024-07-27T07:05:54.831Z"
   },
   {
    "duration": 35,
    "start_time": "2024-07-27T07:05:54.858Z"
   },
   {
    "duration": 28,
    "start_time": "2024-07-27T07:05:54.894Z"
   },
   {
    "duration": 2553,
    "start_time": "2024-07-27T07:05:54.923Z"
   },
   {
    "duration": 12,
    "start_time": "2024-07-27T07:05:57.478Z"
   },
   {
    "duration": 26,
    "start_time": "2024-07-27T07:05:57.491Z"
   },
   {
    "duration": 1303,
    "start_time": "2024-07-27T07:05:57.521Z"
   },
   {
    "duration": 1153,
    "start_time": "2024-07-27T07:06:12.764Z"
   },
   {
    "duration": 1346,
    "start_time": "2024-07-27T07:06:33.926Z"
   },
   {
    "duration": 1258,
    "start_time": "2024-07-27T07:06:52.899Z"
   },
   {
    "duration": 1247,
    "start_time": "2024-07-27T07:06:59.194Z"
   },
   {
    "duration": 1619,
    "start_time": "2024-07-27T07:09:20.304Z"
   },
   {
    "duration": 471,
    "start_time": "2024-07-27T07:09:21.924Z"
   },
   {
    "duration": 3,
    "start_time": "2024-07-27T07:09:22.396Z"
   },
   {
    "duration": 71,
    "start_time": "2024-07-27T07:09:22.407Z"
   },
   {
    "duration": 3331,
    "start_time": "2024-07-27T07:09:22.480Z"
   },
   {
    "duration": 4,
    "start_time": "2024-07-27T07:09:25.819Z"
   },
   {
    "duration": 129,
    "start_time": "2024-07-27T07:09:25.824Z"
   },
   {
    "duration": 13,
    "start_time": "2024-07-27T07:09:25.955Z"
   },
   {
    "duration": 49,
    "start_time": "2024-07-27T07:09:25.969Z"
   },
   {
    "duration": 47,
    "start_time": "2024-07-27T07:09:26.022Z"
   },
   {
    "duration": 256,
    "start_time": "2024-07-27T07:09:26.071Z"
   },
   {
    "duration": 86,
    "start_time": "2024-07-27T07:09:26.329Z"
   },
   {
    "duration": 102,
    "start_time": "2024-07-27T07:09:26.422Z"
   },
   {
    "duration": 4,
    "start_time": "2024-07-27T07:09:26.526Z"
   },
   {
    "duration": 4,
    "start_time": "2024-07-27T07:09:26.532Z"
   },
   {
    "duration": 525,
    "start_time": "2024-07-27T07:09:26.538Z"
   },
   {
    "duration": 494,
    "start_time": "2024-07-27T07:09:27.065Z"
   },
   {
    "duration": 494,
    "start_time": "2024-07-27T07:09:27.561Z"
   },
   {
    "duration": 3,
    "start_time": "2024-07-27T07:09:28.057Z"
   },
   {
    "duration": 13,
    "start_time": "2024-07-27T07:09:28.062Z"
   },
   {
    "duration": 10,
    "start_time": "2024-07-27T07:09:28.076Z"
   },
   {
    "duration": 3,
    "start_time": "2024-07-27T07:09:28.088Z"
   },
   {
    "duration": 27,
    "start_time": "2024-07-27T07:09:28.092Z"
   },
   {
    "duration": 6,
    "start_time": "2024-07-27T07:09:28.122Z"
   },
   {
    "duration": 2525,
    "start_time": "2024-07-27T07:09:28.130Z"
   },
   {
    "duration": 13,
    "start_time": "2024-07-27T07:09:30.656Z"
   },
   {
    "duration": 48,
    "start_time": "2024-07-27T07:09:30.671Z"
   },
   {
    "duration": 1316,
    "start_time": "2024-07-27T07:09:30.722Z"
   },
   {
    "duration": 1665,
    "start_time": "2024-07-28T02:52:42.103Z"
   },
   {
    "duration": 967,
    "start_time": "2024-07-28T02:52:43.771Z"
   },
   {
    "duration": 3,
    "start_time": "2024-07-28T02:52:44.740Z"
   },
   {
    "duration": 60,
    "start_time": "2024-07-28T02:52:44.745Z"
   },
   {
    "duration": 3163,
    "start_time": "2024-07-28T02:52:44.807Z"
   },
   {
    "duration": 3,
    "start_time": "2024-07-28T02:52:47.972Z"
   },
   {
    "duration": 109,
    "start_time": "2024-07-28T02:52:47.977Z"
   },
   {
    "duration": 11,
    "start_time": "2024-07-28T02:52:48.088Z"
   },
   {
    "duration": 54,
    "start_time": "2024-07-28T02:52:48.101Z"
   },
   {
    "duration": 45,
    "start_time": "2024-07-28T02:52:48.158Z"
   },
   {
    "duration": 244,
    "start_time": "2024-07-28T02:52:48.204Z"
   },
   {
    "duration": 5,
    "start_time": "2024-07-28T02:52:48.450Z"
   },
   {
    "duration": 99,
    "start_time": "2024-07-28T02:52:48.547Z"
   },
   {
    "duration": 7,
    "start_time": "2024-07-28T02:52:48.648Z"
   },
   {
    "duration": 15,
    "start_time": "2024-07-28T02:52:48.656Z"
   },
   {
    "duration": 461,
    "start_time": "2024-07-28T02:52:48.672Z"
   },
   {
    "duration": 474,
    "start_time": "2024-07-28T02:52:49.135Z"
   },
   {
    "duration": 439,
    "start_time": "2024-07-28T02:52:49.610Z"
   },
   {
    "duration": 2,
    "start_time": "2024-07-28T02:52:50.051Z"
   },
   {
    "duration": 8,
    "start_time": "2024-07-28T02:52:50.055Z"
   },
   {
    "duration": 8,
    "start_time": "2024-07-28T02:52:50.064Z"
   },
   {
    "duration": 3,
    "start_time": "2024-07-28T02:52:50.074Z"
   },
   {
    "duration": 21,
    "start_time": "2024-07-28T02:52:50.078Z"
   },
   {
    "duration": 5,
    "start_time": "2024-07-28T02:52:50.101Z"
   },
   {
    "duration": 2524,
    "start_time": "2024-07-28T02:52:50.107Z"
   },
   {
    "duration": 14,
    "start_time": "2024-07-28T02:52:52.633Z"
   },
   {
    "duration": 7,
    "start_time": "2024-07-28T02:52:52.649Z"
   },
   {
    "duration": 1274,
    "start_time": "2024-07-28T02:52:52.659Z"
   },
   {
    "duration": 1515,
    "start_time": "2024-08-02T06:34:16.818Z"
   },
   {
    "duration": 2050,
    "start_time": "2024-08-02T06:34:18.335Z"
   },
   {
    "duration": 4,
    "start_time": "2024-08-02T06:34:20.394Z"
   },
   {
    "duration": 104,
    "start_time": "2024-08-02T06:34:20.400Z"
   },
   {
    "duration": 3138,
    "start_time": "2024-08-02T06:34:20.506Z"
   },
   {
    "duration": 3,
    "start_time": "2024-08-02T06:34:23.645Z"
   },
   {
    "duration": 98,
    "start_time": "2024-08-02T06:34:23.649Z"
   },
   {
    "duration": 9,
    "start_time": "2024-08-02T06:34:23.749Z"
   },
   {
    "duration": 45,
    "start_time": "2024-08-02T06:34:23.760Z"
   },
   {
    "duration": 39,
    "start_time": "2024-08-02T06:34:23.807Z"
   },
   {
    "duration": 53,
    "start_time": "2024-08-02T06:34:23.848Z"
   },
   {
    "duration": 82,
    "start_time": "2024-08-02T06:34:23.904Z"
   },
   {
    "duration": 105,
    "start_time": "2024-08-02T06:34:23.994Z"
   },
   {
    "duration": 4,
    "start_time": "2024-08-02T06:34:24.100Z"
   },
   {
    "duration": 4,
    "start_time": "2024-08-02T06:34:24.105Z"
   },
   {
    "duration": 499,
    "start_time": "2024-08-02T06:34:24.110Z"
   },
   {
    "duration": 303,
    "start_time": "2024-08-02T06:34:24.610Z"
   },
   {
    "duration": 387,
    "start_time": "2024-08-02T06:34:24.914Z"
   },
   {
    "duration": 3,
    "start_time": "2024-08-02T06:34:25.302Z"
   },
   {
    "duration": 17,
    "start_time": "2024-08-02T06:34:25.306Z"
   },
   {
    "duration": 11,
    "start_time": "2024-08-02T06:34:25.324Z"
   },
   {
    "duration": 11,
    "start_time": "2024-08-02T06:34:25.336Z"
   },
   {
    "duration": 16,
    "start_time": "2024-08-02T06:34:25.349Z"
   },
   {
    "duration": 6,
    "start_time": "2024-08-02T06:34:25.366Z"
   },
   {
    "duration": 2128,
    "start_time": "2024-08-02T06:34:25.373Z"
   },
   {
    "duration": 12,
    "start_time": "2024-08-02T06:34:27.502Z"
   },
   {
    "duration": 8,
    "start_time": "2024-08-02T06:34:27.516Z"
   },
   {
    "duration": 1203,
    "start_time": "2024-08-02T06:34:27.527Z"
   },
   {
    "duration": 1568,
    "start_time": "2024-09-05T06:30:45.977Z"
   },
   {
    "duration": 876,
    "start_time": "2024-09-05T06:30:47.547Z"
   },
   {
    "duration": 3,
    "start_time": "2024-09-05T06:30:48.424Z"
   },
   {
    "duration": 63,
    "start_time": "2024-09-05T06:30:48.429Z"
   },
   {
    "duration": 2661,
    "start_time": "2024-09-05T06:30:48.494Z"
   },
   {
    "duration": 3,
    "start_time": "2024-09-05T06:30:51.156Z"
   },
   {
    "duration": 94,
    "start_time": "2024-09-05T06:30:51.160Z"
   },
   {
    "duration": 10,
    "start_time": "2024-09-05T06:30:51.255Z"
   },
   {
    "duration": 42,
    "start_time": "2024-09-05T06:30:51.267Z"
   },
   {
    "duration": 41,
    "start_time": "2024-09-05T06:30:51.312Z"
   },
   {
    "duration": 201,
    "start_time": "2024-09-05T06:30:51.354Z"
   },
   {
    "duration": 5,
    "start_time": "2024-09-05T06:30:51.557Z"
   },
   {
    "duration": 105,
    "start_time": "2024-09-05T06:30:51.654Z"
   },
   {
    "duration": 4,
    "start_time": "2024-09-05T06:30:51.761Z"
   },
   {
    "duration": 24,
    "start_time": "2024-09-05T06:30:51.766Z"
   },
   {
    "duration": 504,
    "start_time": "2024-09-05T06:30:51.791Z"
   },
   {
    "duration": 305,
    "start_time": "2024-09-05T06:30:52.297Z"
   },
   {
    "duration": 425,
    "start_time": "2024-09-05T06:30:52.603Z"
   },
   {
    "duration": 3,
    "start_time": "2024-09-05T06:30:53.030Z"
   },
   {
    "duration": 8,
    "start_time": "2024-09-05T06:30:53.035Z"
   },
   {
    "duration": 7,
    "start_time": "2024-09-05T06:30:53.053Z"
   },
   {
    "duration": 25,
    "start_time": "2024-09-05T06:30:53.062Z"
   },
   {
    "duration": 19,
    "start_time": "2024-09-05T06:30:53.088Z"
   },
   {
    "duration": 12,
    "start_time": "2024-09-05T06:30:53.109Z"
   },
   {
    "duration": 2125,
    "start_time": "2024-09-05T06:30:53.122Z"
   },
   {
    "duration": 12,
    "start_time": "2024-09-05T06:30:55.248Z"
   },
   {
    "duration": 11,
    "start_time": "2024-09-05T06:30:55.261Z"
   },
   {
    "duration": 1189,
    "start_time": "2024-09-05T06:30:55.274Z"
   }
  ],
  "kernelspec": {
   "display_name": "Python 3 (ipykernel)",
   "language": "python",
   "name": "python3"
  },
  "language_info": {
   "codemirror_mode": {
    "name": "ipython",
    "version": 3
   },
   "file_extension": ".py",
   "mimetype": "text/x-python",
   "name": "python",
   "nbconvert_exporter": "python",
   "pygments_lexer": "ipython3",
   "version": "3.12.4"
  },
  "toc": {
   "base_numbering": 1,
   "nav_menu": {},
   "number_sections": true,
   "sideBar": true,
   "skip_h1_title": true,
   "title_cell": "Table of Contents",
   "title_sidebar": "Contents",
   "toc_cell": false,
   "toc_position": {
    "height": "calc(100% - 180px)",
    "left": "10px",
    "top": "150px",
    "width": "171.832px"
   },
   "toc_section_display": true,
   "toc_window_display": true
  }
 },
 "nbformat": 4,
 "nbformat_minor": 4
}
