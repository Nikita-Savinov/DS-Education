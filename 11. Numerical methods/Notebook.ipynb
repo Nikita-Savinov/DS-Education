{
 "cells": [
  {
   "cell_type": "markdown",
   "metadata": {},
   "source": [
    "# Определение стоимости автомобилей"
   ]
  },
  {
   "cell_type": "markdown",
   "metadata": {},
   "source": [
    "Сервис по продаже автомобилей с пробегом «Не бит, не крашен» разрабатывает приложение для привлечения новых клиентов. В нём можно быстро узнать рыночную стоимость своего автомобиля. В вашем распоряжении исторические данные: технические характеристики, комплектации и цены автомобилей. Вам нужно построить модель для определения стоимости. \n",
    "\n",
    "Заказчику важны:\n",
    "\n",
    "- качество предсказания;\n",
    "- скорость предсказания;\n",
    "- время обучения."
   ]
  },
  {
   "cell_type": "code",
   "execution_count": 1,
   "metadata": {},
   "outputs": [
    {
     "data": {
      "text/html": [
       "<style>.container { width:90% !important; }</style>"
      ],
      "text/plain": [
       "<IPython.core.display.HTML object>"
      ]
     },
     "metadata": {},
     "output_type": "display_data"
    }
   ],
   "source": [
    "from IPython.core.display import display, HTML\n",
    "display(HTML(\"<style>.container { width:90% !important; }</style>\"))"
   ]
  },
  {
   "cell_type": "markdown",
   "metadata": {},
   "source": [
    "# Импорт необходимых библиотек"
   ]
  },
  {
   "cell_type": "code",
   "execution_count": 2,
   "metadata": {},
   "outputs": [],
   "source": [
    "!pip install phik -q\n",
    "!pip install -Uq scikit-learn"
   ]
  },
  {
   "cell_type": "code",
   "execution_count": 3,
   "metadata": {},
   "outputs": [],
   "source": [
    "import pandas as pd\n",
    "from sklearn.pipeline import Pipeline\n",
    "from sklearn.impute import SimpleImputer\n",
    "from sklearn.compose import ColumnTransformer\n",
    "import matplotlib.pyplot as plt\n",
    "import numpy as np \n",
    "import seaborn as sns\n",
    "import phik\n",
    "from statsmodels.stats.outliers_influence import variance_inflation_factor\n",
    "from statsmodels.tools.tools import add_constant\n",
    "from sklearn.model_selection import train_test_split\n",
    "from sklearn.preprocessing import OneHotEncoder, StandardScaler, OrdinalEncoder\n",
    "from lightgbm import LGBMRegressor\n",
    "from sklearn.metrics import mean_squared_error, make_scorer\n",
    "from sklearn.linear_model import LinearRegression, LogisticRegression\n",
    "from sklearn.tree import DecisionTreeRegressor\n",
    "from sklearn.ensemble import RandomForestRegressor\n",
    "from sklearn.model_selection import GridSearchCV"
   ]
  },
  {
   "cell_type": "markdown",
   "metadata": {},
   "source": [
    "## Подготовка данных"
   ]
  },
  {
   "cell_type": "code",
   "execution_count": 4,
   "metadata": {},
   "outputs": [
    {
     "name": "stdout",
     "output_type": "stream",
     "text": [
      "<class 'pandas.core.frame.DataFrame'>\n",
      "RangeIndex: 354369 entries, 0 to 354368\n",
      "Data columns (total 16 columns):\n",
      " #   Column             Non-Null Count   Dtype \n",
      "---  ------             --------------   ----- \n",
      " 0   DateCrawled        354369 non-null  object\n",
      " 1   Price              354369 non-null  int64 \n",
      " 2   VehicleType        316879 non-null  object\n",
      " 3   RegistrationYear   354369 non-null  int64 \n",
      " 4   Gearbox            334536 non-null  object\n",
      " 5   Power              354369 non-null  int64 \n",
      " 6   Model              334664 non-null  object\n",
      " 7   Kilometer          354369 non-null  int64 \n",
      " 8   RegistrationMonth  354369 non-null  int64 \n",
      " 9   FuelType           321474 non-null  object\n",
      " 10  Brand              354369 non-null  object\n",
      " 11  Repaired           283215 non-null  object\n",
      " 12  DateCreated        354369 non-null  object\n",
      " 13  NumberOfPictures   354369 non-null  int64 \n",
      " 14  PostalCode         354369 non-null  int64 \n",
      " 15  LastSeen           354369 non-null  object\n",
      "dtypes: int64(7), object(9)\n",
      "memory usage: 43.3+ MB\n",
      "None\n"
     ]
    },
    {
     "data": {
      "text/html": [
       "<div>\n",
       "<style scoped>\n",
       "    .dataframe tbody tr th:only-of-type {\n",
       "        vertical-align: middle;\n",
       "    }\n",
       "\n",
       "    .dataframe tbody tr th {\n",
       "        vertical-align: top;\n",
       "    }\n",
       "\n",
       "    .dataframe thead th {\n",
       "        text-align: right;\n",
       "    }\n",
       "</style>\n",
       "<table border=\"1\" class=\"dataframe\">\n",
       "  <thead>\n",
       "    <tr style=\"text-align: right;\">\n",
       "      <th></th>\n",
       "      <th>DateCrawled</th>\n",
       "      <th>Price</th>\n",
       "      <th>VehicleType</th>\n",
       "      <th>RegistrationYear</th>\n",
       "      <th>Gearbox</th>\n",
       "      <th>Power</th>\n",
       "      <th>Model</th>\n",
       "      <th>Kilometer</th>\n",
       "      <th>RegistrationMonth</th>\n",
       "      <th>FuelType</th>\n",
       "      <th>Brand</th>\n",
       "      <th>Repaired</th>\n",
       "      <th>DateCreated</th>\n",
       "      <th>NumberOfPictures</th>\n",
       "      <th>PostalCode</th>\n",
       "      <th>LastSeen</th>\n",
       "    </tr>\n",
       "  </thead>\n",
       "  <tbody>\n",
       "    <tr>\n",
       "      <th>328275</th>\n",
       "      <td>2016-04-03 21:48:25</td>\n",
       "      <td>6800</td>\n",
       "      <td>convertible</td>\n",
       "      <td>1998</td>\n",
       "      <td>manual</td>\n",
       "      <td>136</td>\n",
       "      <td>slk</td>\n",
       "      <td>150000</td>\n",
       "      <td>0</td>\n",
       "      <td>NaN</td>\n",
       "      <td>mercedes_benz</td>\n",
       "      <td>no</td>\n",
       "      <td>2016-04-03 00:00:00</td>\n",
       "      <td>0</td>\n",
       "      <td>86529</td>\n",
       "      <td>2016-04-03 21:48:25</td>\n",
       "    </tr>\n",
       "    <tr>\n",
       "      <th>319057</th>\n",
       "      <td>2016-03-25 18:57:59</td>\n",
       "      <td>1699</td>\n",
       "      <td>convertible</td>\n",
       "      <td>1994</td>\n",
       "      <td>manual</td>\n",
       "      <td>75</td>\n",
       "      <td>golf</td>\n",
       "      <td>150000</td>\n",
       "      <td>7</td>\n",
       "      <td>petrol</td>\n",
       "      <td>volkswagen</td>\n",
       "      <td>no</td>\n",
       "      <td>2016-03-25 00:00:00</td>\n",
       "      <td>0</td>\n",
       "      <td>38259</td>\n",
       "      <td>2016-04-07 01:44:22</td>\n",
       "    </tr>\n",
       "    <tr>\n",
       "      <th>288324</th>\n",
       "      <td>2016-03-11 22:06:17</td>\n",
       "      <td>4700</td>\n",
       "      <td>wagon</td>\n",
       "      <td>2005</td>\n",
       "      <td>manual</td>\n",
       "      <td>150</td>\n",
       "      <td>3er</td>\n",
       "      <td>150000</td>\n",
       "      <td>6</td>\n",
       "      <td>gasoline</td>\n",
       "      <td>bmw</td>\n",
       "      <td>no</td>\n",
       "      <td>2016-03-11 00:00:00</td>\n",
       "      <td>0</td>\n",
       "      <td>60329</td>\n",
       "      <td>2016-03-22 21:18:31</td>\n",
       "    </tr>\n",
       "    <tr>\n",
       "      <th>37118</th>\n",
       "      <td>2016-03-30 18:44:46</td>\n",
       "      <td>3500</td>\n",
       "      <td>coupe</td>\n",
       "      <td>1992</td>\n",
       "      <td>manual</td>\n",
       "      <td>190</td>\n",
       "      <td>other</td>\n",
       "      <td>150000</td>\n",
       "      <td>3</td>\n",
       "      <td>petrol</td>\n",
       "      <td>volkswagen</td>\n",
       "      <td>no</td>\n",
       "      <td>2016-03-30 00:00:00</td>\n",
       "      <td>0</td>\n",
       "      <td>96191</td>\n",
       "      <td>2016-04-07 09:45:18</td>\n",
       "    </tr>\n",
       "    <tr>\n",
       "      <th>49713</th>\n",
       "      <td>2016-03-20 05:03:00</td>\n",
       "      <td>950</td>\n",
       "      <td>small</td>\n",
       "      <td>2001</td>\n",
       "      <td>manual</td>\n",
       "      <td>54</td>\n",
       "      <td>seicento</td>\n",
       "      <td>150000</td>\n",
       "      <td>10</td>\n",
       "      <td>NaN</td>\n",
       "      <td>fiat</td>\n",
       "      <td>no</td>\n",
       "      <td>2016-03-20 00:00:00</td>\n",
       "      <td>0</td>\n",
       "      <td>28779</td>\n",
       "      <td>2016-04-06 02:46:52</td>\n",
       "    </tr>\n",
       "  </tbody>\n",
       "</table>\n",
       "</div>"
      ],
      "text/plain": [
       "                DateCrawled  Price  VehicleType  RegistrationYear Gearbox  \\\n",
       "328275  2016-04-03 21:48:25   6800  convertible              1998  manual   \n",
       "319057  2016-03-25 18:57:59   1699  convertible              1994  manual   \n",
       "288324  2016-03-11 22:06:17   4700        wagon              2005  manual   \n",
       "37118   2016-03-30 18:44:46   3500        coupe              1992  manual   \n",
       "49713   2016-03-20 05:03:00    950        small              2001  manual   \n",
       "\n",
       "        Power     Model  Kilometer  RegistrationMonth  FuelType  \\\n",
       "328275    136       slk     150000                  0       NaN   \n",
       "319057     75      golf     150000                  7    petrol   \n",
       "288324    150       3er     150000                  6  gasoline   \n",
       "37118     190     other     150000                  3    petrol   \n",
       "49713      54  seicento     150000                 10       NaN   \n",
       "\n",
       "                Brand Repaired          DateCreated  NumberOfPictures  \\\n",
       "328275  mercedes_benz       no  2016-04-03 00:00:00                 0   \n",
       "319057     volkswagen       no  2016-03-25 00:00:00                 0   \n",
       "288324            bmw       no  2016-03-11 00:00:00                 0   \n",
       "37118      volkswagen       no  2016-03-30 00:00:00                 0   \n",
       "49713            fiat       no  2016-03-20 00:00:00                 0   \n",
       "\n",
       "        PostalCode             LastSeen  \n",
       "328275       86529  2016-04-03 21:48:25  \n",
       "319057       38259  2016-04-07 01:44:22  \n",
       "288324       60329  2016-03-22 21:18:31  \n",
       "37118        96191  2016-04-07 09:45:18  \n",
       "49713        28779  2016-04-06 02:46:52  "
      ]
     },
     "metadata": {},
     "output_type": "display_data"
    }
   ],
   "source": [
    "data = pd.read_csv('/datasets/autos.csv')\n",
    "\n",
    "print(data.info())\n",
    "display(data.sample(5))"
   ]
  },
  {
   "cell_type": "markdown",
   "metadata": {},
   "source": [
    "<div style=\"border:solid Chocolate 2px; padding: 40px\">\n",
    "    \n",
    "<font color = 'blue' size = 5> Для перехода к следующему пункту необходимо будет выполнить следующее: </font> \n",
    "\n",
    "0. Устранить явные и неявные дубликаты\n",
    "1. Оценить пропуски, где необходимо заполнить их определенным значением или удалить. Типы данных соответствуют фичам, кроме дат, но от них избавимся на дальнейших этапах, т.к. они не несут в себе никакой информативной ценности (пункт 1.3). \n",
    "2. Произвести оценку количественных переменных, при наличии аномалий избавиться от них.\n",
    "3. Произвести оценку качественных переменных. \n",
    "4. Провести корреляционный анализ"
   ]
  },
  {
   "cell_type": "markdown",
   "metadata": {},
   "source": [
    "### Удаление дубликатов\n",
    "\n",
    "Проверим на явные дубликаты"
   ]
  },
  {
   "cell_type": "code",
   "execution_count": 5,
   "metadata": {
    "scrolled": true
   },
   "outputs": [
    {
     "name": "stdout",
     "output_type": "stream",
     "text": [
      "Количество явных дубликатов: 4\n"
     ]
    }
   ],
   "source": [
    "print(f'Количество явных дубликатов: {data.duplicated().sum()}')"
   ]
  },
  {
   "cell_type": "code",
   "execution_count": 6,
   "metadata": {},
   "outputs": [],
   "source": [
    "data = data.drop_duplicates().reset_index(drop = True)"
   ]
  },
  {
   "cell_type": "code",
   "execution_count": 7,
   "metadata": {},
   "outputs": [
    {
     "name": "stdout",
     "output_type": "stream",
     "text": [
      "['bus', 'convertible', 'coupe', 'other', 'sedan', 'small', 'suv', 'wagon', nan]\n",
      "['auto', 'manual', nan]\n",
      "['cng', 'electric', 'gasoline', 'hybrid', 'lpg', 'other', 'petrol', nan]\n",
      "['alfa_romeo', 'audi', 'bmw', 'chevrolet', 'chrysler', 'citroen', 'dacia', 'daewoo', 'daihatsu', 'fiat', 'ford', 'honda', 'hyundai', 'jaguar', 'jeep', 'kia', 'lada', 'lancia', 'land_rover', 'mazda', 'mercedes_benz', 'mini', 'mitsubishi', 'nissan', 'opel', 'peugeot', 'porsche', 'renault', 'rover', 'saab', 'seat', 'skoda', 'smart', 'sonstige_autos', 'subaru', 'suzuki', 'toyota', 'trabant', 'volkswagen', 'volvo']\n",
      "['no', 'yes', nan]\n"
     ]
    }
   ],
   "source": [
    "for i in ['VehicleType', 'Gearbox', 'FuelType', 'Brand', 'Repaired']: \n",
    "    print(list(data[i].sort_values().unique()))"
   ]
  },
  {
   "cell_type": "markdown",
   "metadata": {},
   "source": [
    "<div style=\"border:solid Chocolate 2px; padding: 40px\">\n",
    "    \n",
    "<font color = 'green'  size = 5> Результаты очистки от дубликатов </font>\n",
    "    \n",
    "- было обнаруженно 4 явных дубликата - устранены\n",
    "- неявных дубликатов не обнаруженно "
   ]
  },
  {
   "cell_type": "markdown",
   "metadata": {},
   "source": [
    "### Оценка пропусков"
   ]
  },
  {
   "cell_type": "code",
   "execution_count": 8,
   "metadata": {
    "scrolled": true
   },
   "outputs": [
    {
     "data": {
      "text/plain": [
       "DateCrawled              0\n",
       "Price                    0\n",
       "VehicleType          37490\n",
       "RegistrationYear         0\n",
       "Gearbox              19833\n",
       "Power                    0\n",
       "Model                19705\n",
       "Kilometer                0\n",
       "RegistrationMonth        0\n",
       "FuelType             32895\n",
       "Brand                    0\n",
       "Repaired             71154\n",
       "DateCreated              0\n",
       "NumberOfPictures         0\n",
       "PostalCode               0\n",
       "LastSeen                 0\n",
       "dtype: int64"
      ]
     },
     "execution_count": 8,
     "metadata": {},
     "output_type": "execute_result"
    }
   ],
   "source": [
    "data.isna().sum()"
   ]
  },
  {
   "cell_type": "markdown",
   "metadata": {},
   "source": [
    "<div style=\"border:solid Chocolate 2px; padding: 40px\">\n",
    "Пропуски обнаружены в следующих фичах: \n",
    "- VehicleType - тип автомобильного кузова\n",
    "- Gearbox - тип коробки передач\n",
    "- Model - модель автомобиля\n",
    "- FuelType - тип топлива\n",
    "- Repaired - была машина в ремонте или нет\n",
    "\n",
    "<font color = 'red' size = 4>\n",
    "    Выводы: </font>\n",
    "    \n",
    "1. все пропуски значений относятся к категориальным переменным    \n",
    "2. Заполнить параметр МОДЕЛЬ АВТО каким то значением невозможно (медианой, константой..) избавимся от пропущенных значений.(удалим в последнем пункте, в удалении дубликатов, для того чтобы провести полний исследовательский анализ) (присвоим константу,заодно проверим какую долю составляют пропущенные значения)\n",
    "3. Остальные все значения поставим заглушку в виде определенного значения 'Unknown' (используем pipeline) (невозможно поставить самое частое значение, т.к. скорее всего это внесет неправильную картину мира. Например, если форду как производителю мы присвоим самое частое значение модели авто Гольф. получится форд гольф, что заведомо ложно) "
   ]
  },
  {
   "cell_type": "code",
   "execution_count": 9,
   "metadata": {
    "scrolled": true
   },
   "outputs": [
    {
     "data": {
      "text/plain": [
       "DateCrawled          0\n",
       "Price                0\n",
       "VehicleType          0\n",
       "RegistrationYear     0\n",
       "Gearbox              0\n",
       "Power                0\n",
       "Model                0\n",
       "Kilometer            0\n",
       "RegistrationMonth    0\n",
       "FuelType             0\n",
       "Brand                0\n",
       "Repaired             0\n",
       "DateCreated          0\n",
       "NumberOfPictures     0\n",
       "PostalCode           0\n",
       "LastSeen             0\n",
       "dtype: int64"
      ]
     },
     "execution_count": 9,
     "metadata": {},
     "output_type": "execute_result"
    }
   ],
   "source": [
    "def preprocessor_absence (df, features):\n",
    "    transformer = Pipeline (steps = \n",
    "                               [\n",
    "                                   ('imputer', SimpleImputer(strategy = 'constant', fill_value = 'Unknown'))\n",
    "                               ]\n",
    "                           )\n",
    "    preprocessor = ColumnTransformer (transformers = \n",
    "                                         [\n",
    "                                             ('cat', transformer, features)\n",
    "                                         ]\n",
    "                                     )\n",
    "    df[features] = preprocessor.fit_transform(df)\n",
    "    \n",
    "    return df\n",
    "\n",
    "absence_features = data.select_dtypes(exclude = 'number').columns\n",
    "\n",
    "preprocessor_absence(data, absence_features)\n",
    "\n",
    "#выполнили заполнение пропусков, далее убедимся что пропусков нет \n",
    "\n",
    "data.isna().sum()"
   ]
  },
  {
   "cell_type": "markdown",
   "metadata": {},
   "source": [
    "### Оценка количественных переменных "
   ]
  },
  {
   "cell_type": "markdown",
   "metadata": {},
   "source": [
    "*Напишем функцию для оценки количественных переменных* "
   ]
  },
  {
   "cell_type": "code",
   "execution_count": 10,
   "metadata": {},
   "outputs": [
    {
     "data": {
      "image/png": "[encoded data removed]",
      "text/plain": [
       "<Figure size 648x720 with 2 Axes>"
      ]
     },
     "metadata": {
      "needs_background": "light"
     },
     "output_type": "display_data"
    },
    {
     "data": {
      "image/png": "[encoded data removed]",
      "text/plain": [
       "<Figure size 648x720 with 2 Axes>"
      ]
     },
     "metadata": {
      "needs_background": "light"
     },
     "output_type": "display_data"
    },
    {
     "data": {
      "image/png": "[encoded data removed]",
      "text/plain": [
       "<Figure size 648x720 with 2 Axes>"
      ]
     },
     "metadata": {
      "needs_background": "light"
     },
     "output_type": "display_data"
    },
    {
     "data": {
      "image/png": "[encoded data removed]",
      "text/plain": [
       "<Figure size 648x720 with 2 Axes>"
      ]
     },
     "metadata": {
      "needs_background": "light"
     },
     "output_type": "display_data"
    },
    {
     "data": {
      "image/png": "[encoded data removed]",
      "text/plain": [
       "<Figure size 648x720 with 2 Axes>"
      ]
     },
     "metadata": {
      "needs_background": "light"
     },
     "output_type": "display_data"
    },
    {
     "data": {
      "image/png": "[encoded data removed]",
      "text/plain": [
       "<Figure size 648x720 with 2 Axes>"
      ]
     },
     "metadata": {
      "needs_background": "light"
     },
     "output_type": "display_data"
    },
    {
     "data": {
      "image/png": "[encoded data removed]",
      "text/plain": [
       "<Figure size 648x720 with 2 Axes>"
      ]
     },
     "metadata": {
      "needs_background": "light"
     },
     "output_type": "display_data"
    }
   ],
   "source": [
    "def num_discover(data):\n",
    "    number_features = data.select_dtypes(include = 'number').columns\n",
    "    for i in number_features: \n",
    "        fig, axes = plt.subplots(2, 1, figsize= (9, 10))\n",
    "\n",
    "        axes[0].hist(data[i], bins=30)  \n",
    "        axes[0].set_title(f'Гистограмма распределение {i}')\n",
    "        axes[0].set_ylabel('Частота встречаемости')\n",
    "        axes[0].set_xlabel(f'Показатель {i}')\n",
    "\n",
    "        axes[1].boxplot(data[i], vert=False) \n",
    "        axes[1].set_title(f'Диаграмма размаха {i}')\n",
    "        axes[1].set_ylabel('Диаграмма размаха')\n",
    "        axes[1].set_xlabel(f'Показатель {i}')\n",
    "\n",
    "        plt.tight_layout()\n",
    "        plt.show()\n",
    "        \n",
    "num_discover(data) "
   ]
  },
  {
   "cell_type": "markdown",
   "metadata": {},
   "source": [
    "<font color = 'red' size = 4> Итоги предварительного исследовательского анализа количественных переменных: </font>\n",
    "\n",
    "1. Необходимо изучить цену на авто у которых около 0 (возьмем порог 500 евро и изучим его), а так же рассмотрим > 14000\n",
    "2. год регистрации автомобиля изучить аномалии в годах > 2024 и меньше условного 1980\n",
    "3. мощность у автомобилей не будет < 50 or > 400 лошадиных сил\n",
    "4. Количество фотографий - необходимо удалить как признак \n",
    "5. почтовый индекс владельца анкеты - необходимо удалить как признак "
   ]
  },
  {
   "cell_type": "code",
   "execution_count": 11,
   "metadata": {},
   "outputs": [
    {
     "name": "stdout",
     "output_type": "stream",
     "text": [
      "Количество авто зарегистрированных после 2016 года =  14530\n",
      "Количество авто зарегистрированных до 1980 года =  3452\n",
      "\n",
      "Количество авто > 400 л.с. =  739\n",
      "Количество авто < 10 л.с. =   40445\n",
      "Количество авто < 30 л.с. =   41133\n",
      "Количество авто < 50 л.с. =   46172\n"
     ]
    },
    {
     "data": {
      "image/png": "[encoded data removed]",
      "text/plain": [
       "<Figure size 432x288 with 1 Axes>"
      ]
     },
     "metadata": {
      "needs_background": "light"
     },
     "output_type": "display_data"
    },
    {
     "name": "stdout",
     "output_type": "stream",
     "text": [
      "Данные по машинам < 30 л.с. скорее всего были занесены ошибочно (после проверки они все около нулевые, избавимся от них)\n",
      "\n",
      "Избавимся от этих данных\n"
     ]
    }
   ],
   "source": [
    "#Устранение аномалий в годе регистрации автомобиля\n",
    "\n",
    "print(f'Количество авто зарегистрированных после 2016 года = ', len(data[(data['RegistrationYear'] > 2016)]), sep = ' ')\n",
    "print(f'Количество авто зарегистрированных до 1980 года = ', len(data[(data['RegistrationYear'] < 1980)]), sep = ' ')\n",
    "print(f'')\n",
    "print(f'Количество авто > 400 л.с. = ', len(data[(data['Power'] > 400)]), sep = ' ')\n",
    "print(f'Количество авто < 10 л.с. =  ', len(data[(data['Power'] < 10)]), sep = ' ')\n",
    "print(f'Количество авто < 30 л.с. =  ', len(data[(data['Power'] < 30)]), sep = ' ')\n",
    "print(f'Количество авто < 50 л.с. =  ', len(data[(data['Power'] < 50)]), sep = ' ')\n",
    "data[(data['Power'] < 30)]['Power'].hist()\n",
    "plt.title('Распределение л.с. машин с < 30 л.с.')\n",
    "plt.ylabel('Частота встречаемости')\n",
    "plt.xlabel('Лошадиные силы')\n",
    "plt.show()\n",
    "print(f'Данные по машинам < 30 л.с. скорее всего были занесены ошибочно (после проверки они все около нулевые, избавимся от них)')\n",
    "print(f'')\n",
    "print(f'Избавимся от этих данных')\n",
    "\n",
    "data = data.drop(data[(data['RegistrationYear'] > 2016) | (data['RegistrationYear'] < 1980) | \n",
    "                      (data['Power'] > 400) | (data['Power'] < 30)].index).reset_index(drop = True)\n"
   ]
  },
  {
   "cell_type": "markdown",
   "metadata": {},
   "source": [
    "**Изучим распределение Года регистрации автоммобиля и кол-ва лошадиных сил** "
   ]
  },
  {
   "cell_type": "markdown",
   "metadata": {},
   "source": [
    "**Изучим распределение цены**"
   ]
  },
  {
   "cell_type": "code",
   "execution_count": 12,
   "metadata": {},
   "outputs": [
    {
     "data": {
      "image/png": "[encoded data removed]",
      "text/plain": [
       "<Figure size 432x288 with 1 Axes>"
      ]
     },
     "metadata": {
      "needs_background": "light"
     },
     "output_type": "display_data"
    },
    {
     "data": {
      "text/html": [
       "<div>\n",
       "<style scoped>\n",
       "    .dataframe tbody tr th:only-of-type {\n",
       "        vertical-align: middle;\n",
       "    }\n",
       "\n",
       "    .dataframe tbody tr th {\n",
       "        vertical-align: top;\n",
       "    }\n",
       "\n",
       "    .dataframe thead th {\n",
       "        text-align: right;\n",
       "    }\n",
       "</style>\n",
       "<table border=\"1\" class=\"dataframe\">\n",
       "  <thead>\n",
       "    <tr style=\"text-align: right;\">\n",
       "      <th></th>\n",
       "      <th>DateCrawled</th>\n",
       "      <th>Price</th>\n",
       "      <th>VehicleType</th>\n",
       "      <th>RegistrationYear</th>\n",
       "      <th>Gearbox</th>\n",
       "      <th>Power</th>\n",
       "      <th>Model</th>\n",
       "      <th>Kilometer</th>\n",
       "      <th>RegistrationMonth</th>\n",
       "      <th>FuelType</th>\n",
       "      <th>Brand</th>\n",
       "      <th>Repaired</th>\n",
       "      <th>DateCreated</th>\n",
       "      <th>NumberOfPictures</th>\n",
       "      <th>PostalCode</th>\n",
       "      <th>LastSeen</th>\n",
       "    </tr>\n",
       "  </thead>\n",
       "  <tbody>\n",
       "    <tr>\n",
       "      <th>12320</th>\n",
       "      <td>2016-03-30 14:47:09</td>\n",
       "      <td>15600</td>\n",
       "      <td>wagon</td>\n",
       "      <td>2010</td>\n",
       "      <td>auto</td>\n",
       "      <td>184</td>\n",
       "      <td>3er</td>\n",
       "      <td>150000</td>\n",
       "      <td>10</td>\n",
       "      <td>gasoline</td>\n",
       "      <td>bmw</td>\n",
       "      <td>Unknown</td>\n",
       "      <td>2016-03-30 00:00:00</td>\n",
       "      <td>0</td>\n",
       "      <td>84130</td>\n",
       "      <td>2016-03-30 14:47:09</td>\n",
       "    </tr>\n",
       "    <tr>\n",
       "      <th>162229</th>\n",
       "      <td>2016-03-20 19:56:39</td>\n",
       "      <td>15550</td>\n",
       "      <td>convertible</td>\n",
       "      <td>2007</td>\n",
       "      <td>manual</td>\n",
       "      <td>200</td>\n",
       "      <td>a4</td>\n",
       "      <td>80000</td>\n",
       "      <td>11</td>\n",
       "      <td>petrol</td>\n",
       "      <td>audi</td>\n",
       "      <td>no</td>\n",
       "      <td>2016-03-20 00:00:00</td>\n",
       "      <td>0</td>\n",
       "      <td>74523</td>\n",
       "      <td>2016-04-07 04:17:39</td>\n",
       "    </tr>\n",
       "    <tr>\n",
       "      <th>26446</th>\n",
       "      <td>2016-03-10 19:52:34</td>\n",
       "      <td>19500</td>\n",
       "      <td>sedan</td>\n",
       "      <td>1990</td>\n",
       "      <td>manual</td>\n",
       "      <td>160</td>\n",
       "      <td>golf</td>\n",
       "      <td>125000</td>\n",
       "      <td>8</td>\n",
       "      <td>petrol</td>\n",
       "      <td>volkswagen</td>\n",
       "      <td>no</td>\n",
       "      <td>2016-03-10 00:00:00</td>\n",
       "      <td>0</td>\n",
       "      <td>38442</td>\n",
       "      <td>2016-03-12 11:18:03</td>\n",
       "    </tr>\n",
       "    <tr>\n",
       "      <th>188090</th>\n",
       "      <td>2016-03-06 14:52:36</td>\n",
       "      <td>15900</td>\n",
       "      <td>wagon</td>\n",
       "      <td>2008</td>\n",
       "      <td>manual</td>\n",
       "      <td>211</td>\n",
       "      <td>a4</td>\n",
       "      <td>90000</td>\n",
       "      <td>7</td>\n",
       "      <td>petrol</td>\n",
       "      <td>audi</td>\n",
       "      <td>no</td>\n",
       "      <td>2016-03-06 00:00:00</td>\n",
       "      <td>0</td>\n",
       "      <td>87527</td>\n",
       "      <td>2016-03-17 11:47:29</td>\n",
       "    </tr>\n",
       "    <tr>\n",
       "      <th>107765</th>\n",
       "      <td>2016-03-10 11:36:55</td>\n",
       "      <td>18950</td>\n",
       "      <td>suv</td>\n",
       "      <td>2014</td>\n",
       "      <td>manual</td>\n",
       "      <td>163</td>\n",
       "      <td>antara</td>\n",
       "      <td>70000</td>\n",
       "      <td>3</td>\n",
       "      <td>gasoline</td>\n",
       "      <td>opel</td>\n",
       "      <td>no</td>\n",
       "      <td>2016-03-10 00:00:00</td>\n",
       "      <td>0</td>\n",
       "      <td>14656</td>\n",
       "      <td>2016-04-07 00:16:02</td>\n",
       "    </tr>\n",
       "    <tr>\n",
       "      <th>8081</th>\n",
       "      <td>2016-04-01 21:47:22</td>\n",
       "      <td>17000</td>\n",
       "      <td>bus</td>\n",
       "      <td>1999</td>\n",
       "      <td>manual</td>\n",
       "      <td>102</td>\n",
       "      <td>Unknown</td>\n",
       "      <td>150000</td>\n",
       "      <td>11</td>\n",
       "      <td>gasoline</td>\n",
       "      <td>volkswagen</td>\n",
       "      <td>no</td>\n",
       "      <td>2016-04-01 00:00:00</td>\n",
       "      <td>0</td>\n",
       "      <td>32312</td>\n",
       "      <td>2016-04-03 19:16:01</td>\n",
       "    </tr>\n",
       "    <tr>\n",
       "      <th>82166</th>\n",
       "      <td>2016-03-07 01:42:31</td>\n",
       "      <td>18500</td>\n",
       "      <td>sedan</td>\n",
       "      <td>2007</td>\n",
       "      <td>auto</td>\n",
       "      <td>280</td>\n",
       "      <td>q7</td>\n",
       "      <td>125000</td>\n",
       "      <td>10</td>\n",
       "      <td>petrol</td>\n",
       "      <td>audi</td>\n",
       "      <td>no</td>\n",
       "      <td>2016-03-06 00:00:00</td>\n",
       "      <td>0</td>\n",
       "      <td>83666</td>\n",
       "      <td>2016-04-05 15:17:47</td>\n",
       "    </tr>\n",
       "  </tbody>\n",
       "</table>\n",
       "</div>"
      ],
      "text/plain": [
       "                DateCrawled  Price  VehicleType  RegistrationYear Gearbox  \\\n",
       "12320   2016-03-30 14:47:09  15600        wagon              2010    auto   \n",
       "162229  2016-03-20 19:56:39  15550  convertible              2007  manual   \n",
       "26446   2016-03-10 19:52:34  19500        sedan              1990  manual   \n",
       "188090  2016-03-06 14:52:36  15900        wagon              2008  manual   \n",
       "107765  2016-03-10 11:36:55  18950          suv              2014  manual   \n",
       "8081    2016-04-01 21:47:22  17000          bus              1999  manual   \n",
       "82166   2016-03-07 01:42:31  18500        sedan              2007    auto   \n",
       "\n",
       "        Power    Model  Kilometer  RegistrationMonth  FuelType       Brand  \\\n",
       "12320     184      3er     150000                 10  gasoline         bmw   \n",
       "162229    200       a4      80000                 11    petrol        audi   \n",
       "26446     160     golf     125000                  8    petrol  volkswagen   \n",
       "188090    211       a4      90000                  7    petrol        audi   \n",
       "107765    163   antara      70000                  3  gasoline        opel   \n",
       "8081      102  Unknown     150000                 11  gasoline  volkswagen   \n",
       "82166     280       q7     125000                 10    petrol        audi   \n",
       "\n",
       "       Repaired          DateCreated  NumberOfPictures  PostalCode  \\\n",
       "12320   Unknown  2016-03-30 00:00:00                 0       84130   \n",
       "162229       no  2016-03-20 00:00:00                 0       74523   \n",
       "26446        no  2016-03-10 00:00:00                 0       38442   \n",
       "188090       no  2016-03-06 00:00:00                 0       87527   \n",
       "107765       no  2016-03-10 00:00:00                 0       14656   \n",
       "8081         no  2016-04-01 00:00:00                 0       32312   \n",
       "82166        no  2016-03-06 00:00:00                 0       83666   \n",
       "\n",
       "                   LastSeen  \n",
       "12320   2016-03-30 14:47:09  \n",
       "162229  2016-04-07 04:17:39  \n",
       "26446   2016-03-12 11:18:03  \n",
       "188090  2016-03-17 11:47:29  \n",
       "107765  2016-04-07 00:16:02  \n",
       "8081    2016-04-03 19:16:01  \n",
       "82166   2016-04-05 15:17:47  "
      ]
     },
     "metadata": {},
     "output_type": "display_data"
    },
    {
     "name": "stdout",
     "output_type": "stream",
     "text": [
      "Удалим все цены меньше 100 евро, выбросы сверху имеют право на существование, т.к. на превышают 4 квантиль в несколько раз\n"
     ]
    }
   ],
   "source": [
    "data[(data['Price'] < 500)]['Price'].hist()\n",
    "plt.title('Цена меньше 500 евро')\n",
    "plt.ylabel('Частота встречаемости')\n",
    "plt.xlabel('Цена')\n",
    "plt.show()\n",
    "\n",
    "display(data[(data['Price'] > 15000)].sample(7))\n",
    "print(f'Удалим все цены меньше 100 евро, выбросы сверху имеют право на существование, т.к. на превышают 4 квантиль в несколько раз')\n",
    "\n",
    "data = data.drop(data[(data['Price'] < 100)].index).reset_index(drop = True)"
   ]
  },
  {
   "cell_type": "code",
   "execution_count": 13,
   "metadata": {
    "scrolled": true
   },
   "outputs": [],
   "source": [
    "#Удаление признака \"Кол-во фотографий\" и \"почтовый индекс\"\n",
    "data = data.drop(columns = ['PostalCode', 'NumberOfPictures'])"
   ]
  },
  {
   "cell_type": "code",
   "execution_count": 14,
   "metadata": {},
   "outputs": [
    {
     "data": {
      "image/png": "[encoded data removed]",
      "text/plain": [
       "<Figure size 648x720 with 2 Axes>"
      ]
     },
     "metadata": {
      "needs_background": "light"
     },
     "output_type": "display_data"
    },
    {
     "data": {
      "image/png": "[encoded data removed]",
      "text/plain": [
       "<Figure size 648x720 with 2 Axes>"
      ]
     },
     "metadata": {
      "needs_background": "light"
     },
     "output_type": "display_data"
    },
    {
     "data": {
      "image/png": "[encoded data removed]",
      "text/plain": [
       "<Figure size 648x720 with 2 Axes>"
      ]
     },
     "metadata": {
      "needs_background": "light"
     },
     "output_type": "display_data"
    },
    {
     "data": {
      "image/png": "[encoded data removed]",
      "text/plain": [
       "<Figure size 648x720 with 2 Axes>"
      ]
     },
     "metadata": {
      "needs_background": "light"
     },
     "output_type": "display_data"
    },
    {
     "data": {
      "image/png": "[encoded data removed]",
      "text/plain": [
       "<Figure size 648x720 with 2 Axes>"
      ]
     },
     "metadata": {
      "needs_background": "light"
     },
     "output_type": "display_data"
    }
   ],
   "source": [
    "# повторный вызов функции для исследовательского анализа количественных переменных\n",
    "num_discover(data) "
   ]
  },
  {
   "cell_type": "markdown",
   "metadata": {},
   "source": [
    "<div style=\"border:solid Chocolate 2px; padding: 40px\">\n",
    "    \n",
    "<font color = 'green'  size = 5> Результаты проведения исследовательского анализа количественных переменных </font>\n",
    "    \n",
    "- Удалены такие фичи как количество фотографий и посткод пользователя\n",
    "- Очищены следующие параметры от аномалий и выбросов \"Кол-во Лошадиных Сил\", \"Год регистрации\", \"цена\""
   ]
  },
  {
   "cell_type": "markdown",
   "metadata": {},
   "source": [
    "### Оценка качественных переменных"
   ]
  },
  {
   "cell_type": "markdown",
   "metadata": {},
   "source": [
    "<font size = 5> Избавимся от следующих фичей, т.к. это информационной пользы они не несут : DateCrawled, DateCreated, LastSeen"
   ]
  },
  {
   "cell_type": "code",
   "execution_count": 15,
   "metadata": {},
   "outputs": [],
   "source": [
    "data = data.drop(columns = ['DateCrawled', 'DateCreated', 'LastSeen'])"
   ]
  },
  {
   "cell_type": "code",
   "execution_count": 16,
   "metadata": {},
   "outputs": [],
   "source": [
    "def cat_discover(df):\n",
    "    categorial_features = df.select_dtypes(exclude = 'number').columns\n",
    "    for i in categorial_features: \n",
    "        (data\n",
    "        .groupby(i) [i]\n",
    "        .count()\n",
    "        .plot(kind='pie', autopct='%1.1f%%', title = f'Распределение критерия - {i}'))\n",
    "        plt.show()"
   ]
  },
  {
   "cell_type": "code",
   "execution_count": 17,
   "metadata": {},
   "outputs": [
    {
     "data": {
      "image/png": "[encoded data removed]",
      "text/plain": [
       "<Figure size 432x288 with 1 Axes>"
      ]
     },
     "metadata": {},
     "output_type": "display_data"
    },
    {
     "data": {
      "image/png": "[encoded data removed]",
      "text/plain": [
       "<Figure size 432x288 with 1 Axes>"
      ]
     },
     "metadata": {},
     "output_type": "display_data"
    },
    {
     "data": {
      "image/png": "[encoded data removed]",
      "text/plain": [
       "<Figure size 432x288 with 1 Axes>"
      ]
     },
     "metadata": {},
     "output_type": "display_data"
    },
    {
     "data": {
      "image/png": "[encoded data removed]",
      "text/plain": [
       "<Figure size 432x288 with 1 Axes>"
      ]
     },
     "metadata": {},
     "output_type": "display_data"
    },
    {
     "data": {
      "image/png": "[encoded data removed]",
      "text/plain": [
       "<Figure size 432x288 with 1 Axes>"
      ]
     },
     "metadata": {},
     "output_type": "display_data"
    },
    {
     "data": {
      "image/png": "[encoded data removed]",
      "text/plain": [
       "<Figure size 432x288 with 1 Axes>"
      ]
     },
     "metadata": {},
     "output_type": "display_data"
    }
   ],
   "source": [
    "cat_discover(data)"
   ]
  },
  {
   "cell_type": "code",
   "execution_count": 18,
   "metadata": {},
   "outputs": [],
   "source": [
    "data = data.drop(data[(data['Model'] == 'Unknown')].index).reset_index(drop = True)"
   ]
  },
  {
   "cell_type": "markdown",
   "metadata": {},
   "source": [
    "<div style=\"border:solid Chocolate 2px; padding: 40px\">\n",
    "    \n",
    "<font color = 'green'  size = 5> Результаты проведения исследовательского анализа качественных переменных </font>\n",
    "    \n",
    "- Удалены модели типа \"Unknown\"\n",
    "- Наибольшей популярностью обрадают автомобили типа седан \n",
    "- 75% на рынке это битые машины\n",
    "- 62% на бензине"
   ]
  },
  {
   "cell_type": "markdown",
   "metadata": {},
   "source": [
    "### Корреляционный анализ "
   ]
  },
  {
   "cell_type": "code",
   "execution_count": 19,
   "metadata": {
    "scrolled": true
   },
   "outputs": [],
   "source": [
    "def correlation (x, num_cols):\n",
    "    display('Матрица корреляций  - Коэф. Спримана')\n",
    "    \n",
    "    plt.figure (figsize = (7,7))\n",
    "    sns.heatmap (x.corr(method = 'spearman'), annot = True, cmap = 'cividis')\n",
    "    plt.show()  \n",
    "    \n",
    "    display('Матрица корреляций  - phik Matrix')\n",
    "    \n",
    "    plt.figure (figsize = (7,7))\n",
    "    sns.heatmap (x.phik_matrix(interval_cols = num_cols), annot = True, cmap = 'cividis')\n",
    "    plt.show()\n",
    "    \n",
    "    display('VIF')\n",
    "    \n",
    "    x_vif = x[num_cols]\n",
    "    X = add_constant (x_vif)\n",
    "    vif_data = pd.Series ([variance_inflation_factor(X.values, i)\n",
    "                          for i in range (X.shape[1])],\n",
    "                         index = X.columns)\n",
    "    display (vif_data)"
   ]
  },
  {
   "cell_type": "code",
   "execution_count": 20,
   "metadata": {},
   "outputs": [
    {
     "data": {
      "text/plain": [
       "'Матрица корреляций  - Коэф. Спримана'"
      ]
     },
     "metadata": {},
     "output_type": "display_data"
    },
    {
     "data": {
      "image/png": "[encoded data removed]",
      "text/plain": [
       "<Figure size 504x504 with 2 Axes>"
      ]
     },
     "metadata": {
      "needs_background": "light"
     },
     "output_type": "display_data"
    },
    {
     "data": {
      "text/plain": [
       "'Матрица корреляций  - phik Matrix'"
      ]
     },
     "metadata": {},
     "output_type": "display_data"
    },
    {
     "data": {
      "image/png": "[encoded data removed]",
      "text/plain": [
       "<Figure size 504x504 with 2 Axes>"
      ]
     },
     "metadata": {
      "needs_background": "light"
     },
     "output_type": "display_data"
    },
    {
     "data": {
      "text/plain": [
       "'VIF'"
      ]
     },
     "metadata": {},
     "output_type": "display_data"
    },
    {
     "data": {
      "text/plain": [
       "const        20.963759\n",
       "Price         1.883512\n",
       "Power         1.600962\n",
       "Kilometer     1.400788\n",
       "dtype: float64"
      ]
     },
     "metadata": {},
     "output_type": "display_data"
    }
   ],
   "source": [
    "correlation(data, ['Price', 'Power', 'Kilometer'])"
   ]
  },
  {
   "cell_type": "markdown",
   "metadata": {},
   "source": [
    "<div style=\"border:solid Chocolate 2px; padding: 40px\">\n",
    "    \n",
    "<font color = 'green'  size = 5> Результаты проведения корреляционного анализа качественных переменных </font>\n",
    "    \n",
    "- Мультиколлинеарности нет"
   ]
  },
  {
   "cell_type": "markdown",
   "metadata": {},
   "source": [
    "## Обучение моделей"
   ]
  },
  {
   "cell_type": "markdown",
   "metadata": {},
   "source": [
    "Необходимо произвести подготовку данных, а именно, произвести кодирование и масштабирование данных. Преварительно данные нужно разделить на тренировочную и тестовую выборки"
   ]
  },
  {
   "cell_type": "code",
   "execution_count": 21,
   "metadata": {},
   "outputs": [],
   "source": [
    "RANDOM_STATE = 1234\n",
    "test_size = 0.25\n",
    "\n",
    "X = data.drop(columns = 'Price', axis=1)\n",
    "y = data['Price']\n",
    "\n",
    "X_train, X_test, y_train, y_test = train_test_split(X, y, test_size = test_size, random_state = RANDOM_STATE)\n",
    "X_train = X_train.reset_index(drop = True)\n",
    "X_test = X_test.reset_index(drop = True)"
   ]
  },
  {
   "cell_type": "markdown",
   "metadata": {},
   "source": [
    "### Подбор не бустинговых моделей"
   ]
  },
  {
   "cell_type": "code",
   "execution_count": 22,
   "metadata": {
    "scrolled": true
   },
   "outputs": [],
   "source": [
    "#подготовка данных\n",
    "\n",
    "cat_features = X_train.select_dtypes(exclude = 'number').columns\n",
    "num_features = X_train.select_dtypes(include = 'number').columns\n",
    "\n",
    "ord_pipeline = Pipeline(steps = \n",
    "                       [\n",
    "                           ('SimpleImputer_before_ord',\n",
    "                           SimpleImputer(missing_values=np.nan, strategy='most_frequent')),\n",
    "                           ('ord',\n",
    "                            OrdinalEncoder()\n",
    "                           ),\n",
    "                           ('SimpleImputer_after_ord', \n",
    "                            SimpleImputer(missing_values=np.nan, strategy='most_frequent'))\n",
    "                       ])\n",
    "data_preprocessor = ColumnTransformer(transformers =\n",
    "                                     [\n",
    "                                         ('ord', ord_pipeline, cat_features),\n",
    "                                         ('num', StandardScaler(), num_features)\n",
    "                                     ])\n",
    "\n",
    "X_train_transf = data_preprocessor.fit_transform(X_train)\n",
    "X_test_transf = data_preprocessor.transform(X_test)\n",
    "\n",
    "all_features = np.concatenate([cat_features, num_features])\n",
    "\n",
    "X_train_new = pd.DataFrame(X_train_transf, columns = all_features)\n",
    "X_test_new = pd.DataFrame(X_test_transf, columns = all_features)"
   ]
  },
  {
   "cell_type": "code",
   "execution_count": 23,
   "metadata": {},
   "outputs": [
    {
     "name": "stdout",
     "output_type": "stream",
     "text": [
      "Pipeline(steps=[('model',\n",
      "                 DecisionTreeRegressor(max_depth=11, min_samples_leaf=11,\n",
      "                                       random_state=1234))])\n",
      "1853.2138852665712\n"
     ]
    }
   ],
   "source": [
    "# Поиск лучшей не бустинговой модели\n",
    "\n",
    "pipeline = Pipeline (\n",
    "    [\n",
    "        ('model', [DecisionTreeRegressor(random_state=RANDOM_STATE)])\n",
    "    ])\n",
    "\n",
    "params = [\n",
    "    {\n",
    "        'model': [DecisionTreeRegressor(random_state=RANDOM_STATE)],\n",
    "        'model__min_samples_leaf': range(1, 16, 5),\n",
    "        'model__min_samples_split': range(2, 17, 5), \n",
    "        'model__max_depth': range(1, 16, 5)\n",
    "    }\n",
    "    \n",
    "]\n",
    "\n",
    "gs1 = GridSearchCV (estimator = pipeline,\n",
    "                  param_grid = params,\n",
    "                  scoring = 'neg_root_mean_squared_error',\n",
    "                  cv = 3,\n",
    "                  n_jobs = -1)\n",
    "\n",
    "gs1.fit(X_train_new, y_train)\n",
    "\n",
    "print(gs1.best_estimator_)\n",
    "print((-1) * gs1.best_score_)"
   ]
  },
  {
   "cell_type": "markdown",
   "metadata": {},
   "source": [
    "### Подбор бустинговой модели"
   ]
  },
  {
   "cell_type": "code",
   "execution_count": 24,
   "metadata": {},
   "outputs": [
    {
     "name": "stdout",
     "output_type": "stream",
     "text": [
      "Pipeline(steps=[('model', LGBMRegressor(max_depth=100, num_leaves=50))])\n",
      "1573.4583733829495\n"
     ]
    }
   ],
   "source": [
    "cat_features = cat_features.to_list()\n",
    "pipeline_2 = Pipeline(\n",
    "    [\n",
    "        ('model', [LGBMRegressor(cat_features=cat_features)])\n",
    "    ])\n",
    "\n",
    "params_2 = [\n",
    "    {\n",
    "        'model': [LGBMRegressor()],\n",
    "        'model__max_depth': [10, 100],\n",
    "        'model__num_leaves': range (50, 150, 100)\n",
    "    }\n",
    "]\n",
    "\n",
    "gs2 = GridSearchCV (estimator = pipeline_2,\n",
    "                   param_grid = params_2,\n",
    "                   scoring = 'neg_root_mean_squared_error',\n",
    "                   cv = 3,\n",
    "                   n_jobs = -1)\n",
    "\n",
    "gs2.fit(X_train_new, y_train)\n",
    "print(gs2.best_estimator_)\n",
    "print((-1) * gs2.best_score_)"
   ]
  },
  {
   "cell_type": "markdown",
   "metadata": {},
   "source": [
    "<div style=\"border:solid Chocolate 2px; padding: 40px\">\n",
    "    \n",
    "<font color = 'green'  size = 5> Результаты обучения моделей </font>\n",
    "    \n",
    "В результате было обучено 2 модели и подобранны лучшие гиперпараметры: DecisionTreeRegressor и LGBMRegressor. В следующем пункте произведем оценку по времени обучения, а также проверим на тестовой выборке"
   ]
  },
  {
   "cell_type": "markdown",
   "metadata": {},
   "source": [
    "## Анализ моделей"
   ]
  },
  {
   "cell_type": "code",
   "execution_count": 25,
   "metadata": {},
   "outputs": [],
   "source": [
    "best_model_tree = gs1.best_estimator_\n",
    "best_model_lgbm = gs2.best_estimator_"
   ]
  },
  {
   "cell_type": "code",
   "execution_count": 26,
   "metadata": {},
   "outputs": [
    {
     "name": "stdout",
     "output_type": "stream",
     "text": [
      "CPU times: user 3 µs, sys: 0 ns, total: 3 µs\n",
      "Wall time: 6.68 µs\n"
     ]
    },
    {
     "data": {
      "text/html": [
       "<style>#sk-container-id-1 {\n",
       "  /* Definition of color scheme common for light and dark mode */\n",
       "  --sklearn-color-text: black;\n",
       "  --sklearn-color-line: gray;\n",
       "  /* Definition of color scheme for unfitted estimators */\n",
       "  --sklearn-color-unfitted-level-0: #fff5e6;\n",
       "  --sklearn-color-unfitted-level-1: #f6e4d2;\n",
       "  --sklearn-color-unfitted-level-2: #ffe0b3;\n",
       "  --sklearn-color-unfitted-level-3: chocolate;\n",
       "  /* Definition of color scheme for fitted estimators */\n",
       "  --sklearn-color-fitted-level-0: #f0f8ff;\n",
       "  --sklearn-color-fitted-level-1: #d4ebff;\n",
       "  --sklearn-color-fitted-level-2: #b3dbfd;\n",
       "  --sklearn-color-fitted-level-3: cornflowerblue;\n",
       "\n",
       "  /* Specific color for light theme */\n",
       "  --sklearn-color-text-on-default-background: var(--sg-text-color, var(--theme-code-foreground, var(--jp-content-font-color1, black)));\n",
       "  --sklearn-color-background: var(--sg-background-color, var(--theme-background, var(--jp-layout-color0, white)));\n",
       "  --sklearn-color-border-box: var(--sg-text-color, var(--theme-code-foreground, var(--jp-content-font-color1, black)));\n",
       "  --sklearn-color-icon: #696969;\n",
       "\n",
       "  @media (prefers-color-scheme: dark) {\n",
       "    /* Redefinition of color scheme for dark theme */\n",
       "    --sklearn-color-text-on-default-background: var(--sg-text-color, var(--theme-code-foreground, var(--jp-content-font-color1, white)));\n",
       "    --sklearn-color-background: var(--sg-background-color, var(--theme-background, var(--jp-layout-color0, #111)));\n",
       "    --sklearn-color-border-box: var(--sg-text-color, var(--theme-code-foreground, var(--jp-content-font-color1, white)));\n",
       "    --sklearn-color-icon: #878787;\n",
       "  }\n",
       "}\n",
       "\n",
       "#sk-container-id-1 {\n",
       "  color: var(--sklearn-color-text);\n",
       "}\n",
       "\n",
       "#sk-container-id-1 pre {\n",
       "  padding: 0;\n",
       "}\n",
       "\n",
       "#sk-container-id-1 input.sk-hidden--visually {\n",
       "  border: 0;\n",
       "  clip: rect(1px 1px 1px 1px);\n",
       "  clip: rect(1px, 1px, 1px, 1px);\n",
       "  height: 1px;\n",
       "  margin: -1px;\n",
       "  overflow: hidden;\n",
       "  padding: 0;\n",
       "  position: absolute;\n",
       "  width: 1px;\n",
       "}\n",
       "\n",
       "#sk-container-id-1 div.sk-dashed-wrapped {\n",
       "  border: 1px dashed var(--sklearn-color-line);\n",
       "  margin: 0 0.4em 0.5em 0.4em;\n",
       "  box-sizing: border-box;\n",
       "  padding-bottom: 0.4em;\n",
       "  background-color: var(--sklearn-color-background);\n",
       "}\n",
       "\n",
       "#sk-container-id-1 div.sk-container {\n",
       "  /* jupyter's `normalize.less` sets `[hidden] { display: none; }`\n",
       "     but bootstrap.min.css set `[hidden] { display: none !important; }`\n",
       "     so we also need the `!important` here to be able to override the\n",
       "     default hidden behavior on the sphinx rendered scikit-learn.org.\n",
       "     See: https://github.com/scikit-learn/scikit-learn/issues/21755 */\n",
       "  display: inline-block !important;\n",
       "  position: relative;\n",
       "}\n",
       "\n",
       "#sk-container-id-1 div.sk-text-repr-fallback {\n",
       "  display: none;\n",
       "}\n",
       "\n",
       "div.sk-parallel-item,\n",
       "div.sk-serial,\n",
       "div.sk-item {\n",
       "  /* draw centered vertical line to link estimators */\n",
       "  background-image: linear-gradient(var(--sklearn-color-text-on-default-background), var(--sklearn-color-text-on-default-background));\n",
       "  background-size: 2px 100%;\n",
       "  background-repeat: no-repeat;\n",
       "  background-position: center center;\n",
       "}\n",
       "\n",
       "/* Parallel-specific style estimator block */\n",
       "\n",
       "#sk-container-id-1 div.sk-parallel-item::after {\n",
       "  content: \"\";\n",
       "  width: 100%;\n",
       "  border-bottom: 2px solid var(--sklearn-color-text-on-default-background);\n",
       "  flex-grow: 1;\n",
       "}\n",
       "\n",
       "#sk-container-id-1 div.sk-parallel {\n",
       "  display: flex;\n",
       "  align-items: stretch;\n",
       "  justify-content: center;\n",
       "  background-color: var(--sklearn-color-background);\n",
       "  position: relative;\n",
       "}\n",
       "\n",
       "#sk-container-id-1 div.sk-parallel-item {\n",
       "  display: flex;\n",
       "  flex-direction: column;\n",
       "}\n",
       "\n",
       "#sk-container-id-1 div.sk-parallel-item:first-child::after {\n",
       "  align-self: flex-end;\n",
       "  width: 50%;\n",
       "}\n",
       "\n",
       "#sk-container-id-1 div.sk-parallel-item:last-child::after {\n",
       "  align-self: flex-start;\n",
       "  width: 50%;\n",
       "}\n",
       "\n",
       "#sk-container-id-1 div.sk-parallel-item:only-child::after {\n",
       "  width: 0;\n",
       "}\n",
       "\n",
       "/* Serial-specific style estimator block */\n",
       "\n",
       "#sk-container-id-1 div.sk-serial {\n",
       "  display: flex;\n",
       "  flex-direction: column;\n",
       "  align-items: center;\n",
       "  background-color: var(--sklearn-color-background);\n",
       "  padding-right: 1em;\n",
       "  padding-left: 1em;\n",
       "}\n",
       "\n",
       "\n",
       "/* Toggleable style: style used for estimator/Pipeline/ColumnTransformer box that is\n",
       "clickable and can be expanded/collapsed.\n",
       "- Pipeline and ColumnTransformer use this feature and define the default style\n",
       "- Estimators will overwrite some part of the style using the `sk-estimator` class\n",
       "*/\n",
       "\n",
       "/* Pipeline and ColumnTransformer style (default) */\n",
       "\n",
       "#sk-container-id-1 div.sk-toggleable {\n",
       "  /* Default theme specific background. It is overwritten whether we have a\n",
       "  specific estimator or a Pipeline/ColumnTransformer */\n",
       "  background-color: var(--sklearn-color-background);\n",
       "}\n",
       "\n",
       "/* Toggleable label */\n",
       "#sk-container-id-1 label.sk-toggleable__label {\n",
       "  cursor: pointer;\n",
       "  display: block;\n",
       "  width: 100%;\n",
       "  margin-bottom: 0;\n",
       "  padding: 0.5em;\n",
       "  box-sizing: border-box;\n",
       "  text-align: center;\n",
       "}\n",
       "\n",
       "#sk-container-id-1 label.sk-toggleable__label-arrow:before {\n",
       "  /* Arrow on the left of the label */\n",
       "  content: \"▸\";\n",
       "  float: left;\n",
       "  margin-right: 0.25em;\n",
       "  color: var(--sklearn-color-icon);\n",
       "}\n",
       "\n",
       "#sk-container-id-1 label.sk-toggleable__label-arrow:hover:before {\n",
       "  color: var(--sklearn-color-text);\n",
       "}\n",
       "\n",
       "/* Toggleable content - dropdown */\n",
       "\n",
       "#sk-container-id-1 div.sk-toggleable__content {\n",
       "  max-height: 0;\n",
       "  max-width: 0;\n",
       "  overflow: hidden;\n",
       "  text-align: left;\n",
       "  /* unfitted */\n",
       "  background-color: var(--sklearn-color-unfitted-level-0);\n",
       "}\n",
       "\n",
       "#sk-container-id-1 div.sk-toggleable__content.fitted {\n",
       "  /* fitted */\n",
       "  background-color: var(--sklearn-color-fitted-level-0);\n",
       "}\n",
       "\n",
       "#sk-container-id-1 div.sk-toggleable__content pre {\n",
       "  margin: 0.2em;\n",
       "  border-radius: 0.25em;\n",
       "  color: var(--sklearn-color-text);\n",
       "  /* unfitted */\n",
       "  background-color: var(--sklearn-color-unfitted-level-0);\n",
       "}\n",
       "\n",
       "#sk-container-id-1 div.sk-toggleable__content.fitted pre {\n",
       "  /* unfitted */\n",
       "  background-color: var(--sklearn-color-fitted-level-0);\n",
       "}\n",
       "\n",
       "#sk-container-id-1 input.sk-toggleable__control:checked~div.sk-toggleable__content {\n",
       "  /* Expand drop-down */\n",
       "  max-height: 200px;\n",
       "  max-width: 100%;\n",
       "  overflow: auto;\n",
       "}\n",
       "\n",
       "#sk-container-id-1 input.sk-toggleable__control:checked~label.sk-toggleable__label-arrow:before {\n",
       "  content: \"▾\";\n",
       "}\n",
       "\n",
       "/* Pipeline/ColumnTransformer-specific style */\n",
       "\n",
       "#sk-container-id-1 div.sk-label input.sk-toggleable__control:checked~label.sk-toggleable__label {\n",
       "  color: var(--sklearn-color-text);\n",
       "  background-color: var(--sklearn-color-unfitted-level-2);\n",
       "}\n",
       "\n",
       "#sk-container-id-1 div.sk-label.fitted input.sk-toggleable__control:checked~label.sk-toggleable__label {\n",
       "  background-color: var(--sklearn-color-fitted-level-2);\n",
       "}\n",
       "\n",
       "/* Estimator-specific style */\n",
       "\n",
       "/* Colorize estimator box */\n",
       "#sk-container-id-1 div.sk-estimator input.sk-toggleable__control:checked~label.sk-toggleable__label {\n",
       "  /* unfitted */\n",
       "  background-color: var(--sklearn-color-unfitted-level-2);\n",
       "}\n",
       "\n",
       "#sk-container-id-1 div.sk-estimator.fitted input.sk-toggleable__control:checked~label.sk-toggleable__label {\n",
       "  /* fitted */\n",
       "  background-color: var(--sklearn-color-fitted-level-2);\n",
       "}\n",
       "\n",
       "#sk-container-id-1 div.sk-label label.sk-toggleable__label,\n",
       "#sk-container-id-1 div.sk-label label {\n",
       "  /* The background is the default theme color */\n",
       "  color: var(--sklearn-color-text-on-default-background);\n",
       "}\n",
       "\n",
       "/* On hover, darken the color of the background */\n",
       "#sk-container-id-1 div.sk-label:hover label.sk-toggleable__label {\n",
       "  color: var(--sklearn-color-text);\n",
       "  background-color: var(--sklearn-color-unfitted-level-2);\n",
       "}\n",
       "\n",
       "/* Label box, darken color on hover, fitted */\n",
       "#sk-container-id-1 div.sk-label.fitted:hover label.sk-toggleable__label.fitted {\n",
       "  color: var(--sklearn-color-text);\n",
       "  background-color: var(--sklearn-color-fitted-level-2);\n",
       "}\n",
       "\n",
       "/* Estimator label */\n",
       "\n",
       "#sk-container-id-1 div.sk-label label {\n",
       "  font-family: monospace;\n",
       "  font-weight: bold;\n",
       "  display: inline-block;\n",
       "  line-height: 1.2em;\n",
       "}\n",
       "\n",
       "#sk-container-id-1 div.sk-label-container {\n",
       "  text-align: center;\n",
       "}\n",
       "\n",
       "/* Estimator-specific */\n",
       "#sk-container-id-1 div.sk-estimator {\n",
       "  font-family: monospace;\n",
       "  border: 1px dotted var(--sklearn-color-border-box);\n",
       "  border-radius: 0.25em;\n",
       "  box-sizing: border-box;\n",
       "  margin-bottom: 0.5em;\n",
       "  /* unfitted */\n",
       "  background-color: var(--sklearn-color-unfitted-level-0);\n",
       "}\n",
       "\n",
       "#sk-container-id-1 div.sk-estimator.fitted {\n",
       "  /* fitted */\n",
       "  background-color: var(--sklearn-color-fitted-level-0);\n",
       "}\n",
       "\n",
       "/* on hover */\n",
       "#sk-container-id-1 div.sk-estimator:hover {\n",
       "  /* unfitted */\n",
       "  background-color: var(--sklearn-color-unfitted-level-2);\n",
       "}\n",
       "\n",
       "#sk-container-id-1 div.sk-estimator.fitted:hover {\n",
       "  /* fitted */\n",
       "  background-color: var(--sklearn-color-fitted-level-2);\n",
       "}\n",
       "\n",
       "/* Specification for estimator info (e.g. \"i\" and \"?\") */\n",
       "\n",
       "/* Common style for \"i\" and \"?\" */\n",
       "\n",
       ".sk-estimator-doc-link,\n",
       "a:link.sk-estimator-doc-link,\n",
       "a:visited.sk-estimator-doc-link {\n",
       "  float: right;\n",
       "  font-size: smaller;\n",
       "  line-height: 1em;\n",
       "  font-family: monospace;\n",
       "  background-color: var(--sklearn-color-background);\n",
       "  border-radius: 1em;\n",
       "  height: 1em;\n",
       "  width: 1em;\n",
       "  text-decoration: none !important;\n",
       "  margin-left: 1ex;\n",
       "  /* unfitted */\n",
       "  border: var(--sklearn-color-unfitted-level-1) 1pt solid;\n",
       "  color: var(--sklearn-color-unfitted-level-1);\n",
       "}\n",
       "\n",
       ".sk-estimator-doc-link.fitted,\n",
       "a:link.sk-estimator-doc-link.fitted,\n",
       "a:visited.sk-estimator-doc-link.fitted {\n",
       "  /* fitted */\n",
       "  border: var(--sklearn-color-fitted-level-1) 1pt solid;\n",
       "  color: var(--sklearn-color-fitted-level-1);\n",
       "}\n",
       "\n",
       "/* On hover */\n",
       "div.sk-estimator:hover .sk-estimator-doc-link:hover,\n",
       ".sk-estimator-doc-link:hover,\n",
       "div.sk-label-container:hover .sk-estimator-doc-link:hover,\n",
       ".sk-estimator-doc-link:hover {\n",
       "  /* unfitted */\n",
       "  background-color: var(--sklearn-color-unfitted-level-3);\n",
       "  color: var(--sklearn-color-background);\n",
       "  text-decoration: none;\n",
       "}\n",
       "\n",
       "div.sk-estimator.fitted:hover .sk-estimator-doc-link.fitted:hover,\n",
       ".sk-estimator-doc-link.fitted:hover,\n",
       "div.sk-label-container:hover .sk-estimator-doc-link.fitted:hover,\n",
       ".sk-estimator-doc-link.fitted:hover {\n",
       "  /* fitted */\n",
       "  background-color: var(--sklearn-color-fitted-level-3);\n",
       "  color: var(--sklearn-color-background);\n",
       "  text-decoration: none;\n",
       "}\n",
       "\n",
       "/* Span, style for the box shown on hovering the info icon */\n",
       ".sk-estimator-doc-link span {\n",
       "  display: none;\n",
       "  z-index: 9999;\n",
       "  position: relative;\n",
       "  font-weight: normal;\n",
       "  right: .2ex;\n",
       "  padding: .5ex;\n",
       "  margin: .5ex;\n",
       "  width: min-content;\n",
       "  min-width: 20ex;\n",
       "  max-width: 50ex;\n",
       "  color: var(--sklearn-color-text);\n",
       "  box-shadow: 2pt 2pt 4pt #999;\n",
       "  /* unfitted */\n",
       "  background: var(--sklearn-color-unfitted-level-0);\n",
       "  border: .5pt solid var(--sklearn-color-unfitted-level-3);\n",
       "}\n",
       "\n",
       ".sk-estimator-doc-link.fitted span {\n",
       "  /* fitted */\n",
       "  background: var(--sklearn-color-fitted-level-0);\n",
       "  border: var(--sklearn-color-fitted-level-3);\n",
       "}\n",
       "\n",
       ".sk-estimator-doc-link:hover span {\n",
       "  display: block;\n",
       "}\n",
       "\n",
       "/* \"?\"-specific style due to the `<a>` HTML tag */\n",
       "\n",
       "#sk-container-id-1 a.estimator_doc_link {\n",
       "  float: right;\n",
       "  font-size: 1rem;\n",
       "  line-height: 1em;\n",
       "  font-family: monospace;\n",
       "  background-color: var(--sklearn-color-background);\n",
       "  border-radius: 1rem;\n",
       "  height: 1rem;\n",
       "  width: 1rem;\n",
       "  text-decoration: none;\n",
       "  /* unfitted */\n",
       "  color: var(--sklearn-color-unfitted-level-1);\n",
       "  border: var(--sklearn-color-unfitted-level-1) 1pt solid;\n",
       "}\n",
       "\n",
       "#sk-container-id-1 a.estimator_doc_link.fitted {\n",
       "  /* fitted */\n",
       "  border: var(--sklearn-color-fitted-level-1) 1pt solid;\n",
       "  color: var(--sklearn-color-fitted-level-1);\n",
       "}\n",
       "\n",
       "/* On hover */\n",
       "#sk-container-id-1 a.estimator_doc_link:hover {\n",
       "  /* unfitted */\n",
       "  background-color: var(--sklearn-color-unfitted-level-3);\n",
       "  color: var(--sklearn-color-background);\n",
       "  text-decoration: none;\n",
       "}\n",
       "\n",
       "#sk-container-id-1 a.estimator_doc_link.fitted:hover {\n",
       "  /* fitted */\n",
       "  background-color: var(--sklearn-color-fitted-level-3);\n",
       "}\n",
       "</style><div id=\"sk-container-id-1\" class=\"sk-top-container\"><div class=\"sk-text-repr-fallback\"><pre>Pipeline(steps=[(&#x27;model&#x27;,\n",
       "                 DecisionTreeRegressor(max_depth=11, min_samples_leaf=11,\n",
       "                                       random_state=1234))])</pre><b>In a Jupyter environment, please rerun this cell to show the HTML representation or trust the notebook. <br />On GitHub, the HTML representation is unable to render, please try loading this page with nbviewer.org.</b></div><div class=\"sk-container\" hidden><div class=\"sk-item sk-dashed-wrapped\"><div class=\"sk-label-container\"><div class=\"sk-label fitted sk-toggleable\"><input class=\"sk-toggleable__control sk-hidden--visually\" id=\"sk-estimator-id-1\" type=\"checkbox\" ><label for=\"sk-estimator-id-1\" class=\"sk-toggleable__label fitted sk-toggleable__label-arrow fitted\">&nbsp;&nbsp;Pipeline<a class=\"sk-estimator-doc-link fitted\" rel=\"noreferrer\" target=\"_blank\" href=\"https://scikit-learn.org/1.5/modules/generated/sklearn.pipeline.Pipeline.html\">?<span>Documentation for Pipeline</span></a><span class=\"sk-estimator-doc-link fitted\">i<span>Fitted</span></span></label><div class=\"sk-toggleable__content fitted\"><pre>Pipeline(steps=[(&#x27;model&#x27;,\n",
       "                 DecisionTreeRegressor(max_depth=11, min_samples_leaf=11,\n",
       "                                       random_state=1234))])</pre></div> </div></div><div class=\"sk-serial\"><div class=\"sk-item\"><div class=\"sk-estimator fitted sk-toggleable\"><input class=\"sk-toggleable__control sk-hidden--visually\" id=\"sk-estimator-id-2\" type=\"checkbox\" ><label for=\"sk-estimator-id-2\" class=\"sk-toggleable__label fitted sk-toggleable__label-arrow fitted\">&nbsp;DecisionTreeRegressor<a class=\"sk-estimator-doc-link fitted\" rel=\"noreferrer\" target=\"_blank\" href=\"https://scikit-learn.org/1.5/modules/generated/sklearn.tree.DecisionTreeRegressor.html\">?<span>Documentation for DecisionTreeRegressor</span></a></label><div class=\"sk-toggleable__content fitted\"><pre>DecisionTreeRegressor(max_depth=11, min_samples_leaf=11, random_state=1234)</pre></div> </div></div></div></div></div></div>"
      ],
      "text/plain": [
       "Pipeline(steps=[('model',\n",
       "                 DecisionTreeRegressor(max_depth=11, min_samples_leaf=11,\n",
       "                                       random_state=1234))])"
      ]
     },
     "execution_count": 26,
     "metadata": {},
     "output_type": "execute_result"
    }
   ],
   "source": [
    "%time \n",
    "best_model_tree.fit(X_train_new, y_train)"
   ]
  },
  {
   "cell_type": "code",
   "execution_count": 27,
   "metadata": {},
   "outputs": [
    {
     "name": "stdout",
     "output_type": "stream",
     "text": [
      "CPU times: user 3 µs, sys: 0 ns, total: 3 µs\n",
      "Wall time: 6.68 µs\n"
     ]
    },
    {
     "data": {
      "text/html": [
       "<style>#sk-container-id-2 {\n",
       "  /* Definition of color scheme common for light and dark mode */\n",
       "  --sklearn-color-text: black;\n",
       "  --sklearn-color-line: gray;\n",
       "  /* Definition of color scheme for unfitted estimators */\n",
       "  --sklearn-color-unfitted-level-0: #fff5e6;\n",
       "  --sklearn-color-unfitted-level-1: #f6e4d2;\n",
       "  --sklearn-color-unfitted-level-2: #ffe0b3;\n",
       "  --sklearn-color-unfitted-level-3: chocolate;\n",
       "  /* Definition of color scheme for fitted estimators */\n",
       "  --sklearn-color-fitted-level-0: #f0f8ff;\n",
       "  --sklearn-color-fitted-level-1: #d4ebff;\n",
       "  --sklearn-color-fitted-level-2: #b3dbfd;\n",
       "  --sklearn-color-fitted-level-3: cornflowerblue;\n",
       "\n",
       "  /* Specific color for light theme */\n",
       "  --sklearn-color-text-on-default-background: var(--sg-text-color, var(--theme-code-foreground, var(--jp-content-font-color1, black)));\n",
       "  --sklearn-color-background: var(--sg-background-color, var(--theme-background, var(--jp-layout-color0, white)));\n",
       "  --sklearn-color-border-box: var(--sg-text-color, var(--theme-code-foreground, var(--jp-content-font-color1, black)));\n",
       "  --sklearn-color-icon: #696969;\n",
       "\n",
       "  @media (prefers-color-scheme: dark) {\n",
       "    /* Redefinition of color scheme for dark theme */\n",
       "    --sklearn-color-text-on-default-background: var(--sg-text-color, var(--theme-code-foreground, var(--jp-content-font-color1, white)));\n",
       "    --sklearn-color-background: var(--sg-background-color, var(--theme-background, var(--jp-layout-color0, #111)));\n",
       "    --sklearn-color-border-box: var(--sg-text-color, var(--theme-code-foreground, var(--jp-content-font-color1, white)));\n",
       "    --sklearn-color-icon: #878787;\n",
       "  }\n",
       "}\n",
       "\n",
       "#sk-container-id-2 {\n",
       "  color: var(--sklearn-color-text);\n",
       "}\n",
       "\n",
       "#sk-container-id-2 pre {\n",
       "  padding: 0;\n",
       "}\n",
       "\n",
       "#sk-container-id-2 input.sk-hidden--visually {\n",
       "  border: 0;\n",
       "  clip: rect(1px 1px 1px 1px);\n",
       "  clip: rect(1px, 1px, 1px, 1px);\n",
       "  height: 1px;\n",
       "  margin: -1px;\n",
       "  overflow: hidden;\n",
       "  padding: 0;\n",
       "  position: absolute;\n",
       "  width: 1px;\n",
       "}\n",
       "\n",
       "#sk-container-id-2 div.sk-dashed-wrapped {\n",
       "  border: 1px dashed var(--sklearn-color-line);\n",
       "  margin: 0 0.4em 0.5em 0.4em;\n",
       "  box-sizing: border-box;\n",
       "  padding-bottom: 0.4em;\n",
       "  background-color: var(--sklearn-color-background);\n",
       "}\n",
       "\n",
       "#sk-container-id-2 div.sk-container {\n",
       "  /* jupyter's `normalize.less` sets `[hidden] { display: none; }`\n",
       "     but bootstrap.min.css set `[hidden] { display: none !important; }`\n",
       "     so we also need the `!important` here to be able to override the\n",
       "     default hidden behavior on the sphinx rendered scikit-learn.org.\n",
       "     See: https://github.com/scikit-learn/scikit-learn/issues/21755 */\n",
       "  display: inline-block !important;\n",
       "  position: relative;\n",
       "}\n",
       "\n",
       "#sk-container-id-2 div.sk-text-repr-fallback {\n",
       "  display: none;\n",
       "}\n",
       "\n",
       "div.sk-parallel-item,\n",
       "div.sk-serial,\n",
       "div.sk-item {\n",
       "  /* draw centered vertical line to link estimators */\n",
       "  background-image: linear-gradient(var(--sklearn-color-text-on-default-background), var(--sklearn-color-text-on-default-background));\n",
       "  background-size: 2px 100%;\n",
       "  background-repeat: no-repeat;\n",
       "  background-position: center center;\n",
       "}\n",
       "\n",
       "/* Parallel-specific style estimator block */\n",
       "\n",
       "#sk-container-id-2 div.sk-parallel-item::after {\n",
       "  content: \"\";\n",
       "  width: 100%;\n",
       "  border-bottom: 2px solid var(--sklearn-color-text-on-default-background);\n",
       "  flex-grow: 1;\n",
       "}\n",
       "\n",
       "#sk-container-id-2 div.sk-parallel {\n",
       "  display: flex;\n",
       "  align-items: stretch;\n",
       "  justify-content: center;\n",
       "  background-color: var(--sklearn-color-background);\n",
       "  position: relative;\n",
       "}\n",
       "\n",
       "#sk-container-id-2 div.sk-parallel-item {\n",
       "  display: flex;\n",
       "  flex-direction: column;\n",
       "}\n",
       "\n",
       "#sk-container-id-2 div.sk-parallel-item:first-child::after {\n",
       "  align-self: flex-end;\n",
       "  width: 50%;\n",
       "}\n",
       "\n",
       "#sk-container-id-2 div.sk-parallel-item:last-child::after {\n",
       "  align-self: flex-start;\n",
       "  width: 50%;\n",
       "}\n",
       "\n",
       "#sk-container-id-2 div.sk-parallel-item:only-child::after {\n",
       "  width: 0;\n",
       "}\n",
       "\n",
       "/* Serial-specific style estimator block */\n",
       "\n",
       "#sk-container-id-2 div.sk-serial {\n",
       "  display: flex;\n",
       "  flex-direction: column;\n",
       "  align-items: center;\n",
       "  background-color: var(--sklearn-color-background);\n",
       "  padding-right: 1em;\n",
       "  padding-left: 1em;\n",
       "}\n",
       "\n",
       "\n",
       "/* Toggleable style: style used for estimator/Pipeline/ColumnTransformer box that is\n",
       "clickable and can be expanded/collapsed.\n",
       "- Pipeline and ColumnTransformer use this feature and define the default style\n",
       "- Estimators will overwrite some part of the style using the `sk-estimator` class\n",
       "*/\n",
       "\n",
       "/* Pipeline and ColumnTransformer style (default) */\n",
       "\n",
       "#sk-container-id-2 div.sk-toggleable {\n",
       "  /* Default theme specific background. It is overwritten whether we have a\n",
       "  specific estimator or a Pipeline/ColumnTransformer */\n",
       "  background-color: var(--sklearn-color-background);\n",
       "}\n",
       "\n",
       "/* Toggleable label */\n",
       "#sk-container-id-2 label.sk-toggleable__label {\n",
       "  cursor: pointer;\n",
       "  display: block;\n",
       "  width: 100%;\n",
       "  margin-bottom: 0;\n",
       "  padding: 0.5em;\n",
       "  box-sizing: border-box;\n",
       "  text-align: center;\n",
       "}\n",
       "\n",
       "#sk-container-id-2 label.sk-toggleable__label-arrow:before {\n",
       "  /* Arrow on the left of the label */\n",
       "  content: \"▸\";\n",
       "  float: left;\n",
       "  margin-right: 0.25em;\n",
       "  color: var(--sklearn-color-icon);\n",
       "}\n",
       "\n",
       "#sk-container-id-2 label.sk-toggleable__label-arrow:hover:before {\n",
       "  color: var(--sklearn-color-text);\n",
       "}\n",
       "\n",
       "/* Toggleable content - dropdown */\n",
       "\n",
       "#sk-container-id-2 div.sk-toggleable__content {\n",
       "  max-height: 0;\n",
       "  max-width: 0;\n",
       "  overflow: hidden;\n",
       "  text-align: left;\n",
       "  /* unfitted */\n",
       "  background-color: var(--sklearn-color-unfitted-level-0);\n",
       "}\n",
       "\n",
       "#sk-container-id-2 div.sk-toggleable__content.fitted {\n",
       "  /* fitted */\n",
       "  background-color: var(--sklearn-color-fitted-level-0);\n",
       "}\n",
       "\n",
       "#sk-container-id-2 div.sk-toggleable__content pre {\n",
       "  margin: 0.2em;\n",
       "  border-radius: 0.25em;\n",
       "  color: var(--sklearn-color-text);\n",
       "  /* unfitted */\n",
       "  background-color: var(--sklearn-color-unfitted-level-0);\n",
       "}\n",
       "\n",
       "#sk-container-id-2 div.sk-toggleable__content.fitted pre {\n",
       "  /* unfitted */\n",
       "  background-color: var(--sklearn-color-fitted-level-0);\n",
       "}\n",
       "\n",
       "#sk-container-id-2 input.sk-toggleable__control:checked~div.sk-toggleable__content {\n",
       "  /* Expand drop-down */\n",
       "  max-height: 200px;\n",
       "  max-width: 100%;\n",
       "  overflow: auto;\n",
       "}\n",
       "\n",
       "#sk-container-id-2 input.sk-toggleable__control:checked~label.sk-toggleable__label-arrow:before {\n",
       "  content: \"▾\";\n",
       "}\n",
       "\n",
       "/* Pipeline/ColumnTransformer-specific style */\n",
       "\n",
       "#sk-container-id-2 div.sk-label input.sk-toggleable__control:checked~label.sk-toggleable__label {\n",
       "  color: var(--sklearn-color-text);\n",
       "  background-color: var(--sklearn-color-unfitted-level-2);\n",
       "}\n",
       "\n",
       "#sk-container-id-2 div.sk-label.fitted input.sk-toggleable__control:checked~label.sk-toggleable__label {\n",
       "  background-color: var(--sklearn-color-fitted-level-2);\n",
       "}\n",
       "\n",
       "/* Estimator-specific style */\n",
       "\n",
       "/* Colorize estimator box */\n",
       "#sk-container-id-2 div.sk-estimator input.sk-toggleable__control:checked~label.sk-toggleable__label {\n",
       "  /* unfitted */\n",
       "  background-color: var(--sklearn-color-unfitted-level-2);\n",
       "}\n",
       "\n",
       "#sk-container-id-2 div.sk-estimator.fitted input.sk-toggleable__control:checked~label.sk-toggleable__label {\n",
       "  /* fitted */\n",
       "  background-color: var(--sklearn-color-fitted-level-2);\n",
       "}\n",
       "\n",
       "#sk-container-id-2 div.sk-label label.sk-toggleable__label,\n",
       "#sk-container-id-2 div.sk-label label {\n",
       "  /* The background is the default theme color */\n",
       "  color: var(--sklearn-color-text-on-default-background);\n",
       "}\n",
       "\n",
       "/* On hover, darken the color of the background */\n",
       "#sk-container-id-2 div.sk-label:hover label.sk-toggleable__label {\n",
       "  color: var(--sklearn-color-text);\n",
       "  background-color: var(--sklearn-color-unfitted-level-2);\n",
       "}\n",
       "\n",
       "/* Label box, darken color on hover, fitted */\n",
       "#sk-container-id-2 div.sk-label.fitted:hover label.sk-toggleable__label.fitted {\n",
       "  color: var(--sklearn-color-text);\n",
       "  background-color: var(--sklearn-color-fitted-level-2);\n",
       "}\n",
       "\n",
       "/* Estimator label */\n",
       "\n",
       "#sk-container-id-2 div.sk-label label {\n",
       "  font-family: monospace;\n",
       "  font-weight: bold;\n",
       "  display: inline-block;\n",
       "  line-height: 1.2em;\n",
       "}\n",
       "\n",
       "#sk-container-id-2 div.sk-label-container {\n",
       "  text-align: center;\n",
       "}\n",
       "\n",
       "/* Estimator-specific */\n",
       "#sk-container-id-2 div.sk-estimator {\n",
       "  font-family: monospace;\n",
       "  border: 1px dotted var(--sklearn-color-border-box);\n",
       "  border-radius: 0.25em;\n",
       "  box-sizing: border-box;\n",
       "  margin-bottom: 0.5em;\n",
       "  /* unfitted */\n",
       "  background-color: var(--sklearn-color-unfitted-level-0);\n",
       "}\n",
       "\n",
       "#sk-container-id-2 div.sk-estimator.fitted {\n",
       "  /* fitted */\n",
       "  background-color: var(--sklearn-color-fitted-level-0);\n",
       "}\n",
       "\n",
       "/* on hover */\n",
       "#sk-container-id-2 div.sk-estimator:hover {\n",
       "  /* unfitted */\n",
       "  background-color: var(--sklearn-color-unfitted-level-2);\n",
       "}\n",
       "\n",
       "#sk-container-id-2 div.sk-estimator.fitted:hover {\n",
       "  /* fitted */\n",
       "  background-color: var(--sklearn-color-fitted-level-2);\n",
       "}\n",
       "\n",
       "/* Specification for estimator info (e.g. \"i\" and \"?\") */\n",
       "\n",
       "/* Common style for \"i\" and \"?\" */\n",
       "\n",
       ".sk-estimator-doc-link,\n",
       "a:link.sk-estimator-doc-link,\n",
       "a:visited.sk-estimator-doc-link {\n",
       "  float: right;\n",
       "  font-size: smaller;\n",
       "  line-height: 1em;\n",
       "  font-family: monospace;\n",
       "  background-color: var(--sklearn-color-background);\n",
       "  border-radius: 1em;\n",
       "  height: 1em;\n",
       "  width: 1em;\n",
       "  text-decoration: none !important;\n",
       "  margin-left: 1ex;\n",
       "  /* unfitted */\n",
       "  border: var(--sklearn-color-unfitted-level-1) 1pt solid;\n",
       "  color: var(--sklearn-color-unfitted-level-1);\n",
       "}\n",
       "\n",
       ".sk-estimator-doc-link.fitted,\n",
       "a:link.sk-estimator-doc-link.fitted,\n",
       "a:visited.sk-estimator-doc-link.fitted {\n",
       "  /* fitted */\n",
       "  border: var(--sklearn-color-fitted-level-1) 1pt solid;\n",
       "  color: var(--sklearn-color-fitted-level-1);\n",
       "}\n",
       "\n",
       "/* On hover */\n",
       "div.sk-estimator:hover .sk-estimator-doc-link:hover,\n",
       ".sk-estimator-doc-link:hover,\n",
       "div.sk-label-container:hover .sk-estimator-doc-link:hover,\n",
       ".sk-estimator-doc-link:hover {\n",
       "  /* unfitted */\n",
       "  background-color: var(--sklearn-color-unfitted-level-3);\n",
       "  color: var(--sklearn-color-background);\n",
       "  text-decoration: none;\n",
       "}\n",
       "\n",
       "div.sk-estimator.fitted:hover .sk-estimator-doc-link.fitted:hover,\n",
       ".sk-estimator-doc-link.fitted:hover,\n",
       "div.sk-label-container:hover .sk-estimator-doc-link.fitted:hover,\n",
       ".sk-estimator-doc-link.fitted:hover {\n",
       "  /* fitted */\n",
       "  background-color: var(--sklearn-color-fitted-level-3);\n",
       "  color: var(--sklearn-color-background);\n",
       "  text-decoration: none;\n",
       "}\n",
       "\n",
       "/* Span, style for the box shown on hovering the info icon */\n",
       ".sk-estimator-doc-link span {\n",
       "  display: none;\n",
       "  z-index: 9999;\n",
       "  position: relative;\n",
       "  font-weight: normal;\n",
       "  right: .2ex;\n",
       "  padding: .5ex;\n",
       "  margin: .5ex;\n",
       "  width: min-content;\n",
       "  min-width: 20ex;\n",
       "  max-width: 50ex;\n",
       "  color: var(--sklearn-color-text);\n",
       "  box-shadow: 2pt 2pt 4pt #999;\n",
       "  /* unfitted */\n",
       "  background: var(--sklearn-color-unfitted-level-0);\n",
       "  border: .5pt solid var(--sklearn-color-unfitted-level-3);\n",
       "}\n",
       "\n",
       ".sk-estimator-doc-link.fitted span {\n",
       "  /* fitted */\n",
       "  background: var(--sklearn-color-fitted-level-0);\n",
       "  border: var(--sklearn-color-fitted-level-3);\n",
       "}\n",
       "\n",
       ".sk-estimator-doc-link:hover span {\n",
       "  display: block;\n",
       "}\n",
       "\n",
       "/* \"?\"-specific style due to the `<a>` HTML tag */\n",
       "\n",
       "#sk-container-id-2 a.estimator_doc_link {\n",
       "  float: right;\n",
       "  font-size: 1rem;\n",
       "  line-height: 1em;\n",
       "  font-family: monospace;\n",
       "  background-color: var(--sklearn-color-background);\n",
       "  border-radius: 1rem;\n",
       "  height: 1rem;\n",
       "  width: 1rem;\n",
       "  text-decoration: none;\n",
       "  /* unfitted */\n",
       "  color: var(--sklearn-color-unfitted-level-1);\n",
       "  border: var(--sklearn-color-unfitted-level-1) 1pt solid;\n",
       "}\n",
       "\n",
       "#sk-container-id-2 a.estimator_doc_link.fitted {\n",
       "  /* fitted */\n",
       "  border: var(--sklearn-color-fitted-level-1) 1pt solid;\n",
       "  color: var(--sklearn-color-fitted-level-1);\n",
       "}\n",
       "\n",
       "/* On hover */\n",
       "#sk-container-id-2 a.estimator_doc_link:hover {\n",
       "  /* unfitted */\n",
       "  background-color: var(--sklearn-color-unfitted-level-3);\n",
       "  color: var(--sklearn-color-background);\n",
       "  text-decoration: none;\n",
       "}\n",
       "\n",
       "#sk-container-id-2 a.estimator_doc_link.fitted:hover {\n",
       "  /* fitted */\n",
       "  background-color: var(--sklearn-color-fitted-level-3);\n",
       "}\n",
       "</style><div id=\"sk-container-id-2\" class=\"sk-top-container\"><div class=\"sk-text-repr-fallback\"><pre>Pipeline(steps=[(&#x27;model&#x27;, LGBMRegressor(max_depth=100, num_leaves=50))])</pre><b>In a Jupyter environment, please rerun this cell to show the HTML representation or trust the notebook. <br />On GitHub, the HTML representation is unable to render, please try loading this page with nbviewer.org.</b></div><div class=\"sk-container\" hidden><div class=\"sk-item sk-dashed-wrapped\"><div class=\"sk-label-container\"><div class=\"sk-label fitted sk-toggleable\"><input class=\"sk-toggleable__control sk-hidden--visually\" id=\"sk-estimator-id-3\" type=\"checkbox\" ><label for=\"sk-estimator-id-3\" class=\"sk-toggleable__label fitted sk-toggleable__label-arrow fitted\">&nbsp;&nbsp;Pipeline<a class=\"sk-estimator-doc-link fitted\" rel=\"noreferrer\" target=\"_blank\" href=\"https://scikit-learn.org/1.5/modules/generated/sklearn.pipeline.Pipeline.html\">?<span>Documentation for Pipeline</span></a><span class=\"sk-estimator-doc-link fitted\">i<span>Fitted</span></span></label><div class=\"sk-toggleable__content fitted\"><pre>Pipeline(steps=[(&#x27;model&#x27;, LGBMRegressor(max_depth=100, num_leaves=50))])</pre></div> </div></div><div class=\"sk-serial\"><div class=\"sk-item\"><div class=\"sk-estimator fitted sk-toggleable\"><input class=\"sk-toggleable__control sk-hidden--visually\" id=\"sk-estimator-id-4\" type=\"checkbox\" ><label for=\"sk-estimator-id-4\" class=\"sk-toggleable__label fitted sk-toggleable__label-arrow fitted\">LGBMRegressor</label><div class=\"sk-toggleable__content fitted\"><pre>LGBMRegressor(max_depth=100, num_leaves=50)</pre></div> </div></div></div></div></div></div>"
      ],
      "text/plain": [
       "Pipeline(steps=[('model', LGBMRegressor(max_depth=100, num_leaves=50))])"
      ]
     },
     "execution_count": 27,
     "metadata": {},
     "output_type": "execute_result"
    }
   ],
   "source": [
    "%time \n",
    "best_model_lgbm.fit(X_train_new, y_train)"
   ]
  },
  {
   "cell_type": "code",
   "execution_count": 28,
   "metadata": {},
   "outputs": [
    {
     "name": "stdout",
     "output_type": "stream",
     "text": [
      "CPU times: user 3 µs, sys: 0 ns, total: 3 µs\n",
      "Wall time: 6.68 µs\n"
     ]
    }
   ],
   "source": [
    "%time \n",
    "y_pred_tree = best_model_tree.predict(X_train_new)"
   ]
  },
  {
   "cell_type": "code",
   "execution_count": 29,
   "metadata": {},
   "outputs": [
    {
     "name": "stdout",
     "output_type": "stream",
     "text": [
      "CPU times: user 3 µs, sys: 0 ns, total: 3 µs\n",
      "Wall time: 7.39 µs\n"
     ]
    }
   ],
   "source": [
    "%time \n",
    "y_pred_lgbm = best_model_lgbm.predict(X_train_new)"
   ]
  },
  {
   "cell_type": "code",
   "execution_count": 30,
   "metadata": {},
   "outputs": [
    {
     "data": {
      "text/html": [
       "<div>\n",
       "<style scoped>\n",
       "    .dataframe tbody tr th:only-of-type {\n",
       "        vertical-align: middle;\n",
       "    }\n",
       "\n",
       "    .dataframe tbody tr th {\n",
       "        vertical-align: top;\n",
       "    }\n",
       "\n",
       "    .dataframe thead th {\n",
       "        text-align: right;\n",
       "    }\n",
       "</style>\n",
       "<table border=\"1\" class=\"dataframe\">\n",
       "  <thead>\n",
       "    <tr style=\"text-align: right;\">\n",
       "      <th></th>\n",
       "      <th>model</th>\n",
       "      <th>RMSE</th>\n",
       "      <th>train_time</th>\n",
       "      <th>predict_time</th>\n",
       "    </tr>\n",
       "  </thead>\n",
       "  <tbody>\n",
       "    <tr>\n",
       "      <th>0</th>\n",
       "      <td>DecisionTree</td>\n",
       "      <td>1853</td>\n",
       "      <td>6.2 µs</td>\n",
       "      <td>8.11 µs</td>\n",
       "    </tr>\n",
       "    <tr>\n",
       "      <th>1</th>\n",
       "      <td>LightGBM</td>\n",
       "      <td>1573</td>\n",
       "      <td>6.68 µs</td>\n",
       "      <td>6.68 µs</td>\n",
       "    </tr>\n",
       "  </tbody>\n",
       "</table>\n",
       "</div>"
      ],
      "text/plain": [
       "          model  RMSE  train_time predict_time\n",
       "0  DecisionTree  1853      6.2 µs      8.11 µs\n",
       "1      LightGBM  1573     6.68 µs      6.68 µs"
      ]
     },
     "execution_count": 30,
     "metadata": {},
     "output_type": "execute_result"
    }
   ],
   "source": [
    "resuls = {'model' : ['DecisionTree', 'LightGBM'],\n",
    "          'RMSE' : ['1853', '1573'], \n",
    "          ' train_time' : ['6.2 µs', '6.68 µs'], \n",
    "          'predict_time' : ['8.11 µs', '6.68 µs']}\n",
    "\n",
    "result = pd.DataFrame(resuls)\n",
    "\n",
    "result"
   ]
  },
  {
   "cell_type": "markdown",
   "metadata": {},
   "source": [
    "<div style=\"border:solid Chocolate 2px; padding: 40px\">\n",
    "    \n",
    "<font color = 'green'  size = 5> Анализ моделей </font>\n",
    "    \n",
    "Исходя из анализа, делаем вывод, что модель LGBM имеет большую точность в сравнении с моделью DecisionTree, на 300 пунктов, но скорость обучения и скорость предсказания меньше => время на выполнение больше. \n",
    "    \n",
    "Оценив время обучения, можно сделать вывод что отличается оно на 0.5 микросекунды. Не существенная разница, в то время как достигаются лучшие показатели по точности. \n",
    "    \n",
    "Время предсказания у бустинговой модели меньше\n",
    "    \n",
    "Для дальнейшей оценки и проверки на тестовой выборке выбираем модель LightGBM"
   ]
  },
  {
   "cell_type": "code",
   "execution_count": 31,
   "metadata": {
    "scrolled": true
   },
   "outputs": [
    {
     "name": "stdout",
     "output_type": "stream",
     "text": [
      "1580.3660925154156\n"
     ]
    }
   ],
   "source": [
    "y_pred_test = best_model_lgbm.predict(X_test_new)\n",
    "\n",
    "print(mean_squared_error(y_test, y_pred_test) ** 0.5)"
   ]
  },
  {
   "cell_type": "markdown",
   "metadata": {},
   "source": [
    "<div style=\"border:solid Chocolate 2px; padding: 40px\">\n",
    "    \n",
    "<font color = 'green'  size = 5> Анализ моделей </font>\n",
    "    \n",
    "Метрика на тестовой выборке 1580. Условие успеха ВЫПОЛНЕНО \n",
    "   "
   ]
  }
 ],
 "metadata": {
  "ExecuteTimeLog": [
   {
    "duration": 376,
    "start_time": "2024-09-04T12:15:19.175Z"
   },
   {
    "duration": 2,
    "start_time": "2024-09-04T12:15:41.296Z"
   },
   {
    "duration": 1392,
    "start_time": "2024-09-04T12:16:20.812Z"
   },
   {
    "duration": 422,
    "start_time": "2024-09-04T19:28:30.656Z"
   },
   {
    "duration": 1263,
    "start_time": "2024-09-04T19:29:00.221Z"
   },
   {
    "duration": 1032,
    "start_time": "2024-09-04T19:29:21.197Z"
   },
   {
    "duration": 1041,
    "start_time": "2024-09-04T19:29:30.752Z"
   },
   {
    "duration": 1013,
    "start_time": "2024-09-04T19:29:38.207Z"
   },
   {
    "duration": 47,
    "start_time": "2024-09-05T06:42:20.719Z"
   },
   {
    "duration": 384,
    "start_time": "2024-09-05T06:42:24.919Z"
   },
   {
    "duration": 3138,
    "start_time": "2024-09-05T06:42:25.304Z"
   },
   {
    "duration": 148,
    "start_time": "2024-09-05T06:42:28.444Z"
   },
   {
    "duration": 147,
    "start_time": "2024-09-05T06:42:35.725Z"
   },
   {
    "duration": 149,
    "start_time": "2024-09-05T06:42:40.984Z"
   },
   {
    "duration": 140,
    "start_time": "2024-09-05T06:43:00.564Z"
   },
   {
    "duration": 75,
    "start_time": "2024-09-05T06:45:15.364Z"
   },
   {
    "duration": 42,
    "start_time": "2024-09-05T06:45:20.536Z"
   },
   {
    "duration": 36,
    "start_time": "2024-09-05T06:45:27.109Z"
   },
   {
    "duration": 41,
    "start_time": "2024-09-05T06:46:22.948Z"
   },
   {
    "duration": 48,
    "start_time": "2024-09-05T06:46:42.070Z"
   },
   {
    "duration": 426,
    "start_time": "2024-09-05T06:46:42.120Z"
   },
   {
    "duration": 982,
    "start_time": "2024-09-05T06:46:42.548Z"
   },
   {
    "duration": 141,
    "start_time": "2024-09-05T06:46:43.531Z"
   },
   {
    "duration": 28,
    "start_time": "2024-09-05T08:51:33.794Z"
   },
   {
    "duration": 31,
    "start_time": "2024-09-05T08:51:37.252Z"
   },
   {
    "duration": 31,
    "start_time": "2024-09-05T08:51:44.045Z"
   },
   {
    "duration": 36,
    "start_time": "2024-09-05T08:52:02.095Z"
   },
   {
    "duration": 761,
    "start_time": "2024-09-05T08:52:48.072Z"
   },
   {
    "duration": 3,
    "start_time": "2024-09-05T08:54:09.073Z"
   },
   {
    "duration": 103,
    "start_time": "2024-09-05T08:55:28.442Z"
   },
   {
    "duration": 3,
    "start_time": "2024-09-05T08:55:41.464Z"
   },
   {
    "duration": 4,
    "start_time": "2024-09-05T08:59:38.216Z"
   },
   {
    "duration": 16,
    "start_time": "2024-09-05T08:59:50.604Z"
   },
   {
    "duration": 50,
    "start_time": "2024-09-05T08:59:59.712Z"
   },
   {
    "duration": 1173,
    "start_time": "2024-09-05T08:59:59.764Z"
   },
   {
    "duration": 1170,
    "start_time": "2024-09-05T09:00:00.939Z"
   },
   {
    "duration": 150,
    "start_time": "2024-09-05T09:00:02.111Z"
   },
   {
    "duration": 131,
    "start_time": "2024-09-05T09:00:02.263Z"
   },
   {
    "duration": 8,
    "start_time": "2024-09-05T09:02:31.884Z"
   },
   {
    "duration": 4,
    "start_time": "2024-09-05T09:02:34.664Z"
   },
   {
    "duration": 13,
    "start_time": "2024-09-05T09:03:17.323Z"
   },
   {
    "duration": 204,
    "start_time": "2024-09-05T09:04:12.287Z"
   },
   {
    "duration": 142,
    "start_time": "2024-09-05T09:04:25.989Z"
   },
   {
    "duration": 134,
    "start_time": "2024-09-05T09:04:40.508Z"
   },
   {
    "duration": 10,
    "start_time": "2024-09-05T09:11:26.646Z"
   },
   {
    "duration": 49,
    "start_time": "2024-09-05T09:12:13.086Z"
   },
   {
    "duration": 578,
    "start_time": "2024-09-05T09:12:22.919Z"
   },
   {
    "duration": 270,
    "start_time": "2024-09-05T09:15:56.309Z"
   },
   {
    "duration": 63,
    "start_time": "2024-09-05T09:21:42.403Z"
   },
   {
    "duration": 601,
    "start_time": "2024-09-05T09:33:09.987Z"
   },
   {
    "duration": 655,
    "start_time": "2024-09-05T09:33:15.021Z"
   },
   {
    "duration": 12,
    "start_time": "2024-09-05T09:34:22.023Z"
   },
   {
    "duration": 9,
    "start_time": "2024-09-05T09:34:26.103Z"
   },
   {
    "duration": 938,
    "start_time": "2024-09-05T09:35:03.449Z"
   },
   {
    "duration": 0,
    "start_time": "2024-09-05T09:39:54.067Z"
   },
   {
    "duration": 0,
    "start_time": "2024-09-05T09:39:54.068Z"
   },
   {
    "duration": 0,
    "start_time": "2024-09-05T09:39:54.069Z"
   },
   {
    "duration": 0,
    "start_time": "2024-09-05T09:39:54.070Z"
   },
   {
    "duration": 0,
    "start_time": "2024-09-05T09:39:54.071Z"
   },
   {
    "duration": 0,
    "start_time": "2024-09-05T09:39:54.072Z"
   },
   {
    "duration": 0,
    "start_time": "2024-09-05T09:39:54.073Z"
   },
   {
    "duration": 0,
    "start_time": "2024-09-05T09:39:54.074Z"
   },
   {
    "duration": 276,
    "start_time": "2024-09-05T09:40:06.805Z"
   },
   {
    "duration": 1355,
    "start_time": "2024-09-05T09:40:07.083Z"
   },
   {
    "duration": 965,
    "start_time": "2024-09-05T09:40:08.439Z"
   },
   {
    "duration": 138,
    "start_time": "2024-09-05T09:40:09.406Z"
   },
   {
    "duration": 563,
    "start_time": "2024-09-05T09:40:09.546Z"
   },
   {
    "duration": 1557,
    "start_time": "2024-09-05T09:40:10.111Z"
   },
   {
    "duration": 619,
    "start_time": "2024-09-05T09:40:11.670Z"
   },
   {
    "duration": 0,
    "start_time": "2024-09-05T09:40:12.291Z"
   },
   {
    "duration": 1488,
    "start_time": "2024-09-05T09:40:44.751Z"
   },
   {
    "duration": 1325,
    "start_time": "2024-09-05T09:42:02.540Z"
   },
   {
    "duration": 1317,
    "start_time": "2024-09-05T09:43:40.014Z"
   },
   {
    "duration": 1682,
    "start_time": "2024-09-05T09:53:05.088Z"
   },
   {
    "duration": 1820,
    "start_time": "2024-09-05T09:53:38.823Z"
   },
   {
    "duration": 93,
    "start_time": "2024-09-05T09:53:52.679Z"
   },
   {
    "duration": 88,
    "start_time": "2024-09-05T09:53:57.471Z"
   },
   {
    "duration": 332,
    "start_time": "2024-09-05T09:54:07.290Z"
   },
   {
    "duration": 1676,
    "start_time": "2024-09-05T09:54:53.807Z"
   },
   {
    "duration": 248,
    "start_time": "2024-09-05T09:55:41.680Z"
   },
   {
    "duration": 263,
    "start_time": "2024-09-05T09:55:49.042Z"
   },
   {
    "duration": 1777,
    "start_time": "2024-09-05T09:55:56.819Z"
   },
   {
    "duration": 1837,
    "start_time": "2024-09-05T09:56:37.902Z"
   },
   {
    "duration": 1871,
    "start_time": "2024-09-05T09:57:24.082Z"
   },
   {
    "duration": 978,
    "start_time": "2024-09-05T09:57:52.443Z"
   },
   {
    "duration": 907,
    "start_time": "2024-09-05T09:58:26.840Z"
   },
   {
    "duration": 1064,
    "start_time": "2024-09-05T09:58:49.936Z"
   },
   {
    "duration": 1107,
    "start_time": "2024-09-05T09:59:33.736Z"
   },
   {
    "duration": 1002,
    "start_time": "2024-09-05T09:59:51.018Z"
   },
   {
    "duration": 1079,
    "start_time": "2024-09-05T10:00:24.167Z"
   },
   {
    "duration": 1818,
    "start_time": "2024-09-05T10:00:31.054Z"
   },
   {
    "duration": 1822,
    "start_time": "2024-09-05T10:00:37.516Z"
   },
   {
    "duration": 2113,
    "start_time": "2024-09-05T10:02:05.325Z"
   },
   {
    "duration": 1962,
    "start_time": "2024-09-05T10:02:24.638Z"
   },
   {
    "duration": 1915,
    "start_time": "2024-09-05T10:02:39.220Z"
   },
   {
    "duration": 2966,
    "start_time": "2024-09-05T10:05:55.228Z"
   },
   {
    "duration": 2999,
    "start_time": "2024-09-05T10:07:51.706Z"
   },
   {
    "duration": 70,
    "start_time": "2024-09-05T10:08:00.472Z"
   },
   {
    "duration": 2909,
    "start_time": "2024-09-05T10:08:06.671Z"
   },
   {
    "duration": 3051,
    "start_time": "2024-09-05T10:08:13.038Z"
   },
   {
    "duration": 2987,
    "start_time": "2024-09-05T10:08:42.191Z"
   },
   {
    "duration": 2867,
    "start_time": "2024-09-05T10:11:34.209Z"
   },
   {
    "duration": 3106,
    "start_time": "2024-09-05T10:11:47.853Z"
   },
   {
    "duration": 55,
    "start_time": "2024-09-05T10:13:28.488Z"
   },
   {
    "duration": 1491,
    "start_time": "2024-09-05T10:13:28.544Z"
   },
   {
    "duration": 1068,
    "start_time": "2024-09-05T10:13:30.036Z"
   },
   {
    "duration": 147,
    "start_time": "2024-09-05T10:13:31.106Z"
   },
   {
    "duration": 621,
    "start_time": "2024-09-05T10:13:31.255Z"
   },
   {
    "duration": 2946,
    "start_time": "2024-09-05T10:13:31.877Z"
   },
   {
    "duration": 67,
    "start_time": "2024-09-05T10:14:20.092Z"
   },
   {
    "duration": 3106,
    "start_time": "2024-09-05T10:14:25.185Z"
   },
   {
    "duration": 3305,
    "start_time": "2024-09-05T10:14:33.859Z"
   },
   {
    "duration": 3326,
    "start_time": "2024-09-05T10:20:12.598Z"
   },
   {
    "duration": 47,
    "start_time": "2024-09-05T10:21:11.804Z"
   },
   {
    "duration": 116,
    "start_time": "2024-09-05T10:21:14.940Z"
   },
   {
    "duration": 21,
    "start_time": "2024-09-05T10:21:23.452Z"
   },
   {
    "duration": 59,
    "start_time": "2024-09-05T10:21:50.413Z"
   },
   {
    "duration": 1397,
    "start_time": "2024-09-05T10:21:50.474Z"
   },
   {
    "duration": 1046,
    "start_time": "2024-09-05T10:21:51.873Z"
   },
   {
    "duration": 139,
    "start_time": "2024-09-05T10:21:52.921Z"
   },
   {
    "duration": 578,
    "start_time": "2024-09-05T10:21:53.062Z"
   },
   {
    "duration": 3345,
    "start_time": "2024-09-05T10:21:53.642Z"
   },
   {
    "duration": 75,
    "start_time": "2024-09-05T10:21:56.989Z"
   },
   {
    "duration": 98,
    "start_time": "2024-09-05T10:25:12.699Z"
   },
   {
    "duration": 28,
    "start_time": "2024-09-05T10:25:24.757Z"
   },
   {
    "duration": 15,
    "start_time": "2024-09-05T10:26:26.512Z"
   },
   {
    "duration": 10,
    "start_time": "2024-09-05T10:26:39.528Z"
   },
   {
    "duration": 33,
    "start_time": "2024-09-05T10:26:42.719Z"
   },
   {
    "duration": 52,
    "start_time": "2024-09-05T10:28:08.025Z"
   },
   {
    "duration": 46,
    "start_time": "2024-09-05T10:28:44.891Z"
   },
   {
    "duration": 1316,
    "start_time": "2024-09-05T10:29:10.403Z"
   },
   {
    "duration": 20,
    "start_time": "2024-09-05T10:29:21.523Z"
   },
   {
    "duration": 6,
    "start_time": "2024-09-05T10:29:54.106Z"
   },
   {
    "duration": 60,
    "start_time": "2024-09-05T10:30:52.658Z"
   },
   {
    "duration": 69,
    "start_time": "2024-09-05T10:31:48.894Z"
   },
   {
    "duration": 6,
    "start_time": "2024-09-05T10:31:51.370Z"
   },
   {
    "duration": 6,
    "start_time": "2024-09-05T10:31:56.131Z"
   },
   {
    "duration": 12,
    "start_time": "2024-09-05T10:32:03.409Z"
   },
   {
    "duration": 11,
    "start_time": "2024-09-05T10:32:06.253Z"
   },
   {
    "duration": 7,
    "start_time": "2024-09-05T10:32:12.332Z"
   },
   {
    "duration": 12,
    "start_time": "2024-09-05T10:32:35.170Z"
   },
   {
    "duration": 5,
    "start_time": "2024-09-05T10:32:43.082Z"
   },
   {
    "duration": 66,
    "start_time": "2024-09-05T10:33:08.541Z"
   },
   {
    "duration": 13,
    "start_time": "2024-09-05T10:33:14.773Z"
   },
   {
    "duration": 9,
    "start_time": "2024-09-05T10:33:24.148Z"
   },
   {
    "duration": 22,
    "start_time": "2024-09-05T10:33:45.658Z"
   },
   {
    "duration": 10,
    "start_time": "2024-09-05T10:34:16.545Z"
   },
   {
    "duration": 11,
    "start_time": "2024-09-05T10:34:24.350Z"
   },
   {
    "duration": 12,
    "start_time": "2024-09-05T10:34:57.939Z"
   },
   {
    "duration": 13,
    "start_time": "2024-09-05T10:35:14.173Z"
   },
   {
    "duration": 7,
    "start_time": "2024-09-05T10:35:44.831Z"
   },
   {
    "duration": 76,
    "start_time": "2024-09-05T10:35:48.368Z"
   },
   {
    "duration": 19,
    "start_time": "2024-09-05T10:37:11.102Z"
   },
   {
    "duration": 6,
    "start_time": "2024-09-05T10:37:15.210Z"
   },
   {
    "duration": 74,
    "start_time": "2024-09-05T10:38:36.995Z"
   },
   {
    "duration": 64,
    "start_time": "2024-09-05T10:39:08.985Z"
   },
   {
    "duration": 1441,
    "start_time": "2024-09-05T10:39:09.051Z"
   },
   {
    "duration": 1019,
    "start_time": "2024-09-05T10:39:10.494Z"
   },
   {
    "duration": 143,
    "start_time": "2024-09-05T10:39:11.515Z"
   },
   {
    "duration": 599,
    "start_time": "2024-09-05T10:39:11.659Z"
   },
   {
    "duration": 3357,
    "start_time": "2024-09-05T10:39:12.260Z"
   },
   {
    "duration": 165,
    "start_time": "2024-09-05T10:39:15.618Z"
   },
   {
    "duration": 0,
    "start_time": "2024-09-05T10:39:15.784Z"
   },
   {
    "duration": 65,
    "start_time": "2024-09-05T10:39:29.619Z"
   },
   {
    "duration": 72,
    "start_time": "2024-09-05T10:39:45.547Z"
   },
   {
    "duration": 23,
    "start_time": "2024-09-05T10:39:48.221Z"
   },
   {
    "duration": 155,
    "start_time": "2024-09-05T10:40:03.901Z"
   },
   {
    "duration": 143,
    "start_time": "2024-09-05T10:40:32.287Z"
   },
   {
    "duration": 1299,
    "start_time": "2024-09-05T10:42:32.797Z"
   },
   {
    "duration": 129,
    "start_time": "2024-09-05T10:42:38.661Z"
   },
   {
    "duration": 137,
    "start_time": "2024-09-05T10:44:23.605Z"
   },
   {
    "duration": 103,
    "start_time": "2024-09-05T10:44:44.019Z"
   },
   {
    "duration": 33,
    "start_time": "2024-09-05T10:44:54.851Z"
   },
   {
    "duration": 170,
    "start_time": "2024-09-05T10:45:16.392Z"
   },
   {
    "duration": 148,
    "start_time": "2024-09-05T10:45:42.424Z"
   },
   {
    "duration": 129,
    "start_time": "2024-09-05T10:45:53.969Z"
   },
   {
    "duration": 129,
    "start_time": "2024-09-05T10:47:09.619Z"
   },
   {
    "duration": 274,
    "start_time": "2024-09-05T10:48:08.410Z"
   },
   {
    "duration": 389,
    "start_time": "2024-09-05T10:48:36.370Z"
   },
   {
    "duration": 300,
    "start_time": "2024-09-05T10:49:35.312Z"
   },
   {
    "duration": 294,
    "start_time": "2024-09-05T10:49:45.633Z"
   },
   {
    "duration": 315,
    "start_time": "2024-09-05T10:50:37.240Z"
   },
   {
    "duration": 10,
    "start_time": "2024-09-05T10:50:45.559Z"
   },
   {
    "duration": 21,
    "start_time": "2024-09-05T10:50:55.658Z"
   },
   {
    "duration": 260,
    "start_time": "2024-09-05T10:51:23.316Z"
   },
   {
    "duration": 13,
    "start_time": "2024-09-05T10:51:42.372Z"
   },
   {
    "duration": 9,
    "start_time": "2024-09-05T10:51:46.683Z"
   },
   {
    "duration": 140,
    "start_time": "2024-09-05T10:51:58.117Z"
   },
   {
    "duration": 3290,
    "start_time": "2024-09-05T10:52:22.815Z"
   },
   {
    "duration": 242,
    "start_time": "2024-09-05T10:53:12.214Z"
   },
   {
    "duration": 250,
    "start_time": "2024-09-05T10:53:23.185Z"
   },
   {
    "duration": 223,
    "start_time": "2024-09-05T10:53:54.475Z"
   },
   {
    "duration": 309,
    "start_time": "2024-09-05T10:54:09.622Z"
   },
   {
    "duration": 230,
    "start_time": "2024-09-05T10:54:25.940Z"
   },
   {
    "duration": 3275,
    "start_time": "2024-09-05T10:54:42.934Z"
   },
   {
    "duration": 31,
    "start_time": "2024-09-05T10:54:57.987Z"
   },
   {
    "duration": 2423,
    "start_time": "2024-09-05T10:55:04.266Z"
   },
   {
    "duration": 130,
    "start_time": "2024-09-05T10:55:46.080Z"
   },
   {
    "duration": 2423,
    "start_time": "2024-09-05T10:56:19.484Z"
   },
   {
    "duration": 153,
    "start_time": "2024-09-05T11:07:12.561Z"
   },
   {
    "duration": 146,
    "start_time": "2024-09-05T11:08:06.496Z"
   },
   {
    "duration": 150,
    "start_time": "2024-09-05T11:08:34.491Z"
   },
   {
    "duration": 183,
    "start_time": "2024-09-05T11:08:37.227Z"
   },
   {
    "duration": 147,
    "start_time": "2024-09-05T11:09:14.668Z"
   },
   {
    "duration": 62,
    "start_time": "2024-09-05T11:09:18.697Z"
   },
   {
    "duration": 151,
    "start_time": "2024-09-05T11:09:22.557Z"
   },
   {
    "duration": 163,
    "start_time": "2024-09-05T11:09:44.651Z"
   },
   {
    "duration": 162,
    "start_time": "2024-09-05T11:10:08.215Z"
   },
   {
    "duration": 275,
    "start_time": "2024-09-05T11:10:17.486Z"
   },
   {
    "duration": 160,
    "start_time": "2024-09-05T11:11:42.447Z"
   },
   {
    "duration": 157,
    "start_time": "2024-09-05T11:11:55.052Z"
   },
   {
    "duration": 226,
    "start_time": "2024-09-05T11:12:55.518Z"
   },
   {
    "duration": 2342,
    "start_time": "2024-09-05T11:13:04.988Z"
   },
   {
    "duration": 148,
    "start_time": "2024-09-05T11:13:19.660Z"
   },
   {
    "duration": 228,
    "start_time": "2024-09-05T11:15:34.558Z"
   },
   {
    "duration": 253,
    "start_time": "2024-09-05T11:15:44.955Z"
   },
   {
    "duration": 47,
    "start_time": "2024-09-05T11:16:14.601Z"
   },
   {
    "duration": 1501,
    "start_time": "2024-09-05T11:16:14.649Z"
   },
   {
    "duration": 1133,
    "start_time": "2024-09-05T11:16:16.152Z"
   },
   {
    "duration": 154,
    "start_time": "2024-09-05T11:16:17.287Z"
   },
   {
    "duration": 594,
    "start_time": "2024-09-05T11:16:17.443Z"
   },
   {
    "duration": 3488,
    "start_time": "2024-09-05T11:16:18.038Z"
   },
   {
    "duration": 381,
    "start_time": "2024-09-05T11:16:21.528Z"
   },
   {
    "duration": 377,
    "start_time": "2024-09-05T11:16:21.911Z"
   },
   {
    "duration": 34,
    "start_time": "2024-09-05T11:16:22.290Z"
   },
   {
    "duration": 2253,
    "start_time": "2024-09-05T11:16:22.325Z"
   },
   {
    "duration": 22,
    "start_time": "2024-09-05T11:17:34.850Z"
   },
   {
    "duration": 376,
    "start_time": "2024-09-05T11:21:00.224Z"
   },
   {
    "duration": 24,
    "start_time": "2024-09-05T11:22:30.129Z"
   },
   {
    "duration": 50,
    "start_time": "2024-09-05T11:22:34.372Z"
   },
   {
    "duration": 207,
    "start_time": "2024-09-05T11:33:22.320Z"
   },
   {
    "duration": 23,
    "start_time": "2024-09-05T11:33:28.300Z"
   },
   {
    "duration": 1016,
    "start_time": "2024-09-05T11:34:55.087Z"
   },
   {
    "duration": 23,
    "start_time": "2024-09-05T11:35:00.307Z"
   },
   {
    "duration": 270,
    "start_time": "2024-09-05T11:35:41.984Z"
   },
   {
    "duration": 27,
    "start_time": "2024-09-05T11:35:42.779Z"
   },
   {
    "duration": 111,
    "start_time": "2024-09-05T11:35:56.415Z"
   },
   {
    "duration": 34,
    "start_time": "2024-09-05T11:36:04.301Z"
   },
   {
    "duration": 122,
    "start_time": "2024-09-05T11:37:03.499Z"
   },
   {
    "duration": 48,
    "start_time": "2024-09-05T11:38:04.846Z"
   },
   {
    "duration": 1416,
    "start_time": "2024-09-05T11:38:04.896Z"
   },
   {
    "duration": 1075,
    "start_time": "2024-09-05T11:38:06.316Z"
   },
   {
    "duration": 146,
    "start_time": "2024-09-05T11:38:07.393Z"
   },
   {
    "duration": 619,
    "start_time": "2024-09-05T11:38:07.541Z"
   },
   {
    "duration": 3342,
    "start_time": "2024-09-05T11:38:08.162Z"
   },
   {
    "duration": 370,
    "start_time": "2024-09-05T11:38:11.506Z"
   },
   {
    "duration": 386,
    "start_time": "2024-09-05T11:38:11.878Z"
   },
   {
    "duration": 40,
    "start_time": "2024-09-05T11:38:12.266Z"
   },
   {
    "duration": 2327,
    "start_time": "2024-09-05T11:38:12.307Z"
   },
   {
    "duration": 42,
    "start_time": "2024-09-05T11:38:14.636Z"
   },
   {
    "duration": 23,
    "start_time": "2024-09-05T11:38:21.605Z"
   },
   {
    "duration": 16,
    "start_time": "2024-09-05T11:41:55.946Z"
   },
   {
    "duration": 23,
    "start_time": "2024-09-05T11:41:56.309Z"
   },
   {
    "duration": 17,
    "start_time": "2024-09-05T11:42:17.504Z"
   },
   {
    "duration": 106,
    "start_time": "2024-09-05T11:46:56.907Z"
   },
   {
    "duration": 3,
    "start_time": "2024-09-05T11:46:59.227Z"
   },
   {
    "duration": 16,
    "start_time": "2024-09-05T11:46:59.374Z"
   },
   {
    "duration": 3,
    "start_time": "2024-09-05T11:47:45.454Z"
   },
   {
    "duration": 15,
    "start_time": "2024-09-05T11:47:45.700Z"
   },
   {
    "duration": 4,
    "start_time": "2024-09-05T11:48:06.383Z"
   },
   {
    "duration": 624,
    "start_time": "2024-09-05T11:48:07.219Z"
   },
   {
    "duration": 4,
    "start_time": "2024-09-05T11:48:43.629Z"
   },
   {
    "duration": 4692,
    "start_time": "2024-09-05T11:48:44.295Z"
   },
   {
    "duration": 18,
    "start_time": "2024-09-05T11:50:05.759Z"
   },
   {
    "duration": 72,
    "start_time": "2024-09-05T11:55:20.839Z"
   },
   {
    "duration": 18,
    "start_time": "2024-09-05T11:55:24.071Z"
   },
   {
    "duration": 4558,
    "start_time": "2024-09-05T11:55:36.770Z"
   },
   {
    "duration": 54,
    "start_time": "2024-09-05T11:58:19.061Z"
   },
   {
    "duration": 1573,
    "start_time": "2024-09-05T11:58:19.116Z"
   },
   {
    "duration": 0,
    "start_time": "2024-09-05T11:58:20.691Z"
   },
   {
    "duration": 0,
    "start_time": "2024-09-05T11:58:20.693Z"
   },
   {
    "duration": 0,
    "start_time": "2024-09-05T11:58:20.694Z"
   },
   {
    "duration": 0,
    "start_time": "2024-09-05T11:58:20.695Z"
   },
   {
    "duration": 0,
    "start_time": "2024-09-05T11:58:20.697Z"
   },
   {
    "duration": 0,
    "start_time": "2024-09-05T11:58:20.698Z"
   },
   {
    "duration": 0,
    "start_time": "2024-09-05T11:58:20.700Z"
   },
   {
    "duration": 0,
    "start_time": "2024-09-05T11:58:20.701Z"
   },
   {
    "duration": 0,
    "start_time": "2024-09-05T11:58:20.703Z"
   },
   {
    "duration": 0,
    "start_time": "2024-09-05T11:58:20.705Z"
   },
   {
    "duration": 0,
    "start_time": "2024-09-05T11:58:20.706Z"
   },
   {
    "duration": 0,
    "start_time": "2024-09-05T11:58:20.707Z"
   },
   {
    "duration": 0,
    "start_time": "2024-09-05T11:58:20.709Z"
   },
   {
    "duration": 0,
    "start_time": "2024-09-05T11:58:20.710Z"
   },
   {
    "duration": 1563,
    "start_time": "2024-09-05T11:59:00.287Z"
   },
   {
    "duration": 3180,
    "start_time": "2024-09-05T11:59:04.244Z"
   },
   {
    "duration": 57,
    "start_time": "2024-09-05T11:59:11.101Z"
   },
   {
    "duration": 2388,
    "start_time": "2024-09-05T11:59:11.161Z"
   },
   {
    "duration": 1511,
    "start_time": "2024-09-05T11:59:13.551Z"
   },
   {
    "duration": 1144,
    "start_time": "2024-09-05T11:59:15.064Z"
   },
   {
    "duration": 159,
    "start_time": "2024-09-05T11:59:16.211Z"
   },
   {
    "duration": 668,
    "start_time": "2024-09-05T11:59:16.372Z"
   },
   {
    "duration": 3395,
    "start_time": "2024-09-05T11:59:17.042Z"
   },
   {
    "duration": 455,
    "start_time": "2024-09-05T11:59:20.438Z"
   },
   {
    "duration": 284,
    "start_time": "2024-09-05T11:59:20.895Z"
   },
   {
    "duration": 36,
    "start_time": "2024-09-05T11:59:21.181Z"
   },
   {
    "duration": 2402,
    "start_time": "2024-09-05T11:59:21.219Z"
   },
   {
    "duration": 37,
    "start_time": "2024-09-05T11:59:23.622Z"
   },
   {
    "duration": 69,
    "start_time": "2024-09-05T11:59:23.660Z"
   },
   {
    "duration": 4526,
    "start_time": "2024-09-05T11:59:23.731Z"
   },
   {
    "duration": 97,
    "start_time": "2024-09-05T11:59:28.259Z"
   },
   {
    "duration": 123,
    "start_time": "2024-09-05T11:59:28.358Z"
   },
   {
    "duration": 0,
    "start_time": "2024-09-05T11:59:28.484Z"
   },
   {
    "duration": 19,
    "start_time": "2024-09-05T11:59:48.143Z"
   },
   {
    "duration": 886,
    "start_time": "2024-09-05T11:59:49.269Z"
   },
   {
    "duration": 4,
    "start_time": "2024-09-05T12:00:14.408Z"
   },
   {
    "duration": 9,
    "start_time": "2024-09-05T12:01:40.546Z"
   },
   {
    "duration": 4,
    "start_time": "2024-09-05T12:01:42.762Z"
   },
   {
    "duration": 6760,
    "start_time": "2024-09-05T12:02:35.979Z"
   },
   {
    "duration": 46,
    "start_time": "2024-09-05T12:03:28.682Z"
   },
   {
    "duration": 2428,
    "start_time": "2024-09-05T12:03:28.730Z"
   },
   {
    "duration": 1471,
    "start_time": "2024-09-05T12:03:31.160Z"
   },
   {
    "duration": 1035,
    "start_time": "2024-09-05T12:03:32.632Z"
   },
   {
    "duration": 141,
    "start_time": "2024-09-05T12:03:33.669Z"
   },
   {
    "duration": 629,
    "start_time": "2024-09-05T12:03:33.812Z"
   },
   {
    "duration": 3634,
    "start_time": "2024-09-05T12:03:34.443Z"
   },
   {
    "duration": 460,
    "start_time": "2024-09-05T12:03:38.079Z"
   },
   {
    "duration": 282,
    "start_time": "2024-09-05T12:03:38.541Z"
   },
   {
    "duration": 45,
    "start_time": "2024-09-05T12:03:38.825Z"
   },
   {
    "duration": 2531,
    "start_time": "2024-09-05T12:03:38.872Z"
   },
   {
    "duration": 38,
    "start_time": "2024-09-05T12:03:41.404Z"
   },
   {
    "duration": 11,
    "start_time": "2024-09-05T12:03:41.452Z"
   },
   {
    "duration": 4571,
    "start_time": "2024-09-05T12:03:41.466Z"
   },
   {
    "duration": 80,
    "start_time": "2024-09-05T12:03:46.039Z"
   },
   {
    "duration": 5,
    "start_time": "2024-09-05T12:03:46.121Z"
   },
   {
    "duration": 7528,
    "start_time": "2024-09-05T12:03:46.127Z"
   },
   {
    "duration": 6,
    "start_time": "2024-09-05T12:03:53.657Z"
   },
   {
    "duration": 956,
    "start_time": "2024-09-05T12:06:21.118Z"
   },
   {
    "duration": 114,
    "start_time": "2024-09-05T12:06:47.599Z"
   },
   {
    "duration": 20,
    "start_time": "2024-09-05T12:06:50.746Z"
   },
   {
    "duration": 410,
    "start_time": "2024-09-05T12:07:00.425Z"
   },
   {
    "duration": 406,
    "start_time": "2024-09-05T12:08:35.119Z"
   },
   {
    "duration": 410,
    "start_time": "2024-09-05T12:10:28.791Z"
   },
   {
    "duration": 418,
    "start_time": "2024-09-05T12:10:35.627Z"
   },
   {
    "duration": 450,
    "start_time": "2024-09-05T12:10:52.118Z"
   },
   {
    "duration": 501,
    "start_time": "2024-09-05T12:11:20.672Z"
   },
   {
    "duration": 507,
    "start_time": "2024-09-05T12:11:45.100Z"
   },
   {
    "duration": 467,
    "start_time": "2024-09-05T12:11:53.840Z"
   },
   {
    "duration": 140,
    "start_time": "2024-09-05T12:11:59.820Z"
   },
   {
    "duration": 408,
    "start_time": "2024-09-05T12:12:30.713Z"
   },
   {
    "duration": 462,
    "start_time": "2024-09-05T12:12:31.765Z"
   },
   {
    "duration": 26,
    "start_time": "2024-09-05T12:13:07.229Z"
   },
   {
    "duration": 11,
    "start_time": "2024-09-05T12:15:13.375Z"
   },
   {
    "duration": 300,
    "start_time": "2024-09-05T12:15:22.780Z"
   },
   {
    "duration": 293,
    "start_time": "2024-09-05T12:15:33.822Z"
   },
   {
    "duration": 297,
    "start_time": "2024-09-05T12:15:41.551Z"
   },
   {
    "duration": 1225,
    "start_time": "2024-09-05T12:17:38.894Z"
   },
   {
    "duration": 1364,
    "start_time": "2024-09-05T12:17:45.968Z"
   },
   {
    "duration": 47,
    "start_time": "2024-09-05T12:21:35.314Z"
   },
   {
    "duration": 2464,
    "start_time": "2024-09-05T12:21:35.363Z"
   },
   {
    "duration": 1498,
    "start_time": "2024-09-05T12:21:37.829Z"
   },
   {
    "duration": 1098,
    "start_time": "2024-09-05T12:21:39.329Z"
   },
   {
    "duration": 483,
    "start_time": "2024-09-05T12:21:40.430Z"
   },
   {
    "duration": 607,
    "start_time": "2024-09-05T12:21:40.915Z"
   },
   {
    "duration": 1379,
    "start_time": "2024-09-05T12:21:41.524Z"
   },
   {
    "duration": 151,
    "start_time": "2024-09-05T12:21:42.904Z"
   },
   {
    "duration": 606,
    "start_time": "2024-09-05T12:21:43.057Z"
   },
   {
    "duration": 3454,
    "start_time": "2024-09-05T12:21:43.664Z"
   },
   {
    "duration": 461,
    "start_time": "2024-09-05T12:21:47.120Z"
   },
   {
    "duration": 288,
    "start_time": "2024-09-05T12:21:47.582Z"
   },
   {
    "duration": 36,
    "start_time": "2024-09-05T12:21:47.871Z"
   },
   {
    "duration": 2334,
    "start_time": "2024-09-05T12:21:47.910Z"
   },
   {
    "duration": 42,
    "start_time": "2024-09-05T12:21:50.246Z"
   },
   {
    "duration": 8,
    "start_time": "2024-09-05T12:21:50.290Z"
   },
   {
    "duration": 4528,
    "start_time": "2024-09-05T12:21:50.299Z"
   },
   {
    "duration": 78,
    "start_time": "2024-09-05T12:21:54.829Z"
   },
   {
    "duration": 5,
    "start_time": "2024-09-05T12:21:54.908Z"
   },
   {
    "duration": 7939,
    "start_time": "2024-09-05T12:21:54.914Z"
   },
   {
    "duration": 18,
    "start_time": "2024-09-05T12:25:52.518Z"
   },
   {
    "duration": 35,
    "start_time": "2024-09-05T14:53:47.341Z"
   },
   {
    "duration": 3560,
    "start_time": "2024-09-05T14:53:47.377Z"
   },
   {
    "duration": 2285,
    "start_time": "2024-09-05T14:53:50.940Z"
   },
   {
    "duration": 1398,
    "start_time": "2024-09-05T14:53:53.227Z"
   },
   {
    "duration": 501,
    "start_time": "2024-09-05T14:53:54.627Z"
   },
   {
    "duration": 604,
    "start_time": "2024-09-05T14:53:55.129Z"
   },
   {
    "duration": 1357,
    "start_time": "2024-09-05T14:53:55.735Z"
   },
   {
    "duration": 148,
    "start_time": "2024-09-05T14:53:57.098Z"
   },
   {
    "duration": 627,
    "start_time": "2024-09-05T14:53:57.248Z"
   },
   {
    "duration": 3567,
    "start_time": "2024-09-05T14:53:57.876Z"
   },
   {
    "duration": 369,
    "start_time": "2024-09-05T14:54:01.444Z"
   },
   {
    "duration": 282,
    "start_time": "2024-09-05T14:54:01.815Z"
   },
   {
    "duration": 34,
    "start_time": "2024-09-05T14:54:02.099Z"
   },
   {
    "duration": 2344,
    "start_time": "2024-09-05T14:54:02.136Z"
   },
   {
    "duration": 44,
    "start_time": "2024-09-05T14:54:04.482Z"
   },
   {
    "duration": 12,
    "start_time": "2024-09-05T14:54:04.527Z"
   },
   {
    "duration": 4627,
    "start_time": "2024-09-05T14:54:04.541Z"
   },
   {
    "duration": 89,
    "start_time": "2024-09-05T14:54:09.170Z"
   },
   {
    "duration": 5,
    "start_time": "2024-09-05T14:54:09.261Z"
   },
   {
    "duration": 7739,
    "start_time": "2024-09-05T14:54:09.268Z"
   },
   {
    "duration": 104,
    "start_time": "2024-09-05T14:54:17.099Z"
   },
   {
    "duration": 4,
    "start_time": "2024-09-05T14:57:58.538Z"
   },
   {
    "duration": 22,
    "start_time": "2024-09-05T15:03:08.559Z"
   },
   {
    "duration": 187,
    "start_time": "2024-09-05T15:04:31.424Z"
   },
   {
    "duration": 102,
    "start_time": "2024-09-05T15:04:38.206Z"
   },
   {
    "duration": 75,
    "start_time": "2024-09-05T15:04:52.699Z"
   },
   {
    "duration": 78,
    "start_time": "2024-09-05T15:05:05.572Z"
   },
   {
    "duration": 23,
    "start_time": "2024-09-05T15:23:48.351Z"
   },
   {
    "duration": 15,
    "start_time": "2024-09-05T15:25:57.360Z"
   },
   {
    "duration": 8,
    "start_time": "2024-09-05T15:26:04.537Z"
   },
   {
    "duration": 9,
    "start_time": "2024-09-05T15:26:28.007Z"
   },
   {
    "duration": 21,
    "start_time": "2024-09-05T15:26:34.479Z"
   },
   {
    "duration": 4,
    "start_time": "2024-09-05T15:26:34.673Z"
   },
   {
    "duration": 13,
    "start_time": "2024-09-05T15:29:17.247Z"
   },
   {
    "duration": 3,
    "start_time": "2024-09-05T15:29:26.187Z"
   },
   {
    "duration": 23,
    "start_time": "2024-09-05T15:34:12.803Z"
   },
   {
    "duration": 22,
    "start_time": "2024-09-05T15:35:38.591Z"
   },
   {
    "duration": 9183,
    "start_time": "2024-09-05T15:36:03.625Z"
   },
   {
    "duration": 34,
    "start_time": "2024-09-05T15:36:18.475Z"
   },
   {
    "duration": 37,
    "start_time": "2024-09-05T15:36:27.184Z"
   },
   {
    "duration": 5863,
    "start_time": "2024-09-05T15:36:27.264Z"
   },
   {
    "duration": 1424,
    "start_time": "2024-09-05T15:36:33.131Z"
   },
   {
    "duration": 1159,
    "start_time": "2024-09-05T15:36:34.556Z"
   },
   {
    "duration": 528,
    "start_time": "2024-09-05T15:36:35.717Z"
   },
   {
    "duration": 632,
    "start_time": "2024-09-05T15:36:36.248Z"
   },
   {
    "duration": 1432,
    "start_time": "2024-09-05T15:36:36.882Z"
   },
   {
    "duration": 187,
    "start_time": "2024-09-05T15:36:38.317Z"
   },
   {
    "duration": 613,
    "start_time": "2024-09-05T15:36:38.506Z"
   },
   {
    "duration": 3487,
    "start_time": "2024-09-05T15:36:39.121Z"
   },
   {
    "duration": 391,
    "start_time": "2024-09-05T15:36:42.610Z"
   },
   {
    "duration": 402,
    "start_time": "2024-09-05T15:36:43.004Z"
   },
   {
    "duration": 35,
    "start_time": "2024-09-05T15:36:43.408Z"
   },
   {
    "duration": 2301,
    "start_time": "2024-09-05T15:36:43.444Z"
   },
   {
    "duration": 39,
    "start_time": "2024-09-05T15:36:45.748Z"
   },
   {
    "duration": 44,
    "start_time": "2024-09-05T15:36:45.789Z"
   },
   {
    "duration": 4820,
    "start_time": "2024-09-05T15:36:45.834Z"
   },
   {
    "duration": 81,
    "start_time": "2024-09-05T15:36:50.656Z"
   },
   {
    "duration": 5,
    "start_time": "2024-09-05T15:36:50.739Z"
   },
   {
    "duration": 7862,
    "start_time": "2024-09-05T15:36:50.745Z"
   },
   {
    "duration": 157,
    "start_time": "2024-09-05T15:36:58.700Z"
   },
   {
    "duration": 15,
    "start_time": "2024-09-05T15:36:58.858Z"
   },
   {
    "duration": 4,
    "start_time": "2024-09-05T15:39:35.107Z"
   },
   {
    "duration": 134,
    "start_time": "2024-09-05T15:40:03.582Z"
   },
   {
    "duration": 15,
    "start_time": "2024-09-05T15:40:12.026Z"
   },
   {
    "duration": 1938,
    "start_time": "2024-09-05T15:43:41.445Z"
   },
   {
    "duration": 2239,
    "start_time": "2024-09-05T15:46:05.800Z"
   },
   {
    "duration": 104,
    "start_time": "2024-09-05T15:46:08.734Z"
   },
   {
    "duration": 34,
    "start_time": "2024-09-05T15:53:14.668Z"
   },
   {
    "duration": 13,
    "start_time": "2024-09-05T15:55:08.796Z"
   },
   {
    "duration": 5,
    "start_time": "2024-09-05T15:55:18.087Z"
   },
   {
    "duration": 59583,
    "start_time": "2024-09-05T15:57:16.743Z"
   },
   {
    "duration": 5,
    "start_time": "2024-09-05T15:59:32.471Z"
   },
   {
    "duration": 5,
    "start_time": "2024-09-05T15:59:55.020Z"
   },
   {
    "duration": 8924,
    "start_time": "2024-09-05T16:01:12.082Z"
   },
   {
    "duration": 5,
    "start_time": "2024-09-05T16:03:24.763Z"
   },
   {
    "duration": 23918,
    "start_time": "2024-09-05T16:03:28.781Z"
   },
   {
    "duration": 11053,
    "start_time": "2024-09-05T16:04:07.249Z"
   },
   {
    "duration": 5,
    "start_time": "2024-09-05T16:05:07.848Z"
   },
   {
    "duration": 12071,
    "start_time": "2024-09-05T16:05:15.428Z"
   },
   {
    "duration": 57579,
    "start_time": "2024-09-05T16:08:29.846Z"
   },
   {
    "duration": 31807,
    "start_time": "2024-09-05T16:09:50.911Z"
   },
   {
    "duration": 47,
    "start_time": "2024-09-06T06:12:53.918Z"
   },
   {
    "duration": 10069,
    "start_time": "2024-09-06T06:12:53.967Z"
   },
   {
    "duration": 1581,
    "start_time": "2024-09-06T06:13:04.038Z"
   },
   {
    "duration": 3114,
    "start_time": "2024-09-06T06:13:05.621Z"
   },
   {
    "duration": 442,
    "start_time": "2024-09-06T06:13:08.736Z"
   },
   {
    "duration": 578,
    "start_time": "2024-09-06T06:13:09.179Z"
   },
   {
    "duration": 1335,
    "start_time": "2024-09-06T06:13:09.758Z"
   },
   {
    "duration": 144,
    "start_time": "2024-09-06T06:13:11.094Z"
   },
   {
    "duration": 595,
    "start_time": "2024-09-06T06:13:11.240Z"
   },
   {
    "duration": 3350,
    "start_time": "2024-09-06T06:13:11.837Z"
   },
   {
    "duration": 458,
    "start_time": "2024-09-06T06:13:15.189Z"
   },
   {
    "duration": 283,
    "start_time": "2024-09-06T06:13:15.649Z"
   },
   {
    "duration": 40,
    "start_time": "2024-09-06T06:13:15.934Z"
   },
   {
    "duration": 2395,
    "start_time": "2024-09-06T06:13:15.976Z"
   },
   {
    "duration": 30,
    "start_time": "2024-09-06T06:13:18.372Z"
   },
   {
    "duration": 3,
    "start_time": "2024-09-06T06:13:18.404Z"
   },
   {
    "duration": 4532,
    "start_time": "2024-09-06T06:13:18.408Z"
   },
   {
    "duration": 78,
    "start_time": "2024-09-06T06:13:22.941Z"
   },
   {
    "duration": 5,
    "start_time": "2024-09-06T06:13:23.021Z"
   },
   {
    "duration": 7628,
    "start_time": "2024-09-06T06:13:23.027Z"
   },
   {
    "duration": 151,
    "start_time": "2024-09-06T06:13:30.657Z"
   },
   {
    "duration": 2036,
    "start_time": "2024-09-06T06:13:30.809Z"
   },
   {
    "duration": 9515,
    "start_time": "2024-09-06T06:13:32.847Z"
   },
   {
    "duration": 8662,
    "start_time": "2024-09-06T06:24:59.809Z"
   },
   {
    "duration": 1080,
    "start_time": "2024-09-06T06:25:08.473Z"
   },
   {
    "duration": 4,
    "start_time": "2024-09-06T06:25:09.555Z"
   },
   {
    "duration": 3371,
    "start_time": "2024-09-06T08:16:00.296Z"
   },
   {
    "duration": 490,
    "start_time": "2024-09-06T08:16:03.669Z"
   },
   {
    "duration": 6,
    "start_time": "2024-09-06T08:16:04.161Z"
   },
   {
    "duration": 47,
    "start_time": "2024-09-06T08:18:25.882Z"
   },
   {
    "duration": 5339,
    "start_time": "2024-09-06T08:18:25.931Z"
   },
   {
    "duration": 1393,
    "start_time": "2024-09-06T08:18:31.272Z"
   },
   {
    "duration": 1085,
    "start_time": "2024-09-06T08:18:32.666Z"
   },
   {
    "duration": 464,
    "start_time": "2024-09-06T08:18:33.752Z"
   },
   {
    "duration": 594,
    "start_time": "2024-09-06T08:18:34.218Z"
   },
   {
    "duration": 1335,
    "start_time": "2024-09-06T08:18:34.814Z"
   },
   {
    "duration": 142,
    "start_time": "2024-09-06T08:18:36.153Z"
   },
   {
    "duration": 576,
    "start_time": "2024-09-06T08:18:36.297Z"
   },
   {
    "duration": 3299,
    "start_time": "2024-09-06T08:18:36.875Z"
   },
   {
    "duration": 357,
    "start_time": "2024-09-06T08:18:40.176Z"
   },
   {
    "duration": 366,
    "start_time": "2024-09-06T08:18:40.534Z"
   },
   {
    "duration": 35,
    "start_time": "2024-09-06T08:18:40.901Z"
   },
   {
    "duration": 2238,
    "start_time": "2024-09-06T08:18:40.938Z"
   },
   {
    "duration": 35,
    "start_time": "2024-09-06T08:18:43.178Z"
   },
   {
    "duration": 16,
    "start_time": "2024-09-06T08:18:43.214Z"
   },
   {
    "duration": 4614,
    "start_time": "2024-09-06T08:18:43.231Z"
   },
   {
    "duration": 71,
    "start_time": "2024-09-06T08:18:47.853Z"
   },
   {
    "duration": 5,
    "start_time": "2024-09-06T08:18:47.926Z"
   },
   {
    "duration": 7528,
    "start_time": "2024-09-06T08:18:47.933Z"
   },
   {
    "duration": 229,
    "start_time": "2024-09-06T08:18:55.462Z"
   },
   {
    "duration": 1997,
    "start_time": "2024-09-06T08:18:55.692Z"
   },
   {
    "duration": 9382,
    "start_time": "2024-09-06T08:18:57.691Z"
   },
   {
    "duration": 998,
    "start_time": "2024-09-06T08:19:07.075Z"
   },
   {
    "duration": 82,
    "start_time": "2024-09-06T08:19:08.075Z"
   },
   {
    "duration": 6895,
    "start_time": "2024-09-06T08:19:08.159Z"
   },
   {
    "duration": 611,
    "start_time": "2024-09-06T08:19:15.056Z"
   },
   {
    "duration": 5,
    "start_time": "2024-09-06T08:19:15.668Z"
   },
   {
    "duration": 55,
    "start_time": "2024-09-06T08:21:02.279Z"
   },
   {
    "duration": 5549,
    "start_time": "2024-09-06T08:21:02.336Z"
   },
   {
    "duration": 1318,
    "start_time": "2024-09-06T08:21:07.886Z"
   },
   {
    "duration": 1017,
    "start_time": "2024-09-06T08:21:09.205Z"
   },
   {
    "duration": 475,
    "start_time": "2024-09-06T08:21:10.224Z"
   },
   {
    "duration": 559,
    "start_time": "2024-09-06T08:21:10.700Z"
   },
   {
    "duration": 1346,
    "start_time": "2024-09-06T08:21:11.260Z"
   },
   {
    "duration": 148,
    "start_time": "2024-09-06T08:21:12.608Z"
   },
   {
    "duration": 577,
    "start_time": "2024-09-06T08:21:12.758Z"
   },
   {
    "duration": 3369,
    "start_time": "2024-09-06T08:21:13.336Z"
   },
   {
    "duration": 361,
    "start_time": "2024-09-06T08:21:16.707Z"
   },
   {
    "duration": 402,
    "start_time": "2024-09-06T08:21:17.070Z"
   },
   {
    "duration": 33,
    "start_time": "2024-09-06T08:21:17.474Z"
   },
   {
    "duration": 2249,
    "start_time": "2024-09-06T08:21:17.509Z"
   },
   {
    "duration": 36,
    "start_time": "2024-09-06T08:21:19.759Z"
   },
   {
    "duration": 8,
    "start_time": "2024-09-06T08:21:19.797Z"
   },
   {
    "duration": 4656,
    "start_time": "2024-09-06T08:21:19.806Z"
   },
   {
    "duration": 75,
    "start_time": "2024-09-06T08:21:24.464Z"
   },
   {
    "duration": 12,
    "start_time": "2024-09-06T08:21:24.541Z"
   },
   {
    "duration": 7800,
    "start_time": "2024-09-06T08:21:24.555Z"
   },
   {
    "duration": 152,
    "start_time": "2024-09-06T08:21:32.358Z"
   },
   {
    "duration": 1956,
    "start_time": "2024-09-06T08:21:32.512Z"
   },
   {
    "duration": 9798,
    "start_time": "2024-09-06T08:21:34.469Z"
   },
   {
    "duration": 1084,
    "start_time": "2024-09-06T08:21:44.269Z"
   },
   {
    "duration": 5,
    "start_time": "2024-09-06T08:21:45.355Z"
   },
   {
    "duration": 4909,
    "start_time": "2024-09-06T08:21:45.362Z"
   },
   {
    "duration": 689,
    "start_time": "2024-09-06T08:21:50.273Z"
   },
   {
    "duration": 4,
    "start_time": "2024-09-06T08:21:50.964Z"
   },
   {
    "duration": 8794,
    "start_time": "2024-09-06T08:21:50.970Z"
   },
   {
    "duration": 900,
    "start_time": "2024-09-06T08:21:59.765Z"
   },
   {
    "duration": 5,
    "start_time": "2024-09-06T08:22:00.667Z"
   },
   {
    "duration": 132,
    "start_time": "2024-09-06T08:36:48.281Z"
   },
   {
    "duration": 10,
    "start_time": "2024-09-06T08:36:52.668Z"
   },
   {
    "duration": 4,
    "start_time": "2024-09-06T08:37:03.093Z"
   },
   {
    "duration": 22404,
    "start_time": "2024-09-06T08:37:41.451Z"
   },
   {
    "duration": 101,
    "start_time": "2024-09-06T08:38:03.857Z"
   },
   {
    "duration": 94,
    "start_time": "2024-09-06T08:38:03.960Z"
   },
   {
    "duration": 4,
    "start_time": "2024-09-06T08:38:39.253Z"
   },
   {
    "duration": 51,
    "start_time": "2024-09-06T08:40:42.131Z"
   },
   {
    "duration": 5429,
    "start_time": "2024-09-06T08:40:42.184Z"
   },
   {
    "duration": 2325,
    "start_time": "2024-09-06T08:40:47.615Z"
   },
   {
    "duration": 3178,
    "start_time": "2024-09-06T08:40:49.942Z"
   },
   {
    "duration": 503,
    "start_time": "2024-09-06T08:40:53.122Z"
   },
   {
    "duration": 619,
    "start_time": "2024-09-06T08:40:53.626Z"
   },
   {
    "duration": 1330,
    "start_time": "2024-09-06T08:40:54.247Z"
   },
   {
    "duration": 143,
    "start_time": "2024-09-06T08:40:55.579Z"
   },
   {
    "duration": 591,
    "start_time": "2024-09-06T08:40:55.724Z"
   },
   {
    "duration": 3358,
    "start_time": "2024-09-06T08:40:56.317Z"
   },
   {
    "duration": 0,
    "start_time": "2024-09-06T08:40:59.678Z"
   },
   {
    "duration": 0,
    "start_time": "2024-09-06T08:40:59.679Z"
   },
   {
    "duration": 0,
    "start_time": "2024-09-06T08:40:59.680Z"
   },
   {
    "duration": 0,
    "start_time": "2024-09-06T08:40:59.681Z"
   },
   {
    "duration": 0,
    "start_time": "2024-09-06T08:40:59.682Z"
   },
   {
    "duration": 0,
    "start_time": "2024-09-06T08:40:59.683Z"
   },
   {
    "duration": 0,
    "start_time": "2024-09-06T08:40:59.684Z"
   },
   {
    "duration": 0,
    "start_time": "2024-09-06T08:40:59.685Z"
   },
   {
    "duration": 0,
    "start_time": "2024-09-06T08:40:59.687Z"
   },
   {
    "duration": 0,
    "start_time": "2024-09-06T08:40:59.688Z"
   },
   {
    "duration": 0,
    "start_time": "2024-09-06T08:40:59.688Z"
   },
   {
    "duration": 0,
    "start_time": "2024-09-06T08:40:59.689Z"
   },
   {
    "duration": 0,
    "start_time": "2024-09-06T08:40:59.691Z"
   },
   {
    "duration": 0,
    "start_time": "2024-09-06T08:40:59.691Z"
   },
   {
    "duration": 0,
    "start_time": "2024-09-06T08:40:59.693Z"
   },
   {
    "duration": 0,
    "start_time": "2024-09-06T08:40:59.694Z"
   },
   {
    "duration": 0,
    "start_time": "2024-09-06T08:40:59.695Z"
   },
   {
    "duration": 0,
    "start_time": "2024-09-06T08:40:59.696Z"
   },
   {
    "duration": 0,
    "start_time": "2024-09-06T08:40:59.697Z"
   },
   {
    "duration": 0,
    "start_time": "2024-09-06T08:40:59.698Z"
   },
   {
    "duration": 0,
    "start_time": "2024-09-06T08:40:59.699Z"
   },
   {
    "duration": 0,
    "start_time": "2024-09-06T08:40:59.700Z"
   },
   {
    "duration": 0,
    "start_time": "2024-09-06T08:40:59.701Z"
   },
   {
    "duration": 0,
    "start_time": "2024-09-06T08:40:59.702Z"
   },
   {
    "duration": 0,
    "start_time": "2024-09-06T08:40:59.703Z"
   },
   {
    "duration": 0,
    "start_time": "2024-09-06T08:40:59.703Z"
   },
   {
    "duration": 0,
    "start_time": "2024-09-06T08:40:59.704Z"
   },
   {
    "duration": 67,
    "start_time": "2024-09-06T08:42:05.751Z"
   },
   {
    "duration": 67,
    "start_time": "2024-09-06T08:42:10.696Z"
   },
   {
    "duration": 5488,
    "start_time": "2024-09-06T08:42:10.783Z"
   },
   {
    "duration": 1375,
    "start_time": "2024-09-06T08:42:16.274Z"
   },
   {
    "duration": 1082,
    "start_time": "2024-09-06T08:42:17.650Z"
   },
   {
    "duration": 495,
    "start_time": "2024-09-06T08:42:18.734Z"
   },
   {
    "duration": 594,
    "start_time": "2024-09-06T08:42:19.231Z"
   },
   {
    "duration": 1398,
    "start_time": "2024-09-06T08:42:19.826Z"
   },
   {
    "duration": 193,
    "start_time": "2024-09-06T08:42:21.226Z"
   },
   {
    "duration": 626,
    "start_time": "2024-09-06T08:42:21.421Z"
   },
   {
    "duration": 3369,
    "start_time": "2024-09-06T08:42:22.048Z"
   },
   {
    "duration": 385,
    "start_time": "2024-09-06T08:42:25.418Z"
   },
   {
    "duration": 394,
    "start_time": "2024-09-06T08:42:25.805Z"
   },
   {
    "duration": 35,
    "start_time": "2024-09-06T08:42:26.201Z"
   },
   {
    "duration": 2280,
    "start_time": "2024-09-06T08:42:26.237Z"
   },
   {
    "duration": 44,
    "start_time": "2024-09-06T08:42:28.520Z"
   },
   {
    "duration": 47,
    "start_time": "2024-09-06T08:42:28.566Z"
   },
   {
    "duration": 4672,
    "start_time": "2024-09-06T08:42:28.614Z"
   },
   {
    "duration": 84,
    "start_time": "2024-09-06T08:42:33.288Z"
   },
   {
    "duration": 5,
    "start_time": "2024-09-06T08:42:33.374Z"
   },
   {
    "duration": 7875,
    "start_time": "2024-09-06T08:42:33.380Z"
   },
   {
    "duration": 149,
    "start_time": "2024-09-06T08:42:41.257Z"
   },
   {
    "duration": 2122,
    "start_time": "2024-09-06T08:42:41.407Z"
   },
   {
    "duration": 8834,
    "start_time": "2024-09-06T08:42:43.530Z"
   },
   {
    "duration": 1004,
    "start_time": "2024-09-06T08:42:52.366Z"
   },
   {
    "duration": 5,
    "start_time": "2024-09-06T08:42:53.372Z"
   },
   {
    "duration": 5887,
    "start_time": "2024-09-06T08:42:53.378Z"
   },
   {
    "duration": 694,
    "start_time": "2024-09-06T08:42:59.266Z"
   },
   {
    "duration": 4,
    "start_time": "2024-09-06T08:42:59.962Z"
   },
   {
    "duration": 7203,
    "start_time": "2024-09-06T08:42:59.968Z"
   },
   {
    "duration": 816,
    "start_time": "2024-09-06T08:43:07.252Z"
   },
   {
    "duration": 85,
    "start_time": "2024-09-06T08:43:08.070Z"
   },
   {
    "duration": 19397,
    "start_time": "2024-09-06T08:43:08.157Z"
   },
   {
    "duration": 99,
    "start_time": "2024-09-06T08:43:27.556Z"
   },
   {
    "duration": 6,
    "start_time": "2024-09-06T08:43:27.658Z"
   },
   {
    "duration": 7251,
    "start_time": "2024-09-06T08:43:27.754Z"
   },
   {
    "duration": 124,
    "start_time": "2024-09-06T08:43:35.007Z"
   },
   {
    "duration": 6,
    "start_time": "2024-09-06T08:43:35.133Z"
   },
   {
    "duration": 52,
    "start_time": "2024-09-06T09:20:53.438Z"
   },
   {
    "duration": 5511,
    "start_time": "2024-09-06T09:20:53.492Z"
   },
   {
    "duration": 1398,
    "start_time": "2024-09-06T09:20:59.005Z"
   },
   {
    "duration": 1133,
    "start_time": "2024-09-06T09:21:00.405Z"
   },
   {
    "duration": 490,
    "start_time": "2024-09-06T09:21:01.540Z"
   },
   {
    "duration": 638,
    "start_time": "2024-09-06T09:21:02.032Z"
   },
   {
    "duration": 1403,
    "start_time": "2024-09-06T09:21:02.672Z"
   },
   {
    "duration": 138,
    "start_time": "2024-09-06T09:21:04.077Z"
   },
   {
    "duration": 623,
    "start_time": "2024-09-06T09:21:04.217Z"
   },
   {
    "duration": 3361,
    "start_time": "2024-09-06T09:21:04.841Z"
   },
   {
    "duration": 390,
    "start_time": "2024-09-06T09:21:08.204Z"
   },
   {
    "duration": 375,
    "start_time": "2024-09-06T09:21:08.596Z"
   },
   {
    "duration": 34,
    "start_time": "2024-09-06T09:21:08.972Z"
   },
   {
    "duration": 2206,
    "start_time": "2024-09-06T09:21:09.009Z"
   },
   {
    "duration": 46,
    "start_time": "2024-09-06T09:21:11.216Z"
   },
   {
    "duration": 12,
    "start_time": "2024-09-06T09:21:11.263Z"
   },
   {
    "duration": 4651,
    "start_time": "2024-09-06T09:21:11.277Z"
   },
   {
    "duration": 85,
    "start_time": "2024-09-06T09:21:15.930Z"
   },
   {
    "duration": 5,
    "start_time": "2024-09-06T09:21:16.016Z"
   },
   {
    "duration": 7731,
    "start_time": "2024-09-06T09:21:16.023Z"
   },
   {
    "duration": 151,
    "start_time": "2024-09-06T09:21:23.756Z"
   },
   {
    "duration": 2020,
    "start_time": "2024-09-06T09:21:23.909Z"
   },
   {
    "duration": 8433,
    "start_time": "2024-09-06T09:21:25.931Z"
   },
   {
    "duration": 1000,
    "start_time": "2024-09-06T09:21:34.365Z"
   },
   {
    "duration": 5,
    "start_time": "2024-09-06T09:21:35.367Z"
   },
   {
    "duration": 5185,
    "start_time": "2024-09-06T09:21:35.373Z"
   },
   {
    "duration": 605,
    "start_time": "2024-09-06T09:21:40.560Z"
   },
   {
    "duration": 4,
    "start_time": "2024-09-06T09:21:41.167Z"
   },
   {
    "duration": 7390,
    "start_time": "2024-09-06T09:21:41.173Z"
   },
   {
    "duration": 900,
    "start_time": "2024-09-06T09:21:48.565Z"
   },
   {
    "duration": 4,
    "start_time": "2024-09-06T09:21:49.467Z"
   },
   {
    "duration": 19580,
    "start_time": "2024-09-06T09:21:49.473Z"
   },
   {
    "duration": 102,
    "start_time": "2024-09-06T09:22:09.056Z"
   },
   {
    "duration": 94,
    "start_time": "2024-09-06T09:22:09.160Z"
   },
   {
    "duration": 7236,
    "start_time": "2024-09-06T09:22:09.256Z"
   },
   {
    "duration": 122,
    "start_time": "2024-09-06T09:22:16.493Z"
   },
   {
    "duration": 4,
    "start_time": "2024-09-06T09:22:16.616Z"
   },
   {
    "duration": 923,
    "start_time": "2024-09-06T09:22:36.551Z"
   },
   {
    "duration": 939,
    "start_time": "2024-09-06T09:22:43.032Z"
   },
   {
    "duration": 14943,
    "start_time": "2024-09-06T09:23:31.917Z"
   },
   {
    "duration": 3122,
    "start_time": "2024-09-06T09:23:46.861Z"
   },
   {
    "duration": 72,
    "start_time": "2024-09-06T09:23:49.985Z"
   },
   {
    "duration": 48,
    "start_time": "2024-09-06T09:26:04.894Z"
   },
   {
    "duration": 5465,
    "start_time": "2024-09-06T09:26:04.944Z"
   },
   {
    "duration": 1357,
    "start_time": "2024-09-06T09:26:10.411Z"
   },
   {
    "duration": 1114,
    "start_time": "2024-09-06T09:26:11.770Z"
   },
   {
    "duration": 497,
    "start_time": "2024-09-06T09:26:12.886Z"
   },
   {
    "duration": 597,
    "start_time": "2024-09-06T09:26:13.385Z"
   },
   {
    "duration": 1395,
    "start_time": "2024-09-06T09:26:13.984Z"
   },
   {
    "duration": 141,
    "start_time": "2024-09-06T09:26:15.381Z"
   },
   {
    "duration": 606,
    "start_time": "2024-09-06T09:26:15.523Z"
   },
   {
    "duration": 3479,
    "start_time": "2024-09-06T09:26:16.131Z"
   },
   {
    "duration": 393,
    "start_time": "2024-09-06T09:26:19.612Z"
   },
   {
    "duration": 394,
    "start_time": "2024-09-06T09:26:20.007Z"
   },
   {
    "duration": 34,
    "start_time": "2024-09-06T09:26:20.403Z"
   },
   {
    "duration": 2467,
    "start_time": "2024-09-06T09:26:20.440Z"
   },
   {
    "duration": 44,
    "start_time": "2024-09-06T09:26:22.909Z"
   },
   {
    "duration": 17,
    "start_time": "2024-09-06T09:26:22.955Z"
   },
   {
    "duration": 4630,
    "start_time": "2024-09-06T09:26:22.974Z"
   },
   {
    "duration": 81,
    "start_time": "2024-09-06T09:26:27.606Z"
   },
   {
    "duration": 4,
    "start_time": "2024-09-06T09:26:27.689Z"
   },
   {
    "duration": 7660,
    "start_time": "2024-09-06T09:26:27.695Z"
   },
   {
    "duration": 151,
    "start_time": "2024-09-06T09:26:35.357Z"
   },
   {
    "duration": 2040,
    "start_time": "2024-09-06T09:26:35.510Z"
   },
   {
    "duration": 8812,
    "start_time": "2024-09-06T09:26:37.552Z"
   },
   {
    "duration": 3092,
    "start_time": "2024-09-06T09:26:46.365Z"
   },
   {
    "duration": 4,
    "start_time": "2024-09-06T09:26:49.459Z"
   },
   {
    "duration": 4999,
    "start_time": "2024-09-06T09:26:49.465Z"
   },
   {
    "duration": 1900,
    "start_time": "2024-09-06T09:26:54.465Z"
   },
   {
    "duration": 5,
    "start_time": "2024-09-06T09:26:56.367Z"
   },
   {
    "duration": 7284,
    "start_time": "2024-09-06T09:26:56.374Z"
   },
   {
    "duration": 2708,
    "start_time": "2024-09-06T09:27:03.659Z"
   },
   {
    "duration": 5,
    "start_time": "2024-09-06T09:27:06.369Z"
   },
   {
    "duration": 19579,
    "start_time": "2024-09-06T09:27:06.375Z"
   },
   {
    "duration": 200,
    "start_time": "2024-09-06T09:27:25.956Z"
   },
   {
    "duration": 97,
    "start_time": "2024-09-06T09:27:26.158Z"
   },
   {
    "duration": 7202,
    "start_time": "2024-09-06T09:27:26.257Z"
   },
   {
    "duration": 355,
    "start_time": "2024-09-06T09:27:33.461Z"
   },
   {
    "duration": 6,
    "start_time": "2024-09-06T09:27:33.818Z"
   },
   {
    "duration": 1032,
    "start_time": "2024-09-06T09:27:33.826Z"
   },
   {
    "duration": 3519,
    "start_time": "2024-09-06T09:32:46.323Z"
   },
   {
    "duration": 180,
    "start_time": "2024-09-06T09:32:49.843Z"
   },
   {
    "duration": 5,
    "start_time": "2024-09-06T09:32:50.025Z"
   },
   {
    "duration": 7044,
    "start_time": "2024-09-06T09:34:47.451Z"
   },
   {
    "duration": 339,
    "start_time": "2024-09-06T09:34:54.497Z"
   },
   {
    "duration": 5,
    "start_time": "2024-09-06T09:34:54.838Z"
   },
   {
    "duration": 116,
    "start_time": "2024-09-06T09:35:02.208Z"
   },
   {
    "duration": 3518,
    "start_time": "2024-09-06T09:35:09.518Z"
   },
   {
    "duration": 182,
    "start_time": "2024-09-06T09:35:13.038Z"
   },
   {
    "duration": 5,
    "start_time": "2024-09-06T09:35:13.222Z"
   },
   {
    "duration": 71,
    "start_time": "2024-09-06T09:35:17.234Z"
   },
   {
    "duration": 847,
    "start_time": "2024-09-06T09:35:21.808Z"
   },
   {
    "duration": 59,
    "start_time": "2024-09-06T09:35:59.261Z"
   },
   {
    "duration": 5469,
    "start_time": "2024-09-06T09:35:59.322Z"
   },
   {
    "duration": 1332,
    "start_time": "2024-09-06T09:36:04.793Z"
   },
   {
    "duration": 1068,
    "start_time": "2024-09-06T09:36:06.128Z"
   },
   {
    "duration": 517,
    "start_time": "2024-09-06T09:36:07.198Z"
   },
   {
    "duration": 600,
    "start_time": "2024-09-06T09:36:07.716Z"
   },
   {
    "duration": 1402,
    "start_time": "2024-09-06T09:36:08.317Z"
   },
   {
    "duration": 141,
    "start_time": "2024-09-06T09:36:09.721Z"
   },
   {
    "duration": 587,
    "start_time": "2024-09-06T09:36:09.864Z"
   },
   {
    "duration": 3349,
    "start_time": "2024-09-06T09:36:10.453Z"
   },
   {
    "duration": 374,
    "start_time": "2024-09-06T09:36:13.803Z"
   },
   {
    "duration": 397,
    "start_time": "2024-09-06T09:36:14.179Z"
   },
   {
    "duration": 35,
    "start_time": "2024-09-06T09:36:14.577Z"
   },
   {
    "duration": 2300,
    "start_time": "2024-09-06T09:36:14.614Z"
   },
   {
    "duration": 45,
    "start_time": "2024-09-06T09:36:16.916Z"
   },
   {
    "duration": 18,
    "start_time": "2024-09-06T09:36:16.963Z"
   },
   {
    "duration": 4816,
    "start_time": "2024-09-06T09:36:16.983Z"
   },
   {
    "duration": 87,
    "start_time": "2024-09-06T09:36:21.801Z"
   },
   {
    "duration": 4,
    "start_time": "2024-09-06T09:36:21.890Z"
   },
   {
    "duration": 7558,
    "start_time": "2024-09-06T09:36:21.895Z"
   },
   {
    "duration": 148,
    "start_time": "2024-09-06T09:36:29.461Z"
   },
   {
    "duration": 2028,
    "start_time": "2024-09-06T09:36:29.611Z"
   },
   {
    "duration": 10518,
    "start_time": "2024-09-06T09:36:31.641Z"
   },
   {
    "duration": 3002,
    "start_time": "2024-09-06T09:36:42.161Z"
   },
   {
    "duration": 5,
    "start_time": "2024-09-06T09:36:45.165Z"
   },
   {
    "duration": 5291,
    "start_time": "2024-09-06T09:36:45.172Z"
   },
   {
    "duration": 1989,
    "start_time": "2024-09-06T09:36:50.464Z"
   },
   {
    "duration": 5,
    "start_time": "2024-09-06T09:36:52.457Z"
   },
   {
    "duration": 11096,
    "start_time": "2024-09-06T09:36:52.464Z"
   },
   {
    "duration": 2700,
    "start_time": "2024-09-06T09:37:03.563Z"
   },
   {
    "duration": 5,
    "start_time": "2024-09-06T09:37:06.265Z"
   },
   {
    "duration": 19484,
    "start_time": "2024-09-06T09:37:06.271Z"
   },
   {
    "duration": 200,
    "start_time": "2024-09-06T09:37:25.757Z"
   },
   {
    "duration": 94,
    "start_time": "2024-09-06T09:37:25.960Z"
   },
   {
    "duration": 3642,
    "start_time": "2024-09-06T09:37:26.056Z"
   },
   {
    "duration": 183,
    "start_time": "2024-09-06T09:37:29.699Z"
   },
   {
    "duration": 6,
    "start_time": "2024-09-06T09:37:29.884Z"
   },
   {
    "duration": 865,
    "start_time": "2024-09-06T09:37:29.892Z"
   },
   {
    "duration": 38,
    "start_time": "2024-09-06T18:03:56.869Z"
   },
   {
    "duration": 9945,
    "start_time": "2024-09-06T18:03:56.909Z"
   },
   {
    "duration": 1597,
    "start_time": "2024-09-06T18:04:06.856Z"
   },
   {
    "duration": 1460,
    "start_time": "2024-09-06T18:04:08.455Z"
   },
   {
    "duration": 510,
    "start_time": "2024-09-06T18:04:09.916Z"
   },
   {
    "duration": 570,
    "start_time": "2024-09-06T18:04:10.427Z"
   },
   {
    "duration": 1312,
    "start_time": "2024-09-06T18:04:10.998Z"
   },
   {
    "duration": 137,
    "start_time": "2024-09-06T18:04:12.312Z"
   },
   {
    "duration": 582,
    "start_time": "2024-09-06T18:04:12.451Z"
   },
   {
    "duration": 3401,
    "start_time": "2024-09-06T18:04:13.035Z"
   },
   {
    "duration": 475,
    "start_time": "2024-09-06T18:04:16.438Z"
   },
   {
    "duration": 278,
    "start_time": "2024-09-06T18:04:16.914Z"
   },
   {
    "duration": 34,
    "start_time": "2024-09-06T18:04:17.194Z"
   },
   {
    "duration": 2323,
    "start_time": "2024-09-06T18:04:17.229Z"
   },
   {
    "duration": 39,
    "start_time": "2024-09-06T18:04:19.554Z"
   },
   {
    "duration": 49,
    "start_time": "2024-09-06T18:04:19.595Z"
   },
   {
    "duration": 4534,
    "start_time": "2024-09-06T18:04:19.646Z"
   },
   {
    "duration": 75,
    "start_time": "2024-09-06T18:04:24.182Z"
   },
   {
    "duration": 5,
    "start_time": "2024-09-06T18:04:24.259Z"
   },
   {
    "duration": 10726,
    "start_time": "2024-09-06T18:04:24.265Z"
   },
   {
    "duration": 159,
    "start_time": "2024-09-06T18:04:34.993Z"
   },
   {
    "duration": 1939,
    "start_time": "2024-09-06T18:04:35.154Z"
   },
   {
    "duration": 237499,
    "start_time": "2024-09-06T18:04:37.094Z"
   },
   {
    "duration": 2933,
    "start_time": "2024-09-06T18:08:34.594Z"
   },
   {
    "duration": 5,
    "start_time": "2024-09-06T18:08:37.528Z"
   },
   {
    "duration": 41667,
    "start_time": "2024-09-06T18:08:37.534Z"
   },
   {
    "duration": 1887,
    "start_time": "2024-09-06T18:09:19.203Z"
   },
   {
    "duration": 4,
    "start_time": "2024-09-06T18:09:21.093Z"
   },
   {
    "duration": 153692,
    "start_time": "2024-09-06T18:09:21.099Z"
   },
   {
    "duration": 2531,
    "start_time": "2024-09-06T18:11:54.793Z"
   },
   {
    "duration": 6,
    "start_time": "2024-09-06T18:11:57.326Z"
   },
   {
    "duration": 25801,
    "start_time": "2024-09-06T18:11:57.389Z"
   },
   {
    "duration": 201,
    "start_time": "2024-09-06T18:12:23.192Z"
   },
   {
    "duration": 94,
    "start_time": "2024-09-06T18:12:23.395Z"
   },
   {
    "duration": 3576,
    "start_time": "2024-09-06T18:12:23.491Z"
   },
   {
    "duration": 186,
    "start_time": "2024-09-06T18:12:27.069Z"
   },
   {
    "duration": 5,
    "start_time": "2024-09-06T18:12:27.257Z"
   },
   {
    "duration": 853,
    "start_time": "2024-09-06T18:12:27.263Z"
   },
   {
    "duration": 34,
    "start_time": "2024-09-07T06:10:40.896Z"
   },
   {
    "duration": 9944,
    "start_time": "2024-09-07T06:10:40.978Z"
   },
   {
    "duration": 1509,
    "start_time": "2024-09-07T06:10:50.924Z"
   },
   {
    "duration": 1338,
    "start_time": "2024-09-07T06:10:52.435Z"
   },
   {
    "duration": 457,
    "start_time": "2024-09-07T06:10:53.774Z"
   },
   {
    "duration": 598,
    "start_time": "2024-09-07T06:10:54.233Z"
   },
   {
    "duration": 1332,
    "start_time": "2024-09-07T06:10:54.833Z"
   },
   {
    "duration": 145,
    "start_time": "2024-09-07T06:10:56.167Z"
   },
   {
    "duration": 563,
    "start_time": "2024-09-07T06:10:56.314Z"
   },
   {
    "duration": 3342,
    "start_time": "2024-09-07T06:10:56.878Z"
   },
   {
    "duration": 454,
    "start_time": "2024-09-07T06:11:00.222Z"
   },
   {
    "duration": 272,
    "start_time": "2024-09-07T06:11:00.678Z"
   },
   {
    "duration": 32,
    "start_time": "2024-09-07T06:11:00.952Z"
   },
   {
    "duration": 2288,
    "start_time": "2024-09-07T06:11:00.985Z"
   },
   {
    "duration": 43,
    "start_time": "2024-09-07T06:11:03.277Z"
   },
   {
    "duration": 23,
    "start_time": "2024-09-07T06:11:03.321Z"
   },
   {
    "duration": 4367,
    "start_time": "2024-09-07T06:11:03.346Z"
   },
   {
    "duration": 73,
    "start_time": "2024-09-07T06:11:07.715Z"
   },
   {
    "duration": 17,
    "start_time": "2024-09-07T06:11:07.790Z"
   },
   {
    "duration": 7200,
    "start_time": "2024-09-07T06:11:07.809Z"
   },
   {
    "duration": 153,
    "start_time": "2024-09-07T06:11:15.012Z"
   },
   {
    "duration": 1902,
    "start_time": "2024-09-07T06:11:15.167Z"
   },
   {
    "duration": 7637,
    "start_time": "2024-09-07T06:11:17.071Z"
   },
   {
    "duration": 2921,
    "start_time": "2024-09-07T06:11:24.710Z"
   },
   {
    "duration": 74,
    "start_time": "2024-09-07T06:11:27.633Z"
   },
   {
    "duration": 4304,
    "start_time": "2024-09-07T06:11:27.709Z"
   },
   {
    "duration": 1910,
    "start_time": "2024-09-07T06:11:32.015Z"
   },
   {
    "duration": 5,
    "start_time": "2024-09-07T06:11:33.927Z"
   },
   {
    "duration": 6281,
    "start_time": "2024-09-07T06:11:33.933Z"
   },
   {
    "duration": 2513,
    "start_time": "2024-09-07T06:11:40.216Z"
   },
   {
    "duration": 5,
    "start_time": "2024-09-07T06:11:42.730Z"
   },
   {
    "duration": 20373,
    "start_time": "2024-09-07T06:11:42.736Z"
   },
   {
    "duration": 202,
    "start_time": "2024-09-07T06:12:03.111Z"
   },
   {
    "duration": 96,
    "start_time": "2024-09-07T06:12:03.315Z"
   },
   {
    "duration": 3445,
    "start_time": "2024-09-07T06:12:03.414Z"
   },
   {
    "duration": 170,
    "start_time": "2024-09-07T06:12:06.861Z"
   },
   {
    "duration": 5,
    "start_time": "2024-09-07T06:12:07.033Z"
   },
   {
    "duration": 877,
    "start_time": "2024-09-07T06:12:07.039Z"
   },
   {
    "duration": 3,
    "start_time": "2024-09-07T06:26:50.609Z"
   },
   {
    "duration": 3,
    "start_time": "2024-09-07T06:28:39.626Z"
   },
   {
    "duration": 120,
    "start_time": "2024-09-07T06:30:23.525Z"
   },
   {
    "duration": 4,
    "start_time": "2024-09-07T06:30:32.753Z"
   },
   {
    "duration": 3,
    "start_time": "2024-09-07T06:30:57.805Z"
   },
   {
    "duration": 38,
    "start_time": "2024-09-07T06:32:24.359Z"
   },
   {
    "duration": 5,
    "start_time": "2024-09-07T06:36:44.624Z"
   },
   {
    "duration": 4,
    "start_time": "2024-09-07T06:37:33.384Z"
   },
   {
    "duration": 4,
    "start_time": "2024-09-07T06:42:04.806Z"
   },
   {
    "duration": 3,
    "start_time": "2024-09-07T06:43:13.237Z"
   },
   {
    "duration": 34,
    "start_time": "2024-09-07T06:47:20.745Z"
   },
   {
    "duration": 5324,
    "start_time": "2024-09-07T06:47:20.781Z"
   },
   {
    "duration": 1371,
    "start_time": "2024-09-07T06:47:26.107Z"
   },
   {
    "duration": 1001,
    "start_time": "2024-09-07T06:47:27.480Z"
   },
   {
    "duration": 459,
    "start_time": "2024-09-07T06:47:28.483Z"
   },
   {
    "duration": 541,
    "start_time": "2024-09-07T06:47:28.943Z"
   },
   {
    "duration": 1278,
    "start_time": "2024-09-07T06:47:29.486Z"
   },
   {
    "duration": 143,
    "start_time": "2024-09-07T06:47:30.765Z"
   },
   {
    "duration": 559,
    "start_time": "2024-09-07T06:47:30.909Z"
   },
   {
    "duration": 3224,
    "start_time": "2024-09-07T06:47:31.471Z"
   },
   {
    "duration": 428,
    "start_time": "2024-09-07T06:47:34.697Z"
   },
   {
    "duration": 271,
    "start_time": "2024-09-07T06:47:35.127Z"
   },
   {
    "duration": 37,
    "start_time": "2024-09-07T06:47:35.400Z"
   },
   {
    "duration": 2340,
    "start_time": "2024-09-07T06:47:35.439Z"
   },
   {
    "duration": 41,
    "start_time": "2024-09-07T06:47:37.781Z"
   },
   {
    "duration": 30,
    "start_time": "2024-09-07T06:47:37.824Z"
   },
   {
    "duration": 4392,
    "start_time": "2024-09-07T06:47:37.856Z"
   },
   {
    "duration": 81,
    "start_time": "2024-09-07T06:47:42.250Z"
   },
   {
    "duration": 4,
    "start_time": "2024-09-07T06:47:42.333Z"
   },
   {
    "duration": 7377,
    "start_time": "2024-09-07T06:47:42.339Z"
   },
   {
    "duration": 155,
    "start_time": "2024-09-07T06:47:49.814Z"
   },
   {
    "duration": 1846,
    "start_time": "2024-09-07T06:47:49.970Z"
   },
   {
    "duration": 4,
    "start_time": "2024-09-07T06:47:51.817Z"
   },
   {
    "duration": 134,
    "start_time": "2024-09-07T06:47:51.822Z"
   },
   {
    "duration": 58,
    "start_time": "2024-09-07T06:50:04.228Z"
   },
   {
    "duration": 166610,
    "start_time": "2024-09-07T06:50:21.486Z"
   },
   {
    "duration": 0,
    "start_time": "2024-09-07T06:53:08.098Z"
   },
   {
    "duration": 41,
    "start_time": "2024-09-07T06:55:32.845Z"
   },
   {
    "duration": 5599,
    "start_time": "2024-09-07T06:55:32.888Z"
   },
   {
    "duration": 1406,
    "start_time": "2024-09-07T06:55:38.490Z"
   },
   {
    "duration": 1042,
    "start_time": "2024-09-07T06:55:39.897Z"
   },
   {
    "duration": 462,
    "start_time": "2024-09-07T06:55:40.942Z"
   },
   {
    "duration": 568,
    "start_time": "2024-09-07T06:55:41.407Z"
   },
   {
    "duration": 1361,
    "start_time": "2024-09-07T06:55:41.977Z"
   },
   {
    "duration": 158,
    "start_time": "2024-09-07T06:55:43.339Z"
   },
   {
    "duration": 614,
    "start_time": "2024-09-07T06:55:43.498Z"
   },
   {
    "duration": 3388,
    "start_time": "2024-09-07T06:55:44.114Z"
   },
   {
    "duration": 464,
    "start_time": "2024-09-07T06:55:47.504Z"
   },
   {
    "duration": 277,
    "start_time": "2024-09-07T06:55:47.970Z"
   },
   {
    "duration": 33,
    "start_time": "2024-09-07T06:55:48.249Z"
   },
   {
    "duration": 2436,
    "start_time": "2024-09-07T06:55:48.285Z"
   },
   {
    "duration": 35,
    "start_time": "2024-09-07T06:55:50.722Z"
   },
   {
    "duration": 6,
    "start_time": "2024-09-07T06:55:50.759Z"
   },
   {
    "duration": 4523,
    "start_time": "2024-09-07T06:55:50.766Z"
   },
   {
    "duration": 73,
    "start_time": "2024-09-07T06:55:55.291Z"
   },
   {
    "duration": 5,
    "start_time": "2024-09-07T06:55:55.366Z"
   },
   {
    "duration": 7237,
    "start_time": "2024-09-07T06:55:55.372Z"
   },
   {
    "duration": 150,
    "start_time": "2024-09-07T06:56:02.611Z"
   },
   {
    "duration": 1862,
    "start_time": "2024-09-07T06:56:02.764Z"
   },
   {
    "duration": 347278,
    "start_time": "2024-09-07T06:56:04.627Z"
   },
   {
    "duration": 38,
    "start_time": "2024-09-07T07:04:06.133Z"
   },
   {
    "duration": 5424,
    "start_time": "2024-09-07T07:04:06.212Z"
   },
   {
    "duration": 1416,
    "start_time": "2024-09-07T07:04:11.639Z"
   },
   {
    "duration": 1038,
    "start_time": "2024-09-07T07:04:13.057Z"
   },
   {
    "duration": 491,
    "start_time": "2024-09-07T07:04:14.097Z"
   },
   {
    "duration": 589,
    "start_time": "2024-09-07T07:04:14.591Z"
   },
   {
    "duration": 1437,
    "start_time": "2024-09-07T07:04:15.181Z"
   },
   {
    "duration": 146,
    "start_time": "2024-09-07T07:04:16.620Z"
   },
   {
    "duration": 628,
    "start_time": "2024-09-07T07:04:16.768Z"
   },
   {
    "duration": 3341,
    "start_time": "2024-09-07T07:04:17.398Z"
   },
   {
    "duration": 461,
    "start_time": "2024-09-07T07:04:20.741Z"
   },
   {
    "duration": 287,
    "start_time": "2024-09-07T07:04:21.203Z"
   },
   {
    "duration": 54,
    "start_time": "2024-09-07T07:04:21.492Z"
   },
   {
    "duration": 2420,
    "start_time": "2024-09-07T07:04:21.548Z"
   },
   {
    "duration": 41,
    "start_time": "2024-09-07T07:04:23.971Z"
   },
   {
    "duration": 9,
    "start_time": "2024-09-07T07:04:24.014Z"
   },
   {
    "duration": 4598,
    "start_time": "2024-09-07T07:04:24.025Z"
   },
   {
    "duration": 70,
    "start_time": "2024-09-07T07:04:28.624Z"
   },
   {
    "duration": 5,
    "start_time": "2024-09-07T07:04:28.706Z"
   },
   {
    "duration": 7303,
    "start_time": "2024-09-07T07:04:28.713Z"
   },
   {
    "duration": 232,
    "start_time": "2024-09-07T07:04:36.018Z"
   },
   {
    "duration": 1902,
    "start_time": "2024-09-07T07:04:36.252Z"
   },
   {
    "duration": 32,
    "start_time": "2024-09-07T07:09:51.464Z"
   },
   {
    "duration": 5236,
    "start_time": "2024-09-07T07:09:51.498Z"
   },
   {
    "duration": 1348,
    "start_time": "2024-09-07T07:09:56.736Z"
   },
   {
    "duration": 1005,
    "start_time": "2024-09-07T07:09:58.086Z"
   },
   {
    "duration": 450,
    "start_time": "2024-09-07T07:09:59.093Z"
   },
   {
    "duration": 565,
    "start_time": "2024-09-07T07:09:59.545Z"
   },
   {
    "duration": 1325,
    "start_time": "2024-09-07T07:10:00.111Z"
   },
   {
    "duration": 145,
    "start_time": "2024-09-07T07:10:01.437Z"
   },
   {
    "duration": 594,
    "start_time": "2024-09-07T07:10:01.583Z"
   },
   {
    "duration": 3470,
    "start_time": "2024-09-07T07:10:02.179Z"
   },
   {
    "duration": 451,
    "start_time": "2024-09-07T07:10:05.651Z"
   },
   {
    "duration": 269,
    "start_time": "2024-09-07T07:10:06.103Z"
   },
   {
    "duration": 42,
    "start_time": "2024-09-07T07:10:06.373Z"
   },
   {
    "duration": 2368,
    "start_time": "2024-09-07T07:10:06.416Z"
   },
   {
    "duration": 40,
    "start_time": "2024-09-07T07:10:08.786Z"
   },
   {
    "duration": 41,
    "start_time": "2024-09-07T07:10:08.828Z"
   },
   {
    "duration": 4476,
    "start_time": "2024-09-07T07:10:08.871Z"
   },
   {
    "duration": 85,
    "start_time": "2024-09-07T07:10:13.349Z"
   },
   {
    "duration": 5,
    "start_time": "2024-09-07T07:10:13.436Z"
   },
   {
    "duration": 7573,
    "start_time": "2024-09-07T07:10:13.443Z"
   },
   {
    "duration": 240,
    "start_time": "2024-09-07T07:10:21.017Z"
   },
   {
    "duration": 1890,
    "start_time": "2024-09-07T07:10:21.258Z"
   },
   {
    "duration": 127,
    "start_time": "2024-09-07T07:10:23.150Z"
   },
   {
    "duration": 19739,
    "start_time": "2024-09-07T07:15:45.976Z"
   },
   {
    "duration": 35,
    "start_time": "2024-09-07T07:16:39.897Z"
   },
   {
    "duration": 5192,
    "start_time": "2024-09-07T07:16:39.934Z"
   },
   {
    "duration": 1367,
    "start_time": "2024-09-07T07:16:45.129Z"
   },
   {
    "duration": 1068,
    "start_time": "2024-09-07T07:16:46.498Z"
   },
   {
    "duration": 474,
    "start_time": "2024-09-07T07:16:47.568Z"
   },
   {
    "duration": 545,
    "start_time": "2024-09-07T07:16:48.044Z"
   },
   {
    "duration": 1339,
    "start_time": "2024-09-07T07:16:48.591Z"
   },
   {
    "duration": 145,
    "start_time": "2024-09-07T07:16:49.931Z"
   },
   {
    "duration": 573,
    "start_time": "2024-09-07T07:16:50.077Z"
   },
   {
    "duration": 3242,
    "start_time": "2024-09-07T07:16:50.651Z"
   },
   {
    "duration": 435,
    "start_time": "2024-09-07T07:16:53.895Z"
   },
   {
    "duration": 275,
    "start_time": "2024-09-07T07:16:54.332Z"
   },
   {
    "duration": 31,
    "start_time": "2024-09-07T07:16:54.609Z"
   },
   {
    "duration": 2248,
    "start_time": "2024-09-07T07:16:54.643Z"
   },
   {
    "duration": 40,
    "start_time": "2024-09-07T07:16:56.893Z"
   },
   {
    "duration": 4,
    "start_time": "2024-09-07T07:16:56.935Z"
   },
   {
    "duration": 4549,
    "start_time": "2024-09-07T07:16:56.941Z"
   },
   {
    "duration": 77,
    "start_time": "2024-09-07T07:17:01.492Z"
   },
   {
    "duration": 6,
    "start_time": "2024-09-07T07:17:01.570Z"
   },
   {
    "duration": 7331,
    "start_time": "2024-09-07T07:17:01.578Z"
   },
   {
    "duration": 159,
    "start_time": "2024-09-07T07:17:08.912Z"
   },
   {
    "duration": 1847,
    "start_time": "2024-09-07T07:17:09.073Z"
   },
   {
    "duration": 20586,
    "start_time": "2024-09-07T07:17:10.922Z"
   },
   {
    "duration": 4,
    "start_time": "2024-09-07T07:19:03.258Z"
   },
   {
    "duration": 43672,
    "start_time": "2024-09-07T07:19:24.150Z"
   },
   {
    "duration": 43,
    "start_time": "2024-09-07T07:30:58.919Z"
   },
   {
    "duration": 6153,
    "start_time": "2024-09-07T07:30:58.964Z"
   },
   {
    "duration": 1286,
    "start_time": "2024-09-07T07:31:05.119Z"
   },
   {
    "duration": 1063,
    "start_time": "2024-09-07T07:31:06.407Z"
   },
   {
    "duration": 477,
    "start_time": "2024-09-07T07:31:07.473Z"
   },
   {
    "duration": 569,
    "start_time": "2024-09-07T07:31:07.951Z"
   },
   {
    "duration": 1310,
    "start_time": "2024-09-07T07:31:08.521Z"
   },
   {
    "duration": 144,
    "start_time": "2024-09-07T07:31:09.833Z"
   },
   {
    "duration": 575,
    "start_time": "2024-09-07T07:31:09.979Z"
   },
   {
    "duration": 3247,
    "start_time": "2024-09-07T07:31:10.556Z"
   },
   {
    "duration": 431,
    "start_time": "2024-09-07T07:31:13.804Z"
   },
   {
    "duration": 264,
    "start_time": "2024-09-07T07:31:14.237Z"
   },
   {
    "duration": 31,
    "start_time": "2024-09-07T07:31:14.507Z"
   },
   {
    "duration": 2248,
    "start_time": "2024-09-07T07:31:14.540Z"
   },
   {
    "duration": 39,
    "start_time": "2024-09-07T07:31:16.790Z"
   },
   {
    "duration": 23,
    "start_time": "2024-09-07T07:31:16.831Z"
   },
   {
    "duration": 4515,
    "start_time": "2024-09-07T07:31:16.855Z"
   },
   {
    "duration": 76,
    "start_time": "2024-09-07T07:31:21.372Z"
   },
   {
    "duration": 4,
    "start_time": "2024-09-07T07:31:21.450Z"
   },
   {
    "duration": 7360,
    "start_time": "2024-09-07T07:31:21.456Z"
   },
   {
    "duration": 241,
    "start_time": "2024-09-07T07:31:28.817Z"
   },
   {
    "duration": 1856,
    "start_time": "2024-09-07T07:31:29.060Z"
   },
   {
    "duration": 40541,
    "start_time": "2024-09-07T07:31:30.918Z"
   },
   {
    "duration": 0,
    "start_time": "2024-09-07T07:32:11.461Z"
   },
   {
    "duration": 0,
    "start_time": "2024-09-07T07:32:11.462Z"
   },
   {
    "duration": 38722,
    "start_time": "2024-09-07T07:33:39.995Z"
   },
   {
    "duration": 41675,
    "start_time": "2024-09-07T07:34:56.134Z"
   },
   {
    "duration": 40965,
    "start_time": "2024-09-07T07:35:56.544Z"
   },
   {
    "duration": 40091,
    "start_time": "2024-09-07T07:37:25.122Z"
   },
   {
    "duration": 39921,
    "start_time": "2024-09-07T07:39:31.095Z"
   },
   {
    "duration": 16484,
    "start_time": "2024-09-07T07:42:52.779Z"
   },
   {
    "duration": 25305,
    "start_time": "2024-09-07T07:44:53.771Z"
   },
   {
    "duration": 45724,
    "start_time": "2024-09-07T07:46:43.945Z"
   },
   {
    "duration": 118497,
    "start_time": "2024-09-07T07:48:45.522Z"
   },
   {
    "duration": 349941,
    "start_time": "2024-09-07T07:57:44.422Z"
   },
   {
    "duration": 47,
    "start_time": "2024-09-07T08:04:01.539Z"
   },
   {
    "duration": 5278,
    "start_time": "2024-09-07T08:04:01.587Z"
   },
   {
    "duration": 1311,
    "start_time": "2024-09-07T08:04:06.867Z"
   },
   {
    "duration": 970,
    "start_time": "2024-09-07T08:04:08.180Z"
   },
   {
    "duration": 435,
    "start_time": "2024-09-07T08:04:09.153Z"
   },
   {
    "duration": 521,
    "start_time": "2024-09-07T08:04:09.590Z"
   },
   {
    "duration": 1319,
    "start_time": "2024-09-07T08:04:10.113Z"
   },
   {
    "duration": 4782,
    "start_time": "2024-09-07T08:04:20.128Z"
   },
   {
    "duration": 69,
    "start_time": "2024-09-07T08:04:24.911Z"
   },
   {
    "duration": 5,
    "start_time": "2024-09-07T08:04:24.981Z"
   },
   {
    "duration": 7125,
    "start_time": "2024-09-07T08:04:24.987Z"
   },
   {
    "duration": 150,
    "start_time": "2024-09-07T08:04:32.117Z"
   },
   {
    "duration": 1904,
    "start_time": "2024-09-07T08:04:32.269Z"
   },
   {
    "duration": 117008,
    "start_time": "2024-09-07T08:04:34.174Z"
   },
   {
    "duration": 17,
    "start_time": "2024-09-07T08:21:53.051Z"
   },
   {
    "duration": 178,
    "start_time": "2024-09-07T08:22:21.981Z"
   },
   {
    "duration": 5,
    "start_time": "2024-09-07T08:23:00.854Z"
   },
   {
    "duration": 8,
    "start_time": "2024-09-07T08:23:03.394Z"
   },
   {
    "duration": 5,
    "start_time": "2024-09-07T08:23:08.089Z"
   },
   {
    "duration": 4,
    "start_time": "2024-09-07T08:23:10.273Z"
   },
   {
    "duration": 15,
    "start_time": "2024-09-07T08:23:14.339Z"
   },
   {
    "duration": 20,
    "start_time": "2024-09-07T08:23:40.598Z"
   },
   {
    "duration": 4,
    "start_time": "2024-09-07T08:23:52.127Z"
   },
   {
    "duration": 3,
    "start_time": "2024-09-07T08:24:33.633Z"
   },
   {
    "duration": 11,
    "start_time": "2024-09-07T08:24:36.351Z"
   },
   {
    "duration": 12,
    "start_time": "2024-09-07T08:25:02.139Z"
   },
   {
    "duration": 12,
    "start_time": "2024-09-07T08:25:09.420Z"
   },
   {
    "duration": 26,
    "start_time": "2024-09-07T08:25:13.107Z"
   },
   {
    "duration": 17,
    "start_time": "2024-09-07T08:26:30.072Z"
   },
   {
    "duration": 121,
    "start_time": "2024-09-07T08:27:02.374Z"
   },
   {
    "duration": 118,
    "start_time": "2024-09-07T08:27:06.341Z"
   },
   {
    "duration": 20,
    "start_time": "2024-09-07T08:27:50.883Z"
   },
   {
    "duration": 29,
    "start_time": "2024-09-07T08:27:57.707Z"
   },
   {
    "duration": 9,
    "start_time": "2024-09-07T08:28:18.942Z"
   },
   {
    "duration": 36,
    "start_time": "2024-09-07T08:28:24.344Z"
   },
   {
    "duration": 15,
    "start_time": "2024-09-07T08:29:23.753Z"
   },
   {
    "duration": 38,
    "start_time": "2024-09-07T08:30:50.265Z"
   },
   {
    "duration": 5250,
    "start_time": "2024-09-07T08:30:50.305Z"
   },
   {
    "duration": 1310,
    "start_time": "2024-09-07T08:30:55.557Z"
   },
   {
    "duration": 1100,
    "start_time": "2024-09-07T08:30:56.870Z"
   },
   {
    "duration": 481,
    "start_time": "2024-09-07T08:30:57.972Z"
   },
   {
    "duration": 570,
    "start_time": "2024-09-07T08:30:58.455Z"
   },
   {
    "duration": 1314,
    "start_time": "2024-09-07T08:30:59.027Z"
   },
   {
    "duration": 149,
    "start_time": "2024-09-07T08:31:00.343Z"
   },
   {
    "duration": 954,
    "start_time": "2024-09-07T08:31:00.494Z"
   },
   {
    "duration": 4251,
    "start_time": "2024-09-07T08:31:01.450Z"
   },
   {
    "duration": 457,
    "start_time": "2024-09-07T08:31:05.702Z"
   },
   {
    "duration": 268,
    "start_time": "2024-09-07T08:31:06.160Z"
   },
   {
    "duration": 33,
    "start_time": "2024-09-07T08:31:06.429Z"
   },
   {
    "duration": 2344,
    "start_time": "2024-09-07T08:31:06.464Z"
   },
   {
    "duration": 36,
    "start_time": "2024-09-07T08:31:08.810Z"
   },
   {
    "duration": 11,
    "start_time": "2024-09-07T08:31:08.848Z"
   },
   {
    "duration": 4408,
    "start_time": "2024-09-07T08:31:08.860Z"
   },
   {
    "duration": 79,
    "start_time": "2024-09-07T08:31:13.269Z"
   },
   {
    "duration": 4,
    "start_time": "2024-09-07T08:31:13.350Z"
   },
   {
    "duration": 7255,
    "start_time": "2024-09-07T08:31:13.355Z"
   },
   {
    "duration": 160,
    "start_time": "2024-09-07T08:31:20.612Z"
   },
   {
    "duration": 1859,
    "start_time": "2024-09-07T08:31:20.773Z"
   },
   {
    "duration": 117024,
    "start_time": "2024-09-07T08:31:22.633Z"
   },
   {
    "duration": 56,
    "start_time": "2024-09-07T08:33:19.658Z"
   },
   {
    "duration": 127,
    "start_time": "2024-09-07T08:33:42.857Z"
   },
   {
    "duration": 16,
    "start_time": "2024-09-07T08:33:46.754Z"
   },
   {
    "duration": 10,
    "start_time": "2024-09-07T08:35:14.803Z"
   },
   {
    "duration": 45,
    "start_time": "2024-09-07T08:35:17.035Z"
   },
   {
    "duration": 14,
    "start_time": "2024-09-07T08:35:18.113Z"
   },
   {
    "duration": 118011,
    "start_time": "2024-09-07T08:38:42.513Z"
   },
   {
    "duration": 53,
    "start_time": "2024-09-07T08:46:24.245Z"
   },
   {
    "duration": 9,
    "start_time": "2024-09-07T08:46:33.858Z"
   },
   {
    "duration": 66,
    "start_time": "2024-09-07T08:46:46.632Z"
   },
   {
    "duration": 4,
    "start_time": "2024-09-07T08:46:46.838Z"
   },
   {
    "duration": 3,
    "start_time": "2024-09-07T08:48:06.046Z"
   },
   {
    "duration": 61,
    "start_time": "2024-09-07T08:48:42.806Z"
   },
   {
    "duration": 60,
    "start_time": "2024-09-07T08:48:57.406Z"
   },
   {
    "duration": 55,
    "start_time": "2024-09-07T08:48:57.819Z"
   },
   {
    "duration": 126,
    "start_time": "2024-09-07T08:51:17.705Z"
   },
   {
    "duration": 54,
    "start_time": "2024-09-07T08:53:51.380Z"
   },
   {
    "duration": 56,
    "start_time": "2024-09-07T08:53:52.765Z"
   },
   {
    "duration": 21686,
    "start_time": "2024-09-07T08:54:13.125Z"
   },
   {
    "duration": 36,
    "start_time": "2024-09-07T09:04:03.462Z"
   },
   {
    "duration": 6138,
    "start_time": "2024-09-07T09:04:03.500Z"
   },
   {
    "duration": 1342,
    "start_time": "2024-09-07T09:04:09.640Z"
   },
   {
    "duration": 1044,
    "start_time": "2024-09-07T09:04:10.984Z"
   },
   {
    "duration": 473,
    "start_time": "2024-09-07T09:04:12.030Z"
   },
   {
    "duration": 591,
    "start_time": "2024-09-07T09:04:12.507Z"
   },
   {
    "duration": 1302,
    "start_time": "2024-09-07T09:04:13.100Z"
   },
   {
    "duration": 140,
    "start_time": "2024-09-07T09:04:14.404Z"
   },
   {
    "duration": 550,
    "start_time": "2024-09-07T09:04:14.546Z"
   },
   {
    "duration": 3212,
    "start_time": "2024-09-07T09:04:15.097Z"
   },
   {
    "duration": 422,
    "start_time": "2024-09-07T09:04:18.310Z"
   },
   {
    "duration": 266,
    "start_time": "2024-09-07T09:04:18.734Z"
   },
   {
    "duration": 34,
    "start_time": "2024-09-07T09:04:19.002Z"
   },
   {
    "duration": 2311,
    "start_time": "2024-09-07T09:04:19.039Z"
   },
   {
    "duration": 35,
    "start_time": "2024-09-07T09:04:21.351Z"
   },
   {
    "duration": 25,
    "start_time": "2024-09-07T09:04:21.388Z"
   },
   {
    "duration": 4534,
    "start_time": "2024-09-07T09:04:21.415Z"
   },
   {
    "duration": 79,
    "start_time": "2024-09-07T09:04:25.951Z"
   },
   {
    "duration": 5,
    "start_time": "2024-09-07T09:04:26.032Z"
   },
   {
    "duration": 8071,
    "start_time": "2024-09-07T09:04:26.038Z"
   },
   {
    "duration": 163,
    "start_time": "2024-09-07T09:04:34.112Z"
   },
   {
    "duration": 1886,
    "start_time": "2024-09-07T09:04:34.277Z"
   },
   {
    "duration": 34,
    "start_time": "2024-09-07T09:04:57.396Z"
   },
   {
    "duration": 5330,
    "start_time": "2024-09-07T09:04:57.432Z"
   },
   {
    "duration": 1375,
    "start_time": "2024-09-07T09:05:02.765Z"
   },
   {
    "duration": 1071,
    "start_time": "2024-09-07T09:05:04.142Z"
   },
   {
    "duration": 472,
    "start_time": "2024-09-07T09:05:05.215Z"
   },
   {
    "duration": 547,
    "start_time": "2024-09-07T09:05:05.688Z"
   },
   {
    "duration": 1343,
    "start_time": "2024-09-07T09:05:06.237Z"
   },
   {
    "duration": 142,
    "start_time": "2024-09-07T09:05:07.582Z"
   },
   {
    "duration": 589,
    "start_time": "2024-09-07T09:05:07.726Z"
   },
   {
    "duration": 3259,
    "start_time": "2024-09-07T09:05:08.317Z"
   },
   {
    "duration": 429,
    "start_time": "2024-09-07T09:05:11.578Z"
   },
   {
    "duration": 270,
    "start_time": "2024-09-07T09:05:12.009Z"
   },
   {
    "duration": 41,
    "start_time": "2024-09-07T09:05:12.280Z"
   },
   {
    "duration": 2329,
    "start_time": "2024-09-07T09:05:12.324Z"
   },
   {
    "duration": 35,
    "start_time": "2024-09-07T09:05:14.654Z"
   },
   {
    "duration": 12,
    "start_time": "2024-09-07T09:05:14.690Z"
   },
   {
    "duration": 39,
    "start_time": "2024-09-07T09:05:18.863Z"
   },
   {
    "duration": 5194,
    "start_time": "2024-09-07T09:05:18.904Z"
   },
   {
    "duration": 1381,
    "start_time": "2024-09-07T09:05:24.100Z"
   },
   {
    "duration": 996,
    "start_time": "2024-09-07T09:05:25.482Z"
   },
   {
    "duration": 444,
    "start_time": "2024-09-07T09:05:26.480Z"
   },
   {
    "duration": 569,
    "start_time": "2024-09-07T09:05:26.926Z"
   },
   {
    "duration": 1296,
    "start_time": "2024-09-07T09:05:27.496Z"
   },
   {
    "duration": 145,
    "start_time": "2024-09-07T09:05:28.793Z"
   },
   {
    "duration": 574,
    "start_time": "2024-09-07T09:05:28.940Z"
   },
   {
    "duration": 3202,
    "start_time": "2024-09-07T09:05:29.515Z"
   },
   {
    "duration": 489,
    "start_time": "2024-09-07T09:05:32.719Z"
   },
   {
    "duration": 276,
    "start_time": "2024-09-07T09:05:33.209Z"
   },
   {
    "duration": 36,
    "start_time": "2024-09-07T09:05:33.487Z"
   },
   {
    "duration": 2310,
    "start_time": "2024-09-07T09:05:33.525Z"
   },
   {
    "duration": 34,
    "start_time": "2024-09-07T09:05:35.837Z"
   },
   {
    "duration": 50,
    "start_time": "2024-09-07T09:05:35.873Z"
   },
   {
    "duration": 4363,
    "start_time": "2024-09-07T09:05:35.925Z"
   },
   {
    "duration": 77,
    "start_time": "2024-09-07T09:05:40.290Z"
   },
   {
    "duration": 5,
    "start_time": "2024-09-07T09:05:40.369Z"
   },
   {
    "duration": 7234,
    "start_time": "2024-09-07T09:05:40.375Z"
   },
   {
    "duration": 158,
    "start_time": "2024-09-07T09:05:47.616Z"
   },
   {
    "duration": 1916,
    "start_time": "2024-09-07T09:05:47.776Z"
   },
   {
    "duration": 35,
    "start_time": "2024-09-07T09:10:49.200Z"
   },
   {
    "duration": 5345,
    "start_time": "2024-09-07T09:10:49.237Z"
   },
   {
    "duration": 1483,
    "start_time": "2024-09-07T09:10:54.584Z"
   },
   {
    "duration": 1055,
    "start_time": "2024-09-07T09:10:56.069Z"
   },
   {
    "duration": 504,
    "start_time": "2024-09-07T09:10:57.126Z"
   },
   {
    "duration": 559,
    "start_time": "2024-09-07T09:10:57.632Z"
   },
   {
    "duration": 1342,
    "start_time": "2024-09-07T09:10:58.192Z"
   },
   {
    "duration": 138,
    "start_time": "2024-09-07T09:10:59.536Z"
   },
   {
    "duration": 572,
    "start_time": "2024-09-07T09:10:59.675Z"
   },
   {
    "duration": 3313,
    "start_time": "2024-09-07T09:11:00.248Z"
   },
   {
    "duration": 466,
    "start_time": "2024-09-07T09:11:03.563Z"
   },
   {
    "duration": 34,
    "start_time": "2024-09-07T09:11:14.892Z"
   },
   {
    "duration": 6061,
    "start_time": "2024-09-07T09:11:14.972Z"
   },
   {
    "duration": 1265,
    "start_time": "2024-09-07T09:11:21.035Z"
   },
   {
    "duration": 1017,
    "start_time": "2024-09-07T09:11:22.301Z"
   },
   {
    "duration": 466,
    "start_time": "2024-09-07T09:11:23.320Z"
   },
   {
    "duration": 575,
    "start_time": "2024-09-07T09:11:23.788Z"
   },
   {
    "duration": 1317,
    "start_time": "2024-09-07T09:11:24.365Z"
   },
   {
    "duration": 141,
    "start_time": "2024-09-07T09:11:25.684Z"
   },
   {
    "duration": 573,
    "start_time": "2024-09-07T09:11:25.827Z"
   },
   {
    "duration": 3205,
    "start_time": "2024-09-07T09:11:26.402Z"
   },
   {
    "duration": 470,
    "start_time": "2024-09-07T09:11:29.609Z"
   },
   {
    "duration": 282,
    "start_time": "2024-09-07T09:11:30.081Z"
   },
   {
    "duration": 32,
    "start_time": "2024-09-07T09:11:30.365Z"
   },
   {
    "duration": 2332,
    "start_time": "2024-09-07T09:11:30.399Z"
   },
   {
    "duration": 36,
    "start_time": "2024-09-07T09:11:32.733Z"
   },
   {
    "duration": 41,
    "start_time": "2024-09-07T09:11:32.771Z"
   },
   {
    "duration": 4412,
    "start_time": "2024-09-07T09:11:32.814Z"
   },
   {
    "duration": 69,
    "start_time": "2024-09-07T09:11:37.227Z"
   },
   {
    "duration": 4,
    "start_time": "2024-09-07T09:11:37.307Z"
   },
   {
    "duration": 7201,
    "start_time": "2024-09-07T09:11:37.312Z"
   },
   {
    "duration": 251,
    "start_time": "2024-09-07T09:11:44.515Z"
   },
   {
    "duration": 1893,
    "start_time": "2024-09-07T09:11:44.768Z"
   },
   {
    "duration": 116488,
    "start_time": "2024-09-07T09:11:46.662Z"
   },
   {
    "duration": 55,
    "start_time": "2024-09-07T09:13:43.152Z"
   },
   {
    "duration": 129,
    "start_time": "2024-09-07T09:13:43.209Z"
   },
   {
    "duration": 9617,
    "start_time": "2024-09-07T09:14:53.293Z"
   },
   {
    "duration": 11897,
    "start_time": "2024-09-07T09:15:11.117Z"
   },
   {
    "duration": 20496,
    "start_time": "2024-09-07T09:15:34.713Z"
   },
   {
    "duration": 31473,
    "start_time": "2024-09-07T09:16:02.139Z"
   },
   {
    "duration": 31110,
    "start_time": "2024-09-07T09:16:46.905Z"
   },
   {
    "duration": 24937,
    "start_time": "2024-09-07T09:17:44.474Z"
   },
   {
    "duration": 41254,
    "start_time": "2024-09-07T09:18:24.160Z"
   },
   {
    "duration": 37698,
    "start_time": "2024-09-07T09:20:29.310Z"
   },
   {
    "duration": 37612,
    "start_time": "2024-09-07T09:21:14.598Z"
   },
   {
    "duration": 36,
    "start_time": "2024-09-07T09:23:32.854Z"
   },
   {
    "duration": 5337,
    "start_time": "2024-09-07T09:23:32.892Z"
   },
   {
    "duration": 1346,
    "start_time": "2024-09-07T09:23:38.231Z"
   },
   {
    "duration": 1077,
    "start_time": "2024-09-07T09:23:39.579Z"
   },
   {
    "duration": 476,
    "start_time": "2024-09-07T09:23:40.658Z"
   },
   {
    "duration": 550,
    "start_time": "2024-09-07T09:23:41.136Z"
   },
   {
    "duration": 1333,
    "start_time": "2024-09-07T09:23:41.688Z"
   },
   {
    "duration": 149,
    "start_time": "2024-09-07T09:23:43.023Z"
   },
   {
    "duration": 565,
    "start_time": "2024-09-07T09:23:43.174Z"
   },
   {
    "duration": 3144,
    "start_time": "2024-09-07T09:23:43.740Z"
   },
   {
    "duration": 449,
    "start_time": "2024-09-07T09:23:46.885Z"
   },
   {
    "duration": 293,
    "start_time": "2024-09-07T09:23:47.336Z"
   },
   {
    "duration": 30,
    "start_time": "2024-09-07T09:23:47.631Z"
   },
   {
    "duration": 2345,
    "start_time": "2024-09-07T09:23:47.664Z"
   },
   {
    "duration": 35,
    "start_time": "2024-09-07T09:23:50.011Z"
   },
   {
    "duration": 17,
    "start_time": "2024-09-07T09:23:50.048Z"
   },
   {
    "duration": 4567,
    "start_time": "2024-09-07T09:23:50.067Z"
   },
   {
    "duration": 81,
    "start_time": "2024-09-07T09:23:54.636Z"
   },
   {
    "duration": 4,
    "start_time": "2024-09-07T09:23:54.719Z"
   },
   {
    "duration": 7182,
    "start_time": "2024-09-07T09:23:54.725Z"
   },
   {
    "duration": 157,
    "start_time": "2024-09-07T09:24:01.917Z"
   },
   {
    "duration": 1921,
    "start_time": "2024-09-07T09:24:02.075Z"
   },
   {
    "duration": 117359,
    "start_time": "2024-09-07T09:24:03.997Z"
   },
   {
    "duration": 57,
    "start_time": "2024-09-07T09:26:01.357Z"
   },
   {
    "duration": 68,
    "start_time": "2024-09-07T09:26:01.415Z"
   },
   {
    "duration": 39065,
    "start_time": "2024-09-07T09:26:38.852Z"
   },
   {
    "duration": 134010,
    "start_time": "2024-09-07T09:27:36.808Z"
   },
   {
    "duration": 246357,
    "start_time": "2024-09-07T09:30:05.953Z"
   },
   {
    "duration": 111714,
    "start_time": "2024-09-07T09:34:31.904Z"
   },
   {
    "duration": 13028,
    "start_time": "2024-09-07T09:37:26.580Z"
   },
   {
    "duration": 246359,
    "start_time": "2024-09-07T09:37:45.060Z"
   },
   {
    "duration": 408338,
    "start_time": "2024-09-07T09:44:32.559Z"
   },
   {
    "duration": 0,
    "start_time": "2024-09-07T09:51:20.900Z"
   },
   {
    "duration": 41,
    "start_time": "2024-09-07T09:54:13.171Z"
   },
   {
    "duration": 5351,
    "start_time": "2024-09-07T09:54:13.214Z"
   },
   {
    "duration": 1396,
    "start_time": "2024-09-07T09:54:18.567Z"
   },
   {
    "duration": 1078,
    "start_time": "2024-09-07T09:54:19.964Z"
   },
   {
    "duration": 481,
    "start_time": "2024-09-07T09:54:21.044Z"
   },
   {
    "duration": 592,
    "start_time": "2024-09-07T09:54:21.527Z"
   },
   {
    "duration": 1350,
    "start_time": "2024-09-07T09:54:22.121Z"
   },
   {
    "duration": 148,
    "start_time": "2024-09-07T09:54:23.473Z"
   },
   {
    "duration": 36,
    "start_time": "2024-09-07T09:54:34.178Z"
   },
   {
    "duration": 5278,
    "start_time": "2024-09-07T09:54:34.259Z"
   },
   {
    "duration": 1288,
    "start_time": "2024-09-07T09:54:39.540Z"
   },
   {
    "duration": 1011,
    "start_time": "2024-09-07T09:54:40.829Z"
   },
   {
    "duration": 450,
    "start_time": "2024-09-07T09:54:41.841Z"
   },
   {
    "duration": 562,
    "start_time": "2024-09-07T09:54:42.293Z"
   },
   {
    "duration": 1338,
    "start_time": "2024-09-07T09:54:42.857Z"
   },
   {
    "duration": 153,
    "start_time": "2024-09-07T09:54:44.197Z"
   },
   {
    "duration": 564,
    "start_time": "2024-09-07T09:54:44.352Z"
   },
   {
    "duration": 3294,
    "start_time": "2024-09-07T09:54:44.918Z"
   },
   {
    "duration": 439,
    "start_time": "2024-09-07T09:54:48.213Z"
   },
   {
    "duration": 269,
    "start_time": "2024-09-07T09:54:48.653Z"
   },
   {
    "duration": 30,
    "start_time": "2024-09-07T09:54:48.924Z"
   },
   {
    "duration": 2227,
    "start_time": "2024-09-07T09:54:48.956Z"
   },
   {
    "duration": 43,
    "start_time": "2024-09-07T09:54:51.186Z"
   },
   {
    "duration": 8,
    "start_time": "2024-09-07T09:54:51.231Z"
   },
   {
    "duration": 4468,
    "start_time": "2024-09-07T09:54:51.241Z"
   },
   {
    "duration": 72,
    "start_time": "2024-09-07T09:54:55.710Z"
   },
   {
    "duration": 4,
    "start_time": "2024-09-07T09:54:55.784Z"
   },
   {
    "duration": 7221,
    "start_time": "2024-09-07T09:54:55.790Z"
   },
   {
    "duration": 160,
    "start_time": "2024-09-07T09:55:03.013Z"
   },
   {
    "duration": 1892,
    "start_time": "2024-09-07T09:55:03.175Z"
   },
   {
    "duration": 113917,
    "start_time": "2024-09-07T09:55:05.069Z"
   },
   {
    "duration": 56,
    "start_time": "2024-09-07T09:56:58.988Z"
   },
   {
    "duration": 406,
    "start_time": "2024-09-07T09:56:59.046Z"
   },
   {
    "duration": 0,
    "start_time": "2024-09-07T09:56:59.454Z"
   },
   {
    "duration": 0,
    "start_time": "2024-09-07T09:56:59.455Z"
   },
   {
    "duration": 0,
    "start_time": "2024-09-07T09:56:59.456Z"
   },
   {
    "duration": 0,
    "start_time": "2024-09-07T09:56:59.458Z"
   },
   {
    "duration": 0,
    "start_time": "2024-09-07T09:56:59.459Z"
   },
   {
    "duration": 21,
    "start_time": "2024-09-07T09:57:23.999Z"
   },
   {
    "duration": 15,
    "start_time": "2024-09-07T09:57:29.139Z"
   },
   {
    "duration": 4,
    "start_time": "2024-09-07T09:57:45.648Z"
   },
   {
    "duration": 16,
    "start_time": "2024-09-07T09:58:01.947Z"
   },
   {
    "duration": 5,
    "start_time": "2024-09-07T09:58:25.043Z"
   },
   {
    "duration": 10,
    "start_time": "2024-09-07T10:03:14.699Z"
   },
   {
    "duration": 5,
    "start_time": "2024-09-07T10:03:48.813Z"
   },
   {
    "duration": 20,
    "start_time": "2024-09-07T10:06:28.081Z"
   },
   {
    "duration": 17,
    "start_time": "2024-09-07T10:08:20.499Z"
   },
   {
    "duration": 27,
    "start_time": "2024-09-07T10:10:11.384Z"
   },
   {
    "duration": 14,
    "start_time": "2024-09-07T10:10:43.767Z"
   },
   {
    "duration": 39,
    "start_time": "2024-09-07T10:11:40.387Z"
   },
   {
    "duration": 5218,
    "start_time": "2024-09-07T10:11:40.474Z"
   },
   {
    "duration": 1298,
    "start_time": "2024-09-07T10:11:45.694Z"
   },
   {
    "duration": 1058,
    "start_time": "2024-09-07T10:11:46.993Z"
   },
   {
    "duration": 478,
    "start_time": "2024-09-07T10:11:48.052Z"
   },
   {
    "duration": 605,
    "start_time": "2024-09-07T10:11:48.532Z"
   },
   {
    "duration": 1343,
    "start_time": "2024-09-07T10:11:49.138Z"
   },
   {
    "duration": 148,
    "start_time": "2024-09-07T10:11:50.483Z"
   },
   {
    "duration": 583,
    "start_time": "2024-09-07T10:11:50.633Z"
   },
   {
    "duration": 3228,
    "start_time": "2024-09-07T10:11:51.218Z"
   },
   {
    "duration": 447,
    "start_time": "2024-09-07T10:11:54.448Z"
   },
   {
    "duration": 266,
    "start_time": "2024-09-07T10:11:54.897Z"
   },
   {
    "duration": 42,
    "start_time": "2024-09-07T10:11:55.165Z"
   },
   {
    "duration": 2272,
    "start_time": "2024-09-07T10:11:55.209Z"
   },
   {
    "duration": 34,
    "start_time": "2024-09-07T10:11:57.483Z"
   },
   {
    "duration": 5,
    "start_time": "2024-09-07T10:11:57.519Z"
   },
   {
    "duration": 4464,
    "start_time": "2024-09-07T10:11:57.526Z"
   },
   {
    "duration": 74,
    "start_time": "2024-09-07T10:12:01.992Z"
   },
   {
    "duration": 5,
    "start_time": "2024-09-07T10:12:02.068Z"
   },
   {
    "duration": 7437,
    "start_time": "2024-09-07T10:12:02.074Z"
   },
   {
    "duration": 73,
    "start_time": "2024-09-07T10:12:09.606Z"
   },
   {
    "duration": 1872,
    "start_time": "2024-09-07T10:12:09.681Z"
   },
   {
    "duration": 35528,
    "start_time": "2024-09-07T10:12:11.554Z"
   },
   {
    "duration": 0,
    "start_time": "2024-09-07T10:12:47.084Z"
   },
   {
    "duration": 0,
    "start_time": "2024-09-07T10:12:47.085Z"
   },
   {
    "duration": 0,
    "start_time": "2024-09-07T10:12:47.086Z"
   },
   {
    "duration": 0,
    "start_time": "2024-09-07T10:12:47.087Z"
   },
   {
    "duration": 0,
    "start_time": "2024-09-07T10:12:47.088Z"
   },
   {
    "duration": 0,
    "start_time": "2024-09-07T10:12:47.089Z"
   },
   {
    "duration": 631,
    "start_time": "2024-09-07T10:15:37.990Z"
   },
   {
    "duration": 23,
    "start_time": "2024-09-07T10:15:45.685Z"
   },
   {
    "duration": 669,
    "start_time": "2024-09-07T10:16:37.005Z"
   },
   {
    "duration": 9260,
    "start_time": "2024-09-07T10:16:43.268Z"
   },
   {
    "duration": 126,
    "start_time": "2024-09-07T10:17:09.274Z"
   },
   {
    "duration": 191809,
    "start_time": "2024-09-07T10:17:20.814Z"
   },
   {
    "duration": 33,
    "start_time": "2024-09-07T10:21:43.936Z"
   },
   {
    "duration": 5263,
    "start_time": "2024-09-07T10:21:44.018Z"
   },
   {
    "duration": 1285,
    "start_time": "2024-09-07T10:21:49.283Z"
   },
   {
    "duration": 998,
    "start_time": "2024-09-07T10:21:50.570Z"
   },
   {
    "duration": 432,
    "start_time": "2024-09-07T10:21:51.570Z"
   },
   {
    "duration": 535,
    "start_time": "2024-09-07T10:21:52.006Z"
   },
   {
    "duration": 1324,
    "start_time": "2024-09-07T10:21:52.543Z"
   },
   {
    "duration": 145,
    "start_time": "2024-09-07T10:21:53.868Z"
   },
   {
    "duration": 553,
    "start_time": "2024-09-07T10:21:54.014Z"
   },
   {
    "duration": 3283,
    "start_time": "2024-09-07T10:21:54.569Z"
   },
   {
    "duration": 464,
    "start_time": "2024-09-07T10:21:57.853Z"
   },
   {
    "duration": 275,
    "start_time": "2024-09-07T10:21:58.319Z"
   },
   {
    "duration": 36,
    "start_time": "2024-09-07T10:21:58.595Z"
   },
   {
    "duration": 2250,
    "start_time": "2024-09-07T10:21:58.633Z"
   },
   {
    "duration": 45,
    "start_time": "2024-09-07T10:22:00.886Z"
   },
   {
    "duration": 18,
    "start_time": "2024-09-07T10:22:00.932Z"
   },
   {
    "duration": 4465,
    "start_time": "2024-09-07T10:22:00.951Z"
   },
   {
    "duration": 74,
    "start_time": "2024-09-07T10:22:05.418Z"
   },
   {
    "duration": 18,
    "start_time": "2024-09-07T10:22:05.493Z"
   },
   {
    "duration": 7396,
    "start_time": "2024-09-07T10:22:05.513Z"
   },
   {
    "duration": 155,
    "start_time": "2024-09-07T10:22:12.913Z"
   },
   {
    "duration": 683,
    "start_time": "2024-09-07T10:22:13.069Z"
   },
   {
    "duration": 16823,
    "start_time": "2024-09-07T10:22:13.753Z"
   },
   {
    "duration": 139,
    "start_time": "2024-09-07T10:22:30.577Z"
   },
   {
    "duration": 0,
    "start_time": "2024-09-07T10:22:30.718Z"
   },
   {
    "duration": 0,
    "start_time": "2024-09-07T10:22:30.719Z"
   },
   {
    "duration": 0,
    "start_time": "2024-09-07T10:22:30.721Z"
   },
   {
    "duration": 0,
    "start_time": "2024-09-07T10:22:30.722Z"
   },
   {
    "duration": 0,
    "start_time": "2024-09-07T10:22:30.723Z"
   },
   {
    "duration": 0,
    "start_time": "2024-09-07T10:22:30.724Z"
   },
   {
    "duration": 73646,
    "start_time": "2024-09-07T10:23:33.370Z"
   },
   {
    "duration": 256986,
    "start_time": "2024-09-07T10:26:19.824Z"
   },
   {
    "duration": 2,
    "start_time": "2024-09-07T10:31:09.304Z"
   },
   {
    "duration": 14,
    "start_time": "2024-09-07T10:31:12.913Z"
   },
   {
    "duration": 518,
    "start_time": "2024-09-07T10:31:32.498Z"
   },
   {
    "duration": 9571,
    "start_time": "2024-09-07T10:31:34.842Z"
   },
   {
    "duration": 26,
    "start_time": "2024-09-07T10:31:44.415Z"
   },
   {
    "duration": 2381,
    "start_time": "2024-09-07T10:31:44.443Z"
   },
   {
    "duration": 5,
    "start_time": "2024-09-07T10:33:43.972Z"
   },
   {
    "duration": 6,
    "start_time": "2024-09-07T10:33:48.411Z"
   },
   {
    "duration": 3,
    "start_time": "2024-09-07T10:37:14.662Z"
   },
   {
    "duration": 4,
    "start_time": "2024-09-07T10:37:30.070Z"
   },
   {
    "duration": 9,
    "start_time": "2024-09-07T10:37:33.497Z"
   },
   {
    "duration": 17,
    "start_time": "2024-09-07T10:43:34.527Z"
   },
   {
    "duration": 18,
    "start_time": "2024-09-07T10:43:40.373Z"
   },
   {
    "duration": 748,
    "start_time": "2024-09-07T10:44:10.397Z"
   },
   {
    "duration": 746,
    "start_time": "2024-09-07T10:44:15.782Z"
   },
   {
    "duration": 39,
    "start_time": "2024-09-07T10:44:40.597Z"
   },
   {
    "duration": 5329,
    "start_time": "2024-09-07T10:44:40.637Z"
   },
   {
    "duration": 1355,
    "start_time": "2024-09-07T10:44:45.968Z"
   },
   {
    "duration": 1059,
    "start_time": "2024-09-07T10:44:47.326Z"
   },
   {
    "duration": 461,
    "start_time": "2024-09-07T10:44:48.386Z"
   },
   {
    "duration": 591,
    "start_time": "2024-09-07T10:44:48.849Z"
   },
   {
    "duration": 1317,
    "start_time": "2024-09-07T10:44:49.442Z"
   },
   {
    "duration": 153,
    "start_time": "2024-09-07T10:44:50.761Z"
   },
   {
    "duration": 560,
    "start_time": "2024-09-07T10:44:50.916Z"
   },
   {
    "duration": 3269,
    "start_time": "2024-09-07T10:44:51.479Z"
   },
   {
    "duration": 442,
    "start_time": "2024-09-07T10:44:54.749Z"
   },
   {
    "duration": 264,
    "start_time": "2024-09-07T10:44:55.193Z"
   },
   {
    "duration": 32,
    "start_time": "2024-09-07T10:44:55.458Z"
   },
   {
    "duration": 2277,
    "start_time": "2024-09-07T10:44:55.491Z"
   },
   {
    "duration": 39,
    "start_time": "2024-09-07T10:44:57.769Z"
   },
   {
    "duration": 41,
    "start_time": "2024-09-07T10:44:57.809Z"
   },
   {
    "duration": 4387,
    "start_time": "2024-09-07T10:44:57.852Z"
   },
   {
    "duration": 80,
    "start_time": "2024-09-07T10:45:02.241Z"
   },
   {
    "duration": 7,
    "start_time": "2024-09-07T10:45:02.324Z"
   },
   {
    "duration": 6982,
    "start_time": "2024-09-07T10:45:02.333Z"
   },
   {
    "duration": 241,
    "start_time": "2024-09-07T10:45:09.318Z"
   },
   {
    "duration": 653,
    "start_time": "2024-09-07T10:45:09.561Z"
   },
   {
    "duration": 15849,
    "start_time": "2024-09-07T10:45:10.215Z"
   },
   {
    "duration": 1128026,
    "start_time": "2024-09-07T10:45:26.066Z"
   },
   {
    "duration": 0,
    "start_time": "2024-09-07T11:04:14.094Z"
   },
   {
    "duration": 0,
    "start_time": "2024-09-07T11:04:14.095Z"
   },
   {
    "duration": 0,
    "start_time": "2024-09-07T11:04:14.096Z"
   },
   {
    "duration": 0,
    "start_time": "2024-09-07T11:04:14.097Z"
   },
   {
    "duration": 0,
    "start_time": "2024-09-07T11:04:14.109Z"
   },
   {
    "duration": 0,
    "start_time": "2024-09-07T11:04:14.109Z"
   },
   {
    "duration": 0,
    "start_time": "2024-09-07T11:04:14.111Z"
   },
   {
    "duration": 39,
    "start_time": "2024-09-07T11:04:49.209Z"
   },
   {
    "duration": 6464,
    "start_time": "2024-09-07T11:04:49.249Z"
   },
   {
    "duration": 1393,
    "start_time": "2024-09-07T11:04:55.715Z"
   },
   {
    "duration": 1097,
    "start_time": "2024-09-07T11:04:57.111Z"
   },
   {
    "duration": 513,
    "start_time": "2024-09-07T11:04:58.211Z"
   },
   {
    "duration": 633,
    "start_time": "2024-09-07T11:04:58.727Z"
   },
   {
    "duration": 1493,
    "start_time": "2024-09-07T11:04:59.362Z"
   },
   {
    "duration": 156,
    "start_time": "2024-09-07T11:05:00.856Z"
   },
   {
    "duration": 640,
    "start_time": "2024-09-07T11:05:01.014Z"
   },
   {
    "duration": 3522,
    "start_time": "2024-09-07T11:05:01.656Z"
   },
   {
    "duration": 477,
    "start_time": "2024-09-07T11:05:05.180Z"
   },
   {
    "duration": 287,
    "start_time": "2024-09-07T11:05:05.659Z"
   },
   {
    "duration": 31,
    "start_time": "2024-09-07T11:05:05.948Z"
   },
   {
    "duration": 2518,
    "start_time": "2024-09-07T11:05:05.981Z"
   },
   {
    "duration": 46,
    "start_time": "2024-09-07T11:05:08.501Z"
   },
   {
    "duration": 28,
    "start_time": "2024-09-07T11:05:08.549Z"
   },
   {
    "duration": 4761,
    "start_time": "2024-09-07T11:05:08.579Z"
   },
   {
    "duration": 84,
    "start_time": "2024-09-07T11:05:13.341Z"
   },
   {
    "duration": 6,
    "start_time": "2024-09-07T11:05:13.427Z"
   },
   {
    "duration": 7683,
    "start_time": "2024-09-07T11:05:13.434Z"
   },
   {
    "duration": 158,
    "start_time": "2024-09-07T11:05:21.122Z"
   },
   {
    "duration": 725,
    "start_time": "2024-09-07T11:05:21.282Z"
   },
   {
    "duration": 16748,
    "start_time": "2024-09-07T11:05:22.010Z"
   },
   {
    "duration": 282290,
    "start_time": "2024-09-07T11:05:38.759Z"
   },
   {
    "duration": 0,
    "start_time": "2024-09-07T11:10:21.050Z"
   },
   {
    "duration": 0,
    "start_time": "2024-09-07T11:10:21.052Z"
   },
   {
    "duration": 0,
    "start_time": "2024-09-07T11:10:21.053Z"
   },
   {
    "duration": 0,
    "start_time": "2024-09-07T11:10:21.054Z"
   },
   {
    "duration": 0,
    "start_time": "2024-09-07T11:10:21.055Z"
   },
   {
    "duration": 0,
    "start_time": "2024-09-07T11:10:21.056Z"
   },
   {
    "duration": 0,
    "start_time": "2024-09-07T11:10:21.057Z"
   },
   {
    "duration": 203127,
    "start_time": "2024-09-07T11:10:30.806Z"
   },
   {
    "duration": 5,
    "start_time": "2024-09-07T11:15:16.487Z"
   },
   {
    "duration": 2,
    "start_time": "2024-09-07T11:15:18.405Z"
   },
   {
    "duration": 5,
    "start_time": "2024-09-07T11:15:28.015Z"
   },
   {
    "duration": 10,
    "start_time": "2024-09-07T11:15:39.498Z"
   },
   {
    "duration": 10,
    "start_time": "2024-09-07T11:15:48.126Z"
   },
   {
    "duration": 672,
    "start_time": "2024-09-07T11:15:54.531Z"
   },
   {
    "duration": 56742,
    "start_time": "2024-09-07T11:15:59.289Z"
   },
   {
    "duration": 16,
    "start_time": "2024-09-07T11:17:11.505Z"
   },
   {
    "duration": 625,
    "start_time": "2024-09-07T11:17:23.377Z"
   },
   {
    "duration": 112835,
    "start_time": "2024-09-07T11:17:59.286Z"
   },
   {
    "duration": 10,
    "start_time": "2024-09-07T11:20:10.658Z"
   },
   {
    "duration": 680,
    "start_time": "2024-09-07T11:20:23.964Z"
   },
   {
    "duration": 179231,
    "start_time": "2024-09-07T11:20:30.477Z"
   },
   {
    "duration": 18,
    "start_time": "2024-09-07T11:24:11.529Z"
   },
   {
    "duration": 17,
    "start_time": "2024-09-07T11:24:16.129Z"
   },
   {
    "duration": 656,
    "start_time": "2024-09-07T11:24:38.276Z"
   },
   {
    "duration": 396652,
    "start_time": "2024-09-07T11:24:44.385Z"
   },
   {
    "duration": 3,
    "start_time": "2024-09-07T11:31:30.674Z"
   },
   {
    "duration": 507,
    "start_time": "2024-09-07T11:31:30.930Z"
   },
   {
    "duration": 85071,
    "start_time": "2024-09-07T11:31:31.439Z"
   },
   {
    "duration": 31,
    "start_time": "2024-09-07T11:32:56.512Z"
   },
   {
    "duration": 1963,
    "start_time": "2024-09-07T11:32:56.545Z"
   },
   {
    "duration": 12,
    "start_time": "2024-09-07T11:32:58.510Z"
   },
   {
    "duration": 699,
    "start_time": "2024-09-07T11:32:58.525Z"
   },
   {
    "duration": 12,
    "start_time": "2024-09-07T11:34:00.311Z"
   },
   {
    "duration": 604,
    "start_time": "2024-09-07T11:34:07.521Z"
   },
   {
    "duration": 35,
    "start_time": "2024-09-07T11:34:31.240Z"
   },
   {
    "duration": 5776,
    "start_time": "2024-09-07T11:34:31.277Z"
   },
   {
    "duration": 1387,
    "start_time": "2024-09-07T11:34:37.055Z"
   },
   {
    "duration": 1087,
    "start_time": "2024-09-07T11:34:38.444Z"
   },
   {
    "duration": 463,
    "start_time": "2024-09-07T11:34:39.533Z"
   },
   {
    "duration": 581,
    "start_time": "2024-09-07T11:34:39.999Z"
   },
   {
    "duration": 1418,
    "start_time": "2024-09-07T11:34:40.582Z"
   },
   {
    "duration": 163,
    "start_time": "2024-09-07T11:34:42.002Z"
   },
   {
    "duration": 643,
    "start_time": "2024-09-07T11:34:42.166Z"
   },
   {
    "duration": 3662,
    "start_time": "2024-09-07T11:34:42.811Z"
   },
   {
    "duration": 470,
    "start_time": "2024-09-07T11:34:46.474Z"
   },
   {
    "duration": 292,
    "start_time": "2024-09-07T11:34:46.946Z"
   },
   {
    "duration": 33,
    "start_time": "2024-09-07T11:34:47.240Z"
   },
   {
    "duration": 2502,
    "start_time": "2024-09-07T11:34:47.278Z"
   },
   {
    "duration": 40,
    "start_time": "2024-09-07T11:34:49.781Z"
   },
   {
    "duration": 5,
    "start_time": "2024-09-07T11:34:49.823Z"
   },
   {
    "duration": 4526,
    "start_time": "2024-09-07T11:34:49.830Z"
   },
   {
    "duration": 80,
    "start_time": "2024-09-07T11:34:54.357Z"
   },
   {
    "duration": 4,
    "start_time": "2024-09-07T11:34:54.439Z"
   },
   {
    "duration": 7761,
    "start_time": "2024-09-07T11:34:54.445Z"
   },
   {
    "duration": 166,
    "start_time": "2024-09-07T11:35:02.209Z"
   },
   {
    "duration": 691,
    "start_time": "2024-09-07T11:35:02.377Z"
   },
   {
    "duration": 16425,
    "start_time": "2024-09-07T11:35:03.070Z"
   },
   {
    "duration": 346332,
    "start_time": "2024-09-07T11:35:19.496Z"
   },
   {
    "duration": 4,
    "start_time": "2024-09-07T11:41:05.908Z"
   },
   {
    "duration": 509,
    "start_time": "2024-09-07T11:41:05.914Z"
   },
   {
    "duration": 73283,
    "start_time": "2024-09-07T11:41:06.425Z"
   },
   {
    "duration": 30,
    "start_time": "2024-09-07T11:42:19.710Z"
   },
   {
    "duration": 1804,
    "start_time": "2024-09-07T11:42:19.742Z"
   },
   {
    "duration": 18,
    "start_time": "2024-09-07T11:42:21.608Z"
   },
   {
    "duration": 683,
    "start_time": "2024-09-07T11:42:21.627Z"
   },
   {
    "duration": 52,
    "start_time": "2024-09-08T05:20:54.796Z"
   },
   {
    "duration": 14,
    "start_time": "2024-09-08T05:22:04.765Z"
   },
   {
    "duration": 8,
    "start_time": "2024-09-08T05:33:10.732Z"
   },
   {
    "duration": 51,
    "start_time": "2024-11-05T11:57:17.761Z"
   },
   {
    "duration": 9814,
    "start_time": "2024-11-05T11:57:17.814Z"
   },
   {
    "duration": 1357,
    "start_time": "2024-11-05T11:57:27.630Z"
   },
   {
    "duration": 2935,
    "start_time": "2024-11-05T11:57:28.989Z"
   },
   {
    "duration": 377,
    "start_time": "2024-11-05T11:57:31.926Z"
   },
   {
    "duration": 463,
    "start_time": "2024-11-05T11:57:32.305Z"
   },
   {
    "duration": 1116,
    "start_time": "2024-11-05T11:57:32.769Z"
   },
   {
    "duration": 102,
    "start_time": "2024-11-05T11:57:33.887Z"
   },
   {
    "duration": 492,
    "start_time": "2024-11-05T11:57:33.991Z"
   },
   {
    "duration": 3171,
    "start_time": "2024-11-05T11:57:34.486Z"
   },
   {
    "duration": 301,
    "start_time": "2024-11-05T11:57:37.658Z"
   },
   {
    "duration": 231,
    "start_time": "2024-11-05T11:57:37.961Z"
   },
   {
    "duration": 36,
    "start_time": "2024-11-05T11:57:38.194Z"
   },
   {
    "duration": 2106,
    "start_time": "2024-11-05T11:57:38.232Z"
   },
   {
    "duration": 36,
    "start_time": "2024-11-05T11:57:40.339Z"
   },
   {
    "duration": 3,
    "start_time": "2024-11-05T11:57:40.377Z"
   },
   {
    "duration": 3593,
    "start_time": "2024-11-05T11:57:40.382Z"
   },
   {
    "duration": 81,
    "start_time": "2024-11-05T11:57:43.976Z"
   },
   {
    "duration": 5,
    "start_time": "2024-11-05T11:57:44.059Z"
   },
   {
    "duration": 6352,
    "start_time": "2024-11-05T11:57:44.066Z"
   },
   {
    "duration": 242,
    "start_time": "2024-11-05T11:57:50.420Z"
   },
   {
    "duration": 589,
    "start_time": "2024-11-05T11:57:50.663Z"
   },
   {
    "duration": 16470,
    "start_time": "2024-11-05T11:57:51.254Z"
   },
   {
    "duration": 47788,
    "start_time": "2024-11-05T11:58:07.725Z"
   },
   {
    "duration": 2,
    "start_time": "2024-11-05T11:58:55.515Z"
   },
   {
    "duration": 547,
    "start_time": "2024-11-05T11:58:55.518Z"
   },
   {
    "duration": 7650,
    "start_time": "2024-11-05T11:58:56.066Z"
   },
   {
    "duration": 31,
    "start_time": "2024-11-05T11:59:03.718Z"
   },
   {
    "duration": 1981,
    "start_time": "2024-11-05T11:59:03.750Z"
   },
   {
    "duration": 8,
    "start_time": "2024-11-05T11:59:05.733Z"
   },
   {
    "duration": 770,
    "start_time": "2024-11-05T11:59:05.743Z"
   }
  ],
  "kernelspec": {
   "display_name": "Python 3 (ipykernel)",
   "language": "python",
   "name": "python3"
  },
  "language_info": {
   "codemirror_mode": {
    "name": "ipython",
    "version": 3
   },
   "file_extension": ".py",
   "mimetype": "text/x-python",
   "name": "python",
   "nbconvert_exporter": "python",
   "pygments_lexer": "ipython3",
   "version": "3.12.4"
  },
  "toc": {
   "base_numbering": 1,
   "nav_menu": {},
   "number_sections": true,
   "sideBar": true,
   "skip_h1_title": true,
   "title_cell": "Table of Contents",
   "title_sidebar": "Contents",
   "toc_cell": false,
   "toc_position": {
    "height": "calc(100% - 180px)",
    "left": "10px",
    "top": "150px",
    "width": "165px"
   },
   "toc_section_display": true,
   "toc_window_display": true
  }
 },
 "nbformat": 4,
 "nbformat_minor": 4
}
