{
 "cells": [
  {
   "cell_type": "markdown",
   "metadata": {},
   "source": [
    "<img src=\"http://s3.amazonaws.com/pix.iemoji.com/images/emoji/apple/ios-12/256/waving-hand.png\" align=left width=44, heigth=44>\n",
    "<div class=\"alert alert-info\">\n",
    "<b> Комментарий ревьюера</b>\n",
    "\n",
    "\n",
    "Привет, Никита ! Давай знакомиться! Меня зовут Дмитрий Махортов, и я буду проверять твой проект. Сразу предлагаю общение на «ты» 🙂, но если тебе это не комфортно, то дай знать, и мы перейдем на «вы». \n",
    "\n",
    "Моя основная цель — не указать на совершенные тобою ошибки, а поделиться своим опытом и помочь тебе погрузиться в увлекательный мир работы с данными и вырасти в крепкого профи. Это отдаленная цель. А ближайшая - сделать твою работу еще лучше )).\n",
    "   \n",
    "    \n",
    "Все ключевые этапы в работе выполнены, и я вижу что с проектом ты справшяешься. Есть моменты, которые нужно доработать, но я уверен, у тебя все получится.\n",
    "        \n",
    "Расскажу как обычно проходит проверка:    \n",
    "Бывают моменты, которые требуют пристального внимания. Комментарии по ним выделены <span style='background-color:#F7B3A4'> красным цветом </span> и обозначены значком 🛑. После их доработки проект будет принят.  🙂\n",
    " \n",
    "<span style='background-color:#B7EBA7'> Зеленым цветом </span> и значком ✅ отмечены удачные и элегантные решения, на которые можно опираться в будущих проектах. Или советы «со звездочкой», которые помогут тебе в будущем.\n",
    "\n",
    "<span style='background-color:#F9EDA6'>Жёлтым цветом </span> и значком ⚠️ выделено то, что в следующий раз можно сделать по-другому. Ты можешь учесть эти комментарии при выполнении будущих заданий или доработать проект сейчас (однако это не обязательно).\n",
    "\n",
    "Давай работать над проектом в диалоге: **если ты что-то меняешь в проекте по моим рекомендациям — пиши об этом**. Выбери для своих комментариев какой-то заметный цвет, так мне будет легче отследить изменения. Пожалуйста, **не перемещай, не изменяй и не удаляй мои комментарии**. Всё это поможет выполнить повторную проверку твоего проекта оперативнее. \n",
    "</div>"
   ]
  },
  {
   "cell_type": "markdown",
   "metadata": {},
   "source": [
    "<div class=\"alert\" style=\"background-color:#ead7f7;color:#8737bf\">\n",
    "    <font size=\"3\"><b>образец комментария студента</b></font>\n",
    "   \n",
    "Можешь использовать этот комментарий. Просто удали этот текст и вместо него напиши свой 🙂\n",
    "\n",
    "</div>"
   ]
  },
  {
   "cell_type": "markdown",
   "metadata": {},
   "source": [
    "<div class = 'alert alert-info'> \n",
    "    Привет, Дмитрий) приятно познакомиться "
   ]
  },
  {
   "cell_type": "markdown",
   "metadata": {
    "toc": true
   },
   "source": [
    "<h1>Содержание<span class=\"tocSkip\"></span></h1>\n",
    "<div class=\"toc\"><ul class=\"toc-item\"><li><span><a href=\"#Импорт-необходимых-библиотек\" data-toc-modified-id=\"Импорт-необходимых-библиотек-1\"><span class=\"toc-item-num\">1&nbsp;&nbsp;</span>Импорт необходимых библиотек</a></span></li><li><span><a href=\"#Подготовка\" data-toc-modified-id=\"Подготовка-2\"><span class=\"toc-item-num\">2&nbsp;&nbsp;</span>Подготовка</a></span></li><li><span><a href=\"#Анализ\" data-toc-modified-id=\"Анализ-3\"><span class=\"toc-item-num\">3&nbsp;&nbsp;</span>Анализ</a></span></li><li><span><a href=\"#Обучение\" data-toc-modified-id=\"Обучение-4\"><span class=\"toc-item-num\">4&nbsp;&nbsp;</span>Обучение</a></span></li><li><span><a href=\"#Тестирование\" data-toc-modified-id=\"Тестирование-5\"><span class=\"toc-item-num\">5&nbsp;&nbsp;</span>Тестирование</a></span></li><li><span><a href=\"#Чек-лист-проверки\" data-toc-modified-id=\"Чек-лист-проверки-6\"><span class=\"toc-item-num\">6&nbsp;&nbsp;</span>Чек-лист проверки</a></span></li></ul></div>"
   ]
  },
  {
   "cell_type": "markdown",
   "metadata": {},
   "source": [
    "#  Прогнозирование заказов такси"
   ]
  },
  {
   "cell_type": "markdown",
   "metadata": {},
   "source": [
    "Компания «Чётенькое такси» собрала исторические данные о заказах такси в аэропортах. Чтобы привлекать больше водителей в период пиковой нагрузки, нужно спрогнозировать количество заказов такси на следующий час. Постройте модель для такого предсказания.\n",
    "\n",
    "Значение метрики *RMSE* на тестовой выборке должно быть не больше 48.\n",
    "\n",
    "Вам нужно:\n",
    "\n",
    "1. Загрузить данные и выполнить их ресемплирование по одному часу.\n",
    "2. Проанализировать данные.\n",
    "3. Обучить разные модели с различными гиперпараметрами. Сделать тестовую выборку размером 10% от исходных данных.\n",
    "4. Проверить данные на тестовой выборке и сделать выводы.\n",
    "\n",
    "\n",
    "Данные лежат в файле `taxi.csv`. Количество заказов находится в столбце `num_orders` (от англ. *number of orders*, «число заказов»)."
   ]
  },
  {
   "cell_type": "code",
   "execution_count": 1,
   "metadata": {},
   "outputs": [
    {
     "data": {
      "text/html": [
       "<style>.container { width:90% !important; }</style>"
      ],
      "text/plain": [
       "<IPython.core.display.HTML object>"
      ]
     },
     "metadata": {},
     "output_type": "display_data"
    }
   ],
   "source": [
    "from IPython.core.display import display, HTML\n",
    "display(HTML(\"<style>.container { width:90% !important; }</style>\"))"
   ]
  },
  {
   "cell_type": "markdown",
   "metadata": {},
   "source": [
    "## Импорт необходимых библиотек"
   ]
  },
  {
   "cell_type": "code",
   "execution_count": 2,
   "metadata": {},
   "outputs": [],
   "source": [
    "import pandas as pd\n",
    "from sklearn.metrics import mean_squared_error\n",
    "import matplotlib.pyplot as plt\n",
    "from statsmodels.tsa.seasonal import seasonal_decompose\n",
    "from sklearn.model_selection import train_test_split\n",
    "from sklearn.linear_model import LinearRegression\n",
    "from sklearn.tree import DecisionTreeRegressor \n",
    "from sklearn.ensemble import RandomForestRegressor\n",
    "from catboost import CatBoostRegressor\n",
    "from sklearn.model_selection import RandomizedSearchCV\n",
    "from sklearn.pipeline import Pipeline\n",
    "from sklearn.model_selection import TimeSeriesSplit"
   ]
  },
  {
   "cell_type": "markdown",
   "metadata": {},
   "source": [
    "<img src=\"https://emojigraph.org/media/apple/check-mark-button_2705.png\" align=left width=33, heigth=33>\n",
    "<div class=\"alert alert-success\">\n",
    "Отлично, все нужные библиотеки импортированы в начале ноутбука.Это хорошая практика.</div>"
   ]
  },
  {
   "cell_type": "markdown",
   "metadata": {},
   "source": [
    "## Подготовка"
   ]
  },
  {
   "cell_type": "code",
   "execution_count": 3,
   "metadata": {},
   "outputs": [
    {
     "name": "stdout",
     "output_type": "stream",
     "text": [
      "<class 'pandas.core.frame.DataFrame'>\n",
      "DatetimeIndex: 26496 entries, 2018-03-01 00:00:00 to 2018-08-31 23:50:00\n",
      "Data columns (total 1 columns):\n",
      " #   Column      Non-Null Count  Dtype\n",
      "---  ------      --------------  -----\n",
      " 0   num_orders  26496 non-null  int64\n",
      "dtypes: int64(1)\n",
      "memory usage: 414.0 KB\n"
     ]
    },
    {
     "data": {
      "text/html": [
       "<div>\n",
       "<style scoped>\n",
       "    .dataframe tbody tr th:only-of-type {\n",
       "        vertical-align: middle;\n",
       "    }\n",
       "\n",
       "    .dataframe tbody tr th {\n",
       "        vertical-align: top;\n",
       "    }\n",
       "\n",
       "    .dataframe thead th {\n",
       "        text-align: right;\n",
       "    }\n",
       "</style>\n",
       "<table border=\"1\" class=\"dataframe\">\n",
       "  <thead>\n",
       "    <tr style=\"text-align: right;\">\n",
       "      <th></th>\n",
       "      <th>num_orders</th>\n",
       "    </tr>\n",
       "    <tr>\n",
       "      <th>datetime</th>\n",
       "      <th></th>\n",
       "    </tr>\n",
       "  </thead>\n",
       "  <tbody>\n",
       "    <tr>\n",
       "      <th>2018-03-01 00:00:00</th>\n",
       "      <td>9</td>\n",
       "    </tr>\n",
       "    <tr>\n",
       "      <th>2018-03-01 00:10:00</th>\n",
       "      <td>14</td>\n",
       "    </tr>\n",
       "    <tr>\n",
       "      <th>2018-03-01 00:20:00</th>\n",
       "      <td>28</td>\n",
       "    </tr>\n",
       "    <tr>\n",
       "      <th>2018-03-01 00:30:00</th>\n",
       "      <td>20</td>\n",
       "    </tr>\n",
       "    <tr>\n",
       "      <th>2018-03-01 00:40:00</th>\n",
       "      <td>32</td>\n",
       "    </tr>\n",
       "  </tbody>\n",
       "</table>\n",
       "</div>"
      ],
      "text/plain": [
       "                     num_orders\n",
       "datetime                       \n",
       "2018-03-01 00:00:00           9\n",
       "2018-03-01 00:10:00          14\n",
       "2018-03-01 00:20:00          28\n",
       "2018-03-01 00:30:00          20\n",
       "2018-03-01 00:40:00          32"
      ]
     },
     "metadata": {},
     "output_type": "display_data"
    }
   ],
   "source": [
    "data = pd.read_csv('/datasets/taxi.csv', index_col = [0], parse_dates = [0]) #выполним загрузку данных\n",
    "\n",
    "data.info()\n",
    "display(data.head(5))"
   ]
  },
  {
   "cell_type": "markdown",
   "metadata": {},
   "source": [
    "<img src=\"https://emojigraph.org/media/apple/check-mark-button_2705.png\" align=left width=33, heigth=33>\n",
    "<div class=\"alert alert-success\">\n",
    " 👍 Отлично, при загрузке сразу обрабатываются даты</div>"
   ]
  },
  {
   "cell_type": "markdown",
   "metadata": {},
   "source": [
    "<img src=\"https://upload.wikimedia.org/wikipedia/commons/b/ba/Warning_sign_4.0.png\" align=left width=44, heigth=33>\n",
    "<div class=\"alert alert-warning\">\n",
    "Не советую использовать метод print() для вывода таблиц, получается не очень красиво. В большинстве случаев можно вообще обойтись без команды, достаточно обратиться к таблице в последней строке ячейки. Или использовать команду display()\n",
    "</div>"
   ]
  },
  {
   "cell_type": "markdown",
   "metadata": {},
   "source": [
    "<img src=\"https://upload.wikimedia.org/wikipedia/commons/b/ba/Warning_sign_4.0.png\" align=left width=44, heigth=33>\n",
    "<div class=\"alert alert-warning\">\n",
    "А вот оборачивать результат работы метода  .info() в функцию print() или display() это лишнее. Метод  info() и сам напечатает тебе нужную информацию. А вот через print()/display() ты выводишь только то,что данный метод возвращает - т.е. None\n",
    "</div>"
   ]
  },
  {
   "cell_type": "markdown",
   "metadata": {},
   "source": [
    "<div class = 'alert alert-info'>\n",
    "    Принял, поправил"
   ]
  },
  {
   "cell_type": "markdown",
   "metadata": {},
   "source": [
    "<img src=\"https://emojigraph.org/media/apple/check-mark-button_2705.png\" align=left width=33, heigth=33>\n",
    "<div class=\"alert alert-success\">\n",
    "    <b>v2</b> 👍 </div>"
   ]
  },
  {
   "cell_type": "code",
   "execution_count": 4,
   "metadata": {},
   "outputs": [],
   "source": [
    "#Выполним ресемплирование \n",
    "\n",
    "data = data.resample('1H').sum()"
   ]
  },
  {
   "cell_type": "markdown",
   "metadata": {},
   "source": [
    "<img src=\"https://emojigraph.org/media/apple/check-mark-button_2705.png\" align=left width=33, heigth=33>\n",
    "<div class=\"alert alert-success\">\n",
    " 👍 Да, ресемплирование выполнено верно. И хорошо, что в качестве агрегирующей функции ты используешь сумму, её проще интерпретировать. </div>"
   ]
  },
  {
   "cell_type": "code",
   "execution_count": 5,
   "metadata": {},
   "outputs": [
    {
     "name": "stdout",
     "output_type": "stream",
     "text": [
      "True\n"
     ]
    }
   ],
   "source": [
    "#Проверим монотонность индекса\n",
    "\n",
    "print(data.index.is_monotonic)"
   ]
  },
  {
   "cell_type": "markdown",
   "metadata": {},
   "source": [
    "<div style = \"border:solid Chocolate 2px; padding: 40px\">\n",
    "\n",
    "<font color = 'green' size = 4> Результат данного пункта: </font>\n",
    "    \n",
    "    - Выгрузили файл\n",
    "    - Первым делом преобразовали дату в необходимый формат и сделали ее индексом\n",
    "    - Нашли общее количество заказов за необходимый нам час, т.к. мы должны определить пиковую нагрузку \n",
    "    \n",
    "Переходим к анализу файла"
   ]
  },
  {
   "cell_type": "markdown",
   "metadata": {},
   "source": [
    "## Анализ"
   ]
  },
  {
   "cell_type": "code",
   "execution_count": 6,
   "metadata": {},
   "outputs": [
    {
     "data": {
      "image/png": "[encoded data removed]",
      "text/plain": [
       "<Figure size 1080x288 with 1 Axes>"
      ]
     },
     "metadata": {
      "needs_background": "light"
     },
     "output_type": "display_data"
    },
    {
     "data": {
      "image/png": "[encoded data removed]",
      "text/plain": [
       "<Figure size 1080x288 with 1 Axes>"
      ]
     },
     "metadata": {
      "needs_background": "light"
     },
     "output_type": "display_data"
    }
   ],
   "source": [
    "#Изучим полностью график, \n",
    "\n",
    "def exploration (df, i, j):\n",
    "    data = df [i:j]\n",
    "    data.plot(figsize = (15,4))\n",
    "    data['num_orders'].rolling(12).mean().plot(color = 'red')\n",
    "    plt.xlabel('Дни')\n",
    "    plt.ylabel('Значения')\n",
    "    plt.title(f'График изменения параметра с {i} по {j}')\n",
    "    plt.legend(prop={'size': 14}, labels = ['Действительные значения', 'Скользящее среднее'])\n",
    "    plt.show()\n",
    "\n",
    "exploration(data, data.index[1], data.index[-1])\n",
    "exploration(data, '2018-03-01', '2018-03-04')\n"
   ]
  },
  {
   "cell_type": "markdown",
   "metadata": {},
   "source": [
    "<img src=\"https://emojigraph.org/media/apple/check-mark-button_2705.png\" align=left width=33, heigth=33>\n",
    "<div class=\"alert alert-success\">\n",
    "ОК, выведен график временного ряда (по часам). Но в качестве скользящего среднего советую взять сутки (24) или неделю (168), это естественные периоды сезонности в наших данных.\n",
    "</div>"
   ]
  },
  {
   "cell_type": "code",
   "execution_count": 7,
   "metadata": {},
   "outputs": [
    {
     "data": {
      "image/png": "[encoded data removed]",
      "text/plain": [
       "<Figure size 1080x576 with 1 Axes>"
      ]
     },
     "metadata": {
      "needs_background": "light"
     },
     "output_type": "display_data"
    }
   ],
   "source": [
    "#проведем исследование сезонного и трендового влияния, а также выбросов\n",
    "\n",
    "sd = seasonal_decompose (data) \n",
    "plt.figure (figsize = (15,8))\n",
    "sd.seasonal.plot()\n",
    "sd.trend.plot() \n",
    "sd.resid.plot(alpha = 0.5)\n",
    "plt.title('Изучение сезонной, трендовой, выбросов')\n",
    "plt.legend(prop={'size': 15})\n",
    "plt.xlabel('Дни')\n",
    "plt.ylabel('Разброс значений')\n",
    "plt.show()\n"
   ]
  },
  {
   "cell_type": "markdown",
   "metadata": {},
   "source": [
    "<img src=\"https://upload.wikimedia.org/wikipedia/commons/thumb/8/81/Stop_sign.png/240px-Stop_sign.png\" align=left width=35, heigth=35>\n",
    "<div class=\"alert alert-danger\">\n",
    "\n",
    "В таком виде график абсолютно нечитаем. Попробуй вывести каждый график на отдельном полотне</div>"
   ]
  },
  {
   "cell_type": "markdown",
   "metadata": {},
   "source": [
    "<div class = 'alert alert-info'>\n",
    "    Не согласен, данный график показывает изменение параметров относительно друг друга, из которого можно сделать вывод о трендах в всех 3 параметрах\n",
    " \n",
    "<b>Выведу требуемые графики ниже"
   ]
  },
  {
   "cell_type": "markdown",
   "metadata": {},
   "source": [
    "<img src=\"https://upload.wikimedia.org/wikipedia/commons/b/ba/Warning_sign_4.0.png\" align=left width=44, heigth=33>\n",
    "<div class=\"alert alert-warning\">\n",
    " <b>v2</b>  \n",
    "\n",
    "я по прежнему считаю, что этот график скорее отталкивает, чем что-то поясняет. К тому же ОК, если мы используем аддитивную функцию сезонности. А если бы рассчитывали мультипликативную, то масштабы единиц на графиках были бы совсем разные.\n",
    "    \n",
    "Красный комментарий оставлять не буду,  но в портфолио я бы такой график не стал оставлять.    \n",
    "    \n",
    "</div>"
   ]
  },
  {
   "cell_type": "code",
   "execution_count": 8,
   "metadata": {},
   "outputs": [
    {
     "data": {
      "image/png": "[encoded data removed]",
      "text/plain": [
       "<Figure size 1080x576 with 1 Axes>"
      ]
     },
     "metadata": {
      "needs_background": "light"
     },
     "output_type": "display_data"
    },
    {
     "data": {
      "image/png": "[encoded data removed]",
      "text/plain": [
       "<Figure size 1080x576 with 1 Axes>"
      ]
     },
     "metadata": {
      "needs_background": "light"
     },
     "output_type": "display_data"
    },
    {
     "data": {
      "image/png": "[encoded data removed]",
      "text/plain": [
       "<Figure size 1080x576 with 1 Axes>"
      ]
     },
     "metadata": {
      "needs_background": "light"
     },
     "output_type": "display_data"
    },
    {
     "data": {
      "image/png": "[encoded data removed]",
      "text/plain": [
       "<Figure size 1080x576 with 1 Axes>"
      ]
     },
     "metadata": {
      "needs_background": "light"
     },
     "output_type": "display_data"
    }
   ],
   "source": [
    "#проведем исследование сезонного и трендового влияния, а также выбросов\n",
    "\n",
    "season = sd.seasonal\n",
    "trend = sd.trend\n",
    "resid = sd.resid\n",
    "\n",
    "def seasonal(df, i):\n",
    "    plt.figure (figsize = (15,8))\n",
    "    df.plot(ax=plt.gca()) \n",
    "    plt.title(f'Изучение {i}')\n",
    "    plt.legend(prop={'size': 15})\n",
    "    plt.xlabel('Дни')\n",
    "    plt.ylabel('Разброс значений')\n",
    "    plt.show()\n",
    "\n",
    "seasonal(season, 'Сезонной')\n",
    "seasonal(trend, 'Трендов')\n",
    "seasonal(resid, 'Выбросов')\n",
    "seasonal(season['2018-03-01':'2018-03-05'], 'Сезонной обрезанный интервал с 2018-03-01 : 2018-03-05')"
   ]
  },
  {
   "cell_type": "markdown",
   "metadata": {},
   "source": [
    "<img src=\"https://upload.wikimedia.org/wikipedia/commons/b/ba/Warning_sign_4.0.png\" align=left width=44, heigth=33>\n",
    "<div class=\"alert alert-warning\"> На текущем графике проанализировть сезонность невозможно. Рекомендую  дополнительно вывести сезонность в бОльшем масштабе. Это можно сделать вот так:\n",
    "\n",
    "    decomposed.seasonal['начало периода': 'конец периода'].plot(ax=plt.gca())\n",
    "    \n",
    "Обрати внимание: мы делаем декомпозицию для всех данных, а потом используем срез только для сезонности (т.к. она все равно стабильно повторяется каждые сутки).    \n",
    "</div>"
   ]
  },
  {
   "cell_type": "markdown",
   "metadata": {},
   "source": [
    "<div class = 'alert alert-info'>\n",
    "    Дополнил, поправил"
   ]
  },
  {
   "cell_type": "markdown",
   "metadata": {},
   "source": [
    "<img src=\"https://emojigraph.org/media/apple/check-mark-button_2705.png\" align=left width=33, heigth=33>\n",
    "<div class=\"alert alert-success\">\n",
    "    <b>v2</b> 👍 </div>"
   ]
  },
  {
   "cell_type": "markdown",
   "metadata": {},
   "source": [
    "<img src=\"https://emojigraph.org/media/apple/check-mark-button_2705.png\" align=left width=33, heigth=33>\n",
    "<div class=\"alert alert-success\">\n",
    " 👍 Совет: в данных кроме суточной есть недельная сезонность. Чтобы увидеть её нужно сделать ресемплинг данных по суткам и вновь сделать декомпозицию на сезонность и тренд. Дело в том, что seasonal_decompose настраивается на сезонность с самым маленьким циклом, при ресемпле данных по часу это сутки, при ресемпле по суткам это неделя. </div>"
   ]
  },
  {
   "cell_type": "markdown",
   "metadata": {},
   "source": [
    "<div style = \"border:solid Chocolate 2px; padding: 40px\">\n",
    "\n",
    "<font color = 'green' size = 4> Результат данного пункта: </font>\n",
    "    \n",
    "    - изучено общее поведение графика. Вывод: данные колеблются в определенных интервалах и имеют восходящий тренд, похоже на стационарных стахостический процесс \n",
    "    - изучено на дневном интервале распределение графика. Вывод: к полуночи пользовательская активность увеличивается\n",
    "    - изучено распределение сезонного/трендового/выбросов графики. Вывод: имеет сезонную активность, значения меняются от -50 до 50. Имеет восходящий тренд, - лучше всего предскажется линейной регрессией. Выбросы -  на всем интервале времени. \n",
    "    - период сезонности = 1 сутки, важный признак 1 час"
   ]
  },
  {
   "cell_type": "markdown",
   "metadata": {},
   "source": [
    "<img src=\"https://upload.wikimedia.org/wikipedia/commons/thumb/8/81/Stop_sign.png/240px-Stop_sign.png\" align=left width=35, heigth=35>\n",
    "<div class=\"alert alert-danger\">\n",
    "Давай все-таки разберемся с сезоностью. Какие периоды сезонности ты можешь диагностировать в наших данных?    \n",
    "</div>"
   ]
  },
  {
   "cell_type": "markdown",
   "metadata": {},
   "source": [
    "<div class = 'alert alert-info'>\n",
    "    Дополнил"
   ]
  },
  {
   "cell_type": "markdown",
   "metadata": {},
   "source": [
    "<img src=\"https://upload.wikimedia.org/wikipedia/commons/b/ba/Warning_sign_4.0.png\" align=left width=44, heigth=33>\n",
    "<div class=\"alert alert-warning\">\n",
    "    <b>v2</b>  \n",
    "Советую исследовать сезонность внутри недели, мне кажется этот факт очень интуитивен. Подсказка как это можно сделать была на прошлом ревью.\n",
    "</div>"
   ]
  },
  {
   "cell_type": "markdown",
   "metadata": {},
   "source": [
    "## Обучение"
   ]
  },
  {
   "cell_type": "markdown",
   "metadata": {},
   "source": [
    "<img src=\"https://upload.wikimedia.org/wikipedia/commons/b/ba/Warning_sign_4.0.png\" align=left width=44, heigth=33>\n",
    "<div class=\"alert alert-warning\">\n",
    "Создание признаков для решения задачи - это важнейший этап, от которого зависит, сможешь ли ты обучить модели или нет. Поэтому что если в признаках есть полезный сигнал, то найти статистическую взаимоствязь между признаками и таргетом сможет любая модель.  А если признаки пустые и неинформативные, то никакая модель не сможет приемлимое качество решения.\n",
    "    \n",
    "А создание признаков должно быть основано на проведенном исследовании и его результатах. Ниже я тебе покажу, как можно изменить создание признаков, чтобы они стали действительно полезными.    \n",
    "</div>"
   ]
  },
  {
   "cell_type": "code",
   "execution_count": 9,
   "metadata": {},
   "outputs": [],
   "source": [
    "# Наполним датасет фичами\n",
    "\n",
    "# Дополним как основной фичей от которой зависит кол-во заказов: час и дата \n",
    "\n",
    "def prepearing (data, max_lag = 24, level_rolling = 24):\n",
    "    #data['month'] = data.index.month \n",
    "    #data['day'] = data.index.day\n",
    "    #data['dayofweek'] = data.index.dayofweek\n",
    "    data['hour'] = data.index.hour\n",
    "    \n",
    "    for i in range(1, max_lag+1):\n",
    "        data[f'lag_{i}'] = data['num_orders'].shift(i)\n",
    "        \n",
    "    data[f'rolling_data_mean_{level_rolling}'] = data['num_orders'].shift().rolling(level_rolling).mean()\n",
    "    \n",
    "    #data['rest'] = data['num_orders'].shift() - data['num_orders'].shift(2)\n",
    "\n",
    "    return data"
   ]
  },
  {
   "cell_type": "markdown",
   "metadata": {},
   "source": [
    "<img src=\"https://emojigraph.org/media/apple/check-mark-button_2705.png\" align=left width=33, heigth=33>\n",
    "<div class=\"alert alert-success\">\n",
    "👍 Хорошо, что в признаки ты выносишь час, у нас четкая сезонность внутри суток.\n",
    "Также очень полезный признак день недели, в данных есть недельная сезонность.\n",
    "        \n",
    "</div>"
   ]
  },
  {
   "cell_type": "markdown",
   "metadata": {},
   "source": [
    "<img src=\"https://upload.wikimedia.org/wikipedia/commons/b/ba/Warning_sign_4.0.png\" align=left width=44, heigth=33>\n",
    "<div class=\"alert alert-warning\">\n",
    "Предлагаю удалить признак \"день\", т.к. сезонность внутри месяца мы не обнаружили.\n",
    "\n",
    "</div>"
   ]
  },
  {
   "cell_type": "markdown",
   "metadata": {},
   "source": [
    "<div class = 'alert alert-info'>\n",
    "    Дополнил"
   ]
  },
  {
   "cell_type": "markdown",
   "metadata": {},
   "source": [
    "<img src=\"https://upload.wikimedia.org/wikipedia/commons/b/ba/Warning_sign_4.0.png\" align=left width=44, heigth=33>\n",
    "<div class=\"alert alert-warning\">\n",
    " <b>v2</b>  \n",
    "Стоит вернуть признак \"день недели\".\n",
    "</div>"
   ]
  },
  {
   "cell_type": "markdown",
   "metadata": {},
   "source": [
    "<img src=\"https://upload.wikimedia.org/wikipedia/commons/thumb/8/81/Stop_sign.png/240px-Stop_sign.png\" align=left width=35, heigth=35>\n",
    "<div class=\"alert alert-danger\">\n",
    "А вот календарный признак \"месяц\" нужно удалить.  Данных у нас немного, всего 6 месяцев. При этом данные тренда мы учтем с помощью скользящего среднего и отстающих значений.\n",
    "</div>\n"
   ]
  },
  {
   "cell_type": "markdown",
   "metadata": {},
   "source": [
    "<div class = 'alert alert-info'>\n",
    "    Дополнил"
   ]
  },
  {
   "cell_type": "markdown",
   "metadata": {},
   "source": [
    "<img src=\"https://emojigraph.org/media/apple/check-mark-button_2705.png\" align=left width=33, heigth=33>\n",
    "<div class=\"alert alert-success\">\n",
    "    <b>v2</b> 👍 </div>"
   ]
  },
  {
   "cell_type": "code",
   "execution_count": 10,
   "metadata": {
    "scrolled": true
   },
   "outputs": [
    {
     "data": {
      "text/html": [
       "<div>\n",
       "<style scoped>\n",
       "    .dataframe tbody tr th:only-of-type {\n",
       "        vertical-align: middle;\n",
       "    }\n",
       "\n",
       "    .dataframe tbody tr th {\n",
       "        vertical-align: top;\n",
       "    }\n",
       "\n",
       "    .dataframe thead th {\n",
       "        text-align: right;\n",
       "    }\n",
       "</style>\n",
       "<table border=\"1\" class=\"dataframe\">\n",
       "  <thead>\n",
       "    <tr style=\"text-align: right;\">\n",
       "      <th></th>\n",
       "      <th>num_orders</th>\n",
       "      <th>hour</th>\n",
       "      <th>lag_1</th>\n",
       "      <th>lag_2</th>\n",
       "      <th>lag_3</th>\n",
       "      <th>lag_4</th>\n",
       "      <th>lag_5</th>\n",
       "      <th>lag_6</th>\n",
       "      <th>lag_7</th>\n",
       "      <th>lag_8</th>\n",
       "      <th>...</th>\n",
       "      <th>lag_160</th>\n",
       "      <th>lag_161</th>\n",
       "      <th>lag_162</th>\n",
       "      <th>lag_163</th>\n",
       "      <th>lag_164</th>\n",
       "      <th>lag_165</th>\n",
       "      <th>lag_166</th>\n",
       "      <th>lag_167</th>\n",
       "      <th>lag_168</th>\n",
       "      <th>rolling_data_mean_168</th>\n",
       "    </tr>\n",
       "    <tr>\n",
       "      <th>datetime</th>\n",
       "      <th></th>\n",
       "      <th></th>\n",
       "      <th></th>\n",
       "      <th></th>\n",
       "      <th></th>\n",
       "      <th></th>\n",
       "      <th></th>\n",
       "      <th></th>\n",
       "      <th></th>\n",
       "      <th></th>\n",
       "      <th></th>\n",
       "      <th></th>\n",
       "      <th></th>\n",
       "      <th></th>\n",
       "      <th></th>\n",
       "      <th></th>\n",
       "      <th></th>\n",
       "      <th></th>\n",
       "      <th></th>\n",
       "      <th></th>\n",
       "      <th></th>\n",
       "    </tr>\n",
       "  </thead>\n",
       "  <tbody>\n",
       "    <tr>\n",
       "      <th>2018-03-08 00:00:00</th>\n",
       "      <td>143</td>\n",
       "      <td>0</td>\n",
       "      <td>94.0</td>\n",
       "      <td>127.0</td>\n",
       "      <td>108.0</td>\n",
       "      <td>76.0</td>\n",
       "      <td>50.0</td>\n",
       "      <td>99.0</td>\n",
       "      <td>48.0</td>\n",
       "      <td>46.0</td>\n",
       "      <td>...</td>\n",
       "      <td>34.0</td>\n",
       "      <td>15.0</td>\n",
       "      <td>12.0</td>\n",
       "      <td>6.0</td>\n",
       "      <td>43.0</td>\n",
       "      <td>66.0</td>\n",
       "      <td>71.0</td>\n",
       "      <td>85.0</td>\n",
       "      <td>124.0</td>\n",
       "      <td>54.226190</td>\n",
       "    </tr>\n",
       "    <tr>\n",
       "      <th>2018-03-08 01:00:00</th>\n",
       "      <td>78</td>\n",
       "      <td>1</td>\n",
       "      <td>143.0</td>\n",
       "      <td>94.0</td>\n",
       "      <td>127.0</td>\n",
       "      <td>108.0</td>\n",
       "      <td>76.0</td>\n",
       "      <td>50.0</td>\n",
       "      <td>99.0</td>\n",
       "      <td>48.0</td>\n",
       "      <td>...</td>\n",
       "      <td>69.0</td>\n",
       "      <td>34.0</td>\n",
       "      <td>15.0</td>\n",
       "      <td>12.0</td>\n",
       "      <td>6.0</td>\n",
       "      <td>43.0</td>\n",
       "      <td>66.0</td>\n",
       "      <td>71.0</td>\n",
       "      <td>85.0</td>\n",
       "      <td>54.339286</td>\n",
       "    </tr>\n",
       "    <tr>\n",
       "      <th>2018-03-08 02:00:00</th>\n",
       "      <td>65</td>\n",
       "      <td>2</td>\n",
       "      <td>78.0</td>\n",
       "      <td>143.0</td>\n",
       "      <td>94.0</td>\n",
       "      <td>127.0</td>\n",
       "      <td>108.0</td>\n",
       "      <td>76.0</td>\n",
       "      <td>50.0</td>\n",
       "      <td>99.0</td>\n",
       "      <td>...</td>\n",
       "      <td>64.0</td>\n",
       "      <td>69.0</td>\n",
       "      <td>34.0</td>\n",
       "      <td>15.0</td>\n",
       "      <td>12.0</td>\n",
       "      <td>6.0</td>\n",
       "      <td>43.0</td>\n",
       "      <td>66.0</td>\n",
       "      <td>71.0</td>\n",
       "      <td>54.297619</td>\n",
       "    </tr>\n",
       "    <tr>\n",
       "      <th>2018-03-08 03:00:00</th>\n",
       "      <td>68</td>\n",
       "      <td>3</td>\n",
       "      <td>65.0</td>\n",
       "      <td>78.0</td>\n",
       "      <td>143.0</td>\n",
       "      <td>94.0</td>\n",
       "      <td>127.0</td>\n",
       "      <td>108.0</td>\n",
       "      <td>76.0</td>\n",
       "      <td>50.0</td>\n",
       "      <td>...</td>\n",
       "      <td>96.0</td>\n",
       "      <td>64.0</td>\n",
       "      <td>69.0</td>\n",
       "      <td>34.0</td>\n",
       "      <td>15.0</td>\n",
       "      <td>12.0</td>\n",
       "      <td>6.0</td>\n",
       "      <td>43.0</td>\n",
       "      <td>66.0</td>\n",
       "      <td>54.261905</td>\n",
       "    </tr>\n",
       "    <tr>\n",
       "      <th>2018-03-08 04:00:00</th>\n",
       "      <td>60</td>\n",
       "      <td>4</td>\n",
       "      <td>68.0</td>\n",
       "      <td>65.0</td>\n",
       "      <td>78.0</td>\n",
       "      <td>143.0</td>\n",
       "      <td>94.0</td>\n",
       "      <td>127.0</td>\n",
       "      <td>108.0</td>\n",
       "      <td>76.0</td>\n",
       "      <td>...</td>\n",
       "      <td>30.0</td>\n",
       "      <td>96.0</td>\n",
       "      <td>64.0</td>\n",
       "      <td>69.0</td>\n",
       "      <td>34.0</td>\n",
       "      <td>15.0</td>\n",
       "      <td>12.0</td>\n",
       "      <td>6.0</td>\n",
       "      <td>43.0</td>\n",
       "      <td>54.273810</td>\n",
       "    </tr>\n",
       "  </tbody>\n",
       "</table>\n",
       "<p>5 rows × 171 columns</p>\n",
       "</div>"
      ],
      "text/plain": [
       "                     num_orders  hour  lag_1  lag_2  lag_3  lag_4  lag_5  \\\n",
       "datetime                                                                   \n",
       "2018-03-08 00:00:00         143     0   94.0  127.0  108.0   76.0   50.0   \n",
       "2018-03-08 01:00:00          78     1  143.0   94.0  127.0  108.0   76.0   \n",
       "2018-03-08 02:00:00          65     2   78.0  143.0   94.0  127.0  108.0   \n",
       "2018-03-08 03:00:00          68     3   65.0   78.0  143.0   94.0  127.0   \n",
       "2018-03-08 04:00:00          60     4   68.0   65.0   78.0  143.0   94.0   \n",
       "\n",
       "                     lag_6  lag_7  lag_8  ...  lag_160  lag_161  lag_162  \\\n",
       "datetime                                  ...                              \n",
       "2018-03-08 00:00:00   99.0   48.0   46.0  ...     34.0     15.0     12.0   \n",
       "2018-03-08 01:00:00   50.0   99.0   48.0  ...     69.0     34.0     15.0   \n",
       "2018-03-08 02:00:00   76.0   50.0   99.0  ...     64.0     69.0     34.0   \n",
       "2018-03-08 03:00:00  108.0   76.0   50.0  ...     96.0     64.0     69.0   \n",
       "2018-03-08 04:00:00  127.0  108.0   76.0  ...     30.0     96.0     64.0   \n",
       "\n",
       "                     lag_163  lag_164  lag_165  lag_166  lag_167  lag_168  \\\n",
       "datetime                                                                    \n",
       "2018-03-08 00:00:00      6.0     43.0     66.0     71.0     85.0    124.0   \n",
       "2018-03-08 01:00:00     12.0      6.0     43.0     66.0     71.0     85.0   \n",
       "2018-03-08 02:00:00     15.0     12.0      6.0     43.0     66.0     71.0   \n",
       "2018-03-08 03:00:00     34.0     15.0     12.0      6.0     43.0     66.0   \n",
       "2018-03-08 04:00:00     69.0     34.0     15.0     12.0      6.0     43.0   \n",
       "\n",
       "                     rolling_data_mean_168  \n",
       "datetime                                    \n",
       "2018-03-08 00:00:00              54.226190  \n",
       "2018-03-08 01:00:00              54.339286  \n",
       "2018-03-08 02:00:00              54.297619  \n",
       "2018-03-08 03:00:00              54.261905  \n",
       "2018-03-08 04:00:00              54.273810  \n",
       "\n",
       "[5 rows x 171 columns]"
      ]
     },
     "execution_count": 10,
     "metadata": {},
     "output_type": "execute_result"
    }
   ],
   "source": [
    "prepearing(data, 168, 168)\n",
    "data = data.dropna()\n",
    "data.head()"
   ]
  },
  {
   "cell_type": "markdown",
   "metadata": {},
   "source": [
    "<img src=\"https://upload.wikimedia.org/wikipedia/commons/b/ba/Warning_sign_4.0.png\" align=left width=44, heigth=33>\n",
    "<div class=\"alert alert-warning\">\n",
    "    \n",
    "    \n",
    "Гиперпараметры max_lag, rolling_mean_size очень важны.  Возможно это самые важные гиперпараметры в проекте, больше всего влияющие на результат.\n",
    "    \n",
    "Выбирая значения для размера окна и количества отстающих значений важно использовать известную нам информацию о сезонности. А сезонность у нас есть суточная и недельная. Поэтому рекомендую взять их кратными суткам, а лучше равным неделе.\n",
    "    \n",
    " - Скользящее среднее является олицетворением тренда, и если взять его равным суткам, то оно становится достаточно гладким (из него уходитят колебания, вызванные суточной сезонностью), а если взять равное неделе - то еще ровнее. Это хорошо видно пографикам со скользящим средним, если ты посмотришь из за сутки и неделю.\n",
    " \n",
    " - На использовании отстающих значений и авторегрессии временного ряда основано много методов прогнозироания временных рядов (например ARIMA). И здесь тоже работает принцип - чем больше признаков - тем выше качество. Но разумным компромисом является использование достаточного количества признаков, такого, где автокореляция является значимой. И такими точками как раз служат сутки и неделя. \n",
    "    \n",
    "    \n",
    "    \n",
    "    \n",
    "Резюме: попробуй исползьзовать гиперпараметры max_lag, rolling_mean_size одинаковыми и  равными 24 (сутки)  или 168 (неделя), лучше оба одинаковые.  Имей в виду, что использование 168 отстающих значений может сильно усложнить обучение модели, но метрики получаются значительно лучше.\n",
    "        \n",
    "    \n",
    "</div>"
   ]
  },
  {
   "cell_type": "markdown",
   "metadata": {},
   "source": [
    "<div class = 'alert alert-info'>\n",
    "    Понял, а я бошку ломал как это сделать, спасибо \n",
    "    \n",
    "    Качество действительно улучшилось"
   ]
  },
  {
   "cell_type": "markdown",
   "metadata": {},
   "source": [
    "<img src=\"https://emojigraph.org/media/apple/check-mark-button_2705.png\" align=left width=33, heigth=33>\n",
    "<div class=\"alert alert-success\">\n",
    "    <b>v2</b> )) </div>"
   ]
  },
  {
   "cell_type": "code",
   "execution_count": 11,
   "metadata": {
    "scrolled": true
   },
   "outputs": [
    {
     "name": "stdout",
     "output_type": "stream",
     "text": [
      "размер трейн фичи (3823, 170)\n",
      "размер трейн таргет (3823,)\n",
      "размер тест фичи (425, 170)\n",
      "размер тест таргет (425,)\n",
      "\n",
      "максимальный индекс трейн 2018-08-14 06:00:00\n",
      "минимальный индекс тест 2018-08-14 07:00:00\n"
     ]
    }
   ],
   "source": [
    "#Подготовим выборки тестовые и трейновые \n",
    "X = data.drop(columns = 'num_orders', axis = 1)\n",
    "y = data['num_orders']\n",
    "\n",
    "X_train, X_test, y_train, y_test = train_test_split(X, y, shuffle = False, test_size = 0.1)\n",
    "\n",
    "#Check it \n",
    "\n",
    "print('размер трейн фичи', X_train.shape)\n",
    "print('размер трейн таргет', y_train.shape)\n",
    "print('размер тест фичи', X_test.shape)\n",
    "print('размер тест таргет', y_test.shape)\n",
    "print('')\n",
    "print('максимальный индекс трейн', X_train.index.max())\n",
    "print('минимальный индекс тест', X_test.index.min())"
   ]
  },
  {
   "cell_type": "markdown",
   "metadata": {},
   "source": [
    "<img src=\"https://emojigraph.org/media/apple/check-mark-button_2705.png\" align=left width=33, heigth=33>\n",
    "<div class=\"alert alert-success\">\n",
    "Корректное разбиение, данные не перемешиваются. </div>"
   ]
  },
  {
   "cell_type": "code",
   "execution_count": 12,
   "metadata": {
    "scrolled": true
   },
   "outputs": [
    {
     "data": {
      "text/plain": [
       "RandomizedSearchCV(cv=TimeSeriesSplit(gap=0, max_train_size=None, n_splits=5, test_size=382),\n",
       "                   estimator=Pipeline(steps=[('model',\n",
       "                                              DecisionTreeRegressor())]),\n",
       "                   n_iter=15, n_jobs=-1,\n",
       "                   param_distributions=[{'model': [DecisionTreeRegressor()],\n",
       "                                         'model__max_depth': range(1, 20, 4),\n",
       "                                         'model__min_samples_leaf': range(1, 20, 4),\n",
       "                                         'model__min_samples_split': range(2, 20, 4)},\n",
       "                                        {'model': [RandomForestRegressor(max_depth=13,\n",
       "                                                                         min_samples_leaf=9,\n",
       "                                                                         min_samples_split=14)],\n",
       "                                         'model__max_depth': range(1, 20, 3),\n",
       "                                         'model__min_samples_leaf': range(1, 20, 4),\n",
       "                                         'model__min_samples_split': range(2, 20, 4)},\n",
       "                                        {'model': [<catboost.core.CatBoostRegressor object at 0x7fb1c0319af0>],\n",
       "                                         'model__depth': range(1, 10, 3)}],\n",
       "                   random_state=12345, scoring='neg_root_mean_squared_error')"
      ]
     },
     "execution_count": 12,
     "metadata": {},
     "output_type": "execute_result"
    }
   ],
   "source": [
    "pipeline = Pipeline(\n",
    "    [\n",
    "        ('model', DecisionTreeRegressor())\n",
    "    ])\n",
    "\n",
    "params = [\n",
    "    {\n",
    "        'model': [DecisionTreeRegressor()],\n",
    "        'model__max_depth': range(1, 20, 4),\n",
    "        'model__min_samples_split': range(2, 20, 4),\n",
    "        'model__min_samples_leaf': range(1, 20, 4)\n",
    "    },\n",
    "    {\n",
    "        'model': [RandomForestRegressor()],\n",
    "        'model__max_depth': range(1, 20, 3),\n",
    "        'model__min_samples_split': range(2, 20, 4),\n",
    "        'model__min_samples_leaf': range(1, 20, 4)\n",
    "    },\n",
    "    {\n",
    "        'model': [CatBoostRegressor()],\n",
    "        'model__depth': range(1, 10, 3)\n",
    "    }\n",
    "    ]\n",
    "\n",
    "rs = RandomizedSearchCV(estimator = pipeline,\n",
    "                       param_distributions = params,\n",
    "                       scoring = 'neg_root_mean_squared_error',\n",
    "                       n_jobs = -1,\n",
    "                       cv = TimeSeriesSplit(n_splits=5, test_size=int(len(X_train) * 0.1)),\n",
    "                       n_iter = 15, #количество варинатов\n",
    "                       random_state = 12345)\n",
    "\n",
    "rs.fit(X_train, y_train)"
   ]
  },
  {
   "cell_type": "markdown",
   "metadata": {},
   "source": [
    "<img src=\"https://upload.wikimedia.org/wikipedia/commons/thumb/8/81/Stop_sign.png/240px-Stop_sign.png\" align=left width=35, heigth=35>\n",
    "<div class=\"alert alert-danger\">\n",
    "Перед использованием линейных моделей данные нужно привести к одному масштабу.</div>"
   ]
  },
  {
   "cell_type": "markdown",
   "metadata": {},
   "source": [
    "<div class = 'alert alert-info'>\n",
    "    Поправил"
   ]
  },
  {
   "cell_type": "markdown",
   "metadata": {},
   "source": [
    "<img src=\"https://upload.wikimedia.org/wikipedia/commons/b/ba/Warning_sign_4.0.png\" align=left width=44, heigth=33>\n",
    "<div class=\"alert alert-warning\">\n",
    "<b>v2</b>  \n",
    "Очень жаль, что ты не стал рассматривать линейную модель. Она как раз здесь возможный лидер. \n",
    "    \n",
    "    \n",
    "Старайся рассматривать модели из разных семейств. У всех есть свои преимущества и недостатки. Так линейные модели очень хорошо могут повторять тренд, что не скажешь про модели, основанные на дереьях.    \n",
    "</div>"
   ]
  },
  {
   "cell_type": "markdown",
   "metadata": {},
   "source": [
    "<img src=\"https://upload.wikimedia.org/wikipedia/commons/b/ba/Warning_sign_4.0.png\" align=left width=44, heigth=33>\n",
    "<div class=\"alert alert-warning\">\n",
    " \n",
    "    \n",
    " Для линейных моделей стоит  рассмотреть признаки \"час\" и \"день недели\" как категориальные, а не числовые и соответственно применить к ним OHE кодирование (конечно же с использованием pipeline и ColumnTransformer)\n",
    "    \n",
    "</div>"
   ]
  },
  {
   "cell_type": "markdown",
   "metadata": {},
   "source": [
    "<img src=\"https://upload.wikimedia.org/wikipedia/commons/b/ba/Warning_sign_4.0.png\" align=left width=44, heigth=33>\n",
    "<div class=\"alert alert-warning\">\n",
    " \n",
    "    \n",
    "Нужно понимать, что  RandomizedSearchCV будет случайно выбирать модель из всех возможных комбинаций гиперпараметров. Например у линейной регрессии всего одна комбинация, а для RandomForestRegressor целых 175 комбинаций.\n",
    "    \n",
    "Поэтому у моделей LinearRegression и CatBoostRegressor шансы попасть в эксперимент минимальны. Вот  подсчитаные вероятности для каждой модели:  \n",
    "    \n",
    "Общая сумма комбинаций:\n",
    "\n",
    "    LinearRegression: 1\n",
    "    DecisionTreeRegressor: 125\n",
    "    RandomForestRegressor: 175\n",
    "    CatBoostRegressor: 4\n",
    "\n",
    "Общая сумма комбинаций:\n",
    "1+125+175+4=3051+125+175+4=305.\n",
    "\n",
    "Вероятности    \n",
    "    \n",
    "    LinearRegression: 1305≈0.33%3051​≈0.33%\n",
    "    DecisionTreeRegressor: 125305≈40.98%305125​≈40.98%\n",
    "    RandomForestRegressor: 175305≈57.38%305175​≈57.38%\n",
    "    CatBoostRegressor: 4305≈1.31%3054​≈1.31%  \n",
    "    \n",
    "    \n",
    "</div>"
   ]
  },
  {
   "cell_type": "code",
   "execution_count": 13,
   "metadata": {},
   "outputs": [
    {
     "name": "stdout",
     "output_type": "stream",
     "text": [
      "Лучшая модель - Pipeline(steps=[('model',\n",
      "                 RandomForestRegressor(max_depth=13, min_samples_leaf=9,\n",
      "                                       min_samples_split=14))])\n",
      "Лучшая метрика кросс-валидация = 24.064217508776654\n"
     ]
    }
   ],
   "source": [
    "print(f'Лучшая модель - {rs.best_estimator_}')\n",
    "print(f'Лучшая метрика кросс-валидация = {rs.best_score_ * (-1)}')"
   ]
  },
  {
   "cell_type": "code",
   "execution_count": 14,
   "metadata": {
    "scrolled": true
   },
   "outputs": [
    {
     "name": "stdout",
     "output_type": "stream",
     "text": [
      "RMSE on train dataset = 14.538350288346544\n"
     ]
    }
   ],
   "source": [
    "best_model = rs.best_estimator_\n",
    "\n",
    "y_train_predict = best_model.predict(X_train)\n",
    "\n",
    "print(f'RMSE on train dataset = {mean_squared_error(y_train, y_train_predict) ** 0.5}')"
   ]
  },
  {
   "cell_type": "markdown",
   "metadata": {},
   "source": [
    "<img src=\"https://upload.wikimedia.org/wikipedia/commons/b/ba/Warning_sign_4.0.png\" align=left width=44, heigth=33>\n",
    "<div class=\"alert alert-warning\">\n",
    "Не нужно переобучать модель заново, ведь лучшая модель, уже обученая на всех доступных данных уже хранится в атрибуте best_estimator_    \n",
    "</div>"
   ]
  },
  {
   "cell_type": "markdown",
   "metadata": {},
   "source": [
    "<div class = 'alert alert-info'>\n",
    "    Поправил"
   ]
  },
  {
   "cell_type": "markdown",
   "metadata": {},
   "source": [
    "<img src=\"https://emojigraph.org/media/apple/check-mark-button_2705.png\" align=left width=33, heigth=33>\n",
    "<div class=\"alert alert-success\">\n",
    "    <b>v2</b> 👍 </div>"
   ]
  },
  {
   "cell_type": "markdown",
   "metadata": {},
   "source": [
    "<img src=\"https://upload.wikimedia.org/wikipedia/commons/b/ba/Warning_sign_4.0.png\" align=left width=44, heigth=33>\n",
    "<div class=\"alert alert-warning\">\n",
    "Оценка на обучающей выборке абсолютно неинформативна. Она позволяет нам понять, насколько сильно модель переобучается, но не дает никакой информации о способности модели к обобщению, т.е. работе сданными, которые она не видела в процессе обучения.\n",
    "\n",
    "\n",
    "</div>"
   ]
  },
  {
   "cell_type": "markdown",
   "metadata": {},
   "source": [
    "<div class = 'alert alert-info'>\n",
    "    Для этого я ее и сделал. Первый раз была ошибка, сделал даталик. Качество было = 0 "
   ]
  },
  {
   "cell_type": "markdown",
   "metadata": {},
   "source": [
    "<div style = \"border:solid Chocolate 2px; padding: 40px\">\n",
    "\n",
    "<font color = 'green' size = 4> Результат данного пункта: </font>\n",
    "    \n",
    "    - изучено общее 3 модели:  Дерево решений, случайный лес и катбуст. Лучшей на кросс валидации оказалась модель дерева решений с определенным гиперпараметрами. \n",
    "    - применено 15 итераций для поиска наилучших параметров и TimeSeriesSplit для кросс-валидации\n",
    "    - Забили лучшую модель в best_model, будем использовать для тестирования"
   ]
  },
  {
   "cell_type": "markdown",
   "metadata": {},
   "source": [
    "## Тестирование"
   ]
  },
  {
   "cell_type": "markdown",
   "metadata": {},
   "source": [
    "Проведем анализ на тестовой выборке: "
   ]
  },
  {
   "cell_type": "code",
   "execution_count": 15,
   "metadata": {
    "scrolled": true
   },
   "outputs": [
    {
     "name": "stdout",
     "output_type": "stream",
     "text": [
      "RMSE on train dataset = 39.69265271705556\n"
     ]
    }
   ],
   "source": [
    "y_test_predict = best_model.predict(X_test)\n",
    "\n",
    "print(f'RMSE on train dataset = {mean_squared_error(y_test, y_test_predict) ** 0.5}')"
   ]
  },
  {
   "cell_type": "markdown",
   "metadata": {},
   "source": [
    "<img src=\"https://emojigraph.org/media/apple/check-mark-button_2705.png\" align=left width=33, heigth=33>\n",
    "<div class=\"alert alert-success\">\n",
    "Молодец: \n",
    "    \n",
    "  - тестирование произведено корректно \n",
    "  - достигнута хорошая точность на тестовой выборке\n",
    "    \n",
    "Но кроме вычисления метрики было бы неплохо сделать визуализацию со сравнением фактических данных и лучшего прогноза. \n",
    "</div>\n"
   ]
  },
  {
   "cell_type": "markdown",
   "metadata": {},
   "source": [
    "<div style = \"border:solid Chocolate 2px; padding: 40px\">\n",
    "\n",
    "<font color = 'green' size = 4> Результат данного пункта: </font>\n",
    "    \n",
    "    - Подобранная модель показала метрику RMSE = 39.6, что проходит по ограничению "
   ]
  },
  {
   "cell_type": "markdown",
   "metadata": {},
   "source": [
    "<div class = 'alert alert-info'>\n",
    "    Дополнил, это значение (8) на тесте, как раз когда был даталик. Просто в начале обрадовался, потом скорректировал, потом забыл убрать "
   ]
  },
  {
   "cell_type": "markdown",
   "metadata": {},
   "source": [
    "<img src=\"https://upload.wikimedia.org/wikipedia/commons/thumb/8/81/Stop_sign.png/240px-Stop_sign.png\" align=left width=35, heigth=35>\n",
    "<div class=\"alert alert-danger\">\n",
    "Выводне соответствует результатам тестировния</div>"
   ]
  },
  {
   "cell_type": "markdown",
   "metadata": {},
   "source": [
    "<img src=\"https://emojigraph.org/media/apple/check-mark-button_2705.png\" align=left width=33, heigth=33>\n",
    "<div class=\"alert alert-success\">\n",
    "    <b>v2</b> 👍 </div>"
   ]
  },
  {
   "cell_type": "markdown",
   "metadata": {},
   "source": [
    "## Чек-лист проверки"
   ]
  },
  {
   "cell_type": "markdown",
   "metadata": {},
   "source": [
    "- [x]  Jupyter Notebook открыт\n",
    "- [x]  Весь код выполняется без ошибок\n",
    "- [x]  Ячейки с кодом расположены в порядке исполнения\n",
    "- [x]  Данные загружены и подготовлены\n",
    "- [x]  Данные проанализированы\n",
    "- [x]  Модель обучена, гиперпараметры подобраны\n",
    "- [x]  Качество моделей проверено, выводы сделаны\n",
    "- [x]  Значение *RMSE* на тестовой выборке не больше 48"
   ]
  },
  {
   "cell_type": "markdown",
   "metadata": {},
   "source": []
  },
  {
   "cell_type": "markdown",
   "metadata": {},
   "source": [
    "<img src=\"http://s3.amazonaws.com/pix.iemoji.com/images/emoji/apple/ios-12/256/waving-hand.png\" align=left width=44, heigth=44>\n",
    "<div class=\"alert alert-info\">\n",
    "<b> Заключительный комментарий v2</b>\n",
    "\n",
    "Проект принят. Поздравляю и желаю дальнейших успехов!\n",
    "</div>"
   ]
  },
  {
   "cell_type": "markdown",
   "metadata": {},
   "source": [
    "<img src=\"http://s3.amazonaws.com/pix.iemoji.com/images/emoji/apple/ios-12/256/waving-hand.png\" align=left width=44, heigth=44>\n",
    "<div class=\"alert alert-info\">\n",
    "<b> Заключительный комментарий</b>\n",
    "\n",
    "Я вижу, что с проектом ты справляешься - проведено исследование, созданы признаки, обучены модели. Получено необходимое качество на тествой выборке.\n",
    "    \n",
    "    \n",
    "Мне понравилось, что ты корректно выполнил кросс-валидацию для временных рядов (TimesweriesSplit).\n",
    "    \n",
    "    \n",
    "Что нужно доработать обязательно:\n",
    "    \n",
    " - вывести графики, полученные после декомпозиции в читаемом виде\n",
    " - пожалуйста определи, какие периоды сезонности есть в наших данных и отрази это в выводах\n",
    " - нужно удалить календартный признак месяц\n",
    " - перед ипользованием линейных моделей пожалуйста масштабируй числовые признаки\n",
    " - вывод после тестирования должен соответствовать результатам тестирования    \n",
    "    \n",
    "Желтые комментарии на твое усмотрение. Но очень советую уделить внимание признакам \"количество отстающих значений\" и \"размер окна для скользящего среднего\".\n",
    "    \n",
    "Жду твой проект на финальное ревью :)\n",
    "</div>"
   ]
  },
  {
   "cell_type": "markdown",
   "metadata": {},
   "source": [
    "<img src=\"http://s3.amazonaws.com/pix.iemoji.com/images/emoji/apple/ios-12/256/waving-hand.png\" align=left width=44, heigth=44>\n",
    "<div class=\"alert alert-info\">\n",
    "<b> Дополнительные материалы </b>\n",
    "\n",
    "Если решишь глубже погрузиться в тему временных рядов, думаю тебе стоит знать что подход, изученный в курсе далеко не единственный. Вот к чему возможно стоит обратиться:\n",
    " - Авторегрессионные модели семейства ARIMA. В качестве экскурса очень полезно следующее видео: https://www.youtube.com/watch?v=u433nrxdf5k&t=110s\n",
    " - Библиотека prophet от Facebook. По моим наблюдениям, качество решения этой моделью ниже, но она очень проста в применении. https://habr.com/ru/company/ods/blog/323730/\n",
    "    \n",
    " - Урок по временным рядам из курса ML от ODS (https://habr.com/ru/company/ods/blog/327242/)\n",
    " - Лекция по прогнозированию временных рядов из курса Computer Science Center (https://www.youtube.com/watch?v=COBcXzKmOyk)   \n",
    "\n",
    "\n",
    "</div>"
   ]
  }
 ],
 "metadata": {
  "ExecuteTimeLog": [
   {
    "duration": 453,
    "start_time": "2024-09-10T08:05:12.125Z"
   },
   {
    "duration": 62,
    "start_time": "2024-09-10T08:05:22.394Z"
   },
   {
    "duration": 95,
    "start_time": "2024-09-10T08:05:28.211Z"
   },
   {
    "duration": 23,
    "start_time": "2024-09-10T08:05:30.618Z"
   },
   {
    "duration": 788,
    "start_time": "2024-09-10T08:25:58.066Z"
   },
   {
    "duration": 50,
    "start_time": "2024-09-10T08:28:09.100Z"
   },
   {
    "duration": 9,
    "start_time": "2024-09-10T08:28:10.491Z"
   },
   {
    "duration": 40,
    "start_time": "2024-09-10T08:30:10.405Z"
   },
   {
    "duration": 50,
    "start_time": "2024-09-10T08:30:22.916Z"
   },
   {
    "duration": 9,
    "start_time": "2024-09-10T08:30:24.148Z"
   },
   {
    "duration": 48,
    "start_time": "2024-09-10T08:30:30.949Z"
   },
   {
    "duration": 10,
    "start_time": "2024-09-10T08:30:32.070Z"
   },
   {
    "duration": 11,
    "start_time": "2024-09-10T08:30:36.341Z"
   },
   {
    "duration": 44,
    "start_time": "2024-09-10T08:30:45.104Z"
   },
   {
    "duration": 12,
    "start_time": "2024-09-10T08:30:46.509Z"
   },
   {
    "duration": 49,
    "start_time": "2024-09-10T08:30:49.948Z"
   },
   {
    "duration": 10,
    "start_time": "2024-09-10T08:30:51.053Z"
   },
   {
    "duration": 81,
    "start_time": "2024-09-10T08:32:21.150Z"
   },
   {
    "duration": 69,
    "start_time": "2024-09-10T08:32:25.310Z"
   },
   {
    "duration": 76,
    "start_time": "2024-09-10T08:32:36.062Z"
   },
   {
    "duration": 59,
    "start_time": "2024-09-10T08:33:48.471Z"
   },
   {
    "duration": 58,
    "start_time": "2024-09-10T08:34:56.552Z"
   },
   {
    "duration": 1272,
    "start_time": "2024-09-10T08:34:56.615Z"
   },
   {
    "duration": 57,
    "start_time": "2024-09-10T08:35:00.520Z"
   },
   {
    "duration": 10,
    "start_time": "2024-09-10T08:36:38.809Z"
   },
   {
    "duration": 13,
    "start_time": "2024-09-10T08:36:42.337Z"
   },
   {
    "duration": 6,
    "start_time": "2024-09-10T08:36:56.105Z"
   },
   {
    "duration": 6,
    "start_time": "2024-09-10T08:37:02.385Z"
   },
   {
    "duration": 10,
    "start_time": "2024-09-10T08:46:05.081Z"
   },
   {
    "duration": 12,
    "start_time": "2024-09-10T09:50:36.379Z"
   },
   {
    "duration": 10,
    "start_time": "2024-09-10T10:08:39.136Z"
   },
   {
    "duration": 526,
    "start_time": "2024-09-10T10:09:24.496Z"
   },
   {
    "duration": 256,
    "start_time": "2024-09-10T10:09:33.217Z"
   },
   {
    "duration": 244,
    "start_time": "2024-09-10T10:10:06.137Z"
   },
   {
    "duration": 261,
    "start_time": "2024-09-10T10:10:18.081Z"
   },
   {
    "duration": 388,
    "start_time": "2024-09-10T10:10:27.361Z"
   },
   {
    "duration": 304,
    "start_time": "2024-09-10T10:10:33.793Z"
   },
   {
    "duration": 17,
    "start_time": "2024-09-10T10:21:36.314Z"
   },
   {
    "duration": 3,
    "start_time": "2024-09-10T10:21:40.512Z"
   },
   {
    "duration": 83,
    "start_time": "2024-09-10T10:25:41.509Z"
   },
   {
    "duration": 3,
    "start_time": "2024-09-10T10:25:51.356Z"
   },
   {
    "duration": 220,
    "start_time": "2024-09-10T10:28:11.110Z"
   },
   {
    "duration": 244,
    "start_time": "2024-09-10T10:28:14.182Z"
   },
   {
    "duration": 8,
    "start_time": "2024-09-10T10:29:23.122Z"
   },
   {
    "duration": 240,
    "start_time": "2024-09-10T10:30:02.528Z"
   },
   {
    "duration": 188,
    "start_time": "2024-09-10T10:30:25.096Z"
   },
   {
    "duration": 223,
    "start_time": "2024-09-10T10:30:31.461Z"
   },
   {
    "duration": 273,
    "start_time": "2024-09-10T10:30:52.697Z"
   },
   {
    "duration": 270,
    "start_time": "2024-09-10T10:32:32.762Z"
   },
   {
    "duration": 277,
    "start_time": "2024-09-10T10:33:15.554Z"
   },
   {
    "duration": 381,
    "start_time": "2024-09-10T10:34:46.499Z"
   },
   {
    "duration": 517,
    "start_time": "2024-09-10T10:36:27.845Z"
   },
   {
    "duration": 380,
    "start_time": "2024-09-10T10:36:40.813Z"
   },
   {
    "duration": 349,
    "start_time": "2024-09-10T10:36:47.101Z"
   },
   {
    "duration": 370,
    "start_time": "2024-09-10T10:39:23.063Z"
   },
   {
    "duration": 376,
    "start_time": "2024-09-10T10:39:37.495Z"
   },
   {
    "duration": 397,
    "start_time": "2024-09-10T10:39:59.607Z"
   },
   {
    "duration": 418,
    "start_time": "2024-09-10T10:40:32.239Z"
   },
   {
    "duration": 355,
    "start_time": "2024-09-10T10:40:38.184Z"
   },
   {
    "duration": 760,
    "start_time": "2024-09-10T10:41:01.896Z"
   },
   {
    "duration": 414,
    "start_time": "2024-09-10T10:41:07.880Z"
   },
   {
    "duration": 362,
    "start_time": "2024-09-10T10:41:31.848Z"
   },
   {
    "duration": 382,
    "start_time": "2024-09-10T10:41:40.664Z"
   },
   {
    "duration": 255,
    "start_time": "2024-09-10T10:42:39.432Z"
   },
   {
    "duration": 395,
    "start_time": "2024-09-10T10:42:39.904Z"
   },
   {
    "duration": 249,
    "start_time": "2024-09-10T10:43:11.274Z"
   },
   {
    "duration": 236,
    "start_time": "2024-09-10T10:44:35.679Z"
   },
   {
    "duration": 251,
    "start_time": "2024-09-10T10:44:45.723Z"
   },
   {
    "duration": 481,
    "start_time": "2024-09-10T10:45:47.372Z"
   },
   {
    "duration": 273,
    "start_time": "2024-09-10T10:46:30.405Z"
   },
   {
    "duration": 246,
    "start_time": "2024-09-10T10:47:00.901Z"
   },
   {
    "duration": 258,
    "start_time": "2024-09-10T10:47:05.565Z"
   },
   {
    "duration": 260,
    "start_time": "2024-09-10T10:47:12.709Z"
   },
   {
    "duration": 604,
    "start_time": "2024-09-10T10:47:42.045Z"
   },
   {
    "duration": 519,
    "start_time": "2024-09-10T10:49:24.543Z"
   },
   {
    "duration": 523,
    "start_time": "2024-09-10T10:49:31.448Z"
   },
   {
    "duration": 304,
    "start_time": "2024-09-10T10:50:19.632Z"
   },
   {
    "duration": 283,
    "start_time": "2024-09-10T10:50:29.910Z"
   },
   {
    "duration": 285,
    "start_time": "2024-09-10T10:50:39.840Z"
   },
   {
    "duration": 280,
    "start_time": "2024-09-10T10:51:08.937Z"
   },
   {
    "duration": 281,
    "start_time": "2024-09-10T10:51:24.784Z"
   },
   {
    "duration": 389,
    "start_time": "2024-09-10T10:52:24.112Z"
   },
   {
    "duration": 2951,
    "start_time": "2024-09-10T12:34:02.207Z"
   },
   {
    "duration": 2711,
    "start_time": "2024-09-10T12:34:19.846Z"
   },
   {
    "duration": 301,
    "start_time": "2024-09-10T12:35:25.600Z"
   },
   {
    "duration": 300,
    "start_time": "2024-09-10T12:35:35.023Z"
   },
   {
    "duration": 295,
    "start_time": "2024-09-10T12:36:22.231Z"
   },
   {
    "duration": 912,
    "start_time": "2024-09-10T12:36:38.207Z"
   },
   {
    "duration": 213,
    "start_time": "2024-09-10T12:45:47.617Z"
   },
   {
    "duration": 162,
    "start_time": "2024-09-10T12:46:55.088Z"
   },
   {
    "duration": 11,
    "start_time": "2024-09-10T12:46:58.832Z"
   },
   {
    "duration": 149,
    "start_time": "2024-09-10T12:47:02.040Z"
   },
   {
    "duration": 394,
    "start_time": "2024-09-10T12:47:05.984Z"
   },
   {
    "duration": 429,
    "start_time": "2024-09-10T12:47:15.113Z"
   },
   {
    "duration": 484,
    "start_time": "2024-09-10T12:47:29.299Z"
   },
   {
    "duration": 537,
    "start_time": "2024-09-10T12:48:39.018Z"
   },
   {
    "duration": 570,
    "start_time": "2024-09-10T12:49:07.690Z"
   },
   {
    "duration": 548,
    "start_time": "2024-09-10T12:49:15.386Z"
   },
   {
    "duration": 535,
    "start_time": "2024-09-10T12:49:29.882Z"
   },
   {
    "duration": 89,
    "start_time": "2024-09-10T12:50:10.564Z"
   },
   {
    "duration": 1496,
    "start_time": "2024-09-10T12:50:10.655Z"
   },
   {
    "duration": 62,
    "start_time": "2024-09-10T12:50:12.153Z"
   },
   {
    "duration": 10,
    "start_time": "2024-09-10T12:50:12.217Z"
   },
   {
    "duration": 17,
    "start_time": "2024-09-10T12:50:12.229Z"
   },
   {
    "duration": 599,
    "start_time": "2024-09-10T12:50:12.247Z"
   },
   {
    "duration": 489,
    "start_time": "2024-09-10T12:50:12.848Z"
   },
   {
    "duration": 37,
    "start_time": "2024-09-11T06:55:53.618Z"
   },
   {
    "duration": 1458,
    "start_time": "2024-09-11T06:55:53.658Z"
   },
   {
    "duration": 173,
    "start_time": "2024-09-11T06:55:55.118Z"
   },
   {
    "duration": 8,
    "start_time": "2024-09-11T06:55:55.292Z"
   },
   {
    "duration": 3,
    "start_time": "2024-09-11T06:55:55.301Z"
   },
   {
    "duration": 510,
    "start_time": "2024-09-11T06:55:55.306Z"
   },
   {
    "duration": 51,
    "start_time": "2024-09-11T06:55:55.817Z"
   },
   {
    "duration": 37,
    "start_time": "2024-09-11T07:00:13.630Z"
   },
   {
    "duration": 1303,
    "start_time": "2024-09-11T07:00:13.669Z"
   },
   {
    "duration": 60,
    "start_time": "2024-09-11T07:00:14.973Z"
   },
   {
    "duration": 9,
    "start_time": "2024-09-11T07:00:15.035Z"
   },
   {
    "duration": 12,
    "start_time": "2024-09-11T07:00:15.046Z"
   },
   {
    "duration": 533,
    "start_time": "2024-09-11T07:00:15.060Z"
   },
   {
    "duration": 58,
    "start_time": "2024-09-11T07:00:15.595Z"
   },
   {
    "duration": 446,
    "start_time": "2024-09-11T07:00:28.032Z"
   },
   {
    "duration": 9,
    "start_time": "2024-09-11T07:01:37.193Z"
   },
   {
    "duration": 4,
    "start_time": "2024-09-11T07:11:47.529Z"
   },
   {
    "duration": 9,
    "start_time": "2024-09-11T07:11:56.640Z"
   },
   {
    "duration": 5,
    "start_time": "2024-09-11T07:12:31.749Z"
   },
   {
    "duration": 11,
    "start_time": "2024-09-11T07:12:34.585Z"
   },
   {
    "duration": 113,
    "start_time": "2024-09-11T07:16:51.821Z"
   },
   {
    "duration": 8,
    "start_time": "2024-09-11T07:16:57.212Z"
   },
   {
    "duration": 11,
    "start_time": "2024-09-11T07:17:06.300Z"
   },
   {
    "duration": 9,
    "start_time": "2024-09-11T07:17:11.172Z"
   },
   {
    "duration": 4,
    "start_time": "2024-09-11T07:19:21.918Z"
   },
   {
    "duration": 9,
    "start_time": "2024-09-11T07:19:22.942Z"
   },
   {
    "duration": 19,
    "start_time": "2024-09-11T07:19:26.430Z"
   },
   {
    "duration": 3,
    "start_time": "2024-09-11T07:23:05.321Z"
   },
   {
    "duration": 9,
    "start_time": "2024-09-11T07:23:06.104Z"
   },
   {
    "duration": 4,
    "start_time": "2024-09-11T07:23:20.104Z"
   },
   {
    "duration": 18,
    "start_time": "2024-09-11T07:23:20.452Z"
   },
   {
    "duration": 18,
    "start_time": "2024-09-11T07:23:27.050Z"
   },
   {
    "duration": 4,
    "start_time": "2024-09-11T07:24:08.507Z"
   },
   {
    "duration": 19,
    "start_time": "2024-09-11T07:24:09.074Z"
   },
   {
    "duration": 3,
    "start_time": "2024-09-11T07:24:31.026Z"
   },
   {
    "duration": 19,
    "start_time": "2024-09-11T07:24:32.137Z"
   },
   {
    "duration": 3,
    "start_time": "2024-09-11T07:24:40.454Z"
   },
   {
    "duration": 22,
    "start_time": "2024-09-11T07:24:41.042Z"
   },
   {
    "duration": 9,
    "start_time": "2024-09-11T07:25:29.779Z"
   },
   {
    "duration": 22,
    "start_time": "2024-09-11T07:25:32.376Z"
   },
   {
    "duration": 4,
    "start_time": "2024-09-11T07:25:42.583Z"
   },
   {
    "duration": 15,
    "start_time": "2024-09-11T07:25:43.042Z"
   },
   {
    "duration": 35,
    "start_time": "2024-09-11T07:25:49.516Z"
   },
   {
    "duration": 1245,
    "start_time": "2024-09-11T07:25:49.553Z"
   },
   {
    "duration": 59,
    "start_time": "2024-09-11T07:25:50.800Z"
   },
   {
    "duration": 9,
    "start_time": "2024-09-11T07:25:50.861Z"
   },
   {
    "duration": 3,
    "start_time": "2024-09-11T07:25:50.872Z"
   },
   {
    "duration": 503,
    "start_time": "2024-09-11T07:25:50.877Z"
   },
   {
    "duration": 436,
    "start_time": "2024-09-11T07:25:51.382Z"
   },
   {
    "duration": 5,
    "start_time": "2024-09-11T07:25:51.820Z"
   },
   {
    "duration": 50,
    "start_time": "2024-09-11T07:25:51.827Z"
   },
   {
    "duration": 24,
    "start_time": "2024-09-11T07:25:51.879Z"
   },
   {
    "duration": 59,
    "start_time": "2024-09-11T07:26:11.256Z"
   },
   {
    "duration": 1285,
    "start_time": "2024-09-11T07:26:11.316Z"
   },
   {
    "duration": 59,
    "start_time": "2024-09-11T07:26:12.603Z"
   },
   {
    "duration": 8,
    "start_time": "2024-09-11T07:26:12.664Z"
   },
   {
    "duration": 5,
    "start_time": "2024-09-11T07:26:12.673Z"
   },
   {
    "duration": 510,
    "start_time": "2024-09-11T07:26:12.679Z"
   },
   {
    "duration": 450,
    "start_time": "2024-09-11T07:26:13.191Z"
   },
   {
    "duration": 4,
    "start_time": "2024-09-11T07:26:13.642Z"
   },
   {
    "duration": 42,
    "start_time": "2024-09-11T07:26:13.648Z"
   },
   {
    "duration": 21,
    "start_time": "2024-09-11T07:26:21.859Z"
   },
   {
    "duration": 34,
    "start_time": "2024-09-11T07:26:31.484Z"
   },
   {
    "duration": 1284,
    "start_time": "2024-09-11T07:26:31.519Z"
   },
   {
    "duration": 60,
    "start_time": "2024-09-11T07:26:32.805Z"
   },
   {
    "duration": 8,
    "start_time": "2024-09-11T07:26:32.866Z"
   },
   {
    "duration": 4,
    "start_time": "2024-09-11T07:26:32.876Z"
   },
   {
    "duration": 517,
    "start_time": "2024-09-11T07:26:32.881Z"
   },
   {
    "duration": 439,
    "start_time": "2024-09-11T07:26:33.399Z"
   },
   {
    "duration": 3,
    "start_time": "2024-09-11T07:26:33.840Z"
   },
   {
    "duration": 13,
    "start_time": "2024-09-11T07:26:33.844Z"
   },
   {
    "duration": 38,
    "start_time": "2024-09-11T07:26:33.858Z"
   },
   {
    "duration": 35,
    "start_time": "2024-09-11T07:26:52.504Z"
   },
   {
    "duration": 1250,
    "start_time": "2024-09-11T07:26:52.541Z"
   },
   {
    "duration": 58,
    "start_time": "2024-09-11T07:26:53.792Z"
   },
   {
    "duration": 7,
    "start_time": "2024-09-11T07:26:53.852Z"
   },
   {
    "duration": 4,
    "start_time": "2024-09-11T07:26:53.861Z"
   },
   {
    "duration": 508,
    "start_time": "2024-09-11T07:26:53.866Z"
   },
   {
    "duration": 437,
    "start_time": "2024-09-11T07:26:54.376Z"
   },
   {
    "duration": 4,
    "start_time": "2024-09-11T07:26:54.815Z"
   },
   {
    "duration": 39,
    "start_time": "2024-09-11T07:26:54.820Z"
   },
   {
    "duration": 19,
    "start_time": "2024-09-11T07:27:16.546Z"
   },
   {
    "duration": 33,
    "start_time": "2024-09-11T07:28:24.824Z"
   },
   {
    "duration": 1307,
    "start_time": "2024-09-11T07:28:24.859Z"
   },
   {
    "duration": 58,
    "start_time": "2024-09-11T07:28:26.170Z"
   },
   {
    "duration": 7,
    "start_time": "2024-09-11T07:28:26.230Z"
   },
   {
    "duration": 5,
    "start_time": "2024-09-11T07:28:26.238Z"
   },
   {
    "duration": 511,
    "start_time": "2024-09-11T07:28:26.245Z"
   },
   {
    "duration": 445,
    "start_time": "2024-09-11T07:28:26.757Z"
   },
   {
    "duration": 4,
    "start_time": "2024-09-11T07:28:27.204Z"
   },
   {
    "duration": 34,
    "start_time": "2024-09-11T07:28:27.210Z"
   },
   {
    "duration": 10,
    "start_time": "2024-09-11T07:29:40.166Z"
   },
   {
    "duration": 4,
    "start_time": "2024-09-11T07:33:19.978Z"
   },
   {
    "duration": 16,
    "start_time": "2024-09-11T07:33:20.936Z"
   },
   {
    "duration": 39,
    "start_time": "2024-09-11T07:34:18.040Z"
   },
   {
    "duration": 1329,
    "start_time": "2024-09-11T07:34:18.081Z"
   },
   {
    "duration": 60,
    "start_time": "2024-09-11T07:34:19.411Z"
   },
   {
    "duration": 9,
    "start_time": "2024-09-11T07:34:19.472Z"
   },
   {
    "duration": 3,
    "start_time": "2024-09-11T07:34:19.482Z"
   },
   {
    "duration": 511,
    "start_time": "2024-09-11T07:34:19.486Z"
   },
   {
    "duration": 513,
    "start_time": "2024-09-11T07:34:19.998Z"
   },
   {
    "duration": 5,
    "start_time": "2024-09-11T07:34:20.514Z"
   },
   {
    "duration": 40,
    "start_time": "2024-09-11T07:34:20.521Z"
   },
   {
    "duration": 12,
    "start_time": "2024-09-11T07:34:20.563Z"
   },
   {
    "duration": 6,
    "start_time": "2024-09-11T07:37:50.044Z"
   },
   {
    "duration": 105,
    "start_time": "2024-09-11T07:39:45.742Z"
   },
   {
    "duration": 12,
    "start_time": "2024-09-11T07:39:55.407Z"
   },
   {
    "duration": 7,
    "start_time": "2024-09-11T07:40:07.230Z"
   },
   {
    "duration": 8,
    "start_time": "2024-09-11T07:40:40.335Z"
   },
   {
    "duration": 11,
    "start_time": "2024-09-11T07:40:52.758Z"
   },
   {
    "duration": 8,
    "start_time": "2024-09-11T07:41:00.871Z"
   },
   {
    "duration": 8,
    "start_time": "2024-09-11T07:41:39.109Z"
   },
   {
    "duration": 10,
    "start_time": "2024-09-11T07:47:04.733Z"
   },
   {
    "duration": 57,
    "start_time": "2024-09-11T07:50:51.526Z"
   },
   {
    "duration": 10,
    "start_time": "2024-09-11T07:51:06.502Z"
   },
   {
    "duration": 21,
    "start_time": "2024-09-11T07:51:26.054Z"
   },
   {
    "duration": 65,
    "start_time": "2024-09-11T07:51:41.063Z"
   },
   {
    "duration": 22,
    "start_time": "2024-09-11T07:52:08.971Z"
   },
   {
    "duration": 10,
    "start_time": "2024-09-11T07:52:37.267Z"
   },
   {
    "duration": 3,
    "start_time": "2024-09-11T07:53:19.712Z"
   },
   {
    "duration": 55,
    "start_time": "2024-09-11T07:54:38.033Z"
   },
   {
    "duration": 5,
    "start_time": "2024-09-11T07:57:01.307Z"
   },
   {
    "duration": 16,
    "start_time": "2024-09-11T07:59:15.918Z"
   },
   {
    "duration": 9,
    "start_time": "2024-09-11T07:59:31.405Z"
   },
   {
    "duration": 8,
    "start_time": "2024-09-11T08:00:15.286Z"
   },
   {
    "duration": 11,
    "start_time": "2024-09-11T08:00:31.462Z"
   },
   {
    "duration": 11,
    "start_time": "2024-09-11T08:01:06.510Z"
   },
   {
    "duration": 12,
    "start_time": "2024-09-11T08:07:09.137Z"
   },
   {
    "duration": 11,
    "start_time": "2024-09-11T08:08:22.717Z"
   },
   {
    "duration": 11,
    "start_time": "2024-09-11T08:08:35.775Z"
   },
   {
    "duration": 177,
    "start_time": "2024-09-11T08:09:14.012Z"
   },
   {
    "duration": 2996,
    "start_time": "2024-09-11T08:11:48.051Z"
   },
   {
    "duration": 134805,
    "start_time": "2024-09-11T08:12:28.452Z"
   },
   {
    "duration": 4,
    "start_time": "2024-09-11T08:15:19.693Z"
   },
   {
    "duration": 9453,
    "start_time": "2024-09-11T08:15:26.450Z"
   },
   {
    "duration": 38,
    "start_time": "2024-09-11T08:24:01.177Z"
   },
   {
    "duration": 390,
    "start_time": "2024-09-11T08:24:22.676Z"
   },
   {
    "duration": 6896,
    "start_time": "2024-09-11T08:24:33.933Z"
   },
   {
    "duration": 16,
    "start_time": "2024-09-11T08:30:28.983Z"
   },
   {
    "duration": 3,
    "start_time": "2024-09-11T08:33:32.847Z"
   },
   {
    "duration": 27,
    "start_time": "2024-09-11T08:34:38.217Z"
   },
   {
    "duration": 18,
    "start_time": "2024-09-11T08:35:12.017Z"
   },
   {
    "duration": 10378,
    "start_time": "2024-09-11T08:37:05.373Z"
   },
   {
    "duration": 114773,
    "start_time": "2024-09-11T08:43:29.160Z"
   },
   {
    "duration": 15190,
    "start_time": "2024-09-11T08:47:35.724Z"
   },
   {
    "duration": 45,
    "start_time": "2024-09-11T08:51:13.397Z"
   },
   {
    "duration": 1415,
    "start_time": "2024-09-11T08:51:13.444Z"
   },
   {
    "duration": 67,
    "start_time": "2024-09-11T08:51:14.861Z"
   },
   {
    "duration": 8,
    "start_time": "2024-09-11T08:51:14.929Z"
   },
   {
    "duration": 2,
    "start_time": "2024-09-11T08:51:14.939Z"
   },
   {
    "duration": 631,
    "start_time": "2024-09-11T08:51:14.943Z"
   },
   {
    "duration": 406,
    "start_time": "2024-09-11T08:51:15.576Z"
   },
   {
    "duration": 8,
    "start_time": "2024-09-11T08:51:15.984Z"
   },
   {
    "duration": 28,
    "start_time": "2024-09-11T08:51:15.997Z"
   },
   {
    "duration": 9,
    "start_time": "2024-09-11T08:51:16.026Z"
   },
   {
    "duration": 34761,
    "start_time": "2024-09-11T08:51:16.036Z"
   },
   {
    "duration": 23236,
    "start_time": "2024-09-11T08:52:56.406Z"
   },
   {
    "duration": 50328,
    "start_time": "2024-09-11T08:56:10.456Z"
   },
   {
    "duration": 4,
    "start_time": "2024-09-11T08:57:57.650Z"
   },
   {
    "duration": 6,
    "start_time": "2024-09-11T08:58:33.260Z"
   },
   {
    "duration": 669,
    "start_time": "2024-09-11T09:00:49.000Z"
   },
   {
    "duration": 49759,
    "start_time": "2024-09-11T09:03:04.016Z"
   },
   {
    "duration": 33,
    "start_time": "2024-09-11T09:05:08.949Z"
   },
   {
    "duration": 1542,
    "start_time": "2024-09-11T09:05:08.984Z"
   },
   {
    "duration": 59,
    "start_time": "2024-09-11T09:05:10.528Z"
   },
   {
    "duration": 8,
    "start_time": "2024-09-11T09:05:10.589Z"
   },
   {
    "duration": 11,
    "start_time": "2024-09-11T09:05:10.599Z"
   },
   {
    "duration": 603,
    "start_time": "2024-09-11T09:05:10.611Z"
   },
   {
    "duration": 384,
    "start_time": "2024-09-11T09:05:11.215Z"
   },
   {
    "duration": 4,
    "start_time": "2024-09-11T09:05:11.600Z"
   },
   {
    "duration": 38,
    "start_time": "2024-09-11T09:05:11.605Z"
   },
   {
    "duration": 9,
    "start_time": "2024-09-11T09:05:11.645Z"
   },
   {
    "duration": 49640,
    "start_time": "2024-09-11T09:05:11.655Z"
   },
   {
    "duration": 6,
    "start_time": "2024-09-11T09:06:01.296Z"
   },
   {
    "duration": 714,
    "start_time": "2024-09-11T09:06:01.303Z"
   },
   {
    "duration": 18,
    "start_time": "2024-09-11T09:52:44.523Z"
   },
   {
    "duration": 18,
    "start_time": "2024-09-11T09:57:09.625Z"
   },
   {
    "duration": 32,
    "start_time": "2024-09-11T09:57:50.878Z"
   },
   {
    "duration": 1425,
    "start_time": "2024-09-11T09:57:50.912Z"
   },
   {
    "duration": 62,
    "start_time": "2024-09-11T09:57:52.338Z"
   },
   {
    "duration": 8,
    "start_time": "2024-09-11T09:57:52.402Z"
   },
   {
    "duration": 34,
    "start_time": "2024-09-11T09:57:52.411Z"
   },
   {
    "duration": 577,
    "start_time": "2024-09-11T09:57:52.447Z"
   },
   {
    "duration": 397,
    "start_time": "2024-09-11T09:57:53.025Z"
   },
   {
    "duration": 4,
    "start_time": "2024-09-11T09:57:53.424Z"
   },
   {
    "duration": 31,
    "start_time": "2024-09-11T09:57:53.429Z"
   },
   {
    "duration": 10,
    "start_time": "2024-09-11T09:57:53.462Z"
   },
   {
    "duration": 21,
    "start_time": "2024-09-11T09:57:53.474Z"
   },
   {
    "duration": 0,
    "start_time": "2024-09-11T09:57:53.496Z"
   },
   {
    "duration": 0,
    "start_time": "2024-09-11T09:57:53.498Z"
   },
   {
    "duration": 0,
    "start_time": "2024-09-11T09:57:53.500Z"
   },
   {
    "duration": 62,
    "start_time": "2024-09-11T09:58:02.448Z"
   },
   {
    "duration": 47,
    "start_time": "2024-09-11T09:58:11.480Z"
   },
   {
    "duration": 3,
    "start_time": "2024-09-11T09:58:15.071Z"
   },
   {
    "duration": 98,
    "start_time": "2024-09-11T09:58:15.999Z"
   },
   {
    "duration": 6,
    "start_time": "2024-09-11T09:58:19.006Z"
   },
   {
    "duration": 38,
    "start_time": "2024-09-11T09:58:37.759Z"
   },
   {
    "duration": 1478,
    "start_time": "2024-09-11T09:58:37.799Z"
   },
   {
    "duration": 60,
    "start_time": "2024-09-11T09:58:39.279Z"
   },
   {
    "duration": 7,
    "start_time": "2024-09-11T09:58:39.341Z"
   },
   {
    "duration": 3,
    "start_time": "2024-09-11T09:58:39.350Z"
   },
   {
    "duration": 587,
    "start_time": "2024-09-11T09:58:39.354Z"
   },
   {
    "duration": 411,
    "start_time": "2024-09-11T09:58:39.943Z"
   },
   {
    "duration": 4,
    "start_time": "2024-09-11T09:58:40.355Z"
   },
   {
    "duration": 40,
    "start_time": "2024-09-11T09:58:40.360Z"
   },
   {
    "duration": 8,
    "start_time": "2024-09-11T09:58:40.401Z"
   },
   {
    "duration": 49845,
    "start_time": "2024-09-11T09:58:40.411Z"
   },
   {
    "duration": 4,
    "start_time": "2024-09-11T09:59:30.258Z"
   },
   {
    "duration": 1102,
    "start_time": "2024-09-11T09:59:30.264Z"
   },
   {
    "duration": 30,
    "start_time": "2024-09-11T09:59:31.369Z"
   },
   {
    "duration": 53,
    "start_time": "2024-09-11T10:00:22.026Z"
   },
   {
    "duration": 1427,
    "start_time": "2024-09-11T10:00:22.081Z"
   },
   {
    "duration": 61,
    "start_time": "2024-09-11T10:00:23.510Z"
   },
   {
    "duration": 9,
    "start_time": "2024-09-11T10:00:23.572Z"
   },
   {
    "duration": 3,
    "start_time": "2024-09-11T10:00:23.583Z"
   },
   {
    "duration": 580,
    "start_time": "2024-09-11T10:00:23.587Z"
   },
   {
    "duration": 382,
    "start_time": "2024-09-11T10:00:24.169Z"
   },
   {
    "duration": 4,
    "start_time": "2024-09-11T10:00:24.552Z"
   },
   {
    "duration": 45,
    "start_time": "2024-09-11T10:00:24.557Z"
   },
   {
    "duration": 8,
    "start_time": "2024-09-11T10:00:24.603Z"
   },
   {
    "duration": 87126,
    "start_time": "2024-09-11T10:00:24.612Z"
   },
   {
    "duration": 4,
    "start_time": "2024-09-11T10:01:51.739Z"
   },
   {
    "duration": 2629,
    "start_time": "2024-09-11T10:01:51.745Z"
   },
   {
    "duration": 30,
    "start_time": "2024-09-11T10:01:54.376Z"
   },
   {
    "duration": 34,
    "start_time": "2024-09-11T10:02:57.202Z"
   },
   {
    "duration": 1421,
    "start_time": "2024-09-11T10:02:57.237Z"
   },
   {
    "duration": 68,
    "start_time": "2024-09-11T10:02:58.659Z"
   },
   {
    "duration": 8,
    "start_time": "2024-09-11T10:02:58.728Z"
   },
   {
    "duration": 3,
    "start_time": "2024-09-11T10:02:58.737Z"
   },
   {
    "duration": 633,
    "start_time": "2024-09-11T10:02:58.742Z"
   },
   {
    "duration": 404,
    "start_time": "2024-09-11T10:02:59.376Z"
   },
   {
    "duration": 10,
    "start_time": "2024-09-11T10:02:59.790Z"
   },
   {
    "duration": 37,
    "start_time": "2024-09-11T10:02:59.802Z"
   },
   {
    "duration": 9,
    "start_time": "2024-09-11T10:02:59.840Z"
   },
   {
    "duration": 142359,
    "start_time": "2024-09-11T10:02:59.851Z"
   },
   {
    "duration": 5,
    "start_time": "2024-09-11T10:05:22.212Z"
   },
   {
    "duration": 2041,
    "start_time": "2024-09-11T10:05:22.218Z"
   },
   {
    "duration": 43,
    "start_time": "2024-09-11T10:05:24.260Z"
   },
   {
    "duration": 41,
    "start_time": "2024-09-11T10:06:04.568Z"
   },
   {
    "duration": 1409,
    "start_time": "2024-09-11T10:06:04.611Z"
   },
   {
    "duration": 59,
    "start_time": "2024-09-11T10:06:06.022Z"
   },
   {
    "duration": 18,
    "start_time": "2024-09-11T10:06:06.083Z"
   },
   {
    "duration": 10,
    "start_time": "2024-09-11T10:06:06.104Z"
   },
   {
    "duration": 618,
    "start_time": "2024-09-11T10:06:06.115Z"
   },
   {
    "duration": 399,
    "start_time": "2024-09-11T10:06:06.735Z"
   },
   {
    "duration": 4,
    "start_time": "2024-09-11T10:06:07.135Z"
   },
   {
    "duration": 34,
    "start_time": "2024-09-11T10:06:07.141Z"
   },
   {
    "duration": 12,
    "start_time": "2024-09-11T10:06:07.193Z"
   },
   {
    "duration": 89135,
    "start_time": "2024-09-11T10:06:07.207Z"
   },
   {
    "duration": 4,
    "start_time": "2024-09-11T10:07:36.343Z"
   },
   {
    "duration": 2539,
    "start_time": "2024-09-11T10:07:36.348Z"
   },
   {
    "duration": 24,
    "start_time": "2024-09-11T10:07:38.889Z"
   },
   {
    "duration": 36,
    "start_time": "2024-09-11T10:08:09.404Z"
   },
   {
    "duration": 1391,
    "start_time": "2024-09-11T10:08:09.442Z"
   },
   {
    "duration": 63,
    "start_time": "2024-09-11T10:08:10.834Z"
   },
   {
    "duration": 8,
    "start_time": "2024-09-11T10:08:10.902Z"
   },
   {
    "duration": 26,
    "start_time": "2024-09-11T10:08:10.911Z"
   },
   {
    "duration": 601,
    "start_time": "2024-09-11T10:08:10.939Z"
   },
   {
    "duration": 415,
    "start_time": "2024-09-11T10:08:11.542Z"
   },
   {
    "duration": 4,
    "start_time": "2024-09-11T10:08:11.958Z"
   },
   {
    "duration": 52,
    "start_time": "2024-09-11T10:08:11.965Z"
   },
   {
    "duration": 10,
    "start_time": "2024-09-11T10:08:12.020Z"
   },
   {
    "duration": 117925,
    "start_time": "2024-09-11T10:08:12.031Z"
   },
   {
    "duration": 3,
    "start_time": "2024-09-11T10:10:09.958Z"
   },
   {
    "duration": 2845,
    "start_time": "2024-09-11T10:10:09.963Z"
   },
   {
    "duration": 5,
    "start_time": "2024-09-11T10:10:12.810Z"
   },
   {
    "duration": 32,
    "start_time": "2024-09-11T10:10:53.328Z"
   },
   {
    "duration": 1363,
    "start_time": "2024-09-11T10:10:53.362Z"
   },
   {
    "duration": 59,
    "start_time": "2024-09-11T10:10:54.727Z"
   },
   {
    "duration": 16,
    "start_time": "2024-09-11T10:10:54.787Z"
   },
   {
    "duration": 2,
    "start_time": "2024-09-11T10:10:54.805Z"
   },
   {
    "duration": 612,
    "start_time": "2024-09-11T10:10:54.808Z"
   },
   {
    "duration": 391,
    "start_time": "2024-09-11T10:10:55.422Z"
   },
   {
    "duration": 4,
    "start_time": "2024-09-11T10:10:55.815Z"
   },
   {
    "duration": 68,
    "start_time": "2024-09-11T10:10:55.820Z"
   },
   {
    "duration": 14,
    "start_time": "2024-09-11T10:10:55.890Z"
   },
   {
    "duration": 120306,
    "start_time": "2024-09-11T10:10:55.905Z"
   },
   {
    "duration": 3,
    "start_time": "2024-09-11T10:12:56.213Z"
   },
   {
    "duration": 2719,
    "start_time": "2024-09-11T10:12:56.218Z"
   },
   {
    "duration": 5,
    "start_time": "2024-09-11T10:12:58.939Z"
   },
   {
    "duration": 4,
    "start_time": "2024-09-11T10:13:57.160Z"
   },
   {
    "duration": 33,
    "start_time": "2024-09-11T10:13:57.673Z"
   },
   {
    "duration": 4,
    "start_time": "2024-09-11T10:14:25.369Z"
   },
   {
    "duration": 40,
    "start_time": "2024-09-11T10:14:25.654Z"
   },
   {
    "duration": 35,
    "start_time": "2024-09-11T10:14:31.208Z"
   },
   {
    "duration": 1402,
    "start_time": "2024-09-11T10:14:31.244Z"
   },
   {
    "duration": 66,
    "start_time": "2024-09-11T10:14:32.648Z"
   },
   {
    "duration": 8,
    "start_time": "2024-09-11T10:14:32.716Z"
   },
   {
    "duration": 3,
    "start_time": "2024-09-11T10:14:32.726Z"
   },
   {
    "duration": 621,
    "start_time": "2024-09-11T10:14:32.731Z"
   },
   {
    "duration": 387,
    "start_time": "2024-09-11T10:14:33.353Z"
   },
   {
    "duration": 4,
    "start_time": "2024-09-11T10:14:33.742Z"
   },
   {
    "duration": 25,
    "start_time": "2024-09-11T10:14:33.747Z"
   },
   {
    "duration": 33,
    "start_time": "2024-09-11T10:14:33.773Z"
   },
   {
    "duration": 57122,
    "start_time": "2024-09-11T10:14:33.808Z"
   },
   {
    "duration": 5,
    "start_time": "2024-09-11T10:15:30.931Z"
   },
   {
    "duration": 1264,
    "start_time": "2024-09-11T10:15:30.937Z"
   },
   {
    "duration": 18,
    "start_time": "2024-09-11T10:15:32.206Z"
   },
   {
    "duration": 51,
    "start_time": "2024-09-11T10:16:16.849Z"
   },
   {
    "duration": 1419,
    "start_time": "2024-09-11T10:16:16.902Z"
   },
   {
    "duration": 60,
    "start_time": "2024-09-11T10:16:18.323Z"
   },
   {
    "duration": 13,
    "start_time": "2024-09-11T10:16:18.385Z"
   },
   {
    "duration": 3,
    "start_time": "2024-09-11T10:16:18.401Z"
   },
   {
    "duration": 596,
    "start_time": "2024-09-11T10:16:18.406Z"
   },
   {
    "duration": 385,
    "start_time": "2024-09-11T10:16:19.003Z"
   },
   {
    "duration": 13,
    "start_time": "2024-09-11T10:16:19.392Z"
   },
   {
    "duration": 47,
    "start_time": "2024-09-11T10:16:19.407Z"
   },
   {
    "duration": 8,
    "start_time": "2024-09-11T10:16:19.455Z"
   },
   {
    "duration": 58244,
    "start_time": "2024-09-11T10:16:19.465Z"
   },
   {
    "duration": 3,
    "start_time": "2024-09-11T10:17:17.711Z"
   },
   {
    "duration": 1805,
    "start_time": "2024-09-11T10:17:17.716Z"
   },
   {
    "duration": 5,
    "start_time": "2024-09-11T10:17:19.523Z"
   },
   {
    "duration": 39,
    "start_time": "2024-09-11T10:19:08.180Z"
   },
   {
    "duration": 1448,
    "start_time": "2024-09-11T10:19:08.229Z"
   },
   {
    "duration": 60,
    "start_time": "2024-09-11T10:19:09.679Z"
   },
   {
    "duration": 8,
    "start_time": "2024-09-11T10:19:09.740Z"
   },
   {
    "duration": 3,
    "start_time": "2024-09-11T10:19:09.750Z"
   },
   {
    "duration": 614,
    "start_time": "2024-09-11T10:19:09.754Z"
   },
   {
    "duration": 388,
    "start_time": "2024-09-11T10:19:10.370Z"
   },
   {
    "duration": 4,
    "start_time": "2024-09-11T10:19:10.759Z"
   },
   {
    "duration": 33,
    "start_time": "2024-09-11T10:19:10.765Z"
   },
   {
    "duration": 8,
    "start_time": "2024-09-11T10:19:10.799Z"
   },
   {
    "duration": 52300,
    "start_time": "2024-09-11T10:19:10.809Z"
   },
   {
    "duration": 5,
    "start_time": "2024-09-11T10:20:03.111Z"
   },
   {
    "duration": 1222,
    "start_time": "2024-09-11T10:20:03.117Z"
   },
   {
    "duration": 19,
    "start_time": "2024-09-11T10:20:04.341Z"
   },
   {
    "duration": 46,
    "start_time": "2024-09-11T10:21:17.301Z"
   },
   {
    "duration": 1347,
    "start_time": "2024-09-11T10:21:17.348Z"
   },
   {
    "duration": 58,
    "start_time": "2024-09-11T10:21:18.697Z"
   },
   {
    "duration": 8,
    "start_time": "2024-09-11T10:21:18.757Z"
   },
   {
    "duration": 3,
    "start_time": "2024-09-11T10:21:18.766Z"
   },
   {
    "duration": 595,
    "start_time": "2024-09-11T10:21:18.770Z"
   },
   {
    "duration": 381,
    "start_time": "2024-09-11T10:21:19.367Z"
   },
   {
    "duration": 4,
    "start_time": "2024-09-11T10:21:19.749Z"
   },
   {
    "duration": 44,
    "start_time": "2024-09-11T10:21:19.755Z"
   },
   {
    "duration": 9,
    "start_time": "2024-09-11T10:21:19.800Z"
   },
   {
    "duration": 38201,
    "start_time": "2024-09-11T10:21:19.811Z"
   },
   {
    "duration": 3,
    "start_time": "2024-09-11T10:21:58.014Z"
   },
   {
    "duration": 1919,
    "start_time": "2024-09-11T10:21:58.018Z"
   },
   {
    "duration": 5,
    "start_time": "2024-09-11T10:21:59.938Z"
   },
   {
    "duration": 8,
    "start_time": "2024-09-11T10:23:53.217Z"
   },
   {
    "duration": 5,
    "start_time": "2024-09-11T10:24:06.466Z"
   },
   {
    "duration": 112,
    "start_time": "2024-09-11T10:31:49.689Z"
   },
   {
    "duration": 1814,
    "start_time": "2024-09-11T10:32:34.655Z"
   },
   {
    "duration": 5,
    "start_time": "2024-09-11T10:32:47.806Z"
   },
   {
    "duration": 9,
    "start_time": "2024-09-11T10:32:49.083Z"
   },
   {
    "duration": 1939,
    "start_time": "2024-09-11T10:32:58.467Z"
   },
   {
    "duration": 4,
    "start_time": "2024-09-11T10:33:53.685Z"
   },
   {
    "duration": 18,
    "start_time": "2024-09-11T10:33:54.655Z"
   },
   {
    "duration": 38,
    "start_time": "2024-09-11T10:34:05.706Z"
   },
   {
    "duration": 1376,
    "start_time": "2024-09-11T10:34:05.746Z"
   },
   {
    "duration": 62,
    "start_time": "2024-09-11T10:34:07.124Z"
   },
   {
    "duration": 14,
    "start_time": "2024-09-11T10:34:07.188Z"
   },
   {
    "duration": 3,
    "start_time": "2024-09-11T10:34:07.205Z"
   },
   {
    "duration": 630,
    "start_time": "2024-09-11T10:34:07.210Z"
   },
   {
    "duration": 423,
    "start_time": "2024-09-11T10:34:07.842Z"
   },
   {
    "duration": 4,
    "start_time": "2024-09-11T10:34:08.266Z"
   },
   {
    "duration": 55,
    "start_time": "2024-09-11T10:34:08.272Z"
   },
   {
    "duration": 8,
    "start_time": "2024-09-11T10:34:08.329Z"
   },
   {
    "duration": 40303,
    "start_time": "2024-09-11T10:34:08.338Z"
   },
   {
    "duration": 5,
    "start_time": "2024-09-11T10:34:48.643Z"
   },
   {
    "duration": 1457,
    "start_time": "2024-09-11T10:34:48.650Z"
   },
   {
    "duration": 17,
    "start_time": "2024-09-11T10:34:50.109Z"
   },
   {
    "duration": 37,
    "start_time": "2024-09-11T10:35:52.500Z"
   },
   {
    "duration": 1341,
    "start_time": "2024-09-11T10:35:52.539Z"
   },
   {
    "duration": 60,
    "start_time": "2024-09-11T10:35:53.881Z"
   },
   {
    "duration": 8,
    "start_time": "2024-09-11T10:35:53.942Z"
   },
   {
    "duration": 4,
    "start_time": "2024-09-11T10:35:53.951Z"
   },
   {
    "duration": 564,
    "start_time": "2024-09-11T10:35:53.956Z"
   },
   {
    "duration": 376,
    "start_time": "2024-09-11T10:35:54.522Z"
   },
   {
    "duration": 4,
    "start_time": "2024-09-11T10:35:54.899Z"
   },
   {
    "duration": 54,
    "start_time": "2024-09-11T10:35:54.904Z"
   },
   {
    "duration": 8,
    "start_time": "2024-09-11T10:35:54.959Z"
   },
   {
    "duration": 76160,
    "start_time": "2024-09-11T10:35:54.969Z"
   },
   {
    "duration": 3,
    "start_time": "2024-09-11T10:37:11.131Z"
   },
   {
    "duration": 2637,
    "start_time": "2024-09-11T10:37:11.135Z"
   },
   {
    "duration": 5,
    "start_time": "2024-09-11T10:37:13.774Z"
   },
   {
    "duration": 34,
    "start_time": "2024-09-11T10:37:35.704Z"
   },
   {
    "duration": 1407,
    "start_time": "2024-09-11T10:37:35.772Z"
   },
   {
    "duration": 62,
    "start_time": "2024-09-11T10:37:37.181Z"
   },
   {
    "duration": 9,
    "start_time": "2024-09-11T10:37:37.244Z"
   },
   {
    "duration": 11,
    "start_time": "2024-09-11T10:37:37.255Z"
   },
   {
    "duration": 591,
    "start_time": "2024-09-11T10:37:37.267Z"
   },
   {
    "duration": 395,
    "start_time": "2024-09-11T10:37:37.860Z"
   },
   {
    "duration": 4,
    "start_time": "2024-09-11T10:37:38.257Z"
   },
   {
    "duration": 60,
    "start_time": "2024-09-11T10:37:38.262Z"
   },
   {
    "duration": 8,
    "start_time": "2024-09-11T10:37:38.324Z"
   },
   {
    "duration": 121498,
    "start_time": "2024-09-11T10:37:38.334Z"
   },
   {
    "duration": 5,
    "start_time": "2024-09-11T10:39:39.834Z"
   },
   {
    "duration": 2725,
    "start_time": "2024-09-11T10:39:39.840Z"
   },
   {
    "duration": 6,
    "start_time": "2024-09-11T10:39:42.567Z"
   },
   {
    "duration": 35,
    "start_time": "2024-09-11T10:41:18.363Z"
   },
   {
    "duration": 1369,
    "start_time": "2024-09-11T10:41:18.400Z"
   },
   {
    "duration": 59,
    "start_time": "2024-09-11T10:41:19.771Z"
   },
   {
    "duration": 7,
    "start_time": "2024-09-11T10:41:19.832Z"
   },
   {
    "duration": 3,
    "start_time": "2024-09-11T10:41:19.841Z"
   },
   {
    "duration": 632,
    "start_time": "2024-09-11T10:41:19.846Z"
   },
   {
    "duration": 399,
    "start_time": "2024-09-11T10:41:20.479Z"
   },
   {
    "duration": 11,
    "start_time": "2024-09-11T10:41:20.879Z"
   },
   {
    "duration": 62,
    "start_time": "2024-09-11T10:41:20.892Z"
   },
   {
    "duration": 9,
    "start_time": "2024-09-11T10:41:20.956Z"
   },
   {
    "duration": 169031,
    "start_time": "2024-09-11T10:41:20.967Z"
   },
   {
    "duration": 3,
    "start_time": "2024-09-11T10:44:10.000Z"
   },
   {
    "duration": 2631,
    "start_time": "2024-09-11T10:44:10.004Z"
   },
   {
    "duration": 6,
    "start_time": "2024-09-11T10:44:12.637Z"
   },
   {
    "duration": 4,
    "start_time": "2024-09-11T10:46:07.708Z"
   },
   {
    "duration": 41,
    "start_time": "2024-09-11T10:46:08.134Z"
   },
   {
    "duration": 33,
    "start_time": "2024-09-11T10:46:43.036Z"
   },
   {
    "duration": 1418,
    "start_time": "2024-09-11T10:46:43.071Z"
   },
   {
    "duration": 60,
    "start_time": "2024-09-11T10:46:44.491Z"
   },
   {
    "duration": 11,
    "start_time": "2024-09-11T10:46:44.552Z"
   },
   {
    "duration": 7,
    "start_time": "2024-09-11T10:46:44.565Z"
   },
   {
    "duration": 569,
    "start_time": "2024-09-11T10:46:44.574Z"
   },
   {
    "duration": 399,
    "start_time": "2024-09-11T10:46:45.145Z"
   },
   {
    "duration": 5,
    "start_time": "2024-09-11T10:46:45.545Z"
   },
   {
    "duration": 53,
    "start_time": "2024-09-11T10:46:45.551Z"
   },
   {
    "duration": 9,
    "start_time": "2024-09-11T10:46:45.605Z"
   },
   {
    "duration": 201571,
    "start_time": "2024-09-11T10:46:45.616Z"
   },
   {
    "duration": 4,
    "start_time": "2024-09-11T10:50:07.189Z"
   },
   {
    "duration": 3054,
    "start_time": "2024-09-11T10:50:07.194Z"
   },
   {
    "duration": 8,
    "start_time": "2024-09-11T10:50:10.250Z"
   },
   {
    "duration": 36,
    "start_time": "2024-09-11T10:51:26.760Z"
   },
   {
    "duration": 1368,
    "start_time": "2024-09-11T10:51:26.798Z"
   },
   {
    "duration": 61,
    "start_time": "2024-09-11T10:51:28.168Z"
   },
   {
    "duration": 9,
    "start_time": "2024-09-11T10:51:28.230Z"
   },
   {
    "duration": 3,
    "start_time": "2024-09-11T10:51:28.241Z"
   },
   {
    "duration": 556,
    "start_time": "2024-09-11T10:51:28.245Z"
   },
   {
    "duration": 371,
    "start_time": "2024-09-11T10:51:28.803Z"
   },
   {
    "duration": 4,
    "start_time": "2024-09-11T10:51:29.176Z"
   },
   {
    "duration": 45,
    "start_time": "2024-09-11T10:51:29.189Z"
   },
   {
    "duration": 10,
    "start_time": "2024-09-11T10:51:29.235Z"
   },
   {
    "duration": 159093,
    "start_time": "2024-09-11T10:51:29.248Z"
   },
   {
    "duration": 4,
    "start_time": "2024-09-11T10:54:08.342Z"
   },
   {
    "duration": 2926,
    "start_time": "2024-09-11T10:54:08.347Z"
   },
   {
    "duration": 5,
    "start_time": "2024-09-11T10:54:11.275Z"
   },
   {
    "duration": 37,
    "start_time": "2024-09-11T10:59:51.038Z"
   },
   {
    "duration": 1409,
    "start_time": "2024-09-11T10:59:51.077Z"
   },
   {
    "duration": 59,
    "start_time": "2024-09-11T10:59:52.490Z"
   },
   {
    "duration": 8,
    "start_time": "2024-09-11T10:59:52.550Z"
   },
   {
    "duration": 8,
    "start_time": "2024-09-11T10:59:52.560Z"
   },
   {
    "duration": 578,
    "start_time": "2024-09-11T10:59:52.570Z"
   },
   {
    "duration": 392,
    "start_time": "2024-09-11T10:59:53.150Z"
   },
   {
    "duration": 4,
    "start_time": "2024-09-11T10:59:53.543Z"
   },
   {
    "duration": 72,
    "start_time": "2024-09-11T10:59:53.548Z"
   },
   {
    "duration": 8,
    "start_time": "2024-09-11T10:59:53.621Z"
   },
   {
    "duration": 159330,
    "start_time": "2024-09-11T10:59:53.630Z"
   },
   {
    "duration": 3,
    "start_time": "2024-09-11T11:02:32.961Z"
   },
   {
    "duration": 2946,
    "start_time": "2024-09-11T11:02:32.966Z"
   },
   {
    "duration": 6,
    "start_time": "2024-09-11T11:02:35.913Z"
   },
   {
    "duration": 36,
    "start_time": "2024-09-11T11:03:23.498Z"
   },
   {
    "duration": 1353,
    "start_time": "2024-09-11T11:03:23.536Z"
   },
   {
    "duration": 59,
    "start_time": "2024-09-11T11:03:24.891Z"
   },
   {
    "duration": 7,
    "start_time": "2024-09-11T11:03:24.952Z"
   },
   {
    "duration": 4,
    "start_time": "2024-09-11T11:03:24.961Z"
   },
   {
    "duration": 550,
    "start_time": "2024-09-11T11:03:24.966Z"
   },
   {
    "duration": 377,
    "start_time": "2024-09-11T11:03:25.517Z"
   },
   {
    "duration": 4,
    "start_time": "2024-09-11T11:03:25.895Z"
   },
   {
    "duration": 63,
    "start_time": "2024-09-11T11:03:25.901Z"
   },
   {
    "duration": 8,
    "start_time": "2024-09-11T11:03:25.966Z"
   },
   {
    "duration": 153805,
    "start_time": "2024-09-11T11:03:25.976Z"
   },
   {
    "duration": 9,
    "start_time": "2024-09-11T11:05:59.782Z"
   },
   {
    "duration": 3504,
    "start_time": "2024-09-11T11:05:59.792Z"
   },
   {
    "duration": 17,
    "start_time": "2024-09-11T11:06:03.297Z"
   },
   {
    "duration": 4,
    "start_time": "2024-09-11T11:10:46.252Z"
   },
   {
    "duration": 36,
    "start_time": "2024-09-11T11:10:46.735Z"
   },
   {
    "duration": 36,
    "start_time": "2024-09-11T11:11:00.455Z"
   },
   {
    "duration": 1400,
    "start_time": "2024-09-11T11:11:00.492Z"
   },
   {
    "duration": 61,
    "start_time": "2024-09-11T11:11:01.894Z"
   },
   {
    "duration": 8,
    "start_time": "2024-09-11T11:11:01.956Z"
   },
   {
    "duration": 7,
    "start_time": "2024-09-11T11:11:01.966Z"
   },
   {
    "duration": 595,
    "start_time": "2024-09-11T11:11:01.974Z"
   },
   {
    "duration": 382,
    "start_time": "2024-09-11T11:11:02.570Z"
   },
   {
    "duration": 6,
    "start_time": "2024-09-11T11:11:02.954Z"
   },
   {
    "duration": 61,
    "start_time": "2024-09-11T11:11:02.961Z"
   },
   {
    "duration": 9,
    "start_time": "2024-09-11T11:11:03.024Z"
   },
   {
    "duration": 164018,
    "start_time": "2024-09-11T11:11:03.036Z"
   },
   {
    "duration": 3,
    "start_time": "2024-09-11T11:13:47.056Z"
   },
   {
    "duration": 2976,
    "start_time": "2024-09-11T11:13:47.060Z"
   },
   {
    "duration": 6,
    "start_time": "2024-09-11T11:13:50.037Z"
   },
   {
    "duration": 34,
    "start_time": "2024-09-11T11:15:41.538Z"
   },
   {
    "duration": 1395,
    "start_time": "2024-09-11T11:15:41.574Z"
   },
   {
    "duration": 57,
    "start_time": "2024-09-11T11:15:42.971Z"
   },
   {
    "duration": 7,
    "start_time": "2024-09-11T11:15:43.030Z"
   },
   {
    "duration": 2,
    "start_time": "2024-09-11T11:15:43.039Z"
   },
   {
    "duration": 570,
    "start_time": "2024-09-11T11:15:43.043Z"
   },
   {
    "duration": 369,
    "start_time": "2024-09-11T11:15:43.614Z"
   },
   {
    "duration": 9,
    "start_time": "2024-09-11T11:15:43.984Z"
   },
   {
    "duration": 54,
    "start_time": "2024-09-11T11:15:43.995Z"
   },
   {
    "duration": 8,
    "start_time": "2024-09-11T11:15:44.051Z"
   },
   {
    "duration": 85424,
    "start_time": "2024-09-11T11:15:44.061Z"
   },
   {
    "duration": 4,
    "start_time": "2024-09-11T11:17:09.487Z"
   },
   {
    "duration": 2987,
    "start_time": "2024-09-11T11:17:09.493Z"
   },
   {
    "duration": 6,
    "start_time": "2024-09-11T11:17:12.481Z"
   },
   {
    "duration": 32,
    "start_time": "2024-09-11T11:17:59.875Z"
   },
   {
    "duration": 1357,
    "start_time": "2024-09-11T11:17:59.914Z"
   },
   {
    "duration": 59,
    "start_time": "2024-09-11T11:18:01.272Z"
   },
   {
    "duration": 7,
    "start_time": "2024-09-11T11:18:01.332Z"
   },
   {
    "duration": 22,
    "start_time": "2024-09-11T11:18:01.341Z"
   },
   {
    "duration": 586,
    "start_time": "2024-09-11T11:18:01.364Z"
   },
   {
    "duration": 388,
    "start_time": "2024-09-11T11:18:01.951Z"
   },
   {
    "duration": 4,
    "start_time": "2024-09-11T11:18:02.341Z"
   },
   {
    "duration": 56,
    "start_time": "2024-09-11T11:18:02.346Z"
   },
   {
    "duration": 8,
    "start_time": "2024-09-11T11:18:02.403Z"
   },
   {
    "duration": 49389,
    "start_time": "2024-09-11T11:18:02.413Z"
   },
   {
    "duration": 4,
    "start_time": "2024-09-11T11:18:51.803Z"
   },
   {
    "duration": 2998,
    "start_time": "2024-09-11T11:18:51.808Z"
   },
   {
    "duration": 5,
    "start_time": "2024-09-11T11:18:54.808Z"
   },
   {
    "duration": 35,
    "start_time": "2024-09-11T11:19:55.316Z"
   },
   {
    "duration": 1296,
    "start_time": "2024-09-11T11:19:55.352Z"
   },
   {
    "duration": 59,
    "start_time": "2024-09-11T11:19:56.649Z"
   },
   {
    "duration": 7,
    "start_time": "2024-09-11T11:19:56.710Z"
   },
   {
    "duration": 3,
    "start_time": "2024-09-11T11:19:56.719Z"
   },
   {
    "duration": 570,
    "start_time": "2024-09-11T11:19:56.723Z"
   },
   {
    "duration": 376,
    "start_time": "2024-09-11T11:19:57.295Z"
   },
   {
    "duration": 4,
    "start_time": "2024-09-11T11:19:57.673Z"
   },
   {
    "duration": 46,
    "start_time": "2024-09-11T11:19:57.678Z"
   },
   {
    "duration": 8,
    "start_time": "2024-09-11T11:19:57.726Z"
   },
   {
    "duration": 26016,
    "start_time": "2024-09-11T11:19:57.735Z"
   },
   {
    "duration": 3,
    "start_time": "2024-09-11T11:20:23.753Z"
   },
   {
    "duration": 1813,
    "start_time": "2024-09-11T11:20:23.757Z"
   },
   {
    "duration": 4,
    "start_time": "2024-09-11T11:20:25.572Z"
   },
   {
    "duration": 44,
    "start_time": "2024-09-11T11:55:45.426Z"
   },
   {
    "duration": 3142,
    "start_time": "2024-09-11T11:55:45.473Z"
   },
   {
    "duration": 188,
    "start_time": "2024-09-11T11:55:48.617Z"
   },
   {
    "duration": 9,
    "start_time": "2024-09-11T11:55:48.808Z"
   },
   {
    "duration": 15,
    "start_time": "2024-09-11T11:55:48.818Z"
   },
   {
    "duration": 676,
    "start_time": "2024-09-11T11:55:48.834Z"
   },
   {
    "duration": 421,
    "start_time": "2024-09-11T11:55:49.511Z"
   },
   {
    "duration": 5,
    "start_time": "2024-09-11T11:55:49.934Z"
   },
   {
    "duration": 35,
    "start_time": "2024-09-11T11:55:49.941Z"
   },
   {
    "duration": 26,
    "start_time": "2024-09-11T11:55:49.979Z"
   },
   {
    "duration": 28428,
    "start_time": "2024-09-11T11:55:50.007Z"
   },
   {
    "duration": 5,
    "start_time": "2024-09-11T11:56:18.437Z"
   },
   {
    "duration": 2041,
    "start_time": "2024-09-11T11:56:18.444Z"
   },
   {
    "duration": 5,
    "start_time": "2024-09-11T11:56:20.487Z"
   },
   {
    "duration": 5,
    "start_time": "2024-09-11T12:00:19.684Z"
   },
   {
    "duration": 4,
    "start_time": "2024-09-11T12:13:56.952Z"
   },
   {
    "duration": 1500,
    "start_time": "2024-09-12T05:29:22.453Z"
   },
   {
    "duration": 188,
    "start_time": "2024-09-12T05:29:24.395Z"
   },
   {
    "duration": 26,
    "start_time": "2024-09-12T05:30:54.044Z"
   },
   {
    "duration": 3,
    "start_time": "2024-09-12T05:30:55.967Z"
   },
   {
    "duration": 58,
    "start_time": "2024-09-12T05:30:57.335Z"
   },
   {
    "duration": 39,
    "start_time": "2024-09-12T05:31:37.784Z"
   },
   {
    "duration": 1376,
    "start_time": "2024-09-12T05:31:37.825Z"
   },
   {
    "duration": 61,
    "start_time": "2024-09-12T05:31:39.203Z"
   },
   {
    "duration": 8,
    "start_time": "2024-09-12T05:31:39.266Z"
   },
   {
    "duration": 33,
    "start_time": "2024-09-12T05:31:39.276Z"
   },
   {
    "duration": 632,
    "start_time": "2024-09-12T05:31:39.310Z"
   },
   {
    "duration": 409,
    "start_time": "2024-09-12T05:31:39.943Z"
   },
   {
    "duration": 6,
    "start_time": "2024-09-12T05:31:40.354Z"
   },
   {
    "duration": 52,
    "start_time": "2024-09-12T05:31:40.362Z"
   },
   {
    "duration": 9,
    "start_time": "2024-09-12T05:31:40.416Z"
   },
   {
    "duration": 25539,
    "start_time": "2024-09-12T05:31:40.426Z"
   },
   {
    "duration": 3,
    "start_time": "2024-09-12T05:32:05.967Z"
   },
   {
    "duration": 1853,
    "start_time": "2024-09-12T05:32:05.972Z"
   },
   {
    "duration": 5,
    "start_time": "2024-09-12T05:32:07.827Z"
   },
   {
    "duration": 119,
    "start_time": "2024-09-12T05:57:02.020Z"
   },
   {
    "duration": 22,
    "start_time": "2024-09-12T05:57:23.460Z"
   },
   {
    "duration": 22,
    "start_time": "2024-09-12T06:02:05.315Z"
   },
   {
    "duration": 22,
    "start_time": "2024-09-12T06:02:27.183Z"
   },
   {
    "duration": 32,
    "start_time": "2024-09-12T06:02:51.323Z"
   },
   {
    "duration": 1302,
    "start_time": "2024-09-12T06:02:51.356Z"
   },
   {
    "duration": 62,
    "start_time": "2024-09-12T06:02:52.660Z"
   },
   {
    "duration": 9,
    "start_time": "2024-09-12T06:02:52.724Z"
   },
   {
    "duration": 6,
    "start_time": "2024-09-12T06:02:52.735Z"
   },
   {
    "duration": 578,
    "start_time": "2024-09-12T06:02:52.742Z"
   },
   {
    "duration": 382,
    "start_time": "2024-09-12T06:02:53.322Z"
   },
   {
    "duration": 131,
    "start_time": "2024-09-12T06:02:53.705Z"
   },
   {
    "duration": 0,
    "start_time": "2024-09-12T06:02:53.838Z"
   },
   {
    "duration": 0,
    "start_time": "2024-09-12T06:02:53.839Z"
   },
   {
    "duration": 0,
    "start_time": "2024-09-12T06:02:53.841Z"
   },
   {
    "duration": 0,
    "start_time": "2024-09-12T06:02:53.842Z"
   },
   {
    "duration": 0,
    "start_time": "2024-09-12T06:02:53.844Z"
   },
   {
    "duration": 0,
    "start_time": "2024-09-12T06:02:53.845Z"
   },
   {
    "duration": 0,
    "start_time": "2024-09-12T06:02:53.847Z"
   },
   {
    "duration": 11,
    "start_time": "2024-09-12T06:03:30.711Z"
   },
   {
    "duration": 294,
    "start_time": "2024-09-12T06:03:36.398Z"
   },
   {
    "duration": 309,
    "start_time": "2024-09-12T06:03:59.288Z"
   },
   {
    "duration": 910,
    "start_time": "2024-09-12T06:04:20.683Z"
   },
   {
    "duration": 1015,
    "start_time": "2024-09-12T06:07:13.242Z"
   },
   {
    "duration": 1079,
    "start_time": "2024-09-12T06:08:03.391Z"
   },
   {
    "duration": 1102,
    "start_time": "2024-09-12T06:09:10.172Z"
   },
   {
    "duration": 1003,
    "start_time": "2024-09-12T06:09:25.228Z"
   },
   {
    "duration": 1101,
    "start_time": "2024-09-12T06:09:36.974Z"
   },
   {
    "duration": 1096,
    "start_time": "2024-09-12T06:09:45.957Z"
   },
   {
    "duration": 33,
    "start_time": "2024-09-12T06:13:11.184Z"
   },
   {
    "duration": 1354,
    "start_time": "2024-09-12T06:13:11.218Z"
   },
   {
    "duration": 62,
    "start_time": "2024-09-12T06:13:12.573Z"
   },
   {
    "duration": 8,
    "start_time": "2024-09-12T06:13:12.637Z"
   },
   {
    "duration": 28,
    "start_time": "2024-09-12T06:13:12.647Z"
   },
   {
    "duration": 580,
    "start_time": "2024-09-12T06:13:12.677Z"
   },
   {
    "duration": 379,
    "start_time": "2024-09-12T06:13:13.259Z"
   },
   {
    "duration": 1043,
    "start_time": "2024-09-12T06:13:13.640Z"
   },
   {
    "duration": 8,
    "start_time": "2024-09-12T06:13:14.685Z"
   },
   {
    "duration": 39,
    "start_time": "2024-09-12T06:13:14.694Z"
   },
   {
    "duration": 86,
    "start_time": "2024-09-12T06:13:14.735Z"
   },
   {
    "duration": 25492,
    "start_time": "2024-09-12T06:13:14.823Z"
   },
   {
    "duration": 4,
    "start_time": "2024-09-12T06:13:40.316Z"
   },
   {
    "duration": 1830,
    "start_time": "2024-09-12T06:13:40.323Z"
   },
   {
    "duration": 5,
    "start_time": "2024-09-12T06:13:42.154Z"
   },
   {
    "duration": 41,
    "start_time": "2024-09-12T06:17:27.725Z"
   },
   {
    "duration": 1397,
    "start_time": "2024-09-12T06:17:27.767Z"
   },
   {
    "duration": 60,
    "start_time": "2024-09-12T06:17:29.166Z"
   },
   {
    "duration": 7,
    "start_time": "2024-09-12T06:17:29.228Z"
   },
   {
    "duration": 5,
    "start_time": "2024-09-12T06:17:29.236Z"
   },
   {
    "duration": 569,
    "start_time": "2024-09-12T06:17:29.243Z"
   },
   {
    "duration": 372,
    "start_time": "2024-09-12T06:17:29.814Z"
   },
   {
    "duration": 1048,
    "start_time": "2024-09-12T06:17:30.190Z"
   },
   {
    "duration": 4,
    "start_time": "2024-09-12T06:17:31.239Z"
   },
   {
    "duration": 26,
    "start_time": "2024-09-12T06:17:31.245Z"
   },
   {
    "duration": 104,
    "start_time": "2024-09-12T06:17:31.272Z"
   },
   {
    "duration": 23918,
    "start_time": "2024-09-12T06:17:31.378Z"
   },
   {
    "duration": 4,
    "start_time": "2024-09-12T06:17:55.298Z"
   },
   {
    "duration": 1961,
    "start_time": "2024-09-12T06:17:55.304Z"
   },
   {
    "duration": 5,
    "start_time": "2024-09-12T06:17:57.266Z"
   },
   {
    "duration": 35,
    "start_time": "2024-09-12T06:20:02.214Z"
   },
   {
    "duration": 1300,
    "start_time": "2024-09-12T06:20:02.251Z"
   },
   {
    "duration": 62,
    "start_time": "2024-09-12T06:20:03.553Z"
   },
   {
    "duration": 7,
    "start_time": "2024-09-12T06:20:03.617Z"
   },
   {
    "duration": 5,
    "start_time": "2024-09-12T06:20:03.626Z"
   },
   {
    "duration": 583,
    "start_time": "2024-09-12T06:20:03.633Z"
   },
   {
    "duration": 376,
    "start_time": "2024-09-12T06:20:04.217Z"
   },
   {
    "duration": 1033,
    "start_time": "2024-09-12T06:20:04.594Z"
   },
   {
    "duration": 4,
    "start_time": "2024-09-12T06:20:05.629Z"
   },
   {
    "duration": 42,
    "start_time": "2024-09-12T06:20:05.635Z"
   },
   {
    "duration": 92,
    "start_time": "2024-09-12T06:20:05.678Z"
   },
   {
    "duration": 25201,
    "start_time": "2024-09-12T06:20:05.771Z"
   },
   {
    "duration": 3,
    "start_time": "2024-09-12T06:20:30.973Z"
   },
   {
    "duration": 1905,
    "start_time": "2024-09-12T06:20:30.977Z"
   },
   {
    "duration": 4,
    "start_time": "2024-09-12T06:20:32.884Z"
   },
   {
    "duration": 36,
    "start_time": "2024-09-12T06:21:10.166Z"
   },
   {
    "duration": 1347,
    "start_time": "2024-09-12T06:21:10.205Z"
   },
   {
    "duration": 64,
    "start_time": "2024-09-12T06:21:11.554Z"
   },
   {
    "duration": 9,
    "start_time": "2024-09-12T06:21:11.620Z"
   },
   {
    "duration": 3,
    "start_time": "2024-09-12T06:21:11.631Z"
   },
   {
    "duration": 589,
    "start_time": "2024-09-12T06:21:11.635Z"
   },
   {
    "duration": 371,
    "start_time": "2024-09-12T06:21:12.225Z"
   },
   {
    "duration": 1044,
    "start_time": "2024-09-12T06:21:12.598Z"
   },
   {
    "duration": 4,
    "start_time": "2024-09-12T06:21:13.644Z"
   },
   {
    "duration": 43,
    "start_time": "2024-09-12T06:21:13.649Z"
   },
   {
    "duration": 99,
    "start_time": "2024-09-12T06:21:13.694Z"
   },
   {
    "duration": 25548,
    "start_time": "2024-09-12T06:21:13.795Z"
   },
   {
    "duration": 4,
    "start_time": "2024-09-12T06:21:39.344Z"
   },
   {
    "duration": 1911,
    "start_time": "2024-09-12T06:21:39.350Z"
   },
   {
    "duration": 5,
    "start_time": "2024-09-12T06:21:41.263Z"
   },
   {
    "duration": 41,
    "start_time": "2024-09-12T06:22:18.184Z"
   },
   {
    "duration": 1335,
    "start_time": "2024-09-12T06:22:18.227Z"
   },
   {
    "duration": 62,
    "start_time": "2024-09-12T06:22:19.563Z"
   },
   {
    "duration": 8,
    "start_time": "2024-09-12T06:22:19.627Z"
   },
   {
    "duration": 6,
    "start_time": "2024-09-12T06:22:19.637Z"
   },
   {
    "duration": 603,
    "start_time": "2024-09-12T06:22:19.645Z"
   },
   {
    "duration": 371,
    "start_time": "2024-09-12T06:22:20.250Z"
   },
   {
    "duration": 996,
    "start_time": "2024-09-12T06:22:20.622Z"
   },
   {
    "duration": 4,
    "start_time": "2024-09-12T06:22:21.619Z"
   },
   {
    "duration": 41,
    "start_time": "2024-09-12T06:22:21.625Z"
   },
   {
    "duration": 88,
    "start_time": "2024-09-12T06:22:21.667Z"
   },
   {
    "duration": 23841,
    "start_time": "2024-09-12T06:22:21.757Z"
   },
   {
    "duration": 3,
    "start_time": "2024-09-12T06:22:45.600Z"
   },
   {
    "duration": 1755,
    "start_time": "2024-09-12T06:22:45.605Z"
   },
   {
    "duration": 5,
    "start_time": "2024-09-12T06:22:47.362Z"
   },
   {
    "duration": 40,
    "start_time": "2024-09-12T06:23:20.009Z"
   },
   {
    "duration": 1349,
    "start_time": "2024-09-12T06:23:20.050Z"
   },
   {
    "duration": 60,
    "start_time": "2024-09-12T06:23:21.400Z"
   },
   {
    "duration": 7,
    "start_time": "2024-09-12T06:23:21.462Z"
   },
   {
    "duration": 12,
    "start_time": "2024-09-12T06:23:21.471Z"
   },
   {
    "duration": 594,
    "start_time": "2024-09-12T06:23:21.485Z"
   },
   {
    "duration": 378,
    "start_time": "2024-09-12T06:23:22.081Z"
   },
   {
    "duration": 1023,
    "start_time": "2024-09-12T06:23:22.461Z"
   },
   {
    "duration": 4,
    "start_time": "2024-09-12T06:23:23.489Z"
   },
   {
    "duration": 31,
    "start_time": "2024-09-12T06:23:23.495Z"
   },
   {
    "duration": 91,
    "start_time": "2024-09-12T06:23:23.528Z"
   },
   {
    "duration": 23394,
    "start_time": "2024-09-12T06:23:23.621Z"
   },
   {
    "duration": 3,
    "start_time": "2024-09-12T06:23:47.016Z"
   },
   {
    "duration": 1785,
    "start_time": "2024-09-12T06:23:47.020Z"
   },
   {
    "duration": 4,
    "start_time": "2024-09-12T06:23:48.807Z"
   },
   {
    "duration": 44,
    "start_time": "2024-09-12T06:24:51.851Z"
   },
   {
    "duration": 1406,
    "start_time": "2024-09-12T06:24:51.896Z"
   },
   {
    "duration": 62,
    "start_time": "2024-09-12T06:24:53.303Z"
   },
   {
    "duration": 7,
    "start_time": "2024-09-12T06:24:53.366Z"
   },
   {
    "duration": 3,
    "start_time": "2024-09-12T06:24:53.375Z"
   },
   {
    "duration": 548,
    "start_time": "2024-09-12T06:24:53.380Z"
   },
   {
    "duration": 374,
    "start_time": "2024-09-12T06:24:53.929Z"
   },
   {
    "duration": 1017,
    "start_time": "2024-09-12T06:24:54.304Z"
   },
   {
    "duration": 4,
    "start_time": "2024-09-12T06:24:55.322Z"
   },
   {
    "duration": 30,
    "start_time": "2024-09-12T06:24:55.328Z"
   },
   {
    "duration": 94,
    "start_time": "2024-09-12T06:24:55.359Z"
   },
   {
    "duration": 25581,
    "start_time": "2024-09-12T06:24:55.455Z"
   },
   {
    "duration": 3,
    "start_time": "2024-09-12T06:25:21.038Z"
   },
   {
    "duration": 1871,
    "start_time": "2024-09-12T06:25:21.043Z"
   },
   {
    "duration": 6,
    "start_time": "2024-09-12T06:25:22.915Z"
   },
   {
    "duration": 36,
    "start_time": "2024-09-12T06:34:59.207Z"
   },
   {
    "duration": 1358,
    "start_time": "2024-09-12T06:34:59.245Z"
   },
   {
    "duration": 65,
    "start_time": "2024-09-12T06:35:00.604Z"
   },
   {
    "duration": 9,
    "start_time": "2024-09-12T06:35:00.671Z"
   },
   {
    "duration": 18,
    "start_time": "2024-09-12T06:35:00.681Z"
   },
   {
    "duration": 563,
    "start_time": "2024-09-12T06:35:00.700Z"
   },
   {
    "duration": 361,
    "start_time": "2024-09-12T06:35:01.265Z"
   },
   {
    "duration": 1046,
    "start_time": "2024-09-12T06:35:01.627Z"
   },
   {
    "duration": 4,
    "start_time": "2024-09-12T06:35:02.674Z"
   },
   {
    "duration": 58,
    "start_time": "2024-09-12T06:35:02.680Z"
   },
   {
    "duration": 91,
    "start_time": "2024-09-12T06:35:02.739Z"
   },
   {
    "duration": 54629,
    "start_time": "2024-09-12T06:35:02.831Z"
   },
   {
    "duration": 3,
    "start_time": "2024-09-12T06:35:57.462Z"
   },
   {
    "duration": 3276,
    "start_time": "2024-09-12T06:35:57.466Z"
   },
   {
    "duration": 6,
    "start_time": "2024-09-12T06:36:00.743Z"
   },
   {
    "duration": 33,
    "start_time": "2024-09-12T06:37:03.426Z"
   },
   {
    "duration": 1387,
    "start_time": "2024-09-12T06:37:03.461Z"
   },
   {
    "duration": 62,
    "start_time": "2024-09-12T06:37:04.849Z"
   },
   {
    "duration": 8,
    "start_time": "2024-09-12T06:37:04.912Z"
   },
   {
    "duration": 4,
    "start_time": "2024-09-12T06:37:04.922Z"
   },
   {
    "duration": 563,
    "start_time": "2024-09-12T06:37:04.927Z"
   },
   {
    "duration": 373,
    "start_time": "2024-09-12T06:37:05.491Z"
   },
   {
    "duration": 999,
    "start_time": "2024-09-12T06:37:05.865Z"
   },
   {
    "duration": 4,
    "start_time": "2024-09-12T06:37:06.865Z"
   },
   {
    "duration": 74,
    "start_time": "2024-09-12T06:37:06.871Z"
   },
   {
    "duration": 91,
    "start_time": "2024-09-12T06:37:06.947Z"
   },
   {
    "duration": 52682,
    "start_time": "2024-09-12T06:37:07.040Z"
   },
   {
    "duration": 3,
    "start_time": "2024-09-12T06:37:59.723Z"
   },
   {
    "duration": 3181,
    "start_time": "2024-09-12T06:37:59.728Z"
   },
   {
    "duration": 7,
    "start_time": "2024-09-12T06:38:02.911Z"
   },
   {
    "duration": 35,
    "start_time": "2024-09-12T06:39:24.186Z"
   },
   {
    "duration": 1316,
    "start_time": "2024-09-12T06:39:24.223Z"
   },
   {
    "duration": 61,
    "start_time": "2024-09-12T06:39:25.541Z"
   },
   {
    "duration": 10,
    "start_time": "2024-09-12T06:39:25.604Z"
   },
   {
    "duration": 11,
    "start_time": "2024-09-12T06:39:25.615Z"
   },
   {
    "duration": 569,
    "start_time": "2024-09-12T06:39:25.627Z"
   },
   {
    "duration": 365,
    "start_time": "2024-09-12T06:39:26.197Z"
   },
   {
    "duration": 1022,
    "start_time": "2024-09-12T06:39:26.564Z"
   },
   {
    "duration": 3,
    "start_time": "2024-09-12T06:39:27.590Z"
   },
   {
    "duration": 221,
    "start_time": "2024-09-12T06:39:27.594Z"
   },
   {
    "duration": 12,
    "start_time": "2024-09-12T06:39:27.817Z"
   },
   {
    "duration": 277122,
    "start_time": "2024-09-12T06:39:27.830Z"
   },
   {
    "duration": 4,
    "start_time": "2024-09-12T06:44:04.953Z"
   },
   {
    "duration": 14100,
    "start_time": "2024-09-12T06:44:04.960Z"
   },
   {
    "duration": 11,
    "start_time": "2024-09-12T06:44:19.061Z"
   },
   {
    "duration": 12,
    "start_time": "2024-09-12T06:54:31.473Z"
   },
   {
    "duration": 34,
    "start_time": "2024-09-12T07:28:59.610Z"
   },
   {
    "duration": 1337,
    "start_time": "2024-09-12T07:28:59.646Z"
   },
   {
    "duration": 63,
    "start_time": "2024-09-12T07:29:00.985Z"
   },
   {
    "duration": 7,
    "start_time": "2024-09-12T07:29:01.049Z"
   },
   {
    "duration": 3,
    "start_time": "2024-09-12T07:29:01.058Z"
   },
   {
    "duration": 548,
    "start_time": "2024-09-12T07:29:01.062Z"
   },
   {
    "duration": 373,
    "start_time": "2024-09-12T07:29:01.611Z"
   },
   {
    "duration": 1029,
    "start_time": "2024-09-12T07:29:01.989Z"
   },
   {
    "duration": 4,
    "start_time": "2024-09-12T07:29:03.020Z"
   },
   {
    "duration": 228,
    "start_time": "2024-09-12T07:29:03.025Z"
   },
   {
    "duration": 11,
    "start_time": "2024-09-12T07:29:03.255Z"
   },
   {
    "duration": 589053,
    "start_time": "2024-09-12T07:29:03.268Z"
   },
   {
    "duration": 0,
    "start_time": "2024-09-12T07:38:52.323Z"
   },
   {
    "duration": 0,
    "start_time": "2024-09-12T07:38:52.323Z"
   },
   {
    "duration": 0,
    "start_time": "2024-09-12T07:38:52.325Z"
   },
   {
    "duration": 52,
    "start_time": "2024-09-12T07:39:00.971Z"
   },
   {
    "duration": 1338,
    "start_time": "2024-09-12T07:39:01.025Z"
   },
   {
    "duration": 61,
    "start_time": "2024-09-12T07:39:02.364Z"
   },
   {
    "duration": 8,
    "start_time": "2024-09-12T07:39:02.426Z"
   },
   {
    "duration": 27,
    "start_time": "2024-09-12T07:39:02.435Z"
   },
   {
    "duration": 573,
    "start_time": "2024-09-12T07:39:02.463Z"
   },
   {
    "duration": 391,
    "start_time": "2024-09-12T07:39:03.038Z"
   },
   {
    "duration": 1028,
    "start_time": "2024-09-12T07:39:03.431Z"
   },
   {
    "duration": 4,
    "start_time": "2024-09-12T07:39:04.461Z"
   },
   {
    "duration": 228,
    "start_time": "2024-09-12T07:39:04.466Z"
   },
   {
    "duration": 13,
    "start_time": "2024-09-12T07:39:04.696Z"
   },
   {
    "duration": 387946,
    "start_time": "2024-09-12T07:39:04.711Z"
   },
   {
    "duration": 0,
    "start_time": "2024-09-12T07:45:32.659Z"
   },
   {
    "duration": 0,
    "start_time": "2024-09-12T07:45:32.660Z"
   },
   {
    "duration": 0,
    "start_time": "2024-09-12T07:45:32.661Z"
   },
   {
    "duration": 33,
    "start_time": "2024-09-12T07:45:57.179Z"
   },
   {
    "duration": 1356,
    "start_time": "2024-09-12T07:45:57.213Z"
   },
   {
    "duration": 61,
    "start_time": "2024-09-12T07:45:58.570Z"
   },
   {
    "duration": 8,
    "start_time": "2024-09-12T07:45:58.632Z"
   },
   {
    "duration": 12,
    "start_time": "2024-09-12T07:45:58.642Z"
   },
   {
    "duration": 568,
    "start_time": "2024-09-12T07:45:58.655Z"
   },
   {
    "duration": 379,
    "start_time": "2024-09-12T07:45:59.224Z"
   },
   {
    "duration": 1051,
    "start_time": "2024-09-12T07:45:59.605Z"
   },
   {
    "duration": 4,
    "start_time": "2024-09-12T07:46:00.657Z"
   },
   {
    "duration": 235,
    "start_time": "2024-09-12T07:46:00.663Z"
   },
   {
    "duration": 12,
    "start_time": "2024-09-12T07:46:00.900Z"
   },
   {
    "duration": 328387,
    "start_time": "2024-09-12T07:46:00.913Z"
   },
   {
    "duration": 0,
    "start_time": "2024-09-12T07:51:29.302Z"
   },
   {
    "duration": 0,
    "start_time": "2024-09-12T07:51:29.302Z"
   },
   {
    "duration": 0,
    "start_time": "2024-09-12T07:51:29.303Z"
   },
   {
    "duration": 37,
    "start_time": "2024-09-12T07:51:39.722Z"
   },
   {
    "duration": 1405,
    "start_time": "2024-09-12T07:51:39.761Z"
   },
   {
    "duration": 61,
    "start_time": "2024-09-12T07:51:41.168Z"
   },
   {
    "duration": 8,
    "start_time": "2024-09-12T07:51:41.231Z"
   },
   {
    "duration": 17,
    "start_time": "2024-09-12T07:51:41.240Z"
   },
   {
    "duration": 617,
    "start_time": "2024-09-12T07:51:41.259Z"
   },
   {
    "duration": 368,
    "start_time": "2024-09-12T07:51:41.877Z"
   },
   {
    "duration": 1034,
    "start_time": "2024-09-12T07:51:42.246Z"
   },
   {
    "duration": 9,
    "start_time": "2024-09-12T07:51:43.281Z"
   },
   {
    "duration": 31,
    "start_time": "2024-09-12T07:51:43.292Z"
   },
   {
    "duration": 91,
    "start_time": "2024-09-12T07:51:43.324Z"
   },
   {
    "duration": 11486,
    "start_time": "2024-09-12T07:51:43.416Z"
   },
   {
    "duration": 5,
    "start_time": "2024-09-12T07:51:54.904Z"
   },
   {
    "duration": 50,
    "start_time": "2024-09-12T07:51:54.911Z"
   },
   {
    "duration": 16,
    "start_time": "2024-09-12T07:51:54.962Z"
   },
   {
    "duration": 36,
    "start_time": "2024-09-12T07:52:42.441Z"
   },
   {
    "duration": 1381,
    "start_time": "2024-09-12T07:52:42.479Z"
   },
   {
    "duration": 63,
    "start_time": "2024-09-12T07:52:43.861Z"
   },
   {
    "duration": 8,
    "start_time": "2024-09-12T07:52:43.925Z"
   },
   {
    "duration": 16,
    "start_time": "2024-09-12T07:52:43.935Z"
   },
   {
    "duration": 576,
    "start_time": "2024-09-12T07:52:43.953Z"
   },
   {
    "duration": 368,
    "start_time": "2024-09-12T07:52:44.531Z"
   },
   {
    "duration": 1031,
    "start_time": "2024-09-12T07:52:44.901Z"
   },
   {
    "duration": 5,
    "start_time": "2024-09-12T07:52:45.934Z"
   },
   {
    "duration": 229,
    "start_time": "2024-09-12T07:52:45.940Z"
   },
   {
    "duration": 21,
    "start_time": "2024-09-12T07:52:46.170Z"
   },
   {
    "duration": 341662,
    "start_time": "2024-09-12T07:52:46.192Z"
   },
   {
    "duration": 6,
    "start_time": "2024-09-12T07:58:27.855Z"
   },
   {
    "duration": 79,
    "start_time": "2024-09-12T07:58:27.863Z"
   },
   {
    "duration": 19,
    "start_time": "2024-09-12T07:58:27.943Z"
   },
   {
    "duration": 32,
    "start_time": "2024-09-12T07:59:16.215Z"
   },
   {
    "duration": 1326,
    "start_time": "2024-09-12T07:59:16.249Z"
   },
   {
    "duration": 60,
    "start_time": "2024-09-12T07:59:17.577Z"
   },
   {
    "duration": 8,
    "start_time": "2024-09-12T07:59:17.639Z"
   },
   {
    "duration": 12,
    "start_time": "2024-09-12T07:59:17.649Z"
   },
   {
    "duration": 591,
    "start_time": "2024-09-12T07:59:17.663Z"
   },
   {
    "duration": 374,
    "start_time": "2024-09-12T07:59:18.256Z"
   },
   {
    "duration": 1028,
    "start_time": "2024-09-12T07:59:18.632Z"
   },
   {
    "duration": 5,
    "start_time": "2024-09-12T07:59:19.662Z"
   },
   {
    "duration": 229,
    "start_time": "2024-09-12T07:59:19.668Z"
   },
   {
    "duration": 12,
    "start_time": "2024-09-12T07:59:19.899Z"
   },
   {
    "duration": 652815,
    "start_time": "2024-09-12T07:59:19.912Z"
   },
   {
    "duration": 0,
    "start_time": "2024-09-12T08:10:12.729Z"
   },
   {
    "duration": 0,
    "start_time": "2024-09-12T08:10:12.730Z"
   },
   {
    "duration": 0,
    "start_time": "2024-09-12T08:10:12.731Z"
   },
   {
    "duration": 35,
    "start_time": "2024-09-12T08:10:18.436Z"
   },
   {
    "duration": 1390,
    "start_time": "2024-09-12T08:10:18.473Z"
   },
   {
    "duration": 62,
    "start_time": "2024-09-12T08:10:19.864Z"
   },
   {
    "duration": 7,
    "start_time": "2024-09-12T08:10:19.928Z"
   },
   {
    "duration": 2,
    "start_time": "2024-09-12T08:10:19.938Z"
   },
   {
    "duration": 609,
    "start_time": "2024-09-12T08:10:19.942Z"
   },
   {
    "duration": 384,
    "start_time": "2024-09-12T08:10:20.553Z"
   },
   {
    "duration": 1044,
    "start_time": "2024-09-12T08:10:20.939Z"
   },
   {
    "duration": 5,
    "start_time": "2024-09-12T08:10:21.985Z"
   },
   {
    "duration": 223,
    "start_time": "2024-09-12T08:10:21.992Z"
   },
   {
    "duration": 14,
    "start_time": "2024-09-12T08:10:22.217Z"
   },
   {
    "duration": 35,
    "start_time": "2024-09-12T08:15:51.978Z"
   },
   {
    "duration": 1358,
    "start_time": "2024-09-12T08:15:52.014Z"
   },
   {
    "duration": 71,
    "start_time": "2024-09-12T08:15:53.374Z"
   },
   {
    "duration": 8,
    "start_time": "2024-09-12T08:15:53.447Z"
   },
   {
    "duration": 2,
    "start_time": "2024-09-12T08:15:53.457Z"
   },
   {
    "duration": 562,
    "start_time": "2024-09-12T08:15:53.460Z"
   },
   {
    "duration": 372,
    "start_time": "2024-09-12T08:15:54.024Z"
   },
   {
    "duration": 1014,
    "start_time": "2024-09-12T08:15:54.398Z"
   },
   {
    "duration": 3,
    "start_time": "2024-09-12T08:15:55.414Z"
   },
   {
    "duration": 153,
    "start_time": "2024-09-12T08:15:55.419Z"
   },
   {
    "duration": 104,
    "start_time": "2024-09-12T08:15:55.573Z"
   },
   {
    "duration": 346594,
    "start_time": "2024-09-12T08:15:55.679Z"
   },
   {
    "duration": 5,
    "start_time": "2024-09-12T08:21:42.274Z"
   },
   {
    "duration": 82,
    "start_time": "2024-09-12T08:21:42.281Z"
   },
   {
    "duration": 18,
    "start_time": "2024-09-12T08:21:42.364Z"
   }
  ],
  "kernelspec": {
   "display_name": "Python 3 (ipykernel)",
   "language": "python",
   "name": "python3"
  },
  "language_info": {
   "codemirror_mode": {
    "name": "ipython",
    "version": 3
   },
   "file_extension": ".py",
   "mimetype": "text/x-python",
   "name": "python",
   "nbconvert_exporter": "python",
   "pygments_lexer": "ipython3",
   "version": "3.12.4"
  },
  "toc": {
   "base_numbering": 1,
   "nav_menu": {},
   "number_sections": true,
   "sideBar": true,
   "skip_h1_title": true,
   "title_cell": "Содержание",
   "title_sidebar": "Contents",
   "toc_cell": true,
   "toc_position": {
    "height": "calc(100% - 180px)",
    "left": "10px",
    "top": "150px",
    "width": "165px"
   },
   "toc_section_display": true,
   "toc_window_display": false
  }
 },
 "nbformat": 4,
 "nbformat_minor": 4
}
