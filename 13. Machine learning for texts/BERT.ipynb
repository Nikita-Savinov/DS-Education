{
 "cells": [
  {
   "cell_type": "code",
   "execution_count": 1,
   "id": "97248e31-3b7d-4d79-ae87-6b38eee93d46",
   "metadata": {},
   "outputs": [],
   "source": [
    "!pip install transformers -q\n",
    "!pip install torch -q"
   ]
  },
  {
   "cell_type": "code",
   "execution_count": 2,
   "id": "7301728d",
   "metadata": {
    "id": "7301728d"
   },
   "outputs": [],
   "source": [
    "import pandas as pd\n",
    "from sklearn.model_selection import train_test_split\n",
    "import transformers\n",
    "import numpy as np\n",
    "import torch\n",
    "from tqdm import notebook\n",
    "\n",
    "import numpy as np\n",
    "import pandas as pd\n",
    "from sklearn.model_selection import train_test_split\n",
    "from sklearn.linear_model import LogisticRegression\n",
    "from sklearn.model_selection import GridSearchCV\n",
    "from sklearn.model_selection import cross_val_score\n",
    "import torch\n",
    "import transformers as ppb\n",
    "import warnings\n",
    "warnings.filterwarnings('ignore')\n",
    "import re\n",
    "from tqdm import notebook\n",
    "import tqdm"
   ]
  },
  {
   "cell_type": "code",
   "execution_count": 13,
   "id": "c256eebe",
   "metadata": {
    "id": "c256eebe"
   },
   "outputs": [],
   "source": [
    "data = pd.read_csv(r\"C:\\Users\\nssavinov\\Desktop\\Пректы практикум\\12. Машинное обучение для текстов\\toxic_comments.csv\")"
   ]
  },
  {
   "cell_type": "code",
   "execution_count": 15,
   "id": "1d10d8c5",
   "metadata": {
    "id": "1d10d8c5"
   },
   "outputs": [],
   "source": [
    "batch_1 = data.sample(100)"
   ]
  },
  {
   "cell_type": "code",
   "execution_count": 17,
   "id": "89b363c8",
   "metadata": {
    "id": "89b363c8"
   },
   "outputs": [],
   "source": [
    "X = batch_1['text']\n",
    "y = batch_1['toxic']"
   ]
  },
  {
   "cell_type": "code",
   "execution_count": 19,
   "id": "1d50f746",
   "metadata": {
    "id": "1d50f746"
   },
   "outputs": [],
   "source": [
    "X_clear = []\n",
    "\n",
    "for i in X:\n",
    "    lower_one = i.lower()\n",
    "    clear_one = re.sub(r'^a-z', ' ', lower_one)\n",
    "    clear_one = ' '.join(clear_one.split())\n",
    "\n",
    "    X_clear.append(clear_one)"
   ]
  },
  {
   "cell_type": "code",
   "execution_count": 21,
   "id": "f2b655a1",
   "metadata": {
    "id": "f2b655a1"
   },
   "outputs": [],
   "source": [
    "X = pd.Series(X_clear)"
   ]
  },
  {
   "cell_type": "code",
   "execution_count": 23,
   "id": "09d2c028",
   "metadata": {
    "id": "09d2c028"
   },
   "outputs": [],
   "source": [
    "from transformers import BertTokenizer, BertForSequenceClassification\n",
    "\n",
    "model_class, tokenizer_class, pretrained_weights = (ppb.DistilBertModel, ppb.DistilBertTokenizer, 'distilbert-base-uncased')\n",
    "\n",
    "## Want BERT instead of distilBERT? Uncomment the following line:\n",
    "#model_class, tokenizer_class, pretrained_weights = (ppb.BertModel, ppb.BertTokenizer, 'bert-base-uncased')\n",
    "\n",
    "# Load pretrained model/tokenizer\n",
    "tokenizer = tokenizer_class.from_pretrained(pretrained_weights)\n",
    "model = model_class.from_pretrained(pretrained_weights)"
   ]
  },
  {
   "cell_type": "code",
   "execution_count": 24,
   "id": "8aa0306e",
   "metadata": {
    "id": "8aa0306e",
    "scrolled": true
   },
   "outputs": [],
   "source": [
    "tokenized = X.apply((lambda x: tokenizer.encode(x, add_special_tokens=True, max_length = 512, truncation=True)))"
   ]
  },
  {
   "cell_type": "code",
   "execution_count": 25,
   "id": "SnU9CWs2SPwj",
   "metadata": {
    "id": "SnU9CWs2SPwj"
   },
   "outputs": [],
   "source": [
    "max_len = 0\n",
    "for i in tokenized.values:\n",
    "    if len(i) > max_len:\n",
    "        max_len = len(i)\n",
    "\n",
    "padded = np.array([i + [0]*(max_len - len(i)) for i in tokenized.values])"
   ]
  },
  {
   "cell_type": "code",
   "execution_count": 26,
   "id": "f4d84dd2",
   "metadata": {
    "colab": {
     "base_uri": "https://localhost:8080/"
    },
    "id": "f4d84dd2",
    "outputId": "fcaf970e-c5ed-4828-a3a8-a913dca7e354"
   },
   "outputs": [
    {
     "data": {
      "text/plain": [
       "(100, 512)"
      ]
     },
     "execution_count": 26,
     "metadata": {},
     "output_type": "execute_result"
    }
   ],
   "source": [
    "np.array(padded).shape"
   ]
  },
  {
   "cell_type": "code",
   "execution_count": 27,
   "id": "cd6d07b1",
   "metadata": {
    "colab": {
     "base_uri": "https://localhost:8080/"
    },
    "id": "cd6d07b1",
    "outputId": "26332033-c1ee-4224-8780-be87ebd674cf",
    "scrolled": true
   },
   "outputs": [
    {
     "data": {
      "text/plain": [
       "(100, 512)"
      ]
     },
     "execution_count": 27,
     "metadata": {},
     "output_type": "execute_result"
    }
   ],
   "source": [
    "attention_mask = np.where(padded != 0, 1, 0)\n",
    "attention_mask.shape"
   ]
  },
  {
   "cell_type": "code",
   "execution_count": 28,
   "id": "12a0a37f",
   "metadata": {
    "colab": {
     "base_uri": "https://localhost:8080/",
     "height": 49,
     "referenced_widgets": [
      "62b5076e834246a3b62ccafc84b71c56",
      "be59e15abf74400ca56831cf6cc73624",
      "312042a1ba5b4345a1497ed7eec9982e",
      "fabc1a4bbd8e4e3f9d911c6640be2499",
      "42b3d416206a44e387d5df5ca5f3e3ec",
      "8905b344911d48409aee3504525c02f7",
      "b869d070fbb54e439d0c6413de423d2f",
      "7fd676bd444c4d11b2c89ce10103c340",
      "8360632be2654b63accac1243af3e4bb",
      "a1cd3f341a6e44a293764bd9aaf5d943",
      "65f042ffdff543f088e8f921f9e13f9c"
     ]
    },
    "id": "12a0a37f",
    "outputId": "e41eb99f-5c05-4d32-ab81-0b2832bf3b58"
   },
   "outputs": [
    {
     "data": {
      "application/vnd.jupyter.widget-view+json": {
       "model_id": "d25933dff0484aa6ab6b2541466002c1",
       "version_major": 2,
       "version_minor": 0
      },
      "text/plain": [
       "  0%|          | 0/1 [00:00<?, ?it/s]"
      ]
     },
     "metadata": {},
     "output_type": "display_data"
    }
   ],
   "source": [
    "#input_ids = torch.tensor(padded)\n",
    "#attention_mask = torch.tensor(attention_mask)\n",
    "\n",
    "batch_size = 100\n",
    "embendings = []\n",
    "\n",
    "for i in notebook.tqdm(range(padded.shape[0] // batch_size)):\n",
    "\n",
    "    batch = torch.tensor(padded[batch_size*i:batch_size*(i+1)])\n",
    "\n",
    "    attention_mask_batch = torch.tensor(attention_mask[batch_size*i:batch_size*(i+1)])\n",
    "\n",
    "    with torch.no_grad():\n",
    "        last_hidden_states = model(batch, attention_mask=attention_mask_batch)\n",
    "\n",
    "    embendings.append(last_hidden_states[0][:,0,:].numpy())"
   ]
  },
  {
   "cell_type": "code",
   "execution_count": 29,
   "id": "392ea2f7",
   "metadata": {
    "id": "392ea2f7"
   },
   "outputs": [],
   "source": [
    "features = np.concatenate(embendings)"
   ]
  },
  {
   "cell_type": "code",
   "execution_count": 30,
   "id": "c628cff8",
   "metadata": {
    "id": "c628cff8"
   },
   "outputs": [],
   "source": [
    "labels = batch_1['toxic']"
   ]
  },
  {
   "cell_type": "code",
   "execution_count": 31,
   "id": "e99c19b1",
   "metadata": {
    "id": "e99c19b1"
   },
   "outputs": [],
   "source": [
    "train_features, test_features, train_labels, test_labels = train_test_split(features, labels)"
   ]
  },
  {
   "cell_type": "code",
   "execution_count": 32,
   "id": "2da05587",
   "metadata": {
    "colab": {
     "base_uri": "https://localhost:8080/",
     "height": 80
    },
    "id": "2da05587",
    "outputId": "c44cd51f-ac12-4c99-f74f-7bca04c9f8ba"
   },
   "outputs": [
    {
     "data": {
      "text/html": [
       "<style>#sk-container-id-1 {\n",
       "  /* Definition of color scheme common for light and dark mode */\n",
       "  --sklearn-color-text: black;\n",
       "  --sklearn-color-line: gray;\n",
       "  /* Definition of color scheme for unfitted estimators */\n",
       "  --sklearn-color-unfitted-level-0: #fff5e6;\n",
       "  --sklearn-color-unfitted-level-1: #f6e4d2;\n",
       "  --sklearn-color-unfitted-level-2: #ffe0b3;\n",
       "  --sklearn-color-unfitted-level-3: chocolate;\n",
       "  /* Definition of color scheme for fitted estimators */\n",
       "  --sklearn-color-fitted-level-0: #f0f8ff;\n",
       "  --sklearn-color-fitted-level-1: #d4ebff;\n",
       "  --sklearn-color-fitted-level-2: #b3dbfd;\n",
       "  --sklearn-color-fitted-level-3: cornflowerblue;\n",
       "\n",
       "  /* Specific color for light theme */\n",
       "  --sklearn-color-text-on-default-background: var(--sg-text-color, var(--theme-code-foreground, var(--jp-content-font-color1, black)));\n",
       "  --sklearn-color-background: var(--sg-background-color, var(--theme-background, var(--jp-layout-color0, white)));\n",
       "  --sklearn-color-border-box: var(--sg-text-color, var(--theme-code-foreground, var(--jp-content-font-color1, black)));\n",
       "  --sklearn-color-icon: #696969;\n",
       "\n",
       "  @media (prefers-color-scheme: dark) {\n",
       "    /* Redefinition of color scheme for dark theme */\n",
       "    --sklearn-color-text-on-default-background: var(--sg-text-color, var(--theme-code-foreground, var(--jp-content-font-color1, white)));\n",
       "    --sklearn-color-background: var(--sg-background-color, var(--theme-background, var(--jp-layout-color0, #111)));\n",
       "    --sklearn-color-border-box: var(--sg-text-color, var(--theme-code-foreground, var(--jp-content-font-color1, white)));\n",
       "    --sklearn-color-icon: #878787;\n",
       "  }\n",
       "}\n",
       "\n",
       "#sk-container-id-1 {\n",
       "  color: var(--sklearn-color-text);\n",
       "}\n",
       "\n",
       "#sk-container-id-1 pre {\n",
       "  padding: 0;\n",
       "}\n",
       "\n",
       "#sk-container-id-1 input.sk-hidden--visually {\n",
       "  border: 0;\n",
       "  clip: rect(1px 1px 1px 1px);\n",
       "  clip: rect(1px, 1px, 1px, 1px);\n",
       "  height: 1px;\n",
       "  margin: -1px;\n",
       "  overflow: hidden;\n",
       "  padding: 0;\n",
       "  position: absolute;\n",
       "  width: 1px;\n",
       "}\n",
       "\n",
       "#sk-container-id-1 div.sk-dashed-wrapped {\n",
       "  border: 1px dashed var(--sklearn-color-line);\n",
       "  margin: 0 0.4em 0.5em 0.4em;\n",
       "  box-sizing: border-box;\n",
       "  padding-bottom: 0.4em;\n",
       "  background-color: var(--sklearn-color-background);\n",
       "}\n",
       "\n",
       "#sk-container-id-1 div.sk-container {\n",
       "  /* jupyter's `normalize.less` sets `[hidden] { display: none; }`\n",
       "     but bootstrap.min.css set `[hidden] { display: none !important; }`\n",
       "     so we also need the `!important` here to be able to override the\n",
       "     default hidden behavior on the sphinx rendered scikit-learn.org.\n",
       "     See: https://github.com/scikit-learn/scikit-learn/issues/21755 */\n",
       "  display: inline-block !important;\n",
       "  position: relative;\n",
       "}\n",
       "\n",
       "#sk-container-id-1 div.sk-text-repr-fallback {\n",
       "  display: none;\n",
       "}\n",
       "\n",
       "div.sk-parallel-item,\n",
       "div.sk-serial,\n",
       "div.sk-item {\n",
       "  /* draw centered vertical line to link estimators */\n",
       "  background-image: linear-gradient(var(--sklearn-color-text-on-default-background), var(--sklearn-color-text-on-default-background));\n",
       "  background-size: 2px 100%;\n",
       "  background-repeat: no-repeat;\n",
       "  background-position: center center;\n",
       "}\n",
       "\n",
       "/* Parallel-specific style estimator block */\n",
       "\n",
       "#sk-container-id-1 div.sk-parallel-item::after {\n",
       "  content: \"\";\n",
       "  width: 100%;\n",
       "  border-bottom: 2px solid var(--sklearn-color-text-on-default-background);\n",
       "  flex-grow: 1;\n",
       "}\n",
       "\n",
       "#sk-container-id-1 div.sk-parallel {\n",
       "  display: flex;\n",
       "  align-items: stretch;\n",
       "  justify-content: center;\n",
       "  background-color: var(--sklearn-color-background);\n",
       "  position: relative;\n",
       "}\n",
       "\n",
       "#sk-container-id-1 div.sk-parallel-item {\n",
       "  display: flex;\n",
       "  flex-direction: column;\n",
       "}\n",
       "\n",
       "#sk-container-id-1 div.sk-parallel-item:first-child::after {\n",
       "  align-self: flex-end;\n",
       "  width: 50%;\n",
       "}\n",
       "\n",
       "#sk-container-id-1 div.sk-parallel-item:last-child::after {\n",
       "  align-self: flex-start;\n",
       "  width: 50%;\n",
       "}\n",
       "\n",
       "#sk-container-id-1 div.sk-parallel-item:only-child::after {\n",
       "  width: 0;\n",
       "}\n",
       "\n",
       "/* Serial-specific style estimator block */\n",
       "\n",
       "#sk-container-id-1 div.sk-serial {\n",
       "  display: flex;\n",
       "  flex-direction: column;\n",
       "  align-items: center;\n",
       "  background-color: var(--sklearn-color-background);\n",
       "  padding-right: 1em;\n",
       "  padding-left: 1em;\n",
       "}\n",
       "\n",
       "\n",
       "/* Toggleable style: style used for estimator/Pipeline/ColumnTransformer box that is\n",
       "clickable and can be expanded/collapsed.\n",
       "- Pipeline and ColumnTransformer use this feature and define the default style\n",
       "- Estimators will overwrite some part of the style using the `sk-estimator` class\n",
       "*/\n",
       "\n",
       "/* Pipeline and ColumnTransformer style (default) */\n",
       "\n",
       "#sk-container-id-1 div.sk-toggleable {\n",
       "  /* Default theme specific background. It is overwritten whether we have a\n",
       "  specific estimator or a Pipeline/ColumnTransformer */\n",
       "  background-color: var(--sklearn-color-background);\n",
       "}\n",
       "\n",
       "/* Toggleable label */\n",
       "#sk-container-id-1 label.sk-toggleable__label {\n",
       "  cursor: pointer;\n",
       "  display: block;\n",
       "  width: 100%;\n",
       "  margin-bottom: 0;\n",
       "  padding: 0.5em;\n",
       "  box-sizing: border-box;\n",
       "  text-align: center;\n",
       "}\n",
       "\n",
       "#sk-container-id-1 label.sk-toggleable__label-arrow:before {\n",
       "  /* Arrow on the left of the label */\n",
       "  content: \"▸\";\n",
       "  float: left;\n",
       "  margin-right: 0.25em;\n",
       "  color: var(--sklearn-color-icon);\n",
       "}\n",
       "\n",
       "#sk-container-id-1 label.sk-toggleable__label-arrow:hover:before {\n",
       "  color: var(--sklearn-color-text);\n",
       "}\n",
       "\n",
       "/* Toggleable content - dropdown */\n",
       "\n",
       "#sk-container-id-1 div.sk-toggleable__content {\n",
       "  max-height: 0;\n",
       "  max-width: 0;\n",
       "  overflow: hidden;\n",
       "  text-align: left;\n",
       "  /* unfitted */\n",
       "  background-color: var(--sklearn-color-unfitted-level-0);\n",
       "}\n",
       "\n",
       "#sk-container-id-1 div.sk-toggleable__content.fitted {\n",
       "  /* fitted */\n",
       "  background-color: var(--sklearn-color-fitted-level-0);\n",
       "}\n",
       "\n",
       "#sk-container-id-1 div.sk-toggleable__content pre {\n",
       "  margin: 0.2em;\n",
       "  border-radius: 0.25em;\n",
       "  color: var(--sklearn-color-text);\n",
       "  /* unfitted */\n",
       "  background-color: var(--sklearn-color-unfitted-level-0);\n",
       "}\n",
       "\n",
       "#sk-container-id-1 div.sk-toggleable__content.fitted pre {\n",
       "  /* unfitted */\n",
       "  background-color: var(--sklearn-color-fitted-level-0);\n",
       "}\n",
       "\n",
       "#sk-container-id-1 input.sk-toggleable__control:checked~div.sk-toggleable__content {\n",
       "  /* Expand drop-down */\n",
       "  max-height: 200px;\n",
       "  max-width: 100%;\n",
       "  overflow: auto;\n",
       "}\n",
       "\n",
       "#sk-container-id-1 input.sk-toggleable__control:checked~label.sk-toggleable__label-arrow:before {\n",
       "  content: \"▾\";\n",
       "}\n",
       "\n",
       "/* Pipeline/ColumnTransformer-specific style */\n",
       "\n",
       "#sk-container-id-1 div.sk-label input.sk-toggleable__control:checked~label.sk-toggleable__label {\n",
       "  color: var(--sklearn-color-text);\n",
       "  background-color: var(--sklearn-color-unfitted-level-2);\n",
       "}\n",
       "\n",
       "#sk-container-id-1 div.sk-label.fitted input.sk-toggleable__control:checked~label.sk-toggleable__label {\n",
       "  background-color: var(--sklearn-color-fitted-level-2);\n",
       "}\n",
       "\n",
       "/* Estimator-specific style */\n",
       "\n",
       "/* Colorize estimator box */\n",
       "#sk-container-id-1 div.sk-estimator input.sk-toggleable__control:checked~label.sk-toggleable__label {\n",
       "  /* unfitted */\n",
       "  background-color: var(--sklearn-color-unfitted-level-2);\n",
       "}\n",
       "\n",
       "#sk-container-id-1 div.sk-estimator.fitted input.sk-toggleable__control:checked~label.sk-toggleable__label {\n",
       "  /* fitted */\n",
       "  background-color: var(--sklearn-color-fitted-level-2);\n",
       "}\n",
       "\n",
       "#sk-container-id-1 div.sk-label label.sk-toggleable__label,\n",
       "#sk-container-id-1 div.sk-label label {\n",
       "  /* The background is the default theme color */\n",
       "  color: var(--sklearn-color-text-on-default-background);\n",
       "}\n",
       "\n",
       "/* On hover, darken the color of the background */\n",
       "#sk-container-id-1 div.sk-label:hover label.sk-toggleable__label {\n",
       "  color: var(--sklearn-color-text);\n",
       "  background-color: var(--sklearn-color-unfitted-level-2);\n",
       "}\n",
       "\n",
       "/* Label box, darken color on hover, fitted */\n",
       "#sk-container-id-1 div.sk-label.fitted:hover label.sk-toggleable__label.fitted {\n",
       "  color: var(--sklearn-color-text);\n",
       "  background-color: var(--sklearn-color-fitted-level-2);\n",
       "}\n",
       "\n",
       "/* Estimator label */\n",
       "\n",
       "#sk-container-id-1 div.sk-label label {\n",
       "  font-family: monospace;\n",
       "  font-weight: bold;\n",
       "  display: inline-block;\n",
       "  line-height: 1.2em;\n",
       "}\n",
       "\n",
       "#sk-container-id-1 div.sk-label-container {\n",
       "  text-align: center;\n",
       "}\n",
       "\n",
       "/* Estimator-specific */\n",
       "#sk-container-id-1 div.sk-estimator {\n",
       "  font-family: monospace;\n",
       "  border: 1px dotted var(--sklearn-color-border-box);\n",
       "  border-radius: 0.25em;\n",
       "  box-sizing: border-box;\n",
       "  margin-bottom: 0.5em;\n",
       "  /* unfitted */\n",
       "  background-color: var(--sklearn-color-unfitted-level-0);\n",
       "}\n",
       "\n",
       "#sk-container-id-1 div.sk-estimator.fitted {\n",
       "  /* fitted */\n",
       "  background-color: var(--sklearn-color-fitted-level-0);\n",
       "}\n",
       "\n",
       "/* on hover */\n",
       "#sk-container-id-1 div.sk-estimator:hover {\n",
       "  /* unfitted */\n",
       "  background-color: var(--sklearn-color-unfitted-level-2);\n",
       "}\n",
       "\n",
       "#sk-container-id-1 div.sk-estimator.fitted:hover {\n",
       "  /* fitted */\n",
       "  background-color: var(--sklearn-color-fitted-level-2);\n",
       "}\n",
       "\n",
       "/* Specification for estimator info (e.g. \"i\" and \"?\") */\n",
       "\n",
       "/* Common style for \"i\" and \"?\" */\n",
       "\n",
       ".sk-estimator-doc-link,\n",
       "a:link.sk-estimator-doc-link,\n",
       "a:visited.sk-estimator-doc-link {\n",
       "  float: right;\n",
       "  font-size: smaller;\n",
       "  line-height: 1em;\n",
       "  font-family: monospace;\n",
       "  background-color: var(--sklearn-color-background);\n",
       "  border-radius: 1em;\n",
       "  height: 1em;\n",
       "  width: 1em;\n",
       "  text-decoration: none !important;\n",
       "  margin-left: 1ex;\n",
       "  /* unfitted */\n",
       "  border: var(--sklearn-color-unfitted-level-1) 1pt solid;\n",
       "  color: var(--sklearn-color-unfitted-level-1);\n",
       "}\n",
       "\n",
       ".sk-estimator-doc-link.fitted,\n",
       "a:link.sk-estimator-doc-link.fitted,\n",
       "a:visited.sk-estimator-doc-link.fitted {\n",
       "  /* fitted */\n",
       "  border: var(--sklearn-color-fitted-level-1) 1pt solid;\n",
       "  color: var(--sklearn-color-fitted-level-1);\n",
       "}\n",
       "\n",
       "/* On hover */\n",
       "div.sk-estimator:hover .sk-estimator-doc-link:hover,\n",
       ".sk-estimator-doc-link:hover,\n",
       "div.sk-label-container:hover .sk-estimator-doc-link:hover,\n",
       ".sk-estimator-doc-link:hover {\n",
       "  /* unfitted */\n",
       "  background-color: var(--sklearn-color-unfitted-level-3);\n",
       "  color: var(--sklearn-color-background);\n",
       "  text-decoration: none;\n",
       "}\n",
       "\n",
       "div.sk-estimator.fitted:hover .sk-estimator-doc-link.fitted:hover,\n",
       ".sk-estimator-doc-link.fitted:hover,\n",
       "div.sk-label-container:hover .sk-estimator-doc-link.fitted:hover,\n",
       ".sk-estimator-doc-link.fitted:hover {\n",
       "  /* fitted */\n",
       "  background-color: var(--sklearn-color-fitted-level-3);\n",
       "  color: var(--sklearn-color-background);\n",
       "  text-decoration: none;\n",
       "}\n",
       "\n",
       "/* Span, style for the box shown on hovering the info icon */\n",
       ".sk-estimator-doc-link span {\n",
       "  display: none;\n",
       "  z-index: 9999;\n",
       "  position: relative;\n",
       "  font-weight: normal;\n",
       "  right: .2ex;\n",
       "  padding: .5ex;\n",
       "  margin: .5ex;\n",
       "  width: min-content;\n",
       "  min-width: 20ex;\n",
       "  max-width: 50ex;\n",
       "  color: var(--sklearn-color-text);\n",
       "  box-shadow: 2pt 2pt 4pt #999;\n",
       "  /* unfitted */\n",
       "  background: var(--sklearn-color-unfitted-level-0);\n",
       "  border: .5pt solid var(--sklearn-color-unfitted-level-3);\n",
       "}\n",
       "\n",
       ".sk-estimator-doc-link.fitted span {\n",
       "  /* fitted */\n",
       "  background: var(--sklearn-color-fitted-level-0);\n",
       "  border: var(--sklearn-color-fitted-level-3);\n",
       "}\n",
       "\n",
       ".sk-estimator-doc-link:hover span {\n",
       "  display: block;\n",
       "}\n",
       "\n",
       "/* \"?\"-specific style due to the `<a>` HTML tag */\n",
       "\n",
       "#sk-container-id-1 a.estimator_doc_link {\n",
       "  float: right;\n",
       "  font-size: 1rem;\n",
       "  line-height: 1em;\n",
       "  font-family: monospace;\n",
       "  background-color: var(--sklearn-color-background);\n",
       "  border-radius: 1rem;\n",
       "  height: 1rem;\n",
       "  width: 1rem;\n",
       "  text-decoration: none;\n",
       "  /* unfitted */\n",
       "  color: var(--sklearn-color-unfitted-level-1);\n",
       "  border: var(--sklearn-color-unfitted-level-1) 1pt solid;\n",
       "}\n",
       "\n",
       "#sk-container-id-1 a.estimator_doc_link.fitted {\n",
       "  /* fitted */\n",
       "  border: var(--sklearn-color-fitted-level-1) 1pt solid;\n",
       "  color: var(--sklearn-color-fitted-level-1);\n",
       "}\n",
       "\n",
       "/* On hover */\n",
       "#sk-container-id-1 a.estimator_doc_link:hover {\n",
       "  /* unfitted */\n",
       "  background-color: var(--sklearn-color-unfitted-level-3);\n",
       "  color: var(--sklearn-color-background);\n",
       "  text-decoration: none;\n",
       "}\n",
       "\n",
       "#sk-container-id-1 a.estimator_doc_link.fitted:hover {\n",
       "  /* fitted */\n",
       "  background-color: var(--sklearn-color-fitted-level-3);\n",
       "}\n",
       "</style><div id=\"sk-container-id-1\" class=\"sk-top-container\"><div class=\"sk-text-repr-fallback\"><pre>LogisticRegression()</pre><b>In a Jupyter environment, please rerun this cell to show the HTML representation or trust the notebook. <br />On GitHub, the HTML representation is unable to render, please try loading this page with nbviewer.org.</b></div><div class=\"sk-container\" hidden><div class=\"sk-item\"><div class=\"sk-estimator fitted sk-toggleable\"><input class=\"sk-toggleable__control sk-hidden--visually\" id=\"sk-estimator-id-1\" type=\"checkbox\" checked><label for=\"sk-estimator-id-1\" class=\"sk-toggleable__label fitted sk-toggleable__label-arrow fitted\">&nbsp;&nbsp;LogisticRegression<a class=\"sk-estimator-doc-link fitted\" rel=\"noreferrer\" target=\"_blank\" href=\"https://scikit-learn.org/1.5/modules/generated/sklearn.linear_model.LogisticRegression.html\">?<span>Documentation for LogisticRegression</span></a><span class=\"sk-estimator-doc-link fitted\">i<span>Fitted</span></span></label><div class=\"sk-toggleable__content fitted\"><pre>LogisticRegression()</pre></div> </div></div></div></div>"
      ],
      "text/plain": [
       "LogisticRegression()"
      ]
     },
     "execution_count": 32,
     "metadata": {},
     "output_type": "execute_result"
    }
   ],
   "source": [
    "lr_clf = LogisticRegression()\n",
    "lr_clf.fit(train_features, train_labels)"
   ]
  },
  {
   "cell_type": "code",
   "execution_count": 33,
   "id": "1597d95b",
   "metadata": {
    "colab": {
     "base_uri": "https://localhost:8080/"
    },
    "id": "1597d95b",
    "outputId": "8f544c04-1f88-419a-d631-7bf0c04950a0"
   },
   "outputs": [
    {
     "data": {
      "text/plain": [
       "0.92"
      ]
     },
     "execution_count": 33,
     "metadata": {},
     "output_type": "execute_result"
    }
   ],
   "source": [
    "lr_clf.score(test_features, test_labels)"
   ]
  },
  {
   "cell_type": "code",
   "execution_count": null,
   "id": "pEyDVgOtUdIR",
   "metadata": {
    "id": "pEyDVgOtUdIR"
   },
   "outputs": [],
   "source": []
  },
  {
   "cell_type": "code",
   "execution_count": null,
   "id": "990e6d6c-d9ba-4c0c-9668-fd0a935cbc12",
   "metadata": {},
   "outputs": [],
   "source": []
  },
  {
   "cell_type": "code",
   "execution_count": null,
   "id": "341e9aba-d89f-437b-a007-7b86ad0888f8",
   "metadata": {},
   "outputs": [],
   "source": []
  }
 ],
 "metadata": {
  "ExecuteTimeLog": [
   {
    "duration": 349,
    "start_time": "2024-09-27T07:19:20.349Z"
   },
   {
    "duration": 1232,
    "start_time": "2024-09-27T07:19:41.772Z"
   },
   {
    "duration": 23,
    "start_time": "2024-09-27T07:19:53.604Z"
   },
   {
    "duration": 76,
    "start_time": "2024-09-27T07:19:58.708Z"
   },
   {
    "duration": 798,
    "start_time": "2024-09-27T07:20:01.196Z"
   },
   {
    "duration": 25,
    "start_time": "2024-09-27T07:20:01.996Z"
   },
   {
    "duration": 10,
    "start_time": "2024-09-27T07:20:17.981Z"
   },
   {
    "duration": 801,
    "start_time": "2024-09-27T07:20:19.365Z"
   },
   {
    "duration": 8,
    "start_time": "2024-09-27T07:20:20.167Z"
   },
   {
    "duration": 8,
    "start_time": "2024-09-27T07:20:32.412Z"
   },
   {
    "duration": 6,
    "start_time": "2024-09-27T07:20:38.108Z"
   },
   {
    "duration": 4,
    "start_time": "2024-09-27T07:20:49.948Z"
   },
   {
    "duration": 7,
    "start_time": "2024-09-27T07:21:09.381Z"
   },
   {
    "duration": 7,
    "start_time": "2024-09-27T07:21:20.876Z"
   },
   {
    "duration": 8,
    "start_time": "2024-09-27T07:21:21.315Z"
   },
   {
    "duration": 19,
    "start_time": "2024-09-27T07:24:44.550Z"
   },
   {
    "duration": 3,
    "start_time": "2024-09-27T07:25:04.015Z"
   },
   {
    "duration": 638,
    "start_time": "2024-09-27T07:26:39.705Z"
   },
   {
    "duration": 4,
    "start_time": "2024-09-27T07:28:24.202Z"
   },
   {
    "duration": 6,
    "start_time": "2024-09-27T07:28:42.298Z"
   },
   {
    "duration": 624,
    "start_time": "2024-09-27T07:32:14.781Z"
   },
   {
    "duration": 6439,
    "start_time": "2024-09-27T07:44:52.975Z"
   },
   {
    "duration": 8,
    "start_time": "2024-09-27T07:45:03.390Z"
   },
   {
    "duration": 3619,
    "start_time": "2024-09-27T07:45:51.306Z"
   },
   {
    "duration": 3,
    "start_time": "2024-09-27T07:46:08.471Z"
   },
   {
    "duration": 2751,
    "start_time": "2024-09-27T07:46:10.040Z"
   },
   {
    "duration": 4768,
    "start_time": "2024-09-27T07:46:19.775Z"
   },
   {
    "duration": 63,
    "start_time": "2024-09-27T07:46:48.688Z"
   },
   {
    "duration": 3524,
    "start_time": "2024-09-27T07:46:51.304Z"
   },
   {
    "duration": 15,
    "start_time": "2024-09-27T07:47:42.090Z"
   },
   {
    "duration": 7,
    "start_time": "2024-09-27T07:47:52.889Z"
   },
   {
    "duration": 15,
    "start_time": "2024-09-27T07:47:55.896Z"
   },
   {
    "duration": 2,
    "start_time": "2024-09-27T07:48:22.178Z"
   },
   {
    "duration": 43,
    "start_time": "2024-09-27T07:48:23.786Z"
   },
   {
    "duration": 3,
    "start_time": "2024-09-27T07:48:35.474Z"
   },
   {
    "duration": 2156,
    "start_time": "2024-09-27T07:49:13.595Z"
   },
   {
    "duration": 1184,
    "start_time": "2024-09-27T07:49:15.753Z"
   },
   {
    "duration": 8,
    "start_time": "2024-09-27T07:49:16.939Z"
   },
   {
    "duration": 12,
    "start_time": "2024-09-27T07:49:16.949Z"
   },
   {
    "duration": 13,
    "start_time": "2024-09-27T07:49:16.963Z"
   },
   {
    "duration": 12,
    "start_time": "2024-09-27T07:49:16.978Z"
   },
   {
    "duration": 3561,
    "start_time": "2024-09-27T07:49:16.991Z"
   },
   {
    "duration": 1864,
    "start_time": "2024-09-27T07:49:20.553Z"
   },
   {
    "duration": 45,
    "start_time": "2024-09-27T07:49:53.372Z"
   },
   {
    "duration": 1998,
    "start_time": "2024-09-27T07:49:57.640Z"
   },
   {
    "duration": 1157,
    "start_time": "2024-09-27T07:49:59.640Z"
   },
   {
    "duration": 10,
    "start_time": "2024-09-27T07:50:00.801Z"
   },
   {
    "duration": 29,
    "start_time": "2024-09-27T07:50:00.813Z"
   },
   {
    "duration": 8,
    "start_time": "2024-09-27T07:50:00.843Z"
   },
   {
    "duration": 30,
    "start_time": "2024-09-27T07:50:00.853Z"
   },
   {
    "duration": 3922,
    "start_time": "2024-09-27T07:50:00.885Z"
   },
   {
    "duration": 1800,
    "start_time": "2024-09-27T07:50:04.809Z"
   },
   {
    "duration": 2103,
    "start_time": "2024-09-27T07:51:01.326Z"
   },
   {
    "duration": 1179,
    "start_time": "2024-09-27T07:51:03.431Z"
   },
   {
    "duration": 9,
    "start_time": "2024-09-27T07:51:04.611Z"
   },
   {
    "duration": 23,
    "start_time": "2024-09-27T07:51:04.621Z"
   },
   {
    "duration": 20,
    "start_time": "2024-09-27T07:51:04.645Z"
   },
   {
    "duration": 21,
    "start_time": "2024-09-27T07:51:04.667Z"
   },
   {
    "duration": 2040,
    "start_time": "2024-09-27T07:51:04.689Z"
   },
   {
    "duration": 4647,
    "start_time": "2024-09-27T07:51:06.730Z"
   },
   {
    "duration": 320,
    "start_time": "2024-09-27T07:51:11.378Z"
   },
   {
    "duration": 45,
    "start_time": "2024-09-27T08:21:05.114Z"
   },
   {
    "duration": 10633,
    "start_time": "2024-09-27T08:25:12.719Z"
   },
   {
    "duration": 6,
    "start_time": "2024-09-27T08:25:35.590Z"
   },
   {
    "duration": 1104,
    "start_time": "2024-09-27T08:25:37.710Z"
   },
   {
    "duration": 15,
    "start_time": "2024-09-27T08:27:04.415Z"
   },
   {
    "duration": 1177,
    "start_time": "2024-09-27T08:27:07.879Z"
   },
   {
    "duration": 8,
    "start_time": "2024-09-27T08:27:18.344Z"
   },
   {
    "duration": 262,
    "start_time": "2024-09-27T08:27:26.832Z"
   },
   {
    "duration": 7,
    "start_time": "2024-09-27T08:27:34.735Z"
   },
   {
    "duration": 18,
    "start_time": "2024-09-27T08:31:00.947Z"
   },
   {
    "duration": 5,
    "start_time": "2024-09-27T08:31:08.458Z"
   },
   {
    "duration": 5,
    "start_time": "2024-09-27T08:31:20.980Z"
   },
   {
    "duration": 24,
    "start_time": "2024-09-27T08:33:58.812Z"
   },
   {
    "duration": 1984,
    "start_time": "2024-09-27T08:36:25.051Z"
   },
   {
    "duration": 913,
    "start_time": "2024-09-27T08:36:27.037Z"
   },
   {
    "duration": 8,
    "start_time": "2024-09-27T08:36:27.951Z"
   },
   {
    "duration": 10,
    "start_time": "2024-09-27T08:36:27.961Z"
   },
   {
    "duration": 5824,
    "start_time": "2024-09-27T08:36:27.973Z"
   },
   {
    "duration": 283,
    "start_time": "2024-09-27T08:36:33.799Z"
   },
   {
    "duration": 18,
    "start_time": "2024-09-27T08:36:34.084Z"
   },
   {
    "duration": 123,
    "start_time": "2024-09-27T08:36:34.106Z"
   },
   {
    "duration": 7,
    "start_time": "2024-09-27T08:36:34.230Z"
   },
   {
    "duration": 302,
    "start_time": "2024-09-27T08:36:34.238Z"
   },
   {
    "duration": 0,
    "start_time": "2024-09-27T08:36:34.541Z"
   },
   {
    "duration": 0,
    "start_time": "2024-09-27T08:36:34.542Z"
   },
   {
    "duration": 0,
    "start_time": "2024-09-27T08:36:34.543Z"
   },
   {
    "duration": 0,
    "start_time": "2024-09-27T08:36:34.544Z"
   },
   {
    "duration": 0,
    "start_time": "2024-09-27T08:36:34.545Z"
   },
   {
    "duration": 2124,
    "start_time": "2024-09-27T08:37:45.874Z"
   },
   {
    "duration": 858,
    "start_time": "2024-09-27T08:37:47.999Z"
   },
   {
    "duration": 8,
    "start_time": "2024-09-27T08:37:48.859Z"
   },
   {
    "duration": 15,
    "start_time": "2024-09-27T08:37:48.868Z"
   },
   {
    "duration": 5782,
    "start_time": "2024-09-27T08:37:48.885Z"
   },
   {
    "duration": 41,
    "start_time": "2024-09-27T08:37:54.668Z"
   },
   {
    "duration": 20,
    "start_time": "2024-09-27T08:37:54.710Z"
   },
   {
    "duration": 32,
    "start_time": "2024-09-27T08:37:54.731Z"
   },
   {
    "duration": 33,
    "start_time": "2024-09-27T08:37:54.765Z"
   },
   {
    "duration": 23527,
    "start_time": "2024-09-27T08:37:54.799Z"
   },
   {
    "duration": 3,
    "start_time": "2024-09-27T08:38:32.680Z"
   },
   {
    "duration": 1573,
    "start_time": "2024-09-27T08:38:41.808Z"
   },
   {
    "duration": 3,
    "start_time": "2024-09-27T08:38:59.961Z"
   },
   {
    "duration": 4,
    "start_time": "2024-09-27T08:39:02.453Z"
   },
   {
    "duration": 18,
    "start_time": "2024-09-27T08:39:17.696Z"
   },
   {
    "duration": 5,
    "start_time": "2024-09-27T08:39:31.400Z"
   },
   {
    "duration": 7,
    "start_time": "2024-09-27T08:40:02.818Z"
   },
   {
    "duration": 4398,
    "start_time": "2024-09-27T08:40:03.137Z"
   },
   {
    "duration": 95,
    "start_time": "2024-09-27T08:40:07.537Z"
   },
   {
    "duration": 6,
    "start_time": "2024-09-27T08:40:07.633Z"
   },
   {
    "duration": 8,
    "start_time": "2024-09-27T08:40:07.647Z"
   },
   {
    "duration": 2207,
    "start_time": "2024-09-27T08:40:19.256Z"
   },
   {
    "duration": 901,
    "start_time": "2024-09-27T08:40:21.465Z"
   },
   {
    "duration": 7,
    "start_time": "2024-09-27T08:40:22.367Z"
   },
   {
    "duration": 11,
    "start_time": "2024-09-27T08:40:22.375Z"
   },
   {
    "duration": 6547,
    "start_time": "2024-09-27T08:40:22.387Z"
   },
   {
    "duration": 35,
    "start_time": "2024-09-27T08:40:28.936Z"
   },
   {
    "duration": 4,
    "start_time": "2024-09-27T08:40:28.972Z"
   },
   {
    "duration": 41,
    "start_time": "2024-09-27T08:40:28.977Z"
   },
   {
    "duration": 8,
    "start_time": "2024-09-27T08:40:29.020Z"
   },
   {
    "duration": 2087,
    "start_time": "2024-09-27T08:40:44.495Z"
   },
   {
    "duration": 882,
    "start_time": "2024-09-27T08:40:46.583Z"
   },
   {
    "duration": 7,
    "start_time": "2024-09-27T08:40:47.466Z"
   },
   {
    "duration": 11,
    "start_time": "2024-09-27T08:40:47.474Z"
   },
   {
    "duration": 6091,
    "start_time": "2024-09-27T08:40:47.487Z"
   },
   {
    "duration": 82,
    "start_time": "2024-09-27T08:40:53.580Z"
   },
   {
    "duration": 7,
    "start_time": "2024-09-27T08:40:53.663Z"
   },
   {
    "duration": 81,
    "start_time": "2024-09-27T08:40:53.671Z"
   },
   {
    "duration": 21,
    "start_time": "2024-09-27T08:40:53.754Z"
   },
   {
    "duration": 282,
    "start_time": "2024-09-27T08:40:53.776Z"
   },
   {
    "duration": 0,
    "start_time": "2024-09-27T08:40:54.059Z"
   },
   {
    "duration": 0,
    "start_time": "2024-09-27T08:40:54.061Z"
   },
   {
    "duration": 0,
    "start_time": "2024-09-27T08:40:54.061Z"
   },
   {
    "duration": 0,
    "start_time": "2024-09-27T08:40:54.062Z"
   },
   {
    "duration": 0,
    "start_time": "2024-09-27T08:40:54.063Z"
   },
   {
    "duration": 2079,
    "start_time": "2024-09-27T08:44:09.894Z"
   },
   {
    "duration": 894,
    "start_time": "2024-09-27T08:44:11.975Z"
   },
   {
    "duration": 9,
    "start_time": "2024-09-27T08:44:12.871Z"
   },
   {
    "duration": 28,
    "start_time": "2024-09-27T08:44:12.882Z"
   },
   {
    "duration": 10503,
    "start_time": "2024-09-27T08:44:12.912Z"
   },
   {
    "duration": 122,
    "start_time": "2024-09-27T08:44:23.417Z"
   },
   {
    "duration": 6,
    "start_time": "2024-09-27T08:44:23.541Z"
   },
   {
    "duration": 12,
    "start_time": "2024-09-27T08:44:23.548Z"
   },
   {
    "duration": 16,
    "start_time": "2024-09-27T08:44:23.561Z"
   },
   {
    "duration": 408,
    "start_time": "2024-09-27T08:44:23.579Z"
   },
   {
    "duration": 0,
    "start_time": "2024-09-27T08:44:23.988Z"
   },
   {
    "duration": 0,
    "start_time": "2024-09-27T08:44:23.989Z"
   },
   {
    "duration": 0,
    "start_time": "2024-09-27T08:44:23.990Z"
   },
   {
    "duration": 0,
    "start_time": "2024-09-27T08:44:23.991Z"
   },
   {
    "duration": 0,
    "start_time": "2024-09-27T08:44:23.992Z"
   },
   {
    "duration": 2108,
    "start_time": "2024-09-27T08:44:37.576Z"
   },
   {
    "duration": 874,
    "start_time": "2024-09-27T08:44:39.685Z"
   },
   {
    "duration": 7,
    "start_time": "2024-09-27T08:44:40.561Z"
   },
   {
    "duration": 67,
    "start_time": "2024-09-27T08:44:40.569Z"
   },
   {
    "duration": 5275,
    "start_time": "2024-09-27T08:44:40.638Z"
   },
   {
    "duration": 95,
    "start_time": "2024-09-27T08:44:45.914Z"
   },
   {
    "duration": 5,
    "start_time": "2024-09-27T08:44:46.011Z"
   },
   {
    "duration": 10,
    "start_time": "2024-09-27T08:44:46.017Z"
   },
   {
    "duration": 68,
    "start_time": "2024-09-27T08:44:46.029Z"
   },
   {
    "duration": 365,
    "start_time": "2024-09-27T08:44:46.099Z"
   },
   {
    "duration": 0,
    "start_time": "2024-09-27T08:44:46.465Z"
   },
   {
    "duration": 0,
    "start_time": "2024-09-27T08:44:46.467Z"
   },
   {
    "duration": 0,
    "start_time": "2024-09-27T08:44:46.468Z"
   },
   {
    "duration": 0,
    "start_time": "2024-09-27T08:44:46.469Z"
   },
   {
    "duration": 0,
    "start_time": "2024-09-27T08:44:46.471Z"
   },
   {
    "duration": 2055,
    "start_time": "2024-09-27T08:44:56.594Z"
   },
   {
    "duration": 878,
    "start_time": "2024-09-27T08:44:58.651Z"
   },
   {
    "duration": 7,
    "start_time": "2024-09-27T08:44:59.530Z"
   },
   {
    "duration": 32,
    "start_time": "2024-09-27T08:44:59.538Z"
   },
   {
    "duration": 5247,
    "start_time": "2024-09-27T08:44:59.572Z"
   },
   {
    "duration": 113,
    "start_time": "2024-09-27T08:45:04.821Z"
   },
   {
    "duration": 5,
    "start_time": "2024-09-27T08:45:04.935Z"
   },
   {
    "duration": 9,
    "start_time": "2024-09-27T08:45:04.941Z"
   },
   {
    "duration": 16,
    "start_time": "2024-09-27T08:45:04.951Z"
   },
   {
    "duration": 368,
    "start_time": "2024-09-27T08:45:04.968Z"
   },
   {
    "duration": 0,
    "start_time": "2024-09-27T08:45:05.337Z"
   },
   {
    "duration": 0,
    "start_time": "2024-09-27T08:45:05.338Z"
   },
   {
    "duration": 0,
    "start_time": "2024-09-27T08:45:05.339Z"
   },
   {
    "duration": 0,
    "start_time": "2024-09-27T08:45:05.340Z"
   },
   {
    "duration": 0,
    "start_time": "2024-09-27T08:45:05.341Z"
   },
   {
    "duration": 2014,
    "start_time": "2024-09-27T08:45:15.852Z"
   },
   {
    "duration": 870,
    "start_time": "2024-09-27T08:45:17.868Z"
   },
   {
    "duration": 8,
    "start_time": "2024-09-27T08:45:18.739Z"
   },
   {
    "duration": 25,
    "start_time": "2024-09-27T08:45:18.748Z"
   },
   {
    "duration": 5169,
    "start_time": "2024-09-27T08:45:18.775Z"
   },
   {
    "duration": 58,
    "start_time": "2024-09-27T08:45:24.006Z"
   },
   {
    "duration": 6,
    "start_time": "2024-09-27T08:45:24.065Z"
   },
   {
    "duration": 8,
    "start_time": "2024-09-27T08:45:24.072Z"
   },
   {
    "duration": 26,
    "start_time": "2024-09-27T08:45:24.081Z"
   },
   {
    "duration": 382,
    "start_time": "2024-09-27T08:45:24.109Z"
   },
   {
    "duration": 0,
    "start_time": "2024-09-27T08:45:24.492Z"
   },
   {
    "duration": 0,
    "start_time": "2024-09-27T08:45:24.493Z"
   },
   {
    "duration": 0,
    "start_time": "2024-09-27T08:45:24.494Z"
   },
   {
    "duration": 0,
    "start_time": "2024-09-27T08:45:24.495Z"
   },
   {
    "duration": 0,
    "start_time": "2024-09-27T08:45:24.495Z"
   },
   {
    "duration": 16130,
    "start_time": "2024-09-27T08:56:18.086Z"
   },
   {
    "duration": 56,
    "start_time": "2024-09-27T08:56:36.317Z"
   },
   {
    "duration": 14,
    "start_time": "2024-09-27T08:57:06.221Z"
   },
   {
    "duration": 3,
    "start_time": "2024-09-27T08:57:27.174Z"
   },
   {
    "duration": 14,
    "start_time": "2024-09-27T08:57:32.829Z"
   },
   {
    "duration": 1261,
    "start_time": "2024-09-27T08:57:36.413Z"
   },
   {
    "duration": 66,
    "start_time": "2024-09-27T08:58:01.190Z"
   },
   {
    "duration": 1112,
    "start_time": "2024-09-27T08:58:03.750Z"
   },
   {
    "duration": 15,
    "start_time": "2024-09-27T08:58:10.958Z"
   },
   {
    "duration": 6,
    "start_time": "2024-09-27T08:59:48.816Z"
   },
   {
    "duration": 3,
    "start_time": "2024-09-27T08:59:53.290Z"
   },
   {
    "duration": 3,
    "start_time": "2024-09-27T09:00:04.176Z"
   },
   {
    "duration": 16,
    "start_time": "2024-09-27T09:00:20.183Z"
   },
   {
    "duration": 3,
    "start_time": "2024-09-27T09:45:34.916Z"
   },
   {
    "duration": 5,
    "start_time": "2024-09-27T09:47:26.828Z"
   },
   {
    "duration": 5,
    "start_time": "2024-09-27T09:51:07.280Z"
   },
   {
    "duration": 3,
    "start_time": "2024-09-27T10:18:56.734Z"
   },
   {
    "duration": 2,
    "start_time": "2024-09-27T10:19:23.520Z"
   },
   {
    "duration": 4,
    "start_time": "2024-09-27T10:21:26.977Z"
   },
   {
    "duration": 14,
    "start_time": "2024-09-27T10:23:03.754Z"
   },
   {
    "duration": 4,
    "start_time": "2024-09-27T10:23:17.771Z"
   },
   {
    "duration": 5,
    "start_time": "2024-09-27T10:23:21.252Z"
   },
   {
    "duration": 3,
    "start_time": "2024-09-27T10:23:43.370Z"
   },
   {
    "duration": 4,
    "start_time": "2024-09-27T10:23:45.979Z"
   },
   {
    "duration": 826,
    "start_time": "2024-09-27T10:24:32.195Z"
   },
   {
    "duration": 7,
    "start_time": "2024-09-27T10:24:33.023Z"
   },
   {
    "duration": 129,
    "start_time": "2024-09-27T10:24:33.031Z"
   },
   {
    "duration": 27,
    "start_time": "2024-09-27T10:24:33.162Z"
   },
   {
    "duration": 4,
    "start_time": "2024-09-27T10:24:33.547Z"
   },
   {
    "duration": 5,
    "start_time": "2024-09-27T10:24:34.183Z"
   },
   {
    "duration": 3674,
    "start_time": "2024-09-27T10:24:42.335Z"
   },
   {
    "duration": 62,
    "start_time": "2024-09-27T10:24:53.417Z"
   },
   {
    "duration": 62,
    "start_time": "2024-09-27T10:26:23.685Z"
   },
   {
    "duration": 65,
    "start_time": "2024-09-27T10:27:06.052Z"
   },
   {
    "duration": 5,
    "start_time": "2024-09-27T10:27:08.236Z"
   },
   {
    "duration": 5,
    "start_time": "2024-09-27T10:27:09.309Z"
   },
   {
    "duration": 3,
    "start_time": "2024-09-27T10:27:10.236Z"
   },
   {
    "duration": 3,
    "start_time": "2024-09-27T10:27:10.941Z"
   },
   {
    "duration": 6,
    "start_time": "2024-09-27T10:27:20.092Z"
   },
   {
    "duration": 2,
    "start_time": "2024-09-27T10:27:20.516Z"
   },
   {
    "duration": 11,
    "start_time": "2024-09-27T10:27:20.862Z"
   },
   {
    "duration": 3,
    "start_time": "2024-09-27T10:27:21.308Z"
   },
   {
    "duration": 6,
    "start_time": "2024-09-27T10:27:22.133Z"
   },
   {
    "duration": 3607,
    "start_time": "2024-09-27T10:27:33.015Z"
   },
   {
    "duration": 590,
    "start_time": "2024-09-27T10:27:36.623Z"
   },
   {
    "duration": 18,
    "start_time": "2024-09-27T10:27:37.215Z"
   },
   {
    "duration": 4,
    "start_time": "2024-09-27T10:27:37.317Z"
   },
   {
    "duration": 4,
    "start_time": "2024-09-27T10:27:37.877Z"
   },
   {
    "duration": 48,
    "start_time": "2024-09-27T10:28:27.095Z"
   },
   {
    "duration": 2095,
    "start_time": "2024-09-27T10:28:30.931Z"
   },
   {
    "duration": 1189,
    "start_time": "2024-09-27T10:28:33.027Z"
   },
   {
    "duration": 7,
    "start_time": "2024-09-27T10:28:34.218Z"
   },
   {
    "duration": 28,
    "start_time": "2024-09-27T10:28:34.227Z"
   },
   {
    "duration": 91,
    "start_time": "2024-09-27T10:28:34.257Z"
   },
   {
    "duration": 39,
    "start_time": "2024-09-27T10:28:34.350Z"
   },
   {
    "duration": 8617,
    "start_time": "2024-09-27T10:28:34.390Z"
   },
   {
    "duration": 150,
    "start_time": "2024-09-27T10:28:43.009Z"
   },
   {
    "duration": 6,
    "start_time": "2024-09-27T10:28:43.160Z"
   },
   {
    "duration": 11,
    "start_time": "2024-09-27T10:28:43.168Z"
   },
   {
    "duration": 7,
    "start_time": "2024-09-27T10:28:43.180Z"
   }
  ],
  "colab": {
   "provenance": []
  },
  "kernelspec": {
   "display_name": "Python 3 (ipykernel)",
   "language": "python",
   "name": "python3"
  },
  "language_info": {
   "codemirror_mode": {
    "name": "ipython",
    "version": 3
   },
   "file_extension": ".py",
   "mimetype": "text/x-python",
   "name": "python",
   "nbconvert_exporter": "python",
   "pygments_lexer": "ipython3",
   "version": "3.12.4"
  },
  "toc": {
   "base_numbering": 1,
   "nav_menu": {},
   "number_sections": true,
   "sideBar": true,
   "skip_h1_title": true,
   "title_cell": "Table of Contents",
   "title_sidebar": "Contents",
   "toc_cell": false,
   "toc_position": {},
   "toc_section_display": true,
   "toc_window_display": false
  },
  "widgets": {
   "application/vnd.jupyter.widget-state+json": {
    "312042a1ba5b4345a1497ed7eec9982e": {
     "model_module": "@jupyter-widgets/controls",
     "model_module_version": "1.5.0",
     "model_name": "FloatProgressModel",
     "state": {
      "_dom_classes": [],
      "_model_module": "@jupyter-widgets/controls",
      "_model_module_version": "1.5.0",
      "_model_name": "FloatProgressModel",
      "_view_count": null,
      "_view_module": "@jupyter-widgets/controls",
      "_view_module_version": "1.5.0",
      "_view_name": "ProgressView",
      "bar_style": "success",
      "description": "",
      "description_tooltip": null,
      "layout": "IPY_MODEL_7fd676bd444c4d11b2c89ce10103c340",
      "max": 10,
      "min": 0,
      "orientation": "horizontal",
      "style": "IPY_MODEL_8360632be2654b63accac1243af3e4bb",
      "value": 10
     }
    },
    "42b3d416206a44e387d5df5ca5f3e3ec": {
     "model_module": "@jupyter-widgets/base",
     "model_module_version": "1.2.0",
     "model_name": "LayoutModel",
     "state": {
      "_model_module": "@jupyter-widgets/base",
      "_model_module_version": "1.2.0",
      "_model_name": "LayoutModel",
      "_view_count": null,
      "_view_module": "@jupyter-widgets/base",
      "_view_module_version": "1.2.0",
      "_view_name": "LayoutView",
      "align_content": null,
      "align_items": null,
      "align_self": null,
      "border": null,
      "bottom": null,
      "display": null,
      "flex": null,
      "flex_flow": null,
      "grid_area": null,
      "grid_auto_columns": null,
      "grid_auto_flow": null,
      "grid_auto_rows": null,
      "grid_column": null,
      "grid_gap": null,
      "grid_row": null,
      "grid_template_areas": null,
      "grid_template_columns": null,
      "grid_template_rows": null,
      "height": null,
      "justify_content": null,
      "justify_items": null,
      "left": null,
      "margin": null,
      "max_height": null,
      "max_width": null,
      "min_height": null,
      "min_width": null,
      "object_fit": null,
      "object_position": null,
      "order": null,
      "overflow": null,
      "overflow_x": null,
      "overflow_y": null,
      "padding": null,
      "right": null,
      "top": null,
      "visibility": null,
      "width": null
     }
    },
    "62b5076e834246a3b62ccafc84b71c56": {
     "model_module": "@jupyter-widgets/controls",
     "model_module_version": "1.5.0",
     "model_name": "HBoxModel",
     "state": {
      "_dom_classes": [],
      "_model_module": "@jupyter-widgets/controls",
      "_model_module_version": "1.5.0",
      "_model_name": "HBoxModel",
      "_view_count": null,
      "_view_module": "@jupyter-widgets/controls",
      "_view_module_version": "1.5.0",
      "_view_name": "HBoxView",
      "box_style": "",
      "children": [
       "IPY_MODEL_be59e15abf74400ca56831cf6cc73624",
       "IPY_MODEL_312042a1ba5b4345a1497ed7eec9982e",
       "IPY_MODEL_fabc1a4bbd8e4e3f9d911c6640be2499"
      ],
      "layout": "IPY_MODEL_42b3d416206a44e387d5df5ca5f3e3ec"
     }
    },
    "65f042ffdff543f088e8f921f9e13f9c": {
     "model_module": "@jupyter-widgets/controls",
     "model_module_version": "1.5.0",
     "model_name": "DescriptionStyleModel",
     "state": {
      "_model_module": "@jupyter-widgets/controls",
      "_model_module_version": "1.5.0",
      "_model_name": "DescriptionStyleModel",
      "_view_count": null,
      "_view_module": "@jupyter-widgets/base",
      "_view_module_version": "1.2.0",
      "_view_name": "StyleView",
      "description_width": ""
     }
    },
    "7fd676bd444c4d11b2c89ce10103c340": {
     "model_module": "@jupyter-widgets/base",
     "model_module_version": "1.2.0",
     "model_name": "LayoutModel",
     "state": {
      "_model_module": "@jupyter-widgets/base",
      "_model_module_version": "1.2.0",
      "_model_name": "LayoutModel",
      "_view_count": null,
      "_view_module": "@jupyter-widgets/base",
      "_view_module_version": "1.2.0",
      "_view_name": "LayoutView",
      "align_content": null,
      "align_items": null,
      "align_self": null,
      "border": null,
      "bottom": null,
      "display": null,
      "flex": null,
      "flex_flow": null,
      "grid_area": null,
      "grid_auto_columns": null,
      "grid_auto_flow": null,
      "grid_auto_rows": null,
      "grid_column": null,
      "grid_gap": null,
      "grid_row": null,
      "grid_template_areas": null,
      "grid_template_columns": null,
      "grid_template_rows": null,
      "height": null,
      "justify_content": null,
      "justify_items": null,
      "left": null,
      "margin": null,
      "max_height": null,
      "max_width": null,
      "min_height": null,
      "min_width": null,
      "object_fit": null,
      "object_position": null,
      "order": null,
      "overflow": null,
      "overflow_x": null,
      "overflow_y": null,
      "padding": null,
      "right": null,
      "top": null,
      "visibility": null,
      "width": null
     }
    },
    "8360632be2654b63accac1243af3e4bb": {
     "model_module": "@jupyter-widgets/controls",
     "model_module_version": "1.5.0",
     "model_name": "ProgressStyleModel",
     "state": {
      "_model_module": "@jupyter-widgets/controls",
      "_model_module_version": "1.5.0",
      "_model_name": "ProgressStyleModel",
      "_view_count": null,
      "_view_module": "@jupyter-widgets/base",
      "_view_module_version": "1.2.0",
      "_view_name": "StyleView",
      "bar_color": null,
      "description_width": ""
     }
    },
    "8905b344911d48409aee3504525c02f7": {
     "model_module": "@jupyter-widgets/base",
     "model_module_version": "1.2.0",
     "model_name": "LayoutModel",
     "state": {
      "_model_module": "@jupyter-widgets/base",
      "_model_module_version": "1.2.0",
      "_model_name": "LayoutModel",
      "_view_count": null,
      "_view_module": "@jupyter-widgets/base",
      "_view_module_version": "1.2.0",
      "_view_name": "LayoutView",
      "align_content": null,
      "align_items": null,
      "align_self": null,
      "border": null,
      "bottom": null,
      "display": null,
      "flex": null,
      "flex_flow": null,
      "grid_area": null,
      "grid_auto_columns": null,
      "grid_auto_flow": null,
      "grid_auto_rows": null,
      "grid_column": null,
      "grid_gap": null,
      "grid_row": null,
      "grid_template_areas": null,
      "grid_template_columns": null,
      "grid_template_rows": null,
      "height": null,
      "justify_content": null,
      "justify_items": null,
      "left": null,
      "margin": null,
      "max_height": null,
      "max_width": null,
      "min_height": null,
      "min_width": null,
      "object_fit": null,
      "object_position": null,
      "order": null,
      "overflow": null,
      "overflow_x": null,
      "overflow_y": null,
      "padding": null,
      "right": null,
      "top": null,
      "visibility": null,
      "width": null
     }
    },
    "a1cd3f341a6e44a293764bd9aaf5d943": {
     "model_module": "@jupyter-widgets/base",
     "model_module_version": "1.2.0",
     "model_name": "LayoutModel",
     "state": {
      "_model_module": "@jupyter-widgets/base",
      "_model_module_version": "1.2.0",
      "_model_name": "LayoutModel",
      "_view_count": null,
      "_view_module": "@jupyter-widgets/base",
      "_view_module_version": "1.2.0",
      "_view_name": "LayoutView",
      "align_content": null,
      "align_items": null,
      "align_self": null,
      "border": null,
      "bottom": null,
      "display": null,
      "flex": null,
      "flex_flow": null,
      "grid_area": null,
      "grid_auto_columns": null,
      "grid_auto_flow": null,
      "grid_auto_rows": null,
      "grid_column": null,
      "grid_gap": null,
      "grid_row": null,
      "grid_template_areas": null,
      "grid_template_columns": null,
      "grid_template_rows": null,
      "height": null,
      "justify_content": null,
      "justify_items": null,
      "left": null,
      "margin": null,
      "max_height": null,
      "max_width": null,
      "min_height": null,
      "min_width": null,
      "object_fit": null,
      "object_position": null,
      "order": null,
      "overflow": null,
      "overflow_x": null,
      "overflow_y": null,
      "padding": null,
      "right": null,
      "top": null,
      "visibility": null,
      "width": null
     }
    },
    "b869d070fbb54e439d0c6413de423d2f": {
     "model_module": "@jupyter-widgets/controls",
     "model_module_version": "1.5.0",
     "model_name": "DescriptionStyleModel",
     "state": {
      "_model_module": "@jupyter-widgets/controls",
      "_model_module_version": "1.5.0",
      "_model_name": "DescriptionStyleModel",
      "_view_count": null,
      "_view_module": "@jupyter-widgets/base",
      "_view_module_version": "1.2.0",
      "_view_name": "StyleView",
      "description_width": ""
     }
    },
    "be59e15abf74400ca56831cf6cc73624": {
     "model_module": "@jupyter-widgets/controls",
     "model_module_version": "1.5.0",
     "model_name": "HTMLModel",
     "state": {
      "_dom_classes": [],
      "_model_module": "@jupyter-widgets/controls",
      "_model_module_version": "1.5.0",
      "_model_name": "HTMLModel",
      "_view_count": null,
      "_view_module": "@jupyter-widgets/controls",
      "_view_module_version": "1.5.0",
      "_view_name": "HTMLView",
      "description": "",
      "description_tooltip": null,
      "layout": "IPY_MODEL_8905b344911d48409aee3504525c02f7",
      "placeholder": "​",
      "style": "IPY_MODEL_b869d070fbb54e439d0c6413de423d2f",
      "value": "100%"
     }
    },
    "fabc1a4bbd8e4e3f9d911c6640be2499": {
     "model_module": "@jupyter-widgets/controls",
     "model_module_version": "1.5.0",
     "model_name": "HTMLModel",
     "state": {
      "_dom_classes": [],
      "_model_module": "@jupyter-widgets/controls",
      "_model_module_version": "1.5.0",
      "_model_name": "HTMLModel",
      "_view_count": null,
      "_view_module": "@jupyter-widgets/controls",
      "_view_module_version": "1.5.0",
      "_view_name": "HTMLView",
      "description": "",
      "description_tooltip": null,
      "layout": "IPY_MODEL_a1cd3f341a6e44a293764bd9aaf5d943",
      "placeholder": "​",
      "style": "IPY_MODEL_65f042ffdff543f088e8f921f9e13f9c",
      "value": " 10/10 [21:31&lt;00:00, 128.61s/it]"
     }
    }
   }
  }
 },
 "nbformat": 4,
 "nbformat_minor": 5
}
