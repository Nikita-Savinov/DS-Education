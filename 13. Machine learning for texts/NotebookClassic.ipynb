{
 "cells": [
  {
   "cell_type": "markdown",
   "metadata": {},
   "source": [
    "# Проект для «Викишоп»"
   ]
  },
  {
   "cell_type": "markdown",
   "metadata": {},
   "source": [
    "Интернет-магазин «Викишоп» запускает новый сервис. Теперь пользователи могут редактировать и дополнять описания товаров, как в вики-сообществах. То есть клиенты предлагают свои правки и комментируют изменения других. Магазину нужен инструмент, который будет искать токсичные комментарии и отправлять их на модерацию. \n",
    "\n",
    "Обучите модель классифицировать комментарии на позитивные и негативные. В вашем распоряжении набор данных с разметкой о токсичности правок.\n",
    "\n",
    "Постройте модель со значением метрики качества *F1* не меньше 0.75. \n",
    "\n",
    "**Инструкция по выполнению проекта**\n",
    "\n",
    "1. Загрузите и подготовьте данные.\n",
    "2. Обучите разные модели. \n",
    "3. Сделайте выводы.\n",
    "\n",
    "Для выполнения проекта применять *BERT* необязательно, но вы можете попробовать.\n",
    "\n",
    "**Описание данных**\n",
    "\n",
    "Данные находятся в файле `toxic_comments.csv`. Столбец *text* в нём содержит текст комментария, а *toxic* — целевой признак."
   ]
  },
  {
   "cell_type": "code",
   "execution_count": 1,
   "metadata": {},
   "outputs": [
    {
     "data": {
      "text/html": [
       "<style>.container { width:90% !important; }</style>"
      ],
      "text/plain": [
       "<IPython.core.display.HTML object>"
      ]
     },
     "metadata": {},
     "output_type": "display_data"
    }
   ],
   "source": [
    "from IPython.core.display import display, HTML\n",
    "display(HTML(\"<style>.container { width:90% !important; }</style>\"))"
   ]
  },
  {
   "cell_type": "markdown",
   "metadata": {},
   "source": [
    "## Импорт необходиммых библиотек"
   ]
  },
  {
   "cell_type": "code",
   "execution_count": 2,
   "metadata": {},
   "outputs": [],
   "source": [
    "import sys\n",
    "import spacy\n",
    "import pandas as pd \n",
    "from sklearn.metrics import f1_score\n",
    "import matplotlib.pyplot as plt\n",
    "import re\n",
    "from tqdm.notebook import tqdm\n",
    "import nltk\n",
    "from nltk.corpus import stopwords as nltk_stopwords\n",
    "from sklearn.feature_extraction.text import TfidfVectorizer\n",
    "from sklearn.model_selection import train_test_split, GridSearchCV\n",
    "from sklearn.linear_model import LogisticRegression\n",
    "from lightgbm import LGBMClassifier\n",
    "from catboost import CatBoostClassifier\n",
    "from sklearn.pipeline import Pipeline\n",
    "from sklearn.svm import SVC"
   ]
  },
  {
   "cell_type": "markdown",
   "metadata": {},
   "source": [
    "## Подготовка"
   ]
  },
  {
   "cell_type": "code",
   "execution_count": 3,
   "metadata": {
    "scrolled": true
   },
   "outputs": [
    {
     "data": {
      "text/html": [
       "<div>\n",
       "<style scoped>\n",
       "    .dataframe tbody tr th:only-of-type {\n",
       "        vertical-align: middle;\n",
       "    }\n",
       "\n",
       "    .dataframe tbody tr th {\n",
       "        vertical-align: top;\n",
       "    }\n",
       "\n",
       "    .dataframe thead th {\n",
       "        text-align: right;\n",
       "    }\n",
       "</style>\n",
       "<table border=\"1\" class=\"dataframe\">\n",
       "  <thead>\n",
       "    <tr style=\"text-align: right;\">\n",
       "      <th></th>\n",
       "      <th>Unnamed: 0</th>\n",
       "      <th>text</th>\n",
       "      <th>toxic</th>\n",
       "    </tr>\n",
       "  </thead>\n",
       "  <tbody>\n",
       "    <tr>\n",
       "      <th>33636</th>\n",
       "      <td>33676</td>\n",
       "      <td>\"\\n\\nMilton, MA\\nHey Markles, I was hoping you...</td>\n",
       "      <td>0</td>\n",
       "    </tr>\n",
       "    <tr>\n",
       "      <th>136034</th>\n",
       "      <td>136172</td>\n",
       "      <td>\"\\n\\ncats\\nYou should fill up Category:Hindus_...</td>\n",
       "      <td>0</td>\n",
       "    </tr>\n",
       "    <tr>\n",
       "      <th>65818</th>\n",
       "      <td>65885</td>\n",
       "      <td>After reading the pivorse one it is the best p...</td>\n",
       "      <td>0</td>\n",
       "    </tr>\n",
       "    <tr>\n",
       "      <th>136562</th>\n",
       "      <td>136700</td>\n",
       "      <td>The comments you have referred are about  his ...</td>\n",
       "      <td>0</td>\n",
       "    </tr>\n",
       "    <tr>\n",
       "      <th>103070</th>\n",
       "      <td>103167</td>\n",
       "      <td>\"\\n\\nNo, Dolphin52, you have not provided any ...</td>\n",
       "      <td>0</td>\n",
       "    </tr>\n",
       "  </tbody>\n",
       "</table>\n",
       "</div>"
      ],
      "text/plain": [
       "        Unnamed: 0                                               text  toxic\n",
       "33636        33676  \"\\n\\nMilton, MA\\nHey Markles, I was hoping you...      0\n",
       "136034      136172  \"\\n\\ncats\\nYou should fill up Category:Hindus_...      0\n",
       "65818        65885  After reading the pivorse one it is the best p...      0\n",
       "136562      136700  The comments you have referred are about  his ...      0\n",
       "103070      103167  \"\\n\\nNo, Dolphin52, you have not provided any ...      0"
      ]
     },
     "metadata": {},
     "output_type": "display_data"
    },
    {
     "data": {
      "text/html": [
       "<div>\n",
       "<style scoped>\n",
       "    .dataframe tbody tr th:only-of-type {\n",
       "        vertical-align: middle;\n",
       "    }\n",
       "\n",
       "    .dataframe tbody tr th {\n",
       "        vertical-align: top;\n",
       "    }\n",
       "\n",
       "    .dataframe thead th {\n",
       "        text-align: right;\n",
       "    }\n",
       "</style>\n",
       "<table border=\"1\" class=\"dataframe\">\n",
       "  <thead>\n",
       "    <tr style=\"text-align: right;\">\n",
       "      <th></th>\n",
       "      <th>text</th>\n",
       "      <th>toxic</th>\n",
       "    </tr>\n",
       "  </thead>\n",
       "  <tbody>\n",
       "    <tr>\n",
       "      <th>95595</th>\n",
       "      <td>His personal Web site has vanished \\n\\nAs of t...</td>\n",
       "      <td>0</td>\n",
       "    </tr>\n",
       "    <tr>\n",
       "      <th>103084</th>\n",
       "      <td>\"\\n\\nFebruary 22\\n Please stop adding nonsense...</td>\n",
       "      <td>0</td>\n",
       "    </tr>\n",
       "    <tr>\n",
       "      <th>152402</th>\n",
       "      <td>Who and Why keeps deleting the I Stand Alone s...</td>\n",
       "      <td>0</td>\n",
       "    </tr>\n",
       "    <tr>\n",
       "      <th>9206</th>\n",
       "      <td>It's amazing a group of suspiciously coordinat...</td>\n",
       "      <td>0</td>\n",
       "    </tr>\n",
       "    <tr>\n",
       "      <th>75347</th>\n",
       "      <td>Please delete the Draft:Later Sui Empire. I Wa...</td>\n",
       "      <td>0</td>\n",
       "    </tr>\n",
       "  </tbody>\n",
       "</table>\n",
       "</div>"
      ],
      "text/plain": [
       "                                                     text  toxic\n",
       "95595   His personal Web site has vanished \\n\\nAs of t...      0\n",
       "103084  \"\\n\\nFebruary 22\\n Please stop adding nonsense...      0\n",
       "152402  Who and Why keeps deleting the I Stand Alone s...      0\n",
       "9206    It's amazing a group of suspiciously coordinat...      0\n",
       "75347   Please delete the Draft:Later Sui Empire. I Wa...      0"
      ]
     },
     "metadata": {},
     "output_type": "display_data"
    }
   ],
   "source": [
    "data = pd.read_csv('/datasets/toxic_comments.csv')\n",
    "display(data.sample(5))\n",
    "\n",
    "#Избавимся от столбца Unnamed т.к. бесполезен\n",
    "\n",
    "data = data.drop(columns = ['Unnamed: 0'], axis = 1)\n",
    "display(data.sample(5))"
   ]
  },
  {
   "cell_type": "code",
   "execution_count": 4,
   "metadata": {
    "scrolled": true
   },
   "outputs": [
    {
     "data": {
      "image/png": "[encoded data removed]",
      "text/plain": [
       "<Figure size 432x288 with 1 Axes>"
      ]
     },
     "metadata": {},
     "output_type": "display_data"
    }
   ],
   "source": [
    "#Проверим количество текста токсик \n",
    "\n",
    "data.groupby('toxic')['text'].count().plot(kind = 'pie', autopct = '%.1f')\n",
    "plt.title('Распределение целевого признака')\n",
    "plt.show()"
   ]
  },
  {
   "cell_type": "markdown",
   "metadata": {},
   "source": [
    "### Предобработка информации для классических алгоритмов МО (не нейронная сеть) "
   ]
  },
  {
   "cell_type": "markdown",
   "metadata": {},
   "source": [
    "<div style = \"border:solid Green 2px; padding: 20px\">\n",
    "    Предобработка в данном разделе <b>должна</b> состоять из следующих пунктов:\n",
    "    \n",
    "- Разделим на X и y выборку \n",
    "- Преобразуем текст в формат юникод \n",
    "- Лемматизировать и очистить выборку\n",
    "- Разделить на трейновую и тестовую выборки\n",
    "- Выгрузим стопслова на английском \n",
    "- Обучить TfidfVectorizer на трейновой и тестовой выборке"
   ]
  },
  {
   "cell_type": "code",
   "execution_count": 5,
   "metadata": {},
   "outputs": [],
   "source": [
    "# Осуществляем деление на трейн и тест выборку \n",
    "\n",
    "X = data['text']\n",
    "y = data['toxic']"
   ]
  },
  {
   "cell_type": "code",
   "execution_count": 6,
   "metadata": {},
   "outputs": [
    {
     "data": {
      "text/plain": [
       "0    Explanation\\nWhy the edits made under my usern...\n",
       "1    D'aww! He matches this background colour I'm s...\n",
       "2    Hey man, I'm really not trying to edit war. It...\n",
       "3    \"\\nMore\\nI can't make any real suggestions on ...\n",
       "4    You, sir, are my hero. Any chance you remember...\n",
       "Name: text, dtype: object"
      ]
     },
     "execution_count": 6,
     "metadata": {},
     "output_type": "execute_result"
    }
   ],
   "source": [
    "X.head()"
   ]
  },
  {
   "cell_type": "code",
   "execution_count": 7,
   "metadata": {},
   "outputs": [
    {
     "data": {
      "application/vnd.jupyter.widget-view+json": {
       "model_id": "153f1891a3a245e18c3e7ddd4d6b0fc4",
       "version_major": 2,
       "version_minor": 0
      },
      "text/plain": [
       "  0%|          | 0/159292 [00:00<?, ?it/s]"
      ]
     },
     "metadata": {},
     "output_type": "display_data"
    }
   ],
   "source": [
    "# Понизим регистр, очистим выгрузку от лишних символов, произведем лемматизацию \n",
    "\n",
    "X_clear = []\n",
    "\n",
    "nlp = spacy.load('en_core_web_sm', disable=['parser', 'ner'])\n",
    "\n",
    "for i in tqdm(X):\n",
    "\n",
    "    low_one = i.lower()\n",
    "    clear_one = re.sub(r'[^a-z]', ' ', low_one)\n",
    "    clear_one = ' '.join(clear_one.split())\n",
    "    \n",
    "    doc = nlp(clear_one)\n",
    "    lemmas = \" \".join([token.lemma_ for token in doc])\n",
    "\n",
    "    X_clear.append(lemmas)"
   ]
  },
  {
   "cell_type": "code",
   "execution_count": 8,
   "metadata": {
    "scrolled": true
   },
   "outputs": [
    {
     "data": {
      "text/plain": [
       "0    explanation why the edit make under my usernam...\n",
       "1    d aww he match this background colour I m seem...\n",
       "2    hey man I m really not try to edit war it s ju...\n",
       "3    more I can t make any real suggestion on impro...\n",
       "4    you sir be my hero any chance you remember wha...\n",
       "dtype: object"
      ]
     },
     "execution_count": 8,
     "metadata": {},
     "output_type": "execute_result"
    }
   ],
   "source": [
    "X_clear = pd.Series(X_clear)\n",
    "X_clear.head()"
   ]
  },
  {
   "cell_type": "code",
   "execution_count": 9,
   "metadata": {},
   "outputs": [],
   "source": [
    "X_train, X_test, y_train, y_test = train_test_split (X_clear, y, test_size = 0.25, random_state = 12341, stratify=y)"
   ]
  },
  {
   "cell_type": "code",
   "execution_count": 10,
   "metadata": {},
   "outputs": [
    {
     "name": "stdout",
     "output_type": "stream",
     "text": [
      "Корректно\n",
      "Корректно\n"
     ]
    }
   ],
   "source": [
    "def check_train_test (X, y):\n",
    "    if X.index.equals(y.index) and len(X) == len(y):\n",
    "        print('Корректно')\n",
    "    else:\n",
    "        print('Некорректно, проверь')\n",
    "\n",
    "check_train_test (X_train, y_train)\n",
    "check_train_test (X_test, y_test)           "
   ]
  },
  {
   "cell_type": "code",
   "execution_count": 11,
   "metadata": {},
   "outputs": [
    {
     "name": "stderr",
     "output_type": "stream",
     "text": [
      "[nltk_data] Downloading package stopwords to /home/jovyan/nltk_data...\n",
      "[nltk_data]   Package stopwords is already up-to-date!\n"
     ]
    }
   ],
   "source": [
    "#Вычислим TF-IDF, засовываем в пайплайн\n",
    "\n",
    "nltk.download('stopwords')\n",
    "stopwords = list(nltk_stopwords.words('english'))\n",
    "\n",
    "#count_tf_idf = TfidfVectorizer(stop_words = stopwords)\n",
    "\n",
    "#X_train_tf_idf = count_tf_idf.fit_transform(X_train)\n",
    "#X_test_tf_idf = count_tf_idf.transform(X_test)"
   ]
  },
  {
   "cell_type": "markdown",
   "metadata": {},
   "source": [
    "## Обучение"
   ]
  },
  {
   "cell_type": "markdown",
   "metadata": {},
   "source": [
    "### Обучение с использованием классических моделей МО"
   ]
  },
  {
   "cell_type": "markdown",
   "metadata": {},
   "source": [
    "<div style = 'border: solid green 2px; padding: 20px'>\n",
    "    \n",
    "    Для обучения необходимо выполнить следующие пункты: \n",
    "    \n",
    "    - обучить модель, с использованием кросс-валидации подобрать лучшую модель/параметры\n",
    "    - Провести предсказания на тестовой выборке \n",
    "   "
   ]
  },
  {
   "cell_type": "code",
   "execution_count": 13,
   "metadata": {
    "scrolled": true
   },
   "outputs": [
    {
     "name": "stdout",
     "output_type": "stream",
     "text": [
      "Learning rate set to 0.059072\n",
      "0:\tlearn: 0.6306413\ttotal: 1.78s\tremaining: 29m 35s\n",
      "1:\tlearn: 0.5796525\ttotal: 2.95s\tremaining: 24m 30s\n",
      "2:\tlearn: 0.5324306\ttotal: 4.2s\tremaining: 23m 16s\n",
      "3:\tlearn: 0.4928697\ttotal: 5.42s\tremaining: 22m 28s\n",
      "4:\tlearn: 0.4598213\ttotal: 6.66s\tremaining: 22m 5s\n",
      "5:\tlearn: 0.4313829\ttotal: 7.92s\tremaining: 21m 51s\n",
      "6:\tlearn: 0.4052481\ttotal: 9.23s\tremaining: 21m 49s\n",
      "7:\tlearn: 0.3818867\ttotal: 10.5s\tremaining: 21m 45s\n",
      "8:\tlearn: 0.3624190\ttotal: 11.8s\tremaining: 21m 42s\n",
      "9:\tlearn: 0.3463652\ttotal: 13.1s\tremaining: 21m 40s\n",
      "10:\tlearn: 0.3323176\ttotal: 14.4s\tremaining: 21m 33s\n",
      "11:\tlearn: 0.3203433\ttotal: 15.7s\tremaining: 21m 28s\n",
      "12:\tlearn: 0.3088865\ttotal: 17s\tremaining: 21m 27s\n",
      "13:\tlearn: 0.2987376\ttotal: 18.2s\tremaining: 21m 24s\n",
      "14:\tlearn: 0.2901084\ttotal: 19.5s\tremaining: 21m 20s\n",
      "15:\tlearn: 0.2822234\ttotal: 20.8s\tremaining: 21m 16s\n",
      "16:\tlearn: 0.2751914\ttotal: 22s\tremaining: 21m 12s\n",
      "17:\tlearn: 0.2689812\ttotal: 23.3s\tremaining: 21m 9s\n",
      "18:\tlearn: 0.2632403\ttotal: 24.6s\tremaining: 21m 10s\n",
      "19:\tlearn: 0.2584087\ttotal: 25.9s\tremaining: 21m 8s\n",
      "20:\tlearn: 0.2544964\ttotal: 27.2s\tremaining: 21m 6s\n",
      "21:\tlearn: 0.2500475\ttotal: 28.4s\tremaining: 21m 3s\n",
      "22:\tlearn: 0.2467176\ttotal: 29.6s\tremaining: 20m 58s\n",
      "23:\tlearn: 0.2436031\ttotal: 30.9s\tremaining: 20m 55s\n",
      "24:\tlearn: 0.2405517\ttotal: 32.2s\tremaining: 20m 53s\n",
      "25:\tlearn: 0.2374809\ttotal: 33.4s\tremaining: 20m 51s\n",
      "26:\tlearn: 0.2350861\ttotal: 34.6s\tremaining: 20m 48s\n",
      "27:\tlearn: 0.2325870\ttotal: 35.9s\tremaining: 20m 46s\n",
      "28:\tlearn: 0.2304452\ttotal: 37.2s\tremaining: 20m 45s\n",
      "29:\tlearn: 0.2287018\ttotal: 38.5s\tremaining: 20m 43s\n",
      "30:\tlearn: 0.2267099\ttotal: 39.7s\tremaining: 20m 41s\n",
      "31:\tlearn: 0.2249261\ttotal: 41s\tremaining: 20m 40s\n",
      "32:\tlearn: 0.2233909\ttotal: 42.3s\tremaining: 20m 38s\n",
      "33:\tlearn: 0.2220446\ttotal: 43.5s\tremaining: 20m 35s\n",
      "34:\tlearn: 0.2208090\ttotal: 44.7s\tremaining: 20m 33s\n",
      "35:\tlearn: 0.2195194\ttotal: 46s\tremaining: 20m 30s\n",
      "36:\tlearn: 0.2182681\ttotal: 47.3s\tremaining: 20m 29s\n",
      "37:\tlearn: 0.2170996\ttotal: 48.5s\tremaining: 20m 27s\n",
      "38:\tlearn: 0.2160003\ttotal: 49.8s\tremaining: 20m 25s\n",
      "39:\tlearn: 0.2149252\ttotal: 51s\tremaining: 20m 25s\n",
      "40:\tlearn: 0.2139811\ttotal: 52.3s\tremaining: 20m 23s\n",
      "41:\tlearn: 0.2129439\ttotal: 53.5s\tremaining: 20m 20s\n",
      "42:\tlearn: 0.2120320\ttotal: 54.7s\tremaining: 20m 18s\n",
      "43:\tlearn: 0.2111000\ttotal: 56s\tremaining: 20m 16s\n",
      "44:\tlearn: 0.2101007\ttotal: 57.2s\tremaining: 20m 14s\n",
      "45:\tlearn: 0.2089817\ttotal: 58.5s\tremaining: 20m 13s\n",
      "46:\tlearn: 0.2083368\ttotal: 59.8s\tremaining: 20m 11s\n",
      "47:\tlearn: 0.2073640\ttotal: 1m 1s\tremaining: 20m 10s\n",
      "48:\tlearn: 0.2064002\ttotal: 1m 2s\tremaining: 20m 8s\n",
      "49:\tlearn: 0.2055957\ttotal: 1m 3s\tremaining: 20m 6s\n",
      "50:\tlearn: 0.2050039\ttotal: 1m 4s\tremaining: 20m 4s\n",
      "51:\tlearn: 0.2043345\ttotal: 1m 6s\tremaining: 20m 3s\n",
      "52:\tlearn: 0.2037170\ttotal: 1m 7s\tremaining: 20m 2s\n",
      "53:\tlearn: 0.2027812\ttotal: 1m 8s\tremaining: 20m 1s\n",
      "54:\tlearn: 0.2021602\ttotal: 1m 9s\tremaining: 19m 59s\n",
      "55:\tlearn: 0.2016234\ttotal: 1m 11s\tremaining: 19m 58s\n",
      "56:\tlearn: 0.2007250\ttotal: 1m 12s\tremaining: 19m 58s\n",
      "57:\tlearn: 0.2000117\ttotal: 1m 13s\tremaining: 19m 57s\n",
      "58:\tlearn: 0.1995164\ttotal: 1m 14s\tremaining: 19m 55s\n",
      "59:\tlearn: 0.1989557\ttotal: 1m 16s\tremaining: 19m 54s\n",
      "60:\tlearn: 0.1984786\ttotal: 1m 17s\tremaining: 19m 52s\n",
      "61:\tlearn: 0.1978358\ttotal: 1m 18s\tremaining: 19m 51s\n",
      "62:\tlearn: 0.1973216\ttotal: 1m 19s\tremaining: 19m 49s\n",
      "63:\tlearn: 0.1966731\ttotal: 1m 21s\tremaining: 19m 47s\n",
      "64:\tlearn: 0.1961581\ttotal: 1m 22s\tremaining: 19m 45s\n",
      "65:\tlearn: 0.1954984\ttotal: 1m 23s\tremaining: 19m 44s\n",
      "66:\tlearn: 0.1949870\ttotal: 1m 24s\tremaining: 19m 42s\n",
      "67:\tlearn: 0.1943387\ttotal: 1m 26s\tremaining: 19m 41s\n",
      "68:\tlearn: 0.1939645\ttotal: 1m 27s\tremaining: 19m 40s\n",
      "69:\tlearn: 0.1934859\ttotal: 1m 28s\tremaining: 19m 38s\n",
      "70:\tlearn: 0.1930383\ttotal: 1m 29s\tremaining: 19m 36s\n",
      "71:\tlearn: 0.1925880\ttotal: 1m 31s\tremaining: 19m 34s\n",
      "72:\tlearn: 0.1920876\ttotal: 1m 32s\tremaining: 19m 32s\n",
      "73:\tlearn: 0.1915634\ttotal: 1m 33s\tremaining: 19m 31s\n",
      "74:\tlearn: 0.1911904\ttotal: 1m 34s\tremaining: 19m 29s\n",
      "75:\tlearn: 0.1907981\ttotal: 1m 36s\tremaining: 19m 27s\n",
      "76:\tlearn: 0.1902747\ttotal: 1m 37s\tremaining: 19m 26s\n",
      "77:\tlearn: 0.1899040\ttotal: 1m 38s\tremaining: 19m 24s\n",
      "78:\tlearn: 0.1893539\ttotal: 1m 39s\tremaining: 19m 22s\n",
      "79:\tlearn: 0.1890218\ttotal: 1m 40s\tremaining: 19m 21s\n",
      "80:\tlearn: 0.1886453\ttotal: 1m 42s\tremaining: 19m 19s\n",
      "81:\tlearn: 0.1880769\ttotal: 1m 43s\tremaining: 19m 18s\n",
      "82:\tlearn: 0.1876618\ttotal: 1m 44s\tremaining: 19m 16s\n",
      "83:\tlearn: 0.1873113\ttotal: 1m 45s\tremaining: 19m 14s\n",
      "84:\tlearn: 0.1868528\ttotal: 1m 47s\tremaining: 19m 13s\n",
      "85:\tlearn: 0.1864780\ttotal: 1m 48s\tremaining: 19m 11s\n",
      "86:\tlearn: 0.1860145\ttotal: 1m 49s\tremaining: 19m 9s\n",
      "87:\tlearn: 0.1855185\ttotal: 1m 50s\tremaining: 19m 7s\n",
      "88:\tlearn: 0.1850852\ttotal: 1m 51s\tremaining: 19m 5s\n",
      "89:\tlearn: 0.1847517\ttotal: 1m 53s\tremaining: 19m 4s\n",
      "90:\tlearn: 0.1843690\ttotal: 1m 54s\tremaining: 19m 2s\n",
      "91:\tlearn: 0.1841025\ttotal: 1m 55s\tremaining: 19m 1s\n",
      "92:\tlearn: 0.1837577\ttotal: 1m 56s\tremaining: 19m\n",
      "93:\tlearn: 0.1834462\ttotal: 1m 58s\tremaining: 18m 59s\n",
      "94:\tlearn: 0.1830113\ttotal: 1m 59s\tremaining: 18m 58s\n",
      "95:\tlearn: 0.1827644\ttotal: 2m\tremaining: 18m 56s\n",
      "96:\tlearn: 0.1823502\ttotal: 2m 1s\tremaining: 18m 55s\n",
      "97:\tlearn: 0.1819802\ttotal: 2m 3s\tremaining: 18m 54s\n",
      "98:\tlearn: 0.1816927\ttotal: 2m 4s\tremaining: 18m 53s\n",
      "99:\tlearn: 0.1812671\ttotal: 2m 5s\tremaining: 18m 52s\n",
      "100:\tlearn: 0.1807545\ttotal: 2m 7s\tremaining: 18m 52s\n",
      "101:\tlearn: 0.1804791\ttotal: 2m 8s\tremaining: 18m 51s\n",
      "102:\tlearn: 0.1801105\ttotal: 2m 9s\tremaining: 18m 49s\n",
      "103:\tlearn: 0.1798258\ttotal: 2m 10s\tremaining: 18m 48s\n",
      "104:\tlearn: 0.1795773\ttotal: 2m 12s\tremaining: 18m 46s\n",
      "105:\tlearn: 0.1792800\ttotal: 2m 13s\tremaining: 18m 45s\n",
      "106:\tlearn: 0.1790139\ttotal: 2m 14s\tremaining: 18m 43s\n",
      "107:\tlearn: 0.1787556\ttotal: 2m 15s\tremaining: 18m 42s\n",
      "108:\tlearn: 0.1785375\ttotal: 2m 17s\tremaining: 18m 41s\n",
      "109:\tlearn: 0.1782156\ttotal: 2m 18s\tremaining: 18m 39s\n",
      "110:\tlearn: 0.1779913\ttotal: 2m 19s\tremaining: 18m 38s\n",
      "111:\tlearn: 0.1776998\ttotal: 2m 20s\tremaining: 18m 36s\n",
      "112:\tlearn: 0.1774622\ttotal: 2m 22s\tremaining: 18m 34s\n",
      "113:\tlearn: 0.1771185\ttotal: 2m 23s\tremaining: 18m 33s\n",
      "114:\tlearn: 0.1768331\ttotal: 2m 24s\tremaining: 18m 32s\n",
      "115:\tlearn: 0.1765542\ttotal: 2m 25s\tremaining: 18m 30s\n",
      "116:\tlearn: 0.1763286\ttotal: 2m 26s\tremaining: 18m 29s\n",
      "117:\tlearn: 0.1760449\ttotal: 2m 28s\tremaining: 18m 27s\n",
      "118:\tlearn: 0.1757710\ttotal: 2m 29s\tremaining: 18m 26s\n",
      "119:\tlearn: 0.1754916\ttotal: 2m 30s\tremaining: 18m 24s\n",
      "120:\tlearn: 0.1752419\ttotal: 2m 31s\tremaining: 18m 22s\n",
      "121:\tlearn: 0.1750256\ttotal: 2m 33s\tremaining: 18m 21s\n",
      "122:\tlearn: 0.1747188\ttotal: 2m 34s\tremaining: 18m 19s\n",
      "123:\tlearn: 0.1745016\ttotal: 2m 35s\tremaining: 18m 18s\n",
      "124:\tlearn: 0.1742649\ttotal: 2m 36s\tremaining: 18m 17s\n",
      "125:\tlearn: 0.1740116\ttotal: 2m 38s\tremaining: 18m 16s\n",
      "126:\tlearn: 0.1737122\ttotal: 2m 39s\tremaining: 18m 14s\n",
      "127:\tlearn: 0.1733367\ttotal: 2m 40s\tremaining: 18m 13s\n",
      "128:\tlearn: 0.1730541\ttotal: 2m 41s\tremaining: 18m 11s\n",
      "129:\tlearn: 0.1727851\ttotal: 2m 42s\tremaining: 18m 10s\n",
      "130:\tlearn: 0.1724398\ttotal: 2m 44s\tremaining: 18m 9s\n",
      "131:\tlearn: 0.1721823\ttotal: 2m 45s\tremaining: 18m 7s\n",
      "132:\tlearn: 0.1719196\ttotal: 2m 46s\tremaining: 18m 6s\n",
      "133:\tlearn: 0.1717290\ttotal: 2m 47s\tremaining: 18m 5s\n",
      "134:\tlearn: 0.1714912\ttotal: 2m 49s\tremaining: 18m 3s\n",
      "135:\tlearn: 0.1712858\ttotal: 2m 50s\tremaining: 18m 2s\n",
      "136:\tlearn: 0.1709595\ttotal: 2m 51s\tremaining: 18m\n",
      "137:\tlearn: 0.1707869\ttotal: 2m 52s\tremaining: 17m 58s\n",
      "138:\tlearn: 0.1705462\ttotal: 2m 53s\tremaining: 17m 57s\n",
      "139:\tlearn: 0.1703554\ttotal: 2m 55s\tremaining: 17m 55s\n",
      "140:\tlearn: 0.1701451\ttotal: 2m 56s\tremaining: 17m 54s\n",
      "141:\tlearn: 0.1698618\ttotal: 2m 57s\tremaining: 17m 52s\n",
      "142:\tlearn: 0.1696844\ttotal: 2m 58s\tremaining: 17m 51s\n",
      "143:\tlearn: 0.1694959\ttotal: 3m\tremaining: 17m 50s\n",
      "144:\tlearn: 0.1692840\ttotal: 3m 1s\tremaining: 17m 48s\n",
      "145:\tlearn: 0.1690914\ttotal: 3m 2s\tremaining: 17m 47s\n",
      "146:\tlearn: 0.1687569\ttotal: 3m 3s\tremaining: 17m 46s\n",
      "147:\tlearn: 0.1685615\ttotal: 3m 4s\tremaining: 17m 44s\n",
      "148:\tlearn: 0.1683783\ttotal: 3m 6s\tremaining: 17m 43s\n",
      "149:\tlearn: 0.1681965\ttotal: 3m 7s\tremaining: 17m 42s\n",
      "150:\tlearn: 0.1680161\ttotal: 3m 8s\tremaining: 17m 40s\n",
      "151:\tlearn: 0.1677966\ttotal: 3m 9s\tremaining: 17m 39s\n",
      "152:\tlearn: 0.1675982\ttotal: 3m 11s\tremaining: 17m 38s\n",
      "153:\tlearn: 0.1674371\ttotal: 3m 12s\tremaining: 17m 37s\n",
      "154:\tlearn: 0.1671987\ttotal: 3m 13s\tremaining: 17m 36s\n",
      "155:\tlearn: 0.1670504\ttotal: 3m 14s\tremaining: 17m 34s\n",
      "156:\tlearn: 0.1668108\ttotal: 3m 16s\tremaining: 17m 33s\n",
      "157:\tlearn: 0.1666613\ttotal: 3m 17s\tremaining: 17m 33s\n",
      "158:\tlearn: 0.1664725\ttotal: 3m 18s\tremaining: 17m 32s\n",
      "159:\tlearn: 0.1662840\ttotal: 3m 20s\tremaining: 17m 30s\n",
      "160:\tlearn: 0.1660365\ttotal: 3m 21s\tremaining: 17m 29s\n",
      "161:\tlearn: 0.1658633\ttotal: 3m 22s\tremaining: 17m 28s\n",
      "162:\tlearn: 0.1656570\ttotal: 3m 23s\tremaining: 17m 26s\n",
      "163:\tlearn: 0.1654254\ttotal: 3m 25s\tremaining: 17m 25s\n",
      "164:\tlearn: 0.1651751\ttotal: 3m 26s\tremaining: 17m 23s\n",
      "165:\tlearn: 0.1649941\ttotal: 3m 27s\tremaining: 17m 22s\n",
      "166:\tlearn: 0.1648073\ttotal: 3m 28s\tremaining: 17m 20s\n",
      "167:\tlearn: 0.1645180\ttotal: 3m 29s\tremaining: 17m 19s\n",
      "168:\tlearn: 0.1642582\ttotal: 3m 31s\tremaining: 17m 18s\n",
      "169:\tlearn: 0.1640493\ttotal: 3m 32s\tremaining: 17m 16s\n",
      "170:\tlearn: 0.1638702\ttotal: 3m 33s\tremaining: 17m 15s\n",
      "171:\tlearn: 0.1636805\ttotal: 3m 34s\tremaining: 17m 13s\n",
      "172:\tlearn: 0.1635237\ttotal: 3m 35s\tremaining: 17m 12s\n",
      "173:\tlearn: 0.1632666\ttotal: 3m 37s\tremaining: 17m 11s\n",
      "174:\tlearn: 0.1629900\ttotal: 3m 38s\tremaining: 17m 10s\n",
      "175:\tlearn: 0.1628249\ttotal: 3m 39s\tremaining: 17m 8s\n",
      "176:\tlearn: 0.1626222\ttotal: 3m 40s\tremaining: 17m 7s\n",
      "177:\tlearn: 0.1624425\ttotal: 3m 42s\tremaining: 17m 5s\n",
      "178:\tlearn: 0.1622580\ttotal: 3m 43s\tremaining: 17m 4s\n",
      "179:\tlearn: 0.1618999\ttotal: 3m 44s\tremaining: 17m 3s\n",
      "180:\tlearn: 0.1617706\ttotal: 3m 45s\tremaining: 17m 2s\n",
      "181:\tlearn: 0.1616171\ttotal: 3m 47s\tremaining: 17m\n",
      "182:\tlearn: 0.1613924\ttotal: 3m 48s\tremaining: 16m 59s\n",
      "183:\tlearn: 0.1612401\ttotal: 3m 49s\tremaining: 16m 57s\n",
      "184:\tlearn: 0.1610900\ttotal: 3m 50s\tremaining: 16m 56s\n",
      "185:\tlearn: 0.1609035\ttotal: 3m 51s\tremaining: 16m 54s\n",
      "186:\tlearn: 0.1607421\ttotal: 3m 53s\tremaining: 16m 53s\n",
      "187:\tlearn: 0.1605672\ttotal: 3m 54s\tremaining: 16m 51s\n",
      "188:\tlearn: 0.1603344\ttotal: 3m 55s\tremaining: 16m 50s\n",
      "189:\tlearn: 0.1601877\ttotal: 3m 56s\tremaining: 16m 49s\n",
      "190:\tlearn: 0.1600369\ttotal: 3m 57s\tremaining: 16m 47s\n",
      "191:\tlearn: 0.1598767\ttotal: 3m 59s\tremaining: 16m 46s\n",
      "192:\tlearn: 0.1597361\ttotal: 4m\tremaining: 16m 44s\n",
      "193:\tlearn: 0.1596006\ttotal: 4m 1s\tremaining: 16m 43s\n",
      "194:\tlearn: 0.1594443\ttotal: 4m 2s\tremaining: 16m 41s\n",
      "195:\tlearn: 0.1592997\ttotal: 4m 3s\tremaining: 16m 40s\n",
      "196:\tlearn: 0.1590618\ttotal: 4m 5s\tremaining: 16m 38s\n",
      "197:\tlearn: 0.1589076\ttotal: 4m 6s\tremaining: 16m 37s\n",
      "198:\tlearn: 0.1587469\ttotal: 4m 7s\tremaining: 16m 36s\n",
      "199:\tlearn: 0.1586229\ttotal: 4m 8s\tremaining: 16m 34s\n",
      "200:\tlearn: 0.1584864\ttotal: 4m 9s\tremaining: 16m 32s\n",
      "201:\tlearn: 0.1583685\ttotal: 4m 10s\tremaining: 16m 31s\n",
      "202:\tlearn: 0.1582100\ttotal: 4m 12s\tremaining: 16m 29s\n",
      "203:\tlearn: 0.1580510\ttotal: 4m 13s\tremaining: 16m 28s\n",
      "204:\tlearn: 0.1579239\ttotal: 4m 14s\tremaining: 16m 26s\n",
      "205:\tlearn: 0.1577799\ttotal: 4m 15s\tremaining: 16m 25s\n",
      "206:\tlearn: 0.1575311\ttotal: 4m 16s\tremaining: 16m 24s\n",
      "207:\tlearn: 0.1574225\ttotal: 4m 18s\tremaining: 16m 22s\n",
      "208:\tlearn: 0.1572698\ttotal: 4m 19s\tremaining: 16m 21s\n",
      "209:\tlearn: 0.1570205\ttotal: 4m 20s\tremaining: 16m 20s\n",
      "210:\tlearn: 0.1568325\ttotal: 4m 21s\tremaining: 16m 18s\n",
      "211:\tlearn: 0.1566630\ttotal: 4m 23s\tremaining: 16m 17s\n",
      "212:\tlearn: 0.1564360\ttotal: 4m 24s\tremaining: 16m 16s\n",
      "213:\tlearn: 0.1563020\ttotal: 4m 25s\tremaining: 16m 14s\n",
      "214:\tlearn: 0.1561543\ttotal: 4m 26s\tremaining: 16m 13s\n",
      "215:\tlearn: 0.1560145\ttotal: 4m 27s\tremaining: 16m 12s\n",
      "216:\tlearn: 0.1557964\ttotal: 4m 29s\tremaining: 16m 11s\n",
      "217:\tlearn: 0.1556359\ttotal: 4m 30s\tremaining: 16m 9s\n",
      "218:\tlearn: 0.1554788\ttotal: 4m 31s\tremaining: 16m 8s\n",
      "219:\tlearn: 0.1553596\ttotal: 4m 32s\tremaining: 16m 7s\n",
      "220:\tlearn: 0.1552466\ttotal: 4m 34s\tremaining: 16m 6s\n",
      "221:\tlearn: 0.1550714\ttotal: 4m 35s\tremaining: 16m 4s\n",
      "222:\tlearn: 0.1549455\ttotal: 4m 36s\tremaining: 16m 3s\n",
      "223:\tlearn: 0.1547910\ttotal: 4m 37s\tremaining: 16m 1s\n",
      "224:\tlearn: 0.1546076\ttotal: 4m 38s\tremaining: 16m\n",
      "225:\tlearn: 0.1544918\ttotal: 4m 40s\tremaining: 15m 59s\n",
      "226:\tlearn: 0.1543256\ttotal: 4m 41s\tremaining: 15m 58s\n",
      "227:\tlearn: 0.1541700\ttotal: 4m 42s\tremaining: 15m 56s\n",
      "228:\tlearn: 0.1539511\ttotal: 4m 43s\tremaining: 15m 55s\n",
      "229:\tlearn: 0.1537557\ttotal: 4m 44s\tremaining: 15m 53s\n",
      "230:\tlearn: 0.1536630\ttotal: 4m 46s\tremaining: 15m 52s\n",
      "231:\tlearn: 0.1533952\ttotal: 4m 47s\tremaining: 15m 51s\n",
      "232:\tlearn: 0.1532518\ttotal: 4m 48s\tremaining: 15m 50s\n",
      "233:\tlearn: 0.1531600\ttotal: 4m 49s\tremaining: 15m 48s\n",
      "234:\tlearn: 0.1530706\ttotal: 4m 50s\tremaining: 15m 47s\n",
      "235:\tlearn: 0.1529348\ttotal: 4m 52s\tremaining: 15m 45s\n",
      "236:\tlearn: 0.1527713\ttotal: 4m 53s\tremaining: 15m 44s\n",
      "237:\tlearn: 0.1526221\ttotal: 4m 54s\tremaining: 15m 42s\n",
      "238:\tlearn: 0.1524388\ttotal: 4m 55s\tremaining: 15m 41s\n",
      "239:\tlearn: 0.1523067\ttotal: 4m 56s\tremaining: 15m 40s\n",
      "240:\tlearn: 0.1521969\ttotal: 4m 58s\tremaining: 15m 39s\n",
      "241:\tlearn: 0.1520226\ttotal: 4m 59s\tremaining: 15m 37s\n",
      "242:\tlearn: 0.1518408\ttotal: 5m\tremaining: 15m 36s\n",
      "243:\tlearn: 0.1516925\ttotal: 5m 1s\tremaining: 15m 34s\n",
      "244:\tlearn: 0.1515611\ttotal: 5m 2s\tremaining: 15m 33s\n",
      "245:\tlearn: 0.1514103\ttotal: 5m 4s\tremaining: 15m 32s\n",
      "246:\tlearn: 0.1512638\ttotal: 5m 5s\tremaining: 15m 30s\n",
      "247:\tlearn: 0.1510955\ttotal: 5m 6s\tremaining: 15m 29s\n",
      "248:\tlearn: 0.1509573\ttotal: 5m 7s\tremaining: 15m 28s\n",
      "249:\tlearn: 0.1508662\ttotal: 5m 9s\tremaining: 15m 27s\n",
      "250:\tlearn: 0.1507484\ttotal: 5m 10s\tremaining: 15m 25s\n",
      "251:\tlearn: 0.1505786\ttotal: 5m 11s\tremaining: 15m 24s\n",
      "252:\tlearn: 0.1504846\ttotal: 5m 12s\tremaining: 15m 23s\n",
      "253:\tlearn: 0.1503888\ttotal: 5m 13s\tremaining: 15m 21s\n",
      "254:\tlearn: 0.1502272\ttotal: 5m 15s\tremaining: 15m 20s\n",
      "255:\tlearn: 0.1500923\ttotal: 5m 16s\tremaining: 15m 19s\n",
      "256:\tlearn: 0.1499745\ttotal: 5m 17s\tremaining: 15m 17s\n",
      "257:\tlearn: 0.1498362\ttotal: 5m 18s\tremaining: 15m 16s\n",
      "258:\tlearn: 0.1497497\ttotal: 5m 19s\tremaining: 15m 15s\n",
      "259:\tlearn: 0.1496738\ttotal: 5m 21s\tremaining: 15m 13s\n",
      "260:\tlearn: 0.1494441\ttotal: 5m 22s\tremaining: 15m 12s\n",
      "261:\tlearn: 0.1493349\ttotal: 5m 23s\tremaining: 15m 11s\n",
      "262:\tlearn: 0.1492068\ttotal: 5m 24s\tremaining: 15m 9s\n",
      "263:\tlearn: 0.1490945\ttotal: 5m 25s\tremaining: 15m 8s\n",
      "264:\tlearn: 0.1489524\ttotal: 5m 27s\tremaining: 15m 7s\n",
      "265:\tlearn: 0.1488219\ttotal: 5m 28s\tremaining: 15m 5s\n",
      "266:\tlearn: 0.1486800\ttotal: 5m 29s\tremaining: 15m 4s\n",
      "267:\tlearn: 0.1485818\ttotal: 5m 30s\tremaining: 15m 3s\n",
      "268:\tlearn: 0.1484541\ttotal: 5m 31s\tremaining: 15m 1s\n",
      "269:\tlearn: 0.1483290\ttotal: 5m 33s\tremaining: 15m\n",
      "270:\tlearn: 0.1482062\ttotal: 5m 34s\tremaining: 14m 59s\n",
      "271:\tlearn: 0.1480410\ttotal: 5m 35s\tremaining: 14m 57s\n",
      "272:\tlearn: 0.1478820\ttotal: 5m 36s\tremaining: 14m 56s\n",
      "273:\tlearn: 0.1477011\ttotal: 5m 37s\tremaining: 14m 55s\n",
      "274:\tlearn: 0.1475779\ttotal: 5m 39s\tremaining: 14m 54s\n",
      "275:\tlearn: 0.1474241\ttotal: 5m 40s\tremaining: 14m 52s\n",
      "276:\tlearn: 0.1473001\ttotal: 5m 41s\tremaining: 14m 51s\n",
      "277:\tlearn: 0.1471006\ttotal: 5m 42s\tremaining: 14m 49s\n",
      "278:\tlearn: 0.1469973\ttotal: 5m 43s\tremaining: 14m 48s\n",
      "279:\tlearn: 0.1468591\ttotal: 5m 44s\tremaining: 14m 47s\n",
      "280:\tlearn: 0.1467486\ttotal: 5m 46s\tremaining: 14m 45s\n",
      "281:\tlearn: 0.1466188\ttotal: 5m 47s\tremaining: 14m 44s\n",
      "282:\tlearn: 0.1465275\ttotal: 5m 48s\tremaining: 14m 42s\n",
      "283:\tlearn: 0.1464015\ttotal: 5m 49s\tremaining: 14m 41s\n",
      "284:\tlearn: 0.1462454\ttotal: 5m 50s\tremaining: 14m 39s\n",
      "285:\tlearn: 0.1461695\ttotal: 5m 51s\tremaining: 14m 38s\n",
      "286:\tlearn: 0.1460502\ttotal: 5m 52s\tremaining: 14m 36s\n",
      "287:\tlearn: 0.1458822\ttotal: 5m 54s\tremaining: 14m 35s\n",
      "288:\tlearn: 0.1457052\ttotal: 5m 55s\tremaining: 14m 33s\n",
      "289:\tlearn: 0.1454745\ttotal: 5m 56s\tremaining: 14m 32s\n",
      "290:\tlearn: 0.1453938\ttotal: 5m 57s\tremaining: 14m 31s\n",
      "291:\tlearn: 0.1452547\ttotal: 5m 58s\tremaining: 14m 29s\n",
      "292:\tlearn: 0.1451315\ttotal: 5m 59s\tremaining: 14m 28s\n",
      "293:\tlearn: 0.1450590\ttotal: 6m 1s\tremaining: 14m 26s\n",
      "294:\tlearn: 0.1449226\ttotal: 6m 2s\tremaining: 14m 25s\n",
      "295:\tlearn: 0.1447732\ttotal: 6m 3s\tremaining: 14m 24s\n",
      "296:\tlearn: 0.1446230\ttotal: 6m 4s\tremaining: 14m 22s\n",
      "297:\tlearn: 0.1445086\ttotal: 6m 5s\tremaining: 14m 21s\n",
      "298:\tlearn: 0.1443718\ttotal: 6m 6s\tremaining: 14m 20s\n",
      "299:\tlearn: 0.1442160\ttotal: 6m 8s\tremaining: 14m 18s\n",
      "300:\tlearn: 0.1440733\ttotal: 6m 9s\tremaining: 14m 17s\n",
      "301:\tlearn: 0.1440066\ttotal: 6m 10s\tremaining: 14m 16s\n",
      "302:\tlearn: 0.1439219\ttotal: 6m 11s\tremaining: 14m 14s\n",
      "303:\tlearn: 0.1437408\ttotal: 6m 12s\tremaining: 14m 13s\n",
      "304:\tlearn: 0.1435843\ttotal: 6m 13s\tremaining: 14m 12s\n",
      "305:\tlearn: 0.1435118\ttotal: 6m 15s\tremaining: 14m 10s\n",
      "306:\tlearn: 0.1433717\ttotal: 6m 16s\tremaining: 14m 9s\n",
      "307:\tlearn: 0.1432704\ttotal: 6m 17s\tremaining: 14m 7s\n",
      "308:\tlearn: 0.1431566\ttotal: 6m 18s\tremaining: 14m 6s\n",
      "309:\tlearn: 0.1429696\ttotal: 6m 19s\tremaining: 14m 5s\n",
      "310:\tlearn: 0.1428522\ttotal: 6m 20s\tremaining: 14m 3s\n",
      "311:\tlearn: 0.1427630\ttotal: 6m 21s\tremaining: 14m 2s\n",
      "312:\tlearn: 0.1426346\ttotal: 6m 23s\tremaining: 14m\n",
      "313:\tlearn: 0.1425585\ttotal: 6m 24s\tremaining: 13m 59s\n",
      "314:\tlearn: 0.1424715\ttotal: 6m 25s\tremaining: 13m 58s\n",
      "315:\tlearn: 0.1423528\ttotal: 6m 26s\tremaining: 13m 56s\n",
      "316:\tlearn: 0.1422859\ttotal: 6m 27s\tremaining: 13m 55s\n",
      "317:\tlearn: 0.1422083\ttotal: 6m 28s\tremaining: 13m 54s\n",
      "318:\tlearn: 0.1420556\ttotal: 6m 30s\tremaining: 13m 52s\n",
      "319:\tlearn: 0.1419974\ttotal: 6m 31s\tremaining: 13m 51s\n",
      "320:\tlearn: 0.1418098\ttotal: 6m 32s\tremaining: 13m 50s\n",
      "321:\tlearn: 0.1417138\ttotal: 6m 33s\tremaining: 13m 48s\n",
      "322:\tlearn: 0.1415691\ttotal: 6m 34s\tremaining: 13m 47s\n",
      "323:\tlearn: 0.1414718\ttotal: 6m 35s\tremaining: 13m 46s\n",
      "324:\tlearn: 0.1413796\ttotal: 6m 37s\tremaining: 13m 44s\n",
      "325:\tlearn: 0.1413062\ttotal: 6m 38s\tremaining: 13m 43s\n",
      "326:\tlearn: 0.1412483\ttotal: 6m 39s\tremaining: 13m 42s\n",
      "327:\tlearn: 0.1411112\ttotal: 6m 40s\tremaining: 13m 40s\n",
      "328:\tlearn: 0.1409948\ttotal: 6m 41s\tremaining: 13m 39s\n",
      "329:\tlearn: 0.1409087\ttotal: 6m 42s\tremaining: 13m 38s\n",
      "330:\tlearn: 0.1408287\ttotal: 6m 44s\tremaining: 13m 36s\n",
      "331:\tlearn: 0.1407703\ttotal: 6m 45s\tremaining: 13m 35s\n",
      "332:\tlearn: 0.1406620\ttotal: 6m 46s\tremaining: 13m 33s\n",
      "333:\tlearn: 0.1405358\ttotal: 6m 47s\tremaining: 13m 32s\n",
      "334:\tlearn: 0.1404252\ttotal: 6m 48s\tremaining: 13m 31s\n",
      "335:\tlearn: 0.1403304\ttotal: 6m 49s\tremaining: 13m 29s\n",
      "336:\tlearn: 0.1402243\ttotal: 6m 50s\tremaining: 13m 28s\n",
      "337:\tlearn: 0.1401466\ttotal: 6m 51s\tremaining: 13m 26s\n",
      "338:\tlearn: 0.1400611\ttotal: 6m 52s\tremaining: 13m 25s\n",
      "339:\tlearn: 0.1399432\ttotal: 6m 54s\tremaining: 13m 23s\n",
      "340:\tlearn: 0.1398177\ttotal: 6m 55s\tremaining: 13m 22s\n",
      "341:\tlearn: 0.1396105\ttotal: 6m 56s\tremaining: 13m 21s\n",
      "342:\tlearn: 0.1395469\ttotal: 6m 57s\tremaining: 13m 19s\n",
      "343:\tlearn: 0.1394831\ttotal: 6m 58s\tremaining: 13m 18s\n",
      "344:\tlearn: 0.1393873\ttotal: 6m 59s\tremaining: 13m 17s\n",
      "345:\tlearn: 0.1393102\ttotal: 7m\tremaining: 13m 15s\n",
      "346:\tlearn: 0.1392290\ttotal: 7m 2s\tremaining: 13m 14s\n",
      "347:\tlearn: 0.1391127\ttotal: 7m 3s\tremaining: 13m 12s\n",
      "348:\tlearn: 0.1389842\ttotal: 7m 4s\tremaining: 13m 11s\n",
      "349:\tlearn: 0.1388852\ttotal: 7m 5s\tremaining: 13m 10s\n",
      "350:\tlearn: 0.1388322\ttotal: 7m 6s\tremaining: 13m 8s\n",
      "351:\tlearn: 0.1387305\ttotal: 7m 7s\tremaining: 13m 7s\n",
      "352:\tlearn: 0.1386668\ttotal: 7m 8s\tremaining: 13m 6s\n",
      "353:\tlearn: 0.1386023\ttotal: 7m 9s\tremaining: 13m 4s\n",
      "354:\tlearn: 0.1384904\ttotal: 7m 11s\tremaining: 13m 3s\n",
      "355:\tlearn: 0.1383687\ttotal: 7m 12s\tremaining: 13m 2s\n",
      "356:\tlearn: 0.1382513\ttotal: 7m 13s\tremaining: 13m\n",
      "357:\tlearn: 0.1380834\ttotal: 7m 14s\tremaining: 12m 59s\n",
      "358:\tlearn: 0.1379911\ttotal: 7m 15s\tremaining: 12m 58s\n",
      "359:\tlearn: 0.1378576\ttotal: 7m 16s\tremaining: 12m 56s\n",
      "360:\tlearn: 0.1377649\ttotal: 7m 18s\tremaining: 12m 55s\n",
      "361:\tlearn: 0.1376592\ttotal: 7m 19s\tremaining: 12m 53s\n",
      "362:\tlearn: 0.1376087\ttotal: 7m 20s\tremaining: 12m 52s\n",
      "363:\tlearn: 0.1375062\ttotal: 7m 21s\tremaining: 12m 51s\n",
      "364:\tlearn: 0.1374332\ttotal: 7m 22s\tremaining: 12m 49s\n",
      "365:\tlearn: 0.1373685\ttotal: 7m 23s\tremaining: 12m 48s\n",
      "366:\tlearn: 0.1372801\ttotal: 7m 24s\tremaining: 12m 47s\n",
      "367:\tlearn: 0.1371859\ttotal: 7m 25s\tremaining: 12m 45s\n",
      "368:\tlearn: 0.1371329\ttotal: 7m 26s\tremaining: 12m 44s\n",
      "369:\tlearn: 0.1370585\ttotal: 7m 28s\tremaining: 12m 42s\n",
      "370:\tlearn: 0.1369540\ttotal: 7m 29s\tremaining: 12m 41s\n",
      "371:\tlearn: 0.1368436\ttotal: 7m 30s\tremaining: 12m 40s\n",
      "372:\tlearn: 0.1367774\ttotal: 7m 31s\tremaining: 12m 38s\n",
      "373:\tlearn: 0.1366969\ttotal: 7m 32s\tremaining: 12m 37s\n",
      "374:\tlearn: 0.1366470\ttotal: 7m 33s\tremaining: 12m 36s\n",
      "375:\tlearn: 0.1365823\ttotal: 7m 34s\tremaining: 12m 34s\n",
      "376:\tlearn: 0.1365191\ttotal: 7m 35s\tremaining: 12m 33s\n",
      "377:\tlearn: 0.1364220\ttotal: 7m 37s\tremaining: 12m 32s\n",
      "378:\tlearn: 0.1363340\ttotal: 7m 38s\tremaining: 12m 30s\n",
      "379:\tlearn: 0.1361771\ttotal: 7m 39s\tremaining: 12m 29s\n",
      "380:\tlearn: 0.1361261\ttotal: 7m 40s\tremaining: 12m 28s\n",
      "381:\tlearn: 0.1360594\ttotal: 7m 41s\tremaining: 12m 26s\n",
      "382:\tlearn: 0.1359620\ttotal: 7m 42s\tremaining: 12m 25s\n",
      "383:\tlearn: 0.1358220\ttotal: 7m 43s\tremaining: 12m 24s\n",
      "384:\tlearn: 0.1357705\ttotal: 7m 44s\tremaining: 12m 22s\n",
      "385:\tlearn: 0.1356505\ttotal: 7m 46s\tremaining: 12m 21s\n",
      "386:\tlearn: 0.1355910\ttotal: 7m 47s\tremaining: 12m 20s\n",
      "387:\tlearn: 0.1355424\ttotal: 7m 48s\tremaining: 12m 18s\n",
      "388:\tlearn: 0.1354896\ttotal: 7m 49s\tremaining: 12m 17s\n",
      "389:\tlearn: 0.1353901\ttotal: 7m 50s\tremaining: 12m 16s\n",
      "390:\tlearn: 0.1353137\ttotal: 7m 51s\tremaining: 12m 14s\n",
      "391:\tlearn: 0.1352313\ttotal: 7m 52s\tremaining: 12m 13s\n",
      "392:\tlearn: 0.1351361\ttotal: 7m 53s\tremaining: 12m 12s\n",
      "393:\tlearn: 0.1350492\ttotal: 7m 55s\tremaining: 12m 10s\n",
      "394:\tlearn: 0.1348704\ttotal: 7m 56s\tremaining: 12m 9s\n",
      "395:\tlearn: 0.1347889\ttotal: 7m 57s\tremaining: 12m 8s\n",
      "396:\tlearn: 0.1346930\ttotal: 7m 58s\tremaining: 12m 6s\n",
      "397:\tlearn: 0.1345996\ttotal: 7m 59s\tremaining: 12m 5s\n",
      "398:\tlearn: 0.1344753\ttotal: 8m 1s\tremaining: 12m 4s\n",
      "399:\tlearn: 0.1343465\ttotal: 8m 2s\tremaining: 12m 3s\n",
      "400:\tlearn: 0.1341985\ttotal: 8m 3s\tremaining: 12m 2s\n",
      "401:\tlearn: 0.1340734\ttotal: 8m 4s\tremaining: 12m\n",
      "402:\tlearn: 0.1340006\ttotal: 8m 5s\tremaining: 11m 59s\n",
      "403:\tlearn: 0.1338845\ttotal: 8m 6s\tremaining: 11m 58s\n",
      "404:\tlearn: 0.1337799\ttotal: 8m 8s\tremaining: 11m 57s\n",
      "405:\tlearn: 0.1337120\ttotal: 8m 9s\tremaining: 11m 55s\n",
      "406:\tlearn: 0.1336448\ttotal: 8m 10s\tremaining: 11m 54s\n",
      "407:\tlearn: 0.1335780\ttotal: 8m 11s\tremaining: 11m 53s\n",
      "408:\tlearn: 0.1335322\ttotal: 8m 12s\tremaining: 11m 51s\n",
      "409:\tlearn: 0.1334742\ttotal: 8m 13s\tremaining: 11m 50s\n",
      "410:\tlearn: 0.1333260\ttotal: 8m 14s\tremaining: 11m 49s\n",
      "411:\tlearn: 0.1332559\ttotal: 8m 16s\tremaining: 11m 47s\n",
      "412:\tlearn: 0.1331833\ttotal: 8m 17s\tremaining: 11m 46s\n",
      "413:\tlearn: 0.1330724\ttotal: 8m 18s\tremaining: 11m 45s\n",
      "414:\tlearn: 0.1330239\ttotal: 8m 19s\tremaining: 11m 44s\n",
      "415:\tlearn: 0.1329512\ttotal: 8m 20s\tremaining: 11m 42s\n",
      "416:\tlearn: 0.1328507\ttotal: 8m 21s\tremaining: 11m 41s\n",
      "417:\tlearn: 0.1327426\ttotal: 8m 23s\tremaining: 11m 40s\n",
      "418:\tlearn: 0.1326555\ttotal: 8m 24s\tremaining: 11m 39s\n",
      "419:\tlearn: 0.1326031\ttotal: 8m 25s\tremaining: 11m 38s\n",
      "420:\tlearn: 0.1324679\ttotal: 8m 26s\tremaining: 11m 36s\n",
      "421:\tlearn: 0.1323917\ttotal: 8m 27s\tremaining: 11m 35s\n",
      "422:\tlearn: 0.1323042\ttotal: 8m 29s\tremaining: 11m 34s\n",
      "423:\tlearn: 0.1322376\ttotal: 8m 30s\tremaining: 11m 33s\n",
      "424:\tlearn: 0.1321533\ttotal: 8m 31s\tremaining: 11m 31s\n",
      "425:\tlearn: 0.1321105\ttotal: 8m 32s\tremaining: 11m 30s\n",
      "426:\tlearn: 0.1320685\ttotal: 8m 33s\tremaining: 11m 29s\n",
      "427:\tlearn: 0.1319709\ttotal: 8m 34s\tremaining: 11m 28s\n",
      "428:\tlearn: 0.1319046\ttotal: 8m 36s\tremaining: 11m 26s\n",
      "429:\tlearn: 0.1318400\ttotal: 8m 37s\tremaining: 11m 25s\n",
      "430:\tlearn: 0.1317869\ttotal: 8m 38s\tremaining: 11m 24s\n",
      "431:\tlearn: 0.1317330\ttotal: 8m 39s\tremaining: 11m 23s\n",
      "432:\tlearn: 0.1316915\ttotal: 8m 40s\tremaining: 11m 21s\n",
      "433:\tlearn: 0.1316501\ttotal: 8m 41s\tremaining: 11m 20s\n",
      "434:\tlearn: 0.1315655\ttotal: 8m 42s\tremaining: 11m 19s\n",
      "435:\tlearn: 0.1314505\ttotal: 8m 44s\tremaining: 11m 17s\n",
      "436:\tlearn: 0.1313153\ttotal: 8m 45s\tremaining: 11m 16s\n",
      "437:\tlearn: 0.1312414\ttotal: 8m 46s\tremaining: 11m 15s\n",
      "438:\tlearn: 0.1311600\ttotal: 8m 47s\tremaining: 11m 14s\n",
      "439:\tlearn: 0.1311208\ttotal: 8m 48s\tremaining: 11m 13s\n",
      "440:\tlearn: 0.1310796\ttotal: 8m 50s\tremaining: 11m 11s\n",
      "441:\tlearn: 0.1310269\ttotal: 8m 51s\tremaining: 11m 10s\n",
      "442:\tlearn: 0.1309598\ttotal: 8m 52s\tremaining: 11m 9s\n",
      "443:\tlearn: 0.1308633\ttotal: 8m 53s\tremaining: 11m 7s\n",
      "444:\tlearn: 0.1308013\ttotal: 8m 54s\tremaining: 11m 6s\n",
      "445:\tlearn: 0.1306940\ttotal: 8m 55s\tremaining: 11m 5s\n",
      "446:\tlearn: 0.1305688\ttotal: 8m 57s\tremaining: 11m 4s\n",
      "447:\tlearn: 0.1305319\ttotal: 8m 58s\tremaining: 11m 3s\n",
      "448:\tlearn: 0.1304844\ttotal: 8m 59s\tremaining: 11m 1s\n",
      "449:\tlearn: 0.1304462\ttotal: 9m\tremaining: 11m\n",
      "450:\tlearn: 0.1304093\ttotal: 9m 1s\tremaining: 10m 59s\n",
      "451:\tlearn: 0.1303493\ttotal: 9m 2s\tremaining: 10m 58s\n",
      "452:\tlearn: 0.1302861\ttotal: 9m 3s\tremaining: 10m 56s\n",
      "453:\tlearn: 0.1301642\ttotal: 9m 5s\tremaining: 10m 55s\n",
      "454:\tlearn: 0.1301280\ttotal: 9m 6s\tremaining: 10m 54s\n",
      "455:\tlearn: 0.1300037\ttotal: 9m 7s\tremaining: 10m 53s\n",
      "456:\tlearn: 0.1299475\ttotal: 9m 8s\tremaining: 10m 52s\n",
      "457:\tlearn: 0.1299050\ttotal: 9m 9s\tremaining: 10m 50s\n",
      "458:\tlearn: 0.1297716\ttotal: 9m 11s\tremaining: 10m 49s\n",
      "459:\tlearn: 0.1297191\ttotal: 9m 12s\tremaining: 10m 48s\n",
      "460:\tlearn: 0.1296227\ttotal: 9m 13s\tremaining: 10m 47s\n",
      "461:\tlearn: 0.1295848\ttotal: 9m 14s\tremaining: 10m 45s\n",
      "462:\tlearn: 0.1295497\ttotal: 9m 15s\tremaining: 10m 44s\n",
      "463:\tlearn: 0.1294526\ttotal: 9m 16s\tremaining: 10m 43s\n",
      "464:\tlearn: 0.1293002\ttotal: 9m 18s\tremaining: 10m 42s\n",
      "465:\tlearn: 0.1292646\ttotal: 9m 19s\tremaining: 10m 40s\n",
      "466:\tlearn: 0.1291468\ttotal: 9m 20s\tremaining: 10m 39s\n",
      "467:\tlearn: 0.1290765\ttotal: 9m 21s\tremaining: 10m 38s\n",
      "468:\tlearn: 0.1290037\ttotal: 9m 22s\tremaining: 10m 37s\n",
      "469:\tlearn: 0.1289255\ttotal: 9m 23s\tremaining: 10m 35s\n",
      "470:\tlearn: 0.1288793\ttotal: 9m 24s\tremaining: 10m 34s\n",
      "471:\tlearn: 0.1287659\ttotal: 9m 26s\tremaining: 10m 33s\n",
      "472:\tlearn: 0.1287298\ttotal: 9m 27s\tremaining: 10m 32s\n",
      "473:\tlearn: 0.1286915\ttotal: 9m 28s\tremaining: 10m 30s\n",
      "474:\tlearn: 0.1286433\ttotal: 9m 29s\tremaining: 10m 29s\n",
      "475:\tlearn: 0.1285422\ttotal: 9m 30s\tremaining: 10m 28s\n",
      "476:\tlearn: 0.1285089\ttotal: 9m 31s\tremaining: 10m 27s\n",
      "477:\tlearn: 0.1284328\ttotal: 9m 33s\tremaining: 10m 25s\n",
      "478:\tlearn: 0.1283493\ttotal: 9m 34s\tremaining: 10m 24s\n",
      "479:\tlearn: 0.1283150\ttotal: 9m 35s\tremaining: 10m 23s\n",
      "480:\tlearn: 0.1282772\ttotal: 9m 36s\tremaining: 10m 22s\n",
      "481:\tlearn: 0.1282087\ttotal: 9m 37s\tremaining: 10m 20s\n",
      "482:\tlearn: 0.1281543\ttotal: 9m 38s\tremaining: 10m 19s\n",
      "483:\tlearn: 0.1280500\ttotal: 9m 40s\tremaining: 10m 18s\n",
      "484:\tlearn: 0.1280154\ttotal: 9m 41s\tremaining: 10m 17s\n",
      "485:\tlearn: 0.1279645\ttotal: 9m 42s\tremaining: 10m 15s\n",
      "486:\tlearn: 0.1279098\ttotal: 9m 43s\tremaining: 10m 14s\n",
      "487:\tlearn: 0.1277976\ttotal: 9m 44s\tremaining: 10m 13s\n",
      "488:\tlearn: 0.1277359\ttotal: 9m 45s\tremaining: 10m 12s\n",
      "489:\tlearn: 0.1276899\ttotal: 9m 46s\tremaining: 10m 10s\n",
      "490:\tlearn: 0.1276542\ttotal: 9m 48s\tremaining: 10m 9s\n",
      "491:\tlearn: 0.1276199\ttotal: 9m 49s\tremaining: 10m 8s\n",
      "492:\tlearn: 0.1275221\ttotal: 9m 50s\tremaining: 10m 7s\n",
      "493:\tlearn: 0.1274889\ttotal: 9m 51s\tremaining: 10m 5s\n",
      "494:\tlearn: 0.1274510\ttotal: 9m 52s\tremaining: 10m 4s\n",
      "495:\tlearn: 0.1274036\ttotal: 9m 53s\tremaining: 10m 3s\n",
      "496:\tlearn: 0.1273635\ttotal: 9m 54s\tremaining: 10m 2s\n",
      "497:\tlearn: 0.1273307\ttotal: 9m 56s\tremaining: 10m\n",
      "498:\tlearn: 0.1272558\ttotal: 9m 57s\tremaining: 9m 59s\n",
      "499:\tlearn: 0.1271611\ttotal: 9m 58s\tremaining: 9m 58s\n",
      "500:\tlearn: 0.1270947\ttotal: 9m 59s\tremaining: 9m 57s\n",
      "501:\tlearn: 0.1270340\ttotal: 10m\tremaining: 9m 56s\n",
      "502:\tlearn: 0.1270021\ttotal: 10m 1s\tremaining: 9m 54s\n",
      "503:\tlearn: 0.1269422\ttotal: 10m 3s\tremaining: 9m 53s\n",
      "504:\tlearn: 0.1268545\ttotal: 10m 4s\tremaining: 9m 52s\n",
      "505:\tlearn: 0.1267368\ttotal: 10m 5s\tremaining: 9m 51s\n",
      "506:\tlearn: 0.1266390\ttotal: 10m 6s\tremaining: 9m 49s\n",
      "507:\tlearn: 0.1265912\ttotal: 10m 7s\tremaining: 9m 48s\n",
      "508:\tlearn: 0.1265155\ttotal: 10m 9s\tremaining: 9m 47s\n",
      "509:\tlearn: 0.1263988\ttotal: 10m 10s\tremaining: 9m 46s\n",
      "510:\tlearn: 0.1263374\ttotal: 10m 11s\tremaining: 9m 45s\n",
      "511:\tlearn: 0.1262634\ttotal: 10m 12s\tremaining: 9m 43s\n",
      "512:\tlearn: 0.1261944\ttotal: 10m 13s\tremaining: 9m 42s\n",
      "513:\tlearn: 0.1261521\ttotal: 10m 14s\tremaining: 9m 41s\n",
      "514:\tlearn: 0.1260871\ttotal: 10m 16s\tremaining: 9m 40s\n",
      "515:\tlearn: 0.1260537\ttotal: 10m 17s\tremaining: 9m 39s\n",
      "516:\tlearn: 0.1260196\ttotal: 10m 18s\tremaining: 9m 37s\n",
      "517:\tlearn: 0.1259797\ttotal: 10m 19s\tremaining: 9m 36s\n",
      "518:\tlearn: 0.1259117\ttotal: 10m 20s\tremaining: 9m 35s\n",
      "519:\tlearn: 0.1258795\ttotal: 10m 21s\tremaining: 9m 33s\n",
      "520:\tlearn: 0.1258178\ttotal: 10m 22s\tremaining: 9m 32s\n",
      "521:\tlearn: 0.1257848\ttotal: 10m 24s\tremaining: 9m 31s\n",
      "522:\tlearn: 0.1256770\ttotal: 10m 25s\tremaining: 9m 30s\n",
      "523:\tlearn: 0.1256428\ttotal: 10m 26s\tremaining: 9m 29s\n",
      "524:\tlearn: 0.1256121\ttotal: 10m 27s\tremaining: 9m 27s\n",
      "525:\tlearn: 0.1255286\ttotal: 10m 28s\tremaining: 9m 26s\n",
      "526:\tlearn: 0.1254722\ttotal: 10m 29s\tremaining: 9m 25s\n",
      "527:\tlearn: 0.1253963\ttotal: 10m 30s\tremaining: 9m 24s\n",
      "528:\tlearn: 0.1253244\ttotal: 10m 32s\tremaining: 9m 22s\n",
      "529:\tlearn: 0.1252920\ttotal: 10m 33s\tremaining: 9m 21s\n",
      "530:\tlearn: 0.1252623\ttotal: 10m 34s\tremaining: 9m 20s\n",
      "531:\tlearn: 0.1252028\ttotal: 10m 35s\tremaining: 9m 19s\n",
      "532:\tlearn: 0.1251727\ttotal: 10m 36s\tremaining: 9m 17s\n",
      "533:\tlearn: 0.1250736\ttotal: 10m 37s\tremaining: 9m 16s\n",
      "534:\tlearn: 0.1249752\ttotal: 10m 39s\tremaining: 9m 15s\n",
      "535:\tlearn: 0.1249450\ttotal: 10m 40s\tremaining: 9m 14s\n",
      "536:\tlearn: 0.1249093\ttotal: 10m 41s\tremaining: 9m 12s\n",
      "537:\tlearn: 0.1248402\ttotal: 10m 42s\tremaining: 9m 11s\n",
      "538:\tlearn: 0.1247605\ttotal: 10m 43s\tremaining: 9m 10s\n",
      "539:\tlearn: 0.1247303\ttotal: 10m 44s\tremaining: 9m 9s\n",
      "540:\tlearn: 0.1246724\ttotal: 10m 46s\tremaining: 9m 8s\n",
      "541:\tlearn: 0.1246374\ttotal: 10m 47s\tremaining: 9m 6s\n",
      "542:\tlearn: 0.1245734\ttotal: 10m 48s\tremaining: 9m 5s\n",
      "543:\tlearn: 0.1245060\ttotal: 10m 49s\tremaining: 9m 4s\n",
      "544:\tlearn: 0.1244501\ttotal: 10m 50s\tremaining: 9m 3s\n",
      "545:\tlearn: 0.1243268\ttotal: 10m 51s\tremaining: 9m 2s\n",
      "546:\tlearn: 0.1242966\ttotal: 10m 53s\tremaining: 9m\n",
      "547:\tlearn: 0.1242183\ttotal: 10m 54s\tremaining: 8m 59s\n",
      "548:\tlearn: 0.1241701\ttotal: 10m 55s\tremaining: 8m 58s\n",
      "549:\tlearn: 0.1240693\ttotal: 10m 56s\tremaining: 8m 57s\n",
      "550:\tlearn: 0.1240231\ttotal: 10m 57s\tremaining: 8m 55s\n",
      "551:\tlearn: 0.1239934\ttotal: 10m 58s\tremaining: 8m 54s\n",
      "552:\tlearn: 0.1239163\ttotal: 10m 59s\tremaining: 8m 53s\n",
      "553:\tlearn: 0.1238698\ttotal: 11m 1s\tremaining: 8m 52s\n",
      "554:\tlearn: 0.1238412\ttotal: 11m 2s\tremaining: 8m 50s\n",
      "555:\tlearn: 0.1238122\ttotal: 11m 3s\tremaining: 8m 49s\n",
      "556:\tlearn: 0.1237445\ttotal: 11m 4s\tremaining: 8m 48s\n",
      "557:\tlearn: 0.1236981\ttotal: 11m 5s\tremaining: 8m 47s\n",
      "558:\tlearn: 0.1236288\ttotal: 11m 7s\tremaining: 8m 46s\n",
      "559:\tlearn: 0.1235466\ttotal: 11m 8s\tremaining: 8m 45s\n",
      "560:\tlearn: 0.1235047\ttotal: 11m 9s\tremaining: 8m 43s\n",
      "561:\tlearn: 0.1234677\ttotal: 11m 10s\tremaining: 8m 42s\n",
      "562:\tlearn: 0.1234371\ttotal: 11m 11s\tremaining: 8m 41s\n",
      "563:\tlearn: 0.1234089\ttotal: 11m 12s\tremaining: 8m 40s\n",
      "564:\tlearn: 0.1233205\ttotal: 11m 14s\tremaining: 8m 38s\n",
      "565:\tlearn: 0.1232822\ttotal: 11m 15s\tremaining: 8m 37s\n",
      "566:\tlearn: 0.1232237\ttotal: 11m 16s\tremaining: 8m 36s\n",
      "567:\tlearn: 0.1231471\ttotal: 11m 17s\tremaining: 8m 35s\n",
      "568:\tlearn: 0.1231019\ttotal: 11m 19s\tremaining: 8m 34s\n",
      "569:\tlearn: 0.1230282\ttotal: 11m 20s\tremaining: 8m 33s\n",
      "570:\tlearn: 0.1229666\ttotal: 11m 21s\tremaining: 8m 31s\n",
      "571:\tlearn: 0.1229293\ttotal: 11m 22s\tremaining: 8m 30s\n",
      "572:\tlearn: 0.1228544\ttotal: 11m 23s\tremaining: 8m 29s\n",
      "573:\tlearn: 0.1228007\ttotal: 11m 24s\tremaining: 8m 28s\n",
      "574:\tlearn: 0.1227119\ttotal: 11m 26s\tremaining: 8m 27s\n",
      "575:\tlearn: 0.1225991\ttotal: 11m 27s\tremaining: 8m 26s\n",
      "576:\tlearn: 0.1225119\ttotal: 11m 28s\tremaining: 8m 24s\n",
      "577:\tlearn: 0.1224758\ttotal: 11m 29s\tremaining: 8m 23s\n",
      "578:\tlearn: 0.1224185\ttotal: 11m 30s\tremaining: 8m 22s\n",
      "579:\tlearn: 0.1223561\ttotal: 11m 32s\tremaining: 8m 21s\n",
      "580:\tlearn: 0.1223273\ttotal: 11m 33s\tremaining: 8m 19s\n",
      "581:\tlearn: 0.1222942\ttotal: 11m 34s\tremaining: 8m 18s\n",
      "582:\tlearn: 0.1222467\ttotal: 11m 35s\tremaining: 8m 17s\n",
      "583:\tlearn: 0.1222185\ttotal: 11m 36s\tremaining: 8m 16s\n",
      "584:\tlearn: 0.1221897\ttotal: 11m 37s\tremaining: 8m 14s\n",
      "585:\tlearn: 0.1221564\ttotal: 11m 38s\tremaining: 8m 13s\n",
      "586:\tlearn: 0.1221239\ttotal: 11m 39s\tremaining: 8m 12s\n",
      "587:\tlearn: 0.1220809\ttotal: 11m 41s\tremaining: 8m 11s\n",
      "588:\tlearn: 0.1219889\ttotal: 11m 42s\tremaining: 8m 9s\n",
      "589:\tlearn: 0.1218877\ttotal: 11m 43s\tremaining: 8m 8s\n",
      "590:\tlearn: 0.1217633\ttotal: 11m 44s\tremaining: 8m 7s\n",
      "591:\tlearn: 0.1217235\ttotal: 11m 45s\tremaining: 8m 6s\n",
      "592:\tlearn: 0.1216963\ttotal: 11m 46s\tremaining: 8m 5s\n",
      "593:\tlearn: 0.1216366\ttotal: 11m 48s\tremaining: 8m 4s\n",
      "594:\tlearn: 0.1215492\ttotal: 11m 49s\tremaining: 8m 2s\n",
      "595:\tlearn: 0.1215197\ttotal: 11m 50s\tremaining: 8m 1s\n",
      "596:\tlearn: 0.1214401\ttotal: 11m 51s\tremaining: 8m\n",
      "597:\tlearn: 0.1214132\ttotal: 11m 52s\tremaining: 7m 59s\n",
      "598:\tlearn: 0.1213088\ttotal: 11m 54s\tremaining: 7m 58s\n",
      "599:\tlearn: 0.1212641\ttotal: 11m 55s\tremaining: 7m 56s\n",
      "600:\tlearn: 0.1211976\ttotal: 11m 56s\tremaining: 7m 55s\n",
      "601:\tlearn: 0.1211694\ttotal: 11m 57s\tremaining: 7m 54s\n",
      "602:\tlearn: 0.1211436\ttotal: 11m 58s\tremaining: 7m 53s\n",
      "603:\tlearn: 0.1210405\ttotal: 12m\tremaining: 7m 52s\n",
      "604:\tlearn: 0.1209656\ttotal: 12m 1s\tremaining: 7m 50s\n",
      "605:\tlearn: 0.1209318\ttotal: 12m 2s\tremaining: 7m 49s\n",
      "606:\tlearn: 0.1209050\ttotal: 12m 3s\tremaining: 7m 48s\n",
      "607:\tlearn: 0.1208642\ttotal: 12m 4s\tremaining: 7m 47s\n",
      "608:\tlearn: 0.1208258\ttotal: 12m 5s\tremaining: 7m 46s\n",
      "609:\tlearn: 0.1207538\ttotal: 12m 7s\tremaining: 7m 44s\n",
      "610:\tlearn: 0.1206640\ttotal: 12m 8s\tremaining: 7m 43s\n",
      "611:\tlearn: 0.1206207\ttotal: 12m 9s\tremaining: 7m 42s\n",
      "612:\tlearn: 0.1205430\ttotal: 12m 10s\tremaining: 7m 41s\n",
      "613:\tlearn: 0.1205038\ttotal: 12m 11s\tremaining: 7m 40s\n",
      "614:\tlearn: 0.1204378\ttotal: 12m 12s\tremaining: 7m 38s\n",
      "615:\tlearn: 0.1203899\ttotal: 12m 14s\tremaining: 7m 37s\n",
      "616:\tlearn: 0.1203052\ttotal: 12m 15s\tremaining: 7m 36s\n",
      "617:\tlearn: 0.1202786\ttotal: 12m 16s\tremaining: 7m 35s\n",
      "618:\tlearn: 0.1202527\ttotal: 12m 17s\tremaining: 7m 34s\n",
      "619:\tlearn: 0.1201857\ttotal: 12m 18s\tremaining: 7m 32s\n",
      "620:\tlearn: 0.1201474\ttotal: 12m 19s\tremaining: 7m 31s\n",
      "621:\tlearn: 0.1201215\ttotal: 12m 20s\tremaining: 7m 30s\n",
      "622:\tlearn: 0.1200330\ttotal: 12m 22s\tremaining: 7m 29s\n",
      "623:\tlearn: 0.1199662\ttotal: 12m 23s\tremaining: 7m 27s\n",
      "624:\tlearn: 0.1198634\ttotal: 12m 24s\tremaining: 7m 26s\n",
      "625:\tlearn: 0.1197807\ttotal: 12m 25s\tremaining: 7m 25s\n",
      "626:\tlearn: 0.1196867\ttotal: 12m 27s\tremaining: 7m 24s\n",
      "627:\tlearn: 0.1196601\ttotal: 12m 28s\tremaining: 7m 23s\n",
      "628:\tlearn: 0.1196163\ttotal: 12m 29s\tremaining: 7m 22s\n",
      "629:\tlearn: 0.1195911\ttotal: 12m 30s\tremaining: 7m 20s\n",
      "630:\tlearn: 0.1195528\ttotal: 12m 32s\tremaining: 7m 19s\n",
      "631:\tlearn: 0.1195225\ttotal: 12m 33s\tremaining: 7m 18s\n",
      "632:\tlearn: 0.1194976\ttotal: 12m 34s\tremaining: 7m 17s\n",
      "633:\tlearn: 0.1194391\ttotal: 12m 35s\tremaining: 7m 16s\n",
      "634:\tlearn: 0.1193641\ttotal: 12m 37s\tremaining: 7m 15s\n",
      "635:\tlearn: 0.1193061\ttotal: 12m 38s\tremaining: 7m 14s\n",
      "636:\tlearn: 0.1192362\ttotal: 12m 39s\tremaining: 7m 12s\n",
      "637:\tlearn: 0.1191564\ttotal: 12m 41s\tremaining: 7m 11s\n",
      "638:\tlearn: 0.1191067\ttotal: 12m 42s\tremaining: 7m 10s\n",
      "639:\tlearn: 0.1190442\ttotal: 12m 43s\tremaining: 7m 9s\n",
      "640:\tlearn: 0.1190193\ttotal: 12m 44s\tremaining: 7m 8s\n",
      "641:\tlearn: 0.1189532\ttotal: 12m 45s\tremaining: 7m 7s\n",
      "642:\tlearn: 0.1188794\ttotal: 12m 47s\tremaining: 7m 6s\n",
      "643:\tlearn: 0.1188538\ttotal: 12m 48s\tremaining: 7m 4s\n",
      "644:\tlearn: 0.1187774\ttotal: 12m 49s\tremaining: 7m 3s\n",
      "645:\tlearn: 0.1187521\ttotal: 12m 51s\tremaining: 7m 2s\n",
      "646:\tlearn: 0.1187086\ttotal: 12m 52s\tremaining: 7m 1s\n",
      "647:\tlearn: 0.1186542\ttotal: 12m 53s\tremaining: 7m\n",
      "648:\tlearn: 0.1185905\ttotal: 12m 54s\tremaining: 6m 59s\n",
      "649:\tlearn: 0.1185364\ttotal: 12m 56s\tremaining: 6m 57s\n",
      "650:\tlearn: 0.1184797\ttotal: 12m 57s\tremaining: 6m 56s\n",
      "651:\tlearn: 0.1184102\ttotal: 12m 58s\tremaining: 6m 55s\n",
      "652:\tlearn: 0.1183781\ttotal: 12m 59s\tremaining: 6m 54s\n",
      "653:\tlearn: 0.1182966\ttotal: 13m 1s\tremaining: 6m 53s\n",
      "654:\tlearn: 0.1182718\ttotal: 13m 2s\tremaining: 6m 52s\n",
      "655:\tlearn: 0.1182233\ttotal: 13m 3s\tremaining: 6m 50s\n",
      "656:\tlearn: 0.1181735\ttotal: 13m 4s\tremaining: 6m 49s\n",
      "657:\tlearn: 0.1181005\ttotal: 13m 6s\tremaining: 6m 48s\n",
      "658:\tlearn: 0.1180432\ttotal: 13m 7s\tremaining: 6m 47s\n",
      "659:\tlearn: 0.1179852\ttotal: 13m 8s\tremaining: 6m 46s\n",
      "660:\tlearn: 0.1178855\ttotal: 13m 10s\tremaining: 6m 45s\n",
      "661:\tlearn: 0.1178571\ttotal: 13m 11s\tremaining: 6m 44s\n",
      "662:\tlearn: 0.1177905\ttotal: 13m 12s\tremaining: 6m 42s\n",
      "663:\tlearn: 0.1177652\ttotal: 13m 13s\tremaining: 6m 41s\n",
      "664:\tlearn: 0.1177410\ttotal: 13m 15s\tremaining: 6m 40s\n",
      "665:\tlearn: 0.1177120\ttotal: 13m 16s\tremaining: 6m 39s\n",
      "666:\tlearn: 0.1176540\ttotal: 13m 17s\tremaining: 6m 38s\n",
      "667:\tlearn: 0.1176188\ttotal: 13m 19s\tremaining: 6m 37s\n",
      "668:\tlearn: 0.1175951\ttotal: 13m 20s\tremaining: 6m 36s\n",
      "669:\tlearn: 0.1175353\ttotal: 13m 21s\tremaining: 6m 34s\n",
      "670:\tlearn: 0.1175001\ttotal: 13m 23s\tremaining: 6m 33s\n",
      "671:\tlearn: 0.1174702\ttotal: 13m 24s\tremaining: 6m 32s\n",
      "672:\tlearn: 0.1174098\ttotal: 13m 25s\tremaining: 6m 31s\n",
      "673:\tlearn: 0.1173852\ttotal: 13m 27s\tremaining: 6m 30s\n",
      "674:\tlearn: 0.1173098\ttotal: 13m 28s\tremaining: 6m 29s\n",
      "675:\tlearn: 0.1172862\ttotal: 13m 29s\tremaining: 6m 28s\n",
      "676:\tlearn: 0.1172233\ttotal: 13m 30s\tremaining: 6m 26s\n",
      "677:\tlearn: 0.1171987\ttotal: 13m 32s\tremaining: 6m 25s\n",
      "678:\tlearn: 0.1171640\ttotal: 13m 33s\tremaining: 6m 24s\n",
      "679:\tlearn: 0.1171187\ttotal: 13m 34s\tremaining: 6m 23s\n",
      "680:\tlearn: 0.1170389\ttotal: 13m 36s\tremaining: 6m 22s\n",
      "681:\tlearn: 0.1170150\ttotal: 13m 37s\tremaining: 6m 21s\n",
      "682:\tlearn: 0.1169753\ttotal: 13m 38s\tremaining: 6m 19s\n",
      "683:\tlearn: 0.1168970\ttotal: 13m 39s\tremaining: 6m 18s\n",
      "684:\tlearn: 0.1168737\ttotal: 13m 41s\tremaining: 6m 17s\n",
      "685:\tlearn: 0.1168499\ttotal: 13m 42s\tremaining: 6m 16s\n",
      "686:\tlearn: 0.1167935\ttotal: 13m 43s\tremaining: 6m 15s\n",
      "687:\tlearn: 0.1167167\ttotal: 13m 45s\tremaining: 6m 14s\n",
      "688:\tlearn: 0.1166350\ttotal: 13m 46s\tremaining: 6m 13s\n",
      "689:\tlearn: 0.1166055\ttotal: 13m 47s\tremaining: 6m 11s\n",
      "690:\tlearn: 0.1165383\ttotal: 13m 48s\tremaining: 6m 10s\n",
      "691:\tlearn: 0.1164842\ttotal: 13m 50s\tremaining: 6m 9s\n",
      "692:\tlearn: 0.1164470\ttotal: 13m 51s\tremaining: 6m 8s\n",
      "693:\tlearn: 0.1163347\ttotal: 13m 52s\tremaining: 6m 7s\n",
      "694:\tlearn: 0.1162884\ttotal: 13m 54s\tremaining: 6m 6s\n",
      "695:\tlearn: 0.1162133\ttotal: 13m 55s\tremaining: 6m 4s\n",
      "696:\tlearn: 0.1161522\ttotal: 13m 56s\tremaining: 6m 3s\n",
      "697:\tlearn: 0.1161294\ttotal: 13m 57s\tremaining: 6m 2s\n",
      "698:\tlearn: 0.1160906\ttotal: 13m 58s\tremaining: 6m 1s\n",
      "699:\tlearn: 0.1160380\ttotal: 14m\tremaining: 6m\n",
      "700:\tlearn: 0.1160064\ttotal: 14m 1s\tremaining: 5m 58s\n",
      "701:\tlearn: 0.1159822\ttotal: 14m 2s\tremaining: 5m 57s\n",
      "702:\tlearn: 0.1159591\ttotal: 14m 3s\tremaining: 5m 56s\n",
      "703:\tlearn: 0.1158462\ttotal: 14m 4s\tremaining: 5m 55s\n",
      "704:\tlearn: 0.1157921\ttotal: 14m 6s\tremaining: 5m 54s\n",
      "705:\tlearn: 0.1157359\ttotal: 14m 7s\tremaining: 5m 52s\n",
      "706:\tlearn: 0.1157119\ttotal: 14m 8s\tremaining: 5m 51s\n",
      "707:\tlearn: 0.1156274\ttotal: 14m 10s\tremaining: 5m 50s\n",
      "708:\tlearn: 0.1156048\ttotal: 14m 11s\tremaining: 5m 49s\n",
      "709:\tlearn: 0.1155413\ttotal: 14m 12s\tremaining: 5m 48s\n",
      "710:\tlearn: 0.1154766\ttotal: 14m 13s\tremaining: 5m 47s\n",
      "711:\tlearn: 0.1153982\ttotal: 14m 15s\tremaining: 5m 45s\n",
      "712:\tlearn: 0.1153684\ttotal: 14m 16s\tremaining: 5m 44s\n",
      "713:\tlearn: 0.1153212\ttotal: 14m 17s\tremaining: 5m 43s\n",
      "714:\tlearn: 0.1152408\ttotal: 14m 18s\tremaining: 5m 42s\n",
      "715:\tlearn: 0.1151920\ttotal: 14m 19s\tremaining: 5m 41s\n",
      "716:\tlearn: 0.1151614\ttotal: 14m 21s\tremaining: 5m 39s\n",
      "717:\tlearn: 0.1150973\ttotal: 14m 22s\tremaining: 5m 38s\n",
      "718:\tlearn: 0.1150392\ttotal: 14m 23s\tremaining: 5m 37s\n",
      "719:\tlearn: 0.1149988\ttotal: 14m 24s\tremaining: 5m 36s\n",
      "720:\tlearn: 0.1149578\ttotal: 14m 25s\tremaining: 5m 34s\n",
      "721:\tlearn: 0.1149255\ttotal: 14m 26s\tremaining: 5m 33s\n",
      "722:\tlearn: 0.1148825\ttotal: 14m 27s\tremaining: 5m 32s\n",
      "723:\tlearn: 0.1148346\ttotal: 14m 28s\tremaining: 5m 31s\n",
      "724:\tlearn: 0.1148124\ttotal: 14m 29s\tremaining: 5m 30s\n",
      "725:\tlearn: 0.1147640\ttotal: 14m 31s\tremaining: 5m 28s\n",
      "726:\tlearn: 0.1147156\ttotal: 14m 32s\tremaining: 5m 27s\n",
      "727:\tlearn: 0.1146918\ttotal: 14m 33s\tremaining: 5m 26s\n",
      "728:\tlearn: 0.1146690\ttotal: 14m 34s\tremaining: 5m 25s\n",
      "729:\tlearn: 0.1146263\ttotal: 14m 35s\tremaining: 5m 23s\n",
      "730:\tlearn: 0.1146042\ttotal: 14m 36s\tremaining: 5m 22s\n",
      "731:\tlearn: 0.1145339\ttotal: 14m 37s\tremaining: 5m 21s\n",
      "732:\tlearn: 0.1144839\ttotal: 14m 38s\tremaining: 5m 20s\n",
      "733:\tlearn: 0.1144310\ttotal: 14m 40s\tremaining: 5m 18s\n",
      "734:\tlearn: 0.1143797\ttotal: 14m 41s\tremaining: 5m 17s\n",
      "735:\tlearn: 0.1143502\ttotal: 14m 42s\tremaining: 5m 16s\n",
      "736:\tlearn: 0.1142884\ttotal: 14m 43s\tremaining: 5m 15s\n",
      "737:\tlearn: 0.1142551\ttotal: 14m 44s\tremaining: 5m 14s\n",
      "738:\tlearn: 0.1141854\ttotal: 14m 45s\tremaining: 5m 12s\n",
      "739:\tlearn: 0.1141635\ttotal: 14m 47s\tremaining: 5m 11s\n",
      "740:\tlearn: 0.1141415\ttotal: 14m 48s\tremaining: 5m 10s\n",
      "741:\tlearn: 0.1141195\ttotal: 14m 49s\tremaining: 5m 9s\n",
      "742:\tlearn: 0.1140654\ttotal: 14m 50s\tremaining: 5m 7s\n",
      "743:\tlearn: 0.1140294\ttotal: 14m 51s\tremaining: 5m 6s\n",
      "744:\tlearn: 0.1139536\ttotal: 14m 52s\tremaining: 5m 5s\n",
      "745:\tlearn: 0.1139130\ttotal: 14m 53s\tremaining: 5m 4s\n",
      "746:\tlearn: 0.1138533\ttotal: 14m 54s\tremaining: 5m 3s\n",
      "747:\tlearn: 0.1138221\ttotal: 14m 56s\tremaining: 5m 1s\n",
      "748:\tlearn: 0.1137529\ttotal: 14m 57s\tremaining: 5m\n",
      "749:\tlearn: 0.1137120\ttotal: 14m 58s\tremaining: 4m 59s\n",
      "750:\tlearn: 0.1136302\ttotal: 14m 59s\tremaining: 4m 58s\n",
      "751:\tlearn: 0.1135777\ttotal: 15m\tremaining: 4m 57s\n",
      "752:\tlearn: 0.1135473\ttotal: 15m 1s\tremaining: 4m 55s\n",
      "753:\tlearn: 0.1134778\ttotal: 15m 3s\tremaining: 4m 54s\n",
      "754:\tlearn: 0.1134405\ttotal: 15m 4s\tremaining: 4m 53s\n",
      "755:\tlearn: 0.1133749\ttotal: 15m 5s\tremaining: 4m 52s\n",
      "756:\tlearn: 0.1133199\ttotal: 15m 6s\tremaining: 4m 51s\n",
      "757:\tlearn: 0.1132679\ttotal: 15m 7s\tremaining: 4m 49s\n",
      "758:\tlearn: 0.1132328\ttotal: 15m 8s\tremaining: 4m 48s\n",
      "759:\tlearn: 0.1131380\ttotal: 15m 10s\tremaining: 4m 47s\n",
      "760:\tlearn: 0.1131165\ttotal: 15m 11s\tremaining: 4m 46s\n",
      "761:\tlearn: 0.1130803\ttotal: 15m 12s\tremaining: 4m 44s\n",
      "762:\tlearn: 0.1130245\ttotal: 15m 13s\tremaining: 4m 43s\n",
      "763:\tlearn: 0.1129901\ttotal: 15m 14s\tremaining: 4m 42s\n",
      "764:\tlearn: 0.1128998\ttotal: 15m 15s\tremaining: 4m 41s\n",
      "765:\tlearn: 0.1128706\ttotal: 15m 16s\tremaining: 4m 40s\n",
      "766:\tlearn: 0.1127885\ttotal: 15m 18s\tremaining: 4m 38s\n",
      "767:\tlearn: 0.1127516\ttotal: 15m 19s\tremaining: 4m 37s\n",
      "768:\tlearn: 0.1127300\ttotal: 15m 20s\tremaining: 4m 36s\n",
      "769:\tlearn: 0.1126090\ttotal: 15m 21s\tremaining: 4m 35s\n",
      "770:\tlearn: 0.1125859\ttotal: 15m 22s\tremaining: 4m 34s\n",
      "771:\tlearn: 0.1125435\ttotal: 15m 23s\tremaining: 4m 32s\n",
      "772:\tlearn: 0.1125212\ttotal: 15m 24s\tremaining: 4m 31s\n",
      "773:\tlearn: 0.1124785\ttotal: 15m 26s\tremaining: 4m 30s\n",
      "774:\tlearn: 0.1124402\ttotal: 15m 27s\tremaining: 4m 29s\n",
      "775:\tlearn: 0.1124191\ttotal: 15m 28s\tremaining: 4m 27s\n",
      "776:\tlearn: 0.1123859\ttotal: 15m 29s\tremaining: 4m 26s\n",
      "777:\tlearn: 0.1123632\ttotal: 15m 30s\tremaining: 4m 25s\n",
      "778:\tlearn: 0.1123413\ttotal: 15m 31s\tremaining: 4m 24s\n",
      "779:\tlearn: 0.1123134\ttotal: 15m 32s\tremaining: 4m 23s\n",
      "780:\tlearn: 0.1122830\ttotal: 15m 34s\tremaining: 4m 21s\n",
      "781:\tlearn: 0.1122631\ttotal: 15m 35s\tremaining: 4m 20s\n",
      "782:\tlearn: 0.1122164\ttotal: 15m 36s\tremaining: 4m 19s\n",
      "783:\tlearn: 0.1121612\ttotal: 15m 37s\tremaining: 4m 18s\n",
      "784:\tlearn: 0.1121357\ttotal: 15m 38s\tremaining: 4m 17s\n",
      "785:\tlearn: 0.1120831\ttotal: 15m 39s\tremaining: 4m 15s\n",
      "786:\tlearn: 0.1120495\ttotal: 15m 41s\tremaining: 4m 14s\n",
      "787:\tlearn: 0.1119695\ttotal: 15m 42s\tremaining: 4m 13s\n",
      "788:\tlearn: 0.1119440\ttotal: 15m 43s\tremaining: 4m 12s\n",
      "789:\tlearn: 0.1119034\ttotal: 15m 44s\tremaining: 4m 11s\n",
      "790:\tlearn: 0.1118663\ttotal: 15m 45s\tremaining: 4m 9s\n",
      "791:\tlearn: 0.1118446\ttotal: 15m 46s\tremaining: 4m 8s\n",
      "792:\tlearn: 0.1117965\ttotal: 15m 48s\tremaining: 4m 7s\n",
      "793:\tlearn: 0.1117748\ttotal: 15m 49s\tremaining: 4m 6s\n",
      "794:\tlearn: 0.1117308\ttotal: 15m 50s\tremaining: 4m 5s\n",
      "795:\tlearn: 0.1117109\ttotal: 15m 51s\tremaining: 4m 3s\n",
      "796:\tlearn: 0.1116596\ttotal: 15m 52s\tremaining: 4m 2s\n",
      "797:\tlearn: 0.1116130\ttotal: 15m 53s\tremaining: 4m 1s\n",
      "798:\tlearn: 0.1115912\ttotal: 15m 54s\tremaining: 4m\n",
      "799:\tlearn: 0.1115172\ttotal: 15m 56s\tremaining: 3m 59s\n",
      "800:\tlearn: 0.1114752\ttotal: 15m 57s\tremaining: 3m 57s\n",
      "801:\tlearn: 0.1114408\ttotal: 15m 58s\tremaining: 3m 56s\n",
      "802:\tlearn: 0.1114199\ttotal: 15m 59s\tremaining: 3m 55s\n",
      "803:\tlearn: 0.1113860\ttotal: 16m\tremaining: 3m 54s\n",
      "804:\tlearn: 0.1113193\ttotal: 16m 1s\tremaining: 3m 53s\n",
      "805:\tlearn: 0.1112756\ttotal: 16m 3s\tremaining: 3m 51s\n",
      "806:\tlearn: 0.1112291\ttotal: 16m 4s\tremaining: 3m 50s\n",
      "807:\tlearn: 0.1112020\ttotal: 16m 5s\tremaining: 3m 49s\n",
      "808:\tlearn: 0.1111656\ttotal: 16m 6s\tremaining: 3m 48s\n",
      "809:\tlearn: 0.1111266\ttotal: 16m 7s\tremaining: 3m 46s\n",
      "810:\tlearn: 0.1110742\ttotal: 16m 8s\tremaining: 3m 45s\n",
      "811:\tlearn: 0.1110507\ttotal: 16m 9s\tremaining: 3m 44s\n",
      "812:\tlearn: 0.1110071\ttotal: 16m 11s\tremaining: 3m 43s\n",
      "813:\tlearn: 0.1109524\ttotal: 16m 12s\tremaining: 3m 42s\n",
      "814:\tlearn: 0.1109314\ttotal: 16m 13s\tremaining: 3m 40s\n",
      "815:\tlearn: 0.1108881\ttotal: 16m 14s\tremaining: 3m 39s\n",
      "816:\tlearn: 0.1108677\ttotal: 16m 15s\tremaining: 3m 38s\n",
      "817:\tlearn: 0.1108368\ttotal: 16m 16s\tremaining: 3m 37s\n",
      "818:\tlearn: 0.1107937\ttotal: 16m 17s\tremaining: 3m 36s\n",
      "819:\tlearn: 0.1107547\ttotal: 16m 18s\tremaining: 3m 34s\n",
      "820:\tlearn: 0.1107292\ttotal: 16m 20s\tremaining: 3m 33s\n",
      "821:\tlearn: 0.1106595\ttotal: 16m 21s\tremaining: 3m 32s\n",
      "822:\tlearn: 0.1106394\ttotal: 16m 22s\tremaining: 3m 31s\n",
      "823:\tlearn: 0.1105635\ttotal: 16m 23s\tremaining: 3m 30s\n",
      "824:\tlearn: 0.1105344\ttotal: 16m 24s\tremaining: 3m 28s\n",
      "825:\tlearn: 0.1105072\ttotal: 16m 25s\tremaining: 3m 27s\n",
      "826:\tlearn: 0.1104637\ttotal: 16m 26s\tremaining: 3m 26s\n",
      "827:\tlearn: 0.1104294\ttotal: 16m 28s\tremaining: 3m 25s\n",
      "828:\tlearn: 0.1103752\ttotal: 16m 29s\tremaining: 3m 24s\n",
      "829:\tlearn: 0.1103405\ttotal: 16m 30s\tremaining: 3m 22s\n",
      "830:\tlearn: 0.1102906\ttotal: 16m 31s\tremaining: 3m 21s\n",
      "831:\tlearn: 0.1102631\ttotal: 16m 32s\tremaining: 3m 20s\n",
      "832:\tlearn: 0.1101998\ttotal: 16m 33s\tremaining: 3m 19s\n",
      "833:\tlearn: 0.1101799\ttotal: 16m 34s\tremaining: 3m 18s\n",
      "834:\tlearn: 0.1101581\ttotal: 16m 35s\tremaining: 3m 16s\n",
      "835:\tlearn: 0.1101072\ttotal: 16m 37s\tremaining: 3m 15s\n",
      "836:\tlearn: 0.1099927\ttotal: 16m 38s\tremaining: 3m 14s\n",
      "837:\tlearn: 0.1099500\ttotal: 16m 39s\tremaining: 3m 13s\n",
      "838:\tlearn: 0.1099207\ttotal: 16m 40s\tremaining: 3m 12s\n",
      "839:\tlearn: 0.1098495\ttotal: 16m 41s\tremaining: 3m 10s\n",
      "840:\tlearn: 0.1097789\ttotal: 16m 42s\tremaining: 3m 9s\n",
      "841:\tlearn: 0.1097283\ttotal: 16m 43s\tremaining: 3m 8s\n",
      "842:\tlearn: 0.1096701\ttotal: 16m 45s\tremaining: 3m 7s\n",
      "843:\tlearn: 0.1096090\ttotal: 16m 46s\tremaining: 3m 6s\n",
      "844:\tlearn: 0.1095895\ttotal: 16m 47s\tremaining: 3m 4s\n",
      "845:\tlearn: 0.1095292\ttotal: 16m 48s\tremaining: 3m 3s\n",
      "846:\tlearn: 0.1094621\ttotal: 16m 49s\tremaining: 3m 2s\n",
      "847:\tlearn: 0.1094404\ttotal: 16m 50s\tremaining: 3m 1s\n",
      "848:\tlearn: 0.1093706\ttotal: 16m 52s\tremaining: 3m\n",
      "849:\tlearn: 0.1093338\ttotal: 16m 53s\tremaining: 2m 58s\n",
      "850:\tlearn: 0.1092328\ttotal: 16m 54s\tremaining: 2m 57s\n",
      "851:\tlearn: 0.1092070\ttotal: 16m 55s\tremaining: 2m 56s\n",
      "852:\tlearn: 0.1091874\ttotal: 16m 56s\tremaining: 2m 55s\n",
      "853:\tlearn: 0.1091462\ttotal: 16m 57s\tremaining: 2m 53s\n",
      "854:\tlearn: 0.1091258\ttotal: 16m 58s\tremaining: 2m 52s\n",
      "855:\tlearn: 0.1090969\ttotal: 17m\tremaining: 2m 51s\n",
      "856:\tlearn: 0.1090395\ttotal: 17m 1s\tremaining: 2m 50s\n",
      "857:\tlearn: 0.1089803\ttotal: 17m 2s\tremaining: 2m 49s\n",
      "858:\tlearn: 0.1089298\ttotal: 17m 3s\tremaining: 2m 48s\n",
      "859:\tlearn: 0.1089048\ttotal: 17m 4s\tremaining: 2m 46s\n",
      "860:\tlearn: 0.1088577\ttotal: 17m 5s\tremaining: 2m 45s\n",
      "861:\tlearn: 0.1088028\ttotal: 17m 7s\tremaining: 2m 44s\n",
      "862:\tlearn: 0.1087809\ttotal: 17m 8s\tremaining: 2m 43s\n",
      "863:\tlearn: 0.1087306\ttotal: 17m 9s\tremaining: 2m 42s\n",
      "864:\tlearn: 0.1086635\ttotal: 17m 10s\tremaining: 2m 40s\n",
      "865:\tlearn: 0.1086425\ttotal: 17m 11s\tremaining: 2m 39s\n",
      "866:\tlearn: 0.1086232\ttotal: 17m 12s\tremaining: 2m 38s\n",
      "867:\tlearn: 0.1086024\ttotal: 17m 13s\tremaining: 2m 37s\n",
      "868:\tlearn: 0.1085861\ttotal: 17m 14s\tremaining: 2m 36s\n",
      "869:\tlearn: 0.1085501\ttotal: 17m 16s\tremaining: 2m 34s\n",
      "870:\tlearn: 0.1084624\ttotal: 17m 17s\tremaining: 2m 33s\n",
      "871:\tlearn: 0.1084402\ttotal: 17m 18s\tremaining: 2m 32s\n",
      "872:\tlearn: 0.1083957\ttotal: 17m 19s\tremaining: 2m 31s\n",
      "873:\tlearn: 0.1083796\ttotal: 17m 20s\tremaining: 2m 30s\n",
      "874:\tlearn: 0.1083501\ttotal: 17m 21s\tremaining: 2m 28s\n",
      "875:\tlearn: 0.1082967\ttotal: 17m 22s\tremaining: 2m 27s\n",
      "876:\tlearn: 0.1082775\ttotal: 17m 24s\tremaining: 2m 26s\n",
      "877:\tlearn: 0.1082303\ttotal: 17m 25s\tremaining: 2m 25s\n",
      "878:\tlearn: 0.1082139\ttotal: 17m 26s\tremaining: 2m 24s\n",
      "879:\tlearn: 0.1081492\ttotal: 17m 27s\tremaining: 2m 22s\n",
      "880:\tlearn: 0.1081226\ttotal: 17m 28s\tremaining: 2m 21s\n",
      "881:\tlearn: 0.1080742\ttotal: 17m 29s\tremaining: 2m 20s\n",
      "882:\tlearn: 0.1080448\ttotal: 17m 30s\tremaining: 2m 19s\n",
      "883:\tlearn: 0.1080069\ttotal: 17m 32s\tremaining: 2m 18s\n",
      "884:\tlearn: 0.1079508\ttotal: 17m 33s\tremaining: 2m 16s\n",
      "885:\tlearn: 0.1079313\ttotal: 17m 34s\tremaining: 2m 15s\n",
      "886:\tlearn: 0.1079144\ttotal: 17m 35s\tremaining: 2m 14s\n",
      "887:\tlearn: 0.1078838\ttotal: 17m 36s\tremaining: 2m 13s\n",
      "888:\tlearn: 0.1078680\ttotal: 17m 37s\tremaining: 2m 12s\n",
      "889:\tlearn: 0.1077940\ttotal: 17m 38s\tremaining: 2m 10s\n",
      "890:\tlearn: 0.1077641\ttotal: 17m 40s\tremaining: 2m 9s\n",
      "891:\tlearn: 0.1077475\ttotal: 17m 41s\tremaining: 2m 8s\n",
      "892:\tlearn: 0.1077181\ttotal: 17m 42s\tremaining: 2m 7s\n",
      "893:\tlearn: 0.1076821\ttotal: 17m 43s\tremaining: 2m 6s\n",
      "894:\tlearn: 0.1076364\ttotal: 17m 44s\tremaining: 2m 4s\n",
      "895:\tlearn: 0.1076171\ttotal: 17m 45s\tremaining: 2m 3s\n",
      "896:\tlearn: 0.1076007\ttotal: 17m 46s\tremaining: 2m 2s\n",
      "897:\tlearn: 0.1075849\ttotal: 17m 47s\tremaining: 2m 1s\n",
      "898:\tlearn: 0.1075588\ttotal: 17m 48s\tremaining: 2m\n",
      "899:\tlearn: 0.1075179\ttotal: 17m 50s\tremaining: 1m 58s\n",
      "900:\tlearn: 0.1075013\ttotal: 17m 51s\tremaining: 1m 57s\n",
      "901:\tlearn: 0.1074803\ttotal: 17m 52s\tremaining: 1m 56s\n",
      "902:\tlearn: 0.1074600\ttotal: 17m 53s\tremaining: 1m 55s\n",
      "903:\tlearn: 0.1074167\ttotal: 17m 54s\tremaining: 1m 54s\n",
      "904:\tlearn: 0.1074005\ttotal: 17m 55s\tremaining: 1m 52s\n",
      "905:\tlearn: 0.1073801\ttotal: 17m 56s\tremaining: 1m 51s\n",
      "906:\tlearn: 0.1073643\ttotal: 17m 57s\tremaining: 1m 50s\n",
      "907:\tlearn: 0.1073050\ttotal: 17m 58s\tremaining: 1m 49s\n",
      "908:\tlearn: 0.1072856\ttotal: 18m\tremaining: 1m 48s\n",
      "909:\tlearn: 0.1072460\ttotal: 18m 1s\tremaining: 1m 46s\n",
      "910:\tlearn: 0.1071947\ttotal: 18m 2s\tremaining: 1m 45s\n",
      "911:\tlearn: 0.1071751\ttotal: 18m 3s\tremaining: 1m 44s\n",
      "912:\tlearn: 0.1071589\ttotal: 18m 4s\tremaining: 1m 43s\n",
      "913:\tlearn: 0.1071439\ttotal: 18m 5s\tremaining: 1m 42s\n",
      "914:\tlearn: 0.1070881\ttotal: 18m 6s\tremaining: 1m 40s\n",
      "915:\tlearn: 0.1070726\ttotal: 18m 7s\tremaining: 1m 39s\n",
      "916:\tlearn: 0.1070571\ttotal: 18m 8s\tremaining: 1m 38s\n",
      "917:\tlearn: 0.1070418\ttotal: 18m 10s\tremaining: 1m 37s\n",
      "918:\tlearn: 0.1070267\ttotal: 18m 11s\tremaining: 1m 36s\n",
      "919:\tlearn: 0.1070033\ttotal: 18m 12s\tremaining: 1m 34s\n",
      "920:\tlearn: 0.1069536\ttotal: 18m 13s\tremaining: 1m 33s\n",
      "921:\tlearn: 0.1069139\ttotal: 18m 14s\tremaining: 1m 32s\n",
      "922:\tlearn: 0.1068588\ttotal: 18m 15s\tremaining: 1m 31s\n",
      "923:\tlearn: 0.1068310\ttotal: 18m 17s\tremaining: 1m 30s\n",
      "924:\tlearn: 0.1068081\ttotal: 18m 18s\tremaining: 1m 29s\n",
      "925:\tlearn: 0.1067660\ttotal: 18m 19s\tremaining: 1m 27s\n",
      "926:\tlearn: 0.1067504\ttotal: 18m 20s\tremaining: 1m 26s\n",
      "927:\tlearn: 0.1067360\ttotal: 18m 21s\tremaining: 1m 25s\n",
      "928:\tlearn: 0.1067003\ttotal: 18m 22s\tremaining: 1m 24s\n",
      "929:\tlearn: 0.1066427\ttotal: 18m 23s\tremaining: 1m 23s\n",
      "930:\tlearn: 0.1066239\ttotal: 18m 24s\tremaining: 1m 21s\n",
      "931:\tlearn: 0.1065770\ttotal: 18m 26s\tremaining: 1m 20s\n",
      "932:\tlearn: 0.1065624\ttotal: 18m 27s\tremaining: 1m 19s\n",
      "933:\tlearn: 0.1065470\ttotal: 18m 28s\tremaining: 1m 18s\n",
      "934:\tlearn: 0.1065313\ttotal: 18m 29s\tremaining: 1m 17s\n",
      "935:\tlearn: 0.1064895\ttotal: 18m 30s\tremaining: 1m 15s\n",
      "936:\tlearn: 0.1064745\ttotal: 18m 31s\tremaining: 1m 14s\n",
      "937:\tlearn: 0.1064566\ttotal: 18m 32s\tremaining: 1m 13s\n",
      "938:\tlearn: 0.1063743\ttotal: 18m 33s\tremaining: 1m 12s\n",
      "939:\tlearn: 0.1063556\ttotal: 18m 34s\tremaining: 1m 11s\n",
      "940:\tlearn: 0.1063368\ttotal: 18m 35s\tremaining: 1m 9s\n",
      "941:\tlearn: 0.1063084\ttotal: 18m 37s\tremaining: 1m 8s\n",
      "942:\tlearn: 0.1062941\ttotal: 18m 38s\tremaining: 1m 7s\n",
      "943:\tlearn: 0.1062618\ttotal: 18m 39s\tremaining: 1m 6s\n",
      "944:\tlearn: 0.1062165\ttotal: 18m 40s\tremaining: 1m 5s\n",
      "945:\tlearn: 0.1062015\ttotal: 18m 41s\tremaining: 1m 4s\n",
      "946:\tlearn: 0.1061868\ttotal: 18m 42s\tremaining: 1m 2s\n",
      "947:\tlearn: 0.1061709\ttotal: 18m 43s\tremaining: 1m 1s\n",
      "948:\tlearn: 0.1061532\ttotal: 18m 45s\tremaining: 1m\n",
      "949:\tlearn: 0.1061346\ttotal: 18m 46s\tremaining: 59.3s\n",
      "950:\tlearn: 0.1061195\ttotal: 18m 47s\tremaining: 58.1s\n",
      "951:\tlearn: 0.1060932\ttotal: 18m 48s\tremaining: 56.9s\n",
      "952:\tlearn: 0.1060105\ttotal: 18m 49s\tremaining: 55.7s\n",
      "953:\tlearn: 0.1059869\ttotal: 18m 50s\tremaining: 54.5s\n",
      "954:\tlearn: 0.1059187\ttotal: 18m 51s\tremaining: 53.3s\n",
      "955:\tlearn: 0.1058839\ttotal: 18m 53s\tremaining: 52.1s\n",
      "956:\tlearn: 0.1058689\ttotal: 18m 54s\tremaining: 51s\n",
      "957:\tlearn: 0.1058176\ttotal: 18m 55s\tremaining: 49.8s\n",
      "958:\tlearn: 0.1058033\ttotal: 18m 56s\tremaining: 48.6s\n",
      "959:\tlearn: 0.1057806\ttotal: 18m 57s\tremaining: 47.4s\n",
      "960:\tlearn: 0.1057653\ttotal: 18m 58s\tremaining: 46.2s\n",
      "961:\tlearn: 0.1057502\ttotal: 18m 59s\tremaining: 45s\n",
      "962:\tlearn: 0.1057350\ttotal: 19m\tremaining: 43.8s\n",
      "963:\tlearn: 0.1057204\ttotal: 19m 2s\tremaining: 42.6s\n",
      "964:\tlearn: 0.1057053\ttotal: 19m 3s\tremaining: 41.5s\n",
      "965:\tlearn: 0.1056903\ttotal: 19m 4s\tremaining: 40.3s\n",
      "966:\tlearn: 0.1056237\ttotal: 19m 5s\tremaining: 39.1s\n",
      "967:\tlearn: 0.1056048\ttotal: 19m 6s\tremaining: 37.9s\n",
      "968:\tlearn: 0.1055697\ttotal: 19m 7s\tremaining: 36.7s\n",
      "969:\tlearn: 0.1055013\ttotal: 19m 8s\tremaining: 35.5s\n",
      "970:\tlearn: 0.1054828\ttotal: 19m 10s\tremaining: 34.4s\n",
      "971:\tlearn: 0.1054341\ttotal: 19m 11s\tremaining: 33.2s\n",
      "972:\tlearn: 0.1054194\ttotal: 19m 12s\tremaining: 32s\n",
      "973:\tlearn: 0.1054048\ttotal: 19m 13s\tremaining: 30.8s\n",
      "974:\tlearn: 0.1053900\ttotal: 19m 14s\tremaining: 29.6s\n",
      "975:\tlearn: 0.1053753\ttotal: 19m 15s\tremaining: 28.4s\n",
      "976:\tlearn: 0.1053605\ttotal: 19m 17s\tremaining: 27.2s\n",
      "977:\tlearn: 0.1053300\ttotal: 19m 18s\tremaining: 26.1s\n",
      "978:\tlearn: 0.1053079\ttotal: 19m 19s\tremaining: 24.9s\n",
      "979:\tlearn: 0.1052496\ttotal: 19m 20s\tremaining: 23.7s\n",
      "980:\tlearn: 0.1052275\ttotal: 19m 21s\tremaining: 22.5s\n",
      "981:\tlearn: 0.1052128\ttotal: 19m 22s\tremaining: 21.3s\n",
      "982:\tlearn: 0.1051980\ttotal: 19m 23s\tremaining: 20.1s\n",
      "983:\tlearn: 0.1051835\ttotal: 19m 24s\tremaining: 18.9s\n",
      "984:\tlearn: 0.1051686\ttotal: 19m 26s\tremaining: 17.8s\n",
      "985:\tlearn: 0.1051546\ttotal: 19m 27s\tremaining: 16.6s\n",
      "986:\tlearn: 0.1051203\ttotal: 19m 28s\tremaining: 15.4s\n",
      "987:\tlearn: 0.1050240\ttotal: 19m 29s\tremaining: 14.2s\n",
      "988:\tlearn: 0.1049976\ttotal: 19m 30s\tremaining: 13s\n",
      "989:\tlearn: 0.1049831\ttotal: 19m 31s\tremaining: 11.8s\n",
      "990:\tlearn: 0.1049587\ttotal: 19m 32s\tremaining: 10.7s\n",
      "991:\tlearn: 0.1049381\ttotal: 19m 33s\tremaining: 9.47s\n",
      "992:\tlearn: 0.1048992\ttotal: 19m 34s\tremaining: 8.28s\n",
      "993:\tlearn: 0.1048513\ttotal: 19m 36s\tremaining: 7.1s\n",
      "994:\tlearn: 0.1048046\ttotal: 19m 37s\tremaining: 5.92s\n",
      "995:\tlearn: 0.1047905\ttotal: 19m 38s\tremaining: 4.73s\n",
      "996:\tlearn: 0.1047758\ttotal: 19m 39s\tremaining: 3.55s\n",
      "997:\tlearn: 0.1047612\ttotal: 19m 40s\tremaining: 2.37s\n",
      "998:\tlearn: 0.1047469\ttotal: 19m 41s\tremaining: 1.18s\n",
      "999:\tlearn: 0.1046916\ttotal: 19m 42s\tremaining: 0us\n",
      "Learning rate set to 0.059072\n",
      "0:\tlearn: 0.6322208\ttotal: 1.64s\tremaining: 27m 19s\n",
      "1:\tlearn: 0.5799333\ttotal: 2.8s\tremaining: 23m 17s\n",
      "2:\tlearn: 0.5340450\ttotal: 3.96s\tremaining: 21m 56s\n",
      "3:\tlearn: 0.4951405\ttotal: 5.11s\tremaining: 21m 12s\n",
      "4:\tlearn: 0.4599290\ttotal: 6.3s\tremaining: 20m 54s\n",
      "5:\tlearn: 0.4302872\ttotal: 7.5s\tremaining: 20m 42s\n",
      "6:\tlearn: 0.4043292\ttotal: 8.71s\tremaining: 20m 35s\n",
      "7:\tlearn: 0.3826730\ttotal: 9.92s\tremaining: 20m 29s\n",
      "8:\tlearn: 0.3636432\ttotal: 11.1s\tremaining: 20m 20s\n",
      "9:\tlearn: 0.3463583\ttotal: 12.3s\tremaining: 20m 17s\n",
      "10:\tlearn: 0.3314963\ttotal: 13.5s\tremaining: 20m 12s\n",
      "11:\tlearn: 0.3193672\ttotal: 14.7s\tremaining: 20m 8s\n",
      "12:\tlearn: 0.3082923\ttotal: 15.9s\tremaining: 20m 6s\n",
      "13:\tlearn: 0.2988233\ttotal: 17.1s\tremaining: 20m 3s\n",
      "14:\tlearn: 0.2901065\ttotal: 18.3s\tremaining: 20m 1s\n",
      "15:\tlearn: 0.2820482\ttotal: 19.5s\tremaining: 20m\n",
      "16:\tlearn: 0.2753913\ttotal: 20.7s\tremaining: 19m 56s\n",
      "17:\tlearn: 0.2686785\ttotal: 21.9s\tremaining: 19m 56s\n",
      "18:\tlearn: 0.2633968\ttotal: 23.1s\tremaining: 19m 53s\n",
      "19:\tlearn: 0.2586186\ttotal: 24.3s\tremaining: 19m 50s\n",
      "20:\tlearn: 0.2543479\ttotal: 25.5s\tremaining: 19m 47s\n",
      "21:\tlearn: 0.2503258\ttotal: 26.7s\tremaining: 19m 46s\n",
      "22:\tlearn: 0.2468549\ttotal: 27.9s\tremaining: 19m 45s\n",
      "23:\tlearn: 0.2437491\ttotal: 29.1s\tremaining: 19m 42s\n",
      "24:\tlearn: 0.2406792\ttotal: 30.3s\tremaining: 19m 41s\n",
      "25:\tlearn: 0.2380207\ttotal: 31.5s\tremaining: 19m 39s\n",
      "26:\tlearn: 0.2355853\ttotal: 32.6s\tremaining: 19m 36s\n",
      "27:\tlearn: 0.2331848\ttotal: 33.8s\tremaining: 19m 34s\n",
      "28:\tlearn: 0.2310139\ttotal: 35.1s\tremaining: 19m 33s\n",
      "29:\tlearn: 0.2286828\ttotal: 36.3s\tremaining: 19m 34s\n",
      "30:\tlearn: 0.2269934\ttotal: 37.5s\tremaining: 19m 33s\n",
      "31:\tlearn: 0.2252740\ttotal: 38.7s\tremaining: 19m 31s\n",
      "32:\tlearn: 0.2237124\ttotal: 40s\tremaining: 19m 32s\n",
      "33:\tlearn: 0.2221433\ttotal: 41.2s\tremaining: 19m 30s\n",
      "34:\tlearn: 0.2203946\ttotal: 42.4s\tremaining: 19m 30s\n",
      "35:\tlearn: 0.2188332\ttotal: 43.6s\tremaining: 19m 28s\n",
      "36:\tlearn: 0.2176480\ttotal: 44.8s\tremaining: 19m 26s\n",
      "37:\tlearn: 0.2161796\ttotal: 46.1s\tremaining: 19m 27s\n",
      "38:\tlearn: 0.2149759\ttotal: 47.3s\tremaining: 19m 25s\n",
      "39:\tlearn: 0.2135899\ttotal: 48.5s\tremaining: 19m 23s\n",
      "40:\tlearn: 0.2126683\ttotal: 49.6s\tremaining: 19m 20s\n",
      "41:\tlearn: 0.2116977\ttotal: 50.8s\tremaining: 19m 18s\n",
      "42:\tlearn: 0.2107173\ttotal: 51.9s\tremaining: 19m 15s\n",
      "43:\tlearn: 0.2097943\ttotal: 53.1s\tremaining: 19m 13s\n",
      "44:\tlearn: 0.2090154\ttotal: 54.3s\tremaining: 19m 11s\n",
      "45:\tlearn: 0.2081762\ttotal: 55.4s\tremaining: 19m 8s\n",
      "46:\tlearn: 0.2071354\ttotal: 56.6s\tremaining: 19m 7s\n",
      "47:\tlearn: 0.2060997\ttotal: 57.8s\tremaining: 19m 5s\n",
      "48:\tlearn: 0.2053708\ttotal: 58.9s\tremaining: 19m 2s\n",
      "49:\tlearn: 0.2047453\ttotal: 1m\tremaining: 19m\n",
      "50:\tlearn: 0.2040721\ttotal: 1m 1s\tremaining: 18m 58s\n",
      "51:\tlearn: 0.2033719\ttotal: 1m 2s\tremaining: 18m 55s\n",
      "52:\tlearn: 0.2026498\ttotal: 1m 3s\tremaining: 18m 54s\n",
      "53:\tlearn: 0.2020839\ttotal: 1m 4s\tremaining: 18m 52s\n",
      "54:\tlearn: 0.2014161\ttotal: 1m 5s\tremaining: 18m 51s\n",
      "55:\tlearn: 0.2008106\ttotal: 1m 7s\tremaining: 18m 50s\n",
      "56:\tlearn: 0.2002811\ttotal: 1m 8s\tremaining: 18m 48s\n",
      "57:\tlearn: 0.1997280\ttotal: 1m 9s\tremaining: 18m 47s\n",
      "58:\tlearn: 0.1991024\ttotal: 1m 10s\tremaining: 18m 45s\n",
      "59:\tlearn: 0.1984649\ttotal: 1m 11s\tremaining: 18m 44s\n",
      "60:\tlearn: 0.1979423\ttotal: 1m 12s\tremaining: 18m 43s\n",
      "61:\tlearn: 0.1973333\ttotal: 1m 14s\tremaining: 18m 41s\n",
      "62:\tlearn: 0.1968167\ttotal: 1m 15s\tremaining: 18m 39s\n",
      "63:\tlearn: 0.1962420\ttotal: 1m 16s\tremaining: 18m 38s\n",
      "64:\tlearn: 0.1955539\ttotal: 1m 17s\tremaining: 18m 36s\n",
      "65:\tlearn: 0.1950282\ttotal: 1m 18s\tremaining: 18m 33s\n",
      "66:\tlearn: 0.1945764\ttotal: 1m 19s\tremaining: 18m 32s\n",
      "67:\tlearn: 0.1941359\ttotal: 1m 21s\tremaining: 18m 31s\n",
      "68:\tlearn: 0.1934796\ttotal: 1m 22s\tremaining: 18m 29s\n",
      "69:\tlearn: 0.1930000\ttotal: 1m 23s\tremaining: 18m 28s\n",
      "70:\tlearn: 0.1923681\ttotal: 1m 24s\tremaining: 18m 27s\n",
      "71:\tlearn: 0.1919148\ttotal: 1m 25s\tremaining: 18m 26s\n",
      "72:\tlearn: 0.1913299\ttotal: 1m 27s\tremaining: 18m 25s\n",
      "73:\tlearn: 0.1909513\ttotal: 1m 28s\tremaining: 18m 23s\n",
      "74:\tlearn: 0.1903670\ttotal: 1m 29s\tremaining: 18m 22s\n",
      "75:\tlearn: 0.1899691\ttotal: 1m 30s\tremaining: 18m 20s\n",
      "76:\tlearn: 0.1894998\ttotal: 1m 31s\tremaining: 18m 19s\n",
      "77:\tlearn: 0.1891199\ttotal: 1m 32s\tremaining: 18m 17s\n",
      "78:\tlearn: 0.1885569\ttotal: 1m 34s\tremaining: 18m 16s\n",
      "79:\tlearn: 0.1881144\ttotal: 1m 35s\tremaining: 18m 14s\n",
      "80:\tlearn: 0.1875114\ttotal: 1m 36s\tremaining: 18m 14s\n",
      "81:\tlearn: 0.1868785\ttotal: 1m 37s\tremaining: 18m 13s\n",
      "82:\tlearn: 0.1865311\ttotal: 1m 38s\tremaining: 18m 11s\n",
      "83:\tlearn: 0.1860720\ttotal: 1m 40s\tremaining: 18m 10s\n",
      "84:\tlearn: 0.1857189\ttotal: 1m 41s\tremaining: 18m 9s\n",
      "85:\tlearn: 0.1853556\ttotal: 1m 42s\tremaining: 18m 7s\n",
      "86:\tlearn: 0.1849961\ttotal: 1m 43s\tremaining: 18m 5s\n",
      "87:\tlearn: 0.1845441\ttotal: 1m 44s\tremaining: 18m 4s\n",
      "88:\tlearn: 0.1841060\ttotal: 1m 45s\tremaining: 18m 2s\n",
      "89:\tlearn: 0.1837646\ttotal: 1m 46s\tremaining: 18m 1s\n",
      "90:\tlearn: 0.1831665\ttotal: 1m 48s\tremaining: 18m\n",
      "91:\tlearn: 0.1827830\ttotal: 1m 49s\tremaining: 17m 58s\n",
      "92:\tlearn: 0.1824087\ttotal: 1m 50s\tremaining: 17m 57s\n",
      "93:\tlearn: 0.1819413\ttotal: 1m 51s\tremaining: 17m 55s\n",
      "94:\tlearn: 0.1815166\ttotal: 1m 52s\tremaining: 17m 54s\n",
      "95:\tlearn: 0.1811277\ttotal: 1m 53s\tremaining: 17m 52s\n",
      "96:\tlearn: 0.1807808\ttotal: 1m 55s\tremaining: 17m 50s\n",
      "97:\tlearn: 0.1804942\ttotal: 1m 56s\tremaining: 17m 49s\n",
      "98:\tlearn: 0.1802139\ttotal: 1m 57s\tremaining: 17m 47s\n",
      "99:\tlearn: 0.1797537\ttotal: 1m 58s\tremaining: 17m 47s\n",
      "100:\tlearn: 0.1794070\ttotal: 1m 59s\tremaining: 17m 47s\n",
      "101:\tlearn: 0.1791285\ttotal: 2m 1s\tremaining: 17m 46s\n",
      "102:\tlearn: 0.1788447\ttotal: 2m 2s\tremaining: 17m 46s\n",
      "103:\tlearn: 0.1785334\ttotal: 2m 3s\tremaining: 17m 46s\n",
      "104:\tlearn: 0.1781450\ttotal: 2m 5s\tremaining: 17m 46s\n",
      "105:\tlearn: 0.1778705\ttotal: 2m 6s\tremaining: 17m 45s\n",
      "106:\tlearn: 0.1773834\ttotal: 2m 7s\tremaining: 17m 45s\n",
      "107:\tlearn: 0.1770873\ttotal: 2m 8s\tremaining: 17m 45s\n",
      "108:\tlearn: 0.1766046\ttotal: 2m 10s\tremaining: 17m 44s\n",
      "109:\tlearn: 0.1762718\ttotal: 2m 11s\tremaining: 17m 43s\n",
      "110:\tlearn: 0.1759197\ttotal: 2m 12s\tremaining: 17m 41s\n",
      "111:\tlearn: 0.1755746\ttotal: 2m 13s\tremaining: 17m 40s\n",
      "112:\tlearn: 0.1752772\ttotal: 2m 15s\tremaining: 17m 39s\n",
      "113:\tlearn: 0.1750337\ttotal: 2m 16s\tremaining: 17m 39s\n",
      "114:\tlearn: 0.1747495\ttotal: 2m 17s\tremaining: 17m 38s\n",
      "115:\tlearn: 0.1744733\ttotal: 2m 18s\tremaining: 17m 37s\n",
      "116:\tlearn: 0.1741446\ttotal: 2m 19s\tremaining: 17m 36s\n",
      "117:\tlearn: 0.1738667\ttotal: 2m 21s\tremaining: 17m 34s\n",
      "118:\tlearn: 0.1736083\ttotal: 2m 22s\tremaining: 17m 32s\n",
      "119:\tlearn: 0.1733893\ttotal: 2m 23s\tremaining: 17m 31s\n",
      "120:\tlearn: 0.1731134\ttotal: 2m 24s\tremaining: 17m 30s\n",
      "121:\tlearn: 0.1728610\ttotal: 2m 25s\tremaining: 17m 29s\n",
      "122:\tlearn: 0.1725938\ttotal: 2m 26s\tremaining: 17m 27s\n",
      "123:\tlearn: 0.1722926\ttotal: 2m 28s\tremaining: 17m 26s\n",
      "124:\tlearn: 0.1720529\ttotal: 2m 29s\tremaining: 17m 24s\n",
      "125:\tlearn: 0.1718221\ttotal: 2m 30s\tremaining: 17m 22s\n",
      "126:\tlearn: 0.1716018\ttotal: 2m 31s\tremaining: 17m 20s\n",
      "127:\tlearn: 0.1711885\ttotal: 2m 32s\tremaining: 17m 19s\n",
      "128:\tlearn: 0.1709410\ttotal: 2m 33s\tremaining: 17m 18s\n",
      "129:\tlearn: 0.1707104\ttotal: 2m 35s\tremaining: 17m 17s\n",
      "130:\tlearn: 0.1704525\ttotal: 2m 36s\tremaining: 17m 16s\n",
      "131:\tlearn: 0.1702250\ttotal: 2m 37s\tremaining: 17m 14s\n",
      "132:\tlearn: 0.1700184\ttotal: 2m 38s\tremaining: 17m 12s\n",
      "133:\tlearn: 0.1697947\ttotal: 2m 39s\tremaining: 17m 11s\n",
      "134:\tlearn: 0.1695274\ttotal: 2m 40s\tremaining: 17m 10s\n",
      "135:\tlearn: 0.1693177\ttotal: 2m 42s\tremaining: 17m 9s\n",
      "136:\tlearn: 0.1690356\ttotal: 2m 43s\tremaining: 17m 9s\n",
      "137:\tlearn: 0.1688232\ttotal: 2m 44s\tremaining: 17m 8s\n",
      "138:\tlearn: 0.1685198\ttotal: 2m 46s\tremaining: 17m 8s\n",
      "139:\tlearn: 0.1683066\ttotal: 2m 47s\tremaining: 17m 7s\n",
      "140:\tlearn: 0.1681273\ttotal: 2m 48s\tremaining: 17m 6s\n",
      "141:\tlearn: 0.1679039\ttotal: 2m 49s\tremaining: 17m 5s\n",
      "142:\tlearn: 0.1676754\ttotal: 2m 50s\tremaining: 17m 3s\n",
      "143:\tlearn: 0.1674536\ttotal: 2m 51s\tremaining: 17m 1s\n",
      "144:\tlearn: 0.1672323\ttotal: 2m 53s\tremaining: 17m\n",
      "145:\tlearn: 0.1670148\ttotal: 2m 54s\tremaining: 16m 59s\n",
      "146:\tlearn: 0.1667644\ttotal: 2m 55s\tremaining: 16m 57s\n",
      "147:\tlearn: 0.1665936\ttotal: 2m 56s\tremaining: 16m 57s\n",
      "148:\tlearn: 0.1663953\ttotal: 2m 57s\tremaining: 16m 56s\n",
      "149:\tlearn: 0.1661040\ttotal: 2m 59s\tremaining: 16m 54s\n",
      "150:\tlearn: 0.1658983\ttotal: 3m\tremaining: 16m 54s\n",
      "151:\tlearn: 0.1657029\ttotal: 3m 1s\tremaining: 16m 52s\n",
      "152:\tlearn: 0.1654990\ttotal: 3m 2s\tremaining: 16m 51s\n",
      "153:\tlearn: 0.1652994\ttotal: 3m 3s\tremaining: 16m 50s\n",
      "154:\tlearn: 0.1650482\ttotal: 3m 5s\tremaining: 16m 48s\n",
      "155:\tlearn: 0.1648632\ttotal: 3m 6s\tremaining: 16m 48s\n",
      "156:\tlearn: 0.1645584\ttotal: 3m 7s\tremaining: 16m 47s\n",
      "157:\tlearn: 0.1643887\ttotal: 3m 8s\tremaining: 16m 47s\n",
      "158:\tlearn: 0.1642263\ttotal: 3m 10s\tremaining: 16m 46s\n",
      "159:\tlearn: 0.1639818\ttotal: 3m 11s\tremaining: 16m 45s\n",
      "160:\tlearn: 0.1637342\ttotal: 3m 12s\tremaining: 16m 45s\n",
      "161:\tlearn: 0.1634545\ttotal: 3m 14s\tremaining: 16m 44s\n",
      "162:\tlearn: 0.1631645\ttotal: 3m 15s\tremaining: 16m 43s\n",
      "163:\tlearn: 0.1629399\ttotal: 3m 16s\tremaining: 16m 42s\n",
      "164:\tlearn: 0.1627164\ttotal: 3m 17s\tremaining: 16m 41s\n",
      "165:\tlearn: 0.1625155\ttotal: 3m 19s\tremaining: 16m 39s\n",
      "166:\tlearn: 0.1623268\ttotal: 3m 20s\tremaining: 16m 38s\n",
      "167:\tlearn: 0.1621741\ttotal: 3m 21s\tremaining: 16m 37s\n",
      "168:\tlearn: 0.1619859\ttotal: 3m 22s\tremaining: 16m 36s\n",
      "169:\tlearn: 0.1618362\ttotal: 3m 23s\tremaining: 16m 35s\n",
      "170:\tlearn: 0.1616272\ttotal: 3m 24s\tremaining: 16m 33s\n",
      "171:\tlearn: 0.1614195\ttotal: 3m 26s\tremaining: 16m 32s\n",
      "172:\tlearn: 0.1612356\ttotal: 3m 27s\tremaining: 16m 30s\n",
      "173:\tlearn: 0.1610534\ttotal: 3m 28s\tremaining: 16m 29s\n",
      "174:\tlearn: 0.1608223\ttotal: 3m 29s\tremaining: 16m 28s\n",
      "175:\tlearn: 0.1605758\ttotal: 3m 30s\tremaining: 16m 26s\n",
      "176:\tlearn: 0.1604419\ttotal: 3m 31s\tremaining: 16m 25s\n",
      "177:\tlearn: 0.1601730\ttotal: 3m 33s\tremaining: 16m 24s\n",
      "178:\tlearn: 0.1600074\ttotal: 3m 34s\tremaining: 16m 23s\n",
      "179:\tlearn: 0.1598048\ttotal: 3m 35s\tremaining: 16m 21s\n",
      "180:\tlearn: 0.1596532\ttotal: 3m 36s\tremaining: 16m 21s\n",
      "181:\tlearn: 0.1594496\ttotal: 3m 38s\tremaining: 16m 19s\n",
      "182:\tlearn: 0.1592173\ttotal: 3m 39s\tremaining: 16m 19s\n",
      "183:\tlearn: 0.1589470\ttotal: 3m 40s\tremaining: 16m 18s\n",
      "184:\tlearn: 0.1587686\ttotal: 3m 41s\tremaining: 16m 17s\n",
      "185:\tlearn: 0.1586500\ttotal: 3m 42s\tremaining: 16m 15s\n",
      "186:\tlearn: 0.1584833\ttotal: 3m 44s\tremaining: 16m 14s\n",
      "187:\tlearn: 0.1582977\ttotal: 3m 45s\tremaining: 16m 13s\n",
      "188:\tlearn: 0.1581545\ttotal: 3m 46s\tremaining: 16m 12s\n",
      "189:\tlearn: 0.1579345\ttotal: 3m 47s\tremaining: 16m 11s\n",
      "190:\tlearn: 0.1577690\ttotal: 3m 48s\tremaining: 16m 9s\n",
      "191:\tlearn: 0.1575825\ttotal: 3m 50s\tremaining: 16m 8s\n",
      "192:\tlearn: 0.1574077\ttotal: 3m 51s\tremaining: 16m 6s\n",
      "193:\tlearn: 0.1572285\ttotal: 3m 52s\tremaining: 16m 5s\n",
      "194:\tlearn: 0.1570612\ttotal: 3m 53s\tremaining: 16m 3s\n",
      "195:\tlearn: 0.1569402\ttotal: 3m 54s\tremaining: 16m 2s\n",
      "196:\tlearn: 0.1567289\ttotal: 3m 55s\tremaining: 16m\n",
      "197:\tlearn: 0.1565878\ttotal: 3m 56s\tremaining: 15m 59s\n",
      "198:\tlearn: 0.1563814\ttotal: 3m 58s\tremaining: 15m 58s\n",
      "199:\tlearn: 0.1561256\ttotal: 3m 59s\tremaining: 15m 56s\n",
      "200:\tlearn: 0.1559921\ttotal: 4m\tremaining: 15m 55s\n",
      "201:\tlearn: 0.1558634\ttotal: 4m 1s\tremaining: 15m 53s\n",
      "202:\tlearn: 0.1556358\ttotal: 4m 2s\tremaining: 15m 52s\n",
      "203:\tlearn: 0.1555141\ttotal: 4m 3s\tremaining: 15m 50s\n",
      "204:\tlearn: 0.1553682\ttotal: 4m 4s\tremaining: 15m 48s\n",
      "205:\tlearn: 0.1551031\ttotal: 4m 5s\tremaining: 15m 47s\n",
      "206:\tlearn: 0.1549538\ttotal: 4m 6s\tremaining: 15m 46s\n",
      "207:\tlearn: 0.1548042\ttotal: 4m 8s\tremaining: 15m 45s\n",
      "208:\tlearn: 0.1545961\ttotal: 4m 9s\tremaining: 15m 43s\n",
      "209:\tlearn: 0.1544688\ttotal: 4m 10s\tremaining: 15m 42s\n",
      "210:\tlearn: 0.1543113\ttotal: 4m 11s\tremaining: 15m 41s\n",
      "211:\tlearn: 0.1541458\ttotal: 4m 12s\tremaining: 15m 39s\n",
      "212:\tlearn: 0.1539982\ttotal: 4m 13s\tremaining: 15m 38s\n",
      "213:\tlearn: 0.1538803\ttotal: 4m 15s\tremaining: 15m 36s\n",
      "214:\tlearn: 0.1537402\ttotal: 4m 16s\tremaining: 15m 35s\n",
      "215:\tlearn: 0.1536341\ttotal: 4m 17s\tremaining: 15m 33s\n",
      "216:\tlearn: 0.1534958\ttotal: 4m 18s\tremaining: 15m 32s\n",
      "217:\tlearn: 0.1532739\ttotal: 4m 19s\tremaining: 15m 30s\n",
      "218:\tlearn: 0.1531406\ttotal: 4m 20s\tremaining: 15m 29s\n",
      "219:\tlearn: 0.1529352\ttotal: 4m 21s\tremaining: 15m 28s\n",
      "220:\tlearn: 0.1527666\ttotal: 4m 22s\tremaining: 15m 26s\n",
      "221:\tlearn: 0.1526365\ttotal: 4m 23s\tremaining: 15m 25s\n",
      "222:\tlearn: 0.1524919\ttotal: 4m 25s\tremaining: 15m 23s\n",
      "223:\tlearn: 0.1523498\ttotal: 4m 26s\tremaining: 15m 22s\n",
      "224:\tlearn: 0.1522119\ttotal: 4m 27s\tremaining: 15m 20s\n",
      "225:\tlearn: 0.1519980\ttotal: 4m 28s\tremaining: 15m 19s\n",
      "226:\tlearn: 0.1518683\ttotal: 4m 29s\tremaining: 15m 17s\n",
      "227:\tlearn: 0.1517052\ttotal: 4m 30s\tremaining: 15m 16s\n",
      "228:\tlearn: 0.1515050\ttotal: 4m 31s\tremaining: 15m 15s\n",
      "229:\tlearn: 0.1513543\ttotal: 4m 32s\tremaining: 15m 13s\n",
      "230:\tlearn: 0.1511884\ttotal: 4m 34s\tremaining: 15m 12s\n",
      "231:\tlearn: 0.1510577\ttotal: 4m 35s\tremaining: 15m 11s\n",
      "232:\tlearn: 0.1509255\ttotal: 4m 36s\tremaining: 15m 9s\n",
      "233:\tlearn: 0.1507273\ttotal: 4m 37s\tremaining: 15m 8s\n",
      "234:\tlearn: 0.1505571\ttotal: 4m 38s\tremaining: 15m 7s\n",
      "235:\tlearn: 0.1503913\ttotal: 4m 39s\tremaining: 15m 5s\n",
      "236:\tlearn: 0.1502748\ttotal: 4m 40s\tremaining: 15m 4s\n",
      "237:\tlearn: 0.1501715\ttotal: 4m 41s\tremaining: 15m 2s\n",
      "238:\tlearn: 0.1499064\ttotal: 4m 43s\tremaining: 15m 1s\n",
      "239:\tlearn: 0.1498110\ttotal: 4m 44s\tremaining: 14m 59s\n",
      "240:\tlearn: 0.1495043\ttotal: 4m 45s\tremaining: 14m 58s\n",
      "241:\tlearn: 0.1493201\ttotal: 4m 46s\tremaining: 14m 57s\n",
      "242:\tlearn: 0.1491455\ttotal: 4m 47s\tremaining: 14m 56s\n",
      "243:\tlearn: 0.1489852\ttotal: 4m 48s\tremaining: 14m 54s\n",
      "244:\tlearn: 0.1488803\ttotal: 4m 49s\tremaining: 14m 53s\n",
      "245:\tlearn: 0.1487548\ttotal: 4m 50s\tremaining: 14m 51s\n",
      "246:\tlearn: 0.1486449\ttotal: 4m 52s\tremaining: 14m 50s\n",
      "247:\tlearn: 0.1484197\ttotal: 4m 53s\tremaining: 14m 48s\n",
      "248:\tlearn: 0.1482660\ttotal: 4m 54s\tremaining: 14m 47s\n",
      "249:\tlearn: 0.1481355\ttotal: 4m 55s\tremaining: 14m 46s\n",
      "250:\tlearn: 0.1479907\ttotal: 4m 56s\tremaining: 14m 45s\n",
      "251:\tlearn: 0.1477858\ttotal: 4m 57s\tremaining: 14m 43s\n",
      "252:\tlearn: 0.1476690\ttotal: 4m 58s\tremaining: 14m 42s\n",
      "253:\tlearn: 0.1475516\ttotal: 4m 59s\tremaining: 14m 40s\n",
      "254:\tlearn: 0.1474294\ttotal: 5m 1s\tremaining: 14m 39s\n",
      "255:\tlearn: 0.1473455\ttotal: 5m 2s\tremaining: 14m 37s\n",
      "256:\tlearn: 0.1471693\ttotal: 5m 3s\tremaining: 14m 36s\n",
      "257:\tlearn: 0.1470330\ttotal: 5m 4s\tremaining: 14m 35s\n",
      "258:\tlearn: 0.1468679\ttotal: 5m 5s\tremaining: 14m 34s\n",
      "259:\tlearn: 0.1466813\ttotal: 5m 6s\tremaining: 14m 32s\n",
      "260:\tlearn: 0.1465896\ttotal: 5m 7s\tremaining: 14m 31s\n",
      "261:\tlearn: 0.1464489\ttotal: 5m 8s\tremaining: 14m 30s\n",
      "262:\tlearn: 0.1463545\ttotal: 5m 10s\tremaining: 14m 28s\n",
      "263:\tlearn: 0.1462330\ttotal: 5m 11s\tremaining: 14m 27s\n",
      "264:\tlearn: 0.1460767\ttotal: 5m 12s\tremaining: 14m 26s\n",
      "265:\tlearn: 0.1459405\ttotal: 5m 13s\tremaining: 14m 25s\n",
      "266:\tlearn: 0.1458165\ttotal: 5m 14s\tremaining: 14m 24s\n",
      "267:\tlearn: 0.1456780\ttotal: 5m 16s\tremaining: 14m 23s\n",
      "268:\tlearn: 0.1455663\ttotal: 5m 17s\tremaining: 14m 21s\n",
      "269:\tlearn: 0.1454693\ttotal: 5m 18s\tremaining: 14m 20s\n",
      "270:\tlearn: 0.1453544\ttotal: 5m 19s\tremaining: 14m 19s\n",
      "271:\tlearn: 0.1451553\ttotal: 5m 20s\tremaining: 14m 17s\n",
      "272:\tlearn: 0.1449515\ttotal: 5m 21s\tremaining: 14m 16s\n",
      "273:\tlearn: 0.1448509\ttotal: 5m 22s\tremaining: 14m 15s\n",
      "274:\tlearn: 0.1446840\ttotal: 5m 24s\tremaining: 14m 14s\n",
      "275:\tlearn: 0.1445719\ttotal: 5m 25s\tremaining: 14m 12s\n",
      "276:\tlearn: 0.1444422\ttotal: 5m 26s\tremaining: 14m 11s\n",
      "277:\tlearn: 0.1443408\ttotal: 5m 27s\tremaining: 14m 10s\n",
      "278:\tlearn: 0.1442703\ttotal: 5m 28s\tremaining: 14m 8s\n",
      "279:\tlearn: 0.1440595\ttotal: 5m 29s\tremaining: 14m 7s\n",
      "280:\tlearn: 0.1439162\ttotal: 5m 30s\tremaining: 14m 6s\n",
      "281:\tlearn: 0.1437545\ttotal: 5m 31s\tremaining: 14m 4s\n",
      "282:\tlearn: 0.1436312\ttotal: 5m 32s\tremaining: 14m 3s\n",
      "283:\tlearn: 0.1435412\ttotal: 5m 34s\tremaining: 14m 2s\n",
      "284:\tlearn: 0.1433759\ttotal: 5m 35s\tremaining: 14m\n",
      "285:\tlearn: 0.1432856\ttotal: 5m 36s\tremaining: 13m 59s\n",
      "286:\tlearn: 0.1430979\ttotal: 5m 37s\tremaining: 13m 58s\n",
      "287:\tlearn: 0.1430283\ttotal: 5m 38s\tremaining: 13m 56s\n",
      "288:\tlearn: 0.1429118\ttotal: 5m 39s\tremaining: 13m 55s\n",
      "289:\tlearn: 0.1427840\ttotal: 5m 40s\tremaining: 13m 54s\n",
      "290:\tlearn: 0.1426457\ttotal: 5m 41s\tremaining: 13m 52s\n",
      "291:\tlearn: 0.1425277\ttotal: 5m 42s\tremaining: 13m 51s\n",
      "292:\tlearn: 0.1424306\ttotal: 5m 44s\tremaining: 13m 50s\n",
      "293:\tlearn: 0.1423552\ttotal: 5m 45s\tremaining: 13m 48s\n",
      "294:\tlearn: 0.1422278\ttotal: 5m 46s\tremaining: 13m 47s\n",
      "295:\tlearn: 0.1421034\ttotal: 5m 47s\tremaining: 13m 46s\n",
      "296:\tlearn: 0.1420423\ttotal: 5m 48s\tremaining: 13m 45s\n",
      "297:\tlearn: 0.1419480\ttotal: 5m 49s\tremaining: 13m 43s\n",
      "298:\tlearn: 0.1418282\ttotal: 5m 50s\tremaining: 13m 42s\n",
      "299:\tlearn: 0.1417433\ttotal: 5m 51s\tremaining: 13m 41s\n",
      "300:\tlearn: 0.1416263\ttotal: 5m 53s\tremaining: 13m 39s\n",
      "301:\tlearn: 0.1414942\ttotal: 5m 54s\tremaining: 13m 38s\n",
      "302:\tlearn: 0.1413564\ttotal: 5m 55s\tremaining: 13m 37s\n",
      "303:\tlearn: 0.1412394\ttotal: 5m 56s\tremaining: 13m 36s\n",
      "304:\tlearn: 0.1410993\ttotal: 5m 58s\tremaining: 13m 35s\n",
      "305:\tlearn: 0.1410164\ttotal: 5m 59s\tremaining: 13m 34s\n",
      "306:\tlearn: 0.1409509\ttotal: 6m\tremaining: 13m 33s\n",
      "307:\tlearn: 0.1408916\ttotal: 6m 1s\tremaining: 13m 32s\n",
      "308:\tlearn: 0.1407169\ttotal: 6m 2s\tremaining: 13m 31s\n",
      "309:\tlearn: 0.1406082\ttotal: 6m 4s\tremaining: 13m 30s\n",
      "310:\tlearn: 0.1405153\ttotal: 6m 5s\tremaining: 13m 29s\n",
      "311:\tlearn: 0.1404288\ttotal: 6m 6s\tremaining: 13m 28s\n",
      "312:\tlearn: 0.1402645\ttotal: 6m 8s\tremaining: 13m 28s\n",
      "313:\tlearn: 0.1401610\ttotal: 6m 9s\tremaining: 13m 27s\n",
      "314:\tlearn: 0.1400127\ttotal: 6m 10s\tremaining: 13m 26s\n",
      "315:\tlearn: 0.1399037\ttotal: 6m 12s\tremaining: 13m 25s\n",
      "316:\tlearn: 0.1398179\ttotal: 6m 13s\tremaining: 13m 24s\n",
      "317:\tlearn: 0.1396840\ttotal: 6m 14s\tremaining: 13m 23s\n",
      "318:\tlearn: 0.1395593\ttotal: 6m 16s\tremaining: 13m 22s\n",
      "319:\tlearn: 0.1394718\ttotal: 6m 17s\tremaining: 13m 21s\n",
      "320:\tlearn: 0.1393932\ttotal: 6m 18s\tremaining: 13m 20s\n",
      "321:\tlearn: 0.1392785\ttotal: 6m 19s\tremaining: 13m 19s\n",
      "322:\tlearn: 0.1392064\ttotal: 6m 21s\tremaining: 13m 18s\n",
      "323:\tlearn: 0.1391409\ttotal: 6m 22s\tremaining: 13m 17s\n",
      "324:\tlearn: 0.1390143\ttotal: 6m 23s\tremaining: 13m 16s\n",
      "325:\tlearn: 0.1389114\ttotal: 6m 24s\tremaining: 13m 15s\n",
      "326:\tlearn: 0.1388539\ttotal: 6m 26s\tremaining: 13m 14s\n",
      "327:\tlearn: 0.1387262\ttotal: 6m 27s\tremaining: 13m 13s\n",
      "328:\tlearn: 0.1385791\ttotal: 6m 28s\tremaining: 13m 12s\n",
      "329:\tlearn: 0.1383874\ttotal: 6m 30s\tremaining: 13m 11s\n",
      "330:\tlearn: 0.1382747\ttotal: 6m 31s\tremaining: 13m 10s\n",
      "331:\tlearn: 0.1381326\ttotal: 6m 32s\tremaining: 13m 9s\n",
      "332:\tlearn: 0.1380752\ttotal: 6m 33s\tremaining: 13m 8s\n",
      "333:\tlearn: 0.1379258\ttotal: 6m 35s\tremaining: 13m 8s\n",
      "334:\tlearn: 0.1378278\ttotal: 6m 36s\tremaining: 13m 7s\n",
      "335:\tlearn: 0.1377592\ttotal: 6m 37s\tremaining: 13m 5s\n",
      "336:\tlearn: 0.1376762\ttotal: 6m 38s\tremaining: 13m 4s\n",
      "337:\tlearn: 0.1375612\ttotal: 6m 40s\tremaining: 13m 3s\n",
      "338:\tlearn: 0.1374739\ttotal: 6m 41s\tremaining: 13m 2s\n",
      "339:\tlearn: 0.1373607\ttotal: 6m 42s\tremaining: 13m 1s\n",
      "340:\tlearn: 0.1373106\ttotal: 6m 43s\tremaining: 13m\n",
      "341:\tlearn: 0.1372564\ttotal: 6m 44s\tremaining: 12m 58s\n",
      "342:\tlearn: 0.1371315\ttotal: 6m 46s\tremaining: 12m 58s\n",
      "343:\tlearn: 0.1370633\ttotal: 6m 47s\tremaining: 12m 57s\n",
      "344:\tlearn: 0.1369759\ttotal: 6m 48s\tremaining: 12m 56s\n",
      "345:\tlearn: 0.1368269\ttotal: 6m 50s\tremaining: 12m 55s\n",
      "346:\tlearn: 0.1367099\ttotal: 6m 51s\tremaining: 12m 54s\n",
      "347:\tlearn: 0.1365945\ttotal: 6m 52s\tremaining: 12m 53s\n",
      "348:\tlearn: 0.1364647\ttotal: 6m 54s\tremaining: 12m 52s\n",
      "349:\tlearn: 0.1364045\ttotal: 6m 55s\tremaining: 12m 51s\n",
      "350:\tlearn: 0.1363279\ttotal: 6m 56s\tremaining: 12m 50s\n",
      "351:\tlearn: 0.1362058\ttotal: 6m 57s\tremaining: 12m 49s\n",
      "352:\tlearn: 0.1360863\ttotal: 6m 59s\tremaining: 12m 48s\n",
      "353:\tlearn: 0.1360166\ttotal: 7m\tremaining: 12m 47s\n",
      "354:\tlearn: 0.1359575\ttotal: 7m 1s\tremaining: 12m 45s\n",
      "355:\tlearn: 0.1358807\ttotal: 7m 2s\tremaining: 12m 44s\n",
      "356:\tlearn: 0.1357725\ttotal: 7m 3s\tremaining: 12m 43s\n",
      "357:\tlearn: 0.1356316\ttotal: 7m 5s\tremaining: 12m 42s\n",
      "358:\tlearn: 0.1355117\ttotal: 7m 6s\tremaining: 12m 41s\n",
      "359:\tlearn: 0.1354345\ttotal: 7m 7s\tremaining: 12m 40s\n",
      "360:\tlearn: 0.1353165\ttotal: 7m 8s\tremaining: 12m 39s\n",
      "361:\tlearn: 0.1352043\ttotal: 7m 10s\tremaining: 12m 38s\n",
      "362:\tlearn: 0.1350717\ttotal: 7m 11s\tremaining: 12m 37s\n",
      "363:\tlearn: 0.1349862\ttotal: 7m 12s\tremaining: 12m 36s\n",
      "364:\tlearn: 0.1349337\ttotal: 7m 14s\tremaining: 12m 35s\n",
      "365:\tlearn: 0.1348607\ttotal: 7m 15s\tremaining: 12m 34s\n",
      "366:\tlearn: 0.1347291\ttotal: 7m 16s\tremaining: 12m 33s\n",
      "367:\tlearn: 0.1346387\ttotal: 7m 17s\tremaining: 12m 32s\n",
      "368:\tlearn: 0.1345359\ttotal: 7m 19s\tremaining: 12m 30s\n",
      "369:\tlearn: 0.1344634\ttotal: 7m 20s\tremaining: 12m 29s\n",
      "370:\tlearn: 0.1343510\ttotal: 7m 21s\tremaining: 12m 29s\n",
      "371:\tlearn: 0.1342680\ttotal: 7m 23s\tremaining: 12m 28s\n",
      "372:\tlearn: 0.1341710\ttotal: 7m 24s\tremaining: 12m 26s\n",
      "373:\tlearn: 0.1339848\ttotal: 7m 25s\tremaining: 12m 25s\n",
      "374:\tlearn: 0.1339291\ttotal: 7m 26s\tremaining: 12m 24s\n",
      "375:\tlearn: 0.1338368\ttotal: 7m 28s\tremaining: 12m 23s\n",
      "376:\tlearn: 0.1337525\ttotal: 7m 29s\tremaining: 12m 22s\n",
      "377:\tlearn: 0.1336537\ttotal: 7m 30s\tremaining: 12m 21s\n",
      "378:\tlearn: 0.1335957\ttotal: 7m 31s\tremaining: 12m 20s\n",
      "379:\tlearn: 0.1335443\ttotal: 7m 32s\tremaining: 12m 19s\n",
      "380:\tlearn: 0.1334188\ttotal: 7m 34s\tremaining: 12m 17s\n",
      "381:\tlearn: 0.1333439\ttotal: 7m 35s\tremaining: 12m 16s\n",
      "382:\tlearn: 0.1332995\ttotal: 7m 36s\tremaining: 12m 15s\n",
      "383:\tlearn: 0.1331696\ttotal: 7m 37s\tremaining: 12m 14s\n",
      "384:\tlearn: 0.1330358\ttotal: 7m 38s\tremaining: 12m 12s\n",
      "385:\tlearn: 0.1329774\ttotal: 7m 39s\tremaining: 12m 11s\n",
      "386:\tlearn: 0.1328874\ttotal: 7m 41s\tremaining: 12m 10s\n",
      "387:\tlearn: 0.1328290\ttotal: 7m 42s\tremaining: 12m 9s\n",
      "388:\tlearn: 0.1326828\ttotal: 7m 43s\tremaining: 12m 7s\n",
      "389:\tlearn: 0.1325875\ttotal: 7m 44s\tremaining: 12m 6s\n",
      "390:\tlearn: 0.1325139\ttotal: 7m 45s\tremaining: 12m 5s\n",
      "391:\tlearn: 0.1324329\ttotal: 7m 46s\tremaining: 12m 4s\n",
      "392:\tlearn: 0.1323450\ttotal: 7m 47s\tremaining: 12m 2s\n",
      "393:\tlearn: 0.1322816\ttotal: 7m 49s\tremaining: 12m 1s\n",
      "394:\tlearn: 0.1321831\ttotal: 7m 50s\tremaining: 12m\n",
      "395:\tlearn: 0.1320785\ttotal: 7m 51s\tremaining: 11m 58s\n",
      "396:\tlearn: 0.1320335\ttotal: 7m 52s\tremaining: 11m 57s\n",
      "397:\tlearn: 0.1319248\ttotal: 7m 53s\tremaining: 11m 56s\n",
      "398:\tlearn: 0.1318585\ttotal: 7m 54s\tremaining: 11m 55s\n",
      "399:\tlearn: 0.1318125\ttotal: 7m 55s\tremaining: 11m 53s\n",
      "400:\tlearn: 0.1317179\ttotal: 7m 57s\tremaining: 11m 52s\n",
      "401:\tlearn: 0.1316639\ttotal: 7m 58s\tremaining: 11m 51s\n",
      "402:\tlearn: 0.1315688\ttotal: 7m 59s\tremaining: 11m 50s\n",
      "403:\tlearn: 0.1314844\ttotal: 8m\tremaining: 11m 48s\n",
      "404:\tlearn: 0.1313757\ttotal: 8m 1s\tremaining: 11m 47s\n",
      "405:\tlearn: 0.1313235\ttotal: 8m 2s\tremaining: 11m 46s\n",
      "406:\tlearn: 0.1312792\ttotal: 8m 3s\tremaining: 11m 45s\n",
      "407:\tlearn: 0.1311791\ttotal: 8m 5s\tremaining: 11m 43s\n",
      "408:\tlearn: 0.1311189\ttotal: 8m 6s\tremaining: 11m 42s\n",
      "409:\tlearn: 0.1310737\ttotal: 8m 7s\tremaining: 11m 41s\n",
      "410:\tlearn: 0.1310076\ttotal: 8m 8s\tremaining: 11m 40s\n",
      "411:\tlearn: 0.1309649\ttotal: 8m 9s\tremaining: 11m 38s\n",
      "412:\tlearn: 0.1308711\ttotal: 8m 10s\tremaining: 11m 37s\n",
      "413:\tlearn: 0.1307985\ttotal: 8m 12s\tremaining: 11m 36s\n",
      "414:\tlearn: 0.1307057\ttotal: 8m 13s\tremaining: 11m 35s\n",
      "415:\tlearn: 0.1306234\ttotal: 8m 14s\tremaining: 11m 33s\n",
      "416:\tlearn: 0.1305370\ttotal: 8m 15s\tremaining: 11m 32s\n",
      "417:\tlearn: 0.1304735\ttotal: 8m 16s\tremaining: 11m 31s\n",
      "418:\tlearn: 0.1304319\ttotal: 8m 17s\tremaining: 11m 30s\n",
      "419:\tlearn: 0.1303821\ttotal: 8m 18s\tremaining: 11m 28s\n",
      "420:\tlearn: 0.1303410\ttotal: 8m 19s\tremaining: 11m 27s\n",
      "421:\tlearn: 0.1302573\ttotal: 8m 21s\tremaining: 11m 26s\n",
      "422:\tlearn: 0.1302165\ttotal: 8m 22s\tremaining: 11m 24s\n",
      "423:\tlearn: 0.1301478\ttotal: 8m 23s\tremaining: 11m 23s\n",
      "424:\tlearn: 0.1300862\ttotal: 8m 24s\tremaining: 11m 22s\n",
      "425:\tlearn: 0.1299963\ttotal: 8m 25s\tremaining: 11m 21s\n",
      "426:\tlearn: 0.1299567\ttotal: 8m 26s\tremaining: 11m 19s\n",
      "427:\tlearn: 0.1299142\ttotal: 8m 27s\tremaining: 11m 18s\n",
      "428:\tlearn: 0.1298598\ttotal: 8m 28s\tremaining: 11m 17s\n",
      "429:\tlearn: 0.1298059\ttotal: 8m 30s\tremaining: 11m 16s\n",
      "430:\tlearn: 0.1297159\ttotal: 8m 31s\tremaining: 11m 14s\n",
      "431:\tlearn: 0.1296700\ttotal: 8m 32s\tremaining: 11m 13s\n",
      "432:\tlearn: 0.1295506\ttotal: 8m 33s\tremaining: 11m 12s\n",
      "433:\tlearn: 0.1295108\ttotal: 8m 34s\tremaining: 11m 11s\n",
      "434:\tlearn: 0.1294550\ttotal: 8m 35s\tremaining: 11m 10s\n",
      "435:\tlearn: 0.1293982\ttotal: 8m 36s\tremaining: 11m 8s\n",
      "436:\tlearn: 0.1293583\ttotal: 8m 38s\tremaining: 11m 7s\n",
      "437:\tlearn: 0.1292272\ttotal: 8m 39s\tremaining: 11m 6s\n",
      "438:\tlearn: 0.1291324\ttotal: 8m 40s\tremaining: 11m 5s\n",
      "439:\tlearn: 0.1290943\ttotal: 8m 41s\tremaining: 11m 3s\n",
      "440:\tlearn: 0.1289826\ttotal: 8m 43s\tremaining: 11m 3s\n",
      "441:\tlearn: 0.1289387\ttotal: 8m 44s\tremaining: 11m 1s\n",
      "442:\tlearn: 0.1288237\ttotal: 8m 45s\tremaining: 11m\n",
      "443:\tlearn: 0.1287067\ttotal: 8m 46s\tremaining: 10m 59s\n",
      "444:\tlearn: 0.1286493\ttotal: 8m 47s\tremaining: 10m 58s\n",
      "445:\tlearn: 0.1286118\ttotal: 8m 48s\tremaining: 10m 56s\n",
      "446:\tlearn: 0.1285030\ttotal: 8m 49s\tremaining: 10m 55s\n",
      "447:\tlearn: 0.1284663\ttotal: 8m 51s\tremaining: 10m 54s\n",
      "448:\tlearn: 0.1284208\ttotal: 8m 52s\tremaining: 10m 53s\n",
      "449:\tlearn: 0.1283831\ttotal: 8m 53s\tremaining: 10m 51s\n",
      "450:\tlearn: 0.1283459\ttotal: 8m 54s\tremaining: 10m 50s\n",
      "451:\tlearn: 0.1282499\ttotal: 8m 55s\tremaining: 10m 49s\n",
      "452:\tlearn: 0.1282124\ttotal: 8m 56s\tremaining: 10m 48s\n",
      "453:\tlearn: 0.1281049\ttotal: 8m 57s\tremaining: 10m 46s\n",
      "454:\tlearn: 0.1280663\ttotal: 8m 58s\tremaining: 10m 45s\n",
      "455:\tlearn: 0.1280320\ttotal: 9m\tremaining: 10m 44s\n",
      "456:\tlearn: 0.1279840\ttotal: 9m 1s\tremaining: 10m 43s\n",
      "457:\tlearn: 0.1278928\ttotal: 9m 2s\tremaining: 10m 41s\n",
      "458:\tlearn: 0.1277973\ttotal: 9m 3s\tremaining: 10m 40s\n",
      "459:\tlearn: 0.1277422\ttotal: 9m 4s\tremaining: 10m 39s\n",
      "460:\tlearn: 0.1276810\ttotal: 9m 5s\tremaining: 10m 38s\n",
      "461:\tlearn: 0.1276247\ttotal: 9m 6s\tremaining: 10m 36s\n",
      "462:\tlearn: 0.1275094\ttotal: 9m 8s\tremaining: 10m 35s\n",
      "463:\tlearn: 0.1274390\ttotal: 9m 9s\tremaining: 10m 34s\n",
      "464:\tlearn: 0.1273341\ttotal: 9m 10s\tremaining: 10m 33s\n",
      "465:\tlearn: 0.1272707\ttotal: 9m 11s\tremaining: 10m 32s\n",
      "466:\tlearn: 0.1271652\ttotal: 9m 12s\tremaining: 10m 30s\n",
      "467:\tlearn: 0.1271104\ttotal: 9m 13s\tremaining: 10m 29s\n",
      "468:\tlearn: 0.1270753\ttotal: 9m 14s\tremaining: 10m 28s\n",
      "469:\tlearn: 0.1270259\ttotal: 9m 16s\tremaining: 10m 27s\n",
      "470:\tlearn: 0.1269358\ttotal: 9m 17s\tremaining: 10m 25s\n",
      "471:\tlearn: 0.1268438\ttotal: 9m 18s\tremaining: 10m 24s\n",
      "472:\tlearn: 0.1267632\ttotal: 9m 19s\tremaining: 10m 23s\n",
      "473:\tlearn: 0.1267258\ttotal: 9m 20s\tremaining: 10m 22s\n",
      "474:\tlearn: 0.1266785\ttotal: 9m 21s\tremaining: 10m 21s\n",
      "475:\tlearn: 0.1266427\ttotal: 9m 23s\tremaining: 10m 19s\n",
      "476:\tlearn: 0.1265618\ttotal: 9m 24s\tremaining: 10m 18s\n",
      "477:\tlearn: 0.1265252\ttotal: 9m 25s\tremaining: 10m 17s\n",
      "478:\tlearn: 0.1264901\ttotal: 9m 26s\tremaining: 10m 16s\n",
      "479:\tlearn: 0.1264566\ttotal: 9m 27s\tremaining: 10m 14s\n",
      "480:\tlearn: 0.1263508\ttotal: 9m 28s\tremaining: 10m 13s\n",
      "481:\tlearn: 0.1262781\ttotal: 9m 29s\tremaining: 10m 12s\n",
      "482:\tlearn: 0.1262394\ttotal: 9m 30s\tremaining: 10m 11s\n",
      "483:\tlearn: 0.1262055\ttotal: 9m 31s\tremaining: 10m 9s\n",
      "484:\tlearn: 0.1261712\ttotal: 9m 33s\tremaining: 10m 8s\n",
      "485:\tlearn: 0.1259887\ttotal: 9m 34s\tremaining: 10m 7s\n",
      "486:\tlearn: 0.1259343\ttotal: 9m 35s\tremaining: 10m 6s\n",
      "487:\tlearn: 0.1258435\ttotal: 9m 36s\tremaining: 10m 4s\n",
      "488:\tlearn: 0.1257536\ttotal: 9m 37s\tremaining: 10m 3s\n",
      "489:\tlearn: 0.1256633\ttotal: 9m 38s\tremaining: 10m 2s\n",
      "490:\tlearn: 0.1255839\ttotal: 9m 39s\tremaining: 10m 1s\n",
      "491:\tlearn: 0.1255497\ttotal: 9m 41s\tremaining: 9m 59s\n",
      "492:\tlearn: 0.1254518\ttotal: 9m 42s\tremaining: 9m 58s\n",
      "493:\tlearn: 0.1253807\ttotal: 9m 43s\tremaining: 9m 57s\n",
      "494:\tlearn: 0.1252995\ttotal: 9m 44s\tremaining: 9m 56s\n",
      "495:\tlearn: 0.1252564\ttotal: 9m 45s\tremaining: 9m 55s\n",
      "496:\tlearn: 0.1252224\ttotal: 9m 46s\tremaining: 9m 53s\n",
      "497:\tlearn: 0.1251422\ttotal: 9m 47s\tremaining: 9m 52s\n",
      "498:\tlearn: 0.1251043\ttotal: 9m 48s\tremaining: 9m 51s\n",
      "499:\tlearn: 0.1249917\ttotal: 9m 50s\tremaining: 9m 50s\n",
      "500:\tlearn: 0.1249539\ttotal: 9m 51s\tremaining: 9m 48s\n",
      "501:\tlearn: 0.1248945\ttotal: 9m 52s\tremaining: 9m 47s\n",
      "502:\tlearn: 0.1247852\ttotal: 9m 53s\tremaining: 9m 46s\n",
      "503:\tlearn: 0.1247524\ttotal: 9m 54s\tremaining: 9m 45s\n",
      "504:\tlearn: 0.1246410\ttotal: 9m 55s\tremaining: 9m 44s\n",
      "505:\tlearn: 0.1245516\ttotal: 9m 57s\tremaining: 9m 43s\n",
      "506:\tlearn: 0.1244705\ttotal: 9m 58s\tremaining: 9m 41s\n",
      "507:\tlearn: 0.1244381\ttotal: 9m 59s\tremaining: 9m 40s\n",
      "508:\tlearn: 0.1244040\ttotal: 10m\tremaining: 9m 39s\n",
      "509:\tlearn: 0.1243719\ttotal: 10m 1s\tremaining: 9m 38s\n",
      "510:\tlearn: 0.1243394\ttotal: 10m 2s\tremaining: 9m 36s\n",
      "511:\tlearn: 0.1242965\ttotal: 10m 4s\tremaining: 9m 35s\n",
      "512:\tlearn: 0.1242656\ttotal: 10m 5s\tremaining: 9m 34s\n",
      "513:\tlearn: 0.1242183\ttotal: 10m 6s\tremaining: 9m 33s\n",
      "514:\tlearn: 0.1241337\ttotal: 10m 7s\tremaining: 9m 32s\n",
      "515:\tlearn: 0.1240594\ttotal: 10m 8s\tremaining: 9m 31s\n",
      "516:\tlearn: 0.1240072\ttotal: 10m 9s\tremaining: 9m 29s\n",
      "517:\tlearn: 0.1239157\ttotal: 10m 11s\tremaining: 9m 28s\n",
      "518:\tlearn: 0.1238395\ttotal: 10m 12s\tremaining: 9m 27s\n",
      "519:\tlearn: 0.1238030\ttotal: 10m 13s\tremaining: 9m 26s\n",
      "520:\tlearn: 0.1237329\ttotal: 10m 14s\tremaining: 9m 25s\n",
      "521:\tlearn: 0.1237014\ttotal: 10m 15s\tremaining: 9m 23s\n",
      "522:\tlearn: 0.1236215\ttotal: 10m 17s\tremaining: 9m 22s\n",
      "523:\tlearn: 0.1235307\ttotal: 10m 18s\tremaining: 9m 21s\n",
      "524:\tlearn: 0.1234990\ttotal: 10m 19s\tremaining: 9m 20s\n",
      "525:\tlearn: 0.1233600\ttotal: 10m 20s\tremaining: 9m 19s\n",
      "526:\tlearn: 0.1232652\ttotal: 10m 21s\tremaining: 9m 18s\n",
      "527:\tlearn: 0.1232331\ttotal: 10m 22s\tremaining: 9m 16s\n",
      "528:\tlearn: 0.1232038\ttotal: 10m 24s\tremaining: 9m 15s\n",
      "529:\tlearn: 0.1231746\ttotal: 10m 25s\tremaining: 9m 14s\n",
      "530:\tlearn: 0.1230901\ttotal: 10m 26s\tremaining: 9m 13s\n",
      "531:\tlearn: 0.1229512\ttotal: 10m 27s\tremaining: 9m 12s\n",
      "532:\tlearn: 0.1229152\ttotal: 10m 28s\tremaining: 9m 11s\n",
      "533:\tlearn: 0.1228700\ttotal: 10m 30s\tremaining: 9m 9s\n",
      "534:\tlearn: 0.1227580\ttotal: 10m 31s\tremaining: 9m 8s\n",
      "535:\tlearn: 0.1227210\ttotal: 10m 32s\tremaining: 9m 7s\n",
      "536:\tlearn: 0.1226917\ttotal: 10m 33s\tremaining: 9m 6s\n",
      "537:\tlearn: 0.1226397\ttotal: 10m 34s\tremaining: 9m 5s\n",
      "538:\tlearn: 0.1225758\ttotal: 10m 36s\tremaining: 9m 4s\n",
      "539:\tlearn: 0.1225008\ttotal: 10m 37s\tremaining: 9m 2s\n",
      "540:\tlearn: 0.1224697\ttotal: 10m 38s\tremaining: 9m 1s\n",
      "541:\tlearn: 0.1223938\ttotal: 10m 39s\tremaining: 9m\n",
      "542:\tlearn: 0.1223193\ttotal: 10m 40s\tremaining: 8m 59s\n",
      "543:\tlearn: 0.1222557\ttotal: 10m 41s\tremaining: 8m 58s\n",
      "544:\tlearn: 0.1222266\ttotal: 10m 43s\tremaining: 8m 56s\n",
      "545:\tlearn: 0.1221490\ttotal: 10m 44s\tremaining: 8m 55s\n",
      "546:\tlearn: 0.1221210\ttotal: 10m 45s\tremaining: 8m 54s\n",
      "547:\tlearn: 0.1220900\ttotal: 10m 46s\tremaining: 8m 53s\n",
      "548:\tlearn: 0.1220096\ttotal: 10m 47s\tremaining: 8m 52s\n",
      "549:\tlearn: 0.1219387\ttotal: 10m 49s\tremaining: 8m 51s\n",
      "550:\tlearn: 0.1218927\ttotal: 10m 50s\tremaining: 8m 49s\n",
      "551:\tlearn: 0.1218305\ttotal: 10m 51s\tremaining: 8m 48s\n",
      "552:\tlearn: 0.1218014\ttotal: 10m 52s\tremaining: 8m 47s\n",
      "553:\tlearn: 0.1217373\ttotal: 10m 53s\tremaining: 8m 46s\n",
      "554:\tlearn: 0.1216711\ttotal: 10m 54s\tremaining: 8m 45s\n",
      "555:\tlearn: 0.1216347\ttotal: 10m 56s\tremaining: 8m 43s\n",
      "556:\tlearn: 0.1215870\ttotal: 10m 57s\tremaining: 8m 42s\n",
      "557:\tlearn: 0.1215165\ttotal: 10m 58s\tremaining: 8m 41s\n",
      "558:\tlearn: 0.1214437\ttotal: 10m 59s\tremaining: 8m 40s\n",
      "559:\tlearn: 0.1214151\ttotal: 11m\tremaining: 8m 39s\n",
      "560:\tlearn: 0.1213110\ttotal: 11m 1s\tremaining: 8m 37s\n",
      "561:\tlearn: 0.1212649\ttotal: 11m 2s\tremaining: 8m 36s\n",
      "562:\tlearn: 0.1212365\ttotal: 11m 4s\tremaining: 8m 35s\n",
      "563:\tlearn: 0.1212076\ttotal: 11m 5s\tremaining: 8m 34s\n",
      "564:\tlearn: 0.1211359\ttotal: 11m 6s\tremaining: 8m 33s\n",
      "565:\tlearn: 0.1210601\ttotal: 11m 7s\tremaining: 8m 31s\n",
      "566:\tlearn: 0.1210108\ttotal: 11m 8s\tremaining: 8m 30s\n",
      "567:\tlearn: 0.1209784\ttotal: 11m 10s\tremaining: 8m 29s\n",
      "568:\tlearn: 0.1209452\ttotal: 11m 11s\tremaining: 8m 28s\n",
      "569:\tlearn: 0.1208662\ttotal: 11m 12s\tremaining: 8m 27s\n",
      "570:\tlearn: 0.1207710\ttotal: 11m 13s\tremaining: 8m 26s\n",
      "571:\tlearn: 0.1207214\ttotal: 11m 14s\tremaining: 8m 24s\n",
      "572:\tlearn: 0.1206779\ttotal: 11m 15s\tremaining: 8m 23s\n",
      "573:\tlearn: 0.1206016\ttotal: 11m 17s\tremaining: 8m 22s\n",
      "574:\tlearn: 0.1205494\ttotal: 11m 18s\tremaining: 8m 21s\n",
      "575:\tlearn: 0.1205223\ttotal: 11m 19s\tremaining: 8m 20s\n",
      "576:\tlearn: 0.1204529\ttotal: 11m 20s\tremaining: 8m 19s\n",
      "577:\tlearn: 0.1204255\ttotal: 11m 21s\tremaining: 8m 17s\n",
      "578:\tlearn: 0.1203449\ttotal: 11m 23s\tremaining: 8m 16s\n",
      "579:\tlearn: 0.1203131\ttotal: 11m 24s\tremaining: 8m 15s\n",
      "580:\tlearn: 0.1202861\ttotal: 11m 25s\tremaining: 8m 14s\n",
      "581:\tlearn: 0.1202592\ttotal: 11m 26s\tremaining: 8m 13s\n",
      "582:\tlearn: 0.1202143\ttotal: 11m 27s\tremaining: 8m 12s\n",
      "583:\tlearn: 0.1201319\ttotal: 11m 29s\tremaining: 8m 10s\n",
      "584:\tlearn: 0.1200701\ttotal: 11m 30s\tremaining: 8m 9s\n",
      "585:\tlearn: 0.1200043\ttotal: 11m 31s\tremaining: 8m 8s\n",
      "586:\tlearn: 0.1199723\ttotal: 11m 32s\tremaining: 8m 7s\n",
      "587:\tlearn: 0.1199053\ttotal: 11m 33s\tremaining: 8m 6s\n",
      "588:\tlearn: 0.1198460\ttotal: 11m 34s\tremaining: 8m 4s\n",
      "589:\tlearn: 0.1198188\ttotal: 11m 36s\tremaining: 8m 3s\n",
      "590:\tlearn: 0.1197775\ttotal: 11m 37s\tremaining: 8m 2s\n",
      "591:\tlearn: 0.1197026\ttotal: 11m 38s\tremaining: 8m 1s\n",
      "592:\tlearn: 0.1196295\ttotal: 11m 39s\tremaining: 8m\n",
      "593:\tlearn: 0.1195328\ttotal: 11m 40s\tremaining: 7m 58s\n",
      "594:\tlearn: 0.1195071\ttotal: 11m 41s\tremaining: 7m 57s\n",
      "595:\tlearn: 0.1194607\ttotal: 11m 43s\tremaining: 7m 56s\n",
      "596:\tlearn: 0.1194346\ttotal: 11m 44s\tremaining: 7m 55s\n",
      "597:\tlearn: 0.1193881\ttotal: 11m 45s\tremaining: 7m 54s\n",
      "598:\tlearn: 0.1193126\ttotal: 11m 46s\tremaining: 7m 53s\n",
      "599:\tlearn: 0.1192193\ttotal: 11m 47s\tremaining: 7m 51s\n",
      "600:\tlearn: 0.1191868\ttotal: 11m 48s\tremaining: 7m 50s\n",
      "601:\tlearn: 0.1191575\ttotal: 11m 50s\tremaining: 7m 49s\n",
      "602:\tlearn: 0.1191219\ttotal: 11m 51s\tremaining: 7m 48s\n",
      "603:\tlearn: 0.1190975\ttotal: 11m 52s\tremaining: 7m 47s\n",
      "604:\tlearn: 0.1190605\ttotal: 11m 53s\tremaining: 7m 45s\n",
      "605:\tlearn: 0.1190352\ttotal: 11m 54s\tremaining: 7m 44s\n",
      "606:\tlearn: 0.1190080\ttotal: 11m 55s\tremaining: 7m 43s\n",
      "607:\tlearn: 0.1189823\ttotal: 11m 56s\tremaining: 7m 42s\n",
      "608:\tlearn: 0.1189165\ttotal: 11m 58s\tremaining: 7m 41s\n",
      "609:\tlearn: 0.1188721\ttotal: 11m 59s\tremaining: 7m 39s\n",
      "610:\tlearn: 0.1187636\ttotal: 12m\tremaining: 7m 38s\n",
      "611:\tlearn: 0.1187171\ttotal: 12m 1s\tremaining: 7m 37s\n",
      "612:\tlearn: 0.1186659\ttotal: 12m 2s\tremaining: 7m 36s\n",
      "613:\tlearn: 0.1186085\ttotal: 12m 4s\tremaining: 7m 35s\n",
      "614:\tlearn: 0.1185815\ttotal: 12m 5s\tremaining: 7m 34s\n",
      "615:\tlearn: 0.1184856\ttotal: 12m 6s\tremaining: 7m 32s\n",
      "616:\tlearn: 0.1184162\ttotal: 12m 7s\tremaining: 7m 31s\n",
      "617:\tlearn: 0.1183561\ttotal: 12m 8s\tremaining: 7m 30s\n",
      "618:\tlearn: 0.1183319\ttotal: 12m 10s\tremaining: 7m 29s\n",
      "619:\tlearn: 0.1182938\ttotal: 12m 11s\tremaining: 7m 28s\n",
      "620:\tlearn: 0.1182234\ttotal: 12m 12s\tremaining: 7m 27s\n",
      "621:\tlearn: 0.1181890\ttotal: 12m 13s\tremaining: 7m 25s\n",
      "622:\tlearn: 0.1181631\ttotal: 12m 14s\tremaining: 7m 24s\n",
      "623:\tlearn: 0.1181081\ttotal: 12m 15s\tremaining: 7m 23s\n",
      "624:\tlearn: 0.1180693\ttotal: 12m 17s\tremaining: 7m 22s\n",
      "625:\tlearn: 0.1180048\ttotal: 12m 18s\tremaining: 7m 21s\n",
      "626:\tlearn: 0.1179799\ttotal: 12m 19s\tremaining: 7m 19s\n",
      "627:\tlearn: 0.1178974\ttotal: 12m 20s\tremaining: 7m 18s\n",
      "628:\tlearn: 0.1178048\ttotal: 12m 21s\tremaining: 7m 17s\n",
      "629:\tlearn: 0.1177306\ttotal: 12m 23s\tremaining: 7m 16s\n",
      "630:\tlearn: 0.1176759\ttotal: 12m 24s\tremaining: 7m 15s\n",
      "631:\tlearn: 0.1176510\ttotal: 12m 25s\tremaining: 7m 14s\n",
      "632:\tlearn: 0.1176255\ttotal: 12m 26s\tremaining: 7m 12s\n",
      "633:\tlearn: 0.1175955\ttotal: 12m 27s\tremaining: 7m 11s\n",
      "634:\tlearn: 0.1175494\ttotal: 12m 28s\tremaining: 7m 10s\n",
      "635:\tlearn: 0.1174639\ttotal: 12m 30s\tremaining: 7m 9s\n",
      "636:\tlearn: 0.1174406\ttotal: 12m 31s\tremaining: 7m 8s\n",
      "637:\tlearn: 0.1173876\ttotal: 12m 32s\tremaining: 7m 6s\n",
      "638:\tlearn: 0.1173167\ttotal: 12m 33s\tremaining: 7m 5s\n",
      "639:\tlearn: 0.1172920\ttotal: 12m 34s\tremaining: 7m 4s\n",
      "640:\tlearn: 0.1172148\ttotal: 12m 35s\tremaining: 7m 3s\n",
      "641:\tlearn: 0.1171574\ttotal: 12m 37s\tremaining: 7m 2s\n",
      "642:\tlearn: 0.1171228\ttotal: 12m 38s\tremaining: 7m 1s\n",
      "643:\tlearn: 0.1170897\ttotal: 12m 39s\tremaining: 6m 59s\n",
      "644:\tlearn: 0.1170216\ttotal: 12m 40s\tremaining: 6m 58s\n",
      "645:\tlearn: 0.1169592\ttotal: 12m 41s\tremaining: 6m 57s\n",
      "646:\tlearn: 0.1169355\ttotal: 12m 43s\tremaining: 6m 56s\n",
      "647:\tlearn: 0.1169108\ttotal: 12m 44s\tremaining: 6m 55s\n",
      "648:\tlearn: 0.1168475\ttotal: 12m 45s\tremaining: 6m 53s\n",
      "649:\tlearn: 0.1168131\ttotal: 12m 46s\tremaining: 6m 52s\n",
      "650:\tlearn: 0.1167085\ttotal: 12m 47s\tremaining: 6m 51s\n",
      "651:\tlearn: 0.1166343\ttotal: 12m 49s\tremaining: 6m 50s\n",
      "652:\tlearn: 0.1165688\ttotal: 12m 50s\tremaining: 6m 49s\n",
      "653:\tlearn: 0.1165051\ttotal: 12m 51s\tremaining: 6m 48s\n",
      "654:\tlearn: 0.1164805\ttotal: 12m 52s\tremaining: 6m 46s\n",
      "655:\tlearn: 0.1164002\ttotal: 12m 53s\tremaining: 6m 45s\n",
      "656:\tlearn: 0.1163446\ttotal: 12m 55s\tremaining: 6m 44s\n",
      "657:\tlearn: 0.1163164\ttotal: 12m 56s\tremaining: 6m 43s\n",
      "658:\tlearn: 0.1162769\ttotal: 12m 57s\tremaining: 6m 42s\n",
      "659:\tlearn: 0.1162534\ttotal: 12m 58s\tremaining: 6m 41s\n",
      "660:\tlearn: 0.1162067\ttotal: 12m 59s\tremaining: 6m 39s\n",
      "661:\tlearn: 0.1161685\ttotal: 13m\tremaining: 6m 38s\n",
      "662:\tlearn: 0.1161446\ttotal: 13m 2s\tremaining: 6m 37s\n",
      "663:\tlearn: 0.1160734\ttotal: 13m 3s\tremaining: 6m 36s\n",
      "664:\tlearn: 0.1160189\ttotal: 13m 4s\tremaining: 6m 35s\n",
      "665:\tlearn: 0.1159812\ttotal: 13m 5s\tremaining: 6m 33s\n",
      "666:\tlearn: 0.1159271\ttotal: 13m 6s\tremaining: 6m 32s\n",
      "667:\tlearn: 0.1158822\ttotal: 13m 7s\tremaining: 6m 31s\n",
      "668:\tlearn: 0.1158296\ttotal: 13m 9s\tremaining: 6m 30s\n",
      "669:\tlearn: 0.1157852\ttotal: 13m 10s\tremaining: 6m 29s\n",
      "670:\tlearn: 0.1157515\ttotal: 13m 11s\tremaining: 6m 28s\n",
      "671:\tlearn: 0.1156886\ttotal: 13m 12s\tremaining: 6m 26s\n",
      "672:\tlearn: 0.1156608\ttotal: 13m 13s\tremaining: 6m 25s\n",
      "673:\tlearn: 0.1156295\ttotal: 13m 15s\tremaining: 6m 24s\n",
      "674:\tlearn: 0.1155829\ttotal: 13m 16s\tremaining: 6m 23s\n",
      "675:\tlearn: 0.1155559\ttotal: 13m 17s\tremaining: 6m 22s\n",
      "676:\tlearn: 0.1155314\ttotal: 13m 18s\tremaining: 6m 20s\n",
      "677:\tlearn: 0.1155049\ttotal: 13m 19s\tremaining: 6m 19s\n",
      "678:\tlearn: 0.1154721\ttotal: 13m 20s\tremaining: 6m 18s\n",
      "679:\tlearn: 0.1154066\ttotal: 13m 21s\tremaining: 6m 17s\n",
      "680:\tlearn: 0.1153832\ttotal: 13m 23s\tremaining: 6m 16s\n",
      "681:\tlearn: 0.1153609\ttotal: 13m 24s\tremaining: 6m 15s\n",
      "682:\tlearn: 0.1153383\ttotal: 13m 25s\tremaining: 6m 13s\n",
      "683:\tlearn: 0.1153016\ttotal: 13m 26s\tremaining: 6m 12s\n",
      "684:\tlearn: 0.1152201\ttotal: 13m 28s\tremaining: 6m 11s\n",
      "685:\tlearn: 0.1151497\ttotal: 13m 29s\tremaining: 6m 10s\n",
      "686:\tlearn: 0.1150682\ttotal: 13m 30s\tremaining: 6m 9s\n",
      "687:\tlearn: 0.1150452\ttotal: 13m 31s\tremaining: 6m 8s\n",
      "688:\tlearn: 0.1150129\ttotal: 13m 32s\tremaining: 6m 6s\n",
      "689:\tlearn: 0.1149692\ttotal: 13m 33s\tremaining: 6m 5s\n",
      "690:\tlearn: 0.1149461\ttotal: 13m 35s\tremaining: 6m 4s\n",
      "691:\tlearn: 0.1148870\ttotal: 13m 36s\tremaining: 6m 3s\n",
      "692:\tlearn: 0.1148635\ttotal: 13m 37s\tremaining: 6m 2s\n",
      "693:\tlearn: 0.1148323\ttotal: 13m 38s\tremaining: 6m 1s\n",
      "694:\tlearn: 0.1148105\ttotal: 13m 39s\tremaining: 5m 59s\n",
      "695:\tlearn: 0.1147603\ttotal: 13m 41s\tremaining: 5m 58s\n",
      "696:\tlearn: 0.1147129\ttotal: 13m 42s\tremaining: 5m 57s\n",
      "697:\tlearn: 0.1146901\ttotal: 13m 43s\tremaining: 5m 56s\n",
      "698:\tlearn: 0.1146287\ttotal: 13m 44s\tremaining: 5m 55s\n",
      "699:\tlearn: 0.1145749\ttotal: 13m 46s\tremaining: 5m 54s\n",
      "700:\tlearn: 0.1145288\ttotal: 13m 47s\tremaining: 5m 52s\n",
      "701:\tlearn: 0.1144728\ttotal: 13m 48s\tremaining: 5m 51s\n",
      "702:\tlearn: 0.1144499\ttotal: 13m 49s\tremaining: 5m 50s\n",
      "703:\tlearn: 0.1143751\ttotal: 13m 51s\tremaining: 5m 49s\n",
      "704:\tlearn: 0.1143338\ttotal: 13m 52s\tremaining: 5m 48s\n",
      "705:\tlearn: 0.1142655\ttotal: 13m 53s\tremaining: 5m 47s\n",
      "706:\tlearn: 0.1142424\ttotal: 13m 54s\tremaining: 5m 45s\n",
      "707:\tlearn: 0.1142027\ttotal: 13m 55s\tremaining: 5m 44s\n",
      "708:\tlearn: 0.1141299\ttotal: 13m 57s\tremaining: 5m 43s\n",
      "709:\tlearn: 0.1140983\ttotal: 13m 58s\tremaining: 5m 42s\n",
      "710:\tlearn: 0.1140089\ttotal: 13m 59s\tremaining: 5m 41s\n",
      "711:\tlearn: 0.1139477\ttotal: 14m\tremaining: 5m 40s\n",
      "712:\tlearn: 0.1138872\ttotal: 14m 2s\tremaining: 5m 38s\n",
      "713:\tlearn: 0.1138177\ttotal: 14m 3s\tremaining: 5m 37s\n",
      "714:\tlearn: 0.1137497\ttotal: 14m 4s\tremaining: 5m 36s\n",
      "715:\tlearn: 0.1136946\ttotal: 14m 5s\tremaining: 5m 35s\n",
      "716:\tlearn: 0.1136461\ttotal: 14m 7s\tremaining: 5m 34s\n",
      "717:\tlearn: 0.1135295\ttotal: 14m 8s\tremaining: 5m 33s\n",
      "718:\tlearn: 0.1135074\ttotal: 14m 9s\tremaining: 5m 32s\n",
      "719:\tlearn: 0.1134579\ttotal: 14m 10s\tremaining: 5m 30s\n",
      "720:\tlearn: 0.1133977\ttotal: 14m 11s\tremaining: 5m 29s\n",
      "721:\tlearn: 0.1133610\ttotal: 14m 13s\tremaining: 5m 28s\n",
      "722:\tlearn: 0.1133388\ttotal: 14m 14s\tremaining: 5m 27s\n",
      "723:\tlearn: 0.1133095\ttotal: 14m 15s\tremaining: 5m 26s\n",
      "724:\tlearn: 0.1132727\ttotal: 14m 16s\tremaining: 5m 24s\n",
      "725:\tlearn: 0.1132394\ttotal: 14m 17s\tremaining: 5m 23s\n",
      "726:\tlearn: 0.1131882\ttotal: 14m 19s\tremaining: 5m 22s\n",
      "727:\tlearn: 0.1130896\ttotal: 14m 20s\tremaining: 5m 21s\n",
      "728:\tlearn: 0.1130687\ttotal: 14m 21s\tremaining: 5m 20s\n",
      "729:\tlearn: 0.1130253\ttotal: 14m 22s\tremaining: 5m 19s\n",
      "730:\tlearn: 0.1129728\ttotal: 14m 23s\tremaining: 5m 17s\n",
      "731:\tlearn: 0.1129119\ttotal: 14m 25s\tremaining: 5m 16s\n",
      "732:\tlearn: 0.1128609\ttotal: 14m 26s\tremaining: 5m 15s\n",
      "733:\tlearn: 0.1128391\ttotal: 14m 27s\tremaining: 5m 14s\n",
      "734:\tlearn: 0.1128173\ttotal: 14m 28s\tremaining: 5m 13s\n",
      "735:\tlearn: 0.1127907\ttotal: 14m 29s\tremaining: 5m 11s\n",
      "736:\tlearn: 0.1127398\ttotal: 14m 30s\tremaining: 5m 10s\n",
      "737:\tlearn: 0.1126628\ttotal: 14m 32s\tremaining: 5m 9s\n",
      "738:\tlearn: 0.1126020\ttotal: 14m 33s\tremaining: 5m 8s\n",
      "739:\tlearn: 0.1125425\ttotal: 14m 34s\tremaining: 5m 7s\n",
      "740:\tlearn: 0.1125207\ttotal: 14m 35s\tremaining: 5m 6s\n",
      "741:\tlearn: 0.1124776\ttotal: 14m 36s\tremaining: 5m 4s\n",
      "742:\tlearn: 0.1123977\ttotal: 14m 38s\tremaining: 5m 3s\n",
      "743:\tlearn: 0.1123590\ttotal: 14m 39s\tremaining: 5m 2s\n",
      "744:\tlearn: 0.1123293\ttotal: 14m 40s\tremaining: 5m 1s\n",
      "745:\tlearn: 0.1122594\ttotal: 14m 41s\tremaining: 5m\n",
      "746:\tlearn: 0.1122346\ttotal: 14m 42s\tremaining: 4m 59s\n",
      "747:\tlearn: 0.1121692\ttotal: 14m 44s\tremaining: 4m 57s\n",
      "748:\tlearn: 0.1121252\ttotal: 14m 45s\tremaining: 4m 56s\n",
      "749:\tlearn: 0.1121041\ttotal: 14m 46s\tremaining: 4m 55s\n",
      "750:\tlearn: 0.1120446\ttotal: 14m 47s\tremaining: 4m 54s\n",
      "751:\tlearn: 0.1119861\ttotal: 14m 49s\tremaining: 4m 53s\n",
      "752:\tlearn: 0.1119635\ttotal: 14m 50s\tremaining: 4m 52s\n",
      "753:\tlearn: 0.1119228\ttotal: 14m 51s\tremaining: 4m 50s\n",
      "754:\tlearn: 0.1118648\ttotal: 14m 52s\tremaining: 4m 49s\n",
      "755:\tlearn: 0.1118336\ttotal: 14m 53s\tremaining: 4m 48s\n",
      "756:\tlearn: 0.1117766\ttotal: 14m 55s\tremaining: 4m 47s\n",
      "757:\tlearn: 0.1117434\ttotal: 14m 56s\tremaining: 4m 46s\n",
      "758:\tlearn: 0.1117101\ttotal: 14m 57s\tremaining: 4m 44s\n",
      "759:\tlearn: 0.1116467\ttotal: 14m 58s\tremaining: 4m 43s\n",
      "760:\tlearn: 0.1115628\ttotal: 14m 59s\tremaining: 4m 42s\n",
      "761:\tlearn: 0.1115169\ttotal: 15m\tremaining: 4m 41s\n",
      "762:\tlearn: 0.1114924\ttotal: 15m 2s\tremaining: 4m 40s\n",
      "763:\tlearn: 0.1113655\ttotal: 15m 3s\tremaining: 4m 39s\n",
      "764:\tlearn: 0.1113408\ttotal: 15m 4s\tremaining: 4m 37s\n",
      "765:\tlearn: 0.1113207\ttotal: 15m 5s\tremaining: 4m 36s\n",
      "766:\tlearn: 0.1112756\ttotal: 15m 6s\tremaining: 4m 35s\n",
      "767:\tlearn: 0.1112018\ttotal: 15m 7s\tremaining: 4m 34s\n",
      "768:\tlearn: 0.1111302\ttotal: 15m 9s\tremaining: 4m 33s\n",
      "769:\tlearn: 0.1111006\ttotal: 15m 10s\tremaining: 4m 31s\n",
      "770:\tlearn: 0.1110596\ttotal: 15m 11s\tremaining: 4m 30s\n",
      "771:\tlearn: 0.1110332\ttotal: 15m 12s\tremaining: 4m 29s\n",
      "772:\tlearn: 0.1110092\ttotal: 15m 13s\tremaining: 4m 28s\n",
      "773:\tlearn: 0.1109825\ttotal: 15m 15s\tremaining: 4m 27s\n",
      "774:\tlearn: 0.1109601\ttotal: 15m 16s\tremaining: 4m 25s\n",
      "775:\tlearn: 0.1109406\ttotal: 15m 17s\tremaining: 4m 24s\n",
      "776:\tlearn: 0.1108499\ttotal: 15m 18s\tremaining: 4m 23s\n",
      "777:\tlearn: 0.1108211\ttotal: 15m 19s\tremaining: 4m 22s\n",
      "778:\tlearn: 0.1107991\ttotal: 15m 20s\tremaining: 4m 21s\n",
      "779:\tlearn: 0.1107778\ttotal: 15m 21s\tremaining: 4m 20s\n",
      "780:\tlearn: 0.1107283\ttotal: 15m 23s\tremaining: 4m 18s\n",
      "781:\tlearn: 0.1107071\ttotal: 15m 24s\tremaining: 4m 17s\n",
      "782:\tlearn: 0.1106485\ttotal: 15m 25s\tremaining: 4m 16s\n",
      "783:\tlearn: 0.1106081\ttotal: 15m 26s\tremaining: 4m 15s\n",
      "784:\tlearn: 0.1105397\ttotal: 15m 27s\tremaining: 4m 14s\n",
      "785:\tlearn: 0.1104907\ttotal: 15m 29s\tremaining: 4m 12s\n",
      "786:\tlearn: 0.1104641\ttotal: 15m 30s\tremaining: 4m 11s\n",
      "787:\tlearn: 0.1104286\ttotal: 15m 31s\tremaining: 4m 10s\n",
      "788:\tlearn: 0.1103204\ttotal: 15m 32s\tremaining: 4m 9s\n",
      "789:\tlearn: 0.1102136\ttotal: 15m 33s\tremaining: 4m 8s\n",
      "790:\tlearn: 0.1101621\ttotal: 15m 35s\tremaining: 4m 7s\n",
      "791:\tlearn: 0.1101183\ttotal: 15m 36s\tremaining: 4m 5s\n",
      "792:\tlearn: 0.1100856\ttotal: 15m 37s\tremaining: 4m 4s\n",
      "793:\tlearn: 0.1100598\ttotal: 15m 38s\tremaining: 4m 3s\n",
      "794:\tlearn: 0.1099875\ttotal: 15m 39s\tremaining: 4m 2s\n",
      "795:\tlearn: 0.1099648\ttotal: 15m 41s\tremaining: 4m 1s\n",
      "796:\tlearn: 0.1099063\ttotal: 15m 42s\tremaining: 4m\n",
      "797:\tlearn: 0.1098245\ttotal: 15m 43s\tremaining: 3m 58s\n",
      "798:\tlearn: 0.1098047\ttotal: 15m 44s\tremaining: 3m 57s\n",
      "799:\tlearn: 0.1097679\ttotal: 15m 45s\tremaining: 3m 56s\n",
      "800:\tlearn: 0.1097480\ttotal: 15m 47s\tremaining: 3m 55s\n",
      "801:\tlearn: 0.1097074\ttotal: 15m 48s\tremaining: 3m 54s\n",
      "802:\tlearn: 0.1096498\ttotal: 15m 49s\tremaining: 3m 52s\n",
      "803:\tlearn: 0.1096055\ttotal: 15m 50s\tremaining: 3m 51s\n",
      "804:\tlearn: 0.1095860\ttotal: 15m 52s\tremaining: 3m 50s\n",
      "805:\tlearn: 0.1095566\ttotal: 15m 53s\tremaining: 3m 49s\n",
      "806:\tlearn: 0.1094846\ttotal: 15m 54s\tremaining: 3m 48s\n",
      "807:\tlearn: 0.1094634\ttotal: 15m 55s\tremaining: 3m 47s\n",
      "808:\tlearn: 0.1094349\ttotal: 15m 56s\tremaining: 3m 45s\n",
      "809:\tlearn: 0.1094090\ttotal: 15m 58s\tremaining: 3m 44s\n",
      "810:\tlearn: 0.1093813\ttotal: 15m 59s\tremaining: 3m 43s\n",
      "811:\tlearn: 0.1093612\ttotal: 16m\tremaining: 3m 42s\n",
      "812:\tlearn: 0.1093390\ttotal: 16m 1s\tremaining: 3m 41s\n",
      "813:\tlearn: 0.1093033\ttotal: 16m 2s\tremaining: 3m 40s\n",
      "814:\tlearn: 0.1092450\ttotal: 16m 4s\tremaining: 3m 38s\n",
      "815:\tlearn: 0.1092180\ttotal: 16m 5s\tremaining: 3m 37s\n",
      "816:\tlearn: 0.1091445\ttotal: 16m 6s\tremaining: 3m 36s\n",
      "817:\tlearn: 0.1091182\ttotal: 16m 7s\tremaining: 3m 35s\n",
      "818:\tlearn: 0.1090503\ttotal: 16m 8s\tremaining: 3m 34s\n",
      "819:\tlearn: 0.1090076\ttotal: 16m 10s\tremaining: 3m 32s\n",
      "820:\tlearn: 0.1089471\ttotal: 16m 11s\tremaining: 3m 31s\n",
      "821:\tlearn: 0.1089119\ttotal: 16m 12s\tremaining: 3m 30s\n",
      "822:\tlearn: 0.1088503\ttotal: 16m 13s\tremaining: 3m 29s\n",
      "823:\tlearn: 0.1088312\ttotal: 16m 14s\tremaining: 3m 28s\n",
      "824:\tlearn: 0.1087852\ttotal: 16m 16s\tremaining: 3m 27s\n",
      "825:\tlearn: 0.1087382\ttotal: 16m 17s\tremaining: 3m 25s\n",
      "826:\tlearn: 0.1087193\ttotal: 16m 18s\tremaining: 3m 24s\n",
      "827:\tlearn: 0.1086994\ttotal: 16m 19s\tremaining: 3m 23s\n",
      "828:\tlearn: 0.1086528\ttotal: 16m 20s\tremaining: 3m 22s\n",
      "829:\tlearn: 0.1085989\ttotal: 16m 21s\tremaining: 3m 21s\n",
      "830:\tlearn: 0.1085730\ttotal: 16m 23s\tremaining: 3m 19s\n",
      "831:\tlearn: 0.1085288\ttotal: 16m 24s\tremaining: 3m 18s\n",
      "832:\tlearn: 0.1085104\ttotal: 16m 25s\tremaining: 3m 17s\n",
      "833:\tlearn: 0.1084321\ttotal: 16m 26s\tremaining: 3m 16s\n",
      "834:\tlearn: 0.1084131\ttotal: 16m 27s\tremaining: 3m 15s\n",
      "835:\tlearn: 0.1083391\ttotal: 16m 29s\tremaining: 3m 14s\n",
      "836:\tlearn: 0.1082654\ttotal: 16m 30s\tremaining: 3m 12s\n",
      "837:\tlearn: 0.1082482\ttotal: 16m 31s\tremaining: 3m 11s\n",
      "838:\tlearn: 0.1082310\ttotal: 16m 32s\tremaining: 3m 10s\n",
      "839:\tlearn: 0.1082080\ttotal: 16m 33s\tremaining: 3m 9s\n",
      "840:\tlearn: 0.1081591\ttotal: 16m 34s\tremaining: 3m 8s\n",
      "841:\tlearn: 0.1081229\ttotal: 16m 36s\tremaining: 3m 6s\n",
      "842:\tlearn: 0.1081053\ttotal: 16m 37s\tremaining: 3m 5s\n",
      "843:\tlearn: 0.1080533\ttotal: 16m 38s\tremaining: 3m 4s\n",
      "844:\tlearn: 0.1079998\ttotal: 16m 39s\tremaining: 3m 3s\n",
      "845:\tlearn: 0.1079670\ttotal: 16m 40s\tremaining: 3m 2s\n",
      "846:\tlearn: 0.1078795\ttotal: 16m 42s\tremaining: 3m 1s\n",
      "847:\tlearn: 0.1078639\ttotal: 16m 43s\tremaining: 2m 59s\n",
      "848:\tlearn: 0.1078438\ttotal: 16m 44s\tremaining: 2m 58s\n",
      "849:\tlearn: 0.1077699\ttotal: 16m 45s\tremaining: 2m 57s\n",
      "850:\tlearn: 0.1077222\ttotal: 16m 46s\tremaining: 2m 56s\n",
      "851:\tlearn: 0.1076963\ttotal: 16m 48s\tremaining: 2m 55s\n",
      "852:\tlearn: 0.1076376\ttotal: 16m 49s\tremaining: 2m 53s\n",
      "853:\tlearn: 0.1076190\ttotal: 16m 50s\tremaining: 2m 52s\n",
      "854:\tlearn: 0.1076004\ttotal: 16m 51s\tremaining: 2m 51s\n",
      "855:\tlearn: 0.1075389\ttotal: 16m 52s\tremaining: 2m 50s\n",
      "856:\tlearn: 0.1075032\ttotal: 16m 54s\tremaining: 2m 49s\n",
      "857:\tlearn: 0.1074557\ttotal: 16m 55s\tremaining: 2m 48s\n",
      "858:\tlearn: 0.1074381\ttotal: 16m 56s\tremaining: 2m 46s\n",
      "859:\tlearn: 0.1074069\ttotal: 16m 57s\tremaining: 2m 45s\n",
      "860:\tlearn: 0.1073647\ttotal: 16m 58s\tremaining: 2m 44s\n",
      "861:\tlearn: 0.1073487\ttotal: 17m\tremaining: 2m 43s\n",
      "862:\tlearn: 0.1072693\ttotal: 17m 1s\tremaining: 2m 42s\n",
      "863:\tlearn: 0.1072414\ttotal: 17m 2s\tremaining: 2m 40s\n",
      "864:\tlearn: 0.1071621\ttotal: 17m 3s\tremaining: 2m 39s\n",
      "865:\tlearn: 0.1071403\ttotal: 17m 4s\tremaining: 2m 38s\n",
      "866:\tlearn: 0.1070566\ttotal: 17m 6s\tremaining: 2m 37s\n",
      "867:\tlearn: 0.1070372\ttotal: 17m 7s\tremaining: 2m 36s\n",
      "868:\tlearn: 0.1070206\ttotal: 17m 8s\tremaining: 2m 35s\n",
      "869:\tlearn: 0.1070048\ttotal: 17m 9s\tremaining: 2m 33s\n",
      "870:\tlearn: 0.1069787\ttotal: 17m 10s\tremaining: 2m 32s\n",
      "871:\tlearn: 0.1069354\ttotal: 17m 11s\tremaining: 2m 31s\n",
      "872:\tlearn: 0.1069151\ttotal: 17m 12s\tremaining: 2m 30s\n",
      "873:\tlearn: 0.1068987\ttotal: 17m 14s\tremaining: 2m 29s\n",
      "874:\tlearn: 0.1068360\ttotal: 17m 15s\tremaining: 2m 27s\n",
      "875:\tlearn: 0.1067919\ttotal: 17m 16s\tremaining: 2m 26s\n",
      "876:\tlearn: 0.1067723\ttotal: 17m 17s\tremaining: 2m 25s\n",
      "877:\tlearn: 0.1067422\ttotal: 17m 18s\tremaining: 2m 24s\n",
      "878:\tlearn: 0.1067269\ttotal: 17m 19s\tremaining: 2m 23s\n",
      "879:\tlearn: 0.1067118\ttotal: 17m 21s\tremaining: 2m 21s\n",
      "880:\tlearn: 0.1066634\ttotal: 17m 22s\tremaining: 2m 20s\n",
      "881:\tlearn: 0.1066331\ttotal: 17m 23s\tremaining: 2m 19s\n",
      "882:\tlearn: 0.1065709\ttotal: 17m 24s\tremaining: 2m 18s\n",
      "883:\tlearn: 0.1065450\ttotal: 17m 25s\tremaining: 2m 17s\n",
      "884:\tlearn: 0.1065101\ttotal: 17m 26s\tremaining: 2m 16s\n",
      "885:\tlearn: 0.1064763\ttotal: 17m 28s\tremaining: 2m 14s\n",
      "886:\tlearn: 0.1064249\ttotal: 17m 29s\tremaining: 2m 13s\n",
      "887:\tlearn: 0.1064088\ttotal: 17m 30s\tremaining: 2m 12s\n",
      "888:\tlearn: 0.1063689\ttotal: 17m 31s\tremaining: 2m 11s\n",
      "889:\tlearn: 0.1063206\ttotal: 17m 32s\tremaining: 2m 10s\n",
      "890:\tlearn: 0.1062951\ttotal: 17m 33s\tremaining: 2m 8s\n",
      "891:\tlearn: 0.1062500\ttotal: 17m 35s\tremaining: 2m 7s\n",
      "892:\tlearn: 0.1062306\ttotal: 17m 36s\tremaining: 2m 6s\n",
      "893:\tlearn: 0.1061890\ttotal: 17m 37s\tremaining: 2m 5s\n",
      "894:\tlearn: 0.1061208\ttotal: 17m 38s\tremaining: 2m 4s\n",
      "895:\tlearn: 0.1061027\ttotal: 17m 39s\tremaining: 2m 3s\n",
      "896:\tlearn: 0.1060872\ttotal: 17m 41s\tremaining: 2m 1s\n",
      "897:\tlearn: 0.1060719\ttotal: 17m 42s\tremaining: 2m\n",
      "898:\tlearn: 0.1060563\ttotal: 17m 43s\tremaining: 1m 59s\n",
      "899:\tlearn: 0.1060063\ttotal: 17m 44s\tremaining: 1m 58s\n",
      "900:\tlearn: 0.1059906\ttotal: 17m 45s\tremaining: 1m 57s\n",
      "901:\tlearn: 0.1059717\ttotal: 17m 46s\tremaining: 1m 55s\n",
      "902:\tlearn: 0.1059561\ttotal: 17m 47s\tremaining: 1m 54s\n",
      "903:\tlearn: 0.1059405\ttotal: 17m 49s\tremaining: 1m 53s\n",
      "904:\tlearn: 0.1059250\ttotal: 17m 50s\tremaining: 1m 52s\n",
      "905:\tlearn: 0.1058727\ttotal: 17m 51s\tremaining: 1m 51s\n",
      "906:\tlearn: 0.1058205\ttotal: 17m 52s\tremaining: 1m 49s\n",
      "907:\tlearn: 0.1058032\ttotal: 17m 53s\tremaining: 1m 48s\n",
      "908:\tlearn: 0.1057882\ttotal: 17m 55s\tremaining: 1m 47s\n",
      "909:\tlearn: 0.1057688\ttotal: 17m 56s\tremaining: 1m 46s\n",
      "910:\tlearn: 0.1057491\ttotal: 17m 57s\tremaining: 1m 45s\n",
      "911:\tlearn: 0.1057339\ttotal: 17m 58s\tremaining: 1m 44s\n",
      "912:\tlearn: 0.1056812\ttotal: 17m 59s\tremaining: 1m 42s\n",
      "913:\tlearn: 0.1056636\ttotal: 18m 1s\tremaining: 1m 41s\n",
      "914:\tlearn: 0.1056484\ttotal: 18m 2s\tremaining: 1m 40s\n",
      "915:\tlearn: 0.1056195\ttotal: 18m 3s\tremaining: 1m 39s\n",
      "916:\tlearn: 0.1056043\ttotal: 18m 4s\tremaining: 1m 38s\n",
      "917:\tlearn: 0.1055725\ttotal: 18m 5s\tremaining: 1m 36s\n",
      "918:\tlearn: 0.1055553\ttotal: 18m 6s\tremaining: 1m 35s\n",
      "919:\tlearn: 0.1055400\ttotal: 18m 7s\tremaining: 1m 34s\n",
      "920:\tlearn: 0.1055247\ttotal: 18m 9s\tremaining: 1m 33s\n",
      "921:\tlearn: 0.1055101\ttotal: 18m 10s\tremaining: 1m 32s\n",
      "922:\tlearn: 0.1054912\ttotal: 18m 11s\tremaining: 1m 31s\n",
      "923:\tlearn: 0.1054761\ttotal: 18m 12s\tremaining: 1m 29s\n",
      "924:\tlearn: 0.1054531\ttotal: 18m 13s\tremaining: 1m 28s\n",
      "925:\tlearn: 0.1054131\ttotal: 18m 14s\tremaining: 1m 27s\n",
      "926:\tlearn: 0.1053980\ttotal: 18m 16s\tremaining: 1m 26s\n",
      "927:\tlearn: 0.1053828\ttotal: 18m 17s\tremaining: 1m 25s\n",
      "928:\tlearn: 0.1053424\ttotal: 18m 18s\tremaining: 1m 23s\n",
      "929:\tlearn: 0.1053230\ttotal: 18m 19s\tremaining: 1m 22s\n",
      "930:\tlearn: 0.1053078\ttotal: 18m 20s\tremaining: 1m 21s\n",
      "931:\tlearn: 0.1052593\ttotal: 18m 22s\tremaining: 1m 20s\n",
      "932:\tlearn: 0.1052333\ttotal: 18m 23s\tremaining: 1m 19s\n",
      "933:\tlearn: 0.1052186\ttotal: 18m 24s\tremaining: 1m 18s\n",
      "934:\tlearn: 0.1051642\ttotal: 18m 25s\tremaining: 1m 16s\n",
      "935:\tlearn: 0.1050999\ttotal: 18m 26s\tremaining: 1m 15s\n",
      "936:\tlearn: 0.1050624\ttotal: 18m 28s\tremaining: 1m 14s\n",
      "937:\tlearn: 0.1050484\ttotal: 18m 29s\tremaining: 1m 13s\n",
      "938:\tlearn: 0.1050055\ttotal: 18m 30s\tremaining: 1m 12s\n",
      "939:\tlearn: 0.1049861\ttotal: 18m 31s\tremaining: 1m 10s\n",
      "940:\tlearn: 0.1049341\ttotal: 18m 32s\tremaining: 1m 9s\n",
      "941:\tlearn: 0.1049193\ttotal: 18m 33s\tremaining: 1m 8s\n",
      "942:\tlearn: 0.1049021\ttotal: 18m 35s\tremaining: 1m 7s\n",
      "943:\tlearn: 0.1048870\ttotal: 18m 36s\tremaining: 1m 6s\n",
      "944:\tlearn: 0.1048725\ttotal: 18m 37s\tremaining: 1m 5s\n",
      "945:\tlearn: 0.1048575\ttotal: 18m 38s\tremaining: 1m 3s\n",
      "946:\tlearn: 0.1047960\ttotal: 18m 39s\tremaining: 1m 2s\n",
      "947:\tlearn: 0.1047783\ttotal: 18m 40s\tremaining: 1m 1s\n",
      "948:\tlearn: 0.1046979\ttotal: 18m 42s\tremaining: 1m\n",
      "949:\tlearn: 0.1046747\ttotal: 18m 43s\tremaining: 59.1s\n",
      "950:\tlearn: 0.1046599\ttotal: 18m 44s\tremaining: 57.9s\n",
      "951:\tlearn: 0.1046455\ttotal: 18m 45s\tremaining: 56.8s\n",
      "952:\tlearn: 0.1045947\ttotal: 18m 46s\tremaining: 55.6s\n",
      "953:\tlearn: 0.1045801\ttotal: 18m 47s\tremaining: 54.4s\n",
      "954:\tlearn: 0.1045284\ttotal: 18m 49s\tremaining: 53.2s\n",
      "955:\tlearn: 0.1045063\ttotal: 18m 50s\tremaining: 52s\n",
      "956:\tlearn: 0.1044912\ttotal: 18m 51s\tremaining: 50.8s\n",
      "957:\tlearn: 0.1044762\ttotal: 18m 52s\tremaining: 49.7s\n",
      "958:\tlearn: 0.1044612\ttotal: 18m 53s\tremaining: 48.5s\n",
      "959:\tlearn: 0.1043986\ttotal: 18m 55s\tremaining: 47.3s\n",
      "960:\tlearn: 0.1043838\ttotal: 18m 56s\tremaining: 46.1s\n",
      "961:\tlearn: 0.1043371\ttotal: 18m 57s\tremaining: 44.9s\n",
      "962:\tlearn: 0.1043104\ttotal: 18m 58s\tremaining: 43.7s\n",
      "963:\tlearn: 0.1042958\ttotal: 18m 59s\tremaining: 42.6s\n",
      "964:\tlearn: 0.1042810\ttotal: 19m\tremaining: 41.4s\n",
      "965:\tlearn: 0.1042674\ttotal: 19m 1s\tremaining: 40.2s\n",
      "966:\tlearn: 0.1042206\ttotal: 19m 3s\tremaining: 39s\n",
      "967:\tlearn: 0.1041913\ttotal: 19m 4s\tremaining: 37.8s\n",
      "968:\tlearn: 0.1041767\ttotal: 19m 5s\tremaining: 36.6s\n",
      "969:\tlearn: 0.1041265\ttotal: 19m 6s\tremaining: 35.5s\n",
      "970:\tlearn: 0.1041118\ttotal: 19m 7s\tremaining: 34.3s\n",
      "971:\tlearn: 0.1040367\ttotal: 19m 9s\tremaining: 33.1s\n",
      "972:\tlearn: 0.1040132\ttotal: 19m 10s\tremaining: 31.9s\n",
      "973:\tlearn: 0.1039986\ttotal: 19m 11s\tremaining: 30.7s\n",
      "974:\tlearn: 0.1039520\ttotal: 19m 12s\tremaining: 29.6s\n",
      "975:\tlearn: 0.1039376\ttotal: 19m 14s\tremaining: 28.4s\n",
      "976:\tlearn: 0.1038751\ttotal: 19m 15s\tremaining: 27.2s\n",
      "977:\tlearn: 0.1038604\ttotal: 19m 16s\tremaining: 26s\n",
      "978:\tlearn: 0.1038455\ttotal: 19m 17s\tremaining: 24.8s\n",
      "979:\tlearn: 0.1038306\ttotal: 19m 18s\tremaining: 23.7s\n",
      "980:\tlearn: 0.1038087\ttotal: 19m 20s\tremaining: 22.5s\n",
      "981:\tlearn: 0.1037944\ttotal: 19m 21s\tremaining: 21.3s\n",
      "982:\tlearn: 0.1037768\ttotal: 19m 22s\tremaining: 20.1s\n",
      "983:\tlearn: 0.1037611\ttotal: 19m 23s\tremaining: 18.9s\n",
      "984:\tlearn: 0.1037464\ttotal: 19m 24s\tremaining: 17.7s\n",
      "985:\tlearn: 0.1037314\ttotal: 19m 25s\tremaining: 16.6s\n",
      "986:\tlearn: 0.1036967\ttotal: 19m 27s\tremaining: 15.4s\n",
      "987:\tlearn: 0.1036592\ttotal: 19m 28s\tremaining: 14.2s\n",
      "988:\tlearn: 0.1036445\ttotal: 19m 29s\tremaining: 13s\n",
      "989:\tlearn: 0.1036270\ttotal: 19m 30s\tremaining: 11.8s\n",
      "990:\tlearn: 0.1035598\ttotal: 19m 31s\tremaining: 10.6s\n",
      "991:\tlearn: 0.1035422\ttotal: 19m 32s\tremaining: 9.46s\n",
      "992:\tlearn: 0.1034681\ttotal: 19m 34s\tremaining: 8.28s\n",
      "993:\tlearn: 0.1034324\ttotal: 19m 35s\tremaining: 7.09s\n",
      "994:\tlearn: 0.1034184\ttotal: 19m 36s\tremaining: 5.91s\n",
      "995:\tlearn: 0.1034046\ttotal: 19m 37s\tremaining: 4.73s\n",
      "996:\tlearn: 0.1033822\ttotal: 19m 38s\tremaining: 3.55s\n",
      "997:\tlearn: 0.1033571\ttotal: 19m 39s\tremaining: 2.36s\n",
      "998:\tlearn: 0.1033422\ttotal: 19m 41s\tremaining: 1.18s\n",
      "999:\tlearn: 0.1033275\ttotal: 19m 42s\tremaining: 0us\n",
      "Pipeline(steps=[('vectorizer',\n",
      "                 TfidfVectorizer(stop_words=['i', 'me', 'my', 'myself', 'we',\n",
      "                                             'our', 'ours', 'ourselves', 'you',\n",
      "                                             \"you're\", \"you've\", \"you'll\",\n",
      "                                             \"you'd\", 'your', 'yours',\n",
      "                                             'yourself', 'yourselves', 'he',\n",
      "                                             'him', 'his', 'himself', 'she',\n",
      "                                             \"she's\", 'her', 'hers', 'herself',\n",
      "                                             'it', \"it's\", 'its', 'itself', ...])),\n",
      "                ('model', SVC(kernel='linear'))])\n",
      "0.7664052569249252\n"
     ]
    }
   ],
   "source": [
    "pipeline = Pipeline([\n",
    "    ('vectorizer', TfidfVectorizer(stop_words = stopwords)),\n",
    "    ('model', LogisticRegression())\n",
    "])\n",
    "\n",
    "params = [\n",
    "    {'model' : [LogisticRegression(max_iter=500)]},\n",
    "    {'model' : [SVC(kernel = 'linear')]},\n",
    "    {'model' : [CatBoostClassifier()]}\n",
    "]\n",
    "\n",
    "gs = GridSearchCV (estimator = pipeline,\n",
    "                  param_grid = params, \n",
    "                  scoring = 'f1',\n",
    "                  n_jobs = -1,\n",
    "                  cv = 2)\n",
    "\n",
    "gs.fit(X_train, y_train)\n",
    "print(gs.best_estimator_)\n",
    "print(gs.best_score_)"
   ]
  },
  {
   "cell_type": "code",
   "execution_count": 14,
   "metadata": {},
   "outputs": [
    {
     "name": "stdout",
     "output_type": "stream",
     "text": [
      "Лучшая модель: Pipeline(steps=[('vectorizer',\n",
      "                 TfidfVectorizer(stop_words=['i', 'me', 'my', 'myself', 'we',\n",
      "                                             'our', 'ours', 'ourselves', 'you',\n",
      "                                             \"you're\", \"you've\", \"you'll\",\n",
      "                                             \"you'd\", 'your', 'yours',\n",
      "                                             'yourself', 'yourselves', 'he',\n",
      "                                             'him', 'his', 'himself', 'she',\n",
      "                                             \"she's\", 'her', 'hers', 'herself',\n",
      "                                             'it', \"it's\", 'its', 'itself', ...])),\n",
      "                ('model', SVC(kernel='linear'))])\n"
     ]
    }
   ],
   "source": [
    "print(f'Лучшая модель: {gs.best_estimator_}')"
   ]
  },
  {
   "cell_type": "code",
   "execution_count": 15,
   "metadata": {},
   "outputs": [
    {
     "name": "stdout",
     "output_type": "stream",
     "text": [
      "Метрика на кросс валидации: 0.7664052569249252\n"
     ]
    }
   ],
   "source": [
    "print(f'Метрика на кросс валидации: {gs.best_score_}')"
   ]
  },
  {
   "cell_type": "code",
   "execution_count": 16,
   "metadata": {},
   "outputs": [],
   "source": [
    "y_pred = gs.predict(X_test)"
   ]
  },
  {
   "cell_type": "code",
   "execution_count": 17,
   "metadata": {},
   "outputs": [
    {
     "name": "stdout",
     "output_type": "stream",
     "text": [
      "Метрика на тестовой выборке: 0.7713757291222081\n"
     ]
    }
   ],
   "source": [
    "print(f'Метрика на тестовой выборке: {f1_score(y_test, y_pred)}')"
   ]
  },
  {
   "cell_type": "markdown",
   "metadata": {},
   "source": [
    "## Выводы"
   ]
  },
  {
   "cell_type": "markdown",
   "metadata": {},
   "source": [
    "По результату проведенного анализа, можно сделать сделать следующие выводы: \n",
    "1. Были рассмотрены данные, удален лишний столбец, не несущий никакой информативной ценности\n",
    "2. данные были очищенны, понижен регистр, проведена лемматизация\n",
    "3. При преобразовании текстов в векторную форму при помощи TF-IDF, были использованы стоп слова загруженные ранее (английский язык) \n",
    "4. При подборе лучшей модели, было рассмотренно 3: LogisticRegression, SCV, Catboost. Лучшей оказалась SCV с линейным ядром. \n",
    "5. Метрика на кросс валидации выше критерия успешности (0.752 > 0.75)\n",
    "6. Метрика на тестовой выборке выше критерия успешности (0.773 > 0.75)\n",
    "\n",
    "Рекомендации: \n",
    "Предлагаю использовать для поиска токсичных комментариев модель SVC(kernel = 'linear')"
   ]
  }
 ],
 "metadata": {
  "ExecuteTimeLog": [
   {
    "duration": 1731,
    "start_time": "2024-09-22T05:51:20.039Z"
   },
   {
    "duration": 24,
    "start_time": "2024-09-22T05:51:24.866Z"
   },
   {
    "duration": 69,
    "start_time": "2024-09-22T05:52:57.557Z"
   },
   {
    "duration": 8,
    "start_time": "2024-09-22T05:53:07.701Z"
   },
   {
    "duration": 8,
    "start_time": "2024-09-22T05:53:12.331Z"
   },
   {
    "duration": 260,
    "start_time": "2024-09-22T05:53:21.116Z"
   },
   {
    "duration": 203,
    "start_time": "2024-09-22T05:53:27.508Z"
   },
   {
    "duration": 223,
    "start_time": "2024-09-22T05:53:32.846Z"
   },
   {
    "duration": 10,
    "start_time": "2024-09-22T05:53:37.788Z"
   },
   {
    "duration": 37,
    "start_time": "2024-09-22T05:55:21.904Z"
   },
   {
    "duration": 725,
    "start_time": "2024-09-22T05:56:21.605Z"
   },
   {
    "duration": 6,
    "start_time": "2024-09-22T05:57:55.591Z"
   },
   {
    "duration": 9,
    "start_time": "2024-09-22T05:57:58.522Z"
   },
   {
    "duration": 45,
    "start_time": "2024-09-22T05:58:13.997Z"
   },
   {
    "duration": 1085,
    "start_time": "2024-09-22T05:58:14.044Z"
   },
   {
    "duration": 945,
    "start_time": "2024-09-22T05:58:15.130Z"
   },
   {
    "duration": 12,
    "start_time": "2024-09-22T05:58:16.077Z"
   },
   {
    "duration": 22,
    "start_time": "2024-09-22T05:58:16.091Z"
   },
   {
    "duration": 218,
    "start_time": "2024-09-22T05:58:28.190Z"
   },
   {
    "duration": 873,
    "start_time": "2024-09-22T07:46:12.410Z"
   },
   {
    "duration": 831,
    "start_time": "2024-09-22T07:46:46.822Z"
   },
   {
    "duration": 845,
    "start_time": "2024-09-22T07:46:54.824Z"
   },
   {
    "duration": 845,
    "start_time": "2024-09-22T07:48:02.963Z"
   },
   {
    "duration": 851,
    "start_time": "2024-09-22T07:48:19.897Z"
   },
   {
    "duration": 878,
    "start_time": "2024-09-22T07:51:34.524Z"
   },
   {
    "duration": 874,
    "start_time": "2024-09-22T07:51:44.348Z"
   },
   {
    "duration": 908,
    "start_time": "2024-09-22T07:51:51.674Z"
   },
   {
    "duration": 898,
    "start_time": "2024-09-22T07:52:59.915Z"
   },
   {
    "duration": 896,
    "start_time": "2024-09-22T07:53:09.042Z"
   },
   {
    "duration": 28,
    "start_time": "2024-09-22T07:54:20.237Z"
   },
   {
    "duration": 98,
    "start_time": "2024-09-22T07:54:28.670Z"
   },
   {
    "duration": 10,
    "start_time": "2024-09-22T07:54:30.600Z"
   },
   {
    "duration": 600,
    "start_time": "2024-09-22T07:54:50.390Z"
   },
   {
    "duration": 181,
    "start_time": "2024-09-22T07:55:01.504Z"
   },
   {
    "duration": 129,
    "start_time": "2024-09-22T07:55:55.331Z"
   },
   {
    "duration": 140,
    "start_time": "2024-09-22T07:55:57.813Z"
   },
   {
    "duration": 128,
    "start_time": "2024-09-22T07:56:10.278Z"
   },
   {
    "duration": 97,
    "start_time": "2024-09-22T07:56:27.440Z"
   },
   {
    "duration": 90,
    "start_time": "2024-09-22T07:56:33.990Z"
   },
   {
    "duration": 2,
    "start_time": "2024-09-22T07:56:59.488Z"
   },
   {
    "duration": 111,
    "start_time": "2024-09-22T07:57:25.172Z"
   },
   {
    "duration": 100,
    "start_time": "2024-09-22T07:57:31.516Z"
   },
   {
    "duration": 9,
    "start_time": "2024-09-22T08:21:35.281Z"
   },
   {
    "duration": 2,
    "start_time": "2024-09-22T08:21:46.813Z"
   },
   {
    "duration": 2,
    "start_time": "2024-09-22T08:28:26.227Z"
   },
   {
    "duration": 93,
    "start_time": "2024-09-22T09:30:54.912Z"
   },
   {
    "duration": 50,
    "start_time": "2024-09-22T09:32:01.936Z"
   },
   {
    "duration": 1322,
    "start_time": "2024-09-22T09:32:01.988Z"
   },
   {
    "duration": 1009,
    "start_time": "2024-09-22T09:32:03.312Z"
   },
   {
    "duration": 125,
    "start_time": "2024-09-22T09:32:04.323Z"
   },
   {
    "duration": 3,
    "start_time": "2024-09-22T09:32:04.449Z"
   },
   {
    "duration": 20,
    "start_time": "2024-09-22T09:32:04.453Z"
   },
   {
    "duration": 8,
    "start_time": "2024-09-22T09:32:04.474Z"
   },
   {
    "duration": 4380,
    "start_time": "2024-09-22T09:32:04.483Z"
   },
   {
    "duration": 118601,
    "start_time": "2024-09-22T09:32:08.865Z"
   },
   {
    "duration": 0,
    "start_time": "2024-09-22T09:34:07.468Z"
   },
   {
    "duration": 11,
    "start_time": "2024-09-22T09:34:27.958Z"
   },
   {
    "duration": 45,
    "start_time": "2024-09-22T09:34:53.508Z"
   },
   {
    "duration": 1366,
    "start_time": "2024-09-22T09:34:53.555Z"
   },
   {
    "duration": 1327,
    "start_time": "2024-09-22T09:34:54.923Z"
   },
   {
    "duration": 132,
    "start_time": "2024-09-22T09:34:56.251Z"
   },
   {
    "duration": 2,
    "start_time": "2024-09-22T09:34:56.385Z"
   },
   {
    "duration": 12,
    "start_time": "2024-09-22T09:34:56.389Z"
   },
   {
    "duration": 8,
    "start_time": "2024-09-22T09:34:56.402Z"
   },
   {
    "duration": 4442,
    "start_time": "2024-09-22T09:34:56.412Z"
   },
   {
    "duration": 942,
    "start_time": "2024-09-22T09:35:00.856Z"
   },
   {
    "duration": 6,
    "start_time": "2024-09-22T09:35:15.363Z"
   },
   {
    "duration": 45,
    "start_time": "2024-09-22T09:35:35.716Z"
   },
   {
    "duration": 4,
    "start_time": "2024-09-22T09:35:40.745Z"
   },
   {
    "duration": 3,
    "start_time": "2024-09-22T09:35:52.367Z"
   },
   {
    "duration": 4,
    "start_time": "2024-09-22T09:35:52.924Z"
   },
   {
    "duration": 4386,
    "start_time": "2024-09-22T09:36:34.778Z"
   },
   {
    "duration": 725,
    "start_time": "2024-09-22T09:36:41.840Z"
   },
   {
    "duration": 41,
    "start_time": "2024-09-22T09:36:42.692Z"
   },
   {
    "duration": 4,
    "start_time": "2024-09-22T09:36:43.038Z"
   },
   {
    "duration": 4354,
    "start_time": "2024-09-22T09:36:57.101Z"
   },
   {
    "duration": 724,
    "start_time": "2024-09-22T09:37:01.457Z"
   },
   {
    "duration": 41,
    "start_time": "2024-09-22T09:37:02.183Z"
   },
   {
    "duration": 28,
    "start_time": "2024-09-22T09:37:02.226Z"
   },
   {
    "duration": 54,
    "start_time": "2024-09-22T09:39:17.410Z"
   },
   {
    "duration": 1344,
    "start_time": "2024-09-22T09:39:17.466Z"
   },
   {
    "duration": 982,
    "start_time": "2024-09-22T09:39:18.812Z"
   },
   {
    "duration": 127,
    "start_time": "2024-09-22T09:39:19.796Z"
   },
   {
    "duration": 2,
    "start_time": "2024-09-22T09:39:19.926Z"
   },
   {
    "duration": 82,
    "start_time": "2024-09-22T09:39:19.930Z"
   },
   {
    "duration": 54,
    "start_time": "2024-09-22T09:39:20.013Z"
   },
   {
    "duration": 75254,
    "start_time": "2024-09-22T09:39:20.068Z"
   },
   {
    "duration": 24,
    "start_time": "2024-09-22T09:40:35.325Z"
   },
   {
    "duration": 72729,
    "start_time": "2024-09-22T09:53:31.591Z"
   },
   {
    "duration": 45,
    "start_time": "2024-09-22T11:49:04.709Z"
   },
   {
    "duration": 1423,
    "start_time": "2024-09-22T11:49:04.756Z"
   },
   {
    "duration": 1070,
    "start_time": "2024-09-22T11:49:06.181Z"
   },
   {
    "duration": 130,
    "start_time": "2024-09-22T11:49:07.253Z"
   },
   {
    "duration": 3,
    "start_time": "2024-09-22T11:49:07.385Z"
   },
   {
    "duration": 50,
    "start_time": "2024-09-22T11:49:07.389Z"
   },
   {
    "duration": 82359,
    "start_time": "2024-09-22T11:49:07.440Z"
   },
   {
    "duration": 44,
    "start_time": "2024-09-22T11:50:29.801Z"
   },
   {
    "duration": 23,
    "start_time": "2024-09-22T11:50:29.847Z"
   },
   {
    "duration": 6,
    "start_time": "2024-09-22T11:50:29.873Z"
   },
   {
    "duration": 80628,
    "start_time": "2024-09-22T11:50:29.881Z"
   },
   {
    "duration": 23,
    "start_time": "2024-09-22T11:51:50.511Z"
   },
   {
    "duration": 8,
    "start_time": "2024-09-22T11:52:41.937Z"
   },
   {
    "duration": 108,
    "start_time": "2024-09-22T11:56:14.105Z"
   },
   {
    "duration": 61,
    "start_time": "2024-09-22T11:56:20.408Z"
   },
   {
    "duration": 278,
    "start_time": "2024-09-22T11:56:25.389Z"
   },
   {
    "duration": 144,
    "start_time": "2024-09-22T11:56:32.247Z"
   },
   {
    "duration": 7,
    "start_time": "2024-09-22T11:56:36.989Z"
   },
   {
    "duration": 3,
    "start_time": "2024-09-22T11:59:21.697Z"
   },
   {
    "duration": 54,
    "start_time": "2024-09-22T12:00:44.212Z"
   },
   {
    "duration": 91,
    "start_time": "2024-09-22T12:03:24.301Z"
   },
   {
    "duration": 22,
    "start_time": "2024-09-22T12:03:32.339Z"
   },
   {
    "duration": 40,
    "start_time": "2024-09-22T12:03:51.674Z"
   },
   {
    "duration": 73,
    "start_time": "2024-09-22T12:04:45.870Z"
   },
   {
    "duration": 1561,
    "start_time": "2024-09-22T12:04:45.945Z"
   },
   {
    "duration": 1040,
    "start_time": "2024-09-22T12:04:47.508Z"
   },
   {
    "duration": 203,
    "start_time": "2024-09-22T12:04:48.549Z"
   },
   {
    "duration": 3,
    "start_time": "2024-09-22T12:04:48.754Z"
   },
   {
    "duration": 11,
    "start_time": "2024-09-22T12:04:48.758Z"
   },
   {
    "duration": 75713,
    "start_time": "2024-09-22T12:04:48.771Z"
   },
   {
    "duration": 48,
    "start_time": "2024-09-22T12:06:04.486Z"
   },
   {
    "duration": 82,
    "start_time": "2024-09-22T12:06:04.536Z"
   },
   {
    "duration": 125,
    "start_time": "2024-09-22T12:06:04.620Z"
   },
   {
    "duration": 0,
    "start_time": "2024-09-22T12:06:04.747Z"
   },
   {
    "duration": 0,
    "start_time": "2024-09-22T12:06:04.748Z"
   },
   {
    "duration": 0,
    "start_time": "2024-09-22T12:06:04.750Z"
   },
   {
    "duration": 0,
    "start_time": "2024-09-22T12:06:04.751Z"
   },
   {
    "duration": 5,
    "start_time": "2024-09-22T12:07:39.371Z"
   },
   {
    "duration": 4,
    "start_time": "2024-09-22T12:07:46.420Z"
   },
   {
    "duration": 5,
    "start_time": "2024-09-22T12:07:54.584Z"
   },
   {
    "duration": 7,
    "start_time": "2024-09-22T12:07:57.817Z"
   },
   {
    "duration": 8,
    "start_time": "2024-09-22T12:08:13.848Z"
   },
   {
    "duration": 5,
    "start_time": "2024-09-22T12:08:15.940Z"
   },
   {
    "duration": 4,
    "start_time": "2024-09-22T12:08:26.340Z"
   },
   {
    "duration": 3,
    "start_time": "2024-09-22T12:10:16.116Z"
   },
   {
    "duration": 16,
    "start_time": "2024-09-22T12:10:39.254Z"
   },
   {
    "duration": 5,
    "start_time": "2024-09-22T12:11:45.693Z"
   },
   {
    "duration": 7566,
    "start_time": "2024-09-22T12:12:55.979Z"
   },
   {
    "duration": 5,
    "start_time": "2024-09-22T12:13:45.083Z"
   },
   {
    "duration": 7435,
    "start_time": "2024-09-22T12:14:07.066Z"
   },
   {
    "duration": 4,
    "start_time": "2024-09-22T12:14:16.231Z"
   },
   {
    "duration": 3,
    "start_time": "2024-09-22T12:14:38.049Z"
   },
   {
    "duration": 4,
    "start_time": "2024-09-22T12:14:41.793Z"
   },
   {
    "duration": 4,
    "start_time": "2024-09-22T12:14:47.505Z"
   },
   {
    "duration": 3,
    "start_time": "2024-09-22T12:15:37.717Z"
   },
   {
    "duration": 47042,
    "start_time": "2024-09-22T12:16:53.658Z"
   },
   {
    "duration": 19,
    "start_time": "2024-09-22T12:17:47.180Z"
   },
   {
    "duration": 17,
    "start_time": "2024-09-22T12:24:53.124Z"
   },
   {
    "duration": 45437,
    "start_time": "2024-09-22T12:25:43.656Z"
   },
   {
    "duration": 20,
    "start_time": "2024-09-22T12:26:29.095Z"
   },
   {
    "duration": 43661,
    "start_time": "2024-09-22T12:29:26.962Z"
   },
   {
    "duration": 23,
    "start_time": "2024-09-22T12:30:10.667Z"
   },
   {
    "duration": 59,
    "start_time": "2024-09-22T12:31:15.585Z"
   },
   {
    "duration": 1631,
    "start_time": "2024-09-22T12:31:15.646Z"
   },
   {
    "duration": 1007,
    "start_time": "2024-09-22T12:31:17.279Z"
   },
   {
    "duration": 198,
    "start_time": "2024-09-22T12:31:18.288Z"
   },
   {
    "duration": 3,
    "start_time": "2024-09-22T12:31:18.489Z"
   },
   {
    "duration": 10,
    "start_time": "2024-09-22T12:31:18.494Z"
   },
   {
    "duration": 78770,
    "start_time": "2024-09-22T12:31:18.505Z"
   },
   {
    "duration": 45,
    "start_time": "2024-09-22T12:32:37.276Z"
   },
   {
    "duration": 81,
    "start_time": "2024-09-22T12:32:37.322Z"
   },
   {
    "duration": 4,
    "start_time": "2024-09-22T12:32:37.405Z"
   },
   {
    "duration": 7470,
    "start_time": "2024-09-22T12:32:37.411Z"
   },
   {
    "duration": 3,
    "start_time": "2024-09-22T12:32:44.882Z"
   },
   {
    "duration": 48118,
    "start_time": "2024-09-22T12:32:44.886Z"
   },
   {
    "duration": 20,
    "start_time": "2024-09-22T12:33:33.007Z"
   },
   {
    "duration": 47,
    "start_time": "2024-09-23T07:34:44.936Z"
   },
   {
    "duration": 1878,
    "start_time": "2024-09-23T07:34:44.985Z"
   },
   {
    "duration": 1312,
    "start_time": "2024-09-23T07:34:46.865Z"
   },
   {
    "duration": 130,
    "start_time": "2024-09-23T07:34:48.179Z"
   },
   {
    "duration": 3,
    "start_time": "2024-09-23T07:34:48.311Z"
   },
   {
    "duration": 9,
    "start_time": "2024-09-23T07:34:48.315Z"
   },
   {
    "duration": 77343,
    "start_time": "2024-09-23T07:34:48.325Z"
   },
   {
    "duration": 50,
    "start_time": "2024-09-23T07:36:05.670Z"
   },
   {
    "duration": 83,
    "start_time": "2024-09-23T07:36:05.722Z"
   },
   {
    "duration": 5,
    "start_time": "2024-09-23T07:36:05.807Z"
   },
   {
    "duration": 7482,
    "start_time": "2024-09-23T07:36:05.814Z"
   },
   {
    "duration": 4,
    "start_time": "2024-09-23T07:36:13.297Z"
   },
   {
    "duration": 48008,
    "start_time": "2024-09-23T07:36:13.303Z"
   },
   {
    "duration": 18,
    "start_time": "2024-09-23T07:37:01.313Z"
   },
   {
    "duration": 1237,
    "start_time": "2024-09-23T07:57:59.446Z"
   },
   {
    "duration": 20,
    "start_time": "2024-09-23T08:05:16.740Z"
   },
   {
    "duration": 6,
    "start_time": "2024-09-23T08:05:19.923Z"
   },
   {
    "duration": 2517,
    "start_time": "2024-09-23T08:05:52.148Z"
   },
   {
    "duration": 5035,
    "start_time": "2024-09-23T08:06:03.349Z"
   },
   {
    "duration": 375,
    "start_time": "2024-09-23T08:06:17.428Z"
   },
   {
    "duration": 2952,
    "start_time": "2024-09-23T08:07:14.181Z"
   },
   {
    "duration": 3075,
    "start_time": "2024-09-23T08:10:05.632Z"
   },
   {
    "duration": 2408,
    "start_time": "2024-09-23T08:11:26.128Z"
   },
   {
    "duration": 160,
    "start_time": "2024-09-23T08:11:28.538Z"
   },
   {
    "duration": 0,
    "start_time": "2024-09-23T08:11:28.700Z"
   },
   {
    "duration": 53,
    "start_time": "2024-09-23T08:11:40.640Z"
   },
   {
    "duration": 1641,
    "start_time": "2024-09-23T08:11:40.695Z"
   },
   {
    "duration": 1508,
    "start_time": "2024-09-23T08:11:42.338Z"
   },
   {
    "duration": 238,
    "start_time": "2024-09-23T08:11:43.848Z"
   },
   {
    "duration": 4,
    "start_time": "2024-09-23T08:11:44.088Z"
   },
   {
    "duration": 8,
    "start_time": "2024-09-23T08:11:44.094Z"
   },
   {
    "duration": 82587,
    "start_time": "2024-09-23T08:11:44.105Z"
   },
   {
    "duration": 56,
    "start_time": "2024-09-23T08:13:06.693Z"
   },
   {
    "duration": 78,
    "start_time": "2024-09-23T08:13:06.750Z"
   },
   {
    "duration": 5,
    "start_time": "2024-09-23T08:13:06.831Z"
   },
   {
    "duration": 7543,
    "start_time": "2024-09-23T08:13:06.837Z"
   },
   {
    "duration": 48303,
    "start_time": "2024-09-23T08:13:14.383Z"
   },
   {
    "duration": 20,
    "start_time": "2024-09-23T08:14:02.688Z"
   },
   {
    "duration": 1173,
    "start_time": "2024-09-23T08:14:02.710Z"
   },
   {
    "duration": 16,
    "start_time": "2024-09-23T08:14:03.884Z"
   },
   {
    "duration": 274,
    "start_time": "2024-09-24T05:18:35.032Z"
   },
   {
    "duration": 1913,
    "start_time": "2024-09-24T05:20:57.807Z"
   },
   {
    "duration": 27,
    "start_time": "2024-09-24T05:24:40.803Z"
   },
   {
    "duration": 5,
    "start_time": "2024-09-24T05:25:03.668Z"
   },
   {
    "duration": 150,
    "start_time": "2024-09-24T05:25:31.709Z"
   },
   {
    "duration": 85,
    "start_time": "2024-09-24T05:25:39.311Z"
   },
   {
    "duration": 4,
    "start_time": "2024-09-24T05:29:49.472Z"
   },
   {
    "duration": 4,
    "start_time": "2024-09-24T05:31:22.313Z"
   },
   {
    "duration": 49,
    "start_time": "2024-09-24T05:35:07.480Z"
   },
   {
    "duration": 1710,
    "start_time": "2024-09-24T05:35:07.531Z"
   },
   {
    "duration": 1450,
    "start_time": "2024-09-24T05:35:09.243Z"
   },
   {
    "duration": 127,
    "start_time": "2024-09-24T05:35:10.695Z"
   },
   {
    "duration": 2,
    "start_time": "2024-09-24T05:35:10.824Z"
   },
   {
    "duration": 10,
    "start_time": "2024-09-24T05:35:10.828Z"
   },
   {
    "duration": 84044,
    "start_time": "2024-09-24T05:35:10.839Z"
   },
   {
    "duration": 52,
    "start_time": "2024-09-24T05:36:34.885Z"
   },
   {
    "duration": 148,
    "start_time": "2024-09-24T05:36:34.938Z"
   },
   {
    "duration": 5,
    "start_time": "2024-09-24T05:36:35.088Z"
   },
   {
    "duration": 8019,
    "start_time": "2024-09-24T05:36:35.095Z"
   },
   {
    "duration": 151,
    "start_time": "2024-09-24T05:36:43.116Z"
   },
   {
    "duration": 0,
    "start_time": "2024-09-24T05:36:43.269Z"
   },
   {
    "duration": 0,
    "start_time": "2024-09-24T05:36:43.270Z"
   },
   {
    "duration": 161221,
    "start_time": "2024-09-24T05:38:32.165Z"
   },
   {
    "duration": 50,
    "start_time": "2024-09-24T05:41:23.791Z"
   },
   {
    "duration": 1690,
    "start_time": "2024-09-24T05:41:23.843Z"
   },
   {
    "duration": 1051,
    "start_time": "2024-09-24T05:41:25.535Z"
   },
   {
    "duration": 131,
    "start_time": "2024-09-24T05:41:26.588Z"
   },
   {
    "duration": 3,
    "start_time": "2024-09-24T05:41:26.721Z"
   },
   {
    "duration": 11,
    "start_time": "2024-09-24T05:41:26.726Z"
   },
   {
    "duration": 80963,
    "start_time": "2024-09-24T05:41:26.738Z"
   },
   {
    "duration": 62,
    "start_time": "2024-09-24T05:42:47.704Z"
   },
   {
    "duration": 72,
    "start_time": "2024-09-24T05:42:47.768Z"
   },
   {
    "duration": 15,
    "start_time": "2024-09-24T05:42:47.842Z"
   },
   {
    "duration": 7772,
    "start_time": "2024-09-24T05:42:47.859Z"
   },
   {
    "duration": 117927,
    "start_time": "2024-09-24T05:42:55.632Z"
   },
   {
    "duration": 47240,
    "start_time": "2024-09-24T05:44:53.561Z"
   },
   {
    "duration": 18,
    "start_time": "2024-09-24T05:45:40.804Z"
   },
   {
    "duration": 126934,
    "start_time": "2024-09-24T05:47:59.924Z"
   },
   {
    "duration": 180724,
    "start_time": "2024-09-24T05:50:20.133Z"
   },
   {
    "duration": 5306987,
    "start_time": "2024-09-24T05:59:51.464Z"
   },
   {
    "duration": 975,
    "start_time": "2024-09-24T07:32:59.472Z"
   },
   {
    "duration": 137,
    "start_time": "2024-09-24T07:33:00.456Z"
   },
   {
    "duration": 3,
    "start_time": "2024-09-24T07:33:02.127Z"
   },
   {
    "duration": 7,
    "start_time": "2024-09-24T07:33:02.562Z"
   },
   {
    "duration": 24932,
    "start_time": "2024-09-24T07:33:02.990Z"
   },
   {
    "duration": 0,
    "start_time": "2024-09-24T07:33:27.925Z"
   },
   {
    "duration": 0,
    "start_time": "2024-09-24T07:33:27.926Z"
   },
   {
    "duration": 0,
    "start_time": "2024-09-24T07:33:27.927Z"
   },
   {
    "duration": 0,
    "start_time": "2024-09-24T07:33:27.928Z"
   },
   {
    "duration": 963,
    "start_time": "2024-09-24T07:33:39.096Z"
   },
   {
    "duration": 126,
    "start_time": "2024-09-24T07:33:40.061Z"
   },
   {
    "duration": 3,
    "start_time": "2024-09-24T07:33:40.190Z"
   },
   {
    "duration": 6,
    "start_time": "2024-09-24T07:33:40.359Z"
   },
   {
    "duration": 87759,
    "start_time": "2024-09-24T07:33:40.664Z"
   },
   {
    "duration": 62,
    "start_time": "2024-09-24T07:35:08.426Z"
   },
   {
    "duration": 127,
    "start_time": "2024-09-24T07:35:08.490Z"
   },
   {
    "duration": 5,
    "start_time": "2024-09-24T07:35:08.619Z"
   },
   {
    "duration": 8767,
    "start_time": "2024-09-24T07:35:08.625Z"
   },
   {
    "duration": 12,
    "start_time": "2024-09-24T07:35:17.393Z"
   },
   {
    "duration": 0,
    "start_time": "2024-09-24T07:35:17.407Z"
   },
   {
    "duration": 0,
    "start_time": "2024-09-24T07:35:17.408Z"
   },
   {
    "duration": 0,
    "start_time": "2024-09-24T07:35:17.410Z"
   },
   {
    "duration": 6,
    "start_time": "2024-09-24T07:36:16.025Z"
   },
   {
    "duration": 5,
    "start_time": "2024-09-24T07:36:17.219Z"
   },
   {
    "duration": 4,
    "start_time": "2024-09-24T07:36:37.306Z"
   },
   {
    "duration": 960,
    "start_time": "2024-09-24T07:36:37.746Z"
   },
   {
    "duration": 125,
    "start_time": "2024-09-24T07:36:38.708Z"
   },
   {
    "duration": 3,
    "start_time": "2024-09-24T07:36:38.835Z"
   },
   {
    "duration": 5,
    "start_time": "2024-09-24T07:36:39.586Z"
   },
   {
    "duration": 88188,
    "start_time": "2024-09-24T07:36:43.025Z"
   },
   {
    "duration": 82,
    "start_time": "2024-09-24T07:38:11.216Z"
   },
   {
    "duration": 126,
    "start_time": "2024-09-24T07:38:11.300Z"
   },
   {
    "duration": 4,
    "start_time": "2024-09-24T07:38:11.429Z"
   },
   {
    "duration": 22977,
    "start_time": "2024-09-24T07:38:11.435Z"
   },
   {
    "duration": 4,
    "start_time": "2024-09-24T07:38:46.434Z"
   },
   {
    "duration": 54,
    "start_time": "2024-09-24T07:39:05.390Z"
   },
   {
    "duration": 1838,
    "start_time": "2024-09-24T07:39:05.446Z"
   },
   {
    "duration": 1124,
    "start_time": "2024-09-24T07:39:07.286Z"
   },
   {
    "duration": 143,
    "start_time": "2024-09-24T07:39:08.412Z"
   },
   {
    "duration": 3,
    "start_time": "2024-09-24T07:39:08.558Z"
   },
   {
    "duration": 7,
    "start_time": "2024-09-24T07:39:08.563Z"
   },
   {
    "duration": 88343,
    "start_time": "2024-09-24T07:39:08.572Z"
   },
   {
    "duration": 63,
    "start_time": "2024-09-24T07:40:36.917Z"
   },
   {
    "duration": 90,
    "start_time": "2024-09-24T07:40:36.982Z"
   },
   {
    "duration": 5,
    "start_time": "2024-09-24T07:40:37.074Z"
   },
   {
    "duration": 23009,
    "start_time": "2024-09-24T07:40:37.081Z"
   },
   {
    "duration": 5,
    "start_time": "2024-09-24T07:41:00.092Z"
   },
   {
    "duration": 209968,
    "start_time": "2024-09-24T07:41:00.099Z"
   },
   {
    "duration": 82266,
    "start_time": "2024-09-24T07:44:30.070Z"
   },
   {
    "duration": 33,
    "start_time": "2024-09-24T07:45:52.338Z"
   },
   {
    "duration": 138,
    "start_time": "2024-09-24T07:49:55.793Z"
   },
   {
    "duration": 3460,
    "start_time": "2024-09-24T07:49:55.934Z"
   },
   {
    "duration": 1452,
    "start_time": "2024-09-24T07:49:59.396Z"
   },
   {
    "duration": 137,
    "start_time": "2024-09-24T07:50:00.850Z"
   },
   {
    "duration": 3,
    "start_time": "2024-09-24T07:50:00.989Z"
   },
   {
    "duration": 51,
    "start_time": "2024-09-24T07:50:00.994Z"
   },
   {
    "duration": 94119,
    "start_time": "2024-09-24T07:50:01.047Z"
   },
   {
    "duration": 64,
    "start_time": "2024-09-24T07:51:35.169Z"
   },
   {
    "duration": 85,
    "start_time": "2024-09-24T07:51:35.234Z"
   },
   {
    "duration": 7,
    "start_time": "2024-09-24T07:51:35.321Z"
   },
   {
    "duration": 8758,
    "start_time": "2024-09-24T07:51:35.329Z"
   },
   {
    "duration": 132071,
    "start_time": "2024-09-24T07:51:44.089Z"
   },
   {
    "duration": 47830,
    "start_time": "2024-09-24T07:53:56.165Z"
   },
   {
    "duration": 20,
    "start_time": "2024-09-24T07:54:43.997Z"
   },
   {
    "duration": 69,
    "start_time": "2024-09-24T07:55:37.464Z"
   },
   {
    "duration": 1832,
    "start_time": "2024-09-24T07:55:37.535Z"
   },
   {
    "duration": 1106,
    "start_time": "2024-09-24T07:55:39.370Z"
   },
   {
    "duration": 144,
    "start_time": "2024-09-24T07:55:40.478Z"
   },
   {
    "duration": 3,
    "start_time": "2024-09-24T07:55:40.624Z"
   },
   {
    "duration": 10,
    "start_time": "2024-09-24T07:55:40.629Z"
   },
   {
    "duration": 92549,
    "start_time": "2024-09-24T07:55:40.641Z"
   },
   {
    "duration": 66,
    "start_time": "2024-09-24T07:57:13.193Z"
   },
   {
    "duration": 70,
    "start_time": "2024-09-24T07:57:13.269Z"
   },
   {
    "duration": 5,
    "start_time": "2024-09-24T07:57:13.341Z"
   },
   {
    "duration": 28563,
    "start_time": "2024-09-24T07:57:13.348Z"
   },
   {
    "duration": 4,
    "start_time": "2024-09-24T07:57:41.913Z"
   },
   {
    "duration": 51,
    "start_time": "2024-09-24T08:13:08.848Z"
   },
   {
    "duration": 1899,
    "start_time": "2024-09-24T08:13:11.775Z"
   },
   {
    "duration": 1351,
    "start_time": "2024-09-24T08:13:13.757Z"
   },
   {
    "duration": 127,
    "start_time": "2024-09-24T08:13:15.110Z"
   },
   {
    "duration": 11,
    "start_time": "2024-09-24T08:13:23.809Z"
   },
   {
    "duration": 281,
    "start_time": "2024-09-24T08:22:22.865Z"
   },
   {
    "duration": 3114,
    "start_time": "2024-09-24T08:22:23.148Z"
   },
   {
    "duration": 987,
    "start_time": "2024-09-24T08:22:26.264Z"
   },
   {
    "duration": 112,
    "start_time": "2024-09-24T08:22:27.256Z"
   },
   {
    "duration": 2,
    "start_time": "2024-09-24T08:22:27.370Z"
   },
   {
    "duration": 10,
    "start_time": "2024-09-24T08:22:27.374Z"
   },
   {
    "duration": 11190,
    "start_time": "2024-09-24T08:22:27.386Z"
   },
   {
    "duration": 9,
    "start_time": "2024-09-24T08:22:38.578Z"
   },
   {
    "duration": 49,
    "start_time": "2024-09-24T08:22:38.589Z"
   },
   {
    "duration": 14,
    "start_time": "2024-09-24T08:22:38.640Z"
   },
   {
    "duration": 1168,
    "start_time": "2024-09-24T08:22:38.656Z"
   },
   {
    "duration": 50,
    "start_time": "2024-09-24T08:22:39.826Z"
   },
   {
    "duration": 6478,
    "start_time": "2024-09-24T08:22:39.878Z"
   },
   {
    "duration": 9,
    "start_time": "2024-09-24T08:22:46.360Z"
   },
   {
    "duration": 51,
    "start_time": "2024-09-24T08:23:08.566Z"
   },
   {
    "duration": 1853,
    "start_time": "2024-09-24T08:23:08.622Z"
   },
   {
    "duration": 1033,
    "start_time": "2024-09-24T08:23:10.477Z"
   },
   {
    "duration": 118,
    "start_time": "2024-09-24T08:23:11.512Z"
   },
   {
    "duration": 3,
    "start_time": "2024-09-24T08:23:11.632Z"
   },
   {
    "duration": 19,
    "start_time": "2024-09-24T08:23:11.637Z"
   },
   {
    "duration": 56,
    "start_time": "2024-09-24T08:23:17.359Z"
   },
   {
    "duration": 1807,
    "start_time": "2024-09-24T08:23:17.417Z"
   },
   {
    "duration": 1008,
    "start_time": "2024-09-24T08:23:19.225Z"
   },
   {
    "duration": 126,
    "start_time": "2024-09-24T08:23:20.235Z"
   },
   {
    "duration": 3,
    "start_time": "2024-09-24T08:23:20.364Z"
   },
   {
    "duration": 6,
    "start_time": "2024-09-24T08:23:20.369Z"
   },
   {
    "duration": 11121,
    "start_time": "2024-09-24T08:23:20.377Z"
   },
   {
    "duration": 10,
    "start_time": "2024-09-24T08:23:31.500Z"
   },
   {
    "duration": 63,
    "start_time": "2024-09-24T08:23:31.512Z"
   },
   {
    "duration": 24,
    "start_time": "2024-09-24T08:23:31.577Z"
   },
   {
    "duration": 1184,
    "start_time": "2024-09-24T08:23:31.603Z"
   },
   {
    "duration": 25371,
    "start_time": "2024-09-24T08:23:32.789Z"
   },
   {
    "duration": 8394,
    "start_time": "2024-09-24T08:23:58.162Z"
   },
   {
    "duration": 99,
    "start_time": "2024-09-24T08:24:06.561Z"
   },
   {
    "duration": 58,
    "start_time": "2024-09-24T08:24:21.643Z"
   },
   {
    "duration": 1727,
    "start_time": "2024-09-24T08:24:21.703Z"
   },
   {
    "duration": 966,
    "start_time": "2024-09-24T08:24:23.432Z"
   },
   {
    "duration": 140,
    "start_time": "2024-09-24T08:24:24.399Z"
   },
   {
    "duration": 3,
    "start_time": "2024-09-24T08:24:24.542Z"
   },
   {
    "duration": 14,
    "start_time": "2024-09-24T08:24:24.546Z"
   },
   {
    "duration": 86998,
    "start_time": "2024-09-24T08:24:24.562Z"
   },
   {
    "duration": 54,
    "start_time": "2024-09-24T08:25:51.562Z"
   },
   {
    "duration": 81,
    "start_time": "2024-09-24T08:25:51.618Z"
   },
   {
    "duration": 5,
    "start_time": "2024-09-24T08:25:51.701Z"
   },
   {
    "duration": 7971,
    "start_time": "2024-09-24T08:25:51.708Z"
   },
   {
    "duration": 131378,
    "start_time": "2024-09-24T08:25:59.681Z"
   },
   {
    "duration": 52930,
    "start_time": "2024-09-24T08:28:11.062Z"
   },
   {
    "duration": 19,
    "start_time": "2024-09-24T08:29:03.995Z"
   },
   {
    "duration": 4,
    "start_time": "2024-09-24T08:30:07.421Z"
   },
   {
    "duration": 162,
    "start_time": "2024-09-24T08:31:48.126Z"
   },
   {
    "duration": 4,
    "start_time": "2024-09-24T08:31:56.172Z"
   },
   {
    "duration": 54,
    "start_time": "2024-09-24T08:51:15.375Z"
   },
   {
    "duration": 1828,
    "start_time": "2024-09-24T08:51:15.431Z"
   },
   {
    "duration": 1020,
    "start_time": "2024-09-24T08:51:17.261Z"
   },
   {
    "duration": 145,
    "start_time": "2024-09-24T08:51:18.283Z"
   },
   {
    "duration": 2,
    "start_time": "2024-09-24T08:51:18.431Z"
   },
   {
    "duration": 21,
    "start_time": "2024-09-24T08:51:18.435Z"
   },
   {
    "duration": 12242,
    "start_time": "2024-09-24T08:51:18.459Z"
   },
   {
    "duration": 10,
    "start_time": "2024-09-24T08:51:30.703Z"
   },
   {
    "duration": 56,
    "start_time": "2024-09-24T08:51:30.714Z"
   },
   {
    "duration": 10,
    "start_time": "2024-09-24T08:51:30.772Z"
   },
   {
    "duration": 1184,
    "start_time": "2024-09-24T08:51:30.784Z"
   },
   {
    "duration": 64533,
    "start_time": "2024-09-24T08:51:31.970Z"
   },
   {
    "duration": 6255,
    "start_time": "2024-09-24T08:52:36.505Z"
   },
   {
    "duration": 93,
    "start_time": "2024-09-24T08:52:42.765Z"
   },
   {
    "duration": 64,
    "start_time": "2024-09-24T09:26:25.406Z"
   },
   {
    "duration": 1872,
    "start_time": "2024-09-24T09:26:25.472Z"
   },
   {
    "duration": 1122,
    "start_time": "2024-09-24T09:26:27.345Z"
   },
   {
    "duration": 128,
    "start_time": "2024-09-24T09:26:28.469Z"
   },
   {
    "duration": 3,
    "start_time": "2024-09-24T09:26:28.599Z"
   },
   {
    "duration": 7,
    "start_time": "2024-09-24T09:26:28.604Z"
   },
   {
    "duration": 11779,
    "start_time": "2024-09-24T09:26:28.613Z"
   },
   {
    "duration": 10,
    "start_time": "2024-09-24T09:26:40.393Z"
   },
   {
    "duration": 15,
    "start_time": "2024-09-24T09:26:40.405Z"
   },
   {
    "duration": 4,
    "start_time": "2024-09-24T09:26:40.422Z"
   },
   {
    "duration": 1353,
    "start_time": "2024-09-24T09:26:40.428Z"
   },
   {
    "duration": 32995,
    "start_time": "2024-09-24T09:26:41.782Z"
   },
   {
    "duration": 11111,
    "start_time": "2024-09-24T09:27:14.859Z"
   },
   {
    "duration": 7,
    "start_time": "2024-09-24T09:27:25.973Z"
   },
   {
    "duration": 54,
    "start_time": "2024-09-24T09:28:39.819Z"
   },
   {
    "duration": 1806,
    "start_time": "2024-09-24T09:28:39.875Z"
   },
   {
    "duration": 1006,
    "start_time": "2024-09-24T09:28:41.683Z"
   },
   {
    "duration": 136,
    "start_time": "2024-09-24T09:28:42.691Z"
   },
   {
    "duration": 2,
    "start_time": "2024-09-24T09:28:42.829Z"
   },
   {
    "duration": 52,
    "start_time": "2024-09-24T09:28:42.833Z"
   },
   {
    "duration": 83671,
    "start_time": "2024-09-24T09:28:42.887Z"
   },
   {
    "duration": 48,
    "start_time": "2024-09-24T09:30:06.560Z"
   },
   {
    "duration": 96,
    "start_time": "2024-09-24T09:30:06.610Z"
   },
   {
    "duration": 5,
    "start_time": "2024-09-24T09:30:06.708Z"
   },
   {
    "duration": 7825,
    "start_time": "2024-09-24T09:30:06.715Z"
   },
   {
    "duration": 3125161,
    "start_time": "2024-09-24T09:30:14.542Z"
   },
   {
    "duration": 51387,
    "start_time": "2024-09-24T10:22:19.706Z"
   },
   {
    "duration": 20,
    "start_time": "2024-09-24T10:23:11.096Z"
   },
   {
    "duration": 109,
    "start_time": "2024-09-24T10:42:37.509Z"
   },
   {
    "duration": 3110,
    "start_time": "2024-09-24T10:42:37.655Z"
   },
   {
    "duration": 2122,
    "start_time": "2024-09-24T10:42:40.767Z"
   },
   {
    "duration": 282,
    "start_time": "2024-09-24T10:42:42.890Z"
   },
   {
    "duration": 4,
    "start_time": "2024-09-24T10:42:43.175Z"
   },
   {
    "duration": 74,
    "start_time": "2024-09-24T10:42:43.181Z"
   },
   {
    "duration": 94313,
    "start_time": "2024-09-24T10:42:43.257Z"
   },
   {
    "duration": 0,
    "start_time": "2024-09-24T10:44:17.572Z"
   },
   {
    "duration": 0,
    "start_time": "2024-09-24T10:44:17.574Z"
   },
   {
    "duration": 0,
    "start_time": "2024-09-24T10:44:17.576Z"
   },
   {
    "duration": 0,
    "start_time": "2024-09-24T10:44:17.578Z"
   },
   {
    "duration": 0,
    "start_time": "2024-09-24T10:44:17.579Z"
   },
   {
    "duration": 0,
    "start_time": "2024-09-24T10:44:17.581Z"
   },
   {
    "duration": 0,
    "start_time": "2024-09-24T10:44:17.582Z"
   },
   {
    "duration": 50,
    "start_time": "2024-09-24T10:46:17.705Z"
   },
   {
    "duration": 1721,
    "start_time": "2024-09-24T10:46:17.757Z"
   },
   {
    "duration": 1079,
    "start_time": "2024-09-24T10:46:19.479Z"
   },
   {
    "duration": 135,
    "start_time": "2024-09-24T10:46:20.560Z"
   },
   {
    "duration": 3,
    "start_time": "2024-09-24T10:46:20.697Z"
   },
   {
    "duration": 7,
    "start_time": "2024-09-24T10:46:20.701Z"
   },
   {
    "duration": 80119,
    "start_time": "2024-09-24T10:46:20.710Z"
   },
   {
    "duration": 51,
    "start_time": "2024-09-24T10:47:40.831Z"
   },
   {
    "duration": 74,
    "start_time": "2024-09-24T10:47:40.884Z"
   },
   {
    "duration": 5,
    "start_time": "2024-09-24T10:47:40.959Z"
   },
   {
    "duration": 7757,
    "start_time": "2024-09-24T10:47:40.966Z"
   },
   {
    "duration": 3,
    "start_time": "2024-09-24T10:47:48.725Z"
   },
   {
    "duration": 1594676,
    "start_time": "2024-09-24T10:47:48.729Z"
   },
   {
    "duration": 141,
    "start_time": "2024-09-24T11:14:23.408Z"
   },
   {
    "duration": 604529,
    "start_time": "2024-09-24T11:18:57.034Z"
   },
   {
    "duration": 47,
    "start_time": "2024-09-24T11:56:10.733Z"
   },
   {
    "duration": 1682,
    "start_time": "2024-09-24T11:56:10.782Z"
   },
   {
    "duration": 1081,
    "start_time": "2024-09-24T11:56:12.465Z"
   },
   {
    "duration": 135,
    "start_time": "2024-09-24T11:56:13.548Z"
   },
   {
    "duration": 3,
    "start_time": "2024-09-24T11:56:13.686Z"
   },
   {
    "duration": 8,
    "start_time": "2024-09-24T11:56:13.690Z"
   },
   {
    "duration": 81336,
    "start_time": "2024-09-24T11:56:13.699Z"
   },
   {
    "duration": 63,
    "start_time": "2024-09-24T11:57:35.037Z"
   },
   {
    "duration": 80,
    "start_time": "2024-09-24T11:57:35.102Z"
   },
   {
    "duration": 5,
    "start_time": "2024-09-24T11:57:35.184Z"
   },
   {
    "duration": 7770,
    "start_time": "2024-09-24T11:57:35.191Z"
   },
   {
    "duration": 51,
    "start_time": "2024-09-24T16:31:40.282Z"
   },
   {
    "duration": 1909,
    "start_time": "2024-09-24T16:31:40.335Z"
   },
   {
    "duration": 1232,
    "start_time": "2024-09-24T16:31:42.246Z"
   },
   {
    "duration": 128,
    "start_time": "2024-09-24T16:31:43.479Z"
   },
   {
    "duration": 2,
    "start_time": "2024-09-24T16:31:43.609Z"
   },
   {
    "duration": 20,
    "start_time": "2024-09-24T16:31:43.613Z"
   },
   {
    "duration": 72277,
    "start_time": "2024-09-24T16:31:43.635Z"
   },
   {
    "duration": 52,
    "start_time": "2024-09-24T16:32:55.914Z"
   },
   {
    "duration": 74,
    "start_time": "2024-09-24T16:32:55.968Z"
   },
   {
    "duration": 12,
    "start_time": "2024-09-24T16:32:56.043Z"
   },
   {
    "duration": 7134,
    "start_time": "2024-09-24T16:32:56.057Z"
   },
   {
    "duration": 2741032,
    "start_time": "2024-09-24T16:33:03.193Z"
   },
   {
    "duration": 72,
    "start_time": "2024-09-24T17:23:15.124Z"
   },
   {
    "duration": 1534,
    "start_time": "2024-09-24T17:23:15.197Z"
   },
   {
    "duration": 1035,
    "start_time": "2024-09-24T17:23:16.733Z"
   },
   {
    "duration": 125,
    "start_time": "2024-09-24T17:23:17.770Z"
   },
   {
    "duration": 3,
    "start_time": "2024-09-24T17:23:17.897Z"
   },
   {
    "duration": 6,
    "start_time": "2024-09-24T17:23:17.901Z"
   },
   {
    "duration": 72365,
    "start_time": "2024-09-24T17:23:17.909Z"
   },
   {
    "duration": 45,
    "start_time": "2024-09-24T17:24:30.276Z"
   },
   {
    "duration": 80,
    "start_time": "2024-09-24T17:24:30.323Z"
   },
   {
    "duration": 5,
    "start_time": "2024-09-24T17:24:30.404Z"
   },
   {
    "duration": 7115,
    "start_time": "2024-09-24T17:24:30.411Z"
   },
   {
    "duration": 5293623,
    "start_time": "2024-09-24T17:24:37.528Z"
   },
   {
    "duration": 135,
    "start_time": "2024-09-24T18:52:51.154Z"
   },
   {
    "duration": 4,
    "start_time": "2024-09-24T18:54:52.766Z"
   },
   {
    "duration": 6,
    "start_time": "2024-09-24T18:55:09.639Z"
   },
   {
    "duration": 150445,
    "start_time": "2024-09-24T18:55:54.015Z"
   },
   {
    "duration": 14,
    "start_time": "2024-09-24T18:58:24.463Z"
   },
   {
    "duration": 2007,
    "start_time": "2024-09-25T11:43:07.863Z"
   },
   {
    "duration": 68,
    "start_time": "2024-09-25T11:43:40.244Z"
   },
   {
    "duration": 88,
    "start_time": "2024-09-25T11:43:41.316Z"
   },
   {
    "duration": 1399,
    "start_time": "2024-09-25T11:43:43.276Z"
   },
   {
    "duration": 130,
    "start_time": "2024-09-25T11:43:47.684Z"
   },
   {
    "duration": 3,
    "start_time": "2024-09-25T11:44:02.798Z"
   },
   {
    "duration": 6,
    "start_time": "2024-09-25T11:44:03.301Z"
   },
   {
    "duration": 12616,
    "start_time": "2024-09-25T11:44:55.654Z"
   },
   {
    "duration": 11208,
    "start_time": "2024-09-25T11:45:12.190Z"
   },
   {
    "duration": 184,
    "start_time": "2024-09-25T11:47:29.639Z"
   },
   {
    "duration": 11659,
    "start_time": "2024-09-25T11:47:52.689Z"
   },
   {
    "duration": 15180,
    "start_time": "2024-09-25T11:52:44.076Z"
   },
   {
    "duration": 1156730,
    "start_time": "2024-09-25T11:53:27.819Z"
   },
   {
    "duration": 58,
    "start_time": "2024-09-25T12:26:09.877Z"
   },
   {
    "duration": 6,
    "start_time": "2024-09-25T12:26:27.772Z"
   },
   {
    "duration": 67,
    "start_time": "2024-09-25T12:26:42.165Z"
   },
   {
    "duration": 5,
    "start_time": "2024-09-25T12:26:43.229Z"
   },
   {
    "duration": 7586,
    "start_time": "2024-09-25T12:26:44.180Z"
   },
   {
    "duration": 4,
    "start_time": "2024-09-25T12:26:57.644Z"
   },
   {
    "duration": 59,
    "start_time": "2024-09-25T12:28:26.487Z"
   },
   {
    "duration": 4776,
    "start_time": "2024-09-25T12:28:27.797Z"
   },
   {
    "duration": 1020,
    "start_time": "2024-09-25T12:28:32.575Z"
   },
   {
    "duration": 136,
    "start_time": "2024-09-25T12:28:33.596Z"
   },
   {
    "duration": 3,
    "start_time": "2024-09-25T12:28:33.736Z"
   },
   {
    "duration": 7,
    "start_time": "2024-09-25T12:28:33.740Z"
   },
   {
    "duration": 1099437,
    "start_time": "2024-09-25T12:28:33.749Z"
   },
   {
    "duration": 56,
    "start_time": "2024-09-25T12:46:53.188Z"
   },
   {
    "duration": 81,
    "start_time": "2024-09-25T12:46:53.246Z"
   },
   {
    "duration": 6,
    "start_time": "2024-09-25T12:46:53.329Z"
   },
   {
    "duration": 7773,
    "start_time": "2024-09-25T12:46:53.337Z"
   },
   {
    "duration": 8,
    "start_time": "2024-09-25T12:47:01.112Z"
   },
   {
    "duration": 8,
    "start_time": "2024-09-25T12:47:01.122Z"
   },
   {
    "duration": 5,
    "start_time": "2024-09-25T13:26:19.210Z"
   },
   {
    "duration": 36,
    "start_time": "2024-09-25T15:07:00.222Z"
   },
   {
    "duration": 4870,
    "start_time": "2024-09-25T15:07:00.260Z"
   },
   {
    "duration": 3746,
    "start_time": "2024-09-25T15:07:05.132Z"
   },
   {
    "duration": 124,
    "start_time": "2024-09-25T15:07:08.879Z"
   },
   {
    "duration": 3,
    "start_time": "2024-09-25T15:07:09.004Z"
   },
   {
    "duration": 51,
    "start_time": "2024-09-25T15:07:09.008Z"
   },
   {
    "duration": 1058554,
    "start_time": "2024-09-25T15:07:09.062Z"
   },
   {
    "duration": 48,
    "start_time": "2024-09-25T15:24:47.617Z"
   },
   {
    "duration": 82,
    "start_time": "2024-09-25T15:24:47.667Z"
   },
   {
    "duration": 5,
    "start_time": "2024-09-25T15:24:47.752Z"
   },
   {
    "duration": 7169,
    "start_time": "2024-09-25T15:24:47.759Z"
   },
   {
    "duration": 4,
    "start_time": "2024-09-25T15:24:54.930Z"
   },
   {
    "duration": 8,
    "start_time": "2024-09-25T15:24:54.935Z"
   },
   {
    "duration": 4882505,
    "start_time": "2024-09-25T15:24:54.944Z"
   },
   {
    "duration": 4,
    "start_time": "2024-09-25T16:46:17.451Z"
   },
   {
    "duration": 18,
    "start_time": "2024-09-25T16:46:17.457Z"
   },
   {
    "duration": 148737,
    "start_time": "2024-09-25T16:46:17.476Z"
   },
   {
    "duration": 15,
    "start_time": "2024-09-25T16:48:46.214Z"
   },
   {
    "duration": 466,
    "start_time": "2024-09-25T18:42:07.466Z"
   },
   {
    "duration": 36,
    "start_time": "2024-09-25T18:42:37.630Z"
   },
   {
    "duration": 4621,
    "start_time": "2024-09-25T18:42:37.668Z"
   },
   {
    "duration": 969,
    "start_time": "2024-09-25T18:42:42.290Z"
   },
   {
    "duration": 135,
    "start_time": "2024-09-25T18:42:43.260Z"
   },
   {
    "duration": 3,
    "start_time": "2024-09-25T18:42:43.397Z"
   },
   {
    "duration": 15,
    "start_time": "2024-09-25T18:42:43.401Z"
   },
   {
    "duration": 1095255,
    "start_time": "2024-09-25T18:42:43.417Z"
   },
   {
    "duration": 64,
    "start_time": "2024-09-25T19:00:58.674Z"
   },
   {
    "duration": 87,
    "start_time": "2024-09-25T19:00:58.739Z"
   },
   {
    "duration": 5,
    "start_time": "2024-09-25T19:00:58.827Z"
   },
   {
    "duration": 185,
    "start_time": "2024-09-25T19:00:58.834Z"
   },
   {
    "duration": 395,
    "start_time": "2024-09-25T19:00:59.020Z"
   },
   {
    "duration": 0,
    "start_time": "2024-09-25T19:00:59.417Z"
   },
   {
    "duration": 0,
    "start_time": "2024-09-25T19:00:59.418Z"
   },
   {
    "duration": 0,
    "start_time": "2024-09-25T19:00:59.419Z"
   },
   {
    "duration": 0,
    "start_time": "2024-09-25T19:00:59.421Z"
   },
   {
    "duration": 4934845,
    "start_time": "2024-09-25T19:01:49.324Z"
   },
   {
    "duration": 7,
    "start_time": "2024-09-25T20:24:04.171Z"
   },
   {
    "duration": 29,
    "start_time": "2024-09-25T20:24:04.180Z"
   },
   {
    "duration": 162698,
    "start_time": "2024-09-25T20:24:04.210Z"
   },
   {
    "duration": 15,
    "start_time": "2024-09-25T20:26:46.910Z"
   }
  ],
  "kernelspec": {
   "display_name": "Python 3 (ipykernel)",
   "language": "python",
   "name": "python3"
  },
  "language_info": {
   "codemirror_mode": {
    "name": "ipython",
    "version": 3
   },
   "file_extension": ".py",
   "mimetype": "text/x-python",
   "name": "python",
   "nbconvert_exporter": "python",
   "pygments_lexer": "ipython3",
   "version": "3.12.4"
  },
  "toc": {
   "base_numbering": 1,
   "nav_menu": {},
   "number_sections": true,
   "sideBar": true,
   "skip_h1_title": true,
   "title_cell": "Содержание",
   "title_sidebar": "Contents",
   "toc_cell": true,
   "toc_position": {
    "height": "calc(100% - 180px)",
    "left": "10px",
    "top": "150px",
    "width": "302.391px"
   },
   "toc_section_display": true,
   "toc_window_display": false
  }
 },
 "nbformat": 4,
 "nbformat_minor": 4
}
