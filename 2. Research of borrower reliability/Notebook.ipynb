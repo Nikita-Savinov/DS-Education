{
 "cells": [
  {
   "cell_type": "markdown",
   "id": "8f3208ba",
   "metadata": {
    "deletable": false,
    "editable": false,
    "id": "c81daeeb"
   },
   "source": [
    "# Исследование надежности заемщиков\n"
   ]
  },
  {
   "cell_type": "markdown",
   "id": "c2936f74-b938-4b58-9842-fdc5ade4a4ae",
   "metadata": {},
   "source": [
    "Заказчик — кредитный отдел банка. Нужно разобраться, влияет ли семейное положение и количество детей клиента на факт погашения кредита в срок. Входные данные от банка — статистика о платёжеспособности клиентов.\n",
    "\r\n",
    "Результаты исследования будут учтены при построении модели кредитного скоринга — специальной системы, которая оценивает способность потенциального заёмщика вернуть кредит банку."
   ]
  },
  {
   "cell_type": "markdown",
   "id": "824dc695",
   "metadata": {
    "deletable": false,
    "editable": false,
    "id": "827c20bf"
   },
   "source": [
    "Во второй части проекта вы выполните шаги 3 и 4. Их вручную проверит ревьюер.\n",
    "Чтобы вам не пришлось писать код заново для шагов 1 и 2, мы добавили авторские решения в ячейки с кодом. \n",
    "\n"
   ]
  },
  {
   "cell_type": "markdown",
   "id": "b73c289f",
   "metadata": {
    "deletable": false,
    "editable": false,
    "id": "744d7639"
   },
   "source": [
    "## Откройте таблицу и изучите общую информацию о данных"
   ]
  },
  {
   "cell_type": "markdown",
   "id": "6a7d7cf1",
   "metadata": {
    "deletable": false,
    "editable": false,
    "id": "e7a14c31"
   },
   "source": [
    "**Задание 1. Импортируйте библиотеку pandas. Считайте данные из csv-файла в датафрейм и сохраните в переменную `data`. Путь к файлу:**\n",
    "\n",
    "`/datasets/data.csv`"
   ]
  },
  {
   "cell_type": "code",
   "execution_count": 1,
   "id": "490b26f5",
   "metadata": {
    "deletable": false,
    "id": "7bcf75c9"
   },
   "outputs": [],
   "source": [
    "import pandas as pd\n",
    "\n",
    "try:\n",
    "    data = pd.read_csv(r\"C:\\Users\\nssavinov\\Desktop\\Пректы практикум\\2 Предобработка данных\\data.csv\")\n",
    "except:\n",
    "    print('Некорректная ссылка на файл')"
   ]
  },
  {
   "cell_type": "markdown",
   "id": "e8302b9f",
   "metadata": {
    "deletable": false,
    "editable": false,
    "id": "b8038fe3"
   },
   "source": [
    "**Задание 2. Выведите первые 20 строчек датафрейма `data` на экран.**"
   ]
  },
  {
   "cell_type": "code",
   "execution_count": 2,
   "id": "9b0d9d62",
   "metadata": {
    "deletable": false,
    "id": "2a7cab99",
    "outputId": "1a8f3ef2-d323-4ec2-ddf7-89670b5944c4"
   },
   "outputs": [
    {
     "data": {
      "text/html": [
       "<div>\n",
       "<style scoped>\n",
       "    .dataframe tbody tr th:only-of-type {\n",
       "        vertical-align: middle;\n",
       "    }\n",
       "\n",
       "    .dataframe tbody tr th {\n",
       "        vertical-align: top;\n",
       "    }\n",
       "\n",
       "    .dataframe thead th {\n",
       "        text-align: right;\n",
       "    }\n",
       "</style>\n",
       "<table border=\"1\" class=\"dataframe\">\n",
       "  <thead>\n",
       "    <tr style=\"text-align: right;\">\n",
       "      <th></th>\n",
       "      <th>children</th>\n",
       "      <th>days_employed</th>\n",
       "      <th>dob_years</th>\n",
       "      <th>education</th>\n",
       "      <th>education_id</th>\n",
       "      <th>family_status</th>\n",
       "      <th>family_status_id</th>\n",
       "      <th>gender</th>\n",
       "      <th>income_type</th>\n",
       "      <th>debt</th>\n",
       "      <th>total_income</th>\n",
       "      <th>purpose</th>\n",
       "    </tr>\n",
       "  </thead>\n",
       "  <tbody>\n",
       "    <tr>\n",
       "      <th>0</th>\n",
       "      <td>1</td>\n",
       "      <td>-8437.673028</td>\n",
       "      <td>42</td>\n",
       "      <td>высшее</td>\n",
       "      <td>0</td>\n",
       "      <td>женат / замужем</td>\n",
       "      <td>0</td>\n",
       "      <td>F</td>\n",
       "      <td>сотрудник</td>\n",
       "      <td>0</td>\n",
       "      <td>253875.639453</td>\n",
       "      <td>покупка жилья</td>\n",
       "    </tr>\n",
       "    <tr>\n",
       "      <th>1</th>\n",
       "      <td>1</td>\n",
       "      <td>-4024.803754</td>\n",
       "      <td>36</td>\n",
       "      <td>среднее</td>\n",
       "      <td>1</td>\n",
       "      <td>женат / замужем</td>\n",
       "      <td>0</td>\n",
       "      <td>F</td>\n",
       "      <td>сотрудник</td>\n",
       "      <td>0</td>\n",
       "      <td>112080.014102</td>\n",
       "      <td>приобретение автомобиля</td>\n",
       "    </tr>\n",
       "    <tr>\n",
       "      <th>2</th>\n",
       "      <td>0</td>\n",
       "      <td>-5623.422610</td>\n",
       "      <td>33</td>\n",
       "      <td>Среднее</td>\n",
       "      <td>1</td>\n",
       "      <td>женат / замужем</td>\n",
       "      <td>0</td>\n",
       "      <td>M</td>\n",
       "      <td>сотрудник</td>\n",
       "      <td>0</td>\n",
       "      <td>145885.952297</td>\n",
       "      <td>покупка жилья</td>\n",
       "    </tr>\n",
       "    <tr>\n",
       "      <th>3</th>\n",
       "      <td>3</td>\n",
       "      <td>-4124.747207</td>\n",
       "      <td>32</td>\n",
       "      <td>среднее</td>\n",
       "      <td>1</td>\n",
       "      <td>женат / замужем</td>\n",
       "      <td>0</td>\n",
       "      <td>M</td>\n",
       "      <td>сотрудник</td>\n",
       "      <td>0</td>\n",
       "      <td>267628.550329</td>\n",
       "      <td>дополнительное образование</td>\n",
       "    </tr>\n",
       "    <tr>\n",
       "      <th>4</th>\n",
       "      <td>0</td>\n",
       "      <td>340266.072047</td>\n",
       "      <td>53</td>\n",
       "      <td>среднее</td>\n",
       "      <td>1</td>\n",
       "      <td>гражданский брак</td>\n",
       "      <td>1</td>\n",
       "      <td>F</td>\n",
       "      <td>пенсионер</td>\n",
       "      <td>0</td>\n",
       "      <td>158616.077870</td>\n",
       "      <td>сыграть свадьбу</td>\n",
       "    </tr>\n",
       "    <tr>\n",
       "      <th>5</th>\n",
       "      <td>0</td>\n",
       "      <td>-926.185831</td>\n",
       "      <td>27</td>\n",
       "      <td>высшее</td>\n",
       "      <td>0</td>\n",
       "      <td>гражданский брак</td>\n",
       "      <td>1</td>\n",
       "      <td>M</td>\n",
       "      <td>компаньон</td>\n",
       "      <td>0</td>\n",
       "      <td>255763.565419</td>\n",
       "      <td>покупка жилья</td>\n",
       "    </tr>\n",
       "    <tr>\n",
       "      <th>6</th>\n",
       "      <td>0</td>\n",
       "      <td>-2879.202052</td>\n",
       "      <td>43</td>\n",
       "      <td>высшее</td>\n",
       "      <td>0</td>\n",
       "      <td>женат / замужем</td>\n",
       "      <td>0</td>\n",
       "      <td>F</td>\n",
       "      <td>компаньон</td>\n",
       "      <td>0</td>\n",
       "      <td>240525.971920</td>\n",
       "      <td>операции с жильем</td>\n",
       "    </tr>\n",
       "    <tr>\n",
       "      <th>7</th>\n",
       "      <td>0</td>\n",
       "      <td>-152.779569</td>\n",
       "      <td>50</td>\n",
       "      <td>СРЕДНЕЕ</td>\n",
       "      <td>1</td>\n",
       "      <td>женат / замужем</td>\n",
       "      <td>0</td>\n",
       "      <td>M</td>\n",
       "      <td>сотрудник</td>\n",
       "      <td>0</td>\n",
       "      <td>135823.934197</td>\n",
       "      <td>образование</td>\n",
       "    </tr>\n",
       "    <tr>\n",
       "      <th>8</th>\n",
       "      <td>2</td>\n",
       "      <td>-6929.865299</td>\n",
       "      <td>35</td>\n",
       "      <td>ВЫСШЕЕ</td>\n",
       "      <td>0</td>\n",
       "      <td>гражданский брак</td>\n",
       "      <td>1</td>\n",
       "      <td>F</td>\n",
       "      <td>сотрудник</td>\n",
       "      <td>0</td>\n",
       "      <td>95856.832424</td>\n",
       "      <td>на проведение свадьбы</td>\n",
       "    </tr>\n",
       "    <tr>\n",
       "      <th>9</th>\n",
       "      <td>0</td>\n",
       "      <td>-2188.756445</td>\n",
       "      <td>41</td>\n",
       "      <td>среднее</td>\n",
       "      <td>1</td>\n",
       "      <td>женат / замужем</td>\n",
       "      <td>0</td>\n",
       "      <td>M</td>\n",
       "      <td>сотрудник</td>\n",
       "      <td>0</td>\n",
       "      <td>144425.938277</td>\n",
       "      <td>покупка жилья для семьи</td>\n",
       "    </tr>\n",
       "    <tr>\n",
       "      <th>10</th>\n",
       "      <td>2</td>\n",
       "      <td>-4171.483647</td>\n",
       "      <td>36</td>\n",
       "      <td>высшее</td>\n",
       "      <td>0</td>\n",
       "      <td>женат / замужем</td>\n",
       "      <td>0</td>\n",
       "      <td>M</td>\n",
       "      <td>компаньон</td>\n",
       "      <td>0</td>\n",
       "      <td>113943.491460</td>\n",
       "      <td>покупка недвижимости</td>\n",
       "    </tr>\n",
       "    <tr>\n",
       "      <th>11</th>\n",
       "      <td>0</td>\n",
       "      <td>-792.701887</td>\n",
       "      <td>40</td>\n",
       "      <td>среднее</td>\n",
       "      <td>1</td>\n",
       "      <td>женат / замужем</td>\n",
       "      <td>0</td>\n",
       "      <td>F</td>\n",
       "      <td>сотрудник</td>\n",
       "      <td>0</td>\n",
       "      <td>77069.234271</td>\n",
       "      <td>покупка коммерческой недвижимости</td>\n",
       "    </tr>\n",
       "    <tr>\n",
       "      <th>12</th>\n",
       "      <td>0</td>\n",
       "      <td>NaN</td>\n",
       "      <td>65</td>\n",
       "      <td>среднее</td>\n",
       "      <td>1</td>\n",
       "      <td>гражданский брак</td>\n",
       "      <td>1</td>\n",
       "      <td>M</td>\n",
       "      <td>пенсионер</td>\n",
       "      <td>0</td>\n",
       "      <td>NaN</td>\n",
       "      <td>сыграть свадьбу</td>\n",
       "    </tr>\n",
       "    <tr>\n",
       "      <th>13</th>\n",
       "      <td>0</td>\n",
       "      <td>-1846.641941</td>\n",
       "      <td>54</td>\n",
       "      <td>неоконченное высшее</td>\n",
       "      <td>2</td>\n",
       "      <td>женат / замужем</td>\n",
       "      <td>0</td>\n",
       "      <td>F</td>\n",
       "      <td>сотрудник</td>\n",
       "      <td>0</td>\n",
       "      <td>130458.228857</td>\n",
       "      <td>приобретение автомобиля</td>\n",
       "    </tr>\n",
       "    <tr>\n",
       "      <th>14</th>\n",
       "      <td>0</td>\n",
       "      <td>-1844.956182</td>\n",
       "      <td>56</td>\n",
       "      <td>высшее</td>\n",
       "      <td>0</td>\n",
       "      <td>гражданский брак</td>\n",
       "      <td>1</td>\n",
       "      <td>F</td>\n",
       "      <td>компаньон</td>\n",
       "      <td>1</td>\n",
       "      <td>165127.911772</td>\n",
       "      <td>покупка жилой недвижимости</td>\n",
       "    </tr>\n",
       "    <tr>\n",
       "      <th>15</th>\n",
       "      <td>1</td>\n",
       "      <td>-972.364419</td>\n",
       "      <td>26</td>\n",
       "      <td>среднее</td>\n",
       "      <td>1</td>\n",
       "      <td>женат / замужем</td>\n",
       "      <td>0</td>\n",
       "      <td>F</td>\n",
       "      <td>сотрудник</td>\n",
       "      <td>0</td>\n",
       "      <td>116820.904450</td>\n",
       "      <td>строительство собственной недвижимости</td>\n",
       "    </tr>\n",
       "    <tr>\n",
       "      <th>16</th>\n",
       "      <td>0</td>\n",
       "      <td>-1719.934226</td>\n",
       "      <td>35</td>\n",
       "      <td>среднее</td>\n",
       "      <td>1</td>\n",
       "      <td>женат / замужем</td>\n",
       "      <td>0</td>\n",
       "      <td>F</td>\n",
       "      <td>сотрудник</td>\n",
       "      <td>0</td>\n",
       "      <td>289202.704229</td>\n",
       "      <td>недвижимость</td>\n",
       "    </tr>\n",
       "    <tr>\n",
       "      <th>17</th>\n",
       "      <td>0</td>\n",
       "      <td>-2369.999720</td>\n",
       "      <td>33</td>\n",
       "      <td>высшее</td>\n",
       "      <td>0</td>\n",
       "      <td>гражданский брак</td>\n",
       "      <td>1</td>\n",
       "      <td>M</td>\n",
       "      <td>сотрудник</td>\n",
       "      <td>0</td>\n",
       "      <td>90410.586745</td>\n",
       "      <td>строительство недвижимости</td>\n",
       "    </tr>\n",
       "    <tr>\n",
       "      <th>18</th>\n",
       "      <td>0</td>\n",
       "      <td>400281.136913</td>\n",
       "      <td>53</td>\n",
       "      <td>среднее</td>\n",
       "      <td>1</td>\n",
       "      <td>вдовец / вдова</td>\n",
       "      <td>2</td>\n",
       "      <td>F</td>\n",
       "      <td>пенсионер</td>\n",
       "      <td>0</td>\n",
       "      <td>56823.777243</td>\n",
       "      <td>на покупку подержанного автомобиля</td>\n",
       "    </tr>\n",
       "    <tr>\n",
       "      <th>19</th>\n",
       "      <td>0</td>\n",
       "      <td>-10038.818549</td>\n",
       "      <td>48</td>\n",
       "      <td>СРЕДНЕЕ</td>\n",
       "      <td>1</td>\n",
       "      <td>в разводе</td>\n",
       "      <td>3</td>\n",
       "      <td>F</td>\n",
       "      <td>сотрудник</td>\n",
       "      <td>0</td>\n",
       "      <td>242831.107982</td>\n",
       "      <td>на покупку своего автомобиля</td>\n",
       "    </tr>\n",
       "  </tbody>\n",
       "</table>\n",
       "</div>"
      ],
      "text/plain": [
       "    children  days_employed  dob_years            education  education_id  \\\n",
       "0          1   -8437.673028         42               высшее             0   \n",
       "1          1   -4024.803754         36              среднее             1   \n",
       "2          0   -5623.422610         33              Среднее             1   \n",
       "3          3   -4124.747207         32              среднее             1   \n",
       "4          0  340266.072047         53              среднее             1   \n",
       "5          0    -926.185831         27               высшее             0   \n",
       "6          0   -2879.202052         43               высшее             0   \n",
       "7          0    -152.779569         50              СРЕДНЕЕ             1   \n",
       "8          2   -6929.865299         35               ВЫСШЕЕ             0   \n",
       "9          0   -2188.756445         41              среднее             1   \n",
       "10         2   -4171.483647         36               высшее             0   \n",
       "11         0    -792.701887         40              среднее             1   \n",
       "12         0            NaN         65              среднее             1   \n",
       "13         0   -1846.641941         54  неоконченное высшее             2   \n",
       "14         0   -1844.956182         56               высшее             0   \n",
       "15         1    -972.364419         26              среднее             1   \n",
       "16         0   -1719.934226         35              среднее             1   \n",
       "17         0   -2369.999720         33               высшее             0   \n",
       "18         0  400281.136913         53              среднее             1   \n",
       "19         0  -10038.818549         48              СРЕДНЕЕ             1   \n",
       "\n",
       "       family_status  family_status_id gender income_type  debt  \\\n",
       "0    женат / замужем                 0      F   сотрудник     0   \n",
       "1    женат / замужем                 0      F   сотрудник     0   \n",
       "2    женат / замужем                 0      M   сотрудник     0   \n",
       "3    женат / замужем                 0      M   сотрудник     0   \n",
       "4   гражданский брак                 1      F   пенсионер     0   \n",
       "5   гражданский брак                 1      M   компаньон     0   \n",
       "6    женат / замужем                 0      F   компаньон     0   \n",
       "7    женат / замужем                 0      M   сотрудник     0   \n",
       "8   гражданский брак                 1      F   сотрудник     0   \n",
       "9    женат / замужем                 0      M   сотрудник     0   \n",
       "10   женат / замужем                 0      M   компаньон     0   \n",
       "11   женат / замужем                 0      F   сотрудник     0   \n",
       "12  гражданский брак                 1      M   пенсионер     0   \n",
       "13   женат / замужем                 0      F   сотрудник     0   \n",
       "14  гражданский брак                 1      F   компаньон     1   \n",
       "15   женат / замужем                 0      F   сотрудник     0   \n",
       "16   женат / замужем                 0      F   сотрудник     0   \n",
       "17  гражданский брак                 1      M   сотрудник     0   \n",
       "18    вдовец / вдова                 2      F   пенсионер     0   \n",
       "19         в разводе                 3      F   сотрудник     0   \n",
       "\n",
       "     total_income                                 purpose  \n",
       "0   253875.639453                           покупка жилья  \n",
       "1   112080.014102                 приобретение автомобиля  \n",
       "2   145885.952297                           покупка жилья  \n",
       "3   267628.550329              дополнительное образование  \n",
       "4   158616.077870                         сыграть свадьбу  \n",
       "5   255763.565419                           покупка жилья  \n",
       "6   240525.971920                       операции с жильем  \n",
       "7   135823.934197                             образование  \n",
       "8    95856.832424                   на проведение свадьбы  \n",
       "9   144425.938277                 покупка жилья для семьи  \n",
       "10  113943.491460                    покупка недвижимости  \n",
       "11   77069.234271       покупка коммерческой недвижимости  \n",
       "12            NaN                         сыграть свадьбу  \n",
       "13  130458.228857                 приобретение автомобиля  \n",
       "14  165127.911772              покупка жилой недвижимости  \n",
       "15  116820.904450  строительство собственной недвижимости  \n",
       "16  289202.704229                            недвижимость  \n",
       "17   90410.586745              строительство недвижимости  \n",
       "18   56823.777243      на покупку подержанного автомобиля  \n",
       "19  242831.107982            на покупку своего автомобиля  "
      ]
     },
     "execution_count": 2,
     "metadata": {},
     "output_type": "execute_result"
    }
   ],
   "source": [
    "data.head(20)"
   ]
  },
  {
   "cell_type": "markdown",
   "id": "76336360",
   "metadata": {
    "deletable": false,
    "editable": false,
    "id": "1c12e233"
   },
   "source": [
    "**Задание 3. Выведите основную информацию о датафрейме с помощью метода `info()`.**"
   ]
  },
  {
   "cell_type": "code",
   "execution_count": 3,
   "id": "c489c4a7",
   "metadata": {
    "deletable": false,
    "id": "2b757bca",
    "outputId": "15376089-8dad-46c9-b520-c05248d43158"
   },
   "outputs": [
    {
     "name": "stdout",
     "output_type": "stream",
     "text": [
      "<class 'pandas.core.frame.DataFrame'>\n",
      "RangeIndex: 21525 entries, 0 to 21524\n",
      "Data columns (total 12 columns):\n",
      " #   Column            Non-Null Count  Dtype  \n",
      "---  ------            --------------  -----  \n",
      " 0   children          21525 non-null  int64  \n",
      " 1   days_employed     19351 non-null  float64\n",
      " 2   dob_years         21525 non-null  int64  \n",
      " 3   education         21525 non-null  object \n",
      " 4   education_id      21525 non-null  int64  \n",
      " 5   family_status     21525 non-null  object \n",
      " 6   family_status_id  21525 non-null  int64  \n",
      " 7   gender            21525 non-null  object \n",
      " 8   income_type       21525 non-null  object \n",
      " 9   debt              21525 non-null  int64  \n",
      " 10  total_income      19351 non-null  float64\n",
      " 11  purpose           21525 non-null  object \n",
      "dtypes: float64(2), int64(5), object(5)\n",
      "memory usage: 2.0+ MB\n"
     ]
    }
   ],
   "source": [
    "data.info()"
   ]
  },
  {
   "cell_type": "markdown",
   "id": "66407534",
   "metadata": {
    "deletable": false,
    "editable": false,
    "id": "333ec665"
   },
   "source": [
    "## Предобработка данных"
   ]
  },
  {
   "cell_type": "markdown",
   "id": "4668d92b",
   "metadata": {
    "deletable": false,
    "editable": false,
    "id": "02d92d53"
   },
   "source": [
    "### Удаление пропусков"
   ]
  },
  {
   "cell_type": "markdown",
   "id": "4da54c23",
   "metadata": {
    "deletable": false,
    "editable": false,
    "id": "cd84967c"
   },
   "source": [
    "**Задание 4. Выведите количество пропущенных значений для каждого столбца. Используйте комбинацию двух методов.**"
   ]
  },
  {
   "cell_type": "code",
   "execution_count": 4,
   "id": "1f2e2bda",
   "metadata": {
    "deletable": false,
    "id": "7f9b2309",
    "outputId": "81f4d817-781c-465c-ed15-91ce4446810d"
   },
   "outputs": [
    {
     "data": {
      "text/plain": [
       "children               0\n",
       "days_employed       2174\n",
       "dob_years              0\n",
       "education              0\n",
       "education_id           0\n",
       "family_status          0\n",
       "family_status_id       0\n",
       "gender                 0\n",
       "income_type            0\n",
       "debt                   0\n",
       "total_income        2174\n",
       "purpose                0\n",
       "dtype: int64"
      ]
     },
     "execution_count": 4,
     "metadata": {},
     "output_type": "execute_result"
    }
   ],
   "source": [
    "data.isna().sum()"
   ]
  },
  {
   "cell_type": "markdown",
   "id": "e1823798",
   "metadata": {
    "deletable": false,
    "editable": false,
    "id": "db86e27b"
   },
   "source": [
    "**Задание 5. В двух столбцах есть пропущенные значения. Один из них — `days_employed`. Пропуски в этом столбце вы обработаете на следующем этапе. Другой столбец с пропущенными значениями — `total_income` — хранит данные о доходах. На сумму дохода сильнее всего влияет тип занятости, поэтому заполнить пропуски в этом столбце нужно медианным значением по каждому типу из столбца `income_type`. Например, у человека с типом занятости `сотрудник` пропуск в столбце `total_income` должен быть заполнен медианным доходом среди всех записей с тем же типом.**"
   ]
  },
  {
   "cell_type": "code",
   "execution_count": 5,
   "id": "95012f6e",
   "metadata": {
    "deletable": false,
    "id": "42006a93"
   },
   "outputs": [],
   "source": [
    "for t in data['income_type'].unique():\n",
    "    data.loc[(data['income_type'] == t) & (data['total_income'].isna()), 'total_income'] = \\\n",
    "    data.loc[(data['income_type'] == t), 'total_income'].median()"
   ]
  },
  {
   "cell_type": "markdown",
   "id": "acf76a05",
   "metadata": {
    "deletable": false,
    "editable": false,
    "id": "89da5ece"
   },
   "source": [
    "### Обработка аномальных значений"
   ]
  },
  {
   "cell_type": "markdown",
   "id": "195b3b92",
   "metadata": {
    "deletable": false,
    "editable": false,
    "id": "57964554"
   },
   "source": [
    "**Задание 6. В данных могут встречаться артефакты (аномалии) — значения, которые не отражают действительность и появились по какой-то ошибке. таким артефактом будет отрицательное количество дней трудового стажа в столбце `days_employed`. Для реальных данных это нормально. Обработайте значения в этом столбце: замените все отрицательные значения положительными с помощью метода `abs()`.**"
   ]
  },
  {
   "cell_type": "code",
   "execution_count": 6,
   "id": "3d81bc49",
   "metadata": {
    "deletable": false,
    "id": "f6f055bf"
   },
   "outputs": [],
   "source": [
    "data['days_employed'] = data['days_employed'].abs()"
   ]
  },
  {
   "cell_type": "markdown",
   "id": "18659b7d",
   "metadata": {
    "deletable": false,
    "editable": false,
    "id": "6107dd2f"
   },
   "source": [
    "**Задание 7. Для каждого типа занятости выведите медианное значение трудового стажа `days_employed` в днях.**"
   ]
  },
  {
   "cell_type": "code",
   "execution_count": 7,
   "id": "c8756c79",
   "metadata": {
    "deletable": false,
    "id": "85a5faf6",
    "outputId": "801ef80e-522b-4668-f34e-565af7432bcf"
   },
   "outputs": [
    {
     "data": {
      "text/plain": [
       "income_type\n",
       "безработный        366413.652744\n",
       "в декрете            3296.759962\n",
       "госслужащий          2689.368353\n",
       "компаньон            1547.382223\n",
       "пенсионер          365213.306266\n",
       "предприниматель       520.848083\n",
       "сотрудник            1574.202821\n",
       "студент               578.751554\n",
       "Name: days_employed, dtype: float64"
      ]
     },
     "execution_count": 7,
     "metadata": {},
     "output_type": "execute_result"
    }
   ],
   "source": [
    "data.groupby('income_type')['days_employed'].agg('median')"
   ]
  },
  {
   "cell_type": "markdown",
   "id": "7e645dc2",
   "metadata": {
    "deletable": false,
    "editable": false,
    "id": "38d1a030"
   },
   "source": [
    "У двух типов (безработные и пенсионеры) получатся аномально большие значения. Исправить такие значения сложно, поэтому оставьте их как есть. Тем более этот столбец не понадобится вам для исследования."
   ]
  },
  {
   "cell_type": "markdown",
   "id": "1cf6b343",
   "metadata": {
    "deletable": false,
    "editable": false,
    "id": "d8a9f147"
   },
   "source": [
    "**Задание 8. Выведите перечень уникальных значений столбца `children`.**"
   ]
  },
  {
   "cell_type": "code",
   "execution_count": 8,
   "id": "a7a6b171",
   "metadata": {
    "deletable": false,
    "id": "ef5056eb",
    "outputId": "6975b15c-7f95-4697-d16d-a0c79b657b03"
   },
   "outputs": [
    {
     "data": {
      "text/plain": [
       "array([ 1,  0,  3,  2, -1,  4, 20,  5], dtype=int64)"
      ]
     },
     "execution_count": 8,
     "metadata": {},
     "output_type": "execute_result"
    }
   ],
   "source": [
    "data['children'].unique()"
   ]
  },
  {
   "cell_type": "markdown",
   "id": "adeec8bf",
   "metadata": {
    "deletable": false,
    "editable": false,
    "id": "40b9ebf2"
   },
   "source": [
    "**Задание 9. В столбце `children` есть два аномальных значения. Удалите строки, в которых встречаются такие аномальные значения из датафрейма `data`.**"
   ]
  },
  {
   "cell_type": "code",
   "execution_count": 9,
   "id": "3d25643e",
   "metadata": {
    "deletable": false,
    "id": "3ff9801d"
   },
   "outputs": [],
   "source": [
    "data = data[(data['children'] != -1) & (data['children'] != 20)]"
   ]
  },
  {
   "cell_type": "markdown",
   "id": "4fe633cc",
   "metadata": {
    "deletable": false,
    "editable": false,
    "id": "bbc4d0ce"
   },
   "source": [
    "**Задание 10. Ещё раз выведите перечень уникальных значений столбца `children`, чтобы убедиться, что артефакты удалены.**"
   ]
  },
  {
   "cell_type": "code",
   "execution_count": 10,
   "id": "2b37e742",
   "metadata": {
    "deletable": false,
    "id": "ad4fa8b7",
    "outputId": "b2097101-d49d-44d9-901b-32a65c9463d1"
   },
   "outputs": [
    {
     "data": {
      "text/plain": [
       "array([1, 0, 3, 2, 4, 5], dtype=int64)"
      ]
     },
     "execution_count": 10,
     "metadata": {},
     "output_type": "execute_result"
    }
   ],
   "source": [
    "data['children'].unique()"
   ]
  },
  {
   "cell_type": "markdown",
   "id": "2ee78463",
   "metadata": {
    "deletable": false,
    "editable": false,
    "id": "75440b63"
   },
   "source": [
    "### Удаление пропусков (продолжение)"
   ]
  },
  {
   "cell_type": "markdown",
   "id": "dff37a9e",
   "metadata": {
    "deletable": false,
    "editable": false,
    "id": "f4ea573f"
   },
   "source": [
    "**Задание 11. Заполните пропуски в столбце `days_employed` медианными значениями по каждого типа занятости `income_type`.**"
   ]
  },
  {
   "cell_type": "code",
   "execution_count": 11,
   "id": "02798505",
   "metadata": {
    "deletable": false,
    "id": "af6b1a7e"
   },
   "outputs": [],
   "source": [
    "for t in data['income_type'].unique():\n",
    "    data.loc[(data['income_type'] == t) & (data['days_employed'].isna()), 'days_employed'] = \\\n",
    "    data.loc[(data['income_type'] == t), 'days_employed'].median()"
   ]
  },
  {
   "cell_type": "markdown",
   "id": "8f45fd87",
   "metadata": {
    "deletable": false,
    "editable": false,
    "id": "2753f40d"
   },
   "source": [
    "**Задание 12. Убедитесь, что все пропуски заполнены. Проверьте себя и ещё раз выведите количество пропущенных значений для каждого столбца с помощью двух методов.**"
   ]
  },
  {
   "cell_type": "code",
   "execution_count": 12,
   "id": "23b2f18a",
   "metadata": {
    "deletable": false,
    "id": "55f78bc2",
    "outputId": "8da1e4e1-358e-4e87-98c9-f261bce0a7b2"
   },
   "outputs": [
    {
     "data": {
      "text/plain": [
       "children            0\n",
       "days_employed       0\n",
       "dob_years           0\n",
       "education           0\n",
       "education_id        0\n",
       "family_status       0\n",
       "family_status_id    0\n",
       "gender              0\n",
       "income_type         0\n",
       "debt                0\n",
       "total_income        0\n",
       "purpose             0\n",
       "dtype: int64"
      ]
     },
     "execution_count": 12,
     "metadata": {},
     "output_type": "execute_result"
    }
   ],
   "source": [
    "data.isna().sum()"
   ]
  },
  {
   "cell_type": "markdown",
   "id": "95ca9018",
   "metadata": {
    "deletable": false,
    "editable": false,
    "id": "ddc81e43"
   },
   "source": [
    "### Изменение типов данных"
   ]
  },
  {
   "cell_type": "markdown",
   "id": "c55e02d7",
   "metadata": {
    "deletable": false,
    "editable": false,
    "id": "42d19d24"
   },
   "source": [
    "**Задание 13. Замените вещественный тип данных в столбце `total_income` на целочисленный с помощью метода `astype()`.**"
   ]
  },
  {
   "cell_type": "code",
   "execution_count": 13,
   "id": "b2b8c376",
   "metadata": {
    "deletable": false,
    "id": "920b65ad"
   },
   "outputs": [],
   "source": [
    "data['total_income'] = data['total_income'].astype(int)"
   ]
  },
  {
   "cell_type": "markdown",
   "id": "c3cb2a66",
   "metadata": {
    "deletable": false,
    "editable": false,
    "id": "80c420ba"
   },
   "source": [
    "### Обработка дубликатов"
   ]
  },
  {
   "cell_type": "markdown",
   "id": "1ab6a4f9",
   "metadata": {
    "deletable": false,
    "editable": false
   },
   "source": [
    "**Задание 14. Обработайте неявные дубликаты в столбце `education`. В этом столбце есть одни и те же значения, но записанные по-разному: с использованием заглавных и строчных букв. Приведите их к нижнему регистру. Проверьте остальные столбцы.**"
   ]
  },
  {
   "cell_type": "code",
   "execution_count": 14,
   "id": "be3ff1ee",
   "metadata": {
    "deletable": false
   },
   "outputs": [],
   "source": [
    "data['education'] = data['education'].str.lower()"
   ]
  },
  {
   "cell_type": "markdown",
   "id": "6c476293",
   "metadata": {
    "deletable": false,
    "editable": false,
    "id": "dc587695"
   },
   "source": [
    "**Задание 15. Выведите на экран количество строк-дубликатов в данных. Если такие строки присутствуют, удалите их.**"
   ]
  },
  {
   "cell_type": "code",
   "execution_count": 15,
   "id": "8f824cc4",
   "metadata": {
    "deletable": false,
    "id": "3ee445e4",
    "outputId": "9684deba-1934-42d1-99e1-cda61740f822"
   },
   "outputs": [
    {
     "data": {
      "text/plain": [
       "71"
      ]
     },
     "execution_count": 15,
     "metadata": {},
     "output_type": "execute_result"
    }
   ],
   "source": [
    "data.duplicated().sum()"
   ]
  },
  {
   "cell_type": "code",
   "execution_count": 16,
   "id": "fb502109",
   "metadata": {
    "deletable": false,
    "id": "8575fe05"
   },
   "outputs": [],
   "source": [
    "data = data.drop_duplicates()"
   ]
  },
  {
   "cell_type": "markdown",
   "id": "4c78b710",
   "metadata": {
    "deletable": false,
    "editable": false,
    "id": "9904cf55"
   },
   "source": [
    "### Категоризация данных"
   ]
  },
  {
   "cell_type": "markdown",
   "id": "40aebba4",
   "metadata": {
    "deletable": false,
    "editable": false,
    "id": "72fcc8a2"
   },
   "source": [
    "**Задание 16. На основании диапазонов, указанных ниже, создайте в датафрейме `data` столбец `total_income_category` с категориями:**\n",
    "\n",
    "- 0–30000 — `'E'`;\n",
    "- 30001–50000 — `'D'`;\n",
    "- 50001–200000 — `'C'`;\n",
    "- 200001–1000000 — `'B'`;\n",
    "- 1000001 и выше — `'A'`.\n",
    "\n",
    "\n",
    "**Например, кредитополучателю с доходом 25000 нужно назначить категорию `'E'`, а клиенту, получающему 235000, — `'B'`. Используйте собственную функцию с именем `categorize_income()` и метод `apply()`.**"
   ]
  },
  {
   "cell_type": "code",
   "execution_count": 17,
   "id": "0b179da2",
   "metadata": {
    "deletable": false,
    "id": "e1771346"
   },
   "outputs": [],
   "source": [
    "def categorize_income(income):\n",
    "    try:\n",
    "        if 0 <= income <= 30000:\n",
    "            return 'E'\n",
    "        elif 30001 <= income <= 50000:\n",
    "            return 'D'\n",
    "        elif 50001 <= income <= 200000:\n",
    "            return 'C'\n",
    "        elif 200001 <= income <= 1000000:\n",
    "            return 'B'\n",
    "        elif income >= 1000001:\n",
    "            return 'A'\n",
    "    except:\n",
    "        pass"
   ]
  },
  {
   "cell_type": "code",
   "execution_count": 18,
   "id": "c10e8195",
   "metadata": {
    "deletable": false,
    "id": "d5f3586d"
   },
   "outputs": [],
   "source": [
    "data['total_income_category'] = data['total_income'].apply(categorize_income)"
   ]
  },
  {
   "cell_type": "markdown",
   "id": "e76231cd",
   "metadata": {
    "deletable": false,
    "editable": false,
    "id": "dde49b5c"
   },
   "source": [
    "**Задание 17. Выведите на экран перечень уникальных целей взятия кредита из столбца `purpose`.**"
   ]
  },
  {
   "cell_type": "code",
   "execution_count": 19,
   "id": "cb4db68d",
   "metadata": {
    "deletable": false,
    "id": "f67ce9b3",
    "outputId": "673c12d9-7d7e-4ae0-9812-c622c89dd244"
   },
   "outputs": [
    {
     "data": {
      "text/plain": [
       "array(['покупка жилья', 'приобретение автомобиля',\n",
       "       'дополнительное образование', 'сыграть свадьбу',\n",
       "       'операции с жильем', 'образование', 'на проведение свадьбы',\n",
       "       'покупка жилья для семьи', 'покупка недвижимости',\n",
       "       'покупка коммерческой недвижимости', 'покупка жилой недвижимости',\n",
       "       'строительство собственной недвижимости', 'недвижимость',\n",
       "       'строительство недвижимости', 'на покупку подержанного автомобиля',\n",
       "       'на покупку своего автомобиля',\n",
       "       'операции с коммерческой недвижимостью',\n",
       "       'строительство жилой недвижимости', 'жилье',\n",
       "       'операции со своей недвижимостью', 'автомобили',\n",
       "       'заняться образованием', 'сделка с подержанным автомобилем',\n",
       "       'получение образования', 'автомобиль', 'свадьба',\n",
       "       'получение дополнительного образования', 'покупка своего жилья',\n",
       "       'операции с недвижимостью', 'получение высшего образования',\n",
       "       'свой автомобиль', 'сделка с автомобилем',\n",
       "       'профильное образование', 'высшее образование',\n",
       "       'покупка жилья для сдачи', 'на покупку автомобиля', 'ремонт жилью',\n",
       "       'заняться высшим образованием'], dtype=object)"
      ]
     },
     "execution_count": 19,
     "metadata": {},
     "output_type": "execute_result"
    }
   ],
   "source": [
    "data['purpose'].unique()"
   ]
  },
  {
   "cell_type": "markdown",
   "id": "0a8c3cf4",
   "metadata": {
    "deletable": false,
    "editable": false,
    "id": "85d0aef0"
   },
   "source": [
    "**Задание 18. Создайте функцию, которая на основании данных из столбца `purpose` сформирует новый столбец `purpose_category`, в который войдут следующие категории:**\n",
    "\n",
    "- `'операции с автомобилем'`,\n",
    "- `'операции с недвижимостью'`,\n",
    "- `'проведение свадьбы'`,\n",
    "- `'получение образования'`.\n",
    "\n",
    "**Например, если в столбце `purpose` находится подстрока `'на покупку автомобиля'`, то в столбце `purpose_category` должна появиться строка `'операции с автомобилем'`.**\n",
    "\n",
    "**Используйте собственную функцию с именем `categorize_purpose()` и метод `apply()`. Изучите данные в столбце `purpose` и определите, какие подстроки помогут вам правильно определить категорию.**"
   ]
  },
  {
   "cell_type": "code",
   "execution_count": 20,
   "id": "a5d8b21e",
   "metadata": {
    "deletable": false,
    "id": "e149fab4"
   },
   "outputs": [],
   "source": [
    "def categorize_purpose(row):\n",
    "    try:\n",
    "        if 'автом' in row:\n",
    "            return 'операции с автомобилем'\n",
    "        elif 'жил' in row or 'недвиж' in row:\n",
    "            return 'операции с недвижимостью'\n",
    "        elif 'свад' in row:\n",
    "            return 'проведение свадьбы'\n",
    "        elif 'образов' in row:\n",
    "            return 'получение образования'\n",
    "    except:\n",
    "        return 'нет категории'"
   ]
  },
  {
   "cell_type": "code",
   "execution_count": 21,
   "id": "ade2b1a3",
   "metadata": {
    "deletable": false,
    "id": "bf36e69b"
   },
   "outputs": [],
   "source": [
    "data['purpose_category'] = data['purpose'].apply(categorize_purpose)"
   ]
  },
  {
   "cell_type": "markdown",
   "id": "63b5f3bc",
   "metadata": {
    "deletable": false,
    "editable": false,
    "id": "09b242bf"
   },
   "source": [
    "### Шаг 3. Исследуйте данные и ответьте на вопросы"
   ]
  },
  {
   "cell_type": "markdown",
   "id": "ca4a0935",
   "metadata": {
    "deletable": false,
    "editable": false,
    "id": "c5d66278"
   },
   "source": [
    "#### 3.1 Есть ли зависимость между количеством детей и возвратом кредита в срок?"
   ]
  },
  {
   "cell_type": "code",
   "execution_count": 22,
   "id": "fca04d4c",
   "metadata": {
    "deletable": false,
    "id": "2cacfc4a"
   },
   "outputs": [
    {
     "data": {
      "text/html": [
       "<div>\n",
       "<style scoped>\n",
       "    .dataframe tbody tr th:only-of-type {\n",
       "        vertical-align: middle;\n",
       "    }\n",
       "\n",
       "    .dataframe tbody tr th {\n",
       "        vertical-align: top;\n",
       "    }\n",
       "\n",
       "    .dataframe thead th {\n",
       "        text-align: right;\n",
       "    }\n",
       "</style>\n",
       "<table border=\"1\" class=\"dataframe\">\n",
       "  <thead>\n",
       "    <tr style=\"text-align: right;\">\n",
       "      <th></th>\n",
       "      <th>amount</th>\n",
       "      <th>debt_amount</th>\n",
       "      <th>total</th>\n",
       "    </tr>\n",
       "    <tr>\n",
       "      <th>children</th>\n",
       "      <th></th>\n",
       "      <th></th>\n",
       "      <th></th>\n",
       "    </tr>\n",
       "  </thead>\n",
       "  <tbody>\n",
       "    <tr>\n",
       "      <th>0</th>\n",
       "      <td>14091</td>\n",
       "      <td>1063</td>\n",
       "      <td>7.543822</td>\n",
       "    </tr>\n",
       "    <tr>\n",
       "      <th>1</th>\n",
       "      <td>4808</td>\n",
       "      <td>444</td>\n",
       "      <td>9.234609</td>\n",
       "    </tr>\n",
       "    <tr>\n",
       "      <th>2</th>\n",
       "      <td>2052</td>\n",
       "      <td>194</td>\n",
       "      <td>9.454191</td>\n",
       "    </tr>\n",
       "    <tr>\n",
       "      <th>3</th>\n",
       "      <td>330</td>\n",
       "      <td>27</td>\n",
       "      <td>8.181818</td>\n",
       "    </tr>\n",
       "    <tr>\n",
       "      <th>4</th>\n",
       "      <td>41</td>\n",
       "      <td>4</td>\n",
       "      <td>9.756098</td>\n",
       "    </tr>\n",
       "    <tr>\n",
       "      <th>5</th>\n",
       "      <td>9</td>\n",
       "      <td>0</td>\n",
       "      <td>0.000000</td>\n",
       "    </tr>\n",
       "  </tbody>\n",
       "</table>\n",
       "</div>"
      ],
      "text/plain": [
       "          amount  debt_amount     total\n",
       "children                               \n",
       "0          14091         1063  7.543822\n",
       "1           4808          444  9.234609\n",
       "2           2052          194  9.454191\n",
       "3            330           27  8.181818\n",
       "4             41            4  9.756098\n",
       "5              9            0  0.000000"
      ]
     },
     "metadata": {},
     "output_type": "display_data"
    }
   ],
   "source": [
    "amount = data.groupby('children')['debt'].count()\n",
    "debt_amount = data.groupby('children')['debt'].sum()\n",
    "total = debt_amount/amount *100\n",
    "common = pd.DataFrame ({'amount': amount, 'debt_amount': debt_amount, 'total': total})\n",
    "display (common)\n"
   ]
  },
  {
   "cell_type": "code",
   "execution_count": 23,
   "id": "15a8cf76",
   "metadata": {},
   "outputs": [
    {
     "data": {
      "text/html": [
       "<div>\n",
       "<style scoped>\n",
       "    .dataframe tbody tr th:only-of-type {\n",
       "        vertical-align: middle;\n",
       "    }\n",
       "\n",
       "    .dataframe tbody tr th {\n",
       "        vertical-align: top;\n",
       "    }\n",
       "\n",
       "    .dataframe thead th {\n",
       "        text-align: right;\n",
       "    }\n",
       "</style>\n",
       "<table border=\"1\" class=\"dataframe\">\n",
       "  <thead>\n",
       "    <tr style=\"text-align: right;\">\n",
       "      <th></th>\n",
       "      <th>count</th>\n",
       "      <th>sum</th>\n",
       "      <th>mean</th>\n",
       "    </tr>\n",
       "    <tr>\n",
       "      <th>children</th>\n",
       "      <th></th>\n",
       "      <th></th>\n",
       "      <th></th>\n",
       "    </tr>\n",
       "  </thead>\n",
       "  <tbody>\n",
       "    <tr>\n",
       "      <th>0</th>\n",
       "      <td>14091</td>\n",
       "      <td>1063</td>\n",
       "      <td>0.075438</td>\n",
       "    </tr>\n",
       "    <tr>\n",
       "      <th>1</th>\n",
       "      <td>4808</td>\n",
       "      <td>444</td>\n",
       "      <td>0.092346</td>\n",
       "    </tr>\n",
       "    <tr>\n",
       "      <th>2</th>\n",
       "      <td>2052</td>\n",
       "      <td>194</td>\n",
       "      <td>0.094542</td>\n",
       "    </tr>\n",
       "    <tr>\n",
       "      <th>3</th>\n",
       "      <td>330</td>\n",
       "      <td>27</td>\n",
       "      <td>0.081818</td>\n",
       "    </tr>\n",
       "    <tr>\n",
       "      <th>4</th>\n",
       "      <td>41</td>\n",
       "      <td>4</td>\n",
       "      <td>0.097561</td>\n",
       "    </tr>\n",
       "    <tr>\n",
       "      <th>5</th>\n",
       "      <td>9</td>\n",
       "      <td>0</td>\n",
       "      <td>0.000000</td>\n",
       "    </tr>\n",
       "  </tbody>\n",
       "</table>\n",
       "</div>"
      ],
      "text/plain": [
       "          count   sum      mean\n",
       "children                       \n",
       "0         14091  1063  0.075438\n",
       "1          4808   444  0.092346\n",
       "2          2052   194  0.094542\n",
       "3           330    27  0.081818\n",
       "4            41     4  0.097561\n",
       "5             9     0  0.000000"
      ]
     },
     "metadata": {},
     "output_type": "display_data"
    }
   ],
   "source": [
    "common =data.groupby('children')['debt'].agg(['count', 'sum', 'mean'])\n",
    "display (common)"
   ]
  },
  {
   "cell_type": "markdown",
   "id": "844ecb37",
   "metadata": {
    "deletable": false,
    "id": "3a6b99ec"
   },
   "source": [
    "**Вывод:**\n",
    "Первоначально кажется, что прямая зависимость от количества детей есть, но данные результаты были бы действительно релевантны, если бы количество в поле amount было бы равно между всеми значениями, т.е. результаты где 14к людей более приблежены к правдивой отметке, чем где 41.  \n",
    "Т.е. из этого всего можно сделать вывод, что чем меньше у людей детей, то тем больше вероятность что они не попадут в категорию debt, но прямой корреляции/зависимости нет. +- все лежит в рамках погрешности. (Показательный пример с 5 детьми) "
   ]
  },
  {
   "cell_type": "markdown",
   "id": "ff27f77d",
   "metadata": {},
   "source": [
    "Однозначно можно сделать вывод, что с увеличением количества детей увеличивается число невозврата кредита, т.е. платежеспособность клента уменьшается. "
   ]
  },
  {
   "cell_type": "markdown",
   "id": "5af6f181",
   "metadata": {
    "deletable": false,
    "editable": false,
    "id": "97be82ca"
   },
   "source": [
    "#### 3.2 Есть ли зависимость между семейным положением и возвратом кредита в срок?"
   ]
  },
  {
   "cell_type": "code",
   "execution_count": 24,
   "id": "a26c9007",
   "metadata": {
    "deletable": false,
    "id": "dc3f7ee8"
   },
   "outputs": [
    {
     "data": {
      "text/html": [
       "<div>\n",
       "<style scoped>\n",
       "    .dataframe tbody tr th:only-of-type {\n",
       "        vertical-align: middle;\n",
       "    }\n",
       "\n",
       "    .dataframe tbody tr th {\n",
       "        vertical-align: top;\n",
       "    }\n",
       "\n",
       "    .dataframe thead th {\n",
       "        text-align: right;\n",
       "    }\n",
       "</style>\n",
       "<table border=\"1\" class=\"dataframe\">\n",
       "  <thead>\n",
       "    <tr style=\"text-align: right;\">\n",
       "      <th></th>\n",
       "      <th>family_debt</th>\n",
       "      <th>family_count</th>\n",
       "      <th>total</th>\n",
       "    </tr>\n",
       "    <tr>\n",
       "      <th>family_status</th>\n",
       "      <th></th>\n",
       "      <th></th>\n",
       "      <th></th>\n",
       "    </tr>\n",
       "  </thead>\n",
       "  <tbody>\n",
       "    <tr>\n",
       "      <th>Не женат / не замужем</th>\n",
       "      <td>273</td>\n",
       "      <td>2796</td>\n",
       "      <td>9.763948</td>\n",
       "    </tr>\n",
       "    <tr>\n",
       "      <th>в разводе</th>\n",
       "      <td>84</td>\n",
       "      <td>1189</td>\n",
       "      <td>7.064760</td>\n",
       "    </tr>\n",
       "    <tr>\n",
       "      <th>вдовец / вдова</th>\n",
       "      <td>63</td>\n",
       "      <td>951</td>\n",
       "      <td>6.624606</td>\n",
       "    </tr>\n",
       "    <tr>\n",
       "      <th>гражданский брак</th>\n",
       "      <td>385</td>\n",
       "      <td>4134</td>\n",
       "      <td>9.313014</td>\n",
       "    </tr>\n",
       "    <tr>\n",
       "      <th>женат / замужем</th>\n",
       "      <td>927</td>\n",
       "      <td>12261</td>\n",
       "      <td>7.560558</td>\n",
       "    </tr>\n",
       "  </tbody>\n",
       "</table>\n",
       "</div>"
      ],
      "text/plain": [
       "                       family_debt  family_count     total\n",
       "family_status                                             \n",
       "Не женат / не замужем          273          2796  9.763948\n",
       "в разводе                       84          1189  7.064760\n",
       "вдовец / вдова                  63           951  6.624606\n",
       "гражданский брак               385          4134  9.313014\n",
       "женат / замужем                927         12261  7.560558"
      ]
     },
     "metadata": {},
     "output_type": "display_data"
    }
   ],
   "source": [
    "family_debt = pd.DataFrame({'family_debt' : data.groupby('family_status')['debt'].sum(),\\\n",
    "                           'family_count' : data.groupby('family_status')['debt'].count()})\n",
    "family_debt ['total'] = family_debt ['family_debt'] /family_debt ['family_count'] *100\n",
    "display (family_debt)"
   ]
  },
  {
   "cell_type": "markdown",
   "id": "3873addf",
   "metadata": {
    "deletable": false,
    "id": "1cef7837"
   },
   "source": [
    "**Вывод:** \n",
    "результаты данного исследования более релевантны, т.к. общее количество в выборке отличается не во много раз.\n",
    "Результатом исследования можно сказать, что охотнее всего попадают в должники люди с статусом \"Не женат / не замужем\" и \"Гражданский брак\", что в общем то, поддается логискому объяснению. \n",
    "Меньше всего \"вдова\" \"Женат/замужем\" \"в разводе\"\n",
    "зависимость между данными категриями есть"
   ]
  },
  {
   "cell_type": "markdown",
   "id": "dcda5d97",
   "metadata": {
    "deletable": false,
    "editable": false,
    "id": "1e8b2fca"
   },
   "source": [
    "#### 3.3 Есть ли зависимость между уровнем дохода и возвратом кредита в срок?"
   ]
  },
  {
   "cell_type": "code",
   "execution_count": 25,
   "id": "4e9e8682",
   "metadata": {
    "deletable": false,
    "id": "cd7e3720"
   },
   "outputs": [
    {
     "data": {
      "text/html": [
       "<div>\n",
       "<style scoped>\n",
       "    .dataframe tbody tr th:only-of-type {\n",
       "        vertical-align: middle;\n",
       "    }\n",
       "\n",
       "    .dataframe tbody tr th {\n",
       "        vertical-align: top;\n",
       "    }\n",
       "\n",
       "    .dataframe thead th {\n",
       "        text-align: right;\n",
       "    }\n",
       "</style>\n",
       "<table border=\"1\" class=\"dataframe\">\n",
       "  <thead>\n",
       "    <tr style=\"text-align: right;\">\n",
       "      <th></th>\n",
       "      <th>count</th>\n",
       "      <th>sum</th>\n",
       "      <th>mean</th>\n",
       "    </tr>\n",
       "    <tr>\n",
       "      <th>total_income_category</th>\n",
       "      <th></th>\n",
       "      <th></th>\n",
       "      <th></th>\n",
       "    </tr>\n",
       "  </thead>\n",
       "  <tbody>\n",
       "    <tr>\n",
       "      <th>A</th>\n",
       "      <td>25</td>\n",
       "      <td>2</td>\n",
       "      <td>0.080000</td>\n",
       "    </tr>\n",
       "    <tr>\n",
       "      <th>B</th>\n",
       "      <td>5014</td>\n",
       "      <td>354</td>\n",
       "      <td>0.070602</td>\n",
       "    </tr>\n",
       "    <tr>\n",
       "      <th>C</th>\n",
       "      <td>15921</td>\n",
       "      <td>1353</td>\n",
       "      <td>0.084982</td>\n",
       "    </tr>\n",
       "    <tr>\n",
       "      <th>D</th>\n",
       "      <td>349</td>\n",
       "      <td>21</td>\n",
       "      <td>0.060172</td>\n",
       "    </tr>\n",
       "    <tr>\n",
       "      <th>E</th>\n",
       "      <td>22</td>\n",
       "      <td>2</td>\n",
       "      <td>0.090909</td>\n",
       "    </tr>\n",
       "  </tbody>\n",
       "</table>\n",
       "</div>"
      ],
      "text/plain": [
       "                       count   sum      mean\n",
       "total_income_category                       \n",
       "A                         25     2  0.080000\n",
       "B                       5014   354  0.070602\n",
       "C                      15921  1353  0.084982\n",
       "D                        349    21  0.060172\n",
       "E                         22     2  0.090909"
      ]
     },
     "metadata": {},
     "output_type": "display_data"
    }
   ],
   "source": [
    "income_debt = data.groupby('total_income_category')['debt'].agg(['count','sum', 'mean'])\n",
    "display (income_debt)"
   ]
  },
  {
   "cell_type": "markdown",
   "id": "8685e519",
   "metadata": {
    "deletable": false,
    "id": "e8593def"
   },
   "source": [
    "**вывод**\\\n",
    "согласно полученному датафрейму, самой неплатежеспособной группой оказалась греппа с наибольшим доходом, т.е. группа Е. После нее группа С, А, В, Д. \\ \n",
    "Но вывод сделать можно следующий, скорее всего в группе Е имеется так называемый выброс из-за малого кол-ва данных. \\\n",
    "Могу предположить что все-таки наименее нестабильной группой будет группа с средним доходом С. \\\n",
    "Причина: получают не так много денег, а жить начинают на широкую ногу, в то время как А пытаются ужаться."
   ]
  },
  {
   "cell_type": "markdown",
   "id": "026f4336",
   "metadata": {},
   "source": [
    "Наилучшей группой для формирования выводов являются группы В и С, по остальным категориям недостаточно данных для формирования корректных выводов\\\n",
    "Рассматривая группу В и С можно сделать вывод что при увеличении дохода, способность выплатить крудит тоже увеличивется."
   ]
  },
  {
   "cell_type": "markdown",
   "id": "c64a8c65",
   "metadata": {
    "deletable": false,
    "editable": false,
    "id": "99ecbd1f"
   },
   "source": [
    "#### 3.4 Как разные цели кредита влияют на его возврат в срок?"
   ]
  },
  {
   "cell_type": "code",
   "execution_count": 26,
   "id": "ed3cb07e",
   "metadata": {
    "deletable": false,
    "id": "2b687290"
   },
   "outputs": [
    {
     "data": {
      "text/html": [
       "<div>\n",
       "<style scoped>\n",
       "    .dataframe tbody tr th:only-of-type {\n",
       "        vertical-align: middle;\n",
       "    }\n",
       "\n",
       "    .dataframe tbody tr th {\n",
       "        vertical-align: top;\n",
       "    }\n",
       "\n",
       "    .dataframe thead th {\n",
       "        text-align: right;\n",
       "    }\n",
       "</style>\n",
       "<table border=\"1\" class=\"dataframe\">\n",
       "  <thead>\n",
       "    <tr style=\"text-align: right;\">\n",
       "      <th></th>\n",
       "      <th>amount</th>\n",
       "      <th>amount_debt</th>\n",
       "      <th>total</th>\n",
       "    </tr>\n",
       "    <tr>\n",
       "      <th>purpose_category</th>\n",
       "      <th></th>\n",
       "      <th></th>\n",
       "      <th></th>\n",
       "    </tr>\n",
       "  </thead>\n",
       "  <tbody>\n",
       "    <tr>\n",
       "      <th>операции с автомобилем</th>\n",
       "      <td>4279</td>\n",
       "      <td>400</td>\n",
       "      <td>9.347978</td>\n",
       "    </tr>\n",
       "    <tr>\n",
       "      <th>операции с недвижимостью</th>\n",
       "      <td>10751</td>\n",
       "      <td>780</td>\n",
       "      <td>7.255139</td>\n",
       "    </tr>\n",
       "    <tr>\n",
       "      <th>получение образования</th>\n",
       "      <td>3988</td>\n",
       "      <td>369</td>\n",
       "      <td>9.252758</td>\n",
       "    </tr>\n",
       "    <tr>\n",
       "      <th>проведение свадьбы</th>\n",
       "      <td>2313</td>\n",
       "      <td>183</td>\n",
       "      <td>7.911803</td>\n",
       "    </tr>\n",
       "  </tbody>\n",
       "</table>\n",
       "</div>"
      ],
      "text/plain": [
       "                          amount  amount_debt     total\n",
       "purpose_category                                       \n",
       "операции с автомобилем      4279          400  9.347978\n",
       "операции с недвижимостью   10751          780  7.255139\n",
       "получение образования       3988          369  9.252758\n",
       "проведение свадьбы          2313          183  7.911803"
      ]
     },
     "metadata": {},
     "output_type": "display_data"
    }
   ],
   "source": [
    "purpose_category_analys = pd.DataFrame ({'amount' : data.groupby('purpose_category')['debt'].count(),\\\n",
    "                                  'amount_debt' : data.groupby('purpose_category')['debt'].sum()})\n",
    "purpose_category_analys ['total'] = purpose_category_analys['amount_debt'] / purpose_category_analys['amount'] *100\n",
    "display (purpose_category_analys)"
   ]
  },
  {
   "cell_type": "markdown",
   "id": "fcaf6421",
   "metadata": {
    "deletable": false,
    "id": "b4bb2ce6"
   },
   "source": [
    "**Вывод:** \n",
    "Вывод однозначный, что люди занимающие деньги на приобритение квартиры наиболее платеже-способны и чаще возвращают кредит. наименее стабильная причина покупки - покупка автомобиля. "
   ]
  },
  {
   "cell_type": "markdown",
   "id": "7666ff71",
   "metadata": {
    "deletable": false,
    "editable": false,
    "id": "09c3ac4c"
   },
   "source": [
    "#### 3.5 Приведите возможные причины появления пропусков в исходных данных."
   ]
  },
  {
   "cell_type": "markdown",
   "id": "6a2e7cf1",
   "metadata": {
    "deletable": false,
    "id": "9da2ceda"
   },
   "source": [
    "*Ответ:* \n",
    "1. человеческий фактор\n",
    "2. неправильно настроена ФМ и ЛМ в БД \n",
    "3. Неправильно настроены алгоритмы интеграции, преобразование данных\n",
    "4. неправильно произошла выгрузка из бд\n",
    "5. неправильно настроена форма ввода, которая подгружает инфу в бд\n",
    "\n",
    "В нашем случае в 2 полях были изначально пропуски, в 1: \"days_employed\" и \"total_income\", по виду эти пропуски относятся к 1 категории. Скорее всего, были допущенны при ручном вводе информации. "
   ]
  },
  {
   "cell_type": "markdown",
   "id": "1a2a6482",
   "metadata": {
    "deletable": false,
    "editable": false,
    "id": "7b0487d6"
   },
   "source": [
    "#### 3.6 Объясните, почему заполнить пропуски медианным значением — лучшее решение для количественных переменных."
   ]
  },
  {
   "cell_type": "markdown",
   "id": "e2025dc7",
   "metadata": {
    "deletable": false,
    "id": "7ecf2b8e"
   },
   "source": [
    "*Ответ:* \n",
    "Простыми словами, медиана более стабильно реагирует на изменение какого либо показателя и отображает более правильную ситуацию, в то время как, среднее может колосально изменяться от выбросов. "
   ]
  },
  {
   "cell_type": "markdown",
   "id": "8cd55d4b",
   "metadata": {
    "deletable": false,
    "editable": false,
    "id": "6db5255a"
   },
   "source": [
    "### Шаг 4: общий вывод."
   ]
  },
  {
   "cell_type": "markdown",
   "id": "9fbafb3c",
   "metadata": {
    "deletable": false,
    "id": "bad65432"
   },
   "source": [
    "Напишите ваш общий вывод."
   ]
  },
  {
   "attachments": {
    "image-2.png": {
     "image/png": "[encoded data removed]"
    },
    "image-3.png": {
     "image/png": "[encoded data removed]"
    },
    "image-4.png": {
     "image/png": "[encoded data removed]"
    },
    "image.png": {
     "image/png": "[encoded data removed]"
    }
   },
   "cell_type": "markdown",
   "id": "b6e6ca4f",
   "metadata": {},
   "source": [
    "Проделана следующая работа: \n",
    "мы очистили таблицу от пропусков и заменили их меданными занчениями по категориям, подготовили данные и категоризовали их, на основе данных категорий провели анализ (представленный ниже). \n",
    "\n",
    "\n",
    "был проделан следующий анализ и получены следующие результаты: \\\n",
    "\n",
    "1. Влияние кол-ва детей на платежеспособность \\\n",
    "При увеличении количества детей, платежеспособность по кредытным обязательствам у клиента снижается, прикладываю скрин, особенно это видно на примере 0-1-2-4 ребенка. \\\n",
    "![image.png](attachment:image.png)\n",
    "\n",
    "2. Влияние семейного положения на платежеспособность\\\n",
    "Наиболее платежеспособними людьми оказались люди побывавшие в официальном браке, после них уже женатые люди. \\\n",
    "наименее платежеспособными оказались люди в гражданском браке и холостые. \n",
    "![image-2.png](attachment:image-2.png)\n",
    "\n",
    "3. Влияние дохода на платежеспособность \\\n",
    "Наилучшей группой для формирования выводов являются группы В и С, по остальным категориям недостаточно данных для формирования корректных выводов\\\n",
    "Рассматривая группу В и С можно сделать вывод что при увеличении дохода, способность выплатить крудит тоже увеличивется.\\\n",
    "Рекомендации: \n",
    "Рассмотреть другую категризацию по данным.\n",
    "![image-3.png](attachment:image-3.png)\n",
    "\n",
    "4. Влияние причины кредита на платежеспособность\\\n",
    "Люди у которых причинами является операция с недвижимостью или свадьба, являются наиболее надежными заемщиками\n",
    "![image-4.png](attachment:image-4.png)\n",
    "\n",
    "**Портрет надежного заемщика**\\\n",
    "Нет детей, желательно побывавший в официальном браке или находящийся в нем, с наибольшим доходом, причина кредита: операция с недвижимостью\\\n",
    "\n",
    "**Портрет рискованного заемщика**\\\n",
    "Большое количество детей, чем больше тем хуже, не состоявший в официальном браке или находящийся в гражданском, с наименьшим доходом, с причиной кредита: обучение или автомобиль\\\n",
    "\n",
    "**Рекомендации**\\\n",
    "В анкете сделать поля о доходе и стаже обязательными к заполнению, добавить автопроверку на формат вводимых пользователем данных"
   ]
  }
 ],
 "metadata": {
  "ExecuteTimeLog": [
   {
    "duration": 58,
    "start_time": "2024-04-07T10:26:26.088Z"
   },
   {
    "duration": 742,
    "start_time": "2024-04-07T10:27:00.642Z"
   },
   {
    "duration": 36,
    "start_time": "2024-04-07T10:27:01.386Z"
   },
   {
    "duration": 51,
    "start_time": "2024-04-07T10:27:01.424Z"
   },
   {
    "duration": 57,
    "start_time": "2024-04-07T10:27:01.478Z"
   },
   {
    "duration": 130,
    "start_time": "2024-04-07T10:27:01.537Z"
   },
   {
    "duration": 43,
    "start_time": "2024-04-07T10:27:01.668Z"
   },
   {
    "duration": 69,
    "start_time": "2024-04-07T10:27:01.713Z"
   },
   {
    "duration": 66,
    "start_time": "2024-04-07T10:27:01.784Z"
   },
   {
    "duration": 35,
    "start_time": "2024-04-07T10:27:01.852Z"
   },
   {
    "duration": 29,
    "start_time": "2024-04-07T10:27:01.891Z"
   },
   {
    "duration": 177,
    "start_time": "2024-04-07T10:27:01.922Z"
   },
   {
    "duration": 27,
    "start_time": "2024-04-07T10:27:02.102Z"
   },
   {
    "duration": 28,
    "start_time": "2024-04-07T10:27:02.131Z"
   },
   {
    "duration": 37,
    "start_time": "2024-04-07T10:27:02.161Z"
   },
   {
    "duration": 32,
    "start_time": "2024-04-07T10:27:02.201Z"
   },
   {
    "duration": 52,
    "start_time": "2024-04-07T10:27:02.236Z"
   },
   {
    "duration": 20,
    "start_time": "2024-04-07T10:27:02.290Z"
   },
   {
    "duration": 43,
    "start_time": "2024-04-07T10:27:02.313Z"
   },
   {
    "duration": 27,
    "start_time": "2024-04-07T10:27:02.359Z"
   },
   {
    "duration": 23,
    "start_time": "2024-04-07T10:27:02.388Z"
   },
   {
    "duration": 39,
    "start_time": "2024-04-07T10:27:02.413Z"
   },
   {
    "duration": 119,
    "start_time": "2024-04-07T10:27:02.454Z"
   },
   {
    "duration": 0,
    "start_time": "2024-04-07T10:27:02.575Z"
   },
   {
    "duration": 0,
    "start_time": "2024-04-07T10:27:02.577Z"
   },
   {
    "duration": 0,
    "start_time": "2024-04-07T10:27:02.578Z"
   },
   {
    "duration": 9,
    "start_time": "2024-04-07T10:27:41.867Z"
   },
   {
    "duration": 8,
    "start_time": "2024-04-07T10:29:05.481Z"
   },
   {
    "duration": 8,
    "start_time": "2024-04-07T10:29:32.458Z"
   },
   {
    "duration": 10,
    "start_time": "2024-04-07T10:30:40.509Z"
   },
   {
    "duration": 135,
    "start_time": "2024-04-07T10:33:20.165Z"
   },
   {
    "duration": 12,
    "start_time": "2024-04-07T10:33:51.846Z"
   },
   {
    "duration": 14,
    "start_time": "2024-04-07T10:34:12.554Z"
   },
   {
    "duration": 15,
    "start_time": "2024-04-07T10:34:29.369Z"
   },
   {
    "duration": 13,
    "start_time": "2024-04-07T10:36:18.887Z"
   },
   {
    "duration": 112,
    "start_time": "2024-04-07T10:36:31.412Z"
   },
   {
    "duration": 8,
    "start_time": "2024-04-07T10:36:36.563Z"
   },
   {
    "duration": 12,
    "start_time": "2024-04-07T10:39:10.379Z"
   },
   {
    "duration": 16,
    "start_time": "2024-04-07T10:40:00.630Z"
   },
   {
    "duration": 93,
    "start_time": "2024-04-07T10:40:20.340Z"
   },
   {
    "duration": 17,
    "start_time": "2024-04-07T10:40:30.298Z"
   },
   {
    "duration": 93,
    "start_time": "2024-04-07T10:41:06.519Z"
   },
   {
    "duration": 13,
    "start_time": "2024-04-07T10:41:42.403Z"
   },
   {
    "duration": 96,
    "start_time": "2024-04-07T10:41:56.649Z"
   },
   {
    "duration": 14,
    "start_time": "2024-04-07T10:41:59.866Z"
   },
   {
    "duration": 10,
    "start_time": "2024-04-07T10:56:03.044Z"
   },
   {
    "duration": 9,
    "start_time": "2024-04-07T10:56:11.638Z"
   },
   {
    "duration": 18,
    "start_time": "2024-04-07T10:56:16.385Z"
   },
   {
    "duration": 7,
    "start_time": "2024-04-07T10:57:18.548Z"
   },
   {
    "duration": 11,
    "start_time": "2024-04-07T10:57:24.446Z"
   },
   {
    "duration": 100,
    "start_time": "2024-04-07T10:58:42.145Z"
   },
   {
    "duration": 14,
    "start_time": "2024-04-07T10:58:54.856Z"
   },
   {
    "duration": 1414,
    "start_time": "2024-04-07T11:02:26.211Z"
   },
   {
    "duration": 30,
    "start_time": "2024-04-07T11:02:54.379Z"
   },
   {
    "duration": 94,
    "start_time": "2024-04-07T11:04:22.230Z"
   },
   {
    "duration": 20,
    "start_time": "2024-04-07T11:04:47.800Z"
   },
   {
    "duration": 12,
    "start_time": "2024-04-07T11:05:21.527Z"
   },
   {
    "duration": 18,
    "start_time": "2024-04-07T11:05:38.777Z"
   },
   {
    "duration": 101,
    "start_time": "2024-04-07T11:06:42.949Z"
   },
   {
    "duration": 10,
    "start_time": "2024-04-07T11:06:47.735Z"
   },
   {
    "duration": 28,
    "start_time": "2024-04-07T11:07:09.676Z"
   },
   {
    "duration": 8,
    "start_time": "2024-04-07T11:11:28.015Z"
   },
   {
    "duration": 7,
    "start_time": "2024-04-07T11:11:56.168Z"
   },
   {
    "duration": 8,
    "start_time": "2024-04-07T11:12:43.689Z"
   },
   {
    "duration": 90,
    "start_time": "2024-04-07T11:12:51.077Z"
   },
   {
    "duration": 3,
    "start_time": "2024-04-07T11:12:59.530Z"
   },
   {
    "duration": 5,
    "start_time": "2024-04-07T11:13:33.910Z"
   },
   {
    "duration": 93,
    "start_time": "2024-04-07T11:13:49.766Z"
   },
   {
    "duration": 7,
    "start_time": "2024-04-07T11:15:09.936Z"
   },
   {
    "duration": 9,
    "start_time": "2024-04-07T11:15:37.341Z"
   },
   {
    "duration": 365,
    "start_time": "2024-04-07T11:26:15.449Z"
   },
   {
    "duration": 15,
    "start_time": "2024-04-07T11:27:06.436Z"
   },
   {
    "duration": 22,
    "start_time": "2024-04-07T11:27:20.940Z"
   },
   {
    "duration": 96,
    "start_time": "2024-04-07T11:28:08.509Z"
   },
   {
    "duration": 383,
    "start_time": "2024-04-07T11:28:15.359Z"
   },
   {
    "duration": 20,
    "start_time": "2024-04-07T11:28:36.032Z"
   },
   {
    "duration": 33,
    "start_time": "2024-04-07T11:29:04.593Z"
   },
   {
    "duration": 13,
    "start_time": "2024-04-07T11:32:00.617Z"
   },
   {
    "duration": 15,
    "start_time": "2024-04-07T11:33:15.364Z"
   },
   {
    "duration": 140,
    "start_time": "2024-04-07T11:33:42.914Z"
   },
   {
    "duration": 15,
    "start_time": "2024-04-07T11:33:51.522Z"
   },
   {
    "duration": 24,
    "start_time": "2024-04-07T11:34:51.892Z"
   },
   {
    "duration": 36,
    "start_time": "2024-04-07T11:35:03.427Z"
   },
   {
    "duration": 30,
    "start_time": "2024-04-07T11:37:23.846Z"
   },
   {
    "duration": 17,
    "start_time": "2024-04-07T11:37:26.545Z"
   },
   {
    "duration": 36,
    "start_time": "2024-04-07T11:38:13.880Z"
   },
   {
    "duration": 23,
    "start_time": "2024-04-07T11:38:17.144Z"
   },
   {
    "duration": 10,
    "start_time": "2024-04-07T11:39:51.721Z"
   },
   {
    "duration": 9,
    "start_time": "2024-04-07T11:40:23.484Z"
   },
   {
    "duration": 14,
    "start_time": "2024-04-07T11:42:02.834Z"
   },
   {
    "duration": 16,
    "start_time": "2024-04-07T11:42:39.050Z"
   },
   {
    "duration": 80,
    "start_time": "2024-04-07T11:50:43.610Z"
   },
   {
    "duration": 529,
    "start_time": "2024-04-07T12:12:23.238Z"
   },
   {
    "duration": 25,
    "start_time": "2024-04-07T12:12:23.770Z"
   },
   {
    "duration": 17,
    "start_time": "2024-04-07T12:12:23.796Z"
   },
   {
    "duration": 32,
    "start_time": "2024-04-07T12:12:23.814Z"
   },
   {
    "duration": 61,
    "start_time": "2024-04-07T12:12:23.848Z"
   },
   {
    "duration": 4,
    "start_time": "2024-04-07T12:12:23.910Z"
   },
   {
    "duration": 31,
    "start_time": "2024-04-07T12:12:23.915Z"
   },
   {
    "duration": 8,
    "start_time": "2024-04-07T12:12:23.947Z"
   },
   {
    "duration": 20,
    "start_time": "2024-04-07T12:12:23.956Z"
   },
   {
    "duration": 18,
    "start_time": "2024-04-07T12:12:23.981Z"
   },
   {
    "duration": 50,
    "start_time": "2024-04-07T12:12:24.001Z"
   },
   {
    "duration": 19,
    "start_time": "2024-04-07T12:12:24.053Z"
   },
   {
    "duration": 16,
    "start_time": "2024-04-07T12:12:24.074Z"
   },
   {
    "duration": 24,
    "start_time": "2024-04-07T12:12:24.091Z"
   },
   {
    "duration": 23,
    "start_time": "2024-04-07T12:12:24.117Z"
   },
   {
    "duration": 16,
    "start_time": "2024-04-07T12:12:24.142Z"
   },
   {
    "duration": 14,
    "start_time": "2024-04-07T12:12:24.159Z"
   },
   {
    "duration": 16,
    "start_time": "2024-04-07T12:12:24.175Z"
   },
   {
    "duration": 5,
    "start_time": "2024-04-07T12:12:24.192Z"
   },
   {
    "duration": 13,
    "start_time": "2024-04-07T12:12:24.198Z"
   },
   {
    "duration": 17,
    "start_time": "2024-04-07T12:12:24.213Z"
   },
   {
    "duration": 77,
    "start_time": "2024-04-07T12:12:24.231Z"
   },
   {
    "duration": 0,
    "start_time": "2024-04-07T12:12:24.310Z"
   },
   {
    "duration": 0,
    "start_time": "2024-04-07T12:12:24.310Z"
   },
   {
    "duration": 0,
    "start_time": "2024-04-07T12:12:24.311Z"
   },
   {
    "duration": 0,
    "start_time": "2024-04-07T12:12:24.312Z"
   },
   {
    "duration": 636,
    "start_time": "2024-04-07T16:07:02.915Z"
   },
   {
    "duration": 34,
    "start_time": "2024-04-07T16:07:03.553Z"
   },
   {
    "duration": 17,
    "start_time": "2024-04-07T16:07:03.588Z"
   },
   {
    "duration": 11,
    "start_time": "2024-04-07T16:07:03.607Z"
   },
   {
    "duration": 55,
    "start_time": "2024-04-07T16:07:03.619Z"
   },
   {
    "duration": 3,
    "start_time": "2024-04-07T16:07:03.676Z"
   },
   {
    "duration": 7,
    "start_time": "2024-04-07T16:07:03.681Z"
   },
   {
    "duration": 4,
    "start_time": "2024-04-07T16:07:03.690Z"
   },
   {
    "duration": 6,
    "start_time": "2024-04-07T16:07:03.695Z"
   },
   {
    "duration": 4,
    "start_time": "2024-04-07T16:07:03.704Z"
   },
   {
    "duration": 71,
    "start_time": "2024-04-07T16:07:03.709Z"
   },
   {
    "duration": 15,
    "start_time": "2024-04-07T16:07:03.782Z"
   },
   {
    "duration": 4,
    "start_time": "2024-04-07T16:07:03.799Z"
   },
   {
    "duration": 14,
    "start_time": "2024-04-07T16:07:03.805Z"
   },
   {
    "duration": 42,
    "start_time": "2024-04-07T16:07:03.821Z"
   },
   {
    "duration": 17,
    "start_time": "2024-04-07T16:07:03.865Z"
   },
   {
    "duration": 9,
    "start_time": "2024-04-07T16:07:03.883Z"
   },
   {
    "duration": 16,
    "start_time": "2024-04-07T16:07:03.893Z"
   },
   {
    "duration": 6,
    "start_time": "2024-04-07T16:07:03.911Z"
   },
   {
    "duration": 10,
    "start_time": "2024-04-07T16:07:03.918Z"
   },
   {
    "duration": 16,
    "start_time": "2024-04-07T16:07:03.929Z"
   },
   {
    "duration": 64,
    "start_time": "2024-04-07T16:07:03.959Z"
   },
   {
    "duration": 0,
    "start_time": "2024-04-07T16:07:04.025Z"
   },
   {
    "duration": 0,
    "start_time": "2024-04-07T16:07:04.026Z"
   },
   {
    "duration": 0,
    "start_time": "2024-04-07T16:07:04.027Z"
   },
   {
    "duration": 0,
    "start_time": "2024-04-07T16:07:04.028Z"
   },
   {
    "duration": 12,
    "start_time": "2024-04-07T16:08:41.306Z"
   },
   {
    "duration": 502,
    "start_time": "2024-04-07T16:09:01.529Z"
   },
   {
    "duration": 24,
    "start_time": "2024-04-07T16:09:02.033Z"
   },
   {
    "duration": 50,
    "start_time": "2024-04-07T16:09:02.058Z"
   },
   {
    "duration": 30,
    "start_time": "2024-04-07T16:09:02.110Z"
   },
   {
    "duration": 49,
    "start_time": "2024-04-07T16:09:02.142Z"
   },
   {
    "duration": 3,
    "start_time": "2024-04-07T16:09:02.192Z"
   },
   {
    "duration": 23,
    "start_time": "2024-04-07T16:09:02.197Z"
   },
   {
    "duration": 10,
    "start_time": "2024-04-07T16:09:02.222Z"
   },
   {
    "duration": 24,
    "start_time": "2024-04-07T16:09:02.233Z"
   },
   {
    "duration": 17,
    "start_time": "2024-04-07T16:09:02.261Z"
   },
   {
    "duration": 55,
    "start_time": "2024-04-07T16:09:02.280Z"
   },
   {
    "duration": 10,
    "start_time": "2024-04-07T16:09:02.336Z"
   },
   {
    "duration": 37,
    "start_time": "2024-04-07T16:09:02.347Z"
   },
   {
    "duration": 47,
    "start_time": "2024-04-07T16:09:02.385Z"
   },
   {
    "duration": 52,
    "start_time": "2024-04-07T16:09:02.434Z"
   },
   {
    "duration": 15,
    "start_time": "2024-04-07T16:09:02.488Z"
   },
   {
    "duration": 3,
    "start_time": "2024-04-07T16:09:02.504Z"
   },
   {
    "duration": 24,
    "start_time": "2024-04-07T16:09:02.509Z"
   },
   {
    "duration": 19,
    "start_time": "2024-04-07T16:09:02.534Z"
   },
   {
    "duration": 23,
    "start_time": "2024-04-07T16:09:02.555Z"
   },
   {
    "duration": 36,
    "start_time": "2024-04-07T16:09:02.579Z"
   },
   {
    "duration": 22,
    "start_time": "2024-04-07T16:09:02.616Z"
   },
   {
    "duration": 37,
    "start_time": "2024-04-07T16:09:02.639Z"
   },
   {
    "duration": 21,
    "start_time": "2024-04-07T16:09:02.678Z"
   },
   {
    "duration": 17,
    "start_time": "2024-04-07T16:09:02.701Z"
   },
   {
    "duration": 15,
    "start_time": "2024-04-07T16:09:02.719Z"
   },
   {
    "duration": 453,
    "start_time": "2024-04-07T16:13:19.571Z"
   },
   {
    "duration": 22,
    "start_time": "2024-04-07T16:13:20.026Z"
   },
   {
    "duration": 23,
    "start_time": "2024-04-07T16:13:20.050Z"
   },
   {
    "duration": 8,
    "start_time": "2024-04-07T16:13:20.076Z"
   },
   {
    "duration": 35,
    "start_time": "2024-04-07T16:13:20.086Z"
   },
   {
    "duration": 2,
    "start_time": "2024-04-07T16:13:20.123Z"
   },
   {
    "duration": 11,
    "start_time": "2024-04-07T16:13:20.127Z"
   },
   {
    "duration": 5,
    "start_time": "2024-04-07T16:13:20.139Z"
   },
   {
    "duration": 34,
    "start_time": "2024-04-07T16:13:20.146Z"
   },
   {
    "duration": 5,
    "start_time": "2024-04-07T16:13:20.183Z"
   },
   {
    "duration": 47,
    "start_time": "2024-04-07T16:13:20.189Z"
   },
   {
    "duration": 10,
    "start_time": "2024-04-07T16:13:20.237Z"
   },
   {
    "duration": 5,
    "start_time": "2024-04-07T16:13:20.248Z"
   },
   {
    "duration": 27,
    "start_time": "2024-04-07T16:13:20.255Z"
   },
   {
    "duration": 34,
    "start_time": "2024-04-07T16:13:20.284Z"
   },
   {
    "duration": 25,
    "start_time": "2024-04-07T16:13:20.320Z"
   },
   {
    "duration": 5,
    "start_time": "2024-04-07T16:13:20.347Z"
   },
   {
    "duration": 35,
    "start_time": "2024-04-07T16:13:20.353Z"
   },
   {
    "duration": 8,
    "start_time": "2024-04-07T16:13:20.390Z"
   },
   {
    "duration": 7,
    "start_time": "2024-04-07T16:13:20.400Z"
   },
   {
    "duration": 13,
    "start_time": "2024-04-07T16:13:20.409Z"
   },
   {
    "duration": 11,
    "start_time": "2024-04-07T16:13:20.424Z"
   },
   {
    "duration": 14,
    "start_time": "2024-04-07T16:13:20.437Z"
   },
   {
    "duration": 31,
    "start_time": "2024-04-07T16:13:20.463Z"
   },
   {
    "duration": 20,
    "start_time": "2024-04-07T16:13:20.496Z"
   },
   {
    "duration": 18,
    "start_time": "2024-04-07T16:13:20.518Z"
   },
   {
    "duration": 552,
    "start_time": "2024-04-07T17:12:10.262Z"
   },
   {
    "duration": 18,
    "start_time": "2024-04-07T17:12:10.816Z"
   },
   {
    "duration": 11,
    "start_time": "2024-04-07T17:12:10.835Z"
   },
   {
    "duration": 7,
    "start_time": "2024-04-07T17:12:10.848Z"
   },
   {
    "duration": 27,
    "start_time": "2024-04-07T17:12:10.856Z"
   },
   {
    "duration": 2,
    "start_time": "2024-04-07T17:12:10.884Z"
   },
   {
    "duration": 14,
    "start_time": "2024-04-07T17:12:10.888Z"
   },
   {
    "duration": 6,
    "start_time": "2024-04-07T17:12:10.903Z"
   },
   {
    "duration": 6,
    "start_time": "2024-04-07T17:12:10.910Z"
   },
   {
    "duration": 4,
    "start_time": "2024-04-07T17:12:10.918Z"
   },
   {
    "duration": 27,
    "start_time": "2024-04-07T17:12:10.923Z"
   },
   {
    "duration": 7,
    "start_time": "2024-04-07T17:12:10.952Z"
   },
   {
    "duration": 4,
    "start_time": "2024-04-07T17:12:10.960Z"
   },
   {
    "duration": 12,
    "start_time": "2024-04-07T17:12:10.965Z"
   },
   {
    "duration": 17,
    "start_time": "2024-04-07T17:12:11.001Z"
   },
   {
    "duration": 15,
    "start_time": "2024-04-07T17:12:11.020Z"
   },
   {
    "duration": 3,
    "start_time": "2024-04-07T17:12:11.036Z"
   },
   {
    "duration": 8,
    "start_time": "2024-04-07T17:12:11.041Z"
   },
   {
    "duration": 9,
    "start_time": "2024-04-07T17:12:11.050Z"
   },
   {
    "duration": 4,
    "start_time": "2024-04-07T17:12:11.060Z"
   },
   {
    "duration": 18,
    "start_time": "2024-04-07T17:12:11.065Z"
   },
   {
    "duration": 24,
    "start_time": "2024-04-07T17:12:11.084Z"
   },
   {
    "duration": 11,
    "start_time": "2024-04-07T17:12:11.110Z"
   },
   {
    "duration": 18,
    "start_time": "2024-04-07T17:12:11.122Z"
   },
   {
    "duration": 12,
    "start_time": "2024-04-07T17:12:11.141Z"
   },
   {
    "duration": 17,
    "start_time": "2024-04-07T17:12:11.154Z"
   },
   {
    "duration": 3,
    "start_time": "2024-04-07T18:06:26.450Z"
   },
   {
    "duration": 9,
    "start_time": "2024-04-07T18:06:34.314Z"
   },
   {
    "duration": 10,
    "start_time": "2024-04-07T18:07:09.696Z"
   },
   {
    "duration": 609,
    "start_time": "2024-04-07T18:16:46.297Z"
   },
   {
    "duration": 32,
    "start_time": "2024-04-07T18:16:46.908Z"
   },
   {
    "duration": 45,
    "start_time": "2024-04-07T18:16:46.942Z"
   },
   {
    "duration": 23,
    "start_time": "2024-04-07T18:16:46.990Z"
   },
   {
    "duration": 74,
    "start_time": "2024-04-07T18:16:47.014Z"
   },
   {
    "duration": 13,
    "start_time": "2024-04-07T18:16:47.089Z"
   },
   {
    "duration": 33,
    "start_time": "2024-04-07T18:16:47.103Z"
   },
   {
    "duration": 21,
    "start_time": "2024-04-07T18:16:47.138Z"
   },
   {
    "duration": 49,
    "start_time": "2024-04-07T18:16:47.160Z"
   },
   {
    "duration": 25,
    "start_time": "2024-04-07T18:16:47.212Z"
   },
   {
    "duration": 61,
    "start_time": "2024-04-07T18:16:47.239Z"
   },
   {
    "duration": 15,
    "start_time": "2024-04-07T18:16:47.307Z"
   },
   {
    "duration": 45,
    "start_time": "2024-04-07T18:16:47.324Z"
   },
   {
    "duration": 42,
    "start_time": "2024-04-07T18:16:47.370Z"
   },
   {
    "duration": 52,
    "start_time": "2024-04-07T18:16:47.414Z"
   },
   {
    "duration": 29,
    "start_time": "2024-04-07T18:16:47.468Z"
   },
   {
    "duration": 5,
    "start_time": "2024-04-07T18:16:47.499Z"
   },
   {
    "duration": 29,
    "start_time": "2024-04-07T18:16:47.506Z"
   },
   {
    "duration": 43,
    "start_time": "2024-04-07T18:16:47.536Z"
   },
   {
    "duration": 4,
    "start_time": "2024-04-07T18:16:47.580Z"
   },
   {
    "duration": 45,
    "start_time": "2024-04-07T18:16:47.585Z"
   },
   {
    "duration": 29,
    "start_time": "2024-04-07T18:16:47.632Z"
   },
   {
    "duration": 14,
    "start_time": "2024-04-07T18:16:47.663Z"
   },
   {
    "duration": 32,
    "start_time": "2024-04-07T18:16:47.679Z"
   },
   {
    "duration": 19,
    "start_time": "2024-04-07T18:16:47.713Z"
   },
   {
    "duration": 19,
    "start_time": "2024-04-07T18:16:47.733Z"
   },
   {
    "duration": 10,
    "start_time": "2024-04-07T18:21:53.438Z"
   },
   {
    "duration": 54,
    "start_time": "2024-04-07T18:22:19.105Z"
   },
   {
    "duration": 31,
    "start_time": "2024-04-07T18:28:16.462Z"
   },
   {
    "duration": 73,
    "start_time": "2024-04-07T18:30:08.878Z"
   },
   {
    "duration": 9,
    "start_time": "2024-04-07T18:30:26.914Z"
   },
   {
    "duration": 14,
    "start_time": "2024-04-07T18:30:50.735Z"
   },
   {
    "duration": 13,
    "start_time": "2024-04-07T18:31:59.175Z"
   },
   {
    "duration": 14,
    "start_time": "2024-04-07T18:32:24.779Z"
   },
   {
    "duration": 12,
    "start_time": "2024-04-07T18:32:29.122Z"
   },
   {
    "duration": 488,
    "start_time": "2024-04-07T18:38:54.203Z"
   },
   {
    "duration": 21,
    "start_time": "2024-04-07T18:38:54.693Z"
   },
   {
    "duration": 29,
    "start_time": "2024-04-07T18:38:54.716Z"
   },
   {
    "duration": 22,
    "start_time": "2024-04-07T18:38:54.748Z"
   },
   {
    "duration": 50,
    "start_time": "2024-04-07T18:38:54.771Z"
   },
   {
    "duration": 3,
    "start_time": "2024-04-07T18:38:54.823Z"
   },
   {
    "duration": 10,
    "start_time": "2024-04-07T18:38:54.827Z"
   },
   {
    "duration": 4,
    "start_time": "2024-04-07T18:38:54.839Z"
   },
   {
    "duration": 8,
    "start_time": "2024-04-07T18:38:54.844Z"
   },
   {
    "duration": 4,
    "start_time": "2024-04-07T18:38:54.865Z"
   },
   {
    "duration": 40,
    "start_time": "2024-04-07T18:38:54.870Z"
   },
   {
    "duration": 10,
    "start_time": "2024-04-07T18:38:54.911Z"
   },
   {
    "duration": 5,
    "start_time": "2024-04-07T18:38:54.922Z"
   },
   {
    "duration": 12,
    "start_time": "2024-04-07T18:38:54.928Z"
   },
   {
    "duration": 38,
    "start_time": "2024-04-07T18:38:54.941Z"
   },
   {
    "duration": 17,
    "start_time": "2024-04-07T18:38:54.980Z"
   },
   {
    "duration": 3,
    "start_time": "2024-04-07T18:38:54.998Z"
   },
   {
    "duration": 12,
    "start_time": "2024-04-07T18:38:55.003Z"
   },
   {
    "duration": 5,
    "start_time": "2024-04-07T18:38:55.016Z"
   },
   {
    "duration": 3,
    "start_time": "2024-04-07T18:38:55.023Z"
   },
   {
    "duration": 13,
    "start_time": "2024-04-07T18:38:55.027Z"
   },
   {
    "duration": 33,
    "start_time": "2024-04-07T18:38:55.041Z"
   },
   {
    "duration": 9,
    "start_time": "2024-04-07T18:38:55.076Z"
   },
   {
    "duration": 13,
    "start_time": "2024-04-07T18:38:55.087Z"
   },
   {
    "duration": 10,
    "start_time": "2024-04-07T18:38:55.101Z"
   },
   {
    "duration": 13,
    "start_time": "2024-04-07T18:38:55.112Z"
   },
   {
    "duration": 485,
    "start_time": "2024-04-07T18:55:48.519Z"
   },
   {
    "duration": 21,
    "start_time": "2024-04-07T18:55:49.006Z"
   },
   {
    "duration": 15,
    "start_time": "2024-04-07T18:55:49.028Z"
   },
   {
    "duration": 24,
    "start_time": "2024-04-07T18:55:49.045Z"
   },
   {
    "duration": 37,
    "start_time": "2024-04-07T18:55:49.071Z"
   },
   {
    "duration": 3,
    "start_time": "2024-04-07T18:55:49.109Z"
   },
   {
    "duration": 10,
    "start_time": "2024-04-07T18:55:49.113Z"
   },
   {
    "duration": 4,
    "start_time": "2024-04-07T18:55:49.124Z"
   },
   {
    "duration": 9,
    "start_time": "2024-04-07T18:55:49.130Z"
   },
   {
    "duration": 23,
    "start_time": "2024-04-07T18:55:49.143Z"
   },
   {
    "duration": 35,
    "start_time": "2024-04-07T18:55:49.167Z"
   },
   {
    "duration": 10,
    "start_time": "2024-04-07T18:55:49.203Z"
   },
   {
    "duration": 5,
    "start_time": "2024-04-07T18:55:49.214Z"
   },
   {
    "duration": 11,
    "start_time": "2024-04-07T18:55:49.220Z"
   },
   {
    "duration": 46,
    "start_time": "2024-04-07T18:55:49.233Z"
   },
   {
    "duration": 16,
    "start_time": "2024-04-07T18:55:49.280Z"
   },
   {
    "duration": 3,
    "start_time": "2024-04-07T18:55:49.298Z"
   },
   {
    "duration": 14,
    "start_time": "2024-04-07T18:55:49.303Z"
   },
   {
    "duration": 8,
    "start_time": "2024-04-07T18:55:49.319Z"
   },
   {
    "duration": 4,
    "start_time": "2024-04-07T18:55:49.328Z"
   },
   {
    "duration": 10,
    "start_time": "2024-04-07T18:55:49.333Z"
   },
   {
    "duration": 12,
    "start_time": "2024-04-07T18:55:49.366Z"
   },
   {
    "duration": 10,
    "start_time": "2024-04-07T18:55:49.379Z"
   },
   {
    "duration": 13,
    "start_time": "2024-04-07T18:55:49.390Z"
   },
   {
    "duration": 10,
    "start_time": "2024-04-07T18:55:49.404Z"
   },
   {
    "duration": 14,
    "start_time": "2024-04-07T18:55:49.415Z"
   },
   {
    "duration": 408,
    "start_time": "2024-04-07T19:13:59.157Z"
   },
   {
    "duration": 18,
    "start_time": "2024-04-07T19:13:59.566Z"
   },
   {
    "duration": 12,
    "start_time": "2024-04-07T19:13:59.585Z"
   },
   {
    "duration": 9,
    "start_time": "2024-04-07T19:13:59.598Z"
   },
   {
    "duration": 26,
    "start_time": "2024-04-07T19:13:59.609Z"
   },
   {
    "duration": 2,
    "start_time": "2024-04-07T19:13:59.636Z"
   },
   {
    "duration": 7,
    "start_time": "2024-04-07T19:13:59.639Z"
   },
   {
    "duration": 11,
    "start_time": "2024-04-07T19:13:59.647Z"
   },
   {
    "duration": 9,
    "start_time": "2024-04-07T19:13:59.659Z"
   },
   {
    "duration": 4,
    "start_time": "2024-04-07T19:13:59.669Z"
   },
   {
    "duration": 39,
    "start_time": "2024-04-07T19:13:59.674Z"
   },
   {
    "duration": 7,
    "start_time": "2024-04-07T19:13:59.714Z"
   },
   {
    "duration": 2,
    "start_time": "2024-04-07T19:13:59.723Z"
   },
   {
    "duration": 9,
    "start_time": "2024-04-07T19:13:59.727Z"
   },
   {
    "duration": 24,
    "start_time": "2024-04-07T19:13:59.737Z"
   },
   {
    "duration": 12,
    "start_time": "2024-04-07T19:13:59.763Z"
   },
   {
    "duration": 2,
    "start_time": "2024-04-07T19:13:59.777Z"
   },
   {
    "duration": 24,
    "start_time": "2024-04-07T19:13:59.780Z"
   },
   {
    "duration": 4,
    "start_time": "2024-04-07T19:13:59.805Z"
   },
   {
    "duration": 3,
    "start_time": "2024-04-07T19:13:59.810Z"
   },
   {
    "duration": 9,
    "start_time": "2024-04-07T19:13:59.814Z"
   },
   {
    "duration": 11,
    "start_time": "2024-04-07T19:13:59.824Z"
   },
   {
    "duration": 7,
    "start_time": "2024-04-07T19:13:59.836Z"
   },
   {
    "duration": 11,
    "start_time": "2024-04-07T19:13:59.844Z"
   },
   {
    "duration": 8,
    "start_time": "2024-04-07T19:13:59.856Z"
   },
   {
    "duration": 44,
    "start_time": "2024-04-07T19:13:59.865Z"
   },
   {
    "duration": 696,
    "start_time": "2024-04-08T05:39:56.635Z"
   },
   {
    "duration": 23,
    "start_time": "2024-04-08T05:39:57.332Z"
   },
   {
    "duration": 21,
    "start_time": "2024-04-08T05:39:57.357Z"
   },
   {
    "duration": 15,
    "start_time": "2024-04-08T05:39:57.380Z"
   },
   {
    "duration": 37,
    "start_time": "2024-04-08T05:39:57.396Z"
   },
   {
    "duration": 3,
    "start_time": "2024-04-08T05:39:57.435Z"
   },
   {
    "duration": 8,
    "start_time": "2024-04-08T05:39:57.456Z"
   },
   {
    "duration": 5,
    "start_time": "2024-04-08T05:39:57.465Z"
   },
   {
    "duration": 17,
    "start_time": "2024-04-08T05:39:57.471Z"
   },
   {
    "duration": 4,
    "start_time": "2024-04-08T05:39:57.491Z"
   },
   {
    "duration": 51,
    "start_time": "2024-04-08T05:39:57.496Z"
   },
   {
    "duration": 15,
    "start_time": "2024-04-08T05:39:57.549Z"
   },
   {
    "duration": 10,
    "start_time": "2024-04-08T05:39:57.566Z"
   },
   {
    "duration": 14,
    "start_time": "2024-04-08T05:39:57.578Z"
   },
   {
    "duration": 20,
    "start_time": "2024-04-08T05:39:57.593Z"
   },
   {
    "duration": 17,
    "start_time": "2024-04-08T05:39:57.615Z"
   },
   {
    "duration": 22,
    "start_time": "2024-04-08T05:39:57.634Z"
   },
   {
    "duration": 15,
    "start_time": "2024-04-08T05:39:57.657Z"
   },
   {
    "duration": 7,
    "start_time": "2024-04-08T05:39:57.673Z"
   },
   {
    "duration": 3,
    "start_time": "2024-04-08T05:39:57.682Z"
   },
   {
    "duration": 15,
    "start_time": "2024-04-08T05:39:57.687Z"
   },
   {
    "duration": 14,
    "start_time": "2024-04-08T05:39:57.704Z"
   },
   {
    "duration": 38,
    "start_time": "2024-04-08T05:39:57.719Z"
   },
   {
    "duration": 15,
    "start_time": "2024-04-08T05:39:57.758Z"
   },
   {
    "duration": 11,
    "start_time": "2024-04-08T05:39:57.775Z"
   },
   {
    "duration": 14,
    "start_time": "2024-04-08T05:39:57.787Z"
   },
   {
    "duration": 458,
    "start_time": "2024-04-08T09:23:50.577Z"
   },
   {
    "duration": 22,
    "start_time": "2024-04-08T09:23:51.037Z"
   },
   {
    "duration": 36,
    "start_time": "2024-04-08T09:23:51.060Z"
   },
   {
    "duration": 11,
    "start_time": "2024-04-08T09:23:51.098Z"
   },
   {
    "duration": 51,
    "start_time": "2024-04-08T09:23:51.111Z"
   },
   {
    "duration": 4,
    "start_time": "2024-04-08T09:23:51.163Z"
   },
   {
    "duration": 27,
    "start_time": "2024-04-08T09:23:51.168Z"
   },
   {
    "duration": 19,
    "start_time": "2024-04-08T09:23:51.197Z"
   },
   {
    "duration": 27,
    "start_time": "2024-04-08T09:23:51.218Z"
   },
   {
    "duration": 24,
    "start_time": "2024-04-08T09:23:51.249Z"
   },
   {
    "duration": 41,
    "start_time": "2024-04-08T09:23:51.275Z"
   },
   {
    "duration": 16,
    "start_time": "2024-04-08T09:23:51.318Z"
   },
   {
    "duration": 8,
    "start_time": "2024-04-08T09:23:51.335Z"
   },
   {
    "duration": 39,
    "start_time": "2024-04-08T09:23:51.344Z"
   },
   {
    "duration": 38,
    "start_time": "2024-04-08T09:23:51.384Z"
   },
   {
    "duration": 22,
    "start_time": "2024-04-08T09:23:51.423Z"
   },
   {
    "duration": 3,
    "start_time": "2024-04-08T09:23:51.447Z"
   },
   {
    "duration": 20,
    "start_time": "2024-04-08T09:23:51.451Z"
   },
   {
    "duration": 25,
    "start_time": "2024-04-08T09:23:51.472Z"
   },
   {
    "duration": 3,
    "start_time": "2024-04-08T09:23:51.498Z"
   },
   {
    "duration": 10,
    "start_time": "2024-04-08T09:23:51.502Z"
   },
   {
    "duration": 11,
    "start_time": "2024-04-08T09:23:51.513Z"
   },
   {
    "duration": 9,
    "start_time": "2024-04-08T09:23:51.525Z"
   },
   {
    "duration": 13,
    "start_time": "2024-04-08T09:23:51.535Z"
   },
   {
    "duration": 9,
    "start_time": "2024-04-08T09:23:51.549Z"
   },
   {
    "duration": 24,
    "start_time": "2024-04-08T09:23:51.559Z"
   }
  ],
  "colab": {
   "name": "dpp_template_part2.ipynb",
   "provenance": []
  },
  "kernelspec": {
   "display_name": "Python 3 (ipykernel)",
   "language": "python",
   "name": "python3"
  },
  "language_info": {
   "codemirror_mode": {
    "name": "ipython",
    "version": 3
   },
   "file_extension": ".py",
   "mimetype": "text/x-python",
   "name": "python",
   "nbconvert_exporter": "python",
   "pygments_lexer": "ipython3",
   "version": "3.11.7"
  },
  "toc": {
   "base_numbering": 1,
   "nav_menu": {},
   "number_sections": true,
   "sideBar": true,
   "skip_h1_title": true,
   "title_cell": "Table of Contents",
   "title_sidebar": "Contents",
   "toc_cell": false,
   "toc_position": {},
   "toc_section_display": true,
   "toc_window_display": false
  }
 },
 "nbformat": 4,
 "nbformat_minor": 5
}
