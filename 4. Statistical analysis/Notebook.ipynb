{
 "cells": [
  {
   "cell_type": "markdown",
   "id": "68f78d67",
   "metadata": {},
   "source": [
    "# Исследования о поездах пользователей на самокатах\n",
    "\n",
    "Предоставлен набор данных о пользователях, информации о них, их поездки, варианты подписок. \n",
    "\n",
    "*Цель* исследования: \n",
    "1. Построить различные гипотезы, дать советы бизнесу.\n",
    "\n",
    "*Ход* исследования: \n",
    "1. Выгрузить полученные данные. \n",
    "2. Проанализировать данные, проверить на дубликаты, пропуски. \n",
    "3. Провести исследовательский анализ, проверить аномалии. \n",
    "4. объеденить данные, сделать сводную таблицу.\n",
    "5. Совершить подсчет выручки.\n",
    "6. Сформировать необходимые гипотезы, првоерить. \n",
    "7. Сделать выводы."
   ]
  },
  {
   "cell_type": "code",
   "execution_count": 1,
   "id": "72576667",
   "metadata": {},
   "outputs": [],
   "source": [
    "import pandas as pd\n",
    "import numpy as np\n",
    "from scipy import stats as st"
   ]
  },
  {
   "cell_type": "markdown",
   "id": "c42cbe00",
   "metadata": {},
   "source": [
    "# Шаг 1. Загрузка данных"
   ]
  },
  {
   "cell_type": "code",
   "execution_count": 2,
   "id": "eff9f206",
   "metadata": {
    "scrolled": true
   },
   "outputs": [],
   "source": [
    "users = pd.read_csv(r\"C:\\Users\\nssavinov\\Desktop\\Пректы практикум\\4 Статистический анализ\\users_go.csv\")\n",
    "rides = pd.read_csv(r\"C:\\Users\\nssavinov\\Desktop\\Пректы практикум\\4 Статистический анализ\\rides_go.csv\")\n",
    "subscriptions = pd.read_csv(r\"C:\\Users\\nssavinov\\Desktop\\Пректы практикум\\4 Статистический анализ\\subscriptions_go.csv\")"
   ]
  },
  {
   "cell_type": "markdown",
   "id": "c191b981",
   "metadata": {},
   "source": [
    "Выгрузим первые 5 строк и инфо каждого датафрейма"
   ]
  },
  {
   "cell_type": "code",
   "execution_count": 3,
   "id": "6fc06f47",
   "metadata": {},
   "outputs": [],
   "source": [
    "def displ(table):\n",
    "    display(table.head())\n",
    "    display(' ')\n",
    "    display(table.info())"
   ]
  },
  {
   "cell_type": "code",
   "execution_count": 4,
   "id": "41a6af05",
   "metadata": {},
   "outputs": [
    {
     "data": {
      "text/html": [
       "<div>\n",
       "<style scoped>\n",
       "    .dataframe tbody tr th:only-of-type {\n",
       "        vertical-align: middle;\n",
       "    }\n",
       "\n",
       "    .dataframe tbody tr th {\n",
       "        vertical-align: top;\n",
       "    }\n",
       "\n",
       "    .dataframe thead th {\n",
       "        text-align: right;\n",
       "    }\n",
       "</style>\n",
       "<table border=\"1\" class=\"dataframe\">\n",
       "  <thead>\n",
       "    <tr style=\"text-align: right;\">\n",
       "      <th></th>\n",
       "      <th>user_id</th>\n",
       "      <th>name</th>\n",
       "      <th>age</th>\n",
       "      <th>city</th>\n",
       "      <th>subscription_type</th>\n",
       "    </tr>\n",
       "  </thead>\n",
       "  <tbody>\n",
       "    <tr>\n",
       "      <th>0</th>\n",
       "      <td>1</td>\n",
       "      <td>Кира</td>\n",
       "      <td>22</td>\n",
       "      <td>Тюмень</td>\n",
       "      <td>ultra</td>\n",
       "    </tr>\n",
       "    <tr>\n",
       "      <th>1</th>\n",
       "      <td>2</td>\n",
       "      <td>Станислав</td>\n",
       "      <td>31</td>\n",
       "      <td>Омск</td>\n",
       "      <td>ultra</td>\n",
       "    </tr>\n",
       "    <tr>\n",
       "      <th>2</th>\n",
       "      <td>3</td>\n",
       "      <td>Алексей</td>\n",
       "      <td>20</td>\n",
       "      <td>Москва</td>\n",
       "      <td>ultra</td>\n",
       "    </tr>\n",
       "    <tr>\n",
       "      <th>3</th>\n",
       "      <td>4</td>\n",
       "      <td>Константин</td>\n",
       "      <td>26</td>\n",
       "      <td>Ростов-на-Дону</td>\n",
       "      <td>ultra</td>\n",
       "    </tr>\n",
       "    <tr>\n",
       "      <th>4</th>\n",
       "      <td>5</td>\n",
       "      <td>Адель</td>\n",
       "      <td>28</td>\n",
       "      <td>Омск</td>\n",
       "      <td>ultra</td>\n",
       "    </tr>\n",
       "  </tbody>\n",
       "</table>\n",
       "</div>"
      ],
      "text/plain": [
       "   user_id        name  age            city subscription_type\n",
       "0        1        Кира   22          Тюмень             ultra\n",
       "1        2   Станислав   31            Омск             ultra\n",
       "2        3     Алексей   20          Москва             ultra\n",
       "3        4  Константин   26  Ростов-на-Дону             ultra\n",
       "4        5       Адель   28            Омск             ultra"
      ]
     },
     "metadata": {},
     "output_type": "display_data"
    },
    {
     "data": {
      "text/plain": [
       "' '"
      ]
     },
     "metadata": {},
     "output_type": "display_data"
    },
    {
     "name": "stdout",
     "output_type": "stream",
     "text": [
      "<class 'pandas.core.frame.DataFrame'>\n",
      "RangeIndex: 1565 entries, 0 to 1564\n",
      "Data columns (total 5 columns):\n",
      " #   Column             Non-Null Count  Dtype \n",
      "---  ------             --------------  ----- \n",
      " 0   user_id            1565 non-null   int64 \n",
      " 1   name               1565 non-null   object\n",
      " 2   age                1565 non-null   int64 \n",
      " 3   city               1565 non-null   object\n",
      " 4   subscription_type  1565 non-null   object\n",
      "dtypes: int64(2), object(3)\n",
      "memory usage: 61.3+ KB\n"
     ]
    },
    {
     "data": {
      "text/plain": [
       "None"
      ]
     },
     "metadata": {},
     "output_type": "display_data"
    },
    {
     "data": {
      "text/html": [
       "<div>\n",
       "<style scoped>\n",
       "    .dataframe tbody tr th:only-of-type {\n",
       "        vertical-align: middle;\n",
       "    }\n",
       "\n",
       "    .dataframe tbody tr th {\n",
       "        vertical-align: top;\n",
       "    }\n",
       "\n",
       "    .dataframe thead th {\n",
       "        text-align: right;\n",
       "    }\n",
       "</style>\n",
       "<table border=\"1\" class=\"dataframe\">\n",
       "  <thead>\n",
       "    <tr style=\"text-align: right;\">\n",
       "      <th></th>\n",
       "      <th>user_id</th>\n",
       "      <th>distance</th>\n",
       "      <th>duration</th>\n",
       "      <th>date</th>\n",
       "    </tr>\n",
       "  </thead>\n",
       "  <tbody>\n",
       "    <tr>\n",
       "      <th>0</th>\n",
       "      <td>1</td>\n",
       "      <td>4409.919140</td>\n",
       "      <td>25.599769</td>\n",
       "      <td>2021-01-01</td>\n",
       "    </tr>\n",
       "    <tr>\n",
       "      <th>1</th>\n",
       "      <td>1</td>\n",
       "      <td>2617.592153</td>\n",
       "      <td>15.816871</td>\n",
       "      <td>2021-01-18</td>\n",
       "    </tr>\n",
       "    <tr>\n",
       "      <th>2</th>\n",
       "      <td>1</td>\n",
       "      <td>754.159807</td>\n",
       "      <td>6.232113</td>\n",
       "      <td>2021-04-20</td>\n",
       "    </tr>\n",
       "    <tr>\n",
       "      <th>3</th>\n",
       "      <td>1</td>\n",
       "      <td>2694.783254</td>\n",
       "      <td>18.511000</td>\n",
       "      <td>2021-08-11</td>\n",
       "    </tr>\n",
       "    <tr>\n",
       "      <th>4</th>\n",
       "      <td>1</td>\n",
       "      <td>4028.687306</td>\n",
       "      <td>26.265803</td>\n",
       "      <td>2021-08-28</td>\n",
       "    </tr>\n",
       "  </tbody>\n",
       "</table>\n",
       "</div>"
      ],
      "text/plain": [
       "   user_id     distance   duration        date\n",
       "0        1  4409.919140  25.599769  2021-01-01\n",
       "1        1  2617.592153  15.816871  2021-01-18\n",
       "2        1   754.159807   6.232113  2021-04-20\n",
       "3        1  2694.783254  18.511000  2021-08-11\n",
       "4        1  4028.687306  26.265803  2021-08-28"
      ]
     },
     "metadata": {},
     "output_type": "display_data"
    },
    {
     "data": {
      "text/plain": [
       "' '"
      ]
     },
     "metadata": {},
     "output_type": "display_data"
    },
    {
     "name": "stdout",
     "output_type": "stream",
     "text": [
      "<class 'pandas.core.frame.DataFrame'>\n",
      "RangeIndex: 18068 entries, 0 to 18067\n",
      "Data columns (total 4 columns):\n",
      " #   Column    Non-Null Count  Dtype  \n",
      "---  ------    --------------  -----  \n",
      " 0   user_id   18068 non-null  int64  \n",
      " 1   distance  18068 non-null  float64\n",
      " 2   duration  18068 non-null  float64\n",
      " 3   date      18068 non-null  object \n",
      "dtypes: float64(2), int64(1), object(1)\n",
      "memory usage: 564.8+ KB\n"
     ]
    },
    {
     "data": {
      "text/plain": [
       "None"
      ]
     },
     "metadata": {},
     "output_type": "display_data"
    },
    {
     "data": {
      "text/html": [
       "<div>\n",
       "<style scoped>\n",
       "    .dataframe tbody tr th:only-of-type {\n",
       "        vertical-align: middle;\n",
       "    }\n",
       "\n",
       "    .dataframe tbody tr th {\n",
       "        vertical-align: top;\n",
       "    }\n",
       "\n",
       "    .dataframe thead th {\n",
       "        text-align: right;\n",
       "    }\n",
       "</style>\n",
       "<table border=\"1\" class=\"dataframe\">\n",
       "  <thead>\n",
       "    <tr style=\"text-align: right;\">\n",
       "      <th></th>\n",
       "      <th>subscription_type</th>\n",
       "      <th>minute_price</th>\n",
       "      <th>start_ride_price</th>\n",
       "      <th>subscription_fee</th>\n",
       "    </tr>\n",
       "  </thead>\n",
       "  <tbody>\n",
       "    <tr>\n",
       "      <th>0</th>\n",
       "      <td>free</td>\n",
       "      <td>8</td>\n",
       "      <td>50</td>\n",
       "      <td>0</td>\n",
       "    </tr>\n",
       "    <tr>\n",
       "      <th>1</th>\n",
       "      <td>ultra</td>\n",
       "      <td>6</td>\n",
       "      <td>0</td>\n",
       "      <td>199</td>\n",
       "    </tr>\n",
       "  </tbody>\n",
       "</table>\n",
       "</div>"
      ],
      "text/plain": [
       "  subscription_type  minute_price  start_ride_price  subscription_fee\n",
       "0              free             8                50                 0\n",
       "1             ultra             6                 0               199"
      ]
     },
     "metadata": {},
     "output_type": "display_data"
    },
    {
     "data": {
      "text/plain": [
       "' '"
      ]
     },
     "metadata": {},
     "output_type": "display_data"
    },
    {
     "name": "stdout",
     "output_type": "stream",
     "text": [
      "<class 'pandas.core.frame.DataFrame'>\n",
      "RangeIndex: 2 entries, 0 to 1\n",
      "Data columns (total 4 columns):\n",
      " #   Column             Non-Null Count  Dtype \n",
      "---  ------             --------------  ----- \n",
      " 0   subscription_type  2 non-null      object\n",
      " 1   minute_price       2 non-null      int64 \n",
      " 2   start_ride_price   2 non-null      int64 \n",
      " 3   subscription_fee   2 non-null      int64 \n",
      "dtypes: int64(3), object(1)\n",
      "memory usage: 196.0+ bytes\n"
     ]
    },
    {
     "data": {
      "text/plain": [
       "None"
      ]
     },
     "metadata": {},
     "output_type": "display_data"
    }
   ],
   "source": [
    "displ (users)\n",
    "displ (rides)\n",
    "displ (subscriptions)"
   ]
  },
  {
   "cell_type": "markdown",
   "id": "f1e0fcc1",
   "metadata": {},
   "source": [
    "***В результате данного отображаения, необходимо сделать в следующем пункте*** \n",
    "\n",
    "Таблица users: \n",
    "\n",
    "- Проверить  на явные дубликаты\n",
    "- Проверить города на неявные дубликаты\n",
    "- Пустых значений нет \n",
    "\n",
    "Таблица rides:\n",
    "\n",
    "- Округлить дистанцию и длительность до 1-2 знаков после запятой (такая точность не нужна) \n",
    "- Привести дату к формату даты \n",
    "- Создайте новый столбец с номером месяца на основе столбца date.\n",
    "- Пропусков нет \n",
    "\n",
    "Таблица Subscriptions \n",
    "\n",
    "- It's okey"
   ]
  },
  {
   "cell_type": "markdown",
   "id": "e95ebca7",
   "metadata": {},
   "source": [
    "# Шаг 2. Предобработка данных"
   ]
  },
  {
   "cell_type": "markdown",
   "id": "269cceef",
   "metadata": {},
   "source": [
    "**Таблица users:** \n",
    "\n",
    "- Проверить  на явные дубликаты\n",
    "- Проверить города на неявные дубликаты\n",
    "- Пустых значений нет "
   ]
  },
  {
   "cell_type": "code",
   "execution_count": 5,
   "id": "4c48fa47",
   "metadata": {
    "scrolled": true
   },
   "outputs": [
    {
     "data": {
      "text/plain": [
       "31"
      ]
     },
     "execution_count": 5,
     "metadata": {},
     "output_type": "execute_result"
    }
   ],
   "source": [
    "users.duplicated().sum()"
   ]
  },
  {
   "cell_type": "markdown",
   "id": "9ac8ac09",
   "metadata": {},
   "source": [
    "Обнаруженно, что явных дубликатов 31! Избавимся от них"
   ]
  },
  {
   "cell_type": "code",
   "execution_count": 6,
   "id": "3814292c",
   "metadata": {},
   "outputs": [
    {
     "name": "stdout",
     "output_type": "stream",
     "text": [
      "<class 'pandas.core.frame.DataFrame'>\n",
      "Index: 1534 entries, 0 to 1533\n",
      "Data columns (total 5 columns):\n",
      " #   Column             Non-Null Count  Dtype \n",
      "---  ------             --------------  ----- \n",
      " 0   user_id            1534 non-null   int64 \n",
      " 1   name               1534 non-null   object\n",
      " 2   age                1534 non-null   int64 \n",
      " 3   city               1534 non-null   object\n",
      " 4   subscription_type  1534 non-null   object\n",
      "dtypes: int64(2), object(3)\n",
      "memory usage: 71.9+ KB\n"
     ]
    }
   ],
   "source": [
    "users = users.drop_duplicates()\n",
    "users.info()"
   ]
  },
  {
   "cell_type": "markdown",
   "id": "b1861b3f",
   "metadata": {},
   "source": [
    "Явные дубликаты из данной таблицы были удалены (которых явно не должно было быть), проверим на неявные дубликаты в городах, вдруг кто-то внес Москва, а кто-то москва. "
   ]
  },
  {
   "cell_type": "code",
   "execution_count": 7,
   "id": "91916604",
   "metadata": {
    "scrolled": true
   },
   "outputs": [
    {
     "data": {
      "text/plain": [
       "['Тюмень',\n",
       " 'Сочи',\n",
       " 'Ростов-на-Дону',\n",
       " 'Пятигорск',\n",
       " 'Омск',\n",
       " 'Москва',\n",
       " 'Краснодар',\n",
       " 'Екатеринбург']"
      ]
     },
     "execution_count": 7,
     "metadata": {},
     "output_type": "execute_result"
    }
   ],
   "source": [
    "list (users['city'].sort_values(ascending = False).unique())"
   ]
  },
  {
   "cell_type": "markdown",
   "id": "5593a293",
   "metadata": {},
   "source": [
    "**Таблица rides:**\n",
    "\n",
    "- Округлить дистанцию и длительность до 1-2 знаков после запятой (такая точность не нужна) \n",
    "- Привести дату к формату даты \n",
    "- Создайте новый столбец с номером месяца на основе столбца date.\n",
    "- Пропусков нет "
   ]
  },
  {
   "cell_type": "code",
   "execution_count": 8,
   "id": "eab492cb",
   "metadata": {},
   "outputs": [],
   "source": [
    "rides['distance'] = rides['distance'].round(1) #Округление до 1 знака после запятой, т.к. это все измеряется в метрах,\n",
    "# т.е. не так важна размерность в 10 сантиметрах\n",
    "# каждое значение из столбца duration округляется с помощью «потолка»: \n",
    "rides['duration'] = np.ceil(rides['duration']) \n",
    "\n",
    "rides ['date'] = pd.to_datetime(rides ['date'] , format = '%Y-%m-%d' )"
   ]
  },
  {
   "cell_type": "code",
   "execution_count": 9,
   "id": "3946696e",
   "metadata": {},
   "outputs": [
    {
     "data": {
      "text/plain": [
       "Timestamp('2021-01-01 00:00:00')"
      ]
     },
     "metadata": {},
     "output_type": "display_data"
    },
    {
     "data": {
      "text/plain": [
       "Timestamp('2021-12-30 00:00:00')"
      ]
     },
     "metadata": {},
     "output_type": "display_data"
    }
   ],
   "source": [
    "display (rides ['date'].min())\n",
    "display (rides ['date'].max())"
   ]
  },
  {
   "cell_type": "markdown",
   "id": "b0c8d2cd",
   "metadata": {},
   "source": [
    "**Проверенно** что данные лежат на годовом интервале => что не будет такой ситуации \"разные года то январь 2021 и январь 2022 будут под одной цифрой (1)\""
   ]
  },
  {
   "cell_type": "markdown",
   "id": "278c3f56",
   "metadata": {},
   "source": [
    "Были округлены значения и приведена дата в соответствие, далее: \n",
    "- Создайте новый столбец с номером месяца на основе столбца date."
   ]
  },
  {
   "cell_type": "code",
   "execution_count": 10,
   "id": "fec7b11f",
   "metadata": {
    "scrolled": true
   },
   "outputs": [],
   "source": [
    "rides ['month'] = rides ['date'].dt.month"
   ]
  },
  {
   "cell_type": "markdown",
   "id": "b96ea512",
   "metadata": {},
   "source": [
    "Проверим дубликаты: "
   ]
  },
  {
   "cell_type": "code",
   "execution_count": 11,
   "id": "a3ce9752",
   "metadata": {},
   "outputs": [
    {
     "data": {
      "text/plain": [
       "0"
      ]
     },
     "execution_count": 11,
     "metadata": {},
     "output_type": "execute_result"
    }
   ],
   "source": [
    "rides.duplicated().sum()"
   ]
  },
  {
   "cell_type": "code",
   "execution_count": 12,
   "id": "66e216a6",
   "metadata": {
    "scrolled": true
   },
   "outputs": [
    {
     "data": {
      "text/html": [
       "<div>\n",
       "<style scoped>\n",
       "    .dataframe tbody tr th:only-of-type {\n",
       "        vertical-align: middle;\n",
       "    }\n",
       "\n",
       "    .dataframe tbody tr th {\n",
       "        vertical-align: top;\n",
       "    }\n",
       "\n",
       "    .dataframe thead th {\n",
       "        text-align: right;\n",
       "    }\n",
       "</style>\n",
       "<table border=\"1\" class=\"dataframe\">\n",
       "  <thead>\n",
       "    <tr style=\"text-align: right;\">\n",
       "      <th></th>\n",
       "      <th>user_id</th>\n",
       "      <th>distance</th>\n",
       "      <th>duration</th>\n",
       "      <th>date</th>\n",
       "      <th>month</th>\n",
       "    </tr>\n",
       "  </thead>\n",
       "  <tbody>\n",
       "    <tr>\n",
       "      <th>0</th>\n",
       "      <td>1</td>\n",
       "      <td>4409.9</td>\n",
       "      <td>26.0</td>\n",
       "      <td>2021-01-01</td>\n",
       "      <td>1</td>\n",
       "    </tr>\n",
       "    <tr>\n",
       "      <th>1</th>\n",
       "      <td>1</td>\n",
       "      <td>2617.6</td>\n",
       "      <td>16.0</td>\n",
       "      <td>2021-01-18</td>\n",
       "      <td>1</td>\n",
       "    </tr>\n",
       "    <tr>\n",
       "      <th>2</th>\n",
       "      <td>1</td>\n",
       "      <td>754.2</td>\n",
       "      <td>7.0</td>\n",
       "      <td>2021-04-20</td>\n",
       "      <td>4</td>\n",
       "    </tr>\n",
       "    <tr>\n",
       "      <th>3</th>\n",
       "      <td>1</td>\n",
       "      <td>2694.8</td>\n",
       "      <td>19.0</td>\n",
       "      <td>2021-08-11</td>\n",
       "      <td>8</td>\n",
       "    </tr>\n",
       "    <tr>\n",
       "      <th>4</th>\n",
       "      <td>1</td>\n",
       "      <td>4028.7</td>\n",
       "      <td>27.0</td>\n",
       "      <td>2021-08-28</td>\n",
       "      <td>8</td>\n",
       "    </tr>\n",
       "  </tbody>\n",
       "</table>\n",
       "</div>"
      ],
      "text/plain": [
       "   user_id  distance  duration       date  month\n",
       "0        1    4409.9      26.0 2021-01-01      1\n",
       "1        1    2617.6      16.0 2021-01-18      1\n",
       "2        1     754.2       7.0 2021-04-20      4\n",
       "3        1    2694.8      19.0 2021-08-11      8\n",
       "4        1    4028.7      27.0 2021-08-28      8"
      ]
     },
     "metadata": {},
     "output_type": "display_data"
    },
    {
     "data": {
      "text/plain": [
       "' '"
      ]
     },
     "metadata": {},
     "output_type": "display_data"
    },
    {
     "name": "stdout",
     "output_type": "stream",
     "text": [
      "<class 'pandas.core.frame.DataFrame'>\n",
      "RangeIndex: 18068 entries, 0 to 18067\n",
      "Data columns (total 5 columns):\n",
      " #   Column    Non-Null Count  Dtype         \n",
      "---  ------    --------------  -----         \n",
      " 0   user_id   18068 non-null  int64         \n",
      " 1   distance  18068 non-null  float64       \n",
      " 2   duration  18068 non-null  float64       \n",
      " 3   date      18068 non-null  datetime64[ns]\n",
      " 4   month     18068 non-null  int32         \n",
      "dtypes: datetime64[ns](1), float64(2), int32(1), int64(1)\n",
      "memory usage: 635.3 KB\n"
     ]
    },
    {
     "data": {
      "text/plain": [
       "None"
      ]
     },
     "metadata": {},
     "output_type": "display_data"
    }
   ],
   "source": [
    "displ (rides)"
   ]
  },
  {
   "cell_type": "markdown",
   "id": "8374be46",
   "metadata": {},
   "source": [
    "В результате данного шага было: \n",
    "Таблица users: \n",
    "\n",
    "- Проверены  на явные дубликаты\n",
    "- Проверены города на неявные дубликаты\n",
    "\n",
    "Таблица rides:\n",
    "\n",
    "- Округлена  дистанция и длительность поезди до 1-2 знаков после запятой (такая точность не нужна) \n",
    "- Приведена дата к формату даты \n",
    "- Создан новый столбец с номером месяца на основе столбца date.\n",
    "- Проверены дубликаты"
   ]
  },
  {
   "cell_type": "markdown",
   "id": "212593c7",
   "metadata": {},
   "source": [
    "# Шаг 3. Исследовательский анализ данных"
   ]
  },
  {
   "cell_type": "markdown",
   "id": "9c484bd5",
   "metadata": {},
   "source": [
    "В рузультате 3 шага необходимо выполнить следующие действия.\n",
    "Опишите и визуализируйте общую информацию о пользователях и поездках:\n",
    "\n",
    "3.1 частота встречаемости городов;\n",
    "\n",
    "3.2 соотношение пользователей с подпиской и без подписки;\n",
    "\n",
    "3.3 возраст пользователей;\n",
    "\n",
    "3.4 расстояние, которое пользователь преодолел за одну поездку;\n",
    "\n",
    "3.5 продолжительность поездок.\n"
   ]
  },
  {
   "cell_type": "markdown",
   "id": "28d384ec",
   "metadata": {},
   "source": [
    "## Частота встречаемости городов"
   ]
  },
  {
   "cell_type": "code",
   "execution_count": 13,
   "id": "6d5933aa",
   "metadata": {},
   "outputs": [
    {
     "data": {
      "text/plain": [
       "<Axes: title={'center': 'Кол-во пользователей в городах'}, xlabel='city'>"
      ]
     },
     "execution_count": 13,
     "metadata": {},
     "output_type": "execute_result"
    },
    {
     "data": {
      "image/png": "[encoded data removed]",
      "text/plain": [
       "<Figure size 640x480 with 1 Axes>"
      ]
     },
     "metadata": {},
     "output_type": "display_data"
    }
   ],
   "source": [
    "((users\n",
    "    .groupby('city')['city'].count().sort_values())\n",
    "    .plot(title = 'Кол-во пользователей в городах' , kind = 'bar' ))"
   ]
  },
  {
   "cell_type": "markdown",
   "id": "a747cb30",
   "metadata": {},
   "source": [
    "Больше всего пользователей зарегестрированно в Пятигорске, меньше всего в Москве "
   ]
  },
  {
   "cell_type": "markdown",
   "id": "1bd20581",
   "metadata": {},
   "source": [
    "## соотношение пользователей с подпиской и без подписки;"
   ]
  },
  {
   "cell_type": "code",
   "execution_count": 14,
   "id": "7bb29871",
   "metadata": {},
   "outputs": [
    {
     "data": {
      "text/plain": [
       "subscription_type\n",
       "free     835\n",
       "ultra    699\n",
       "Name: subscription_type, dtype: int64"
      ]
     },
     "execution_count": 14,
     "metadata": {},
     "output_type": "execute_result"
    }
   ],
   "source": [
    "(users\n",
    "    .groupby('subscription_type')\n",
    "    ['subscription_type'].count())"
   ]
  },
  {
   "cell_type": "markdown",
   "id": "2a83984c",
   "metadata": {},
   "source": [
    "Количество пользователей с подпиской на 136 меньше. хочется провести анализ по городам:"
   ]
  },
  {
   "cell_type": "code",
   "execution_count": 15,
   "id": "340aa925",
   "metadata": {
    "scrolled": true
   },
   "outputs": [
    {
     "data": {
      "text/html": [
       "<div>\n",
       "<style scoped>\n",
       "    .dataframe tbody tr th:only-of-type {\n",
       "        vertical-align: middle;\n",
       "    }\n",
       "\n",
       "    .dataframe tbody tr th {\n",
       "        vertical-align: top;\n",
       "    }\n",
       "\n",
       "    .dataframe thead th {\n",
       "        text-align: right;\n",
       "    }\n",
       "</style>\n",
       "<table border=\"1\" class=\"dataframe\">\n",
       "  <thead>\n",
       "    <tr style=\"text-align: right;\">\n",
       "      <th>subscription_type</th>\n",
       "      <th>free</th>\n",
       "      <th>ultra</th>\n",
       "      <th>u/f</th>\n",
       "    </tr>\n",
       "    <tr>\n",
       "      <th>city</th>\n",
       "      <th></th>\n",
       "      <th></th>\n",
       "      <th></th>\n",
       "    </tr>\n",
       "  </thead>\n",
       "  <tbody>\n",
       "    <tr>\n",
       "      <th>Москва</th>\n",
       "      <td>84</td>\n",
       "      <td>84</td>\n",
       "      <td>50.00</td>\n",
       "    </tr>\n",
       "    <tr>\n",
       "      <th>Омск</th>\n",
       "      <td>92</td>\n",
       "      <td>91</td>\n",
       "      <td>49.73</td>\n",
       "    </tr>\n",
       "    <tr>\n",
       "      <th>Тюмень</th>\n",
       "      <td>98</td>\n",
       "      <td>82</td>\n",
       "      <td>45.56</td>\n",
       "    </tr>\n",
       "    <tr>\n",
       "      <th>Сочи</th>\n",
       "      <td>103</td>\n",
       "      <td>86</td>\n",
       "      <td>45.50</td>\n",
       "    </tr>\n",
       "    <tr>\n",
       "      <th>Екатеринбург</th>\n",
       "      <td>112</td>\n",
       "      <td>92</td>\n",
       "      <td>45.10</td>\n",
       "    </tr>\n",
       "    <tr>\n",
       "      <th>Ростов-на-Дону</th>\n",
       "      <td>109</td>\n",
       "      <td>89</td>\n",
       "      <td>44.95</td>\n",
       "    </tr>\n",
       "    <tr>\n",
       "      <th>Пятигорск</th>\n",
       "      <td>125</td>\n",
       "      <td>94</td>\n",
       "      <td>42.92</td>\n",
       "    </tr>\n",
       "    <tr>\n",
       "      <th>Краснодар</th>\n",
       "      <td>112</td>\n",
       "      <td>81</td>\n",
       "      <td>41.97</td>\n",
       "    </tr>\n",
       "  </tbody>\n",
       "</table>\n",
       "</div>"
      ],
      "text/plain": [
       "subscription_type  free  ultra    u/f\n",
       "city                                 \n",
       "Москва               84     84  50.00\n",
       "Омск                 92     91  49.73\n",
       "Тюмень               98     82  45.56\n",
       "Сочи                103     86  45.50\n",
       "Екатеринбург        112     92  45.10\n",
       "Ростов-на-Дону      109     89  44.95\n",
       "Пятигорск           125     94  42.92\n",
       "Краснодар           112     81  41.97"
      ]
     },
     "execution_count": 15,
     "metadata": {},
     "output_type": "execute_result"
    }
   ],
   "source": [
    "users_1 = (users\n",
    "    .pivot_table(index = 'city', columns = 'subscription_type', values = 'user_id', aggfunc = 'count'))\n",
    "users_1 ['u/f'] = (users_1['ultra'] / (users_1['ultra'] + users_1['free']) *100).round (2)\n",
    "users_1.sort_values(by = 'u/f' , ascending = False)"
   ]
  },
  {
   "cell_type": "markdown",
   "id": "794459bd",
   "metadata": {},
   "source": [
    "В Москве кол-во пользователей с подпиской в процентном соотношении больше всего, причина: возможно доход, а также дешевле ездить таким способом, необходимо оценить расстояния "
   ]
  },
  {
   "cell_type": "markdown",
   "id": "a173a7ea",
   "metadata": {},
   "source": [
    "*Посчитаем: соотношение категорий пользователей в процентах или в долях от целого*"
   ]
  },
  {
   "cell_type": "code",
   "execution_count": 16,
   "id": "d0a486cc",
   "metadata": {},
   "outputs": [
    {
     "data": {
      "text/plain": [
       "'Cоотношение категорий пользователей в процентах или в долях от целого:'"
      ]
     },
     "metadata": {},
     "output_type": "display_data"
    },
    {
     "data": {
      "text/plain": [
       "45.57"
      ]
     },
     "metadata": {},
     "output_type": "display_data"
    }
   ],
   "source": [
    "display ('Cоотношение категорий пользователей в процентах или в долях от целого:',\n",
    "        (users[users['subscription_type'] == 'ultra']['user_id'].count()\n",
    "        / users['user_id'].count() * 100).round (2))"
   ]
  },
  {
   "cell_type": "code",
   "execution_count": 17,
   "id": "6254f659",
   "metadata": {},
   "outputs": [
    {
     "data": {
      "text/plain": [
       "<Axes: title={'center': 'Распределение подписок'}, ylabel='subscription_type'>"
      ]
     },
     "execution_count": 17,
     "metadata": {},
     "output_type": "execute_result"
    },
    {
     "data": {
      "image/png": "[encoded data removed]",
      "text/plain": [
       "<Figure size 640x480 with 1 Axes>"
      ]
     },
     "metadata": {},
     "output_type": "display_data"
    }
   ],
   "source": [
    "(users\n",
    "    .groupby('subscription_type')\n",
    "    ['subscription_type'].count()\n",
    "    .plot (kind = 'pie', title = 'Распределение подписок', autopct='%1.1f%%'))"
   ]
  },
  {
   "cell_type": "markdown",
   "id": "326ff007",
   "metadata": {},
   "source": [
    "Пользователей с подпиской от общего объёма: **45,6%**"
   ]
  },
  {
   "cell_type": "markdown",
   "id": "90e2c2e5",
   "metadata": {},
   "source": [
    "##  возраст пользователей;"
   ]
  },
  {
   "cell_type": "code",
   "execution_count": 18,
   "id": "bd0fe75b",
   "metadata": {},
   "outputs": [
    {
     "data": {
      "text/plain": [
       "24.903520208604956"
      ]
     },
     "metadata": {},
     "output_type": "display_data"
    },
    {
     "data": {
      "text/plain": [
       "<Axes: title={'center': 'Распределение людей по возрасту'}, ylabel='Frequency'>"
      ]
     },
     "execution_count": 18,
     "metadata": {},
     "output_type": "execute_result"
    },
    {
     "data": {
      "image/png": "[encoded data removed]",
      "text/plain": [
       "<Figure size 640x480 with 1 Axes>"
      ]
     },
     "metadata": {},
     "output_type": "display_data"
    }
   ],
   "source": [
    "display (users['age'].mean())\n",
    "users['age'].plot (kind = 'hist', title = 'Распределение людей по возрасту', bins = 20)"
   ]
  },
  {
   "cell_type": "markdown",
   "id": "1ea91f4a",
   "metadata": {},
   "source": [
    "Основная возрастная группа от 20 до 28 лет. "
   ]
  },
  {
   "cell_type": "markdown",
   "id": "2f28b055",
   "metadata": {},
   "source": [
    "## расстояние, которое пользователь преодолел за одну поездку;"
   ]
  },
  {
   "cell_type": "code",
   "execution_count": 19,
   "id": "7e8cf214",
   "metadata": {},
   "outputs": [
    {
     "data": {
      "text/plain": [
       "count    18068.000000\n",
       "mean      3070.659841\n",
       "std       1116.831106\n",
       "min          0.900000\n",
       "25%       2543.200000\n",
       "50%       3133.600000\n",
       "75%       3776.225000\n",
       "max       7211.000000\n",
       "Name: distance, dtype: float64"
      ]
     },
     "metadata": {},
     "output_type": "display_data"
    },
    {
     "data": {
      "text/plain": [
       "<Axes: title={'center': 'Дистанция поездок'}, ylabel='Frequency'>"
      ]
     },
     "execution_count": 19,
     "metadata": {},
     "output_type": "execute_result"
    },
    {
     "data": {
      "image/png": "[encoded data removed]",
      "text/plain": [
       "<Figure size 640x480 with 1 Axes>"
      ]
     },
     "metadata": {},
     "output_type": "display_data"
    }
   ],
   "source": [
    "display (rides['distance'].describe())\n",
    "rides['distance'].plot (kind = 'hist', bins = 20, title = 'Дистанция поездок')"
   ]
  },
  {
   "cell_type": "markdown",
   "id": "c95d4c2e",
   "metadata": {},
   "source": [
    "Больше всего поезки совершаются около 3к метров. "
   ]
  },
  {
   "cell_type": "code",
   "execution_count": 20,
   "id": "61de3e14",
   "metadata": {},
   "outputs": [
    {
     "data": {
      "text/plain": [
       "<Axes: >"
      ]
     },
     "execution_count": 20,
     "metadata": {},
     "output_type": "execute_result"
    },
    {
     "data": {
      "image/png": "[encoded data removed]",
      "text/plain": [
       "<Figure size 640x480 with 1 Axes>"
      ]
     },
     "metadata": {},
     "output_type": "display_data"
    }
   ],
   "source": [
    "rides.boxplot('distance')"
   ]
  },
  {
   "cell_type": "markdown",
   "id": "fa55e7ba",
   "metadata": {},
   "source": [
    "**Вывод** \n",
    "\n",
    "При построении гистограммы видно что имеются 2 локальных пика, возможно это обоснованно тем что люди берут самокаты для быстрых поездок и длинных, необходимо проверить\n",
    "\n",
    "Проверенно было построением диаграммы размаха, которая определила, что значения <750 и >5500 метров, являются аномалиями. \n",
    "Сделаем проверку и в отдельности посмотрим на эти данные\n",
    "Минимальное значение = 0 \n",
    "Максимальное значение = 7211"
   ]
  },
  {
   "cell_type": "code",
   "execution_count": 21,
   "id": "96a99a75",
   "metadata": {},
   "outputs": [
    {
     "data": {
      "text/html": [
       "<div>\n",
       "<style scoped>\n",
       "    .dataframe tbody tr th:only-of-type {\n",
       "        vertical-align: middle;\n",
       "    }\n",
       "\n",
       "    .dataframe tbody tr th {\n",
       "        vertical-align: top;\n",
       "    }\n",
       "\n",
       "    .dataframe thead th {\n",
       "        text-align: right;\n",
       "    }\n",
       "</style>\n",
       "<table border=\"1\" class=\"dataframe\">\n",
       "  <thead>\n",
       "    <tr style=\"text-align: right;\">\n",
       "      <th></th>\n",
       "      <th>user_id</th>\n",
       "      <th>distance</th>\n",
       "      <th>duration</th>\n",
       "      <th>date</th>\n",
       "      <th>month</th>\n",
       "    </tr>\n",
       "  </thead>\n",
       "  <tbody>\n",
       "    <tr>\n",
       "      <th>11555</th>\n",
       "      <td>1069</td>\n",
       "      <td>0.9</td>\n",
       "      <td>11.0</td>\n",
       "      <td>2021-01-31</td>\n",
       "      <td>1</td>\n",
       "    </tr>\n",
       "    <tr>\n",
       "      <th>9541</th>\n",
       "      <td>925</td>\n",
       "      <td>2.6</td>\n",
       "      <td>4.0</td>\n",
       "      <td>2021-10-19</td>\n",
       "      <td>10</td>\n",
       "    </tr>\n",
       "    <tr>\n",
       "      <th>13690</th>\n",
       "      <td>1223</td>\n",
       "      <td>4.3</td>\n",
       "      <td>5.0</td>\n",
       "      <td>2021-05-22</td>\n",
       "      <td>5</td>\n",
       "    </tr>\n",
       "    <tr>\n",
       "      <th>8658</th>\n",
       "      <td>861</td>\n",
       "      <td>6.8</td>\n",
       "      <td>7.0</td>\n",
       "      <td>2021-07-21</td>\n",
       "      <td>7</td>\n",
       "    </tr>\n",
       "    <tr>\n",
       "      <th>7841</th>\n",
       "      <td>796</td>\n",
       "      <td>7.1</td>\n",
       "      <td>11.0</td>\n",
       "      <td>2021-11-26</td>\n",
       "      <td>11</td>\n",
       "    </tr>\n",
       "    <tr>\n",
       "      <th>...</th>\n",
       "      <td>...</td>\n",
       "      <td>...</td>\n",
       "      <td>...</td>\n",
       "      <td>...</td>\n",
       "      <td>...</td>\n",
       "    </tr>\n",
       "    <tr>\n",
       "      <th>9555</th>\n",
       "      <td>926</td>\n",
       "      <td>745.8</td>\n",
       "      <td>7.0</td>\n",
       "      <td>2021-08-15</td>\n",
       "      <td>8</td>\n",
       "    </tr>\n",
       "    <tr>\n",
       "      <th>5693</th>\n",
       "      <td>608</td>\n",
       "      <td>747.1</td>\n",
       "      <td>8.0</td>\n",
       "      <td>2021-11-13</td>\n",
       "      <td>11</td>\n",
       "    </tr>\n",
       "    <tr>\n",
       "      <th>15061</th>\n",
       "      <td>1320</td>\n",
       "      <td>748.2</td>\n",
       "      <td>11.0</td>\n",
       "      <td>2021-04-03</td>\n",
       "      <td>4</td>\n",
       "    </tr>\n",
       "    <tr>\n",
       "      <th>7239</th>\n",
       "      <td>751</td>\n",
       "      <td>748.3</td>\n",
       "      <td>13.0</td>\n",
       "      <td>2021-09-15</td>\n",
       "      <td>9</td>\n",
       "    </tr>\n",
       "    <tr>\n",
       "      <th>9</th>\n",
       "      <td>1</td>\n",
       "      <td>748.7</td>\n",
       "      <td>16.0</td>\n",
       "      <td>2021-11-22</td>\n",
       "      <td>11</td>\n",
       "    </tr>\n",
       "  </tbody>\n",
       "</table>\n",
       "<p>1006 rows × 5 columns</p>\n",
       "</div>"
      ],
      "text/plain": [
       "       user_id  distance  duration       date  month\n",
       "11555     1069       0.9      11.0 2021-01-31      1\n",
       "9541       925       2.6       4.0 2021-10-19     10\n",
       "13690     1223       4.3       5.0 2021-05-22      5\n",
       "8658       861       6.8       7.0 2021-07-21      7\n",
       "7841       796       7.1      11.0 2021-11-26     11\n",
       "...        ...       ...       ...        ...    ...\n",
       "9555       926     745.8       7.0 2021-08-15      8\n",
       "5693       608     747.1       8.0 2021-11-13     11\n",
       "15061     1320     748.2      11.0 2021-04-03      4\n",
       "7239       751     748.3      13.0 2021-09-15      9\n",
       "9            1     748.7      16.0 2021-11-22     11\n",
       "\n",
       "[1006 rows x 5 columns]"
      ]
     },
     "execution_count": 21,
     "metadata": {},
     "output_type": "execute_result"
    }
   ],
   "source": [
    "(rides[rides['distance'] < 750]\n",
    "    .sort_values (by = 'distance')\n",
    ")"
   ]
  },
  {
   "cell_type": "markdown",
   "id": "6adffbaf",
   "metadata": {},
   "source": [
    "Видно, что поездки длиной 750 имеют право на существование, а вот поездки от 0 до 100 метров, выглядят сомнительно. Посчитаем их кол-во: "
   ]
  },
  {
   "cell_type": "code",
   "execution_count": 22,
   "id": "8984ea5d",
   "metadata": {},
   "outputs": [
    {
     "data": {
      "text/plain": [
       "78"
      ]
     },
     "execution_count": 22,
     "metadata": {},
     "output_type": "execute_result"
    }
   ],
   "source": [
    "len (rides[rides['distance'] < 100])"
   ]
  },
  {
   "cell_type": "markdown",
   "id": "4ba29926",
   "metadata": {},
   "source": [
    "Избавимся от них и проверим"
   ]
  },
  {
   "cell_type": "code",
   "execution_count": 23,
   "id": "78e7bd81",
   "metadata": {
    "scrolled": true
   },
   "outputs": [
    {
     "name": "stdout",
     "output_type": "stream",
     "text": [
      "<class 'pandas.core.frame.DataFrame'>\n",
      "RangeIndex: 17990 entries, 0 to 17989\n",
      "Data columns (total 5 columns):\n",
      " #   Column    Non-Null Count  Dtype         \n",
      "---  ------    --------------  -----         \n",
      " 0   user_id   17990 non-null  int64         \n",
      " 1   distance  17990 non-null  float64       \n",
      " 2   duration  17990 non-null  float64       \n",
      " 3   date      17990 non-null  datetime64[ns]\n",
      " 4   month     17990 non-null  int32         \n",
      "dtypes: datetime64[ns](1), float64(2), int32(1), int64(1)\n",
      "memory usage: 632.6 KB\n"
     ]
    }
   ],
   "source": [
    "rides = rides.drop (rides[rides['distance'] < 100].index).reset_index(drop=True)\n",
    "rides.info()"
   ]
  },
  {
   "cell_type": "markdown",
   "id": "75c7b913",
   "metadata": {},
   "source": [
    "Проверим аномалии >5,5 км"
   ]
  },
  {
   "cell_type": "code",
   "execution_count": 24,
   "id": "c3ebb83c",
   "metadata": {
    "scrolled": true
   },
   "outputs": [
    {
     "data": {
      "text/html": [
       "<div>\n",
       "<style scoped>\n",
       "    .dataframe tbody tr th:only-of-type {\n",
       "        vertical-align: middle;\n",
       "    }\n",
       "\n",
       "    .dataframe tbody tr th {\n",
       "        vertical-align: top;\n",
       "    }\n",
       "\n",
       "    .dataframe thead th {\n",
       "        text-align: right;\n",
       "    }\n",
       "</style>\n",
       "<table border=\"1\" class=\"dataframe\">\n",
       "  <thead>\n",
       "    <tr style=\"text-align: right;\">\n",
       "      <th></th>\n",
       "      <th>user_id</th>\n",
       "      <th>distance</th>\n",
       "      <th>duration</th>\n",
       "      <th>date</th>\n",
       "      <th>month</th>\n",
       "    </tr>\n",
       "  </thead>\n",
       "  <tbody>\n",
       "    <tr>\n",
       "      <th>15876</th>\n",
       "      <td>1385</td>\n",
       "      <td>5502.5</td>\n",
       "      <td>24.0</td>\n",
       "      <td>2021-07-31</td>\n",
       "      <td>7</td>\n",
       "    </tr>\n",
       "    <tr>\n",
       "      <th>7568</th>\n",
       "      <td>777</td>\n",
       "      <td>5503.9</td>\n",
       "      <td>27.0</td>\n",
       "      <td>2021-07-18</td>\n",
       "      <td>7</td>\n",
       "    </tr>\n",
       "    <tr>\n",
       "      <th>9173</th>\n",
       "      <td>900</td>\n",
       "      <td>5504.6</td>\n",
       "      <td>28.0</td>\n",
       "      <td>2021-05-01</td>\n",
       "      <td>5</td>\n",
       "    </tr>\n",
       "    <tr>\n",
       "      <th>15752</th>\n",
       "      <td>1378</td>\n",
       "      <td>5505.4</td>\n",
       "      <td>1.0</td>\n",
       "      <td>2021-08-04</td>\n",
       "      <td>8</td>\n",
       "    </tr>\n",
       "    <tr>\n",
       "      <th>9086</th>\n",
       "      <td>894</td>\n",
       "      <td>5508.0</td>\n",
       "      <td>14.0</td>\n",
       "      <td>2021-11-30</td>\n",
       "      <td>11</td>\n",
       "    </tr>\n",
       "    <tr>\n",
       "      <th>...</th>\n",
       "      <td>...</td>\n",
       "      <td>...</td>\n",
       "      <td>...</td>\n",
       "      <td>...</td>\n",
       "      <td>...</td>\n",
       "    </tr>\n",
       "    <tr>\n",
       "      <th>17169</th>\n",
       "      <td>1477</td>\n",
       "      <td>6724.9</td>\n",
       "      <td>1.0</td>\n",
       "      <td>2021-01-12</td>\n",
       "      <td>1</td>\n",
       "    </tr>\n",
       "    <tr>\n",
       "      <th>17099</th>\n",
       "      <td>1471</td>\n",
       "      <td>6760.9</td>\n",
       "      <td>33.0</td>\n",
       "      <td>2021-08-03</td>\n",
       "      <td>8</td>\n",
       "    </tr>\n",
       "    <tr>\n",
       "      <th>15517</th>\n",
       "      <td>1361</td>\n",
       "      <td>6908.5</td>\n",
       "      <td>24.0</td>\n",
       "      <td>2021-03-27</td>\n",
       "      <td>3</td>\n",
       "    </tr>\n",
       "    <tr>\n",
       "      <th>16413</th>\n",
       "      <td>1422</td>\n",
       "      <td>7066.0</td>\n",
       "      <td>24.0</td>\n",
       "      <td>2021-02-12</td>\n",
       "      <td>2</td>\n",
       "    </tr>\n",
       "    <tr>\n",
       "      <th>16240</th>\n",
       "      <td>1411</td>\n",
       "      <td>7211.0</td>\n",
       "      <td>1.0</td>\n",
       "      <td>2021-04-15</td>\n",
       "      <td>4</td>\n",
       "    </tr>\n",
       "  </tbody>\n",
       "</table>\n",
       "<p>170 rows × 5 columns</p>\n",
       "</div>"
      ],
      "text/plain": [
       "       user_id  distance  duration       date  month\n",
       "15876     1385    5502.5      24.0 2021-07-31      7\n",
       "7568       777    5503.9      27.0 2021-07-18      7\n",
       "9173       900    5504.6      28.0 2021-05-01      5\n",
       "15752     1378    5505.4       1.0 2021-08-04      8\n",
       "9086       894    5508.0      14.0 2021-11-30     11\n",
       "...        ...       ...       ...        ...    ...\n",
       "17169     1477    6724.9       1.0 2021-01-12      1\n",
       "17099     1471    6760.9      33.0 2021-08-03      8\n",
       "15517     1361    6908.5      24.0 2021-03-27      3\n",
       "16413     1422    7066.0      24.0 2021-02-12      2\n",
       "16240     1411    7211.0       1.0 2021-04-15      4\n",
       "\n",
       "[170 rows x 5 columns]"
      ]
     },
     "execution_count": 24,
     "metadata": {},
     "output_type": "execute_result"
    }
   ],
   "source": [
    "(rides[rides['distance'] > 5500]\n",
    "    .sort_values (by = 'distance')\n",
    ")"
   ]
  },
  {
   "cell_type": "markdown",
   "id": "7560b361",
   "metadata": {},
   "source": [
    "Данные значения тоже имеют право на существание, но необходимо чтобы была некоторая зависимость с длительностью поездки, т.к. невозможно преодолеть расстояние в 6 км на самокате за 1 мин.\n",
    "\n",
    "Примем что максимальная скорость самоката 30 км"
   ]
  },
  {
   "cell_type": "code",
   "execution_count": 25,
   "id": "e1fdc491",
   "metadata": {
    "scrolled": true
   },
   "outputs": [
    {
     "data": {
      "text/plain": [
       "95"
      ]
     },
     "execution_count": 25,
     "metadata": {},
     "output_type": "execute_result"
    }
   ],
   "source": [
    "len (rides[rides['distance'] / 30000 *60 > rides['duration']])"
   ]
  },
  {
   "cell_type": "markdown",
   "id": "e517c60d",
   "metadata": {},
   "source": [
    "Посчитано что если 95 значений в таблице являются аномильными значениями, избавимся от них."
   ]
  },
  {
   "cell_type": "code",
   "execution_count": 26,
   "id": "05eb35ed",
   "metadata": {},
   "outputs": [
    {
     "name": "stdout",
     "output_type": "stream",
     "text": [
      "<class 'pandas.core.frame.DataFrame'>\n",
      "RangeIndex: 17895 entries, 0 to 17894\n",
      "Data columns (total 5 columns):\n",
      " #   Column    Non-Null Count  Dtype         \n",
      "---  ------    --------------  -----         \n",
      " 0   user_id   17895 non-null  int64         \n",
      " 1   distance  17895 non-null  float64       \n",
      " 2   duration  17895 non-null  float64       \n",
      " 3   date      17895 non-null  datetime64[ns]\n",
      " 4   month     17895 non-null  int32         \n",
      "dtypes: datetime64[ns](1), float64(2), int32(1), int64(1)\n",
      "memory usage: 629.2 KB\n"
     ]
    }
   ],
   "source": [
    "rides = rides.drop (rides[rides['distance'] / 30000 *60 > rides['duration']].index).reset_index(drop=True)\n",
    "rides.info()"
   ]
  },
  {
   "cell_type": "markdown",
   "id": "77d1b412",
   "metadata": {},
   "source": [
    "**Вывод** \n",
    "\n",
    "Избавились от аномалий в выборке. Остальные значения принимаются как корректные и возможные. "
   ]
  },
  {
   "cell_type": "markdown",
   "id": "cdb5cf00",
   "metadata": {},
   "source": [
    "## продолжительность поездок."
   ]
  },
  {
   "cell_type": "code",
   "execution_count": 27,
   "id": "370c392d",
   "metadata": {},
   "outputs": [
    {
     "data": {
      "text/plain": [
       "count    17895.000000\n",
       "mean        18.438502\n",
       "std          5.951069\n",
       "min          3.000000\n",
       "25%         14.000000\n",
       "50%         18.000000\n",
       "75%         22.000000\n",
       "max         41.000000\n",
       "Name: duration, dtype: float64"
      ]
     },
     "metadata": {},
     "output_type": "display_data"
    },
    {
     "data": {
      "text/plain": [
       "<Axes: title={'center': 'Длительность поездок'}, ylabel='Frequency'>"
      ]
     },
     "execution_count": 27,
     "metadata": {},
     "output_type": "execute_result"
    },
    {
     "data": {
      "image/png": "[encoded data removed]",
      "text/plain": [
       "<Figure size 640x480 with 1 Axes>"
      ]
     },
     "metadata": {},
     "output_type": "display_data"
    }
   ],
   "source": [
    "display (rides['duration'].describe())\n",
    "rides['duration']. plot (kind = 'hist', bins = 20, title = 'Длительность поездок')"
   ]
  },
  {
   "cell_type": "markdown",
   "id": "5a21f8c5",
   "metadata": {},
   "source": [
    "Основная длительность поездок от 10 до 25 минут"
   ]
  },
  {
   "cell_type": "code",
   "execution_count": 28,
   "id": "bbedbdf1",
   "metadata": {
    "scrolled": true
   },
   "outputs": [
    {
     "data": {
      "text/plain": [
       "<Axes: >"
      ]
     },
     "execution_count": 28,
     "metadata": {},
     "output_type": "execute_result"
    },
    {
     "data": {
      "image/png": "[encoded data removed]",
      "text/plain": [
       "<Figure size 640x480 with 1 Axes>"
      ]
     },
     "metadata": {},
     "output_type": "display_data"
    }
   ],
   "source": [
    "rides.boxplot('duration')"
   ]
  },
  {
   "cell_type": "markdown",
   "id": "c61358d6",
   "metadata": {},
   "source": [
    "Оценим данные аномалии: \n",
    "\n",
    "Где длительность >= 35 минут"
   ]
  },
  {
   "cell_type": "code",
   "execution_count": 29,
   "id": "5cc0d10c",
   "metadata": {
    "scrolled": true
   },
   "outputs": [
    {
     "data": {
      "text/html": [
       "<div>\n",
       "<style scoped>\n",
       "    .dataframe tbody tr th:only-of-type {\n",
       "        vertical-align: middle;\n",
       "    }\n",
       "\n",
       "    .dataframe tbody tr th {\n",
       "        vertical-align: top;\n",
       "    }\n",
       "\n",
       "    .dataframe thead th {\n",
       "        text-align: right;\n",
       "    }\n",
       "</style>\n",
       "<table border=\"1\" class=\"dataframe\">\n",
       "  <thead>\n",
       "    <tr style=\"text-align: right;\">\n",
       "      <th></th>\n",
       "      <th>user_id</th>\n",
       "      <th>distance</th>\n",
       "      <th>duration</th>\n",
       "      <th>date</th>\n",
       "      <th>month</th>\n",
       "    </tr>\n",
       "  </thead>\n",
       "  <tbody>\n",
       "    <tr>\n",
       "      <th>42</th>\n",
       "      <td>4</td>\n",
       "      <td>4649.5</td>\n",
       "      <td>36.0</td>\n",
       "      <td>2021-08-14</td>\n",
       "      <td>8</td>\n",
       "    </tr>\n",
       "    <tr>\n",
       "      <th>143</th>\n",
       "      <td>15</td>\n",
       "      <td>4187.6</td>\n",
       "      <td>39.0</td>\n",
       "      <td>2021-01-13</td>\n",
       "      <td>1</td>\n",
       "    </tr>\n",
       "    <tr>\n",
       "      <th>499</th>\n",
       "      <td>55</td>\n",
       "      <td>4151.1</td>\n",
       "      <td>37.0</td>\n",
       "      <td>2021-06-30</td>\n",
       "      <td>6</td>\n",
       "    </tr>\n",
       "    <tr>\n",
       "      <th>524</th>\n",
       "      <td>58</td>\n",
       "      <td>4763.9</td>\n",
       "      <td>36.0</td>\n",
       "      <td>2021-02-17</td>\n",
       "      <td>2</td>\n",
       "    </tr>\n",
       "    <tr>\n",
       "      <th>854</th>\n",
       "      <td>91</td>\n",
       "      <td>4444.6</td>\n",
       "      <td>36.0</td>\n",
       "      <td>2021-11-05</td>\n",
       "      <td>11</td>\n",
       "    </tr>\n",
       "    <tr>\n",
       "      <th>...</th>\n",
       "      <td>...</td>\n",
       "      <td>...</td>\n",
       "      <td>...</td>\n",
       "      <td>...</td>\n",
       "      <td>...</td>\n",
       "    </tr>\n",
       "    <tr>\n",
       "      <th>16956</th>\n",
       "      <td>1468</td>\n",
       "      <td>4744.9</td>\n",
       "      <td>35.0</td>\n",
       "      <td>2021-06-13</td>\n",
       "      <td>6</td>\n",
       "    </tr>\n",
       "    <tr>\n",
       "      <th>17071</th>\n",
       "      <td>1476</td>\n",
       "      <td>4217.9</td>\n",
       "      <td>35.0</td>\n",
       "      <td>2021-04-13</td>\n",
       "      <td>4</td>\n",
       "    </tr>\n",
       "    <tr>\n",
       "      <th>17187</th>\n",
       "      <td>1485</td>\n",
       "      <td>3807.4</td>\n",
       "      <td>35.0</td>\n",
       "      <td>2021-12-09</td>\n",
       "      <td>12</td>\n",
       "    </tr>\n",
       "    <tr>\n",
       "      <th>17514</th>\n",
       "      <td>1509</td>\n",
       "      <td>3728.9</td>\n",
       "      <td>35.0</td>\n",
       "      <td>2021-01-22</td>\n",
       "      <td>1</td>\n",
       "    </tr>\n",
       "    <tr>\n",
       "      <th>17762</th>\n",
       "      <td>1526</td>\n",
       "      <td>4488.9</td>\n",
       "      <td>35.0</td>\n",
       "      <td>2021-06-05</td>\n",
       "      <td>6</td>\n",
       "    </tr>\n",
       "  </tbody>\n",
       "</table>\n",
       "<p>75 rows × 5 columns</p>\n",
       "</div>"
      ],
      "text/plain": [
       "       user_id  distance  duration       date  month\n",
       "42           4    4649.5      36.0 2021-08-14      8\n",
       "143         15    4187.6      39.0 2021-01-13      1\n",
       "499         55    4151.1      37.0 2021-06-30      6\n",
       "524         58    4763.9      36.0 2021-02-17      2\n",
       "854         91    4444.6      36.0 2021-11-05     11\n",
       "...        ...       ...       ...        ...    ...\n",
       "16956     1468    4744.9      35.0 2021-06-13      6\n",
       "17071     1476    4217.9      35.0 2021-04-13      4\n",
       "17187     1485    3807.4      35.0 2021-12-09     12\n",
       "17514     1509    3728.9      35.0 2021-01-22      1\n",
       "17762     1526    4488.9      35.0 2021-06-05      6\n",
       "\n",
       "[75 rows x 5 columns]"
      ]
     },
     "execution_count": 29,
     "metadata": {},
     "output_type": "execute_result"
    }
   ],
   "source": [
    "rides[rides['duration'] >= 35]"
   ]
  },
  {
   "cell_type": "markdown",
   "id": "99ddfc77",
   "metadata": {},
   "source": [
    "Т.к. в предыдущем пункте были удалены аномалии с некорректной дистанцией и временем, считаем что данные аномали не являются аномалиями. "
   ]
  },
  {
   "cell_type": "markdown",
   "id": "c80d154f",
   "metadata": {},
   "source": [
    "**В результате анализа было проведено следующее:**\n",
    "\n",
    "Описана и визуализированна общая информация о пользователях и поездках:\n",
    "\n",
    "3.1 частота встречаемости городов;\n",
    "\n",
    "3.2 соотношение пользователей с подпиской и без подписки;\n",
    "\n",
    "3.3 возраст пользователей;\n",
    "\n",
    "3.4 расстояние, которое пользователь преодолел за одну поездку;\n",
    "\n",
    "3.5 продолжительность поездок."
   ]
  },
  {
   "cell_type": "markdown",
   "id": "4ef51331",
   "metadata": {},
   "source": [
    "# Шаг 4. Объединение данных"
   ]
  },
  {
   "cell_type": "markdown",
   "id": "57302005",
   "metadata": {},
   "source": [
    "Объедините данные о пользователях, поездках и подписках в один датафрейм. Для этого воспользуйтесь методом merge()."
   ]
  },
  {
   "cell_type": "code",
   "execution_count": 30,
   "id": "48c87e5a",
   "metadata": {},
   "outputs": [
    {
     "name": "stdout",
     "output_type": "stream",
     "text": [
      "<class 'pandas.core.frame.DataFrame'>\n",
      "Index: 1534 entries, 0 to 1533\n",
      "Data columns (total 5 columns):\n",
      " #   Column             Non-Null Count  Dtype \n",
      "---  ------             --------------  ----- \n",
      " 0   user_id            1534 non-null   int64 \n",
      " 1   name               1534 non-null   object\n",
      " 2   age                1534 non-null   int64 \n",
      " 3   city               1534 non-null   object\n",
      " 4   subscription_type  1534 non-null   object\n",
      "dtypes: int64(2), object(3)\n",
      "memory usage: 71.9+ KB\n"
     ]
    },
    {
     "data": {
      "text/plain": [
       "None"
      ]
     },
     "metadata": {},
     "output_type": "display_data"
    },
    {
     "name": "stdout",
     "output_type": "stream",
     "text": [
      "<class 'pandas.core.frame.DataFrame'>\n",
      "RangeIndex: 17895 entries, 0 to 17894\n",
      "Data columns (total 5 columns):\n",
      " #   Column    Non-Null Count  Dtype         \n",
      "---  ------    --------------  -----         \n",
      " 0   user_id   17895 non-null  int64         \n",
      " 1   distance  17895 non-null  float64       \n",
      " 2   duration  17895 non-null  float64       \n",
      " 3   date      17895 non-null  datetime64[ns]\n",
      " 4   month     17895 non-null  int32         \n",
      "dtypes: datetime64[ns](1), float64(2), int32(1), int64(1)\n",
      "memory usage: 629.2 KB\n"
     ]
    },
    {
     "data": {
      "text/plain": [
       "None"
      ]
     },
     "metadata": {},
     "output_type": "display_data"
    },
    {
     "name": "stdout",
     "output_type": "stream",
     "text": [
      "<class 'pandas.core.frame.DataFrame'>\n",
      "RangeIndex: 2 entries, 0 to 1\n",
      "Data columns (total 4 columns):\n",
      " #   Column             Non-Null Count  Dtype \n",
      "---  ------             --------------  ----- \n",
      " 0   subscription_type  2 non-null      object\n",
      " 1   minute_price       2 non-null      int64 \n",
      " 2   start_ride_price   2 non-null      int64 \n",
      " 3   subscription_fee   2 non-null      int64 \n",
      "dtypes: int64(3), object(1)\n",
      "memory usage: 196.0+ bytes\n"
     ]
    },
    {
     "data": {
      "text/plain": [
       "None"
      ]
     },
     "metadata": {},
     "output_type": "display_data"
    }
   ],
   "source": [
    "display (users.info())\n",
    "display (rides.info())\n",
    "display (subscriptions.info())"
   ]
  },
  {
   "cell_type": "markdown",
   "id": "119ab547",
   "metadata": {},
   "source": [
    "Размеры датасета до объединения: \n",
    "1534, 17895, 2\n",
    "т.к. у нас должна каждая поездка быть уникальной, то итоговый датасет должен = **17895**"
   ]
  },
  {
   "cell_type": "code",
   "execution_count": 31,
   "id": "578f3495",
   "metadata": {},
   "outputs": [
    {
     "name": "stdout",
     "output_type": "stream",
     "text": [
      "<class 'pandas.core.frame.DataFrame'>\n",
      "RangeIndex: 17895 entries, 0 to 17894\n",
      "Data columns (total 13 columns):\n",
      " #   Column             Non-Null Count  Dtype         \n",
      "---  ------             --------------  -----         \n",
      " 0   user_id            17895 non-null  int64         \n",
      " 1   name               17895 non-null  object        \n",
      " 2   age                17895 non-null  int64         \n",
      " 3   city               17895 non-null  object        \n",
      " 4   subscription_type  17895 non-null  object        \n",
      " 5   distance           17895 non-null  float64       \n",
      " 6   duration           17895 non-null  float64       \n",
      " 7   date               17895 non-null  datetime64[ns]\n",
      " 8   month              17895 non-null  int32         \n",
      " 9   minute_price       17895 non-null  int64         \n",
      " 10  start_ride_price   17895 non-null  int64         \n",
      " 11  subscription_fee   17895 non-null  int64         \n",
      " 12  n_records          17895 non-null  int64         \n",
      "dtypes: datetime64[ns](1), float64(2), int32(1), int64(6), object(3)\n",
      "memory usage: 1.7+ MB\n"
     ]
    }
   ],
   "source": [
    "dataframe = users.merge (rides, on = 'user_id')\n",
    "dataframe = dataframe.merge (subscriptions, on = 'subscription_type')\n",
    "dataframe[\"n_records\"] = 1 #введем дополнительный столбец для подсчета кол-ва поездок, пункт 5\n",
    "dataframe.info()"
   ]
  },
  {
   "cell_type": "markdown",
   "id": "d557f54a",
   "metadata": {},
   "source": [
    "Сделана 1 общая таблица, размером **17895**"
   ]
  },
  {
   "cell_type": "markdown",
   "id": "8767d7a8",
   "metadata": {},
   "source": [
    "Создайте ещё два датафрейма из датафрейма, созданного на этапе ранее: \n",
    "- c данными о пользователях без подписки;\n",
    "- с данными о пользователях с подпиской."
   ]
  },
  {
   "cell_type": "code",
   "execution_count": 32,
   "id": "39440e20",
   "metadata": {
    "scrolled": true
   },
   "outputs": [
    {
     "data": {
      "text/html": [
       "<div>\n",
       "<style scoped>\n",
       "    .dataframe tbody tr th:only-of-type {\n",
       "        vertical-align: middle;\n",
       "    }\n",
       "\n",
       "    .dataframe tbody tr th {\n",
       "        vertical-align: top;\n",
       "    }\n",
       "\n",
       "    .dataframe thead th {\n",
       "        text-align: right;\n",
       "    }\n",
       "</style>\n",
       "<table border=\"1\" class=\"dataframe\">\n",
       "  <thead>\n",
       "    <tr style=\"text-align: right;\">\n",
       "      <th></th>\n",
       "      <th>user_id</th>\n",
       "      <th>name</th>\n",
       "      <th>age</th>\n",
       "      <th>city</th>\n",
       "      <th>subscription_type</th>\n",
       "      <th>distance</th>\n",
       "      <th>duration</th>\n",
       "      <th>date</th>\n",
       "      <th>month</th>\n",
       "      <th>minute_price</th>\n",
       "      <th>start_ride_price</th>\n",
       "      <th>subscription_fee</th>\n",
       "      <th>n_records</th>\n",
       "    </tr>\n",
       "  </thead>\n",
       "  <tbody>\n",
       "    <tr>\n",
       "      <th>0</th>\n",
       "      <td>1</td>\n",
       "      <td>Кира</td>\n",
       "      <td>22</td>\n",
       "      <td>Тюмень</td>\n",
       "      <td>ultra</td>\n",
       "      <td>4409.9</td>\n",
       "      <td>26.0</td>\n",
       "      <td>2021-01-01</td>\n",
       "      <td>1</td>\n",
       "      <td>6</td>\n",
       "      <td>0</td>\n",
       "      <td>199</td>\n",
       "      <td>1</td>\n",
       "    </tr>\n",
       "    <tr>\n",
       "      <th>1</th>\n",
       "      <td>1</td>\n",
       "      <td>Кира</td>\n",
       "      <td>22</td>\n",
       "      <td>Тюмень</td>\n",
       "      <td>ultra</td>\n",
       "      <td>2617.6</td>\n",
       "      <td>16.0</td>\n",
       "      <td>2021-01-18</td>\n",
       "      <td>1</td>\n",
       "      <td>6</td>\n",
       "      <td>0</td>\n",
       "      <td>199</td>\n",
       "      <td>1</td>\n",
       "    </tr>\n",
       "    <tr>\n",
       "      <th>2</th>\n",
       "      <td>1</td>\n",
       "      <td>Кира</td>\n",
       "      <td>22</td>\n",
       "      <td>Тюмень</td>\n",
       "      <td>ultra</td>\n",
       "      <td>754.2</td>\n",
       "      <td>7.0</td>\n",
       "      <td>2021-04-20</td>\n",
       "      <td>4</td>\n",
       "      <td>6</td>\n",
       "      <td>0</td>\n",
       "      <td>199</td>\n",
       "      <td>1</td>\n",
       "    </tr>\n",
       "    <tr>\n",
       "      <th>3</th>\n",
       "      <td>1</td>\n",
       "      <td>Кира</td>\n",
       "      <td>22</td>\n",
       "      <td>Тюмень</td>\n",
       "      <td>ultra</td>\n",
       "      <td>2694.8</td>\n",
       "      <td>19.0</td>\n",
       "      <td>2021-08-11</td>\n",
       "      <td>8</td>\n",
       "      <td>6</td>\n",
       "      <td>0</td>\n",
       "      <td>199</td>\n",
       "      <td>1</td>\n",
       "    </tr>\n",
       "    <tr>\n",
       "      <th>4</th>\n",
       "      <td>1</td>\n",
       "      <td>Кира</td>\n",
       "      <td>22</td>\n",
       "      <td>Тюмень</td>\n",
       "      <td>ultra</td>\n",
       "      <td>4028.7</td>\n",
       "      <td>27.0</td>\n",
       "      <td>2021-08-28</td>\n",
       "      <td>8</td>\n",
       "      <td>6</td>\n",
       "      <td>0</td>\n",
       "      <td>199</td>\n",
       "      <td>1</td>\n",
       "    </tr>\n",
       "  </tbody>\n",
       "</table>\n",
       "</div>"
      ],
      "text/plain": [
       "   user_id  name  age    city subscription_type  distance  duration  \\\n",
       "0        1  Кира   22  Тюмень             ultra    4409.9      26.0   \n",
       "1        1  Кира   22  Тюмень             ultra    2617.6      16.0   \n",
       "2        1  Кира   22  Тюмень             ultra     754.2       7.0   \n",
       "3        1  Кира   22  Тюмень             ultra    2694.8      19.0   \n",
       "4        1  Кира   22  Тюмень             ultra    4028.7      27.0   \n",
       "\n",
       "        date  month  minute_price  start_ride_price  subscription_fee  \\\n",
       "0 2021-01-01      1             6                 0               199   \n",
       "1 2021-01-18      1             6                 0               199   \n",
       "2 2021-04-20      4             6                 0               199   \n",
       "3 2021-08-11      8             6                 0               199   \n",
       "4 2021-08-28      8             6                 0               199   \n",
       "\n",
       "   n_records  \n",
       "0          1  \n",
       "1          1  \n",
       "2          1  \n",
       "3          1  \n",
       "4          1  "
      ]
     },
     "execution_count": 32,
     "metadata": {},
     "output_type": "execute_result"
    }
   ],
   "source": [
    "dataframe_ultra = dataframe[ dataframe['subscription_type'] == 'ultra'].reset_index(drop=True)\n",
    "dataframe_ultra.head()"
   ]
  },
  {
   "cell_type": "code",
   "execution_count": 33,
   "id": "b24b962c",
   "metadata": {
    "scrolled": true
   },
   "outputs": [
    {
     "data": {
      "text/html": [
       "<div>\n",
       "<style scoped>\n",
       "    .dataframe tbody tr th:only-of-type {\n",
       "        vertical-align: middle;\n",
       "    }\n",
       "\n",
       "    .dataframe tbody tr th {\n",
       "        vertical-align: top;\n",
       "    }\n",
       "\n",
       "    .dataframe thead th {\n",
       "        text-align: right;\n",
       "    }\n",
       "</style>\n",
       "<table border=\"1\" class=\"dataframe\">\n",
       "  <thead>\n",
       "    <tr style=\"text-align: right;\">\n",
       "      <th></th>\n",
       "      <th>user_id</th>\n",
       "      <th>name</th>\n",
       "      <th>age</th>\n",
       "      <th>city</th>\n",
       "      <th>subscription_type</th>\n",
       "      <th>distance</th>\n",
       "      <th>duration</th>\n",
       "      <th>date</th>\n",
       "      <th>month</th>\n",
       "      <th>minute_price</th>\n",
       "      <th>start_ride_price</th>\n",
       "      <th>subscription_fee</th>\n",
       "      <th>n_records</th>\n",
       "    </tr>\n",
       "  </thead>\n",
       "  <tbody>\n",
       "    <tr>\n",
       "      <th>0</th>\n",
       "      <td>700</td>\n",
       "      <td>Айдар</td>\n",
       "      <td>22</td>\n",
       "      <td>Омск</td>\n",
       "      <td>free</td>\n",
       "      <td>2515.7</td>\n",
       "      <td>15.0</td>\n",
       "      <td>2021-01-02</td>\n",
       "      <td>1</td>\n",
       "      <td>8</td>\n",
       "      <td>50</td>\n",
       "      <td>0</td>\n",
       "      <td>1</td>\n",
       "    </tr>\n",
       "    <tr>\n",
       "      <th>1</th>\n",
       "      <td>700</td>\n",
       "      <td>Айдар</td>\n",
       "      <td>22</td>\n",
       "      <td>Омск</td>\n",
       "      <td>free</td>\n",
       "      <td>846.9</td>\n",
       "      <td>17.0</td>\n",
       "      <td>2021-02-01</td>\n",
       "      <td>2</td>\n",
       "      <td>8</td>\n",
       "      <td>50</td>\n",
       "      <td>0</td>\n",
       "      <td>1</td>\n",
       "    </tr>\n",
       "    <tr>\n",
       "      <th>2</th>\n",
       "      <td>700</td>\n",
       "      <td>Айдар</td>\n",
       "      <td>22</td>\n",
       "      <td>Омск</td>\n",
       "      <td>free</td>\n",
       "      <td>4004.4</td>\n",
       "      <td>21.0</td>\n",
       "      <td>2021-02-04</td>\n",
       "      <td>2</td>\n",
       "      <td>8</td>\n",
       "      <td>50</td>\n",
       "      <td>0</td>\n",
       "      <td>1</td>\n",
       "    </tr>\n",
       "    <tr>\n",
       "      <th>3</th>\n",
       "      <td>700</td>\n",
       "      <td>Айдар</td>\n",
       "      <td>22</td>\n",
       "      <td>Омск</td>\n",
       "      <td>free</td>\n",
       "      <td>1205.9</td>\n",
       "      <td>10.0</td>\n",
       "      <td>2021-02-10</td>\n",
       "      <td>2</td>\n",
       "      <td>8</td>\n",
       "      <td>50</td>\n",
       "      <td>0</td>\n",
       "      <td>1</td>\n",
       "    </tr>\n",
       "    <tr>\n",
       "      <th>4</th>\n",
       "      <td>700</td>\n",
       "      <td>Айдар</td>\n",
       "      <td>22</td>\n",
       "      <td>Омск</td>\n",
       "      <td>free</td>\n",
       "      <td>3047.4</td>\n",
       "      <td>18.0</td>\n",
       "      <td>2021-02-14</td>\n",
       "      <td>2</td>\n",
       "      <td>8</td>\n",
       "      <td>50</td>\n",
       "      <td>0</td>\n",
       "      <td>1</td>\n",
       "    </tr>\n",
       "  </tbody>\n",
       "</table>\n",
       "</div>"
      ],
      "text/plain": [
       "   user_id   name  age  city subscription_type  distance  duration       date  \\\n",
       "0      700  Айдар   22  Омск              free    2515.7      15.0 2021-01-02   \n",
       "1      700  Айдар   22  Омск              free     846.9      17.0 2021-02-01   \n",
       "2      700  Айдар   22  Омск              free    4004.4      21.0 2021-02-04   \n",
       "3      700  Айдар   22  Омск              free    1205.9      10.0 2021-02-10   \n",
       "4      700  Айдар   22  Омск              free    3047.4      18.0 2021-02-14   \n",
       "\n",
       "   month  minute_price  start_ride_price  subscription_fee  n_records  \n",
       "0      1             8                50                 0          1  \n",
       "1      2             8                50                 0          1  \n",
       "2      2             8                50                 0          1  \n",
       "3      2             8                50                 0          1  \n",
       "4      2             8                50                 0          1  "
      ]
     },
     "execution_count": 33,
     "metadata": {},
     "output_type": "execute_result"
    }
   ],
   "source": [
    "dataframe_free = dataframe[ dataframe['subscription_type'] == 'free'].reset_index(drop=True)\n",
    "dataframe_free.head()"
   ]
  },
  {
   "cell_type": "markdown",
   "id": "c93f061c",
   "metadata": {},
   "source": [
    "Визуализируйте информацию о расстоянии и времени поездок для пользователей обеих категорий."
   ]
  },
  {
   "cell_type": "code",
   "execution_count": 34,
   "id": "80da3f13",
   "metadata": {},
   "outputs": [
    {
     "data": {
      "text/plain": [
       "count    6500.000000\n",
       "mean     3115.444985\n",
       "std       836.895127\n",
       "min       244.200000\n",
       "25%      2785.400000\n",
       "50%      3148.600000\n",
       "75%      3560.600000\n",
       "max      5699.800000\n",
       "Name: distance, dtype: float64"
      ]
     },
     "metadata": {},
     "output_type": "display_data"
    },
    {
     "data": {
      "text/plain": [
       "<Axes: title={'center': 'Распределение дистанций пользователей с подпиской'}, ylabel='Frequency'>"
      ]
     },
     "metadata": {},
     "output_type": "display_data"
    },
    {
     "data": {
      "image/png": "[encoded data removed]",
      "text/plain": [
       "<Figure size 640x480 with 1 Axes>"
      ]
     },
     "metadata": {},
     "output_type": "display_data"
    }
   ],
   "source": [
    "display (dataframe_ultra ['distance'].describe())\n",
    "display(dataframe_ultra ['distance'].plot(kind = 'hist', bins = 20, title = 'Распределение дистанций пользователей с подпиской'))"
   ]
  },
  {
   "cell_type": "code",
   "execution_count": 35,
   "id": "f7e57555",
   "metadata": {},
   "outputs": [
    {
     "data": {
      "text/plain": [
       "count    11395.000000\n",
       "mean      3048.710856\n",
       "std       1214.976735\n",
       "min        102.300000\n",
       "25%       2374.300000\n",
       "50%       3111.700000\n",
       "75%       3890.650000\n",
       "max       7066.000000\n",
       "Name: distance, dtype: float64"
      ]
     },
     "metadata": {},
     "output_type": "display_data"
    },
    {
     "data": {
      "text/plain": [
       "<Axes: title={'center': 'Распределение дистанций пользователей без подписки'}, ylabel='Frequency'>"
      ]
     },
     "metadata": {},
     "output_type": "display_data"
    },
    {
     "data": {
      "image/png": "[encoded data removed]",
      "text/plain": [
       "<Figure size 640x480 with 1 Axes>"
      ]
     },
     "metadata": {},
     "output_type": "display_data"
    }
   ],
   "source": [
    "display (dataframe_free ['distance'].describe())\n",
    "display(dataframe_free ['distance'].plot(kind = 'hist', bins = 20, title ='Распределение дистанций пользователей без подписки'))"
   ]
  },
  {
   "cell_type": "code",
   "execution_count": 36,
   "id": "63d8490c",
   "metadata": {},
   "outputs": [
    {
     "data": {
      "text/plain": [
       "count    6500.000000\n",
       "mean       19.037692\n",
       "std         5.577439\n",
       "min         4.000000\n",
       "25%        15.000000\n",
       "50%        19.000000\n",
       "75%        22.000000\n",
       "max        41.000000\n",
       "Name: duration, dtype: float64"
      ]
     },
     "metadata": {},
     "output_type": "display_data"
    },
    {
     "data": {
      "text/plain": [
       "<Axes: title={'center': 'Распределение длительности прездки с подпиской'}, ylabel='Frequency'>"
      ]
     },
     "metadata": {},
     "output_type": "display_data"
    },
    {
     "data": {
      "image/png": "[encoded data removed]",
      "text/plain": [
       "<Figure size 640x480 with 1 Axes>"
      ]
     },
     "metadata": {},
     "output_type": "display_data"
    }
   ],
   "source": [
    "display (dataframe_ultra ['duration'].describe())\n",
    "display (dataframe_ultra ['duration'].plot(kind = 'hist', bins = 20, title = 'Распределение длительности прездки с подпиской'))"
   ]
  },
  {
   "cell_type": "code",
   "execution_count": 37,
   "id": "bb5768ac",
   "metadata": {},
   "outputs": [
    {
     "data": {
      "text/plain": [
       "count    11395.000000\n",
       "mean        18.096709\n",
       "std          6.128097\n",
       "min          3.000000\n",
       "25%         14.000000\n",
       "50%         18.000000\n",
       "75%         22.000000\n",
       "max         35.000000\n",
       "Name: duration, dtype: float64"
      ]
     },
     "metadata": {},
     "output_type": "display_data"
    },
    {
     "data": {
      "text/plain": [
       "<Axes: title={'center': 'Распределение длительности без подписки'}, ylabel='Frequency'>"
      ]
     },
     "metadata": {},
     "output_type": "display_data"
    },
    {
     "data": {
      "image/png": "[encoded data removed]",
      "text/plain": [
       "<Figure size 640x480 with 1 Axes>"
      ]
     },
     "metadata": {},
     "output_type": "display_data"
    }
   ],
   "source": [
    "display (dataframe_free ['duration'].describe())\n",
    "display (dataframe_free ['duration'].plot(kind = 'hist', bins = 20, title = 'Распределение длительности без подписки'))"
   ]
  },
  {
   "cell_type": "markdown",
   "id": "febd047a",
   "metadata": {},
   "source": [
    "**Итог** \n",
    "\n",
    "- Количество поездок совершенных с подпиской меньше в 2 раза по сравнению с количеством без подписки \n",
    "- Средняя продолжительность поездок с подпиской больше, но незначительно \n",
    "- C подпиской дисперсия выше чем без подписки\n",
    "- Без подписки количества коротких заездов больше"
   ]
  },
  {
   "cell_type": "markdown",
   "id": "402d620f",
   "metadata": {},
   "source": [
    "# Шаг 5. Подсчёт выручки"
   ]
  },
  {
   "cell_type": "markdown",
   "id": "10a9afdc",
   "metadata": {},
   "source": [
    "Создайте датафрейм с агрегированными данными о поездках на основе датафрейма с объединёнными данными из шага 4: найдите суммарное расстояние, количество поездок и суммарное время для каждого пользователя за каждый месяц."
   ]
  },
  {
   "cell_type": "code",
   "execution_count": 38,
   "id": "e67137e3",
   "metadata": {},
   "outputs": [
    {
     "data": {
      "text/html": [
       "<div>\n",
       "<style scoped>\n",
       "    .dataframe tbody tr th:only-of-type {\n",
       "        vertical-align: middle;\n",
       "    }\n",
       "\n",
       "    .dataframe tbody tr th {\n",
       "        vertical-align: top;\n",
       "    }\n",
       "\n",
       "    .dataframe thead th {\n",
       "        text-align: right;\n",
       "    }\n",
       "</style>\n",
       "<table border=\"1\" class=\"dataframe\">\n",
       "  <thead>\n",
       "    <tr style=\"text-align: right;\">\n",
       "      <th></th>\n",
       "      <th>user_id</th>\n",
       "      <th>month</th>\n",
       "      <th>distance</th>\n",
       "      <th>duration</th>\n",
       "      <th>n_records</th>\n",
       "    </tr>\n",
       "  </thead>\n",
       "  <tbody>\n",
       "    <tr>\n",
       "      <th>0</th>\n",
       "      <td>1</td>\n",
       "      <td>1</td>\n",
       "      <td>7027.5</td>\n",
       "      <td>42.0</td>\n",
       "      <td>2</td>\n",
       "    </tr>\n",
       "    <tr>\n",
       "      <th>1</th>\n",
       "      <td>1</td>\n",
       "      <td>4</td>\n",
       "      <td>754.2</td>\n",
       "      <td>7.0</td>\n",
       "      <td>1</td>\n",
       "    </tr>\n",
       "    <tr>\n",
       "      <th>2</th>\n",
       "      <td>1</td>\n",
       "      <td>8</td>\n",
       "      <td>6723.5</td>\n",
       "      <td>46.0</td>\n",
       "      <td>2</td>\n",
       "    </tr>\n",
       "    <tr>\n",
       "      <th>3</th>\n",
       "      <td>1</td>\n",
       "      <td>10</td>\n",
       "      <td>5809.9</td>\n",
       "      <td>32.0</td>\n",
       "      <td>2</td>\n",
       "    </tr>\n",
       "    <tr>\n",
       "      <th>4</th>\n",
       "      <td>1</td>\n",
       "      <td>11</td>\n",
       "      <td>7003.5</td>\n",
       "      <td>56.0</td>\n",
       "      <td>3</td>\n",
       "    </tr>\n",
       "  </tbody>\n",
       "</table>\n",
       "</div>"
      ],
      "text/plain": [
       "   user_id  month  distance  duration  n_records\n",
       "0        1      1    7027.5      42.0          2\n",
       "1        1      4     754.2       7.0          1\n",
       "2        1      8    6723.5      46.0          2\n",
       "3        1     10    5809.9      32.0          2\n",
       "4        1     11    7003.5      56.0          3"
      ]
     },
     "metadata": {},
     "output_type": "display_data"
    },
    {
     "data": {
      "text/html": [
       "<div>\n",
       "<style scoped>\n",
       "    .dataframe tbody tr th:only-of-type {\n",
       "        vertical-align: middle;\n",
       "    }\n",
       "\n",
       "    .dataframe tbody tr th {\n",
       "        vertical-align: top;\n",
       "    }\n",
       "\n",
       "    .dataframe thead th {\n",
       "        text-align: right;\n",
       "    }\n",
       "</style>\n",
       "<table border=\"1\" class=\"dataframe\">\n",
       "  <thead>\n",
       "    <tr style=\"text-align: right;\">\n",
       "      <th></th>\n",
       "      <th>user_id</th>\n",
       "      <th>month</th>\n",
       "      <th>distance</th>\n",
       "      <th>duration</th>\n",
       "      <th>n_records</th>\n",
       "    </tr>\n",
       "  </thead>\n",
       "  <tbody>\n",
       "    <tr>\n",
       "      <th>0</th>\n",
       "      <td>700</td>\n",
       "      <td>1</td>\n",
       "      <td>2515.7</td>\n",
       "      <td>15.0</td>\n",
       "      <td>1</td>\n",
       "    </tr>\n",
       "    <tr>\n",
       "      <th>1</th>\n",
       "      <td>700</td>\n",
       "      <td>2</td>\n",
       "      <td>13446.6</td>\n",
       "      <td>89.0</td>\n",
       "      <td>5</td>\n",
       "    </tr>\n",
       "    <tr>\n",
       "      <th>2</th>\n",
       "      <td>700</td>\n",
       "      <td>3</td>\n",
       "      <td>3798.3</td>\n",
       "      <td>19.0</td>\n",
       "      <td>1</td>\n",
       "    </tr>\n",
       "    <tr>\n",
       "      <th>3</th>\n",
       "      <td>700</td>\n",
       "      <td>4</td>\n",
       "      <td>2984.6</td>\n",
       "      <td>16.0</td>\n",
       "      <td>1</td>\n",
       "    </tr>\n",
       "    <tr>\n",
       "      <th>4</th>\n",
       "      <td>700</td>\n",
       "      <td>6</td>\n",
       "      <td>5927.6</td>\n",
       "      <td>29.0</td>\n",
       "      <td>2</td>\n",
       "    </tr>\n",
       "  </tbody>\n",
       "</table>\n",
       "</div>"
      ],
      "text/plain": [
       "   user_id  month  distance  duration  n_records\n",
       "0      700      1    2515.7      15.0          1\n",
       "1      700      2   13446.6      89.0          5\n",
       "2      700      3    3798.3      19.0          1\n",
       "3      700      4    2984.6      16.0          1\n",
       "4      700      6    5927.6      29.0          2"
      ]
     },
     "metadata": {},
     "output_type": "display_data"
    }
   ],
   "source": [
    "dataframe_ultra_group = (dataframe_ultra\n",
    "    .groupby (['user_id' , 'month'])[['distance', 'duration', 'n_records']].sum()\n",
    "    .reset_index()\n",
    ")\n",
    "\n",
    "display (dataframe_ultra_group.head())\n",
    "\n",
    "dataframe_free_group = (dataframe_free\n",
    "    .groupby (['user_id' , 'month'])[['distance', 'duration', 'n_records']].sum()\n",
    "    .reset_index()\n",
    ")\n",
    "display (dataframe_free_group.head())"
   ]
  },
  {
   "cell_type": "markdown",
   "id": "81e96104",
   "metadata": {},
   "source": [
    "В этот же датафрейм добавьте столбец с помесячной выручкой, которую принёс каждый пользователь. Для этого обратитесь к информации об условиях оплаты для подписчиков и тех, у кого нет подписки."
   ]
  },
  {
   "cell_type": "code",
   "execution_count": 39,
   "id": "b3471bdf",
   "metadata": {},
   "outputs": [
    {
     "data": {
      "text/html": [
       "<div>\n",
       "<style scoped>\n",
       "    .dataframe tbody tr th:only-of-type {\n",
       "        vertical-align: middle;\n",
       "    }\n",
       "\n",
       "    .dataframe tbody tr th {\n",
       "        vertical-align: top;\n",
       "    }\n",
       "\n",
       "    .dataframe thead th {\n",
       "        text-align: right;\n",
       "    }\n",
       "</style>\n",
       "<table border=\"1\" class=\"dataframe\">\n",
       "  <thead>\n",
       "    <tr style=\"text-align: right;\">\n",
       "      <th></th>\n",
       "      <th>user_id</th>\n",
       "      <th>month</th>\n",
       "      <th>distance</th>\n",
       "      <th>duration</th>\n",
       "      <th>n_records</th>\n",
       "      <th>revenue</th>\n",
       "    </tr>\n",
       "  </thead>\n",
       "  <tbody>\n",
       "    <tr>\n",
       "      <th>0</th>\n",
       "      <td>1</td>\n",
       "      <td>1</td>\n",
       "      <td>7027.5</td>\n",
       "      <td>42.0</td>\n",
       "      <td>2</td>\n",
       "      <td>451.0</td>\n",
       "    </tr>\n",
       "    <tr>\n",
       "      <th>1</th>\n",
       "      <td>1</td>\n",
       "      <td>4</td>\n",
       "      <td>754.2</td>\n",
       "      <td>7.0</td>\n",
       "      <td>1</td>\n",
       "      <td>241.0</td>\n",
       "    </tr>\n",
       "    <tr>\n",
       "      <th>2</th>\n",
       "      <td>1</td>\n",
       "      <td>8</td>\n",
       "      <td>6723.5</td>\n",
       "      <td>46.0</td>\n",
       "      <td>2</td>\n",
       "      <td>475.0</td>\n",
       "    </tr>\n",
       "    <tr>\n",
       "      <th>3</th>\n",
       "      <td>1</td>\n",
       "      <td>10</td>\n",
       "      <td>5809.9</td>\n",
       "      <td>32.0</td>\n",
       "      <td>2</td>\n",
       "      <td>391.0</td>\n",
       "    </tr>\n",
       "    <tr>\n",
       "      <th>4</th>\n",
       "      <td>1</td>\n",
       "      <td>11</td>\n",
       "      <td>7003.5</td>\n",
       "      <td>56.0</td>\n",
       "      <td>3</td>\n",
       "      <td>535.0</td>\n",
       "    </tr>\n",
       "    <tr>\n",
       "      <th>...</th>\n",
       "      <td>...</td>\n",
       "      <td>...</td>\n",
       "      <td>...</td>\n",
       "      <td>...</td>\n",
       "      <td>...</td>\n",
       "      <td>...</td>\n",
       "    </tr>\n",
       "    <tr>\n",
       "      <th>4528</th>\n",
       "      <td>699</td>\n",
       "      <td>6</td>\n",
       "      <td>4072.8</td>\n",
       "      <td>17.0</td>\n",
       "      <td>1</td>\n",
       "      <td>301.0</td>\n",
       "    </tr>\n",
       "    <tr>\n",
       "      <th>4529</th>\n",
       "      <td>699</td>\n",
       "      <td>8</td>\n",
       "      <td>7018.3</td>\n",
       "      <td>45.0</td>\n",
       "      <td>2</td>\n",
       "      <td>469.0</td>\n",
       "    </tr>\n",
       "    <tr>\n",
       "      <th>4530</th>\n",
       "      <td>699</td>\n",
       "      <td>9</td>\n",
       "      <td>6364.9</td>\n",
       "      <td>31.0</td>\n",
       "      <td>2</td>\n",
       "      <td>385.0</td>\n",
       "    </tr>\n",
       "    <tr>\n",
       "      <th>4531</th>\n",
       "      <td>699</td>\n",
       "      <td>10</td>\n",
       "      <td>4707.8</td>\n",
       "      <td>16.0</td>\n",
       "      <td>1</td>\n",
       "      <td>295.0</td>\n",
       "    </tr>\n",
       "    <tr>\n",
       "      <th>4532</th>\n",
       "      <td>699</td>\n",
       "      <td>12</td>\n",
       "      <td>3202.9</td>\n",
       "      <td>26.0</td>\n",
       "      <td>1</td>\n",
       "      <td>355.0</td>\n",
       "    </tr>\n",
       "  </tbody>\n",
       "</table>\n",
       "<p>4533 rows × 6 columns</p>\n",
       "</div>"
      ],
      "text/plain": [
       "      user_id  month  distance  duration  n_records  revenue\n",
       "0           1      1    7027.5      42.0          2    451.0\n",
       "1           1      4     754.2       7.0          1    241.0\n",
       "2           1      8    6723.5      46.0          2    475.0\n",
       "3           1     10    5809.9      32.0          2    391.0\n",
       "4           1     11    7003.5      56.0          3    535.0\n",
       "...       ...    ...       ...       ...        ...      ...\n",
       "4528      699      6    4072.8      17.0          1    301.0\n",
       "4529      699      8    7018.3      45.0          2    469.0\n",
       "4530      699      9    6364.9      31.0          2    385.0\n",
       "4531      699     10    4707.8      16.0          1    295.0\n",
       "4532      699     12    3202.9      26.0          1    355.0\n",
       "\n",
       "[4533 rows x 6 columns]"
      ]
     },
     "execution_count": 39,
     "metadata": {},
     "output_type": "execute_result"
    }
   ],
   "source": [
    "dataframe_ultra_group ['revenue'] = 199 + dataframe_ultra_group ['duration'] * 6\n",
    "dataframe_ultra_group"
   ]
  },
  {
   "cell_type": "code",
   "execution_count": 40,
   "id": "4f9d1950",
   "metadata": {},
   "outputs": [
    {
     "data": {
      "text/html": [
       "<div>\n",
       "<style scoped>\n",
       "    .dataframe tbody tr th:only-of-type {\n",
       "        vertical-align: middle;\n",
       "    }\n",
       "\n",
       "    .dataframe tbody tr th {\n",
       "        vertical-align: top;\n",
       "    }\n",
       "\n",
       "    .dataframe thead th {\n",
       "        text-align: right;\n",
       "    }\n",
       "</style>\n",
       "<table border=\"1\" class=\"dataframe\">\n",
       "  <thead>\n",
       "    <tr style=\"text-align: right;\">\n",
       "      <th></th>\n",
       "      <th>user_id</th>\n",
       "      <th>month</th>\n",
       "      <th>distance</th>\n",
       "      <th>duration</th>\n",
       "      <th>n_records</th>\n",
       "      <th>revenue</th>\n",
       "    </tr>\n",
       "  </thead>\n",
       "  <tbody>\n",
       "    <tr>\n",
       "      <th>0</th>\n",
       "      <td>700</td>\n",
       "      <td>1</td>\n",
       "      <td>2515.7</td>\n",
       "      <td>15.0</td>\n",
       "      <td>1</td>\n",
       "      <td>170.0</td>\n",
       "    </tr>\n",
       "    <tr>\n",
       "      <th>1</th>\n",
       "      <td>700</td>\n",
       "      <td>2</td>\n",
       "      <td>13446.6</td>\n",
       "      <td>89.0</td>\n",
       "      <td>5</td>\n",
       "      <td>962.0</td>\n",
       "    </tr>\n",
       "    <tr>\n",
       "      <th>2</th>\n",
       "      <td>700</td>\n",
       "      <td>3</td>\n",
       "      <td>3798.3</td>\n",
       "      <td>19.0</td>\n",
       "      <td>1</td>\n",
       "      <td>202.0</td>\n",
       "    </tr>\n",
       "    <tr>\n",
       "      <th>3</th>\n",
       "      <td>700</td>\n",
       "      <td>4</td>\n",
       "      <td>2984.6</td>\n",
       "      <td>16.0</td>\n",
       "      <td>1</td>\n",
       "      <td>178.0</td>\n",
       "    </tr>\n",
       "    <tr>\n",
       "      <th>4</th>\n",
       "      <td>700</td>\n",
       "      <td>6</td>\n",
       "      <td>5927.6</td>\n",
       "      <td>29.0</td>\n",
       "      <td>2</td>\n",
       "      <td>332.0</td>\n",
       "    </tr>\n",
       "    <tr>\n",
       "      <th>...</th>\n",
       "      <td>...</td>\n",
       "      <td>...</td>\n",
       "      <td>...</td>\n",
       "      <td>...</td>\n",
       "      <td>...</td>\n",
       "      <td>...</td>\n",
       "    </tr>\n",
       "    <tr>\n",
       "      <th>6742</th>\n",
       "      <td>1534</td>\n",
       "      <td>6</td>\n",
       "      <td>3409.4</td>\n",
       "      <td>26.0</td>\n",
       "      <td>2</td>\n",
       "      <td>308.0</td>\n",
       "    </tr>\n",
       "    <tr>\n",
       "      <th>6743</th>\n",
       "      <td>1534</td>\n",
       "      <td>8</td>\n",
       "      <td>7622.4</td>\n",
       "      <td>48.0</td>\n",
       "      <td>2</td>\n",
       "      <td>484.0</td>\n",
       "    </tr>\n",
       "    <tr>\n",
       "      <th>6744</th>\n",
       "      <td>1534</td>\n",
       "      <td>9</td>\n",
       "      <td>4928.2</td>\n",
       "      <td>23.0</td>\n",
       "      <td>1</td>\n",
       "      <td>234.0</td>\n",
       "    </tr>\n",
       "    <tr>\n",
       "      <th>6745</th>\n",
       "      <td>1534</td>\n",
       "      <td>11</td>\n",
       "      <td>13350.0</td>\n",
       "      <td>78.0</td>\n",
       "      <td>4</td>\n",
       "      <td>824.0</td>\n",
       "    </tr>\n",
       "    <tr>\n",
       "      <th>6746</th>\n",
       "      <td>1534</td>\n",
       "      <td>12</td>\n",
       "      <td>2371.7</td>\n",
       "      <td>16.0</td>\n",
       "      <td>1</td>\n",
       "      <td>178.0</td>\n",
       "    </tr>\n",
       "  </tbody>\n",
       "</table>\n",
       "<p>6747 rows × 6 columns</p>\n",
       "</div>"
      ],
      "text/plain": [
       "      user_id  month  distance  duration  n_records  revenue\n",
       "0         700      1    2515.7      15.0          1    170.0\n",
       "1         700      2   13446.6      89.0          5    962.0\n",
       "2         700      3    3798.3      19.0          1    202.0\n",
       "3         700      4    2984.6      16.0          1    178.0\n",
       "4         700      6    5927.6      29.0          2    332.0\n",
       "...       ...    ...       ...       ...        ...      ...\n",
       "6742     1534      6    3409.4      26.0          2    308.0\n",
       "6743     1534      8    7622.4      48.0          2    484.0\n",
       "6744     1534      9    4928.2      23.0          1    234.0\n",
       "6745     1534     11   13350.0      78.0          4    824.0\n",
       "6746     1534     12    2371.7      16.0          1    178.0\n",
       "\n",
       "[6747 rows x 6 columns]"
      ]
     },
     "execution_count": 40,
     "metadata": {},
     "output_type": "execute_result"
    }
   ],
   "source": [
    "dataframe_free_group ['revenue'] =dataframe_free_group ['n_records'] * 50  + dataframe_free_group ['duration'] * 8\n",
    "dataframe_free_group"
   ]
  },
  {
   "cell_type": "markdown",
   "id": "73de5b54",
   "metadata": {},
   "source": [
    "Созданы 2 датафрейма в которых по каждому пользователю, по каждому месяцу расписано кол-во поездок и доход"
   ]
  },
  {
   "cell_type": "markdown",
   "id": "41545ac0",
   "metadata": {},
   "source": [
    "# Шаг 6. Проверка гипотез"
   ]
  },
  {
   "cell_type": "markdown",
   "id": "3310484a",
   "metadata": {},
   "source": [
    "**6.1**\n",
    "\n",
    "Важно понять, тратят ли пользователи с подпиской больше времени на поездки? Если да, то пользователи с подпиской могут быть «выгоднее» для компании. Проверьте гипотезу. Используйте исходные данные о продолжительности каждой сессии — отдельно для подписчиков и тех, у кого нет подписки."
   ]
  },
  {
   "cell_type": "markdown",
   "id": "6317d3fe",
   "metadata": {},
   "source": [
    "Сформируем нулевую гипотезу что: \n",
    "- равны средние у двух выборок\n",
    "Альтернативная:\n",
    "- средняя людей с подпиской больше, без подписки"
   ]
  },
  {
   "cell_type": "markdown",
   "id": "85299e9f",
   "metadata": {},
   "source": []
  },
  {
   "cell_type": "code",
   "execution_count": 41,
   "id": "182d010e",
   "metadata": {},
   "outputs": [
    {
     "name": "stdout",
     "output_type": "stream",
     "text": [
      "p-значение: 3.4544775648938923e-31\n",
      "Отвергаем нулевую гипотезу\n"
     ]
    }
   ],
   "source": [
    "# проверяем что среднее с подпиской больше, чем среднее без подписки\n",
    "# Нулевая - Средние значения равны\n",
    "# Альтернативная - Среднее значение первой генеральной совокупности больше среднего значения второй генеральной совокупности.\n",
    "alpha = .01\n",
    "\n",
    "results = st.ttest_ind(\n",
    "    dataframe_ultra_group ['revenue'], \n",
    "    dataframe_free_group ['revenue'],\n",
    "      alternative='greater')\n",
    "\n",
    "print('p-значение:', results.pvalue)\n",
    "\n",
    "if (results.pvalue < alpha):\n",
    "    print('Отвергаем нулевую гипотезу')\n",
    "else:\n",
    "    print('Не отвергаем нулевую гипотезу') "
   ]
  },
  {
   "cell_type": "markdown",
   "id": "97bc0e93",
   "metadata": {},
   "source": [
    "**Вывод** что люди с подпиской тратят больше людей без подписки"
   ]
  },
  {
   "cell_type": "markdown",
   "id": "4e924f1f",
   "metadata": {},
   "source": [
    "**6.2**\n",
    "\n",
    "Расстояние одной поездки в \n",
    "3130\n",
    "\n",
    "3130 метров — оптимальное с точки зрения износа самоката. Можно ли сказать, что среднее расстояние, которое проезжают пользователи с подпиской за одну поездку, не превышает \n",
    "3130\n",
    "3130 метров? Проверьте гипотезу и сделайте выводы."
   ]
  },
  {
   "cell_type": "code",
   "execution_count": 42,
   "id": "c8dd6bb3",
   "metadata": {},
   "outputs": [
    {
     "name": "stdout",
     "output_type": "stream",
     "text": [
      "p-значение: 0.9195427368335852\n",
      "Не отвергаем нулевую гипотезу\n"
     ]
    }
   ],
   "source": [
    "distance = 3130\n",
    "#проверяем\n",
    "# нулевая то что они равны\n",
    "# альтернативная, то что больше\n",
    "\n",
    "alpha = .01\n",
    "distance_df = dataframe_ultra ['distance']\n",
    "results = st.ttest_1samp(\n",
    "    distance_df, \n",
    "    distance,\n",
    "      alternative='greater')\n",
    "\n",
    "print('p-значение:', results.pvalue)\n",
    "\n",
    "if (results.pvalue < alpha):\n",
    "    print('Отвергаем нулевую гипотезу')\n",
    "else:\n",
    "    print('Не отвергаем нулевую гипотезу') "
   ]
  },
  {
   "cell_type": "markdown",
   "id": "b724e3e7",
   "metadata": {},
   "source": [
    "**Вывод** \n",
    "\n",
    "Среднее преодолеваемое расстояние по выборкам людей с подпиской меньше или равна 3130 м. "
   ]
  },
  {
   "cell_type": "markdown",
   "id": "6e39fe63",
   "metadata": {},
   "source": [
    "**6.3**\n",
    "\n",
    "Проверьте гипотезу о том, будет ли помесячная выручка от пользователей с подпиской по месяцам выше, чем выручка от пользователей без подписки. Сделайте вывод."
   ]
  },
  {
   "cell_type": "code",
   "execution_count": 43,
   "id": "5149657e",
   "metadata": {},
   "outputs": [
    {
     "name": "stdout",
     "output_type": "stream",
     "text": [
      "1 месяц:\n",
      "p-значение 1 месяц: 3.1489684206189355e-06\n",
      "Отвергаем нулевую гипотезу\n",
      "2 месяц:\n",
      "p-значение 2 месяц: 0.00021979622964618878\n",
      "Отвергаем нулевую гипотезу\n",
      "3 месяц:\n",
      "p-значение 3 месяц: 0.024045764501557845\n",
      "Не получилось отвергнуть нулевую гипотезу\n",
      "4 месяц:\n",
      "p-значение 4 месяц: 0.000766786956114634\n",
      "Отвергаем нулевую гипотезу\n",
      "5 месяц:\n",
      "p-значение 5 месяц: 2.3847309841454882e-05\n",
      "Отвергаем нулевую гипотезу\n",
      "6 месяц:\n",
      "p-значение 6 месяц: 0.00020691094384674404\n",
      "Отвергаем нулевую гипотезу\n",
      "7 месяц:\n",
      "p-значение 7 месяц: 7.841615610972059e-05\n",
      "Отвергаем нулевую гипотезу\n",
      "8 месяц:\n",
      "p-значение 8 месяц: 0.0018812039761221268\n",
      "Отвергаем нулевую гипотезу\n",
      "9 месяц:\n",
      "p-значение 9 месяц: 0.0011352780054404014\n",
      "Отвергаем нулевую гипотезу\n",
      "10 месяц:\n",
      "p-значение 10 месяц: 0.0025800018669477\n",
      "Отвергаем нулевую гипотезу\n",
      "11 месяц:\n",
      "p-значение 11 месяц: 0.0001201439191368055\n",
      "Отвергаем нулевую гипотезу\n",
      "12 месяц:\n",
      "p-значение 12 месяц: 0.0014444495020721525\n",
      "Отвергаем нулевую гипотезу\n"
     ]
    }
   ],
   "source": [
    "def test(indexx):\n",
    "    alpha = 0.01\n",
    "\n",
    "    results = st.ttest_ind(dataframe_ultra_group[dataframe_ultra_group['month'] == indexx]['revenue']\n",
    "                       , dataframe_free_group[dataframe_free_group['month'] == indexx]['revenue']\n",
    "                       , alternative='greater')\n",
    "    print( indexx, 'месяц:')\n",
    "    print('p-значение', indexx, 'месяц:', results.pvalue)\n",
    "\n",
    "    if results.pvalue < alpha:\n",
    "        print('Отвергаем нулевую гипотезу')\n",
    "    else:\n",
    "        print('Не получилось отвергнуть нулевую гипотезу') \n",
    "        \n",
    "for i in range(12):\n",
    "    test(i+1)"
   ]
  },
  {
   "cell_type": "markdown",
   "id": "2d49699a",
   "metadata": {},
   "source": [
    "**Вывод** \n",
    " \n",
    " Люди с подпиской помесячно тратят больше чем люди без подписки."
   ]
  },
  {
   "cell_type": "markdown",
   "id": "82e47336",
   "metadata": {},
   "source": [
    "**6.4**\n",
    "\n",
    "Представьте такую ситуацию: техническая команда сервиса обновила сервера, с которыми взаимодействует мобильное приложение. Она надеется, что из-за этого количество обращений в техподдержку значимо снизилось. Некоторый файл содержит для каждого пользователя данные о количестве обращений до обновления и после него. Какой тест вам понадобился бы для проверки этой гипотезы?"
   ]
  },
  {
   "cell_type": "markdown",
   "id": "f6bfecbe",
   "metadata": {},
   "source": [
    "Мне понадобится тест: \n",
    "Гипотеза о равенстве средних для зависимых (парных) выборок\n",
    "\n",
    ".ttest_rel"
   ]
  },
  {
   "cell_type": "markdown",
   "id": "61213c5e",
   "metadata": {},
   "source": [
    "# Шаг 7. Распределения"
   ]
  },
  {
   "cell_type": "markdown",
   "id": "d130eb6f",
   "metadata": {},
   "source": [
    "# Вывод: \n",
    "\n"
   ]
  },
  {
   "cell_type": "markdown",
   "id": "e90040ff",
   "metadata": {},
   "source": [
    "Была проделана следующая работа: \n",
    "1. Выгружены полученные данные. \n",
    "2. Проанализированы данные, проверено на дубликаты, пропуски. \n",
    "3. Проведен исследовательский анализ, проверены аномалии. \n",
    "4. объеденены данные, сделаны сводные таблицы.\n",
    "5. Совершен подсчет выручки.\n",
    "6. Сформированы необходимые гипотезы, проверены. \n",
    "\n",
    "Выводы: \n",
    "1. Пользователи без подписки больше используют самокаты для преодоления которотких дистанций (меньше 1км), пользователи с подпиской ездят на более длинных дистанциях\n",
    "2. Люди с подпиской тратят больше людей без подписки\n",
    "3. Люди с подпиской преодолевают расстояние на самокате менее допустимых 3130, т.е. самокаты работают не на пределе. \n",
    "4. Тратят больше помесячно люди с подпиской. \n",
    "\n",
    "Рекомендации:\n",
    "Рекоммендация к расширению привлечения пользователей с подпиской, т.е. увеличить кол-во пользователей с подпиской"
   ]
  }
 ],
 "metadata": {
  "ExecuteTimeLog": [
   {
    "duration": 53,
    "start_time": "2024-05-07T05:23:29.012Z"
   },
   {
    "duration": 373,
    "start_time": "2024-05-07T05:24:23.116Z"
   },
   {
    "duration": 111,
    "start_time": "2024-05-07T05:24:23.490Z"
   },
   {
    "duration": 39,
    "start_time": "2024-05-07T05:24:33.604Z"
   },
   {
    "duration": 67,
    "start_time": "2024-05-07T05:26:50.011Z"
   },
   {
    "duration": 375,
    "start_time": "2024-05-07T05:26:58.613Z"
   },
   {
    "duration": 262,
    "start_time": "2024-05-07T05:26:58.989Z"
   },
   {
    "duration": 25,
    "start_time": "2024-05-07T05:26:59.253Z"
   },
   {
    "duration": 3,
    "start_time": "2024-05-07T05:29:46.413Z"
   },
   {
    "duration": 9,
    "start_time": "2024-05-07T05:29:59.444Z"
   },
   {
    "duration": 376,
    "start_time": "2024-05-07T05:30:18.117Z"
   },
   {
    "duration": 68,
    "start_time": "2024-05-07T05:30:18.495Z"
   },
   {
    "duration": 3,
    "start_time": "2024-05-07T05:30:18.564Z"
   },
   {
    "duration": 28,
    "start_time": "2024-05-07T05:30:18.569Z"
   },
   {
    "duration": 2,
    "start_time": "2024-05-07T05:30:46.014Z"
   },
   {
    "duration": 8,
    "start_time": "2024-05-07T05:30:46.685Z"
   },
   {
    "duration": 3,
    "start_time": "2024-05-07T05:31:11.078Z"
   },
   {
    "duration": 16,
    "start_time": "2024-05-07T05:31:11.886Z"
   },
   {
    "duration": 31,
    "start_time": "2024-05-07T05:31:40.398Z"
   },
   {
    "duration": 3,
    "start_time": "2024-05-07T05:33:52.534Z"
   },
   {
    "duration": 29,
    "start_time": "2024-05-07T05:33:52.806Z"
   },
   {
    "duration": 3,
    "start_time": "2024-05-07T05:34:00.534Z"
   },
   {
    "duration": 27,
    "start_time": "2024-05-07T05:34:00.910Z"
   },
   {
    "duration": 3,
    "start_time": "2024-05-07T05:34:08.758Z"
   },
   {
    "duration": 33,
    "start_time": "2024-05-07T05:34:09.399Z"
   },
   {
    "duration": 2,
    "start_time": "2024-05-07T05:34:31.855Z"
   },
   {
    "duration": 42,
    "start_time": "2024-05-07T05:34:32.630Z"
   },
   {
    "duration": 442,
    "start_time": "2024-05-07T05:41:00.176Z"
   },
   {
    "duration": 68,
    "start_time": "2024-05-07T05:41:00.620Z"
   },
   {
    "duration": 6,
    "start_time": "2024-05-07T05:41:00.689Z"
   },
   {
    "duration": 184,
    "start_time": "2024-05-07T05:41:00.697Z"
   },
   {
    "duration": 13,
    "start_time": "2024-05-07T05:41:56.920Z"
   },
   {
    "duration": 6,
    "start_time": "2024-05-07T05:44:48.497Z"
   },
   {
    "duration": 7,
    "start_time": "2024-05-07T05:45:27.577Z"
   },
   {
    "duration": 109,
    "start_time": "2024-05-07T05:45:54.122Z"
   },
   {
    "duration": 13,
    "start_time": "2024-05-07T05:46:05.561Z"
   },
   {
    "duration": 7,
    "start_time": "2024-05-07T05:46:35.281Z"
   },
   {
    "duration": 12,
    "start_time": "2024-05-07T05:49:16.441Z"
   },
   {
    "duration": 11,
    "start_time": "2024-05-07T05:49:32.220Z"
   },
   {
    "duration": 6,
    "start_time": "2024-05-07T05:53:46.280Z"
   },
   {
    "duration": 385,
    "start_time": "2024-05-07T05:54:12.801Z"
   },
   {
    "duration": 68,
    "start_time": "2024-05-07T05:54:13.188Z"
   },
   {
    "duration": 3,
    "start_time": "2024-05-07T05:54:13.257Z"
   },
   {
    "duration": 85,
    "start_time": "2024-05-07T05:54:13.261Z"
   },
   {
    "duration": 6,
    "start_time": "2024-05-07T05:54:13.348Z"
   },
   {
    "duration": 49,
    "start_time": "2024-05-07T05:54:13.355Z"
   },
   {
    "duration": 20,
    "start_time": "2024-05-07T05:54:13.406Z"
   },
   {
    "duration": 420,
    "start_time": "2024-05-07T05:54:48.287Z"
   },
   {
    "duration": 68,
    "start_time": "2024-05-07T05:54:48.709Z"
   },
   {
    "duration": 3,
    "start_time": "2024-05-07T05:54:48.779Z"
   },
   {
    "duration": 60,
    "start_time": "2024-05-07T05:54:48.784Z"
   },
   {
    "duration": 24,
    "start_time": "2024-05-07T05:54:48.846Z"
   },
   {
    "duration": 12,
    "start_time": "2024-05-07T05:54:48.872Z"
   },
   {
    "duration": 6,
    "start_time": "2024-05-07T05:54:48.886Z"
   },
   {
    "duration": 6,
    "start_time": "2024-05-07T05:56:14.864Z"
   },
   {
    "duration": 3,
    "start_time": "2024-05-07T05:56:24.304Z"
   },
   {
    "duration": 13,
    "start_time": "2024-05-07T05:56:44.738Z"
   },
   {
    "duration": 11,
    "start_time": "2024-05-07T05:58:52.841Z"
   },
   {
    "duration": 16,
    "start_time": "2024-05-07T06:04:55.315Z"
   },
   {
    "duration": 57,
    "start_time": "2024-05-07T06:05:01.364Z"
   },
   {
    "duration": 14,
    "start_time": "2024-05-07T06:05:21.358Z"
   },
   {
    "duration": 382,
    "start_time": "2024-05-07T06:08:54.716Z"
   },
   {
    "duration": 68,
    "start_time": "2024-05-07T06:08:55.100Z"
   },
   {
    "duration": 2,
    "start_time": "2024-05-07T06:08:55.170Z"
   },
   {
    "duration": 57,
    "start_time": "2024-05-07T06:08:55.174Z"
   },
   {
    "duration": 6,
    "start_time": "2024-05-07T06:08:55.232Z"
   },
   {
    "duration": 37,
    "start_time": "2024-05-07T06:08:55.239Z"
   },
   {
    "duration": 5,
    "start_time": "2024-05-07T06:08:55.278Z"
   },
   {
    "duration": 36,
    "start_time": "2024-05-07T06:08:55.284Z"
   },
   {
    "duration": 26,
    "start_time": "2024-05-07T06:08:55.322Z"
   },
   {
    "duration": 11,
    "start_time": "2024-05-07T06:09:59.067Z"
   },
   {
    "duration": 8,
    "start_time": "2024-05-07T06:10:30.675Z"
   },
   {
    "duration": 19,
    "start_time": "2024-05-07T06:10:47.772Z"
   },
   {
    "duration": 389,
    "start_time": "2024-05-07T06:12:32.899Z"
   },
   {
    "duration": 72,
    "start_time": "2024-05-07T06:12:33.290Z"
   },
   {
    "duration": 3,
    "start_time": "2024-05-07T06:12:33.363Z"
   },
   {
    "duration": 65,
    "start_time": "2024-05-07T06:12:33.368Z"
   },
   {
    "duration": 6,
    "start_time": "2024-05-07T06:12:33.435Z"
   },
   {
    "duration": 30,
    "start_time": "2024-05-07T06:12:33.443Z"
   },
   {
    "duration": 5,
    "start_time": "2024-05-07T06:12:33.475Z"
   },
   {
    "duration": 17,
    "start_time": "2024-05-07T06:12:33.482Z"
   },
   {
    "duration": 5,
    "start_time": "2024-05-07T06:12:33.501Z"
   },
   {
    "duration": 14,
    "start_time": "2024-05-07T06:12:33.507Z"
   },
   {
    "duration": 24,
    "start_time": "2024-05-07T06:12:33.523Z"
   },
   {
    "duration": 8,
    "start_time": "2024-05-07T06:15:27.962Z"
   },
   {
    "duration": 9,
    "start_time": "2024-05-07T06:16:13.125Z"
   },
   {
    "duration": 6,
    "start_time": "2024-05-07T06:16:50.282Z"
   },
   {
    "duration": 7,
    "start_time": "2024-05-07T06:17:01.123Z"
   },
   {
    "duration": 7,
    "start_time": "2024-05-07T06:17:14.098Z"
   },
   {
    "duration": 554,
    "start_time": "2024-05-07T06:18:54.178Z"
   },
   {
    "duration": 136,
    "start_time": "2024-05-07T06:19:22.162Z"
   },
   {
    "duration": 139,
    "start_time": "2024-05-07T06:19:31.194Z"
   },
   {
    "duration": 7,
    "start_time": "2024-05-07T06:23:09.667Z"
   },
   {
    "duration": 5,
    "start_time": "2024-05-07T06:23:17.963Z"
   },
   {
    "duration": 82,
    "start_time": "2024-05-07T06:25:40.549Z"
   },
   {
    "duration": 10,
    "start_time": "2024-05-07T06:25:57.078Z"
   },
   {
    "duration": 19,
    "start_time": "2024-05-07T06:26:08.158Z"
   },
   {
    "duration": 18,
    "start_time": "2024-05-07T06:27:20.302Z"
   },
   {
    "duration": 15,
    "start_time": "2024-05-07T06:27:27.998Z"
   },
   {
    "duration": 13,
    "start_time": "2024-05-07T06:27:30.134Z"
   },
   {
    "duration": 17,
    "start_time": "2024-05-07T06:27:36.646Z"
   },
   {
    "duration": 16,
    "start_time": "2024-05-07T06:27:42.277Z"
   },
   {
    "duration": 18,
    "start_time": "2024-05-07T06:28:30.346Z"
   },
   {
    "duration": 17,
    "start_time": "2024-05-07T06:28:35.632Z"
   },
   {
    "duration": 17,
    "start_time": "2024-05-07T06:28:51.852Z"
   },
   {
    "duration": 25,
    "start_time": "2024-05-07T06:29:13.750Z"
   },
   {
    "duration": 361,
    "start_time": "2024-05-07T10:18:11.080Z"
   },
   {
    "duration": 223,
    "start_time": "2024-05-07T10:18:11.443Z"
   },
   {
    "duration": 3,
    "start_time": "2024-05-07T10:18:11.668Z"
   },
   {
    "duration": 50,
    "start_time": "2024-05-07T10:18:11.672Z"
   },
   {
    "duration": 5,
    "start_time": "2024-05-07T10:18:11.724Z"
   },
   {
    "duration": 23,
    "start_time": "2024-05-07T10:18:11.730Z"
   },
   {
    "duration": 6,
    "start_time": "2024-05-07T10:18:11.754Z"
   },
   {
    "duration": 9,
    "start_time": "2024-05-07T10:18:11.762Z"
   },
   {
    "duration": 6,
    "start_time": "2024-05-07T10:18:11.772Z"
   },
   {
    "duration": 8,
    "start_time": "2024-05-07T10:18:11.779Z"
   },
   {
    "duration": 16,
    "start_time": "2024-05-07T10:18:11.788Z"
   },
   {
    "duration": 43,
    "start_time": "2024-05-07T10:18:11.805Z"
   },
   {
    "duration": 533,
    "start_time": "2024-05-07T10:18:11.849Z"
   },
   {
    "duration": 6,
    "start_time": "2024-05-07T10:18:12.385Z"
   },
   {
    "duration": 23,
    "start_time": "2024-05-07T10:18:12.392Z"
   },
   {
    "duration": 4,
    "start_time": "2024-05-07T10:19:55.656Z"
   },
   {
    "duration": 121,
    "start_time": "2024-05-07T10:20:24.425Z"
   },
   {
    "duration": 152,
    "start_time": "2024-05-07T10:20:37.106Z"
   },
   {
    "duration": 375,
    "start_time": "2024-05-07T10:20:46.983Z"
   },
   {
    "duration": 67,
    "start_time": "2024-05-07T10:20:47.360Z"
   },
   {
    "duration": 2,
    "start_time": "2024-05-07T10:20:47.429Z"
   },
   {
    "duration": 49,
    "start_time": "2024-05-07T10:20:47.433Z"
   },
   {
    "duration": 5,
    "start_time": "2024-05-07T10:20:47.484Z"
   },
   {
    "duration": 12,
    "start_time": "2024-05-07T10:20:47.490Z"
   },
   {
    "duration": 5,
    "start_time": "2024-05-07T10:20:47.504Z"
   },
   {
    "duration": 11,
    "start_time": "2024-05-07T10:20:47.546Z"
   },
   {
    "duration": 5,
    "start_time": "2024-05-07T10:20:47.559Z"
   },
   {
    "duration": 10,
    "start_time": "2024-05-07T10:20:47.565Z"
   },
   {
    "duration": 17,
    "start_time": "2024-05-07T10:20:47.576Z"
   },
   {
    "duration": 7,
    "start_time": "2024-05-07T10:20:47.595Z"
   },
   {
    "duration": 385,
    "start_time": "2024-05-07T10:20:47.603Z"
   },
   {
    "duration": 5,
    "start_time": "2024-05-07T10:20:47.991Z"
   },
   {
    "duration": 20,
    "start_time": "2024-05-07T10:20:47.998Z"
   },
   {
    "duration": 142,
    "start_time": "2024-05-07T10:20:48.019Z"
   },
   {
    "duration": 5,
    "start_time": "2024-05-07T10:23:23.282Z"
   },
   {
    "duration": 8,
    "start_time": "2024-05-07T10:23:37.113Z"
   },
   {
    "duration": 125,
    "start_time": "2024-05-07T10:23:55.601Z"
   },
   {
    "duration": 143,
    "start_time": "2024-05-07T10:25:20.376Z"
   },
   {
    "duration": 399,
    "start_time": "2024-05-07T10:27:43.137Z"
   },
   {
    "duration": 67,
    "start_time": "2024-05-07T10:27:43.538Z"
   },
   {
    "duration": 2,
    "start_time": "2024-05-07T10:27:43.607Z"
   },
   {
    "duration": 50,
    "start_time": "2024-05-07T10:27:43.610Z"
   },
   {
    "duration": 4,
    "start_time": "2024-05-07T10:27:43.662Z"
   },
   {
    "duration": 10,
    "start_time": "2024-05-07T10:27:43.668Z"
   },
   {
    "duration": 10,
    "start_time": "2024-05-07T10:27:43.679Z"
   },
   {
    "duration": 13,
    "start_time": "2024-05-07T10:27:43.691Z"
   },
   {
    "duration": 5,
    "start_time": "2024-05-07T10:27:43.706Z"
   },
   {
    "duration": 35,
    "start_time": "2024-05-07T10:27:43.713Z"
   },
   {
    "duration": 17,
    "start_time": "2024-05-07T10:27:43.750Z"
   },
   {
    "duration": 7,
    "start_time": "2024-05-07T10:27:43.768Z"
   },
   {
    "duration": 355,
    "start_time": "2024-05-07T10:27:43.777Z"
   },
   {
    "duration": 11,
    "start_time": "2024-05-07T10:27:44.134Z"
   },
   {
    "duration": 15,
    "start_time": "2024-05-07T10:27:44.147Z"
   },
   {
    "duration": 138,
    "start_time": "2024-05-07T10:27:44.163Z"
   },
   {
    "duration": 162,
    "start_time": "2024-05-07T10:27:44.303Z"
   },
   {
    "duration": 146,
    "start_time": "2024-05-07T10:27:44.467Z"
   },
   {
    "duration": 153,
    "start_time": "2024-05-07T10:27:53.888Z"
   },
   {
    "duration": 215,
    "start_time": "2024-05-07T10:27:55.071Z"
   },
   {
    "duration": 70,
    "start_time": "2024-05-07T10:29:05.200Z"
   },
   {
    "duration": 10,
    "start_time": "2024-05-07T10:29:10.400Z"
   },
   {
    "duration": 24,
    "start_time": "2024-05-07T10:29:17.392Z"
   },
   {
    "duration": 12,
    "start_time": "2024-05-07T10:29:47.280Z"
   },
   {
    "duration": 15,
    "start_time": "2024-05-07T10:30:09.840Z"
   },
   {
    "duration": 27,
    "start_time": "2024-05-07T10:30:14.680Z"
   },
   {
    "duration": 328,
    "start_time": "2024-05-07T10:30:24.504Z"
   },
   {
    "duration": 66,
    "start_time": "2024-05-07T10:30:24.833Z"
   },
   {
    "duration": 3,
    "start_time": "2024-05-07T10:30:24.900Z"
   },
   {
    "duration": 66,
    "start_time": "2024-05-07T10:30:24.904Z"
   },
   {
    "duration": 4,
    "start_time": "2024-05-07T10:30:24.972Z"
   },
   {
    "duration": 11,
    "start_time": "2024-05-07T10:30:24.978Z"
   },
   {
    "duration": 13,
    "start_time": "2024-05-07T10:30:24.991Z"
   },
   {
    "duration": 11,
    "start_time": "2024-05-07T10:30:25.006Z"
   },
   {
    "duration": 27,
    "start_time": "2024-05-07T10:30:25.018Z"
   },
   {
    "duration": 9,
    "start_time": "2024-05-07T10:30:25.046Z"
   },
   {
    "duration": 22,
    "start_time": "2024-05-07T10:30:25.057Z"
   },
   {
    "duration": 8,
    "start_time": "2024-05-07T10:30:25.080Z"
   },
   {
    "duration": 370,
    "start_time": "2024-05-07T10:30:25.089Z"
   },
   {
    "duration": 5,
    "start_time": "2024-05-07T10:30:25.461Z"
   },
   {
    "duration": 31,
    "start_time": "2024-05-07T10:30:25.468Z"
   },
   {
    "duration": 208,
    "start_time": "2024-05-07T10:30:25.501Z"
   },
   {
    "duration": 181,
    "start_time": "2024-05-07T10:30:25.710Z"
   },
   {
    "duration": 182,
    "start_time": "2024-05-07T10:30:25.892Z"
   },
   {
    "duration": 29,
    "start_time": "2024-05-07T10:30:26.075Z"
   },
   {
    "duration": 78,
    "start_time": "2024-05-07T10:32:02.694Z"
   },
   {
    "duration": 25,
    "start_time": "2024-05-07T10:32:22.335Z"
   },
   {
    "duration": 434,
    "start_time": "2024-05-07T10:34:45.351Z"
   },
   {
    "duration": 67,
    "start_time": "2024-05-07T10:34:45.787Z"
   },
   {
    "duration": 3,
    "start_time": "2024-05-07T10:34:45.855Z"
   },
   {
    "duration": 62,
    "start_time": "2024-05-07T10:34:45.860Z"
   },
   {
    "duration": 5,
    "start_time": "2024-05-07T10:34:45.924Z"
   },
   {
    "duration": 20,
    "start_time": "2024-05-07T10:34:45.931Z"
   },
   {
    "duration": 11,
    "start_time": "2024-05-07T10:34:45.952Z"
   },
   {
    "duration": 32,
    "start_time": "2024-05-07T10:34:45.965Z"
   },
   {
    "duration": 22,
    "start_time": "2024-05-07T10:34:45.999Z"
   },
   {
    "duration": 27,
    "start_time": "2024-05-07T10:34:46.023Z"
   },
   {
    "duration": 16,
    "start_time": "2024-05-07T10:34:46.051Z"
   },
   {
    "duration": 1352,
    "start_time": "2024-05-07T10:34:46.068Z"
   },
   {
    "duration": 7,
    "start_time": "2024-05-07T10:34:47.422Z"
   },
   {
    "duration": 39,
    "start_time": "2024-05-07T10:34:47.431Z"
   },
   {
    "duration": 132,
    "start_time": "2024-05-07T10:34:47.471Z"
   },
   {
    "duration": 165,
    "start_time": "2024-05-07T10:34:47.604Z"
   },
   {
    "duration": 154,
    "start_time": "2024-05-07T10:34:47.770Z"
   },
   {
    "duration": 37,
    "start_time": "2024-05-07T10:34:47.926Z"
   },
   {
    "duration": 67,
    "start_time": "2024-05-07T10:36:16.581Z"
   },
   {
    "duration": 7,
    "start_time": "2024-05-07T10:36:21.060Z"
   },
   {
    "duration": 25,
    "start_time": "2024-05-07T10:36:25.469Z"
   },
   {
    "duration": 14,
    "start_time": "2024-05-07T10:37:01.929Z"
   },
   {
    "duration": 14,
    "start_time": "2024-05-07T10:37:18.776Z"
   },
   {
    "duration": 18,
    "start_time": "2024-05-07T10:37:43.257Z"
   },
   {
    "duration": 21,
    "start_time": "2024-05-07T10:40:53.918Z"
   },
   {
    "duration": 19,
    "start_time": "2024-05-07T10:41:02.510Z"
   },
   {
    "duration": 21,
    "start_time": "2024-05-07T10:41:07.054Z"
   },
   {
    "duration": 14,
    "start_time": "2024-05-07T10:41:10.590Z"
   },
   {
    "duration": 15,
    "start_time": "2024-05-07T10:41:16.592Z"
   },
   {
    "duration": 419,
    "start_time": "2024-05-07T10:41:33.023Z"
   },
   {
    "duration": 67,
    "start_time": "2024-05-07T10:41:33.444Z"
   },
   {
    "duration": 3,
    "start_time": "2024-05-07T10:41:33.512Z"
   },
   {
    "duration": 54,
    "start_time": "2024-05-07T10:41:33.517Z"
   },
   {
    "duration": 4,
    "start_time": "2024-05-07T10:41:33.573Z"
   },
   {
    "duration": 39,
    "start_time": "2024-05-07T10:41:33.578Z"
   },
   {
    "duration": 7,
    "start_time": "2024-05-07T10:41:33.619Z"
   },
   {
    "duration": 14,
    "start_time": "2024-05-07T10:41:33.627Z"
   },
   {
    "duration": 17,
    "start_time": "2024-05-07T10:41:33.642Z"
   },
   {
    "duration": 7,
    "start_time": "2024-05-07T10:41:33.662Z"
   },
   {
    "duration": 19,
    "start_time": "2024-05-07T10:41:33.671Z"
   },
   {
    "duration": 361,
    "start_time": "2024-05-07T10:41:33.691Z"
   },
   {
    "duration": 5,
    "start_time": "2024-05-07T10:41:34.053Z"
   },
   {
    "duration": 22,
    "start_time": "2024-05-07T10:41:34.060Z"
   },
   {
    "duration": 141,
    "start_time": "2024-05-07T10:41:34.083Z"
   },
   {
    "duration": 157,
    "start_time": "2024-05-07T10:41:34.226Z"
   },
   {
    "duration": 152,
    "start_time": "2024-05-07T10:41:34.384Z"
   },
   {
    "duration": 30,
    "start_time": "2024-05-07T10:41:34.544Z"
   },
   {
    "duration": 16,
    "start_time": "2024-05-07T10:41:34.576Z"
   },
   {
    "duration": 14,
    "start_time": "2024-05-07T10:41:34.593Z"
   },
   {
    "duration": 407,
    "start_time": "2024-05-07T10:42:41.427Z"
   },
   {
    "duration": 68,
    "start_time": "2024-05-07T10:42:41.835Z"
   },
   {
    "duration": 3,
    "start_time": "2024-05-07T10:42:41.904Z"
   },
   {
    "duration": 77,
    "start_time": "2024-05-07T10:42:41.908Z"
   },
   {
    "duration": 5,
    "start_time": "2024-05-07T10:42:41.987Z"
   },
   {
    "duration": 23,
    "start_time": "2024-05-07T10:42:41.993Z"
   },
   {
    "duration": 17,
    "start_time": "2024-05-07T10:42:42.017Z"
   },
   {
    "duration": 9,
    "start_time": "2024-05-07T10:42:42.044Z"
   },
   {
    "duration": 12,
    "start_time": "2024-05-07T10:42:42.055Z"
   },
   {
    "duration": 29,
    "start_time": "2024-05-07T10:42:42.068Z"
   },
   {
    "duration": 16,
    "start_time": "2024-05-07T10:42:42.098Z"
   },
   {
    "duration": 376,
    "start_time": "2024-05-07T10:42:42.116Z"
   },
   {
    "duration": 5,
    "start_time": "2024-05-07T10:42:42.494Z"
   },
   {
    "duration": 20,
    "start_time": "2024-05-07T10:42:42.501Z"
   },
   {
    "duration": 148,
    "start_time": "2024-05-07T10:42:42.522Z"
   },
   {
    "duration": 151,
    "start_time": "2024-05-07T10:42:42.672Z"
   },
   {
    "duration": 150,
    "start_time": "2024-05-07T10:42:42.824Z"
   },
   {
    "duration": 29,
    "start_time": "2024-05-07T10:42:42.976Z"
   },
   {
    "duration": 15,
    "start_time": "2024-05-07T10:42:43.006Z"
   },
   {
    "duration": 29,
    "start_time": "2024-05-07T10:42:43.022Z"
   },
   {
    "duration": 67,
    "start_time": "2024-05-07T10:49:51.754Z"
   },
   {
    "duration": 3,
    "start_time": "2024-05-07T10:49:54.451Z"
   },
   {
    "duration": 9,
    "start_time": "2024-05-07T10:49:54.643Z"
   },
   {
    "duration": 8,
    "start_time": "2024-05-07T10:50:21.403Z"
   },
   {
    "duration": 422,
    "start_time": "2024-05-07T10:50:27.330Z"
   },
   {
    "duration": 72,
    "start_time": "2024-05-07T10:50:27.754Z"
   },
   {
    "duration": 3,
    "start_time": "2024-05-07T10:50:27.827Z"
   },
   {
    "duration": 68,
    "start_time": "2024-05-07T10:50:27.832Z"
   },
   {
    "duration": 6,
    "start_time": "2024-05-07T10:50:27.902Z"
   },
   {
    "duration": 33,
    "start_time": "2024-05-07T10:50:27.909Z"
   },
   {
    "duration": 24,
    "start_time": "2024-05-07T10:50:27.945Z"
   },
   {
    "duration": 24,
    "start_time": "2024-05-07T10:50:27.970Z"
   },
   {
    "duration": 25,
    "start_time": "2024-05-07T10:50:27.995Z"
   },
   {
    "duration": 30,
    "start_time": "2024-05-07T10:50:28.021Z"
   },
   {
    "duration": 57,
    "start_time": "2024-05-07T10:50:28.053Z"
   },
   {
    "duration": 397,
    "start_time": "2024-05-07T10:50:28.112Z"
   },
   {
    "duration": 6,
    "start_time": "2024-05-07T10:50:28.510Z"
   },
   {
    "duration": 44,
    "start_time": "2024-05-07T10:50:28.518Z"
   },
   {
    "duration": 151,
    "start_time": "2024-05-07T10:50:28.563Z"
   },
   {
    "duration": 159,
    "start_time": "2024-05-07T10:50:28.716Z"
   },
   {
    "duration": 162,
    "start_time": "2024-05-07T10:50:28.877Z"
   },
   {
    "duration": 35,
    "start_time": "2024-05-07T10:50:29.040Z"
   },
   {
    "duration": 27,
    "start_time": "2024-05-07T10:50:29.076Z"
   },
   {
    "duration": 58,
    "start_time": "2024-05-07T10:50:29.104Z"
   },
   {
    "duration": 18,
    "start_time": "2024-05-07T10:50:29.163Z"
   },
   {
    "duration": 114,
    "start_time": "2024-05-07T10:50:29.183Z"
   },
   {
    "duration": 390,
    "start_time": "2024-05-07T10:51:52.756Z"
   },
   {
    "duration": 70,
    "start_time": "2024-05-07T10:51:53.148Z"
   },
   {
    "duration": 3,
    "start_time": "2024-05-07T10:51:53.219Z"
   },
   {
    "duration": 50,
    "start_time": "2024-05-07T10:51:53.224Z"
   },
   {
    "duration": 6,
    "start_time": "2024-05-07T10:51:53.276Z"
   },
   {
    "duration": 22,
    "start_time": "2024-05-07T10:51:53.283Z"
   },
   {
    "duration": 6,
    "start_time": "2024-05-07T10:51:53.306Z"
   },
   {
    "duration": 32,
    "start_time": "2024-05-07T10:51:53.313Z"
   },
   {
    "duration": 4,
    "start_time": "2024-05-07T10:51:53.347Z"
   },
   {
    "duration": 12,
    "start_time": "2024-05-07T10:51:53.355Z"
   },
   {
    "duration": 19,
    "start_time": "2024-05-07T10:51:53.368Z"
   },
   {
    "duration": 357,
    "start_time": "2024-05-07T10:51:53.389Z"
   },
   {
    "duration": 6,
    "start_time": "2024-05-07T10:51:53.748Z"
   },
   {
    "duration": 22,
    "start_time": "2024-05-07T10:51:53.755Z"
   },
   {
    "duration": 152,
    "start_time": "2024-05-07T10:51:53.779Z"
   },
   {
    "duration": 161,
    "start_time": "2024-05-07T10:51:53.933Z"
   },
   {
    "duration": 154,
    "start_time": "2024-05-07T10:51:54.095Z"
   },
   {
    "duration": 30,
    "start_time": "2024-05-07T10:51:54.251Z"
   },
   {
    "duration": 16,
    "start_time": "2024-05-07T10:51:54.283Z"
   },
   {
    "duration": 24,
    "start_time": "2024-05-07T10:51:54.300Z"
   },
   {
    "duration": 21,
    "start_time": "2024-05-07T10:51:54.325Z"
   },
   {
    "duration": 74,
    "start_time": "2024-05-07T10:51:54.347Z"
   },
   {
    "duration": 2,
    "start_time": "2024-05-07T10:52:19.197Z"
   },
   {
    "duration": 3,
    "start_time": "2024-05-07T10:52:19.482Z"
   },
   {
    "duration": 3,
    "start_time": "2024-05-07T10:52:48.980Z"
   },
   {
    "duration": 133,
    "start_time": "2024-05-07T10:52:49.158Z"
   },
   {
    "duration": 207,
    "start_time": "2024-05-07T10:54:22.844Z"
   },
   {
    "duration": 3,
    "start_time": "2024-05-07T10:56:01.411Z"
   },
   {
    "duration": 143,
    "start_time": "2024-05-07T10:56:01.932Z"
   },
   {
    "duration": 145,
    "start_time": "2024-05-07T10:56:02.171Z"
   },
   {
    "duration": 4,
    "start_time": "2024-05-07T10:57:21.348Z"
   },
   {
    "duration": 132,
    "start_time": "2024-05-07T10:57:21.555Z"
   },
   {
    "duration": 142,
    "start_time": "2024-05-07T10:57:21.755Z"
   },
   {
    "duration": 3,
    "start_time": "2024-05-07T10:58:40.009Z"
   },
   {
    "duration": 170,
    "start_time": "2024-05-07T10:58:40.329Z"
   },
   {
    "duration": 180,
    "start_time": "2024-05-07T10:58:40.567Z"
   },
   {
    "duration": 3,
    "start_time": "2024-05-07T10:59:40.665Z"
   },
   {
    "duration": 157,
    "start_time": "2024-05-07T10:59:40.969Z"
   },
   {
    "duration": 172,
    "start_time": "2024-05-07T10:59:42.256Z"
   },
   {
    "duration": 3,
    "start_time": "2024-05-07T11:00:42.369Z"
   },
   {
    "duration": 179,
    "start_time": "2024-05-07T11:00:42.440Z"
   },
   {
    "duration": 194,
    "start_time": "2024-05-07T11:00:42.664Z"
   },
   {
    "duration": 4,
    "start_time": "2024-05-07T11:01:26.360Z"
   },
   {
    "duration": 225,
    "start_time": "2024-05-07T11:01:26.736Z"
   },
   {
    "duration": 166,
    "start_time": "2024-05-07T11:01:27.568Z"
   },
   {
    "duration": 140,
    "start_time": "2024-05-07T11:01:28.224Z"
   },
   {
    "duration": 140,
    "start_time": "2024-05-07T11:01:28.784Z"
   },
   {
    "duration": 405,
    "start_time": "2024-05-07T11:02:38.369Z"
   },
   {
    "duration": 68,
    "start_time": "2024-05-07T11:02:38.776Z"
   },
   {
    "duration": 3,
    "start_time": "2024-05-07T11:02:38.847Z"
   },
   {
    "duration": 71,
    "start_time": "2024-05-07T11:02:38.852Z"
   },
   {
    "duration": 5,
    "start_time": "2024-05-07T11:02:38.925Z"
   },
   {
    "duration": 18,
    "start_time": "2024-05-07T11:02:38.932Z"
   },
   {
    "duration": 6,
    "start_time": "2024-05-07T11:02:38.952Z"
   },
   {
    "duration": 12,
    "start_time": "2024-05-07T11:02:38.960Z"
   },
   {
    "duration": 9,
    "start_time": "2024-05-07T11:02:38.974Z"
   },
   {
    "duration": 9,
    "start_time": "2024-05-07T11:02:38.985Z"
   },
   {
    "duration": 39,
    "start_time": "2024-05-07T11:02:38.995Z"
   },
   {
    "duration": 389,
    "start_time": "2024-05-07T11:02:39.036Z"
   },
   {
    "duration": 6,
    "start_time": "2024-05-07T11:02:39.427Z"
   },
   {
    "duration": 20,
    "start_time": "2024-05-07T11:02:39.447Z"
   },
   {
    "duration": 159,
    "start_time": "2024-05-07T11:02:39.468Z"
   },
   {
    "duration": 162,
    "start_time": "2024-05-07T11:02:39.629Z"
   },
   {
    "duration": 171,
    "start_time": "2024-05-07T11:02:39.793Z"
   },
   {
    "duration": 30,
    "start_time": "2024-05-07T11:02:39.965Z"
   },
   {
    "duration": 15,
    "start_time": "2024-05-07T11:02:39.996Z"
   },
   {
    "duration": 33,
    "start_time": "2024-05-07T11:02:40.013Z"
   },
   {
    "duration": 4,
    "start_time": "2024-05-07T11:02:40.048Z"
   },
   {
    "duration": 152,
    "start_time": "2024-05-07T11:02:40.053Z"
   },
   {
    "duration": 212,
    "start_time": "2024-05-07T11:02:40.207Z"
   },
   {
    "duration": 138,
    "start_time": "2024-05-07T11:02:40.421Z"
   },
   {
    "duration": 157,
    "start_time": "2024-05-07T11:02:40.561Z"
   },
   {
    "duration": 20,
    "start_time": "2024-05-07T11:19:51.487Z"
   },
   {
    "duration": 73,
    "start_time": "2024-05-07T11:20:40.053Z"
   },
   {
    "duration": 354,
    "start_time": "2024-05-07T11:20:50.000Z"
   },
   {
    "duration": 69,
    "start_time": "2024-05-07T11:20:50.356Z"
   },
   {
    "duration": 3,
    "start_time": "2024-05-07T11:20:50.426Z"
   },
   {
    "duration": 81,
    "start_time": "2024-05-07T11:20:50.430Z"
   },
   {
    "duration": 5,
    "start_time": "2024-05-07T11:20:50.513Z"
   },
   {
    "duration": 21,
    "start_time": "2024-05-07T11:20:50.519Z"
   },
   {
    "duration": 11,
    "start_time": "2024-05-07T11:20:50.541Z"
   },
   {
    "duration": 26,
    "start_time": "2024-05-07T11:20:50.554Z"
   },
   {
    "duration": 21,
    "start_time": "2024-05-07T11:20:50.582Z"
   },
   {
    "duration": 21,
    "start_time": "2024-05-07T11:20:50.605Z"
   },
   {
    "duration": 39,
    "start_time": "2024-05-07T11:20:50.628Z"
   },
   {
    "duration": 369,
    "start_time": "2024-05-07T11:20:50.668Z"
   },
   {
    "duration": 9,
    "start_time": "2024-05-07T11:20:51.039Z"
   },
   {
    "duration": 33,
    "start_time": "2024-05-07T11:20:51.050Z"
   },
   {
    "duration": 150,
    "start_time": "2024-05-07T11:20:51.084Z"
   },
   {
    "duration": 146,
    "start_time": "2024-05-07T11:20:51.235Z"
   },
   {
    "duration": 162,
    "start_time": "2024-05-07T11:20:51.382Z"
   },
   {
    "duration": 29,
    "start_time": "2024-05-07T11:20:51.546Z"
   },
   {
    "duration": 16,
    "start_time": "2024-05-07T11:20:51.576Z"
   },
   {
    "duration": 16,
    "start_time": "2024-05-07T11:20:51.593Z"
   },
   {
    "duration": 20,
    "start_time": "2024-05-07T11:20:51.610Z"
   },
   {
    "duration": 153,
    "start_time": "2024-05-07T11:20:51.631Z"
   },
   {
    "duration": 226,
    "start_time": "2024-05-07T11:20:51.786Z"
   },
   {
    "duration": 152,
    "start_time": "2024-05-07T11:20:52.013Z"
   },
   {
    "duration": 157,
    "start_time": "2024-05-07T11:20:52.167Z"
   },
   {
    "duration": 79,
    "start_time": "2024-05-07T11:20:52.326Z"
   },
   {
    "duration": 14,
    "start_time": "2024-05-07T11:21:20.871Z"
   },
   {
    "duration": 22,
    "start_time": "2024-05-07T11:23:16.631Z"
   },
   {
    "duration": 19,
    "start_time": "2024-05-07T11:23:43.439Z"
   },
   {
    "duration": 967,
    "start_time": "2024-05-07T11:24:15.567Z"
   },
   {
    "duration": 17,
    "start_time": "2024-05-07T11:26:16.750Z"
   },
   {
    "duration": 19,
    "start_time": "2024-05-07T11:32:40.919Z"
   },
   {
    "duration": 19,
    "start_time": "2024-05-07T11:33:03.529Z"
   },
   {
    "duration": 7,
    "start_time": "2024-05-07T11:36:45.288Z"
   },
   {
    "duration": 13,
    "start_time": "2024-05-07T11:36:49.720Z"
   },
   {
    "duration": 20,
    "start_time": "2024-05-07T11:37:08.680Z"
   },
   {
    "duration": 443,
    "start_time": "2024-05-08T05:57:45.753Z"
   },
   {
    "duration": 214,
    "start_time": "2024-05-08T05:57:46.197Z"
   },
   {
    "duration": 2,
    "start_time": "2024-05-08T05:57:46.413Z"
   },
   {
    "duration": 53,
    "start_time": "2024-05-08T05:57:46.417Z"
   },
   {
    "duration": 5,
    "start_time": "2024-05-08T05:57:46.472Z"
   },
   {
    "duration": 12,
    "start_time": "2024-05-08T05:57:46.478Z"
   },
   {
    "duration": 5,
    "start_time": "2024-05-08T05:57:46.492Z"
   },
   {
    "duration": 16,
    "start_time": "2024-05-08T05:57:46.498Z"
   },
   {
    "duration": 4,
    "start_time": "2024-05-08T05:57:46.515Z"
   },
   {
    "duration": 7,
    "start_time": "2024-05-08T05:57:46.523Z"
   },
   {
    "duration": 44,
    "start_time": "2024-05-08T05:57:46.531Z"
   },
   {
    "duration": 507,
    "start_time": "2024-05-08T05:57:46.577Z"
   },
   {
    "duration": 7,
    "start_time": "2024-05-08T05:57:47.086Z"
   },
   {
    "duration": 23,
    "start_time": "2024-05-08T05:57:47.094Z"
   },
   {
    "duration": 148,
    "start_time": "2024-05-08T05:57:47.119Z"
   },
   {
    "duration": 177,
    "start_time": "2024-05-08T05:57:47.269Z"
   },
   {
    "duration": 168,
    "start_time": "2024-05-08T05:57:47.448Z"
   },
   {
    "duration": 32,
    "start_time": "2024-05-08T05:57:47.617Z"
   },
   {
    "duration": 28,
    "start_time": "2024-05-08T05:57:47.650Z"
   },
   {
    "duration": 14,
    "start_time": "2024-05-08T05:57:47.679Z"
   },
   {
    "duration": 3,
    "start_time": "2024-05-08T05:57:47.695Z"
   },
   {
    "duration": 226,
    "start_time": "2024-05-08T05:57:47.699Z"
   },
   {
    "duration": 182,
    "start_time": "2024-05-08T05:57:47.926Z"
   },
   {
    "duration": 135,
    "start_time": "2024-05-08T05:57:48.109Z"
   },
   {
    "duration": 148,
    "start_time": "2024-05-08T05:57:48.246Z"
   },
   {
    "duration": 19,
    "start_time": "2024-05-08T05:57:48.396Z"
   },
   {
    "duration": 4,
    "start_time": "2024-05-08T05:59:45.025Z"
   },
   {
    "duration": 19,
    "start_time": "2024-05-08T05:59:49.593Z"
   },
   {
    "duration": 43,
    "start_time": "2024-05-08T06:03:34.129Z"
   },
   {
    "duration": 23,
    "start_time": "2024-05-08T06:03:43.610Z"
   },
   {
    "duration": 19,
    "start_time": "2024-05-08T06:05:49.977Z"
   },
   {
    "duration": 16,
    "start_time": "2024-05-08T06:13:46.343Z"
   },
   {
    "duration": 16,
    "start_time": "2024-05-08T06:18:18.870Z"
   },
   {
    "duration": 42,
    "start_time": "2024-05-08T06:20:36.398Z"
   },
   {
    "duration": 425,
    "start_time": "2024-05-08T06:20:43.343Z"
   },
   {
    "duration": 69,
    "start_time": "2024-05-08T06:20:43.770Z"
   },
   {
    "duration": 3,
    "start_time": "2024-05-08T06:20:43.841Z"
   },
   {
    "duration": 62,
    "start_time": "2024-05-08T06:20:43.845Z"
   },
   {
    "duration": 6,
    "start_time": "2024-05-08T06:20:43.909Z"
   },
   {
    "duration": 14,
    "start_time": "2024-05-08T06:20:43.916Z"
   },
   {
    "duration": 36,
    "start_time": "2024-05-08T06:20:43.931Z"
   },
   {
    "duration": 12,
    "start_time": "2024-05-08T06:20:43.968Z"
   },
   {
    "duration": 4,
    "start_time": "2024-05-08T06:20:43.981Z"
   },
   {
    "duration": 12,
    "start_time": "2024-05-08T06:20:43.987Z"
   },
   {
    "duration": 16,
    "start_time": "2024-05-08T06:20:44.000Z"
   },
   {
    "duration": 358,
    "start_time": "2024-05-08T06:20:44.017Z"
   },
   {
    "duration": 6,
    "start_time": "2024-05-08T06:20:44.376Z"
   },
   {
    "duration": 32,
    "start_time": "2024-05-08T06:20:44.385Z"
   },
   {
    "duration": 136,
    "start_time": "2024-05-08T06:20:44.419Z"
   },
   {
    "duration": 152,
    "start_time": "2024-05-08T06:20:44.557Z"
   },
   {
    "duration": 146,
    "start_time": "2024-05-08T06:20:44.711Z"
   },
   {
    "duration": 33,
    "start_time": "2024-05-08T06:20:44.858Z"
   },
   {
    "duration": 15,
    "start_time": "2024-05-08T06:20:44.893Z"
   },
   {
    "duration": 13,
    "start_time": "2024-05-08T06:20:44.909Z"
   },
   {
    "duration": 2,
    "start_time": "2024-05-08T06:20:44.924Z"
   },
   {
    "duration": 171,
    "start_time": "2024-05-08T06:20:44.927Z"
   },
   {
    "duration": 218,
    "start_time": "2024-05-08T06:20:45.099Z"
   },
   {
    "duration": 156,
    "start_time": "2024-05-08T06:20:45.319Z"
   },
   {
    "duration": 156,
    "start_time": "2024-05-08T06:20:45.477Z"
   },
   {
    "duration": 15,
    "start_time": "2024-05-08T06:20:45.635Z"
   },
   {
    "duration": 13,
    "start_time": "2024-05-08T06:21:43.062Z"
   },
   {
    "duration": 13,
    "start_time": "2024-05-08T06:22:22.438Z"
   },
   {
    "duration": 18,
    "start_time": "2024-05-08T06:22:41.406Z"
   },
   {
    "duration": 339,
    "start_time": "2024-05-08T06:23:23.917Z"
   },
   {
    "duration": 66,
    "start_time": "2024-05-08T06:23:24.258Z"
   },
   {
    "duration": 3,
    "start_time": "2024-05-08T06:23:24.325Z"
   },
   {
    "duration": 47,
    "start_time": "2024-05-08T06:23:24.329Z"
   },
   {
    "duration": 5,
    "start_time": "2024-05-08T06:23:24.378Z"
   },
   {
    "duration": 17,
    "start_time": "2024-05-08T06:23:24.384Z"
   },
   {
    "duration": 4,
    "start_time": "2024-05-08T06:23:24.403Z"
   },
   {
    "duration": 14,
    "start_time": "2024-05-08T06:23:24.408Z"
   },
   {
    "duration": 4,
    "start_time": "2024-05-08T06:23:24.423Z"
   },
   {
    "duration": 10,
    "start_time": "2024-05-08T06:23:24.430Z"
   },
   {
    "duration": 32,
    "start_time": "2024-05-08T06:23:24.442Z"
   },
   {
    "duration": 342,
    "start_time": "2024-05-08T06:23:24.475Z"
   },
   {
    "duration": 6,
    "start_time": "2024-05-08T06:23:24.818Z"
   },
   {
    "duration": 27,
    "start_time": "2024-05-08T06:23:24.825Z"
   },
   {
    "duration": 152,
    "start_time": "2024-05-08T06:23:24.854Z"
   },
   {
    "duration": 150,
    "start_time": "2024-05-08T06:23:25.008Z"
   },
   {
    "duration": 164,
    "start_time": "2024-05-08T06:23:25.164Z"
   },
   {
    "duration": 41,
    "start_time": "2024-05-08T06:23:25.330Z"
   },
   {
    "duration": 16,
    "start_time": "2024-05-08T06:23:25.373Z"
   },
   {
    "duration": 14,
    "start_time": "2024-05-08T06:23:25.391Z"
   },
   {
    "duration": 4,
    "start_time": "2024-05-08T06:23:25.407Z"
   },
   {
    "duration": 170,
    "start_time": "2024-05-08T06:23:25.412Z"
   },
   {
    "duration": 250,
    "start_time": "2024-05-08T06:23:25.584Z"
   },
   {
    "duration": 159,
    "start_time": "2024-05-08T06:23:25.836Z"
   },
   {
    "duration": 145,
    "start_time": "2024-05-08T06:23:25.997Z"
   },
   {
    "duration": 27,
    "start_time": "2024-05-08T06:23:26.144Z"
   },
   {
    "duration": 29,
    "start_time": "2024-05-08T06:23:45.949Z"
   },
   {
    "duration": 23,
    "start_time": "2024-05-08T06:24:02.942Z"
   },
   {
    "duration": 250,
    "start_time": "2024-05-08T06:32:18.620Z"
   },
   {
    "duration": 24,
    "start_time": "2024-05-08T06:32:32.236Z"
   },
   {
    "duration": 25,
    "start_time": "2024-05-08T06:33:03.660Z"
   },
   {
    "duration": 18,
    "start_time": "2024-05-08T06:37:48.108Z"
   },
   {
    "duration": 18,
    "start_time": "2024-05-08T06:38:10.324Z"
   },
   {
    "duration": 29,
    "start_time": "2024-05-08T06:38:32.164Z"
   },
   {
    "duration": 383,
    "start_time": "2024-05-08T06:43:10.588Z"
   },
   {
    "duration": 67,
    "start_time": "2024-05-08T06:43:10.973Z"
   },
   {
    "duration": 2,
    "start_time": "2024-05-08T06:43:11.042Z"
   },
   {
    "duration": 53,
    "start_time": "2024-05-08T06:43:11.045Z"
   },
   {
    "duration": 5,
    "start_time": "2024-05-08T06:43:11.100Z"
   },
   {
    "duration": 17,
    "start_time": "2024-05-08T06:43:11.107Z"
   },
   {
    "duration": 5,
    "start_time": "2024-05-08T06:43:11.125Z"
   },
   {
    "duration": 37,
    "start_time": "2024-05-08T06:43:11.131Z"
   },
   {
    "duration": 6,
    "start_time": "2024-05-08T06:43:11.169Z"
   },
   {
    "duration": 15,
    "start_time": "2024-05-08T06:43:11.176Z"
   },
   {
    "duration": 33,
    "start_time": "2024-05-08T06:43:11.192Z"
   },
   {
    "duration": 361,
    "start_time": "2024-05-08T06:43:11.227Z"
   },
   {
    "duration": 5,
    "start_time": "2024-05-08T06:43:11.589Z"
   },
   {
    "duration": 18,
    "start_time": "2024-05-08T06:43:11.597Z"
   },
   {
    "duration": 142,
    "start_time": "2024-05-08T06:43:11.616Z"
   },
   {
    "duration": 153,
    "start_time": "2024-05-08T06:43:11.765Z"
   },
   {
    "duration": 146,
    "start_time": "2024-05-08T06:43:11.919Z"
   },
   {
    "duration": 29,
    "start_time": "2024-05-08T06:43:12.066Z"
   },
   {
    "duration": 16,
    "start_time": "2024-05-08T06:43:12.096Z"
   },
   {
    "duration": 14,
    "start_time": "2024-05-08T06:43:12.113Z"
   },
   {
    "duration": 7,
    "start_time": "2024-05-08T06:43:12.128Z"
   },
   {
    "duration": 156,
    "start_time": "2024-05-08T06:43:12.136Z"
   },
   {
    "duration": 194,
    "start_time": "2024-05-08T06:43:12.294Z"
   },
   {
    "duration": 147,
    "start_time": "2024-05-08T06:43:12.490Z"
   },
   {
    "duration": 146,
    "start_time": "2024-05-08T06:43:12.639Z"
   },
   {
    "duration": 28,
    "start_time": "2024-05-08T06:43:12.787Z"
   },
   {
    "duration": 16,
    "start_time": "2024-05-08T06:45:08.476Z"
   },
   {
    "duration": 17,
    "start_time": "2024-05-08T07:05:51.343Z"
   },
   {
    "duration": 18,
    "start_time": "2024-05-08T07:07:12.527Z"
   },
   {
    "duration": 426,
    "start_time": "2024-05-08T07:08:41.947Z"
   },
   {
    "duration": 69,
    "start_time": "2024-05-08T07:08:42.374Z"
   },
   {
    "duration": 3,
    "start_time": "2024-05-08T07:08:42.444Z"
   },
   {
    "duration": 53,
    "start_time": "2024-05-08T07:08:42.449Z"
   },
   {
    "duration": 6,
    "start_time": "2024-05-08T07:08:42.504Z"
   },
   {
    "duration": 20,
    "start_time": "2024-05-08T07:08:42.511Z"
   },
   {
    "duration": 6,
    "start_time": "2024-05-08T07:08:42.532Z"
   },
   {
    "duration": 35,
    "start_time": "2024-05-08T07:08:42.539Z"
   },
   {
    "duration": 6,
    "start_time": "2024-05-08T07:08:42.575Z"
   },
   {
    "duration": 11,
    "start_time": "2024-05-08T07:08:42.582Z"
   },
   {
    "duration": 20,
    "start_time": "2024-05-08T07:08:42.595Z"
   },
   {
    "duration": 367,
    "start_time": "2024-05-08T07:08:42.617Z"
   },
   {
    "duration": 5,
    "start_time": "2024-05-08T07:08:42.986Z"
   },
   {
    "duration": 21,
    "start_time": "2024-05-08T07:08:42.995Z"
   },
   {
    "duration": 142,
    "start_time": "2024-05-08T07:08:43.017Z"
   },
   {
    "duration": 158,
    "start_time": "2024-05-08T07:08:43.164Z"
   },
   {
    "duration": 154,
    "start_time": "2024-05-08T07:08:43.324Z"
   },
   {
    "duration": 32,
    "start_time": "2024-05-08T07:08:43.480Z"
   },
   {
    "duration": 17,
    "start_time": "2024-05-08T07:08:43.514Z"
   },
   {
    "duration": 35,
    "start_time": "2024-05-08T07:08:43.533Z"
   },
   {
    "duration": 3,
    "start_time": "2024-05-08T07:08:43.570Z"
   },
   {
    "duration": 165,
    "start_time": "2024-05-08T07:08:43.575Z"
   },
   {
    "duration": 213,
    "start_time": "2024-05-08T07:08:43.741Z"
   },
   {
    "duration": 158,
    "start_time": "2024-05-08T07:08:43.957Z"
   },
   {
    "duration": 155,
    "start_time": "2024-05-08T07:08:44.116Z"
   },
   {
    "duration": 26,
    "start_time": "2024-05-08T07:08:44.273Z"
   },
   {
    "duration": 16,
    "start_time": "2024-05-08T07:08:44.301Z"
   },
   {
    "duration": 17,
    "start_time": "2024-05-08T07:08:44.318Z"
   },
   {
    "duration": 4,
    "start_time": "2024-05-08T07:27:37.234Z"
   },
   {
    "duration": 5,
    "start_time": "2024-05-08T07:27:39.008Z"
   },
   {
    "duration": 862,
    "start_time": "2024-05-08T07:29:47.451Z"
   },
   {
    "duration": 66,
    "start_time": "2024-05-08T07:29:48.315Z"
   },
   {
    "duration": 3,
    "start_time": "2024-05-08T07:29:48.382Z"
   },
   {
    "duration": 59,
    "start_time": "2024-05-08T07:29:48.387Z"
   },
   {
    "duration": 6,
    "start_time": "2024-05-08T07:29:48.448Z"
   },
   {
    "duration": 22,
    "start_time": "2024-05-08T07:29:48.455Z"
   },
   {
    "duration": 9,
    "start_time": "2024-05-08T07:29:48.478Z"
   },
   {
    "duration": 21,
    "start_time": "2024-05-08T07:29:48.488Z"
   },
   {
    "duration": 11,
    "start_time": "2024-05-08T07:29:48.511Z"
   },
   {
    "duration": 14,
    "start_time": "2024-05-08T07:29:48.524Z"
   },
   {
    "duration": 27,
    "start_time": "2024-05-08T07:29:48.541Z"
   },
   {
    "duration": 382,
    "start_time": "2024-05-08T07:29:48.570Z"
   },
   {
    "duration": 14,
    "start_time": "2024-05-08T07:29:48.954Z"
   },
   {
    "duration": 20,
    "start_time": "2024-05-08T07:29:48.971Z"
   },
   {
    "duration": 148,
    "start_time": "2024-05-08T07:29:48.992Z"
   },
   {
    "duration": 153,
    "start_time": "2024-05-08T07:29:49.142Z"
   },
   {
    "duration": 168,
    "start_time": "2024-05-08T07:29:49.297Z"
   },
   {
    "duration": 37,
    "start_time": "2024-05-08T07:29:49.467Z"
   },
   {
    "duration": 19,
    "start_time": "2024-05-08T07:29:49.506Z"
   },
   {
    "duration": 15,
    "start_time": "2024-05-08T07:29:49.527Z"
   },
   {
    "duration": 3,
    "start_time": "2024-05-08T07:29:49.565Z"
   },
   {
    "duration": 148,
    "start_time": "2024-05-08T07:29:49.570Z"
   },
   {
    "duration": 169,
    "start_time": "2024-05-08T07:29:49.720Z"
   },
   {
    "duration": 136,
    "start_time": "2024-05-08T07:29:49.890Z"
   },
   {
    "duration": 158,
    "start_time": "2024-05-08T07:29:50.027Z"
   },
   {
    "duration": 25,
    "start_time": "2024-05-08T07:29:50.187Z"
   },
   {
    "duration": 15,
    "start_time": "2024-05-08T07:29:50.214Z"
   },
   {
    "duration": 40,
    "start_time": "2024-05-08T07:29:50.230Z"
   },
   {
    "duration": 95,
    "start_time": "2024-05-08T07:29:50.272Z"
   },
   {
    "duration": 7,
    "start_time": "2024-05-08T07:30:45.181Z"
   },
   {
    "duration": 6,
    "start_time": "2024-05-08T07:31:08.141Z"
   },
   {
    "duration": 6,
    "start_time": "2024-05-08T07:31:22.541Z"
   },
   {
    "duration": 18,
    "start_time": "2024-05-08T07:36:11.200Z"
   },
   {
    "duration": 7,
    "start_time": "2024-05-08T07:36:29.553Z"
   },
   {
    "duration": 5,
    "start_time": "2024-05-08T07:38:39.200Z"
   },
   {
    "duration": 9,
    "start_time": "2024-05-08T07:39:00.384Z"
   },
   {
    "duration": 5,
    "start_time": "2024-05-08T07:39:05.496Z"
   },
   {
    "duration": 5,
    "start_time": "2024-05-08T07:39:09.312Z"
   },
   {
    "duration": 5,
    "start_time": "2024-05-08T07:39:12.256Z"
   },
   {
    "duration": 3,
    "start_time": "2024-05-08T07:47:57.488Z"
   },
   {
    "duration": 6,
    "start_time": "2024-05-08T07:48:01.329Z"
   },
   {
    "duration": 7,
    "start_time": "2024-05-08T07:48:34.720Z"
   },
   {
    "duration": 897,
    "start_time": "2024-05-08T07:50:55.059Z"
   },
   {
    "duration": 68,
    "start_time": "2024-05-08T07:50:55.958Z"
   },
   {
    "duration": 2,
    "start_time": "2024-05-08T07:50:56.028Z"
   },
   {
    "duration": 50,
    "start_time": "2024-05-08T07:50:56.032Z"
   },
   {
    "duration": 5,
    "start_time": "2024-05-08T07:50:56.084Z"
   },
   {
    "duration": 12,
    "start_time": "2024-05-08T07:50:56.091Z"
   },
   {
    "duration": 5,
    "start_time": "2024-05-08T07:50:56.105Z"
   },
   {
    "duration": 17,
    "start_time": "2024-05-08T07:50:56.111Z"
   },
   {
    "duration": 8,
    "start_time": "2024-05-08T07:50:56.129Z"
   },
   {
    "duration": 28,
    "start_time": "2024-05-08T07:50:56.138Z"
   },
   {
    "duration": 17,
    "start_time": "2024-05-08T07:50:56.167Z"
   },
   {
    "duration": 362,
    "start_time": "2024-05-08T07:50:56.185Z"
   },
   {
    "duration": 5,
    "start_time": "2024-05-08T07:50:56.549Z"
   },
   {
    "duration": 22,
    "start_time": "2024-05-08T07:50:56.566Z"
   },
   {
    "duration": 147,
    "start_time": "2024-05-08T07:50:56.590Z"
   },
   {
    "duration": 167,
    "start_time": "2024-05-08T07:50:56.738Z"
   },
   {
    "duration": 153,
    "start_time": "2024-05-08T07:50:56.906Z"
   },
   {
    "duration": 33,
    "start_time": "2024-05-08T07:50:57.064Z"
   },
   {
    "duration": 16,
    "start_time": "2024-05-08T07:50:57.098Z"
   },
   {
    "duration": 15,
    "start_time": "2024-05-08T07:50:57.116Z"
   },
   {
    "duration": 3,
    "start_time": "2024-05-08T07:50:57.133Z"
   },
   {
    "duration": 181,
    "start_time": "2024-05-08T07:50:57.138Z"
   },
   {
    "duration": 159,
    "start_time": "2024-05-08T07:50:57.321Z"
   },
   {
    "duration": 147,
    "start_time": "2024-05-08T07:50:57.481Z"
   },
   {
    "duration": 158,
    "start_time": "2024-05-08T07:50:57.630Z"
   },
   {
    "duration": 24,
    "start_time": "2024-05-08T07:50:57.790Z"
   },
   {
    "duration": 16,
    "start_time": "2024-05-08T07:50:57.815Z"
   },
   {
    "duration": 39,
    "start_time": "2024-05-08T07:50:57.832Z"
   },
   {
    "duration": 6,
    "start_time": "2024-05-08T07:50:57.872Z"
   },
   {
    "duration": 12,
    "start_time": "2024-05-08T07:50:57.879Z"
   },
   {
    "duration": 7,
    "start_time": "2024-05-08T07:55:40.002Z"
   },
   {
    "duration": 6,
    "start_time": "2024-05-08T07:57:34.657Z"
   },
   {
    "duration": 8,
    "start_time": "2024-05-08T07:57:38.529Z"
   },
   {
    "duration": 8,
    "start_time": "2024-05-08T07:59:25.193Z"
   },
   {
    "duration": 8,
    "start_time": "2024-05-08T07:59:29.577Z"
   },
   {
    "duration": 8,
    "start_time": "2024-05-08T07:59:41.225Z"
   },
   {
    "duration": 8,
    "start_time": "2024-05-08T08:00:58.585Z"
   },
   {
    "duration": 15,
    "start_time": "2024-05-08T08:01:18.170Z"
   },
   {
    "duration": 18,
    "start_time": "2024-05-08T08:01:24.257Z"
   },
   {
    "duration": 6,
    "start_time": "2024-05-08T08:04:46.378Z"
   },
   {
    "duration": 834,
    "start_time": "2024-05-08T21:37:32.662Z"
   },
   {
    "duration": 214,
    "start_time": "2024-05-08T21:37:33.498Z"
   },
   {
    "duration": 3,
    "start_time": "2024-05-08T21:37:33.713Z"
   },
   {
    "duration": 48,
    "start_time": "2024-05-08T21:37:33.717Z"
   },
   {
    "duration": 6,
    "start_time": "2024-05-08T21:37:33.767Z"
   },
   {
    "duration": 10,
    "start_time": "2024-05-08T21:37:33.774Z"
   },
   {
    "duration": 5,
    "start_time": "2024-05-08T21:37:33.786Z"
   },
   {
    "duration": 9,
    "start_time": "2024-05-08T21:37:33.792Z"
   },
   {
    "duration": 44,
    "start_time": "2024-05-08T21:37:33.802Z"
   },
   {
    "duration": 7,
    "start_time": "2024-05-08T21:37:33.847Z"
   },
   {
    "duration": 15,
    "start_time": "2024-05-08T21:37:33.856Z"
   },
   {
    "duration": 529,
    "start_time": "2024-05-08T21:37:33.872Z"
   },
   {
    "duration": 6,
    "start_time": "2024-05-08T21:37:34.404Z"
   },
   {
    "duration": 35,
    "start_time": "2024-05-08T21:37:34.413Z"
   },
   {
    "duration": 135,
    "start_time": "2024-05-08T21:37:34.450Z"
   },
   {
    "duration": 149,
    "start_time": "2024-05-08T21:37:34.586Z"
   },
   {
    "duration": 151,
    "start_time": "2024-05-08T21:37:34.737Z"
   },
   {
    "duration": 31,
    "start_time": "2024-05-08T21:37:34.890Z"
   },
   {
    "duration": 31,
    "start_time": "2024-05-08T21:37:34.923Z"
   },
   {
    "duration": 13,
    "start_time": "2024-05-08T21:37:34.956Z"
   },
   {
    "duration": 3,
    "start_time": "2024-05-08T21:37:34.971Z"
   },
   {
    "duration": 157,
    "start_time": "2024-05-08T21:37:34.975Z"
   },
   {
    "duration": 158,
    "start_time": "2024-05-08T21:37:35.133Z"
   },
   {
    "duration": 137,
    "start_time": "2024-05-08T21:37:35.292Z"
   },
   {
    "duration": 164,
    "start_time": "2024-05-08T21:37:35.431Z"
   },
   {
    "duration": 22,
    "start_time": "2024-05-08T21:37:35.596Z"
   },
   {
    "duration": 30,
    "start_time": "2024-05-08T21:37:35.620Z"
   },
   {
    "duration": 16,
    "start_time": "2024-05-08T21:37:35.651Z"
   },
   {
    "duration": 13,
    "start_time": "2024-05-08T21:37:35.668Z"
   },
   {
    "duration": 5,
    "start_time": "2024-05-08T21:37:35.682Z"
   },
   {
    "duration": 6,
    "start_time": "2024-05-08T21:37:35.689Z"
   },
   {
    "duration": 2,
    "start_time": "2024-05-09T04:24:38.016Z"
   },
   {
    "duration": 317,
    "start_time": "2024-05-09T04:24:38.020Z"
   },
   {
    "duration": 3,
    "start_time": "2024-05-09T04:24:38.339Z"
   },
   {
    "duration": 57,
    "start_time": "2024-05-09T04:24:38.344Z"
   },
   {
    "duration": 7,
    "start_time": "2024-05-09T04:24:38.403Z"
   },
   {
    "duration": 35,
    "start_time": "2024-05-09T04:24:38.411Z"
   },
   {
    "duration": 6,
    "start_time": "2024-05-09T04:24:38.448Z"
   },
   {
    "duration": 15,
    "start_time": "2024-05-09T04:24:38.469Z"
   },
   {
    "duration": 19,
    "start_time": "2024-05-09T04:24:38.486Z"
   },
   {
    "duration": 14,
    "start_time": "2024-05-09T04:24:38.506Z"
   },
   {
    "duration": 14,
    "start_time": "2024-05-09T04:24:38.521Z"
   },
   {
    "duration": 23,
    "start_time": "2024-05-09T04:24:38.536Z"
   },
   {
    "duration": 576,
    "start_time": "2024-05-09T04:24:38.561Z"
   },
   {
    "duration": 6,
    "start_time": "2024-05-09T04:24:39.141Z"
   },
   {
    "duration": 33,
    "start_time": "2024-05-09T04:24:39.149Z"
   },
   {
    "duration": 143,
    "start_time": "2024-05-09T04:24:39.184Z"
   },
   {
    "duration": 163,
    "start_time": "2024-05-09T04:24:39.328Z"
   },
   {
    "duration": 152,
    "start_time": "2024-05-09T04:24:39.493Z"
   },
   {
    "duration": 36,
    "start_time": "2024-05-09T04:24:39.646Z"
   },
   {
    "duration": 16,
    "start_time": "2024-05-09T04:24:39.683Z"
   },
   {
    "duration": 16,
    "start_time": "2024-05-09T04:24:39.701Z"
   },
   {
    "duration": 5,
    "start_time": "2024-05-09T04:24:39.718Z"
   },
   {
    "duration": 176,
    "start_time": "2024-05-09T04:24:39.724Z"
   },
   {
    "duration": 185,
    "start_time": "2024-05-09T04:24:39.902Z"
   },
   {
    "duration": 148,
    "start_time": "2024-05-09T04:24:40.089Z"
   },
   {
    "duration": 161,
    "start_time": "2024-05-09T04:24:40.238Z"
   },
   {
    "duration": 25,
    "start_time": "2024-05-09T04:24:40.401Z"
   },
   {
    "duration": 18,
    "start_time": "2024-05-09T04:24:40.428Z"
   },
   {
    "duration": 18,
    "start_time": "2024-05-09T04:24:40.473Z"
   },
   {
    "duration": 5,
    "start_time": "2024-05-09T04:24:40.493Z"
   },
   {
    "duration": 10,
    "start_time": "2024-05-09T04:24:40.500Z"
   },
   {
    "duration": 8,
    "start_time": "2024-05-09T04:24:40.511Z"
   },
   {
    "duration": 5,
    "start_time": "2024-05-09T04:25:08.487Z"
   },
   {
    "duration": 5,
    "start_time": "2024-05-09T04:25:18.827Z"
   },
   {
    "duration": 852,
    "start_time": "2024-05-09T04:26:57.478Z"
   },
   {
    "duration": 66,
    "start_time": "2024-05-09T04:26:58.332Z"
   },
   {
    "duration": 3,
    "start_time": "2024-05-09T04:26:58.399Z"
   },
   {
    "duration": 64,
    "start_time": "2024-05-09T04:26:58.403Z"
   },
   {
    "duration": 5,
    "start_time": "2024-05-09T04:26:58.469Z"
   },
   {
    "duration": 11,
    "start_time": "2024-05-09T04:26:58.475Z"
   },
   {
    "duration": 4,
    "start_time": "2024-05-09T04:26:58.488Z"
   },
   {
    "duration": 16,
    "start_time": "2024-05-09T04:26:58.493Z"
   },
   {
    "duration": 21,
    "start_time": "2024-05-09T04:26:58.510Z"
   },
   {
    "duration": 22,
    "start_time": "2024-05-09T04:26:58.532Z"
   },
   {
    "duration": 8,
    "start_time": "2024-05-09T04:26:58.556Z"
   },
   {
    "duration": 20,
    "start_time": "2024-05-09T04:26:58.566Z"
   },
   {
    "duration": 367,
    "start_time": "2024-05-09T04:26:58.588Z"
   },
   {
    "duration": 6,
    "start_time": "2024-05-09T04:26:58.957Z"
   },
   {
    "duration": 23,
    "start_time": "2024-05-09T04:26:58.969Z"
   },
   {
    "duration": 135,
    "start_time": "2024-05-09T04:26:58.994Z"
   },
   {
    "duration": 161,
    "start_time": "2024-05-09T04:26:59.131Z"
   },
   {
    "duration": 164,
    "start_time": "2024-05-09T04:26:59.294Z"
   },
   {
    "duration": 45,
    "start_time": "2024-05-09T04:26:59.459Z"
   },
   {
    "duration": 16,
    "start_time": "2024-05-09T04:26:59.505Z"
   },
   {
    "duration": 15,
    "start_time": "2024-05-09T04:26:59.523Z"
   },
   {
    "duration": 3,
    "start_time": "2024-05-09T04:26:59.539Z"
   },
   {
    "duration": 152,
    "start_time": "2024-05-09T04:26:59.569Z"
   },
   {
    "duration": 158,
    "start_time": "2024-05-09T04:26:59.723Z"
   },
   {
    "duration": 155,
    "start_time": "2024-05-09T04:26:59.883Z"
   },
   {
    "duration": 165,
    "start_time": "2024-05-09T04:27:00.040Z"
   },
   {
    "duration": 24,
    "start_time": "2024-05-09T04:27:00.207Z"
   },
   {
    "duration": 38,
    "start_time": "2024-05-09T04:27:00.232Z"
   },
   {
    "duration": 51,
    "start_time": "2024-05-09T04:27:00.272Z"
   },
   {
    "duration": 52,
    "start_time": "2024-05-09T04:27:00.324Z"
   },
   {
    "duration": 73,
    "start_time": "2024-05-09T04:27:00.378Z"
   },
   {
    "duration": 61,
    "start_time": "2024-05-09T04:27:00.452Z"
   },
   {
    "duration": 100,
    "start_time": "2024-05-09T04:35:14.270Z"
   },
   {
    "duration": 1007,
    "start_time": "2024-05-09T04:35:19.323Z"
   },
   {
    "duration": 139,
    "start_time": "2024-05-09T04:35:20.332Z"
   },
   {
    "duration": 3,
    "start_time": "2024-05-09T04:35:20.473Z"
   },
   {
    "duration": 111,
    "start_time": "2024-05-09T04:35:20.477Z"
   },
   {
    "duration": 6,
    "start_time": "2024-05-09T04:35:20.590Z"
   },
   {
    "duration": 21,
    "start_time": "2024-05-09T04:35:20.597Z"
   },
   {
    "duration": 54,
    "start_time": "2024-05-09T04:35:20.619Z"
   },
   {
    "duration": 35,
    "start_time": "2024-05-09T04:35:20.675Z"
   },
   {
    "duration": 8,
    "start_time": "2024-05-09T04:35:20.712Z"
   },
   {
    "duration": 52,
    "start_time": "2024-05-09T04:35:20.721Z"
   },
   {
    "duration": 29,
    "start_time": "2024-05-09T04:35:20.775Z"
   },
   {
    "duration": 19,
    "start_time": "2024-05-09T04:35:20.806Z"
   },
   {
    "duration": 184,
    "start_time": "2024-05-09T04:35:20.827Z"
   },
   {
    "duration": 0,
    "start_time": "2024-05-09T04:35:21.013Z"
   },
   {
    "duration": 0,
    "start_time": "2024-05-09T04:35:21.014Z"
   },
   {
    "duration": 0,
    "start_time": "2024-05-09T04:35:21.015Z"
   },
   {
    "duration": 0,
    "start_time": "2024-05-09T04:35:21.016Z"
   },
   {
    "duration": 0,
    "start_time": "2024-05-09T04:35:21.070Z"
   },
   {
    "duration": 0,
    "start_time": "2024-05-09T04:35:21.071Z"
   },
   {
    "duration": 0,
    "start_time": "2024-05-09T04:35:21.072Z"
   },
   {
    "duration": 0,
    "start_time": "2024-05-09T04:35:21.073Z"
   },
   {
    "duration": 0,
    "start_time": "2024-05-09T04:35:21.074Z"
   },
   {
    "duration": 0,
    "start_time": "2024-05-09T04:35:21.075Z"
   },
   {
    "duration": 0,
    "start_time": "2024-05-09T04:35:21.076Z"
   },
   {
    "duration": 0,
    "start_time": "2024-05-09T04:35:21.077Z"
   },
   {
    "duration": 0,
    "start_time": "2024-05-09T04:35:21.078Z"
   },
   {
    "duration": 0,
    "start_time": "2024-05-09T04:35:21.079Z"
   },
   {
    "duration": 0,
    "start_time": "2024-05-09T04:35:21.080Z"
   },
   {
    "duration": 0,
    "start_time": "2024-05-09T04:35:21.081Z"
   },
   {
    "duration": 0,
    "start_time": "2024-05-09T04:35:21.081Z"
   },
   {
    "duration": 0,
    "start_time": "2024-05-09T04:35:21.083Z"
   },
   {
    "duration": 0,
    "start_time": "2024-05-09T04:35:21.084Z"
   },
   {
    "duration": 139,
    "start_time": "2024-05-09T04:38:43.736Z"
   },
   {
    "duration": 130,
    "start_time": "2024-05-09T04:39:22.755Z"
   },
   {
    "duration": 137,
    "start_time": "2024-05-09T04:40:01.063Z"
   },
   {
    "duration": 127,
    "start_time": "2024-05-09T04:40:47.983Z"
   },
   {
    "duration": 67,
    "start_time": "2024-05-09T04:41:42.624Z"
   },
   {
    "duration": 142,
    "start_time": "2024-05-09T04:41:48.236Z"
   },
   {
    "duration": 149,
    "start_time": "2024-05-09T04:42:07.493Z"
   },
   {
    "duration": 12,
    "start_time": "2024-05-09T04:43:57.535Z"
   },
   {
    "duration": 7,
    "start_time": "2024-05-09T04:44:10.670Z"
   },
   {
    "duration": 10,
    "start_time": "2024-05-09T04:45:20.195Z"
   },
   {
    "duration": 112,
    "start_time": "2024-05-09T04:45:28.063Z"
   },
   {
    "duration": 10,
    "start_time": "2024-05-09T04:46:18.103Z"
   },
   {
    "duration": 1116,
    "start_time": "2024-05-09T04:47:46.860Z"
   },
   {
    "duration": 93,
    "start_time": "2024-05-09T04:47:47.977Z"
   },
   {
    "duration": 3,
    "start_time": "2024-05-09T04:47:48.071Z"
   },
   {
    "duration": 113,
    "start_time": "2024-05-09T04:47:48.076Z"
   },
   {
    "duration": 7,
    "start_time": "2024-05-09T04:47:48.191Z"
   },
   {
    "duration": 78,
    "start_time": "2024-05-09T04:47:48.200Z"
   },
   {
    "duration": 5,
    "start_time": "2024-05-09T04:47:48.280Z"
   },
   {
    "duration": 34,
    "start_time": "2024-05-09T04:47:48.286Z"
   },
   {
    "duration": 51,
    "start_time": "2024-05-09T04:47:48.321Z"
   },
   {
    "duration": 20,
    "start_time": "2024-05-09T04:47:48.374Z"
   },
   {
    "duration": 8,
    "start_time": "2024-05-09T04:47:48.396Z"
   },
   {
    "duration": 65,
    "start_time": "2024-05-09T04:47:48.405Z"
   },
   {
    "duration": 613,
    "start_time": "2024-05-09T04:47:48.472Z"
   },
   {
    "duration": 6,
    "start_time": "2024-05-09T04:47:49.087Z"
   },
   {
    "duration": 43,
    "start_time": "2024-05-09T04:47:49.094Z"
   },
   {
    "duration": 126,
    "start_time": "2024-05-09T04:47:49.139Z"
   },
   {
    "duration": 153,
    "start_time": "2024-05-09T04:47:49.269Z"
   },
   {
    "duration": 151,
    "start_time": "2024-05-09T04:47:49.424Z"
   },
   {
    "duration": 31,
    "start_time": "2024-05-09T04:47:49.577Z"
   },
   {
    "duration": 17,
    "start_time": "2024-05-09T04:47:49.609Z"
   },
   {
    "duration": 15,
    "start_time": "2024-05-09T04:47:49.627Z"
   },
   {
    "duration": 27,
    "start_time": "2024-05-09T04:47:49.643Z"
   },
   {
    "duration": 143,
    "start_time": "2024-05-09T04:47:49.672Z"
   },
   {
    "duration": 165,
    "start_time": "2024-05-09T04:47:49.817Z"
   },
   {
    "duration": 145,
    "start_time": "2024-05-09T04:47:49.984Z"
   },
   {
    "duration": 174,
    "start_time": "2024-05-09T04:47:50.131Z"
   },
   {
    "duration": 25,
    "start_time": "2024-05-09T04:47:50.307Z"
   },
   {
    "duration": 17,
    "start_time": "2024-05-09T04:47:50.336Z"
   },
   {
    "duration": 31,
    "start_time": "2024-05-09T04:47:50.355Z"
   },
   {
    "duration": 12,
    "start_time": "2024-05-09T04:47:50.387Z"
   },
   {
    "duration": 44,
    "start_time": "2024-05-09T04:47:50.401Z"
   },
   {
    "duration": 23,
    "start_time": "2024-05-09T04:47:50.447Z"
   },
   {
    "duration": 79,
    "start_time": "2024-05-09T04:47:56.273Z"
   },
   {
    "duration": 132,
    "start_time": "2024-05-09T04:48:21.493Z"
   },
   {
    "duration": 214,
    "start_time": "2024-05-09T04:49:17.101Z"
   },
   {
    "duration": 98,
    "start_time": "2024-05-09T04:49:36.293Z"
   },
   {
    "duration": 196,
    "start_time": "2024-05-09T04:49:45.053Z"
   },
   {
    "duration": 136,
    "start_time": "2024-05-09T04:51:08.933Z"
   },
   {
    "duration": 136,
    "start_time": "2024-05-09T04:51:12.493Z"
   },
   {
    "duration": 142,
    "start_time": "2024-05-09T04:51:26.480Z"
   },
   {
    "duration": 141,
    "start_time": "2024-05-09T04:53:14.212Z"
   },
   {
    "duration": 144,
    "start_time": "2024-05-09T04:53:25.084Z"
   },
   {
    "duration": 202,
    "start_time": "2024-05-09T04:55:02.841Z"
   },
   {
    "duration": 25,
    "start_time": "2024-05-09T04:57:02.440Z"
   },
   {
    "duration": 26,
    "start_time": "2024-05-09T04:57:50.620Z"
   },
   {
    "duration": 834,
    "start_time": "2024-05-09T04:58:03.280Z"
   },
   {
    "duration": 72,
    "start_time": "2024-05-09T04:58:04.116Z"
   },
   {
    "duration": 4,
    "start_time": "2024-05-09T04:58:04.189Z"
   },
   {
    "duration": 58,
    "start_time": "2024-05-09T04:58:04.195Z"
   },
   {
    "duration": 19,
    "start_time": "2024-05-09T04:58:04.254Z"
   },
   {
    "duration": 30,
    "start_time": "2024-05-09T04:58:04.275Z"
   },
   {
    "duration": 5,
    "start_time": "2024-05-09T04:58:04.306Z"
   },
   {
    "duration": 8,
    "start_time": "2024-05-09T04:58:04.313Z"
   },
   {
    "duration": 10,
    "start_time": "2024-05-09T04:58:04.323Z"
   },
   {
    "duration": 6,
    "start_time": "2024-05-09T04:58:04.335Z"
   },
   {
    "duration": 9,
    "start_time": "2024-05-09T04:58:04.342Z"
   },
   {
    "duration": 28,
    "start_time": "2024-05-09T04:58:04.353Z"
   },
   {
    "duration": 413,
    "start_time": "2024-05-09T04:58:04.382Z"
   },
   {
    "duration": 6,
    "start_time": "2024-05-09T04:58:04.797Z"
   },
   {
    "duration": 28,
    "start_time": "2024-05-09T04:58:04.805Z"
   },
   {
    "duration": 159,
    "start_time": "2024-05-09T04:58:04.835Z"
   },
   {
    "duration": 164,
    "start_time": "2024-05-09T04:58:04.996Z"
   },
   {
    "duration": 155,
    "start_time": "2024-05-09T04:58:05.161Z"
   },
   {
    "duration": 33,
    "start_time": "2024-05-09T04:58:05.318Z"
   },
   {
    "duration": 31,
    "start_time": "2024-05-09T04:58:05.353Z"
   },
   {
    "duration": 15,
    "start_time": "2024-05-09T04:58:05.386Z"
   },
   {
    "duration": 4,
    "start_time": "2024-05-09T04:58:05.402Z"
   },
   {
    "duration": 174,
    "start_time": "2024-05-09T04:58:05.408Z"
   },
   {
    "duration": 177,
    "start_time": "2024-05-09T04:58:05.584Z"
   },
   {
    "duration": 168,
    "start_time": "2024-05-09T04:58:05.762Z"
   },
   {
    "duration": 162,
    "start_time": "2024-05-09T04:58:05.932Z"
   },
   {
    "duration": 28,
    "start_time": "2024-05-09T04:58:06.096Z"
   },
   {
    "duration": 17,
    "start_time": "2024-05-09T04:58:06.126Z"
   },
   {
    "duration": 39,
    "start_time": "2024-05-09T04:58:06.145Z"
   },
   {
    "duration": 8,
    "start_time": "2024-05-09T04:58:06.186Z"
   },
   {
    "duration": 7,
    "start_time": "2024-05-09T04:58:06.196Z"
   },
   {
    "duration": 39,
    "start_time": "2024-05-09T04:58:06.205Z"
   },
   {
    "duration": 232,
    "start_time": "2024-05-09T05:04:55.653Z"
   },
   {
    "duration": 155,
    "start_time": "2024-05-09T05:05:45.861Z"
   },
   {
    "duration": 170,
    "start_time": "2024-05-09T05:06:04.140Z"
   },
   {
    "duration": 7,
    "start_time": "2024-05-09T05:09:11.051Z"
   },
   {
    "duration": 7,
    "start_time": "2024-05-09T05:09:32.720Z"
   },
   {
    "duration": 16,
    "start_time": "2024-05-09T05:10:00.040Z"
   },
   {
    "duration": 10,
    "start_time": "2024-05-09T05:10:11.592Z"
   },
   {
    "duration": 6,
    "start_time": "2024-05-09T05:10:31.713Z"
   },
   {
    "duration": 67,
    "start_time": "2024-05-09T05:10:44.420Z"
   },
   {
    "duration": 10,
    "start_time": "2024-05-09T05:10:48.392Z"
   },
   {
    "duration": 7,
    "start_time": "2024-05-09T05:10:56.020Z"
   },
   {
    "duration": 72,
    "start_time": "2024-05-09T05:11:18.640Z"
   },
   {
    "duration": 7,
    "start_time": "2024-05-09T05:11:46.319Z"
   },
   {
    "duration": 6,
    "start_time": "2024-05-09T05:11:52.732Z"
   },
   {
    "duration": 6,
    "start_time": "2024-05-09T05:12:29.140Z"
   },
   {
    "duration": 140,
    "start_time": "2024-05-09T05:12:53.560Z"
   },
   {
    "duration": 73,
    "start_time": "2024-05-09T05:14:03.160Z"
   },
   {
    "duration": 85,
    "start_time": "2024-05-09T05:15:18.460Z"
   },
   {
    "duration": 855,
    "start_time": "2024-05-09T05:17:25.742Z"
   },
   {
    "duration": 66,
    "start_time": "2024-05-09T05:17:26.599Z"
   },
   {
    "duration": 3,
    "start_time": "2024-05-09T05:17:26.667Z"
   },
   {
    "duration": 52,
    "start_time": "2024-05-09T05:17:26.672Z"
   },
   {
    "duration": 6,
    "start_time": "2024-05-09T05:17:26.726Z"
   },
   {
    "duration": 41,
    "start_time": "2024-05-09T05:17:26.733Z"
   },
   {
    "duration": 5,
    "start_time": "2024-05-09T05:17:26.776Z"
   },
   {
    "duration": 16,
    "start_time": "2024-05-09T05:17:26.782Z"
   },
   {
    "duration": 35,
    "start_time": "2024-05-09T05:17:26.799Z"
   },
   {
    "duration": 25,
    "start_time": "2024-05-09T05:17:26.836Z"
   },
   {
    "duration": 19,
    "start_time": "2024-05-09T05:17:26.862Z"
   },
   {
    "duration": 35,
    "start_time": "2024-05-09T05:17:26.882Z"
   },
   {
    "duration": 410,
    "start_time": "2024-05-09T05:17:26.919Z"
   },
   {
    "duration": 6,
    "start_time": "2024-05-09T05:17:27.332Z"
   },
   {
    "duration": 31,
    "start_time": "2024-05-09T05:17:27.339Z"
   },
   {
    "duration": 6,
    "start_time": "2024-05-09T05:17:27.372Z"
   },
   {
    "duration": 94,
    "start_time": "2024-05-09T05:17:27.380Z"
   },
   {
    "duration": 154,
    "start_time": "2024-05-09T05:17:27.476Z"
   },
   {
    "duration": 167,
    "start_time": "2024-05-09T05:17:27.632Z"
   },
   {
    "duration": 165,
    "start_time": "2024-05-09T05:17:27.800Z"
   },
   {
    "duration": 33,
    "start_time": "2024-05-09T05:17:27.966Z"
   },
   {
    "duration": 16,
    "start_time": "2024-05-09T05:17:28.001Z"
   },
   {
    "duration": 15,
    "start_time": "2024-05-09T05:17:28.018Z"
   },
   {
    "duration": 4,
    "start_time": "2024-05-09T05:17:28.034Z"
   },
   {
    "duration": 181,
    "start_time": "2024-05-09T05:17:28.039Z"
   },
   {
    "duration": 167,
    "start_time": "2024-05-09T05:17:28.221Z"
   },
   {
    "duration": 185,
    "start_time": "2024-05-09T05:17:28.389Z"
   },
   {
    "duration": 315,
    "start_time": "2024-05-09T05:17:28.576Z"
   },
   {
    "duration": 89,
    "start_time": "2024-05-09T05:17:28.892Z"
   },
   {
    "duration": 21,
    "start_time": "2024-05-09T05:17:28.983Z"
   },
   {
    "duration": 74,
    "start_time": "2024-05-09T05:17:29.006Z"
   },
   {
    "duration": 5,
    "start_time": "2024-05-09T05:17:29.082Z"
   },
   {
    "duration": 36,
    "start_time": "2024-05-09T05:17:29.088Z"
   },
   {
    "duration": 51,
    "start_time": "2024-05-09T05:17:29.126Z"
   },
   {
    "duration": 117,
    "start_time": "2024-05-09T05:27:56.236Z"
   },
   {
    "duration": 129,
    "start_time": "2024-05-09T05:28:25.064Z"
   },
   {
    "duration": 16,
    "start_time": "2024-05-09T05:38:29.407Z"
   },
   {
    "duration": 15,
    "start_time": "2024-05-09T05:39:44.307Z"
   },
   {
    "duration": 382,
    "start_time": "2024-05-09T05:40:19.799Z"
   },
   {
    "duration": 180,
    "start_time": "2024-05-09T05:40:32.888Z"
   },
   {
    "duration": 171,
    "start_time": "2024-05-09T05:41:06.656Z"
   },
   {
    "duration": 15,
    "start_time": "2024-05-09T05:44:01.593Z"
   },
   {
    "duration": 10,
    "start_time": "2024-05-09T05:44:18.321Z"
   },
   {
    "duration": 8,
    "start_time": "2024-05-09T05:44:25.334Z"
   },
   {
    "duration": 17,
    "start_time": "2024-05-09T05:44:33.434Z"
   },
   {
    "duration": 93,
    "start_time": "2024-05-09T05:47:58.754Z"
   },
   {
    "duration": 8,
    "start_time": "2024-05-09T05:48:02.345Z"
   },
   {
    "duration": 5,
    "start_time": "2024-05-09T05:48:18.874Z"
   },
   {
    "duration": 6,
    "start_time": "2024-05-09T05:51:49.273Z"
   },
   {
    "duration": 18,
    "start_time": "2024-05-09T05:52:08.734Z"
   },
   {
    "duration": 21,
    "start_time": "2024-05-09T05:53:23.761Z"
   },
   {
    "duration": 17,
    "start_time": "2024-05-09T05:53:30.820Z"
   },
   {
    "duration": 6,
    "start_time": "2024-05-09T05:56:11.017Z"
   },
   {
    "duration": 6,
    "start_time": "2024-05-09T05:57:27.184Z"
   },
   {
    "duration": 7,
    "start_time": "2024-05-09T05:57:33.624Z"
   },
   {
    "duration": 6,
    "start_time": "2024-05-09T05:57:50.809Z"
   },
   {
    "duration": 5,
    "start_time": "2024-05-09T05:58:34.551Z"
   },
   {
    "duration": 6,
    "start_time": "2024-05-09T05:58:38.099Z"
   },
   {
    "duration": 7,
    "start_time": "2024-05-09T05:58:40.870Z"
   },
   {
    "duration": 13,
    "start_time": "2024-05-09T05:59:58.021Z"
   },
   {
    "duration": 16,
    "start_time": "2024-05-09T06:00:37.501Z"
   },
   {
    "duration": 9,
    "start_time": "2024-05-09T06:01:07.220Z"
   },
   {
    "duration": 828,
    "start_time": "2024-05-09T07:50:02.362Z"
   },
   {
    "duration": 198,
    "start_time": "2024-05-09T07:50:03.192Z"
   },
   {
    "duration": 2,
    "start_time": "2024-05-09T07:50:03.392Z"
   },
   {
    "duration": 46,
    "start_time": "2024-05-09T07:50:03.396Z"
   },
   {
    "duration": 5,
    "start_time": "2024-05-09T07:50:03.444Z"
   },
   {
    "duration": 17,
    "start_time": "2024-05-09T07:50:03.451Z"
   },
   {
    "duration": 15,
    "start_time": "2024-05-09T07:50:03.469Z"
   },
   {
    "duration": 13,
    "start_time": "2024-05-09T07:50:03.485Z"
   },
   {
    "duration": 6,
    "start_time": "2024-05-09T07:50:03.499Z"
   },
   {
    "duration": 5,
    "start_time": "2024-05-09T07:50:03.507Z"
   },
   {
    "duration": 8,
    "start_time": "2024-05-09T07:50:03.513Z"
   },
   {
    "duration": 21,
    "start_time": "2024-05-09T07:50:03.523Z"
   },
   {
    "duration": 548,
    "start_time": "2024-05-09T07:50:03.565Z"
   },
   {
    "duration": 5,
    "start_time": "2024-05-09T07:50:04.116Z"
   },
   {
    "duration": 80,
    "start_time": "2024-05-09T07:50:04.123Z"
   },
   {
    "duration": 83,
    "start_time": "2024-05-09T07:50:04.205Z"
   },
   {
    "duration": 91,
    "start_time": "2024-05-09T07:50:04.289Z"
   },
   {
    "duration": 149,
    "start_time": "2024-05-09T07:50:04.383Z"
   },
   {
    "duration": 155,
    "start_time": "2024-05-09T07:50:04.533Z"
   },
   {
    "duration": 114,
    "start_time": "2024-05-09T07:50:04.689Z"
   },
   {
    "duration": 13,
    "start_time": "2024-05-09T07:50:04.805Z"
   },
   {
    "duration": 14,
    "start_time": "2024-05-09T07:50:04.819Z"
   },
   {
    "duration": 30,
    "start_time": "2024-05-09T07:50:04.835Z"
   },
   {
    "duration": 21,
    "start_time": "2024-05-09T07:50:04.866Z"
   },
   {
    "duration": 22,
    "start_time": "2024-05-09T07:50:04.889Z"
   },
   {
    "duration": 19,
    "start_time": "2024-05-09T07:50:04.912Z"
   },
   {
    "duration": 22,
    "start_time": "2024-05-09T07:50:04.932Z"
   },
   {
    "duration": 142,
    "start_time": "2024-05-09T07:50:04.956Z"
   },
   {
    "duration": 30,
    "start_time": "2024-05-09T07:50:05.100Z"
   },
   {
    "duration": 15,
    "start_time": "2024-05-09T07:50:05.132Z"
   },
   {
    "duration": 15,
    "start_time": "2024-05-09T07:50:05.165Z"
   },
   {
    "duration": 3,
    "start_time": "2024-05-09T07:50:05.181Z"
   },
   {
    "duration": 150,
    "start_time": "2024-05-09T07:50:05.186Z"
   },
   {
    "duration": 151,
    "start_time": "2024-05-09T07:50:05.338Z"
   },
   {
    "duration": 167,
    "start_time": "2024-05-09T07:50:05.491Z"
   },
   {
    "duration": 211,
    "start_time": "2024-05-09T07:50:05.659Z"
   },
   {
    "duration": 25,
    "start_time": "2024-05-09T07:50:05.872Z"
   },
   {
    "duration": 47,
    "start_time": "2024-05-09T07:50:05.899Z"
   },
   {
    "duration": 28,
    "start_time": "2024-05-09T07:50:05.949Z"
   },
   {
    "duration": 20,
    "start_time": "2024-05-09T07:50:05.979Z"
   },
   {
    "duration": 46,
    "start_time": "2024-05-09T07:50:06.002Z"
   },
   {
    "duration": 36,
    "start_time": "2024-05-09T07:50:06.049Z"
   },
   {
    "duration": 791,
    "start_time": "2024-05-09T07:52:23.693Z"
   },
   {
    "duration": 64,
    "start_time": "2024-05-09T07:52:24.486Z"
   },
   {
    "duration": 3,
    "start_time": "2024-05-09T07:52:24.551Z"
   },
   {
    "duration": 47,
    "start_time": "2024-05-09T07:52:24.556Z"
   },
   {
    "duration": 6,
    "start_time": "2024-05-09T07:52:24.604Z"
   },
   {
    "duration": 24,
    "start_time": "2024-05-09T07:52:24.612Z"
   },
   {
    "duration": 28,
    "start_time": "2024-05-09T07:52:24.638Z"
   },
   {
    "duration": 8,
    "start_time": "2024-05-09T07:52:24.667Z"
   },
   {
    "duration": 9,
    "start_time": "2024-05-09T07:52:24.676Z"
   },
   {
    "duration": 5,
    "start_time": "2024-05-09T07:52:24.686Z"
   },
   {
    "duration": 8,
    "start_time": "2024-05-09T07:52:24.692Z"
   },
   {
    "duration": 31,
    "start_time": "2024-05-09T07:52:24.701Z"
   },
   {
    "duration": 377,
    "start_time": "2024-05-09T07:52:24.733Z"
   },
   {
    "duration": 5,
    "start_time": "2024-05-09T07:52:25.112Z"
   },
   {
    "duration": 18,
    "start_time": "2024-05-09T07:52:25.119Z"
   },
   {
    "duration": 6,
    "start_time": "2024-05-09T07:52:25.138Z"
   },
   {
    "duration": 86,
    "start_time": "2024-05-09T07:52:25.145Z"
   },
   {
    "duration": 149,
    "start_time": "2024-05-09T07:52:25.233Z"
   },
   {
    "duration": 160,
    "start_time": "2024-05-09T07:52:25.384Z"
   },
   {
    "duration": 110,
    "start_time": "2024-05-09T07:52:25.546Z"
   },
   {
    "duration": 21,
    "start_time": "2024-05-09T07:52:25.657Z"
   },
   {
    "duration": 5,
    "start_time": "2024-05-09T07:52:25.679Z"
   },
   {
    "duration": 19,
    "start_time": "2024-05-09T07:52:25.685Z"
   },
   {
    "duration": 12,
    "start_time": "2024-05-09T07:52:25.705Z"
   },
   {
    "duration": 41,
    "start_time": "2024-05-09T07:52:25.718Z"
   },
   {
    "duration": 19,
    "start_time": "2024-05-09T07:52:25.761Z"
   },
   {
    "duration": 141,
    "start_time": "2024-05-09T07:52:25.781Z"
   },
   {
    "duration": 30,
    "start_time": "2024-05-09T07:52:25.924Z"
   },
   {
    "duration": 16,
    "start_time": "2024-05-09T07:52:25.965Z"
   },
   {
    "duration": 14,
    "start_time": "2024-05-09T07:52:25.983Z"
   },
   {
    "duration": 3,
    "start_time": "2024-05-09T07:52:25.998Z"
   },
   {
    "duration": 174,
    "start_time": "2024-05-09T07:52:26.002Z"
   },
   {
    "duration": 176,
    "start_time": "2024-05-09T07:52:26.178Z"
   },
   {
    "duration": 152,
    "start_time": "2024-05-09T07:52:26.356Z"
   },
   {
    "duration": 175,
    "start_time": "2024-05-09T07:52:26.509Z"
   },
   {
    "duration": 24,
    "start_time": "2024-05-09T07:52:26.685Z"
   },
   {
    "duration": 14,
    "start_time": "2024-05-09T07:52:26.711Z"
   },
   {
    "duration": 38,
    "start_time": "2024-05-09T07:52:26.727Z"
   },
   {
    "duration": 7,
    "start_time": "2024-05-09T07:52:26.767Z"
   },
   {
    "duration": 19,
    "start_time": "2024-05-09T07:52:26.776Z"
   },
   {
    "duration": 26,
    "start_time": "2024-05-09T07:52:26.800Z"
   },
   {
    "duration": 144,
    "start_time": "2024-05-09T07:54:17.413Z"
   },
   {
    "duration": 179,
    "start_time": "2024-05-09T07:56:59.005Z"
   },
   {
    "duration": 13,
    "start_time": "2024-05-09T08:00:05.722Z"
   },
   {
    "duration": 788,
    "start_time": "2024-05-09T08:01:59.114Z"
   },
   {
    "duration": 64,
    "start_time": "2024-05-09T08:01:59.904Z"
   },
   {
    "duration": 3,
    "start_time": "2024-05-09T08:01:59.970Z"
   },
   {
    "duration": 57,
    "start_time": "2024-05-09T08:01:59.974Z"
   },
   {
    "duration": 6,
    "start_time": "2024-05-09T08:02:00.033Z"
   },
   {
    "duration": 32,
    "start_time": "2024-05-09T08:02:00.040Z"
   },
   {
    "duration": 33,
    "start_time": "2024-05-09T08:02:00.074Z"
   },
   {
    "duration": 32,
    "start_time": "2024-05-09T08:02:00.108Z"
   },
   {
    "duration": 36,
    "start_time": "2024-05-09T08:02:00.141Z"
   },
   {
    "duration": 72,
    "start_time": "2024-05-09T08:02:00.179Z"
   },
   {
    "duration": 117,
    "start_time": "2024-05-09T08:02:00.252Z"
   },
   {
    "duration": 52,
    "start_time": "2024-05-09T08:02:00.371Z"
   },
   {
    "duration": 520,
    "start_time": "2024-05-09T08:02:00.425Z"
   },
   {
    "duration": 6,
    "start_time": "2024-05-09T08:02:00.948Z"
   },
   {
    "duration": 108,
    "start_time": "2024-05-09T08:02:00.955Z"
   },
   {
    "duration": 64,
    "start_time": "2024-05-09T08:02:01.064Z"
   },
   {
    "duration": 123,
    "start_time": "2024-05-09T08:02:01.129Z"
   },
   {
    "duration": 133,
    "start_time": "2024-05-09T08:02:01.254Z"
   },
   {
    "duration": 206,
    "start_time": "2024-05-09T08:02:01.389Z"
   },
   {
    "duration": 273,
    "start_time": "2024-05-09T08:02:01.596Z"
   },
   {
    "duration": 15,
    "start_time": "2024-05-09T08:02:01.871Z"
   },
   {
    "duration": 81,
    "start_time": "2024-05-09T08:02:01.887Z"
   },
   {
    "duration": 102,
    "start_time": "2024-05-09T08:02:01.970Z"
   },
   {
    "duration": 96,
    "start_time": "2024-05-09T08:02:02.073Z"
   },
   {
    "duration": 90,
    "start_time": "2024-05-09T08:02:02.176Z"
   },
   {
    "duration": 99,
    "start_time": "2024-05-09T08:02:02.267Z"
   },
   {
    "duration": 242,
    "start_time": "2024-05-09T08:02:02.368Z"
   },
   {
    "duration": 108,
    "start_time": "2024-05-09T08:02:02.611Z"
   },
   {
    "duration": 15,
    "start_time": "2024-05-09T08:02:02.720Z"
   },
   {
    "duration": 51,
    "start_time": "2024-05-09T08:02:02.737Z"
   },
   {
    "duration": 25,
    "start_time": "2024-05-09T08:02:02.790Z"
   },
   {
    "duration": 42,
    "start_time": "2024-05-09T08:02:02.816Z"
   },
   {
    "duration": 8,
    "start_time": "2024-05-09T08:02:02.859Z"
   },
   {
    "duration": 194,
    "start_time": "2024-05-09T08:02:02.868Z"
   },
   {
    "duration": 147,
    "start_time": "2024-05-09T08:02:03.064Z"
   },
   {
    "duration": 134,
    "start_time": "2024-05-09T08:02:03.212Z"
   },
   {
    "duration": 144,
    "start_time": "2024-05-09T08:02:03.347Z"
   },
   {
    "duration": 23,
    "start_time": "2024-05-09T08:02:03.493Z"
   },
   {
    "duration": 15,
    "start_time": "2024-05-09T08:02:03.518Z"
   },
   {
    "duration": 37,
    "start_time": "2024-05-09T08:02:03.535Z"
   },
   {
    "duration": 5,
    "start_time": "2024-05-09T08:02:03.575Z"
   },
   {
    "duration": 11,
    "start_time": "2024-05-09T08:02:03.582Z"
   },
   {
    "duration": 12,
    "start_time": "2024-05-09T08:02:03.594Z"
   },
   {
    "duration": 186,
    "start_time": "2024-05-09T08:03:16.506Z"
   },
   {
    "duration": 799,
    "start_time": "2024-05-09T08:03:22.114Z"
   },
   {
    "duration": 66,
    "start_time": "2024-05-09T08:03:22.915Z"
   },
   {
    "duration": 3,
    "start_time": "2024-05-09T08:03:22.983Z"
   },
   {
    "duration": 57,
    "start_time": "2024-05-09T08:03:22.988Z"
   },
   {
    "duration": 6,
    "start_time": "2024-05-09T08:03:23.046Z"
   },
   {
    "duration": 17,
    "start_time": "2024-05-09T08:03:23.053Z"
   },
   {
    "duration": 5,
    "start_time": "2024-05-09T08:03:23.072Z"
   },
   {
    "duration": 9,
    "start_time": "2024-05-09T08:03:23.079Z"
   },
   {
    "duration": 6,
    "start_time": "2024-05-09T08:03:23.090Z"
   },
   {
    "duration": 4,
    "start_time": "2024-05-09T08:03:23.100Z"
   },
   {
    "duration": 11,
    "start_time": "2024-05-09T08:03:23.106Z"
   },
   {
    "duration": 61,
    "start_time": "2024-05-09T08:03:23.118Z"
   },
   {
    "duration": 347,
    "start_time": "2024-05-09T08:03:23.180Z"
   },
   {
    "duration": 6,
    "start_time": "2024-05-09T08:03:23.528Z"
   },
   {
    "duration": 31,
    "start_time": "2024-05-09T08:03:23.535Z"
   },
   {
    "duration": 8,
    "start_time": "2024-05-09T08:03:23.568Z"
   },
   {
    "duration": 108,
    "start_time": "2024-05-09T08:03:23.578Z"
   },
   {
    "duration": 141,
    "start_time": "2024-05-09T08:03:23.687Z"
   },
   {
    "duration": 161,
    "start_time": "2024-05-09T08:03:23.830Z"
   },
   {
    "duration": 116,
    "start_time": "2024-05-09T08:03:23.993Z"
   },
   {
    "duration": 14,
    "start_time": "2024-05-09T08:03:24.111Z"
   },
   {
    "duration": 4,
    "start_time": "2024-05-09T08:03:24.127Z"
   },
   {
    "duration": 33,
    "start_time": "2024-05-09T08:03:24.133Z"
   },
   {
    "duration": 21,
    "start_time": "2024-05-09T08:03:24.168Z"
   },
   {
    "duration": 6,
    "start_time": "2024-05-09T08:03:24.191Z"
   },
   {
    "duration": 67,
    "start_time": "2024-05-09T08:03:24.199Z"
   },
   {
    "duration": 303,
    "start_time": "2024-05-09T08:03:24.267Z"
   },
   {
    "duration": 223,
    "start_time": "2024-05-09T08:03:24.573Z"
   },
   {
    "duration": 68,
    "start_time": "2024-05-09T08:03:24.798Z"
   },
   {
    "duration": 38,
    "start_time": "2024-05-09T08:03:24.868Z"
   },
   {
    "duration": 67,
    "start_time": "2024-05-09T08:03:24.907Z"
   },
   {
    "duration": 15,
    "start_time": "2024-05-09T08:03:24.975Z"
   },
   {
    "duration": 4,
    "start_time": "2024-05-09T08:03:24.991Z"
   },
   {
    "duration": 292,
    "start_time": "2024-05-09T08:03:24.996Z"
   },
   {
    "duration": 311,
    "start_time": "2024-05-09T08:03:25.289Z"
   },
   {
    "duration": 186,
    "start_time": "2024-05-09T08:03:25.601Z"
   },
   {
    "duration": 198,
    "start_time": "2024-05-09T08:03:25.789Z"
   },
   {
    "duration": 26,
    "start_time": "2024-05-09T08:03:25.989Z"
   },
   {
    "duration": 17,
    "start_time": "2024-05-09T08:03:26.016Z"
   },
   {
    "duration": 37,
    "start_time": "2024-05-09T08:03:26.034Z"
   },
   {
    "duration": 5,
    "start_time": "2024-05-09T08:03:26.073Z"
   },
   {
    "duration": 70,
    "start_time": "2024-05-09T08:03:26.079Z"
   },
   {
    "duration": 7,
    "start_time": "2024-05-09T08:03:26.165Z"
   },
   {
    "duration": 27,
    "start_time": "2024-05-09T08:06:40.360Z"
   },
   {
    "duration": 840,
    "start_time": "2024-05-09T08:08:06.073Z"
   },
   {
    "duration": 66,
    "start_time": "2024-05-09T08:08:06.915Z"
   },
   {
    "duration": 3,
    "start_time": "2024-05-09T08:08:06.982Z"
   },
   {
    "duration": 49,
    "start_time": "2024-05-09T08:08:06.987Z"
   },
   {
    "duration": 6,
    "start_time": "2024-05-09T08:08:07.037Z"
   },
   {
    "duration": 28,
    "start_time": "2024-05-09T08:08:07.045Z"
   },
   {
    "duration": 5,
    "start_time": "2024-05-09T08:08:07.075Z"
   },
   {
    "duration": 8,
    "start_time": "2024-05-09T08:08:07.081Z"
   },
   {
    "duration": 5,
    "start_time": "2024-05-09T08:08:07.091Z"
   },
   {
    "duration": 5,
    "start_time": "2024-05-09T08:08:07.098Z"
   },
   {
    "duration": 7,
    "start_time": "2024-05-09T08:08:07.105Z"
   },
   {
    "duration": 56,
    "start_time": "2024-05-09T08:08:07.114Z"
   },
   {
    "duration": 364,
    "start_time": "2024-05-09T08:08:07.171Z"
   },
   {
    "duration": 6,
    "start_time": "2024-05-09T08:08:07.536Z"
   },
   {
    "duration": 37,
    "start_time": "2024-05-09T08:08:07.544Z"
   },
   {
    "duration": 6,
    "start_time": "2024-05-09T08:08:07.582Z"
   },
   {
    "duration": 87,
    "start_time": "2024-05-09T08:08:07.589Z"
   },
   {
    "duration": 202,
    "start_time": "2024-05-09T08:08:07.678Z"
   },
   {
    "duration": 386,
    "start_time": "2024-05-09T08:08:07.881Z"
   },
   {
    "duration": 228,
    "start_time": "2024-05-09T08:08:08.270Z"
   },
   {
    "duration": 71,
    "start_time": "2024-05-09T08:08:08.500Z"
   },
   {
    "duration": 6,
    "start_time": "2024-05-09T08:08:08.573Z"
   },
   {
    "duration": 25,
    "start_time": "2024-05-09T08:08:08.581Z"
   },
   {
    "duration": 60,
    "start_time": "2024-05-09T08:08:08.608Z"
   },
   {
    "duration": 6,
    "start_time": "2024-05-09T08:08:08.670Z"
   },
   {
    "duration": 23,
    "start_time": "2024-05-09T08:08:08.678Z"
   },
   {
    "duration": 373,
    "start_time": "2024-05-09T08:08:08.703Z"
   },
   {
    "duration": 216,
    "start_time": "2024-05-09T08:08:09.079Z"
   },
   {
    "duration": 13,
    "start_time": "2024-05-09T08:08:09.296Z"
   },
   {
    "duration": 42,
    "start_time": "2024-05-09T08:08:09.365Z"
   },
   {
    "duration": 43,
    "start_time": "2024-05-09T08:08:09.465Z"
   },
   {
    "duration": 71,
    "start_time": "2024-05-09T08:08:09.509Z"
   },
   {
    "duration": 22,
    "start_time": "2024-05-09T08:08:09.582Z"
   },
   {
    "duration": 3,
    "start_time": "2024-05-09T08:08:09.606Z"
   },
   {
    "duration": 384,
    "start_time": "2024-05-09T08:08:09.612Z"
   },
   {
    "duration": 168,
    "start_time": "2024-05-09T08:08:09.998Z"
   },
   {
    "duration": 156,
    "start_time": "2024-05-09T08:08:10.168Z"
   },
   {
    "duration": 167,
    "start_time": "2024-05-09T08:08:10.326Z"
   },
   {
    "duration": 27,
    "start_time": "2024-05-09T08:08:10.494Z"
   },
   {
    "duration": 15,
    "start_time": "2024-05-09T08:08:10.523Z"
   },
   {
    "duration": 39,
    "start_time": "2024-05-09T08:08:10.540Z"
   },
   {
    "duration": 8,
    "start_time": "2024-05-09T08:08:10.580Z"
   },
   {
    "duration": 92,
    "start_time": "2024-05-09T08:08:10.590Z"
   },
   {
    "duration": 11,
    "start_time": "2024-05-09T08:08:10.683Z"
   },
   {
    "duration": 25,
    "start_time": "2024-05-09T08:08:39.488Z"
   },
   {
    "duration": 849,
    "start_time": "2024-05-09T08:09:08.545Z"
   },
   {
    "duration": 65,
    "start_time": "2024-05-09T08:09:09.396Z"
   },
   {
    "duration": 3,
    "start_time": "2024-05-09T08:09:09.462Z"
   },
   {
    "duration": 55,
    "start_time": "2024-05-09T08:09:09.466Z"
   },
   {
    "duration": 6,
    "start_time": "2024-05-09T08:09:09.522Z"
   },
   {
    "duration": 36,
    "start_time": "2024-05-09T08:09:09.529Z"
   },
   {
    "duration": 5,
    "start_time": "2024-05-09T08:09:09.567Z"
   },
   {
    "duration": 8,
    "start_time": "2024-05-09T08:09:09.573Z"
   },
   {
    "duration": 5,
    "start_time": "2024-05-09T08:09:09.583Z"
   },
   {
    "duration": 4,
    "start_time": "2024-05-09T08:09:09.590Z"
   },
   {
    "duration": 9,
    "start_time": "2024-05-09T08:09:09.596Z"
   },
   {
    "duration": 17,
    "start_time": "2024-05-09T08:09:09.606Z"
   },
   {
    "duration": 442,
    "start_time": "2024-05-09T08:09:09.624Z"
   },
   {
    "duration": 5,
    "start_time": "2024-05-09T08:09:10.068Z"
   },
   {
    "duration": 23,
    "start_time": "2024-05-09T08:09:10.075Z"
   },
   {
    "duration": 12,
    "start_time": "2024-05-09T08:09:10.100Z"
   },
   {
    "duration": 94,
    "start_time": "2024-05-09T08:09:10.114Z"
   },
   {
    "duration": 147,
    "start_time": "2024-05-09T08:09:10.209Z"
   },
   {
    "duration": 152,
    "start_time": "2024-05-09T08:09:10.358Z"
   },
   {
    "duration": 110,
    "start_time": "2024-05-09T08:09:10.512Z"
   },
   {
    "duration": 13,
    "start_time": "2024-05-09T08:09:10.623Z"
   },
   {
    "duration": 4,
    "start_time": "2024-05-09T08:09:10.638Z"
   },
   {
    "duration": 31,
    "start_time": "2024-05-09T08:09:10.643Z"
   },
   {
    "duration": 13,
    "start_time": "2024-05-09T08:09:10.675Z"
   },
   {
    "duration": 7,
    "start_time": "2024-05-09T08:09:10.689Z"
   },
   {
    "duration": 12,
    "start_time": "2024-05-09T08:09:10.698Z"
   },
   {
    "duration": 163,
    "start_time": "2024-05-09T08:09:10.711Z"
   },
   {
    "duration": 114,
    "start_time": "2024-05-09T08:09:10.877Z"
   },
   {
    "duration": 14,
    "start_time": "2024-05-09T08:09:10.992Z"
   },
   {
    "duration": 35,
    "start_time": "2024-05-09T08:09:11.007Z"
   },
   {
    "duration": 38,
    "start_time": "2024-05-09T08:09:11.043Z"
   },
   {
    "duration": 15,
    "start_time": "2024-05-09T08:09:11.082Z"
   },
   {
    "duration": 13,
    "start_time": "2024-05-09T08:09:11.098Z"
   },
   {
    "duration": 13,
    "start_time": "2024-05-09T08:09:11.112Z"
   },
   {
    "duration": 151,
    "start_time": "2024-05-09T08:09:11.126Z"
   },
   {
    "duration": 149,
    "start_time": "2024-05-09T08:09:11.278Z"
   },
   {
    "duration": 146,
    "start_time": "2024-05-09T08:09:11.428Z"
   },
   {
    "duration": 169,
    "start_time": "2024-05-09T08:09:11.576Z"
   },
   {
    "duration": 37,
    "start_time": "2024-05-09T08:09:11.747Z"
   },
   {
    "duration": 15,
    "start_time": "2024-05-09T08:09:11.785Z"
   },
   {
    "duration": 20,
    "start_time": "2024-05-09T08:09:11.802Z"
   },
   {
    "duration": 5,
    "start_time": "2024-05-09T08:09:11.824Z"
   },
   {
    "duration": 93,
    "start_time": "2024-05-09T08:09:11.830Z"
   },
   {
    "duration": 6,
    "start_time": "2024-05-09T08:09:11.924Z"
   },
   {
    "duration": 840,
    "start_time": "2024-05-09T08:32:59.158Z"
   },
   {
    "duration": 66,
    "start_time": "2024-05-09T08:33:00.000Z"
   },
   {
    "duration": 3,
    "start_time": "2024-05-09T08:33:00.068Z"
   },
   {
    "duration": 73,
    "start_time": "2024-05-09T08:33:00.072Z"
   },
   {
    "duration": 5,
    "start_time": "2024-05-09T08:33:00.147Z"
   },
   {
    "duration": 40,
    "start_time": "2024-05-09T08:33:00.153Z"
   },
   {
    "duration": 28,
    "start_time": "2024-05-09T08:33:00.194Z"
   },
   {
    "duration": 37,
    "start_time": "2024-05-09T08:33:00.223Z"
   },
   {
    "duration": 67,
    "start_time": "2024-05-09T08:33:00.262Z"
   },
   {
    "duration": 54,
    "start_time": "2024-05-09T08:33:00.331Z"
   },
   {
    "duration": 31,
    "start_time": "2024-05-09T08:33:00.387Z"
   },
   {
    "duration": 49,
    "start_time": "2024-05-09T08:33:00.420Z"
   },
   {
    "duration": 423,
    "start_time": "2024-05-09T08:33:00.471Z"
   },
   {
    "duration": 7,
    "start_time": "2024-05-09T08:33:00.897Z"
   },
   {
    "duration": 66,
    "start_time": "2024-05-09T08:33:00.906Z"
   },
   {
    "duration": 47,
    "start_time": "2024-05-09T08:33:00.973Z"
   },
   {
    "duration": 112,
    "start_time": "2024-05-09T08:33:01.021Z"
   },
   {
    "duration": 148,
    "start_time": "2024-05-09T08:33:01.134Z"
   },
   {
    "duration": 157,
    "start_time": "2024-05-09T08:33:01.283Z"
   },
   {
    "duration": 126,
    "start_time": "2024-05-09T08:33:01.442Z"
   },
   {
    "duration": 14,
    "start_time": "2024-05-09T08:33:01.570Z"
   },
   {
    "duration": 50,
    "start_time": "2024-05-09T08:33:01.585Z"
   },
   {
    "duration": 51,
    "start_time": "2024-05-09T08:33:01.637Z"
   },
   {
    "duration": 26,
    "start_time": "2024-05-09T08:33:01.690Z"
   },
   {
    "duration": 15,
    "start_time": "2024-05-09T08:33:01.717Z"
   },
   {
    "duration": 58,
    "start_time": "2024-05-09T08:33:01.733Z"
   },
   {
    "duration": 196,
    "start_time": "2024-05-09T08:33:01.793Z"
   },
   {
    "duration": 150,
    "start_time": "2024-05-09T08:33:01.991Z"
   },
   {
    "duration": 24,
    "start_time": "2024-05-09T08:33:02.142Z"
   },
   {
    "duration": 34,
    "start_time": "2024-05-09T08:33:02.167Z"
   },
   {
    "duration": 24,
    "start_time": "2024-05-09T08:33:02.203Z"
   },
   {
    "duration": 15,
    "start_time": "2024-05-09T08:33:02.229Z"
   },
   {
    "duration": 15,
    "start_time": "2024-05-09T08:33:02.265Z"
   },
   {
    "duration": 3,
    "start_time": "2024-05-09T08:33:02.282Z"
   },
   {
    "duration": 165,
    "start_time": "2024-05-09T08:33:02.287Z"
   },
   {
    "duration": 155,
    "start_time": "2024-05-09T08:33:02.454Z"
   },
   {
    "duration": 135,
    "start_time": "2024-05-09T08:33:02.611Z"
   },
   {
    "duration": 139,
    "start_time": "2024-05-09T08:33:02.747Z"
   },
   {
    "duration": 23,
    "start_time": "2024-05-09T08:33:02.887Z"
   },
   {
    "duration": 14,
    "start_time": "2024-05-09T08:33:02.911Z"
   },
   {
    "duration": 18,
    "start_time": "2024-05-09T08:33:02.928Z"
   },
   {
    "duration": 5,
    "start_time": "2024-05-09T08:33:02.965Z"
   },
   {
    "duration": 27,
    "start_time": "2024-05-09T08:33:02.971Z"
   },
   {
    "duration": 8,
    "start_time": "2024-05-09T08:33:02.999Z"
   },
   {
    "duration": 281,
    "start_time": "2024-05-09T08:33:34.897Z"
   },
   {
    "duration": 819,
    "start_time": "2024-05-09T08:35:23.088Z"
   },
   {
    "duration": 65,
    "start_time": "2024-05-09T08:35:23.909Z"
   },
   {
    "duration": 2,
    "start_time": "2024-05-09T08:35:23.975Z"
   },
   {
    "duration": 65,
    "start_time": "2024-05-09T08:35:23.979Z"
   },
   {
    "duration": 20,
    "start_time": "2024-05-09T08:35:24.046Z"
   },
   {
    "duration": 11,
    "start_time": "2024-05-09T08:35:24.067Z"
   },
   {
    "duration": 5,
    "start_time": "2024-05-09T08:35:24.080Z"
   },
   {
    "duration": 9,
    "start_time": "2024-05-09T08:35:24.087Z"
   },
   {
    "duration": 5,
    "start_time": "2024-05-09T08:35:24.098Z"
   },
   {
    "duration": 5,
    "start_time": "2024-05-09T08:35:24.104Z"
   },
   {
    "duration": 10,
    "start_time": "2024-05-09T08:35:24.110Z"
   },
   {
    "duration": 46,
    "start_time": "2024-05-09T08:35:24.122Z"
   },
   {
    "duration": 340,
    "start_time": "2024-05-09T08:35:24.170Z"
   },
   {
    "duration": 5,
    "start_time": "2024-05-09T08:35:24.512Z"
   },
   {
    "duration": 54,
    "start_time": "2024-05-09T08:35:24.519Z"
   },
   {
    "duration": 6,
    "start_time": "2024-05-09T08:35:24.575Z"
   },
   {
    "duration": 130,
    "start_time": "2024-05-09T08:35:24.582Z"
   },
   {
    "duration": 280,
    "start_time": "2024-05-09T08:35:24.713Z"
   },
   {
    "duration": 319,
    "start_time": "2024-05-09T08:35:24.994Z"
   },
   {
    "duration": 226,
    "start_time": "2024-05-09T08:35:25.365Z"
   },
   {
    "duration": 16,
    "start_time": "2024-05-09T08:35:25.592Z"
   },
   {
    "duration": 5,
    "start_time": "2024-05-09T08:35:25.609Z"
   },
   {
    "duration": 12,
    "start_time": "2024-05-09T08:35:25.666Z"
   },
   {
    "duration": 18,
    "start_time": "2024-05-09T08:35:25.680Z"
   },
   {
    "duration": 5,
    "start_time": "2024-05-09T08:35:25.699Z"
   },
   {
    "duration": 69,
    "start_time": "2024-05-09T08:35:25.706Z"
   },
   {
    "duration": 248,
    "start_time": "2024-05-09T08:35:25.776Z"
   },
   {
    "duration": 109,
    "start_time": "2024-05-09T08:35:26.025Z"
   },
   {
    "duration": 13,
    "start_time": "2024-05-09T08:35:26.136Z"
   },
   {
    "duration": 24,
    "start_time": "2024-05-09T08:35:26.165Z"
   },
   {
    "duration": 27,
    "start_time": "2024-05-09T08:35:26.190Z"
   },
   {
    "duration": 46,
    "start_time": "2024-05-09T08:35:26.220Z"
   },
   {
    "duration": 15,
    "start_time": "2024-05-09T08:35:26.267Z"
   },
   {
    "duration": 151,
    "start_time": "2024-05-09T08:35:26.283Z"
   },
   {
    "duration": 157,
    "start_time": "2024-05-09T08:35:26.436Z"
   },
   {
    "duration": 149,
    "start_time": "2024-05-09T08:35:26.595Z"
   },
   {
    "duration": 158,
    "start_time": "2024-05-09T08:35:26.746Z"
   },
   {
    "duration": 25,
    "start_time": "2024-05-09T08:35:26.905Z"
   },
   {
    "duration": 14,
    "start_time": "2024-05-09T08:35:26.931Z"
   },
   {
    "duration": 85,
    "start_time": "2024-05-09T08:35:26.965Z"
   },
   {
    "duration": 6,
    "start_time": "2024-05-09T08:35:27.066Z"
   },
   {
    "duration": 5,
    "start_time": "2024-05-09T08:35:27.074Z"
   },
   {
    "duration": 9,
    "start_time": "2024-05-09T08:35:27.080Z"
   },
   {
    "duration": 779,
    "start_time": "2024-05-09T08:37:41.313Z"
   },
   {
    "duration": 65,
    "start_time": "2024-05-09T08:37:42.094Z"
   },
   {
    "duration": 3,
    "start_time": "2024-05-09T08:37:42.160Z"
   },
   {
    "duration": 51,
    "start_time": "2024-05-09T08:37:42.165Z"
   },
   {
    "duration": 6,
    "start_time": "2024-05-09T08:37:42.219Z"
   },
   {
    "duration": 46,
    "start_time": "2024-05-09T08:37:42.226Z"
   },
   {
    "duration": 6,
    "start_time": "2024-05-09T08:37:42.274Z"
   },
   {
    "duration": 10,
    "start_time": "2024-05-09T08:37:42.282Z"
   },
   {
    "duration": 6,
    "start_time": "2024-05-09T08:37:42.293Z"
   },
   {
    "duration": 28,
    "start_time": "2024-05-09T08:37:42.301Z"
   },
   {
    "duration": 13,
    "start_time": "2024-05-09T08:37:42.331Z"
   },
   {
    "duration": 25,
    "start_time": "2024-05-09T08:37:42.346Z"
   },
   {
    "duration": 395,
    "start_time": "2024-05-09T08:37:42.373Z"
   },
   {
    "duration": 7,
    "start_time": "2024-05-09T08:37:42.772Z"
   },
   {
    "duration": 28,
    "start_time": "2024-05-09T08:37:42.781Z"
   },
   {
    "duration": 61,
    "start_time": "2024-05-09T08:37:42.810Z"
   },
   {
    "duration": 131,
    "start_time": "2024-05-09T08:37:42.872Z"
   },
   {
    "duration": 363,
    "start_time": "2024-05-09T08:37:43.005Z"
   },
   {
    "duration": 304,
    "start_time": "2024-05-09T08:37:43.369Z"
   },
   {
    "duration": 217,
    "start_time": "2024-05-09T08:37:43.674Z"
   },
   {
    "duration": 16,
    "start_time": "2024-05-09T08:37:43.892Z"
   },
   {
    "duration": 57,
    "start_time": "2024-05-09T08:37:43.909Z"
   },
   {
    "duration": 15,
    "start_time": "2024-05-09T08:37:43.968Z"
   },
   {
    "duration": 13,
    "start_time": "2024-05-09T08:37:43.984Z"
   },
   {
    "duration": 5,
    "start_time": "2024-05-09T08:37:43.999Z"
   },
   {
    "duration": 67,
    "start_time": "2024-05-09T08:37:44.005Z"
   },
   {
    "duration": 267,
    "start_time": "2024-05-09T08:37:44.073Z"
   },
   {
    "duration": 104,
    "start_time": "2024-05-09T08:37:44.342Z"
   },
   {
    "duration": 18,
    "start_time": "2024-05-09T08:37:44.448Z"
   },
   {
    "duration": 25,
    "start_time": "2024-05-09T08:37:44.467Z"
   },
   {
    "duration": 23,
    "start_time": "2024-05-09T08:37:44.494Z"
   },
   {
    "duration": 50,
    "start_time": "2024-05-09T08:37:44.518Z"
   },
   {
    "duration": 14,
    "start_time": "2024-05-09T08:37:44.569Z"
   },
   {
    "duration": 260,
    "start_time": "2024-05-09T08:37:44.585Z"
   },
   {
    "duration": 0,
    "start_time": "2024-05-09T08:37:44.846Z"
   },
   {
    "duration": 0,
    "start_time": "2024-05-09T08:37:44.848Z"
   },
   {
    "duration": 0,
    "start_time": "2024-05-09T08:37:44.849Z"
   },
   {
    "duration": 0,
    "start_time": "2024-05-09T08:37:44.850Z"
   },
   {
    "duration": 0,
    "start_time": "2024-05-09T08:37:44.850Z"
   },
   {
    "duration": 0,
    "start_time": "2024-05-09T08:37:44.851Z"
   },
   {
    "duration": 0,
    "start_time": "2024-05-09T08:37:44.852Z"
   },
   {
    "duration": 0,
    "start_time": "2024-05-09T08:37:44.853Z"
   },
   {
    "duration": 0,
    "start_time": "2024-05-09T08:37:44.855Z"
   },
   {
    "duration": 138,
    "start_time": "2024-05-09T08:38:14.088Z"
   },
   {
    "duration": 874,
    "start_time": "2024-05-09T08:38:39.240Z"
   },
   {
    "duration": 72,
    "start_time": "2024-05-09T08:38:40.117Z"
   },
   {
    "duration": 4,
    "start_time": "2024-05-09T08:38:40.191Z"
   },
   {
    "duration": 98,
    "start_time": "2024-05-09T08:38:40.197Z"
   },
   {
    "duration": 6,
    "start_time": "2024-05-09T08:38:40.297Z"
   },
   {
    "duration": 64,
    "start_time": "2024-05-09T08:38:40.304Z"
   },
   {
    "duration": 5,
    "start_time": "2024-05-09T08:38:40.370Z"
   },
   {
    "duration": 14,
    "start_time": "2024-05-09T08:38:40.376Z"
   },
   {
    "duration": 5,
    "start_time": "2024-05-09T08:38:40.391Z"
   },
   {
    "duration": 5,
    "start_time": "2024-05-09T08:38:40.398Z"
   },
   {
    "duration": 61,
    "start_time": "2024-05-09T08:38:40.404Z"
   },
   {
    "duration": 16,
    "start_time": "2024-05-09T08:38:40.467Z"
   },
   {
    "duration": 714,
    "start_time": "2024-05-09T08:38:40.485Z"
   },
   {
    "duration": 6,
    "start_time": "2024-05-09T08:38:41.201Z"
   },
   {
    "duration": 74,
    "start_time": "2024-05-09T08:38:41.208Z"
   },
   {
    "duration": 14,
    "start_time": "2024-05-09T08:38:41.283Z"
   },
   {
    "duration": 176,
    "start_time": "2024-05-09T08:38:41.299Z"
   },
   {
    "duration": 191,
    "start_time": "2024-05-09T08:38:41.476Z"
   },
   {
    "duration": 182,
    "start_time": "2024-05-09T08:38:41.669Z"
   },
   {
    "duration": 134,
    "start_time": "2024-05-09T08:38:41.853Z"
   },
   {
    "duration": 14,
    "start_time": "2024-05-09T08:38:41.988Z"
   },
   {
    "duration": 4,
    "start_time": "2024-05-09T08:38:42.004Z"
   },
   {
    "duration": 20,
    "start_time": "2024-05-09T08:38:42.009Z"
   },
   {
    "duration": 14,
    "start_time": "2024-05-09T08:38:42.031Z"
   },
   {
    "duration": 23,
    "start_time": "2024-05-09T08:38:42.047Z"
   },
   {
    "duration": 43,
    "start_time": "2024-05-09T08:38:42.071Z"
   },
   {
    "duration": 144,
    "start_time": "2024-05-09T08:38:42.115Z"
   },
   {
    "duration": 116,
    "start_time": "2024-05-09T08:38:42.264Z"
   },
   {
    "duration": 18,
    "start_time": "2024-05-09T08:38:42.382Z"
   },
   {
    "duration": 25,
    "start_time": "2024-05-09T08:38:42.402Z"
   },
   {
    "duration": 56,
    "start_time": "2024-05-09T08:38:42.429Z"
   },
   {
    "duration": 15,
    "start_time": "2024-05-09T08:38:42.487Z"
   },
   {
    "duration": 13,
    "start_time": "2024-05-09T08:38:42.504Z"
   },
   {
    "duration": 172,
    "start_time": "2024-05-09T08:38:42.518Z"
   },
   {
    "duration": 174,
    "start_time": "2024-05-09T08:38:42.691Z"
   },
   {
    "duration": 171,
    "start_time": "2024-05-09T08:38:42.866Z"
   },
   {
    "duration": 158,
    "start_time": "2024-05-09T08:38:43.039Z"
   },
   {
    "duration": 27,
    "start_time": "2024-05-09T08:38:43.198Z"
   },
   {
    "duration": 15,
    "start_time": "2024-05-09T08:38:43.227Z"
   },
   {
    "duration": 16,
    "start_time": "2024-05-09T08:38:43.266Z"
   },
   {
    "duration": 6,
    "start_time": "2024-05-09T08:38:43.286Z"
   },
   {
    "duration": 6,
    "start_time": "2024-05-09T08:38:43.294Z"
   },
   {
    "duration": 20,
    "start_time": "2024-05-09T08:38:43.301Z"
   },
   {
    "duration": 228,
    "start_time": "2024-05-09T08:39:19.112Z"
   },
   {
    "duration": 16,
    "start_time": "2024-05-09T09:22:45.045Z"
   },
   {
    "duration": 7,
    "start_time": "2024-05-09T09:23:07.234Z"
   },
   {
    "duration": 9,
    "start_time": "2024-05-09T09:23:45.979Z"
   },
   {
    "duration": 45,
    "start_time": "2024-05-09T09:24:38.437Z"
   },
   {
    "duration": 42,
    "start_time": "2024-05-09T09:27:55.709Z"
   },
   {
    "duration": 3,
    "start_time": "2024-05-09T09:28:40.909Z"
   },
   {
    "duration": 30,
    "start_time": "2024-05-09T09:29:30.502Z"
   },
   {
    "duration": 31,
    "start_time": "2024-05-09T09:29:47.855Z"
   },
   {
    "duration": 33,
    "start_time": "2024-05-09T09:30:42.283Z"
   },
   {
    "duration": 88,
    "start_time": "2024-05-09T09:33:07.264Z"
   },
   {
    "duration": 7,
    "start_time": "2024-05-09T09:33:13.519Z"
   },
   {
    "duration": 6,
    "start_time": "2024-05-09T09:33:30.669Z"
   },
   {
    "duration": 6,
    "start_time": "2024-05-09T09:33:35.229Z"
   },
   {
    "duration": 22,
    "start_time": "2024-05-09T09:34:52.876Z"
   },
   {
    "duration": 8,
    "start_time": "2024-05-09T09:35:33.450Z"
   },
   {
    "duration": 7,
    "start_time": "2024-05-09T09:35:38.986Z"
   },
   {
    "duration": 5,
    "start_time": "2024-05-09T09:35:45.627Z"
   },
   {
    "duration": 6,
    "start_time": "2024-05-09T09:35:52.922Z"
   },
   {
    "duration": 36,
    "start_time": "2024-05-09T09:36:08.666Z"
   },
   {
    "duration": 34,
    "start_time": "2024-05-09T09:36:14.330Z"
   },
   {
    "duration": 31,
    "start_time": "2024-05-09T09:36:35.276Z"
   },
   {
    "duration": 31,
    "start_time": "2024-05-09T09:36:47.276Z"
   },
   {
    "duration": 819,
    "start_time": "2024-05-09T09:38:43.281Z"
   },
   {
    "duration": 66,
    "start_time": "2024-05-09T09:38:44.102Z"
   },
   {
    "duration": 3,
    "start_time": "2024-05-09T09:38:44.169Z"
   },
   {
    "duration": 50,
    "start_time": "2024-05-09T09:38:44.173Z"
   },
   {
    "duration": 5,
    "start_time": "2024-05-09T09:38:44.225Z"
   },
   {
    "duration": 34,
    "start_time": "2024-05-09T09:38:44.232Z"
   },
   {
    "duration": 5,
    "start_time": "2024-05-09T09:38:44.267Z"
   },
   {
    "duration": 11,
    "start_time": "2024-05-09T09:38:44.273Z"
   },
   {
    "duration": 5,
    "start_time": "2024-05-09T09:38:44.285Z"
   },
   {
    "duration": 4,
    "start_time": "2024-05-09T09:38:44.292Z"
   },
   {
    "duration": 7,
    "start_time": "2024-05-09T09:38:44.297Z"
   },
   {
    "duration": 17,
    "start_time": "2024-05-09T09:38:44.305Z"
   },
   {
    "duration": 412,
    "start_time": "2024-05-09T09:38:44.323Z"
   },
   {
    "duration": 6,
    "start_time": "2024-05-09T09:38:44.738Z"
   },
   {
    "duration": 36,
    "start_time": "2024-05-09T09:38:44.745Z"
   },
   {
    "duration": 7,
    "start_time": "2024-05-09T09:38:44.782Z"
   },
   {
    "duration": 98,
    "start_time": "2024-05-09T09:38:44.790Z"
   },
   {
    "duration": 153,
    "start_time": "2024-05-09T09:38:44.889Z"
   },
   {
    "duration": 189,
    "start_time": "2024-05-09T09:38:45.043Z"
   },
   {
    "duration": 112,
    "start_time": "2024-05-09T09:38:45.235Z"
   },
   {
    "duration": 19,
    "start_time": "2024-05-09T09:38:45.349Z"
   },
   {
    "duration": 4,
    "start_time": "2024-05-09T09:38:45.370Z"
   },
   {
    "duration": 27,
    "start_time": "2024-05-09T09:38:45.375Z"
   },
   {
    "duration": 12,
    "start_time": "2024-05-09T09:38:45.404Z"
   },
   {
    "duration": 8,
    "start_time": "2024-05-09T09:38:45.418Z"
   },
   {
    "duration": 32,
    "start_time": "2024-05-09T09:38:45.427Z"
   },
   {
    "duration": 148,
    "start_time": "2024-05-09T09:38:45.460Z"
   },
   {
    "duration": 113,
    "start_time": "2024-05-09T09:38:45.609Z"
   },
   {
    "duration": 13,
    "start_time": "2024-05-09T09:38:45.724Z"
   },
   {
    "duration": 43,
    "start_time": "2024-05-09T09:38:45.739Z"
   },
   {
    "duration": 25,
    "start_time": "2024-05-09T09:38:45.783Z"
   },
   {
    "duration": 15,
    "start_time": "2024-05-09T09:38:45.810Z"
   },
   {
    "duration": 39,
    "start_time": "2024-05-09T09:38:45.827Z"
   },
   {
    "duration": 150,
    "start_time": "2024-05-09T09:38:45.867Z"
   },
   {
    "duration": 167,
    "start_time": "2024-05-09T09:38:46.019Z"
   },
   {
    "duration": 166,
    "start_time": "2024-05-09T09:38:46.188Z"
   },
   {
    "duration": 159,
    "start_time": "2024-05-09T09:38:46.356Z"
   },
   {
    "duration": 25,
    "start_time": "2024-05-09T09:38:46.516Z"
   },
   {
    "duration": 31,
    "start_time": "2024-05-09T09:38:46.542Z"
   },
   {
    "duration": 17,
    "start_time": "2024-05-09T09:38:46.574Z"
   },
   {
    "duration": 5,
    "start_time": "2024-05-09T09:38:46.596Z"
   },
   {
    "duration": 5,
    "start_time": "2024-05-09T09:38:46.602Z"
   },
   {
    "duration": 66,
    "start_time": "2024-05-09T09:38:46.608Z"
   },
   {
    "duration": 799,
    "start_time": "2024-05-09T09:52:43.799Z"
   },
   {
    "duration": 76,
    "start_time": "2024-05-09T09:52:44.599Z"
   },
   {
    "duration": 3,
    "start_time": "2024-05-09T09:52:44.677Z"
   },
   {
    "duration": 68,
    "start_time": "2024-05-09T09:52:44.681Z"
   },
   {
    "duration": 6,
    "start_time": "2024-05-09T09:52:44.764Z"
   },
   {
    "duration": 12,
    "start_time": "2024-05-09T09:52:44.772Z"
   },
   {
    "duration": 15,
    "start_time": "2024-05-09T09:52:44.786Z"
   },
   {
    "duration": 21,
    "start_time": "2024-05-09T09:52:44.803Z"
   },
   {
    "duration": 13,
    "start_time": "2024-05-09T09:52:44.825Z"
   },
   {
    "duration": 8,
    "start_time": "2024-05-09T09:52:44.839Z"
   },
   {
    "duration": 9,
    "start_time": "2024-05-09T09:52:44.848Z"
   },
   {
    "duration": 19,
    "start_time": "2024-05-09T09:52:44.858Z"
   },
   {
    "duration": 389,
    "start_time": "2024-05-09T09:52:44.878Z"
   },
   {
    "duration": 6,
    "start_time": "2024-05-09T09:52:45.271Z"
   },
   {
    "duration": 59,
    "start_time": "2024-05-09T09:52:45.278Z"
   },
   {
    "duration": 25,
    "start_time": "2024-05-09T09:52:45.339Z"
   },
   {
    "duration": 77,
    "start_time": "2024-05-09T09:52:45.366Z"
   },
   {
    "duration": 151,
    "start_time": "2024-05-09T09:52:45.445Z"
   },
   {
    "duration": 171,
    "start_time": "2024-05-09T09:52:45.598Z"
   },
   {
    "duration": 123,
    "start_time": "2024-05-09T09:52:45.771Z"
   },
   {
    "duration": 15,
    "start_time": "2024-05-09T09:52:45.895Z"
   },
   {
    "duration": 6,
    "start_time": "2024-05-09T09:52:45.911Z"
   },
   {
    "duration": 21,
    "start_time": "2024-05-09T09:52:45.918Z"
   },
   {
    "duration": 29,
    "start_time": "2024-05-09T09:52:45.941Z"
   },
   {
    "duration": 5,
    "start_time": "2024-05-09T09:52:45.971Z"
   },
   {
    "duration": 13,
    "start_time": "2024-05-09T09:52:45.978Z"
   },
   {
    "duration": 152,
    "start_time": "2024-05-09T09:52:45.992Z"
   },
   {
    "duration": 130,
    "start_time": "2024-05-09T09:52:46.146Z"
   },
   {
    "duration": 14,
    "start_time": "2024-05-09T09:52:46.277Z"
   },
   {
    "duration": 25,
    "start_time": "2024-05-09T09:52:46.292Z"
   },
   {
    "duration": 55,
    "start_time": "2024-05-09T09:52:46.319Z"
   },
   {
    "duration": 16,
    "start_time": "2024-05-09T09:52:46.376Z"
   },
   {
    "duration": 14,
    "start_time": "2024-05-09T09:52:46.393Z"
   },
   {
    "duration": 158,
    "start_time": "2024-05-09T09:52:46.408Z"
   },
   {
    "duration": 170,
    "start_time": "2024-05-09T09:52:46.568Z"
   },
   {
    "duration": 153,
    "start_time": "2024-05-09T09:52:46.740Z"
   },
   {
    "duration": 154,
    "start_time": "2024-05-09T09:52:46.895Z"
   },
   {
    "duration": 31,
    "start_time": "2024-05-09T09:52:47.050Z"
   },
   {
    "duration": 15,
    "start_time": "2024-05-09T09:52:47.083Z"
   },
   {
    "duration": 14,
    "start_time": "2024-05-09T09:52:47.099Z"
   },
   {
    "duration": 6,
    "start_time": "2024-05-09T09:52:47.116Z"
   },
   {
    "duration": 4,
    "start_time": "2024-05-09T09:52:47.124Z"
   },
   {
    "duration": 69,
    "start_time": "2024-05-09T09:52:47.129Z"
   },
   {
    "duration": 265,
    "start_time": "2024-05-09T09:53:47.551Z"
   },
   {
    "duration": 108,
    "start_time": "2024-05-09T09:53:54.479Z"
   },
   {
    "duration": 818,
    "start_time": "2024-05-09T11:49:32.466Z"
   },
   {
    "duration": 66,
    "start_time": "2024-05-09T11:49:33.286Z"
   },
   {
    "duration": 3,
    "start_time": "2024-05-09T11:49:33.354Z"
   },
   {
    "duration": 66,
    "start_time": "2024-05-09T11:49:33.358Z"
   },
   {
    "duration": 22,
    "start_time": "2024-05-09T11:49:33.425Z"
   },
   {
    "duration": 14,
    "start_time": "2024-05-09T11:49:33.449Z"
   },
   {
    "duration": 28,
    "start_time": "2024-05-09T11:49:33.465Z"
   },
   {
    "duration": 11,
    "start_time": "2024-05-09T11:49:33.495Z"
   },
   {
    "duration": 7,
    "start_time": "2024-05-09T11:49:33.507Z"
   },
   {
    "duration": 19,
    "start_time": "2024-05-09T11:49:33.516Z"
   },
   {
    "duration": 15,
    "start_time": "2024-05-09T11:49:33.536Z"
   },
   {
    "duration": 26,
    "start_time": "2024-05-09T11:49:33.553Z"
   },
   {
    "duration": 379,
    "start_time": "2024-05-09T11:49:33.581Z"
   },
   {
    "duration": 5,
    "start_time": "2024-05-09T11:49:33.962Z"
   },
   {
    "duration": 39,
    "start_time": "2024-05-09T11:49:33.969Z"
   },
   {
    "duration": 18,
    "start_time": "2024-05-09T11:49:34.010Z"
   },
   {
    "duration": 90,
    "start_time": "2024-05-09T11:49:34.029Z"
   },
   {
    "duration": 148,
    "start_time": "2024-05-09T11:49:34.121Z"
   },
   {
    "duration": 164,
    "start_time": "2024-05-09T11:49:34.271Z"
   },
   {
    "duration": 127,
    "start_time": "2024-05-09T11:49:34.437Z"
   },
   {
    "duration": 16,
    "start_time": "2024-05-09T11:49:34.566Z"
   },
   {
    "duration": 5,
    "start_time": "2024-05-09T11:49:34.584Z"
   },
   {
    "duration": 15,
    "start_time": "2024-05-09T11:49:34.590Z"
   },
   {
    "duration": 39,
    "start_time": "2024-05-09T11:49:34.607Z"
   },
   {
    "duration": 7,
    "start_time": "2024-05-09T11:49:34.648Z"
   },
   {
    "duration": 14,
    "start_time": "2024-05-09T11:49:34.656Z"
   },
   {
    "duration": 164,
    "start_time": "2024-05-09T11:49:34.672Z"
   },
   {
    "duration": 116,
    "start_time": "2024-05-09T11:49:34.847Z"
   },
   {
    "duration": 13,
    "start_time": "2024-05-09T11:49:34.965Z"
   },
   {
    "duration": 23,
    "start_time": "2024-05-09T11:49:34.979Z"
   },
   {
    "duration": 50,
    "start_time": "2024-05-09T11:49:35.003Z"
   },
   {
    "duration": 16,
    "start_time": "2024-05-09T11:49:35.054Z"
   },
   {
    "duration": 13,
    "start_time": "2024-05-09T11:49:35.072Z"
   },
   {
    "duration": 170,
    "start_time": "2024-05-09T11:49:35.087Z"
   },
   {
    "duration": 164,
    "start_time": "2024-05-09T11:49:35.259Z"
   },
   {
    "duration": 152,
    "start_time": "2024-05-09T11:49:35.425Z"
   },
   {
    "duration": 157,
    "start_time": "2024-05-09T11:49:35.578Z"
   },
   {
    "duration": 30,
    "start_time": "2024-05-09T11:49:35.736Z"
   },
   {
    "duration": 29,
    "start_time": "2024-05-09T11:49:35.767Z"
   },
   {
    "duration": 29,
    "start_time": "2024-05-09T11:49:35.798Z"
   },
   {
    "duration": 6,
    "start_time": "2024-05-09T11:49:35.829Z"
   },
   {
    "duration": 71,
    "start_time": "2024-05-09T11:49:35.836Z"
   },
   {
    "duration": 51,
    "start_time": "2024-05-09T11:49:35.908Z"
   }
  ],
  "kernelspec": {
   "display_name": "Python 3 (ipykernel)",
   "language": "python",
   "name": "python3"
  },
  "language_info": {
   "codemirror_mode": {
    "name": "ipython",
    "version": 3
   },
   "file_extension": ".py",
   "mimetype": "text/x-python",
   "name": "python",
   "nbconvert_exporter": "python",
   "pygments_lexer": "ipython3",
   "version": "3.11.7"
  },
  "toc": {
   "base_numbering": 1,
   "nav_menu": {},
   "number_sections": true,
   "sideBar": true,
   "skip_h1_title": true,
   "title_cell": "Table of Contents",
   "title_sidebar": "Contents",
   "toc_cell": false,
   "toc_position": {
    "height": "calc(100% - 180px)",
    "left": "10px",
    "top": "150px",
    "width": "165px"
   },
   "toc_section_display": true,
   "toc_window_display": true
  }
 },
 "nbformat": 4,
 "nbformat_minor": 5
}
